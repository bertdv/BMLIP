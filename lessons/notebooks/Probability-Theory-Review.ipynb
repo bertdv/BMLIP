{
 "cells": [
  {
   "cell_type": "markdown",
   "metadata": {
    "slideshow": {
     "slide_type": "slide"
    }
   },
   "source": [
    "# Probability Theory Review"
   ]
  },
  {
   "attachments": {},
   "cell_type": "markdown",
   "metadata": {
    "slideshow": {
     "slide_type": "slide"
    }
   },
   "source": [
    "### Preliminaries\n",
    "\n",
    "- Goal \n",
    "  - Review of Probability Theory as a theory for rational/logical reasoning with uncertainties (i.e., a Bayesian interpretation)\n",
    "- Materials        \n",
    "  - Mandatory\n",
    "    - These lecture notes\n",
    "  - Optional\n",
    "    - Bishop pp. 12-24\n",
    "    - [Ariel Caticha, Entropic Inference and the Foundations of Physics (2012)](https://github.com/bertdv/BMLIP/blob/master/lessons/notebooks/files/Caticha-2012-Entropic-Inference-and-the-Foundations-of-Physics.pdf), pp.7-56 (ch.2: probability)\n",
    "      - Great introduction to probability theory, in particular w.r.t. its correct interpretation as a state-of-knowledge.\n",
    "      - Absolutely worth your time to read the whole chapter, even if you skip section 2.2.4 (pp.15-18) on Cox's proof.\n",
    "    - [Edwin Jaynes, Probability Theory--The Logic of Science (2003)](http://www.med.mcgill.ca/epidemiology/hanley/bios601/GaussianModel/JaynesProbabilityTheory.pdf). \n",
    "      - Brilliant book on Bayesian view on probability theory. Just for fun, scan the annotated bibliography and references.\n",
    "    - [Aubrey Clayton, Bernoulli's Fallacy--Statistical Illogic and the Crisis of Modern Science (2021)](https://aubreyclayton.com/bernoulli)\n",
    "      - A very readable account on the history of statistics and probability theory. Discusses why most popular statistics recipes are very poor scientific analysis tools. Use probability theory instead!"
   ]
  },
  {
   "cell_type": "markdown",
   "metadata": {},
   "source": [
    "### [Data Analysis: A Bayesian Tutorial](https://www.amazon.com/Data-Analysis-Bayesian-Devinderjit-Sivia/dp/0198568320)\n",
    "\n",
    "- The following is an excerpt from the book [Data Analysis: A Bayesian Tutorial](https://www.amazon.com/Data-Analysis-Bayesian-Devinderjit-Sivia/dp/0198568320) (2006), by D.S. Sivia with J.S. Skilling:\n",
    "\n",
    "<p style=\"text-align:center;\"><img src=\"./figures/preface-data-analysis-a-Bayesian-tutorial.png\" width=\"600px\"></p>\n",
    "\n",
    "- Does this fragment resonate with your own experience? \n",
    "\n",
    "- In this lesson we introduce *Probability Theory* (PT) again. As we will see in the next lessons, PT is all you need to make sense of machine learning, artificial intelligence, statistics, etc. \n"
   ]
  },
  {
   "cell_type": "markdown",
   "metadata": {
    "slideshow": {
     "slide_type": "slide"
    }
   },
   "source": [
    "### Example Problem: Disease Diagnosis\n",
    "\n",
    "- **Problem**: Given a disease with prevalence of  1%  and a test procedure  with sensitivity ('true positive' rate) of  95%  and specificity ('true negative' rate) of  85% , what is the chance that somebody who tests positive actually has the disease?"
   ]
  },
  {
   "cell_type": "markdown",
   "metadata": {
    "slideshow": {
     "slide_type": "fragment"
    }
   },
   "source": [
    "- **Solution**: Use probabilistic inference, to be discussed in this lecture. "
   ]
  },
  {
   "cell_type": "markdown",
   "metadata": {
    "slideshow": {
     "slide_type": "slide"
    }
   },
   "source": [
    "### The Design of Probability Theory\n",
    "\n",
    "- Define an **event** (or \"proposition\") $A$ as a statement that can be considered for its truth by a person. For instance, \n",
    "\n",
    "$$𝐴= \\texttt{'there is life on Mars'}$$"
   ]
  },
  {
   "cell_type": "markdown",
   "metadata": {
    "slideshow": {
     "slide_type": "fragment"
    }
   },
   "source": [
    "- If we assume the fact $$I = \\texttt{'All known life forms require water'}$$ as background information, and a new piece of information $$x = \\texttt{'There is water on Mars'}$$ becomes available, how _should_ our degree of belief in event $A$ be affected _if we were rational_? "
   ]
  },
  {
   "cell_type": "markdown",
   "metadata": {
    "slideshow": {
     "slide_type": "subslide"
    }
   },
   "source": [
    "- [Richard T. Cox (1946)](https://aapt.scitation.org/doi/10.1119/1.1990764) developed a **calculus for rational reasoning** about how to represent and update the degree of _beliefs_ about the truth value of events when faced with new information.  "
   ]
  },
  {
   "cell_type": "markdown",
   "metadata": {
    "slideshow": {
     "slide_type": "fragment"
    }
   },
   "source": [
    "- In developing this calculus, only some very agreeable assumptions were made, including:\n",
    "  - (Representation). Degrees of rational belief (or, as we shall later call them, probabilities) about the truth value of propositions are represented by real numbers.\n",
    "  - (Transitivity). If the belief in $A$ is greater than the belief in $B$, and the belief in $B$ is greater than the belief in $C$, then the belief in $A$ must be greater than the belief in $C$.\n",
    "  - (Consistency). If the belief in an event can be inferred in two different ways, then the two ways must agree on the resulting belief."
   ]
  },
  {
   "cell_type": "markdown",
   "metadata": {
    "slideshow": {
     "slide_type": "subslide"
    }
   },
   "source": [
    "- This effort resulted in confirming that the **sum and product rules of Probability Theory** [(to be discussed below)](#PT-calculus) are the **only** proper rational way to process belief intensities. "
   ]
  },
  {
   "cell_type": "markdown",
   "metadata": {
    "slideshow": {
     "slide_type": "fragment"
    }
   },
   "source": [
    "- $\\Rightarrow$ Probability theory (PT) provides the **theory of optimal processing of incomplete information** (see [Cox theorem](https://en.wikipedia.org/wiki/Cox%27s_theorem), and [Caticha](https://github.com/bertdv/BMLIP/blob/master/lessons/notebooks/files/Caticha-2012-Entropic-Inference-and-the-Foundations-of-Physics.pdf), pp.7-24)."
   ]
  },
  {
   "cell_type": "markdown",
   "metadata": {
    "slideshow": {
     "slide_type": "slide"
    }
   },
   "source": [
    "### Why Probability Theory for Machine Learning?\n",
    "\n",
    "- Machine learning concerns updating our beliefs about appropriate settings for model parameters from new information (namely a data set), and therefore PT provides the _optimal calculus for machine learning_. "
   ]
  },
  {
   "cell_type": "markdown",
   "metadata": {
    "slideshow": {
     "slide_type": "fragment"
    }
   },
   "source": [
    "- In general, nearly all interesting questions in machine learning (and information processing in general) can be stated in the following form (a conditional probability):\n",
    "\n",
    "$$p(\\texttt{whatever-we-want-to-know}\\, | \\,\\texttt{whatever-we-do-know})$$\n",
    "\n",
    "where $p(a|b)$ means the probability that $a$ is true, given that $b$ is true."
   ]
  },
  {
   "cell_type": "markdown",
   "metadata": {
    "slideshow": {
     "slide_type": "fragment"
    }
   },
   "source": [
    "- Examples\n",
    "\n",
    "  - Predictions\n",
    "  $$p(\\,\\texttt{future-observations}\\,|\\,\\texttt{past-observations}\\,)$$\n",
    "  - Classify a received data point $x$ \n",
    "  $$p(\\,x\\texttt{-belongs-to-class-}k \\,|\\,x\\,)$$\n",
    "  - Update a model based on a new observation\n",
    "   $$p(\\,\\texttt{model-parameters} \\,|\\,\\texttt{new-observation},\\,\\texttt{past-observations}\\,)$$"
   ]
  },
  {
   "cell_type": "markdown",
   "metadata": {
    "slideshow": {
     "slide_type": "slide"
    }
   },
   "source": [
    "### Frequentist vs. Bayesian Interpretation of Probabilities\n",
    "\n",
    "- The interpretation of a probability as a **degree-of-belief** about the truth value of an event is also called the **Bayesian** interpretation.  "
   ]
  },
  {
   "cell_type": "markdown",
   "metadata": {
    "slideshow": {
     "slide_type": "fragment"
    }
   },
   "source": [
    "- In the **Bayesian** interpretation, the probability is associated with a **state-of-knowledge** (usually held by a person, but formally by a rational agent). \n",
    "  - For instance, in a coin tossing experiment, $p(\\texttt{tail}) = 0.4$ should be interpreted as the belief that there is a 40% chance that $\\texttt{tail}$ comes up if the coin were tossed.\n",
    "  - Under the Bayesian interpretation, PT calculus (sum and product rules) **extends boolean logic to rational reasoning with uncertainty**. "
   ]
  },
  {
   "cell_type": "markdown",
   "metadata": {
    "slideshow": {
     "slide_type": "subslide"
    }
   },
   "source": [
    "- The Bayesian interpretation contrasts with the **frequentist** interpretation of a probability as the relative frequency that an event would occur under repeated execution of an experiment.\n",
    "\n",
    "  - For instance, if the experiment is tossing a coin, then $p(\\texttt{tail}) = 0.4$ means that in the limit of a large number of coin tosses, 40% of outcomes turn up as $\\texttt{tail}$.     "
   ]
  },
  {
   "cell_type": "markdown",
   "metadata": {
    "slideshow": {
     "slide_type": "fragment"
    }
   },
   "source": [
    "- The Bayesian viewpoint is more generally applicable than the frequentist viewpoint, e.g., it is hard to apply the frequentist viewpoint to events like '$\\texttt{it will rain tomorrow}$'. "
   ]
  },
  {
   "cell_type": "markdown",
   "metadata": {
    "slideshow": {
     "slide_type": "fragment"
    }
   },
   "source": [
    "- The Bayesian viewpoint is clearly favored in the machine learning community. (In this class, we also strongly favor the Bayesian interpretation). "
   ]
  },
  {
   "cell_type": "markdown",
   "metadata": {},
   "source": [
    "- Aubrey Clayton, in his wonderful book [Bernoulli's fallacy](https://aubreyclayton.com/bernoulli) (2021), writes about this issue: \n",
    "\n",
    "  > “Compared with Bayesian methods, standard [frequentist] statistical techniques use only a small fraction of the available information about a research hypothesis (how well it predicts some observation), so naturally they will struggle when that limited information proves inadequate. Using standard statistical methods is like driving a car at night on a poorly lit highway: to keep from going in a ditch, we could build an elaborate system of bumpers and guardrails and equip the car with lane departure warnings and sophisticated navigation systems, and even then we could at best only drive to a few destinations. Or we could turn on the headlights.” "
   ]
  },
  {
   "cell_type": "markdown",
   "metadata": {},
   "source": [
    "- In this class, we aim to turn on the headlights and illuminate the elegance and power of the Bayesian approach to information processing. "
   ]
  },
  {
   "cell_type": "markdown",
   "metadata": {
    "slideshow": {
     "slide_type": "slide"
    }
   },
   "source": [
    "### Events\n",
    "\n",
    "- Technically, a probability expresses a degree-of-belief in the truth value of an event. Let's first define an event. \n",
    " \n",
    "- We define an **event** $A$ as a statement, whose truth can be contemplated by a person, e.g.,\n",
    "\n",
    "$$A = \\text{`it will rain tomorrow'}$$\n",
    " "
   ]
  },
  {
   "cell_type": "markdown",
   "metadata": {
    "slideshow": {
     "slide_type": "fragment"
    }
   },
   "source": [
    "- We write the denial of $A$, i.e. the event **not**-A, as $\\bar{A}$. "
   ]
  },
  {
   "cell_type": "markdown",
   "metadata": {
    "slideshow": {
     "slide_type": "fragment"
    }
   },
   "source": [
    "- Events can be logically combined to create new events. Given two events $A$ and $B$, we will shortly write the **conjunction** (logical-and) $A \\wedge B$ as $A,B$ or $AB$. The conjunction $AB$ is true only if both $A$ and $B$ are true. "
   ]
  },
  {
   "cell_type": "markdown",
   "metadata": {
    "slideshow": {
     "slide_type": "fragment"
    }
   },
   "source": [
    "- We will write the **disjunction** (logical-or) $A \\lor B$ also as $A + B$, which is true if either $A$ or $B$ is true or both $A$ and $B$ are true. (Note that the plus-sign is not an arithmetic here but rather a logical operator to process truth values). "
   ]
  },
  {
   "cell_type": "markdown",
   "metadata": {
    "slideshow": {
     "slide_type": "subslide"
    }
   },
   "source": [
    "### Probability\n",
    "\n",
    "- For any event $A$, with background knowledge $I$, the **conditional probability of $A$ given $I$**, is written as \n",
    "$$p(A|I)\\,.$$"
   ]
  },
  {
   "cell_type": "markdown",
   "metadata": {},
   "source": [
    "- $p(A|I)$ indicates the degree-of-belief in event $A$, given that $I$ is true. "
   ]
  },
  {
   "cell_type": "markdown",
   "metadata": {
    "slideshow": {
     "slide_type": "fragment"
    }
   },
   "source": [
    "- In principle, all probabilities are conditional probabilities of the type $p(A|I)$, since there is always some background knowledge. However, we often write $p(A)$ rather than $p(A|I)$ if the background knowledge $I$ is assumed to be obviously present. E.g., we usually write $p(A)$ rather than $p(\\,A\\,|\\,\\text{the-sun-comes-up-tomorrow}\\,)$."
   ]
  },
  {
   "cell_type": "markdown",
   "metadata": {},
   "source": [
    "- The expression $p(A,B)$ is called the **joint probability** of events $A$ and $B$. Note that $p(A,B) = p(B,A)$, since $AB=BA$. Therefore the order of arguments in a joint probability distribution does not matter: $p(A,B,C,D) = p(C,A,D,B)$, etc."
   ]
  },
  {
   "cell_type": "markdown",
   "metadata": {
    "slideshow": {
     "slide_type": "fragment"
    }
   },
   "source": [
    "- Note that, if $X$ is a variable, then an _assignment_ $X=x$ (where $x$ is a value, e.g., $X=5$) can be interpreted as an event. Hence, the expression $p(X=5)$ should be interpreted as the degree-of-belief that variable $X$ takes on the value $5$. "
   ]
  },
  {
   "cell_type": "markdown",
   "metadata": {
    "slideshow": {
     "slide_type": "fragment"
    }
   },
   "source": [
    "- If $X$ is a *discretely* valued variable, then $p(X=x)$ is a probability *mass* function (PMF) with $0\\le p(X=x)\\le 1$ and normalization $\\sum_x p(x) =1$. "
   ]
  },
  {
   "cell_type": "markdown",
   "metadata": {
    "slideshow": {
     "slide_type": "fragment"
    }
   },
   "source": [
    "- If $X$ is *continuously* valued, then $p(X=x)$ is a probability *density* function (PDF) with $p(X=x)\\ge 0$  and normalization $\\int_x p(x)\\mathrm{d}x=1$. \n",
    "  - Note that if $X$ is continuously valued, then the value of $p(x)$ is not necessarily $\\le 1$. E.g., a uniform distribution on the continuous domain $[0,.5]$ has value $p(x) = 2$."
   ]
  },
  {
   "attachments": {},
   "cell_type": "markdown",
   "metadata": {
    "slideshow": {
     "slide_type": "fragment"
    }
   },
   "source": [
    "- The notational conventions in PT are unfortunately a bit sloppy:( For instance, in the context of a variable $X$, we often write $p(x)$ rather than $p(X=x)$, assuming that the reader understands the context.  "
   ]
  },
  {
   "cell_type": "markdown",
   "metadata": {
    "slideshow": {
     "slide_type": "slide"
    }
   },
   "source": [
    "### <a id=\"PT-calculus\">Probability Theory Calculus</a>\n",
    " \n",
    " "
   ]
  },
  {
   "cell_type": "markdown",
   "metadata": {
    "slideshow": {
     "slide_type": "fragment"
    }
   },
   "source": [
    "- The following product and sum rules are also known as the **axioms of probability theory**, but as discussed above, under some mild assumptions, they can be derived as the unique rules for *rational reasoning under uncertainty* ([Cox theorem, 1946](https://en.wikipedia.org/wiki/Cox%27s_theorem), and [Caticha, 2012](https://github.com/bertdv/BMLIP/blob/master/lessons/notebooks/files/Caticha-2012-Entropic-Inference-and-the-Foundations-of-Physics.pdf), pp.7-26)."
   ]
  },
  {
   "cell_type": "markdown",
   "metadata": {
    "slideshow": {
     "slide_type": "fragment"
    }
   },
   "source": [
    "- **Sum rule**. The disjunction of two events $A$ and $B$ with given background $I$ is \n",
    "$$ \\boxed{p(A+B|I) = p(A|I) + p(B|I) - p(A,B|I)}$$\n",
    "  "
   ]
  },
  {
   "cell_type": "markdown",
   "metadata": {
    "slideshow": {
     "slide_type": "fragment"
    }
   },
   "source": [
    "- **Product rule**. The conjuction of two events $A$ and $B$ with given background $I$ is\n",
    "\n",
    "$$ \\boxed{p(A,B|I) = p(A|B,I)\\,p(B|I)}$$\n",
    "  \n",
    " "
   ]
  },
  {
   "cell_type": "markdown",
   "metadata": {
    "slideshow": {
     "slide_type": "fragment"
    }
   },
   "source": [
    "- PT extends (propositional) logic in reasoning about the truth value of events. Logic reasons about the truth value of events on the binary domain {0,1} (FALSE and TRUE), whereas PT extends the range to degrees-of-belief, represented by real numbers in [0,1]."
   ]
  },
  {
   "cell_type": "markdown",
   "metadata": {},
   "source": [
    "\n",
    "- **All legitimate probabilistic relations can be derived from the sum and product rules!**\n"
   ]
  },
  {
   "cell_type": "markdown",
   "metadata": {
    "slideshow": {
     "slide_type": "slide"
    }
   },
   "source": [
    "### Independent, Exclusive and Exhaustive Events\n",
    "\n",
    "- It will be helpful to introduce some terms concerning special relationships between events.  \n",
    "\n",
    "- Two events $A$ and $B$ are said to be **independent** if the probability of one event is not altered by information about the truth of the other event, i.e., $$p(A|B) = p(A)\\,.$$\n",
    "  - $\\Rightarrow$ If $A$ and $B$ are independent, then the product rule simplifies to $$p(A,B) = p(A) p(B)\\,.$$\n",
    "  - $A$ and $B$ with given background $I$ are said to be **conditionally independent** if $p(A|B,I) = p(A|I)$. In that case, the product rule simplifies to $p(A,B|I) = p(A|I) p(B|I)$."
   ]
  },
  {
   "cell_type": "markdown",
   "metadata": {
    "slideshow": {
     "slide_type": "fragment"
    }
   },
   "source": [
    "- Two events $A_1$ and $A_2$ are said to be **mutually exclusive** ('disjoint') if they cannot be true simultanously, i.e., if $p(A_1,A_2)=0$.\n",
    "  - $\\Rightarrow$ For mutually exclusive events, probability adds (this follows from the sum rule):\n",
    "  $$p(A_1+A_2) = p(A_1) + p(A_2)$$        "
   ]
  },
  {
   "cell_type": "markdown",
   "metadata": {
    "slideshow": {
     "slide_type": "fragment"
    }
   },
   "source": [
    "- A set of events $A_1, A_2, \\ldots, A_N$ is said to be **collectively exhaustive** if one of the statements is necessarily true, i.e., $A_1+A_2+\\cdots +A_N=\\mathrm{TRUE}$, or equivalently \n",
    "$$p(A_1+A_2+\\cdots +A_N)=1$$\n"
   ]
  },
  {
   "cell_type": "markdown",
   "metadata": {
    "slideshow": {
     "slide_type": "fragment"
    }
   },
   "source": [
    "- If a set of events $A_1, A_2, \\ldots, A_n$ are both **mutually exclusive** and **collectively exhausitive** events, then we say that they **partition the universe**. Technically, this means that\n",
    "    $$\\sum_{n=1}^N p(A_n) = p(A_1 + \\ldots + A_N) = 1$$\n",
    "\n",
    "<!--- - More generally, if $\\{A_n\\}$ are MECE events, then $\\sum_{n=1}^N p(A_n,B) = p(B)$ --->"
   ]
  },
  {
   "cell_type": "markdown",
   "metadata": {},
   "source": [
    "- We mentioned before that every inference problem in PT can be evaluated through the sum and product rules. Next, we present two useful corollaries: (1) _Marginalization_ and (2) _Bayes rule_. "
   ]
  },
  {
   "cell_type": "markdown",
   "metadata": {
    "slideshow": {
     "slide_type": "slide"
    }
   },
   "source": [
    "### Marginalization\n"
   ]
  },
  {
   "attachments": {},
   "cell_type": "markdown",
   "metadata": {
    "slideshow": {
     "slide_type": "fragment"
    }
   },
   "source": [
    "- Let $A$ and $B_1,B_2,\\ldots,B_n$ be events, where $B_1,B_2,\\ldots,B_n$ partitions the universe. Then\n",
    "\n",
    "$$\\sum_{i=1}^n p(A,B_i) = p(A) \\,.\n",
    "$$\n",
    "- This rule is called the [law of total probability](https://en.wikipedia.org/wiki/Law_of_total_probability). Proof:\n",
    " \n",
    "  $$\\begin{align*}\n",
    "  \\sum_i p(A,B_i) &= p(\\sum_i AB_i)  &&\\quad \\text{(since all $AB_i$ are disjoint)}\\\\\n",
    "  &= p(A,\\sum_i B_i) \\\\\n",
    "  &= p(A,\\text{TRUE}) &&\\quad \\text{(since $B_i$ are exhaustive)} \\\\\n",
    "  &= p(A)\n",
    "  \\end{align*}$$"
   ]
  },
  {
   "cell_type": "markdown",
   "metadata": {
    "slideshow": {
     "slide_type": "fragment"
    }
   },
   "source": [
    "- A very practical application of this law is to get rid of a variable that we are not interested in. For instance, if $X$ and $Y \\in \\{y_1,y_2,\\ldots,y_n\\}$ are discrete variables, then\n",
    "$$p(X) = \\sum_{i=1}^n p(X,Y=y_i)\\,.$$"
   ]
  },
  {
   "cell_type": "markdown",
   "metadata": {},
   "source": [
    "- Summing $Y$ out of a joint distribution $p(X,Y)$ is called **marginalization** and the result $p(X)$ is sometimes referred to as the **marginal probability** of $X$. "
   ]
  },
  {
   "cell_type": "markdown",
   "metadata": {
    "slideshow": {
     "slide_type": "fragment"
    }
   },
   "source": [
    "- Note that marginalization can be understood as applying a \"generalized\" sum rule. Bishop (p.14) and some other authors also refer to this as the sum rule, but we do not follow that terminology."
   ]
  },
  {
   "cell_type": "markdown",
   "metadata": {
    "slideshow": {
     "slide_type": "fragment"
    }
   },
   "source": [
    "- Of course, in the continuous domain, marginalization becomes\n",
    "$$p(X)=\\int_Y p(X,Y) \\,\\mathrm{d}Y$$"
   ]
  },
  {
   "cell_type": "markdown",
   "metadata": {
    "slideshow": {
     "slide_type": "slide"
    }
   },
   "source": [
    "### <a id=\"Bayes-rule\">Bayes Rule</a>\n",
    "\n",
    "- Consider two variables $D$ and $\\theta$. It follows from symmetry arguments that \n",
    "$p(D,\\theta)=p(\\theta,D)$, and hence that\n",
    "$$p(D|\\theta)p(\\theta)=p(\\theta|D)p(D)$$ \n",
    "or, equivalently,\n",
    "$$ p(\\theta|D) = \\frac{p(D|\\theta) }{p(D)}p(\\theta)\\,.\\qquad \\text{(Bayes rule)}$$ "
   ]
  },
  {
   "cell_type": "markdown",
   "metadata": {
    "slideshow": {
     "slide_type": "fragment"
    }
   },
   "source": [
    "- This last formula is called **Bayes rule**, named after its inventor [Thomas Bayes](https://en.wikipedia.org/wiki/Thomas_Bayes) (1701-1761). While Bayes rule is always true, a particularly useful application occurs when $D$ refers to an observed data set and $\\theta$ is set of unobserved model parameters. In that case,\n",
    "\n",
    "  - the **prior** probability $p(\\theta)$ represents our **state-of-knowledge** about proper values for $\\theta$, before seeing the data $D$.\n",
    "  - the **posterior** probability $p(\\theta|D)$ represents our state-of-knowledge about $\\theta$ after we have seen the data."
   ]
  },
  {
   "cell_type": "markdown",
   "metadata": {
    "slideshow": {
     "slide_type": "fragment"
    }
   },
   "source": [
    "$\\Rightarrow$ Bayes rule tells us how to update our knowledge about model parameters when facing new data. Hence, \n",
    "\n",
    "<center>\n",
    "<span style=\"font-size:large; color:red\">\n",
    "Bayes rule is the fundamental rule for learning from data!\n",
    "</span>\n",
    "</center>"
   ]
  },
  {
   "cell_type": "markdown",
   "metadata": {
    "slideshow": {
     "slide_type": "slide"
    }
   },
   "source": [
    "### Bayes Rule Nomenclature\n",
    "- Some nomenclature associated with Bayes rule:\n",
    "$$\n",
    "\\underbrace{p(\\theta | D)}_{\\text{posterior}} = \\frac{\\overbrace{p(D|\\theta)}^{\\text{likelihood}} \\times \\overbrace{p(\\theta)}^{\\text{prior}}}{\\underbrace{p(D)}_{\\text{evidence}}}\n",
    "$$"
   ]
  },
  {
   "cell_type": "markdown",
   "metadata": {
    "slideshow": {
     "slide_type": "fragment"
    }
   },
   "source": [
    "- Note that the evidence (a.k.a. _marginal likelihood_ ) can be computed from the numerator through marginalization since\n",
    "$$ p(D) = \\int p(D,\\theta) \\,\\mathrm{d}\\theta = \\int p(D|\\theta)\\,p(\\theta) \\,\\mathrm{d}\\theta$$"
   ]
  },
  {
   "cell_type": "markdown",
   "metadata": {
    "slideshow": {
     "slide_type": "subslide"
    }
   },
   "source": [
    "- Hence, having access to likelihood and prior is in principle sufficient to compute both the evidence and the posterior. To emphasize that point, Bayes rule is sometimes written as a transformation:\n",
    "\n",
    "$$ \\underbrace{\\underbrace{p(\\theta|D)}_{\\text{posterior}}\\cdot \\underbrace{p(D)}_{\\text{evidence}}}_{\\text{this is what we want to compute}} = \\underbrace{\\underbrace{p(D|\\theta)}_{\\text{likelihood}}\\cdot \\underbrace{p(\\theta)}_{\\text{prior}}}_{\\text{this is available}}$$ \n"
   ]
  },
  {
   "cell_type": "markdown",
   "metadata": {
    "slideshow": {
     "slide_type": "fragment"
    }
   },
   "source": [
    "- For a given data set $D$, the posterior probabilities of the parameters scale relatively against each other as\n",
    "\n",
    "$$\n",
    "p(\\theta|D) \\propto p(D|\\theta) p(\\theta)\n",
    "$$\n",
    "\n",
    "- $\\Rightarrow$ All that we can learn from the observed data is contained in the likelihood function $p(D|\\theta)$. This is called the **likelihood principle**."
   ]
  },
  {
   "cell_type": "markdown",
   "metadata": {
    "slideshow": {
     "slide_type": "slide"
    }
   },
   "source": [
    "### The Likelihood Function vs the Sampling Distribution\n",
    "\n",
    "- Consider a distribution $p(D|\\theta)$, where $D$ relates to variables that are observed (i.e., a \"data set\") and $\\theta$ are model parameters."
   ]
  },
  {
   "cell_type": "markdown",
   "metadata": {
    "slideshow": {
     "slide_type": "fragment"
    }
   },
   "source": [
    "- In general, $p(D|\\theta)$ is just a function of the two variables $D$ and $\\theta$. We distinguish two interpretations of this function, depending on which variable is observed (or given by other means). "
   ]
  },
  {
   "cell_type": "markdown",
   "metadata": {
    "slideshow": {
     "slide_type": "fragment"
    }
   },
   "source": [
    "-  The **sampling distribution** (a.k.a. the **data-generating** distribution) $$p(D|\\theta=\\theta_0)$$ (which is a function of $D$ only) describes a probability distribution for data $D$, assuming that it is generated by the given model with parameters fixed at $\\theta = \\theta_0$."
   ]
  },
  {
   "cell_type": "markdown",
   "metadata": {
    "slideshow": {
     "slide_type": "fragment"
    }
   },
   "source": [
    "- In a machine learning context, often the data is observed, and $\\theta$ is the free variable. In that case, for given observations $D=D_0$, the **likelihood function** (which is a function only of the model parameters $\\theta$) is defined as $$\\mathrm{L}(\\theta) \\triangleq p(D=D_0|\\theta)$$"
   ]
  },
  {
   "cell_type": "markdown",
   "metadata": {
    "slideshow": {
     "slide_type": "fragment"
    }
   },
   "source": [
    "- Note that $\\mathrm{L}(\\theta)$ is not a probability distribution for $\\theta$ since in general $\\sum_\\theta \\mathrm{L}(\\theta) \\neq 1$."
   ]
  },
  {
   "cell_type": "markdown",
   "metadata": {
    "slideshow": {
     "slide_type": "slide"
    }
   },
   "source": [
    "### Code Example: Sampling Distribution and Likelihood Function for the Coin Toss\n",
    "\n",
    "- Consider the following simple model for the outcome (head or tail) $y \\in \\{0,1\\}$ of a biased coin toss with parameter $\\theta \\in [0,1]$:\n",
    "\n",
    "$$\\begin{align*}\n",
    "p(y|\\theta) = \\theta^y (1-\\theta)^{1-y}\\\\\n",
    "\\end{align*}$$\n",
    "\n",
    "- Next, we use Julia to plot both the sampling distribution $$p(y|\\theta=0.5) = \\begin{cases} 0.5 & \\text{if }y=0 \\\\ 0.5 & \\text{if } y=1 \\end{cases}$$ and the likelihood function $$L(\\theta) = p(y=1|\\theta) = \\theta \\,.$$"
   ]
  },
  {
   "cell_type": "code",
   "execution_count": 1,
   "metadata": {},
   "outputs": [],
   "source": [
    "using Pkg; Pkg.activate(\"../.\"); Pkg.instantiate();\n",
    "using IJulia; try IJulia.clear_output(); catch _ end"
   ]
  },
  {
   "cell_type": "code",
   "execution_count": null,
   "metadata": {},
   "outputs": [],
   "source": [
    "using Plots\n",
    "using LaTeXStrings\n",
    "\n",
    "f(y,θ) = θ.^y .* (1 .- θ).^(1 .- y) # p(y|θ)\n",
    "\n",
    "θ = 0.5\n",
    "p1 = plot([0,1], f([0,1], θ), \n",
    "  line=:stem, marker=:circle, xrange=(-0.5, 1.5), yrange=(0,1), title=\"Sampling Distribution\", xlabel=\"y\", ylabel=L\"p(y|θ=%$θ)\", label=\"\")\n",
    "\n",
    "_θ = 0:0.01:1\n",
    "y=1\n",
    "p2 = plot(_θ, f(y, _θ), \n",
    "  ylabel=L\"p(y=%$y | θ)\", xlabel=L\"θ\", title=\"Likelihood Function\", label=\"\")\n",
    "\n",
    "plot(p1, p2)"
   ]
  },
  {
   "cell_type": "markdown",
   "metadata": {
    "slideshow": {
     "slide_type": "fragment"
    }
   },
   "source": [
    "- The (discrete) sampling distribution is a valid probability distribution. \n",
    "However, the likelihood function $L(\\theta)$ clearly isn't, since $\\int_0^1 L(\\theta) \\mathrm{d}\\theta \\neq 1$. \n"
   ]
  },
  {
   "cell_type": "markdown",
   "metadata": {
    "slideshow": {
     "slide_type": "slide"
    }
   },
   "source": [
    "### Probabilistic Inference\n",
    "\n",
    "- **Probabilistic inference** refers to computing\n",
    "$$\n",
    "p(\\,\\text{whatever-we-want-to-know}\\, | \\,\\text{whatever-we-already-know}\\,)\n",
    "$$\n",
    "  - For example: \n",
    "  $$\\begin{align*}\n",
    " p(\\,\\text{Mr.S.-killed-Mrs.S.} \\;&|\\; \\text{he-has-her-blood-on-his-shirt}\\,) \\\\\n",
    " p(\\,\\text{transmitted-codeword} \\;&|\\;\\text{received-codeword}\\,) \n",
    "  \\end{align*}$$"
   ]
  },
  {
   "cell_type": "markdown",
   "metadata": {
    "slideshow": {
     "slide_type": "fragment"
    }
   },
   "source": [
    "- This can be accomplished by repeated application of sum and product rules."
   ]
  },
  {
   "cell_type": "markdown",
   "metadata": {
    "slideshow": {
     "slide_type": "fragment"
    }
   },
   "source": [
    "- In particular, consider a joint distribution $p(X,Y,Z)$. Assume we are interested in $p(X|Z)$:\n",
    "$$\\begin{align*}\n",
    "p(X|Z) \\stackrel{p}{=} \\frac{p(X,Z)}{p(Z)} \\stackrel{s}{=} \\frac{\\sum_Y p(X,Y,Z)}{\\sum_{X,Y} p(X,Y,Z)} \\,,\n",
    "\\end{align*}$$\n",
    "where the 's' and 'p' above the equality sign indicate whether the sum or product rule was used. "
   ]
  },
  {
   "cell_type": "markdown",
   "metadata": {
    "slideshow": {
     "slide_type": "fragment"
    }
   },
   "source": [
    "- In the rest of this course, we'll encounter many long probabilistic derivations. For each manipulation, you should be able to associate an 's' (for sum rule), a 'p' (for product or Bayes rule) or an 'm' (for a simplifying model assumption) above any equality sign."
   ]
  },
  {
   "cell_type": "markdown",
   "metadata": {
    "slideshow": {
     "slide_type": "slide"
    }
   },
   "source": [
    "### Working out the example problem: Disease Diagnosis\n",
    "\n",
    "- **Problem**: Given a disease $D$ with prevalence of $1\\%$ and a test procedure $T$ with sensitivity ('true positive' rate) of $95\\%$ and specificity ('true negative' rate) of $85\\%$, what is the chance that somebody who tests positive actually has the disease?"
   ]
  },
  {
   "cell_type": "markdown",
   "metadata": {
    "slideshow": {
     "slide_type": "fragment"
    }
   },
   "source": [
    "- **Solution**: The given information is $p(D=1)=0.01$, $p(T=1|D=1)=0.95$ and $p(T=0|D=0)=0.85$. We are asked to derive $p( D=1 | T=1)$. We just follow the sum and product rules to derive the requested probability:\n",
    "\n",
    "$$\\begin{align*}\n",
    "p( D=1 &| T=1) \\\\\n",
    "&\\stackrel{p}{=} \\frac{p(T=1,D=1)}{p(T=1)} \\\\\n",
    "&\\stackrel{p}{=} \\frac{p(T=1|D=1)p(D=1)}{p(T=1)} \\\\\n",
    "&\\stackrel{s}{=} \\frac{p(T=1|D=1)p(D=1)}{p(T=1|D=1)p(D=1)+p(T=1|D=0)p(D=0)} \\\\\n",
    "&= \\frac{0.95\\times0.01}{0.95\\times0.01 + 0.15\\times0.99} = 0.0601\n",
    "\\end{align*}$$"
   ]
  },
  {
   "cell_type": "markdown",
   "metadata": {},
   "source": [
    "- Note that $p(\\text{sick}|\\text{positive test}) = 0.06$ while $p(\\text{positive test} | \\text{sick}) = 0.95$. This is a huge difference that is sometimes called the \"medical test paradox\" or the [base rate fallacy](https://en.wikipedia.org/wiki/Base_rate_fallacy). \n",
    "\n",
    "- Many people have trouble distinguishing $p(A|B)$ from $p(B|A)$ in their heads. This has led to major negative consequences. For instance, unfounded convictions in the legal arena and even lots of unfounded conclusions in the pursuit of scientific results. See [Ioannidis (2005)](https://journals.plos.org/plosmedicine/article?id=10.1371/journal.pmed.0020124) and [Clayton (2021)](https://aubreyclayton.com/bernoulli)."
   ]
  },
  {
   "cell_type": "markdown",
   "metadata": {
    "slideshow": {
     "slide_type": "slide"
    }
   },
   "source": [
    "### Inference Exercise: Bag Counter\n",
    "\n",
    "- **Problem**:  A bag contains one ball, known to be either white or black. A white ball is put in, the bag is shaken,\n",
    " and a ball is drawn out, which proves to be white. What is now the\n",
    " chance of drawing a white ball?\n",
    " "
   ]
  },
  {
   "cell_type": "markdown",
   "metadata": {
    "slideshow": {
     "slide_type": "fragment"
    }
   },
   "source": [
    "- **Solution**: Again, use Bayes and marginalization to arrive at $p(\\text{white}|\\text{data})=2/3$, see the [Exercises](https://nbviewer.org/github/bertdv/BMLIP/blob/master/lessons/exercises/Exercises-Probability-Theory-Review.ipynb) notebook.\n",
    "\n",
    "- $\\Rightarrow$ Note that probabilities describe **a person's state of knowledge** rather than a 'property of nature'."
   ]
  },
  {
   "cell_type": "markdown",
   "metadata": {
    "slideshow": {
     "slide_type": "slide"
    }
   },
   "source": [
    "### Inference Exercise: Causality?\n",
    "\n",
    "- **Problem**: A dark bag contains five red balls and seven green ones. (a) What is the probability of drawing a red ball on the first draw? Balls are not returned to the bag after each draw. (b) If you know that on the second draw the ball was a green one, what is now the probability of drawing a red ball on the first draw?"
   ]
  },
  {
   "cell_type": "markdown",
   "metadata": {
    "slideshow": {
     "slide_type": "fragment"
    }
   },
   "source": [
    "- **Solution**: (a) $5/12$. (b) $5/11$, see the [Exercises](https://nbviewer.org/github/bertdv/BMLIP/blob/master/lessons/exercises/Exercises-Probability-Theory-Review.ipynb) notebook.\n",
    "\n",
    "- $\\Rightarrow$ Again, we conclude that conditional probabilities reflect **implications for a state of knowledge** rather than temporal causality."
   ]
  },
  {
   "cell_type": "markdown",
   "metadata": {
    "slideshow": {
     "slide_type": "slide"
    }
   },
   "source": [
    "### Moments of the PDF\n",
    "\n",
    "- Distributions can often usefully be summarized by a set of values known as moments of the distribution.  \n",
    "\n",
    "- Consider a distribution $p(x)$. The first moment, also known as **expected value** or **mean** of $p(x)$ is defined as \n",
    "$$\\mu_x = \\mathbb{E}[x] \\triangleq  \\int x \\,p(x) \\,\\mathrm{d}{x}$$ "
   ]
  },
  {
   "cell_type": "markdown",
   "metadata": {
    "slideshow": {
     "slide_type": "fragment"
    }
   },
   "source": [
    "- The second central moment, also known as **variance** of $x$ is defined as \n",
    "$$\\Sigma_x \\triangleq \\mathbb{E} \\left[(x-\\mu_x)(x-\\mu_x)^T \\right]$$ "
   ]
  },
  {
   "cell_type": "markdown",
   "metadata": {
    "slideshow": {
     "slide_type": "fragment"
    }
   },
   "source": [
    "- The **covariance** matrix between _vectors_ $x$ and $y$ is a mixed central moment, defined as\n",
    "$$\\begin{align*}\n",
    "    \\Sigma_{xy} &\\triangleq \\mathbb{E}\\left[ (x-\\mu_x) (y-\\mu_y)^T \\right]\\\\\n",
    "    &= \\mathbb{E}\\left[ (x-\\mu_x) (y^T-\\mu_y^T) \\right]\\\\\n",
    "    &= \\mathbb{E}[x y^T] - \\mu_x \\mu_y^T\n",
    "\\end{align*}$$\n",
    "\n",
    "\n",
    "\n",
    "- Clearly, if $x$ and $y$ are independent, then $\\Sigma_{xy} = 0$, since in that case $\\mathbb{E}[x y^T] = \\mathbb{E}[x] \\mathbb{E}[y^T] = \\mu_x \\mu_y^T$.\n",
    "\n",
    "- Exercise: Proof that $\\Sigma_{xy} = \\Sigma_{yx}^{T}$ (making use of $(AB)^T = B^TA^T$)."
   ]
  },
  {
   "cell_type": "markdown",
   "metadata": {
    "slideshow": {
     "slide_type": "slide"
    }
   },
   "source": [
    "\n",
    "### <a id=\"linear-transformation\">Linear Transformations</a> \n",
    "\n",
    "- Consider an arbitrary distribution $p(X)$ with mean $\\mu_x$ and variance $\\Sigma_x$ and the linear transformation $$Z = A X + b \\,.$$ \n",
    "\n",
    "- No matter the specification of $p(X)$, we can derive that (see [Exercises](https://nbviewer.org/github/bertdv/BMLIP/blob/master/lessons/exercises/Exercises-Probability-Theory-Review.ipynb) notebook)\n",
    "$$\\begin{align*}\n",
    "\\mu_z &= A\\mu_x + b &\\qquad \\text{(SRG-3a)}\\\\\n",
    "\\Sigma_z &= A\\,\\Sigma_x\\,A^T &\\qquad \\text{(SRG-3b)}\n",
    "\\end{align*}$$\n",
    "  -  (The tag (SRG-3a) refers to the corresponding eqn number in Sam Roweis' [Gaussian identities](https://github.com/bertdv/BMLIP/blob/master/lessons/notebooks/files/Roweis-1999-gaussian-identities.pdf) notes.)\n",
    "\n",
    "\n"
   ]
  },
  {
   "cell_type": "markdown",
   "metadata": {
    "slideshow": {
     "slide_type": "slide"
    }
   },
   "source": [
    "### PDF for the Sum of Two Variables\n",
    "\n",
    "\n",
    "- Given eqs SRG-3a and SRG-3b (previous cell), you should now be able to derive the following: for any distribution of variable $X$ and $Y$ and sum $Z = X+Y$ (proof by [Exercise](https://nbviewer.org/github/bertdv/BMLIP/blob/master/lessons/exercises/Exercises-Probability-Theory-Review.ipynb))\n",
    "\n",
    "$$\\begin{align*}\n",
    "    \\mu_z &= \\mu_x + \\mu_y \\\\\n",
    "    \\Sigma_z &= \\Sigma_x + \\Sigma_y + 2\\Sigma_{xy} \n",
    "\\end{align*}$$"
   ]
  },
  {
   "cell_type": "markdown",
   "metadata": {
    "slideshow": {
     "slide_type": "fragment"
    }
   },
   "source": [
    "- Clearly, it follows that if $X$ and $Y$ are **independent**, then\n",
    "\n",
    "$$\\Sigma_z = \\Sigma_x + \\Sigma_y $$"
   ]
  },
  {
   "cell_type": "markdown",
   "metadata": {
    "slideshow": {
     "slide_type": "fragment"
    }
   },
   "source": [
    "- More generally, given two **independent** variables\n",
    "$X$ and $Y$, with PDF's $p_x(x)$ and $p_y(y)$. The PDF $p_z(z)$ for $Z=X+Y$ is given by the **convolution**\n",
    "\n",
    "$$\n",
    "p_z (z) = \\int  {p_x (x)p_y (z - x)\\,\\mathrm{d}{x}}\n",
    "$$ "
   ]
  },
  {
   "cell_type": "markdown",
   "metadata": {
    "slideshow": {
     "slide_type": "fragment"
    }
   },
   "source": [
    "- **Proof**: Let $p_z(z)$ be the probability that $Z$ has value $z$. This occurs if $X$ has some value $x$ and at the same time $Y=z-x$, with joint probability $p_x(x)p_y(z-x)$. Since $x$ can be any value, we sum over all possible values for $x$ to get\n",
    "$\n",
    "p_z (z) = \\int  {p_x (x)p_y (z - x)\\,\\mathrm{d}{x}}\n",
    "$    \n",
    "  \n",
    "  - Note that $p_z(z) \\neq p_x(x) + p_y(y)\\,$ !!\n",
    " "
   ]
  },
  {
   "cell_type": "markdown",
   "metadata": {
    "slideshow": {
     "slide_type": "fragment"
    }
   },
   "source": [
    "- [https://en.wikipedia.org/wiki/List_of_convolutions_of_probability_distributions](https://en.wikipedia.org/wiki/List_of_convolutions_of_probability_distributions) shows how these convolutions work out for a few common probability distributions. "
   ]
  },
  {
   "cell_type": "markdown",
   "metadata": {
    "slideshow": {
     "slide_type": "fragment"
    }
   },
   "source": [
    "<!---\n",
    "- In linear stochastic systems theory, the Fourier Transform of a PDF (i.e., the characteristic function) plays an important computational role. Why?\n",
    "--->"
   ]
  },
  {
   "cell_type": "markdown",
   "metadata": {
    "slideshow": {
     "slide_type": "slide"
    }
   },
   "source": [
    "### Code Example: Sum of Two Gaussian Distributed Variables\n",
    "\n",
    "- Consider two independent Gaussian-distributed variables $X$ and $Y$ (see [wiki:normal-distribution](https://en.wikipedia.org/wiki/Normal_distribution) for definition of a Gaussian (=Normal) distribution):\n",
    "\n",
    "$$\\begin{align*}\n",
    "p_X(x) &= \\mathcal{N}(\\,x\\,|\\,\\mu_X,\\sigma_X^2\\,) \\\\ \n",
    "p_Y(y) &= \\mathcal{N}(\\,y\\,|\\,\\mu_Y,\\sigma_Y^2\\,) \n",
    "\\end{align*}$$\n",
    "\n",
    "- Let $Z = X + Y$. Performing the convolution (nice exercise) yields a Gaussian PDF for $Z$: \n",
    "\n",
    "$$\n",
    "p_Z(z) = \\mathcal{N}(\\,z\\,|\\,\\mu_X+\\mu_Y,\\sigma_X^2+\\sigma_Y^2\\,).\n",
    "$$\n",
    "\n",
    "- We illustrate the distributions for $X$, $Y$ and $Z$ using Julia:"
   ]
  },
  {
   "cell_type": "code",
   "execution_count": null,
   "metadata": {},
   "outputs": [],
   "source": [
    "using Plots, Distributions, LaTeXStrings\n",
    "\n",
    "μx = 2.\n",
    "σx = 1.\n",
    "μy = 2.\n",
    "σy = 0.5\n",
    "μz = μx+μy; σz = sqrt(σx^2 + σy^2)\n",
    "x = Normal(μx, σx)\n",
    "y = Normal(μy, σy)\n",
    "z = Normal(μz, σz)\n",
    "range_min = minimum([μx-2*σx, μy-2*σy, μz-2*σz])\n",
    "range_max = maximum([μx+2*σx, μy+2*σy, μz+2*σz])\n",
    "range_grid = range(range_min, stop=range_max, length=100)\n",
    "plot(range_grid, pdf.(x,range_grid), label=L\"p_x\", fill=(0, 0.1))\n",
    "plot!(range_grid, pdf.(y,range_grid), label=L\"p_y\", fill=(0, 0.1))\n",
    "plot!(range_grid, pdf.(z,range_grid), label=L\"p_z\", fill=(0, 0.1))"
   ]
  },
  {
   "attachments": {},
   "cell_type": "markdown",
   "metadata": {
    "slideshow": {
     "slide_type": "slide"
    }
   },
   "source": [
    "### PDF for the Product of Two Variables\n",
    "\n",
    "- For two continuous **independent** variables\n",
    "$X$ and $Y$, with PDF's $p_x(x)$ and $p_y(y)$, the PDF of \n",
    "$Z = X Y $ is given by \n",
    "$$\n",
    "p_z(z) = \\int_{-\\infty}^{\\infty} p_x(x) \\,p_y(z/x)\\, \\frac{1}{|x|}\\,\\mathrm{d}x\\,.\n",
    "$$\n",
    "\n",
    "- For proof, see [https://en.wikipedia.org/wiki/Product_distribution](https://en.wikipedia.org/wiki/Product_distribution)."
   ]
  },
  {
   "cell_type": "markdown",
   "metadata": {
    "slideshow": {
     "slide_type": "fragment"
    }
   },
   "source": [
    "- Generally, this integral does not lead to an analytical expression for $p_z(z)$. \n",
    "\n",
    "- For example, [the product of two independent variables that are both Gaussian-distributed does not lead to a Gaussian distribution](https://nbviewer.jupyter.org/github/bertdv/BMLIP/blob/master/lessons/notebooks/The-Gaussian-Distribution.ipynb#product-of-gaussians).\n",
    "  - Exception: the distribution of the product of two variables that both have [log-normal distributions](https://en.wikipedia.org/wiki/Log-normal_distribution) is again a lognormal distribution. (If $X$ has a normal distribution, then $Y=\\exp(X)$ has a log-normal distribution.)"
   ]
  },
  {
   "attachments": {},
   "cell_type": "markdown",
   "metadata": {
    "slideshow": {
     "slide_type": "slide"
    }
   },
   "source": [
    "### Variable Transformations\n",
    "\n",
    "- Suppose $x$ is a **discrete** variable with probability **mass** function $P_x(x)$, and $y = h(x)$ is a one-to-one function with $x = g(y) = h^{-1}(y)$. Then\n",
    "\n",
    "$$\n",
    "P_y(y) = P_x(g(y))\\,.\n",
    "$$"
   ]
  },
  {
   "cell_type": "markdown",
   "metadata": {
    "slideshow": {
     "slide_type": "fragment"
    }
   },
   "source": [
    "- **Proof**: $P_y(\\hat{y}) = P(y=\\hat{y}) = P(h(x)=\\hat{y}) = P(x=g(\\hat{y})) = P_x(g(\\hat{y})). \\,\\square$"
   ]
  },
  {
   "cell_type": "markdown",
   "metadata": {
    "slideshow": {
     "slide_type": "fragment"
    }
   },
   "source": [
    "- If $x$ is defined on a **continuous** domain, and $p_x(x)$ is a probability **density** function, then probability mass is represented by the area under a (density) curve. Let $a=g(c)$ and $b=g(d)$. Then\n",
    "$$\\begin{align*}\n",
    "P(a ≤ x ≤ b) &= \\int_a^b p_x(x)\\mathrm{d}x \\\\\n",
    "  &= \\int_{g(c)}^{g(d)} p_x(x)\\mathrm{d}x \\\\\n",
    "  &= \\int_c^d p_x(g(y))\\mathrm{d}g(y) \\\\\n",
    "  &= \\int_c^d \\underbrace{p_x(g(y)) g^\\prime(y)}_{p_y(y)}\\mathrm{d}y \\\\  \n",
    "  &= P(c ≤ y ≤ d)\n",
    "\\end{align*}$$\n",
    "\n",
    "- Equating the two probability masses leads to identification of the relation \n",
    "$$p_y(y) = p_x(g(y)) g^\\prime(y)\\,,$$ \n",
    "which is also known as the [Change-of-Variable theorem](https://en.wikipedia.org/wiki/Probability_density_function#Function_of_random_variables_and_change_of_variables_in_the_probability_density_function). \n",
    "\n",
    "- If the tranformation $y = h(x)$ is not invertible, then $x=g(y)$ does not exist. In that case, you can still work out the transformation by equating equivalent probability masses in the two domains. "
   ]
  },
  {
   "cell_type": "markdown",
   "metadata": {
    "slideshow": {
     "slide_type": "slide"
    }
   },
   "source": [
    "### Example: Transformation of a Gaussian Variable\n",
    "\n",
    "- Let $p_x(x) = \\mathcal{N}(x|\\mu,\\sigma^2)$ and $y = \\frac{x-\\mu}{\\sigma}$. \n",
    "\n",
    "- **Problem**: What is $p_y(y)$? \n",
    "\n",
    "- **Solution**: Note that $h(x)$ is invertible with $x = g(y) = \\sigma y + \\mu$. The change-of-variable formula leads to\n",
    "$$\\begin{align*}\n",
    "p_y(y) &= p_x(g(y)) \\cdot g^\\prime(y) \\\\\n",
    "  &= p_x(\\sigma y + \\mu) \\cdot \\sigma \\\\\n",
    "  &= \\frac{1}{\\sigma\\sqrt(2 \\pi)} \\exp\\left( - \\frac{(\\sigma y + \\mu - \\mu)^2}{2\\sigma^2}\\right) \\cdot \\sigma \\\\\n",
    "  &=  \\frac{1}{\\sqrt(2 \\pi)} \\exp\\left( - \\frac{y^2 }{2}\\right)\\\\\n",
    "  &= \\mathcal{N}(y|0,1) \n",
    "\\end{align*}$$"
   ]
  },
  {
   "cell_type": "markdown",
   "metadata": {},
   "source": [
    "### A Notational Convention\n",
    "\n",
    "- Finally, here is a notational convention that you should be precise about (but many authors are not).\n",
    "\n",
    "- If you want to write that a variable $x$ is distributed as a Gaussian with mean $\\mu$ and covariance matrix $\\Sigma$, you can write this properly in either of two ways:\n",
    "$$\\begin{align*} \n",
    "p(x) &= \\mathcal{N}(x|\\mu,\\Sigma) \\\\\n",
    "x &\\sim \\mathcal{N}(\\mu,\\Sigma)\n",
    "\\end{align*}$$\n",
    "\n",
    "- In the second version, the symbol $\\sim$ can be interpreted as \"is distributed as\" (a Gaussian with parameters $\\mu$ and $\\Sigma$).\n",
    "\n",
    "- Don't write $p(x) = \\mathcal{N}(\\mu,\\Sigma)$ because $p(x)$ is a function of $x$ but $\\mathcal{N}(\\mu,\\Sigma)$ is not. \n",
    "\n",
    "- Also, $x \\sim \\mathcal{N}(x|\\mu,\\Sigma)$ is not proper because you already named the argument at the right-hand-site. On the other hand, $x \\sim \\mathcal{N}(\\cdot|\\mu,\\Sigma)$ is fine, as is the shorter $x \\sim \\mathcal{N}(\\mu,\\Sigma)$.\n"
   ]
  },
  {
   "cell_type": "markdown",
   "metadata": {
    "slideshow": {
     "slide_type": "slide"
    }
   },
   "source": [
    "### Summary\n",
    "\n",
    "- Probabilities should be interpretated as degrees of belief, i.e., a state-of-knowledge, rather than a property of nature."
   ]
  },
  {
   "cell_type": "markdown",
   "metadata": {
    "slideshow": {
     "slide_type": "fragment"
    }
   },
   "source": [
    "- We can do everything with only the **sum rule** and the **product rule**. In practice, **Bayes rule** and **marginalization** are often very useful for inference, i.e., for computing\n",
    "\n",
    "$$p(\\,\\text{what-we-want-to-know}\\,|\\,\\text{what-we-already-know}\\,)\\,.$$"
   ]
  },
  {
   "cell_type": "markdown",
   "metadata": {
    "slideshow": {
     "slide_type": "fragment"
    }
   },
   "source": [
    "- Bayes rule $$ p(\\theta|D) = \\frac{p(D|\\theta)p(\\theta)} {p(D)} $$ is the fundamental rule for learning from data!"
   ]
  },
  {
   "cell_type": "markdown",
   "metadata": {
    "slideshow": {
     "slide_type": "fragment"
    }
   },
   "source": [
    "- For a variable $X$ with distribution $p(X)$ with mean $\\mu_x$ and variance $\\Sigma_x$, the mean and variance of the **Linear Transformation** $Z = AX +b$ is given by \n",
    "$$\\begin{align}\n",
    "\\mu_z &= A\\mu_x + b \\tag{SRG-3a}\\\\\n",
    "\\Sigma_z &= A\\,\\Sigma_x\\,A^T \\tag{SRG-3b}\n",
    "\\end{align}$$"
   ]
  },
  {
   "cell_type": "markdown",
   "metadata": {
    "slideshow": {
     "slide_type": "fragment"
    }
   },
   "source": [
    "- That's really about all you need to know about probability theory, but you need to _really_ know it, so do the [Exercises](https://nbviewer.org/github/bertdv/BMLIP/blob/master/lessons/exercises/Exercises-Probability-Theory-Review.ipynb)!"
   ]
  },
  {
   "cell_type": "code",
   "execution_count": null,
   "metadata": {
    "slideshow": {
     "slide_type": "skip"
    }
   },
   "outputs": [],
   "source": [
    "open(\"../../styles/aipstyle.html\") do f\n",
    "    display(\"text/html\", read(f,String))\n",
    "end"
   ]
  }
 ],
 "metadata": {
  "@webio": {
   "lastCommId": null,
   "lastKernelId": null
  },
  "anaconda-cloud": {},
  "celltoolbar": "Slideshow",
  "kernelspec": {
   "display_name": "Julia 1.10.2",
   "language": "julia",
   "name": "julia-1.10"
  },
  "language_info": {
   "file_extension": ".jl",
   "mimetype": "application/julia",
   "name": "julia",
   "version": "1.10.2"
  },
  "widgets": {
   "state": {
    "0c9c7079-a918-4ed4-ad45-8de3d7874019": {
     "views": [
      {
       "cell_index": 12
      }
     ]
    },
    "261fa34c-df0a-4604-a2ff-35a9cb4d9fb2": {
     "views": [
      {
       "cell_index": 20
      }
     ]
    },
    "42bb27af-6a2c-4a24-bcd3-1d8b8aec035c": {
     "views": [
      {
       "cell_index": 20
      }
     ]
    },
    "50e83b63-be9e-4e83-987a-8b3ee9bbabd6": {
     "views": [
      {
       "cell_index": 20
      }
     ]
    },
    "8053293d-ebc1-46b4-ac1c-afeb3a53d190": {
     "views": [
      {
       "cell_index": 20
      }
     ]
    },
    "f496660b-92e4-41a4-a67b-b3ca19795f03": {
     "views": [
      {
       "cell_index": 12
      }
     ]
    }
   },
   "version": "1.2.0"
  }
 },
 "nbformat": 4,
 "nbformat_minor": 4
}
