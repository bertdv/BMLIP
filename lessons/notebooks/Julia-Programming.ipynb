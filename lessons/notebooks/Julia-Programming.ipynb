{
 "cells": [
  {
   "cell_type": "markdown",
   "metadata": {
    "nbgrader": {
     "grade": false,
     "grade_id": "cell-e39dce2363a3b28b",
     "locked": true,
     "schema_version": 3,
     "solution": false,
     "task": false
    }
   },
   "source": [
    "# Programming in Julia\n",
    "\n",
    "This notebook will teach you some of the basic programming routines in Julia. You will need these skills to complete the probabilistic programming assignments later on in the course. We will assume basic familiarity with programming, such as for-loops, if-else statements and function definitions.\n",
    "\n",
    "Resources:\n",
    "- [Julia documentation](https://docs.julialang.org/en/v1/)\n",
    "- [Differences to Python, Matlab, C and Java](https://docs.julialang.org/en/v1/manual/noteworthy-differences/)\n",
    "- [Video on getting started](https://www.youtube.com/watch?v=4igzy3bGVkQ&list=PLP8iPy9hna6SCcFv3FvY_qjAmtTsNYHQE)"
   ]
  },
  {
   "cell_type": "markdown",
   "metadata": {
    "nbgrader": {
     "grade": false,
     "grade_id": "cell-3c2e8eba10e12225",
     "locked": true,
     "schema_version": 3,
     "solution": false,
     "task": false
    }
   },
   "source": [
    "## Data types\n",
    "\n",
    "- References: [Numbers](https://docs.julialang.org/en/v1/base/numbers/), [Integers and Float](https://docs.julialang.org/en/v1/manual/integers-and-floating-point-numbers/), [Strings](https://docs.julialang.org/en/v1/base/strings/).\n",
    "\n",
    "Numbers in Julia have specific types, most notably `Integer`, `Real` and `Complex`. It is important to be aware of what type your numbers are because many functions operate differently on different number types. "
   ]
  },
  {
   "cell_type": "code",
   "execution_count": 1,
   "metadata": {},
   "outputs": [
    {
     "data": {
      "text/plain": [
       "Int64"
      ]
     },
     "metadata": {},
     "output_type": "display_data"
    }
   ],
   "source": [
    "a = 3\n",
    "typeof(a)"
   ]
  },
  {
   "cell_type": "markdown",
   "metadata": {
    "nbgrader": {
     "grade": false,
     "grade_id": "cell-2778002073c87b29",
     "locked": true,
     "schema_version": 3,
     "solution": false,
     "task": false
    }
   },
   "source": [
    "`Int64` is a 64-byte integer. Other options are 32-,16-, or 8-bit integers and they can be unsigned as well. The default real-valued numbers is a 64-bit floating-point number:"
   ]
  },
  {
   "cell_type": "code",
   "execution_count": 2,
   "metadata": {},
   "outputs": [
    {
     "data": {
      "text/plain": [
       "Float64"
      ]
     },
     "metadata": {},
     "output_type": "display_data"
    }
   ],
   "source": [
    "a = 3.0\n",
    "typeof(a)"
   ]
  },
  {
   "cell_type": "markdown",
   "metadata": {
    "nbgrader": {
     "grade": false,
     "grade_id": "cell-b4f29642d811571a",
     "locked": true,
     "schema_version": 3,
     "solution": false,
     "task": false
    }
   },
   "source": [
    "Converting number types is easy:"
   ]
  },
  {
   "cell_type": "code",
   "execution_count": 3,
   "metadata": {},
   "outputs": [
    {
     "data": {
      "text/plain": [
       "Float64"
      ]
     },
     "metadata": {},
     "output_type": "display_data"
    }
   ],
   "source": [
    "a = convert(Float64, 2)\n",
    "typeof(a)"
   ]
  },
  {
   "cell_type": "markdown",
   "metadata": {
    "nbgrader": {
     "grade": false,
     "grade_id": "cell-ed3bc3a833acccd0",
     "locked": true,
     "schema_version": 3,
     "solution": false,
     "task": false
    }
   },
   "source": [
    "Strings are constructed by enclosing symbols within double parentheses."
   ]
  },
  {
   "cell_type": "code",
   "execution_count": 4,
   "metadata": {},
   "outputs": [
    {
     "data": {
      "text/plain": [
       "String"
      ]
     },
     "metadata": {},
     "output_type": "display_data"
    }
   ],
   "source": [
    "a = \"3\"\n",
    "typeof(a)"
   ]
  },
  {
   "cell_type": "markdown",
   "metadata": {
    "nbgrader": {
     "grade": false,
     "grade_id": "cell-c1be2e1ea2b90c34",
     "locked": true,
     "schema_version": 3,
     "solution": false,
     "task": false
    }
   },
   "source": [
    "They can be concatenated by multiplication (which is an example of a function, namely `*`, which acts differently on different input argument types): "
   ]
  },
  {
   "cell_type": "code",
   "execution_count": 5,
   "metadata": {},
   "outputs": [
    {
     "data": {
      "text/plain": [
       "\"ab\""
      ]
     },
     "metadata": {},
     "output_type": "display_data"
    }
   ],
   "source": [
    "ab = \"a\"*\"b\""
   ]
  },
  {
   "cell_type": "markdown",
   "metadata": {
    "nbgrader": {
     "grade": false,
     "grade_id": "cell-76b62f36bf62f546",
     "locked": true,
     "schema_version": 3,
     "solution": false,
     "task": false
    }
   },
   "source": [
    "You can incorporate numbers into strings through a `$` call:"
   ]
  },
  {
   "cell_type": "code",
   "execution_count": 6,
   "metadata": {},
   "outputs": [
    {
     "data": {
      "text/plain": [
       "\"a = 3\""
      ]
     },
     "metadata": {},
     "output_type": "display_data"
    }
   ],
   "source": [
    "\"a = $a\""
   ]
  },
  {
   "cell_type": "markdown",
   "metadata": {
    "nbgrader": {
     "grade": false,
     "grade_id": "cell-597f95a479025e8a",
     "locked": true,
     "schema_version": 3,
     "solution": false,
     "task": false
    }
   },
   "source": [
    "## Array manipulation\n",
    "\n",
    "- References: [Arrays](https://docs.julialang.org/en/v1/base/arrays/)\n",
    "\n",
    "Arrays are indexed with square brackets, `A[i,j]`. You can construct a matrix by enclosing a set of numbers with square brackets. If you separate your numbers with comma's, then you will get a column vector:"
   ]
  },
  {
   "cell_type": "code",
   "execution_count": 7,
   "metadata": {},
   "outputs": [
    {
     "data": {
      "text/plain": [
       "4-element Vector{Int64}:\n",
       " 1\n",
       " 2\n",
       " 3\n",
       " 4"
      ]
     },
     "metadata": {},
     "output_type": "display_data"
    }
   ],
   "source": [
    "x = [1,2,3,4]"
   ]
  },
  {
   "cell_type": "markdown",
   "metadata": {
    "nbgrader": {
     "grade": false,
     "grade_id": "cell-55802261c54cb78c",
     "locked": true,
     "schema_version": 3,
     "solution": false,
     "task": false
    }
   },
   "source": [
    "If you use spaces, then you will construct a row vector (i.e., a matrix of dimensions 1 by n):"
   ]
  },
  {
   "cell_type": "code",
   "execution_count": 8,
   "metadata": {},
   "outputs": [
    {
     "data": {
      "text/plain": [
       "1×4 Matrix{Int64}:\n",
       " 1  2  3  4"
      ]
     },
     "metadata": {},
     "output_type": "display_data"
    }
   ],
   "source": [
    "x = [1 2 3 4]"
   ]
  },
  {
   "cell_type": "markdown",
   "metadata": {
    "nbgrader": {
     "grade": false,
     "grade_id": "cell-0797fa9c8ec1c27d",
     "locked": true,
     "schema_version": 3,
     "solution": false,
     "task": false
    }
   },
   "source": [
    "Matrices can be constructed by separating elements with spaces and rows by semicolons:"
   ]
  },
  {
   "cell_type": "code",
   "execution_count": 9,
   "metadata": {},
   "outputs": [
    {
     "data": {
      "text/plain": [
       "2×2 Matrix{Int64}:\n",
       " 1  2\n",
       " 3  4"
      ]
     },
     "metadata": {},
     "output_type": "display_data"
    }
   ],
   "source": [
    "X = [1 2; 3 4]"
   ]
  },
  {
   "cell_type": "markdown",
   "metadata": {
    "nbgrader": {
     "grade": false,
     "grade_id": "cell-752e17ff7e221dc6",
     "locked": true,
     "schema_version": 3,
     "solution": false,
     "task": false
    }
   },
   "source": [
    "Common array constructors are:"
   ]
  },
  {
   "cell_type": "code",
   "execution_count": 10,
   "metadata": {},
   "outputs": [
    {
     "data": {
      "text/plain": [
       "2×3 Matrix{Float64}:\n",
       " 0.692239  -1.2405    2.68915\n",
       " 0.590391  -0.292222  0.214141"
      ]
     },
     "metadata": {},
     "output_type": "display_data"
    }
   ],
   "source": [
    "X = zeros(2,3)\n",
    "Y = ones(2,3)\n",
    "Z = randn(2,3)"
   ]
  },
  {
   "cell_type": "markdown",
   "metadata": {
    "nbgrader": {
     "grade": false,
     "grade_id": "cell-2842d71d3b6fef26",
     "locked": true,
     "schema_version": 3,
     "solution": false,
     "task": false
    }
   },
   "source": [
    "Matrix operations are intuitive and similar to the mathematical notation:"
   ]
  },
  {
   "cell_type": "code",
   "execution_count": 11,
   "metadata": {},
   "outputs": [
    {
     "data": {
      "text/plain": [
       "3-element Vector{Int64}:\n",
       " 4\n",
       " 7\n",
       " 8"
      ]
     },
     "metadata": {},
     "output_type": "display_data"
    }
   ],
   "source": [
    "A = [3 2 1; 2 3 2; 1 2 3]\n",
    "x = [0, 1, 2]\n",
    "b = A*x"
   ]
  },
  {
   "cell_type": "markdown",
   "metadata": {
    "nbgrader": {
     "grade": false,
     "grade_id": "cell-5ef3ae2aa92ab37c",
     "locked": true,
     "schema_version": 3,
     "solution": false,
     "task": false
    }
   },
   "source": [
    "A matrix can be transposed by a single parenthesis, `A'`. Note that this does not mutate the array in memory. It just tells functions defined for matrices that it should change how it indexes the matrix's elements."
   ]
  },
  {
   "cell_type": "code",
   "execution_count": 12,
   "metadata": {},
   "outputs": [
    {
     "data": {
      "text/plain": [
       "23"
      ]
     },
     "metadata": {},
     "output_type": "display_data"
    }
   ],
   "source": [
    "c = x'*A*x"
   ]
  },
  {
   "cell_type": "markdown",
   "metadata": {
    "nbgrader": {
     "grade": false,
     "grade_id": "cell-07efb0f4ef442665",
     "locked": true,
     "schema_version": 3,
     "solution": false,
     "task": false
    }
   },
   "source": [
    "## Broadcasting\n",
    "\n",
    "- Reference: [Broadcasting](https://docs.julialang.org/en/v1/manual/arrays/#Broadcasting)\n",
    "\n",
    "You can apply functions to elements in an array by placing a dot in front:"
   ]
  },
  {
   "cell_type": "code",
   "execution_count": 13,
   "metadata": {},
   "outputs": [
    {
     "data": {
      "text/plain": [
       "1×3 Matrix{Int64}:\n",
       " 3  6  9"
      ]
     },
     "metadata": {},
     "output_type": "display_data"
    }
   ],
   "source": [
    " 3 .*[1 2 3]"
   ]
  },
  {
   "cell_type": "markdown",
   "metadata": {
    "nbgrader": {
     "grade": false,
     "grade_id": "cell-31680dda8e3c1644",
     "locked": true,
     "schema_version": 3,
     "solution": false,
     "task": false
    }
   },
   "source": [
    "This also works for named functions:"
   ]
  },
  {
   "cell_type": "code",
   "execution_count": 14,
   "metadata": {},
   "outputs": [
    {
     "data": {
      "text/plain": [
       "3-element Vector{Float64}:\n",
       " 0.8414709848078965\n",
       " 0.9092974268256817\n",
       " 0.1411200080598672"
      ]
     },
     "metadata": {},
     "output_type": "display_data"
    }
   ],
   "source": [
    "sin.([1., 2., 3.])"
   ]
  },
  {
   "cell_type": "markdown",
   "metadata": {
    "nbgrader": {
     "grade": false,
     "grade_id": "cell-86a74a70e6d21c8d",
     "locked": true,
     "schema_version": 3,
     "solution": false,
     "task": false
    }
   },
   "source": [
    "## Iteration\n",
    "\n",
    "- Reference: [Collections](https://docs.julialang.org/en/v1/base/collections/)\n",
    "\n",
    "For-loops are one of the simplest forms of iteration and can be defined in a number of ways. First, the matlab way:"
   ]
  },
  {
   "cell_type": "code",
   "execution_count": 15,
   "metadata": {},
   "outputs": [
    {
     "name": "stdout",
     "output_type": "stream",
     "text": [
      "1\n",
      "3\n",
      "5\n"
     ]
    }
   ],
   "source": [
    "for n = 1:2:5\n",
    "    println(n)\n",
    "end"
   ]
  },
  {
   "cell_type": "markdown",
   "metadata": {
    "nbgrader": {
     "grade": false,
     "grade_id": "cell-f584f54f4771da9f",
     "locked": true,
     "schema_version": 3,
     "solution": false,
     "task": false
    }
   },
   "source": [
    "Next, we can use the `range` command to construct an array of numbers and then use the `in` command to loop over elements in the array:"
   ]
  },
  {
   "cell_type": "code",
   "execution_count": 16,
   "metadata": {},
   "outputs": [
    {
     "name": "stdout",
     "output_type": "stream",
     "text": [
      "0.0\n",
      "4.0\n"
     ]
    }
   ],
   "source": [
    "num_range = range(0, stop=4, length=2)\n",
    "for n in num_range\n",
    "    println(n)\n",
    "end"
   ]
  },
  {
   "cell_type": "markdown",
   "metadata": {
    "nbgrader": {
     "grade": false,
     "grade_id": "cell-3dcbd8a0da6ff030",
     "locked": true,
     "schema_version": 3,
     "solution": false,
     "task": false
    }
   },
   "source": [
    "If you need both the index and the value of the array element, you can use the `enumerate` command:"
   ]
  },
  {
   "cell_type": "code",
   "execution_count": 17,
   "metadata": {},
   "outputs": [
    {
     "name": "stdout",
     "output_type": "stream",
     "text": [
      "1, 0.0\n",
      "2, 4.0\n"
     ]
    }
   ],
   "source": [
    "for (j,n) in enumerate(num_range)\n",
    "    println(\"$j, $n\")\n",
    "end"
   ]
  },
  {
   "cell_type": "markdown",
   "metadata": {
    "nbgrader": {
     "grade": false,
     "grade_id": "cell-009da1637a8bd0de",
     "locked": true,
     "schema_version": 3,
     "solution": false,
     "task": false
    }
   },
   "source": [
    "You may be familiar with \"list comprehension\", which is a shortened form of iterating through a collection:"
   ]
  },
  {
   "cell_type": "code",
   "execution_count": 18,
   "metadata": {},
   "outputs": [
    {
     "data": {
      "text/plain": [
       "2-element Vector{String}:\n",
       " \"n = 0.0\"\n",
       " \"n = 4.0\""
      ]
     },
     "metadata": {},
     "output_type": "display_data"
    }
   ],
   "source": [
    "[\"n = $n\" for n in num_range]"
   ]
  },
  {
   "cell_type": "markdown",
   "metadata": {
    "nbgrader": {
     "grade": false,
     "grade_id": "cell-46cbf7bfca3c6d76",
     "locked": true,
     "schema_version": 3,
     "solution": false,
     "task": false
    }
   },
   "source": [
    "## Control flow\n",
    "\n",
    "- References: [Control flow](https://docs.julialang.org/en/v1/manual/control-flow/), [Logical Operators](https://docs.julialang.org/en/v1/manual/missing/#Logical-operators)\n",
    "\n",
    "Control flow refers to redirecting how a compiler goes through a program. Instead of traversing it line-by-line, things like `if-else` statements can make a compiler skip steps. These require logical operations: you can use `==` to check if two variables have the same value, `===` to check if they are actually the same object (i.e., same memory reference) and `!=` to check if they're not equal."
   ]
  },
  {
   "cell_type": "code",
   "execution_count": 19,
   "metadata": {},
   "outputs": [
    {
     "name": "stdout",
     "output_type": "stream",
     "text": [
      "Positive\n"
     ]
    }
   ],
   "source": [
    "a = 3.0\n",
    "if a < 0 \n",
    "    println(\"Negative\")\n",
    "elseif a == 0\n",
    "    println(\"0.0\")\n",
    "else \n",
    "    println(\"Positive\")\n",
    "end"
   ]
  },
  {
   "cell_type": "markdown",
   "metadata": {
    "nbgrader": {
     "grade": false,
     "grade_id": "cell-44cf3744dc8b7ea8",
     "locked": true,
     "schema_version": 3,
     "solution": false,
     "task": false
    }
   },
   "source": [
    "Simple `if-else` statements can often be replaced by `ternary` checks. Essentially, you ask a question (a logical operation followed by `?`) and then tell the program what to do when the answer is yes (written immediately after the question) or no (written after the yes-answer followed by a `:`)."
   ]
  },
  {
   "cell_type": "code",
   "execution_count": 20,
   "metadata": {},
   "outputs": [
    {
     "name": "stdout",
     "output_type": "stream",
     "text": [
      "Positive\n"
     ]
    }
   ],
   "source": [
    "a > 0 ? println(\"Positive\") : println(\"Not positive\")"
   ]
  },
  {
   "cell_type": "markdown",
   "metadata": {
    "nbgrader": {
     "grade": false,
     "grade_id": "cell-2bd8fafa975e39df",
     "locked": true,
     "schema_version": 3,
     "solution": false,
     "task": false
    }
   },
   "source": [
    "## Functions\n",
    "\n",
    "- References: [Functions](https://docs.julialang.org/en/v1/manual/functions/), [Mutation](https://docs.julialang.org/en/v1/manual/style-guide/#bang-convention)\n",
    "\n",
    "Function and expressions are a core component of the julia language. Its \"multiple dispatch\" feature means that you can define multiple functions with the same name but with behaviour that depends on the input argument types. When you're starting out, you may not notice this so much, but you will start to appreciate this feature tremendously when you begin to professionally develop software."
   ]
  },
  {
   "cell_type": "code",
   "execution_count": 21,
   "metadata": {},
   "outputs": [
    {
     "data": {
      "text/plain": [
       "\"Bah!\""
      ]
     },
     "metadata": {},
     "output_type": "display_data"
    }
   ],
   "source": [
    "function foo(bar::Float64)\n",
    "    message = \"Boo!\"\n",
    "    return message\n",
    "end\n",
    "\n",
    "function foo(bar::Integer)\n",
    "    message = \"Bah!\"\n",
    "    return message\n",
    "end\n",
    "\n",
    "foo(1)"
   ]
  },
  {
   "cell_type": "markdown",
   "metadata": {
    "nbgrader": {
     "grade": false,
     "grade_id": "cell-89334d50f79b3b6e",
     "locked": true,
     "schema_version": 3,
     "solution": false,
     "task": false
    }
   },
   "source": [
    "Note that the `return` argument does not need to be at the end of a function ([the return keyword](https://docs.julialang.org/en/v1/manual/functions/#The-return-Keyword)).\n",
    "\n",
    "You don't actually need the `function` keyword if you have simple enough functions:"
   ]
  },
  {
   "cell_type": "code",
   "execution_count": 22,
   "metadata": {},
   "outputs": [
    {
     "data": {
      "text/plain": [
       "0.25"
      ]
     },
     "metadata": {},
     "output_type": "display_data"
    }
   ],
   "source": [
    "fn(x::Number) = 1/x\n",
    "fn(4)"
   ]
  },
  {
   "cell_type": "markdown",
   "metadata": {
    "nbgrader": {
     "grade": false,
     "grade_id": "cell-52be8f7c7644d2ae",
     "locked": true,
     "schema_version": 3,
     "solution": false,
     "task": false
    }
   },
   "source": [
    "You can add keyword arguments to a function, which are input arguments with default values:"
   ]
  },
  {
   "cell_type": "code",
   "execution_count": 23,
   "metadata": {},
   "outputs": [
    {
     "data": {
      "text/plain": [
       "1×2 Matrix{Float64}:\n",
       " 1.0  0.333333"
      ]
     },
     "metadata": {},
     "output_type": "display_data"
    }
   ],
   "source": [
    "fn(; number::Number = 1) = 1/number\n",
    "[fn() fn(number=3)]"
   ]
  },
  {
   "cell_type": "markdown",
   "metadata": {
    "nbgrader": {
     "grade": false,
     "grade_id": "cell-fdc3777677dd70d6",
     "locked": true,
     "schema_version": 3,
     "solution": false,
     "task": false
    }
   },
   "source": [
    "Functions that modify their input arguments instead of creating new output variables are typically marked with an `!`. Below I have defined an unsorted vector and I call `sort` to sort it in increasing order. If I call the sort function and the original vector, then they will be different:"
   ]
  },
  {
   "cell_type": "code",
   "execution_count": 24,
   "metadata": {},
   "outputs": [
    {
     "data": {
      "text/plain": [
       "3×2 Matrix{Int64}:\n",
       " 1  1\n",
       " 2  3\n",
       " 3  2"
      ]
     },
     "metadata": {},
     "output_type": "display_data"
    }
   ],
   "source": [
    "x = [1, 3, 2]\n",
    "[sort(x) x]"
   ]
  },
  {
   "cell_type": "markdown",
   "metadata": {
    "nbgrader": {
     "grade": false,
     "grade_id": "cell-4d68be5af3628fca",
     "locked": true,
     "schema_version": 3,
     "solution": false,
     "task": false
    }
   },
   "source": [
    "But if I call the `sort!` function and the original vector, you'll see that the original vector is now also sorted."
   ]
  },
  {
   "cell_type": "code",
   "execution_count": 25,
   "metadata": {},
   "outputs": [
    {
     "data": {
      "text/plain": [
       "3×2 Matrix{Int64}:\n",
       " 1  1\n",
       " 2  2\n",
       " 3  3"
      ]
     },
     "metadata": {},
     "output_type": "display_data"
    }
   ],
   "source": [
    "[sort!(x) x]"
   ]
  },
  {
   "cell_type": "markdown",
   "metadata": {
    "nbgrader": {
     "grade": false,
     "grade_id": "cell-e1a8e25a1191dbc5",
     "locked": true,
     "schema_version": 3,
     "solution": false,
     "task": false
    }
   },
   "source": [
    "## Software packages\n",
    "\n",
    "- Reference: [Packages and modules](https://docs.julialang.org/en/v1/manual/faq/#Packages-and-Modules)\n",
    "\n",
    "Just like with Python, there are thousands of additional software packages that can be imported to provide specific functionalities. You'll encounter some of the most common ones throughout the course. \n",
    "\n",
    "We have provided an \"environment\" that automatically downloads all the packages you need throughout the course. The three lines of code below point to the environment specification itself, a Project.toml file containing a list of packages, and construct the environment. If the specified packages are not installed, then these will be automatically added. This will take a bit of time the first time you run it, but it will only take a few seconds afterwards."
   ]
  },
  {
   "cell_type": "code",
   "execution_count": 26,
   "metadata": {
    "nbgrader": {
     "grade": false,
     "grade_id": "cell-108da214ac7e1c99",
     "locked": true,
     "schema_version": 3,
     "solution": false,
     "task": false
    }
   },
   "outputs": [
    {
     "name": "stderr",
     "output_type": "stream",
     "text": [
      "\u001b[32m\u001b[1m  Activating\u001b[22m\u001b[39m new project at `~/syndr/Wouter/Onderwijs/Vakken/tueindhoven/5SSD0 - Bayesian Machine Learning & Information Processing/2024-2025 Q2/BMLIP/lessons/notebooks`\n",
      "\u001b[32m\u001b[1m  No Changes\u001b[22m\u001b[39m to `~/syndr/Wouter/Onderwijs/Vakken/tueindhoven/5SSD0 - Bayesian Machine Learning & Information Processing/2024-2025 Q2/BMLIP/lessons/notebooks/Project.toml`\n",
      "\u001b[32m\u001b[1m  No Changes\u001b[22m\u001b[39m to `~/syndr/Wouter/Onderwijs/Vakken/tueindhoven/5SSD0 - Bayesian Machine Learning & Information Processing/2024-2025 Q2/BMLIP/lessons/notebooks/Manifest.toml`\n"
     ]
    }
   ],
   "source": [
    "using Pkg\n",
    "Pkg.activate(\".\")\n",
    "Pkg.instantiate();"
   ]
  },
  {
   "cell_type": "markdown",
   "metadata": {
    "nbgrader": {
     "grade": false,
     "grade_id": "cell-7697dde5851e63b9",
     "locked": true,
     "schema_version": 3,
     "solution": false,
     "task": false
    }
   },
   "source": [
    "Below are some examples of importing packages and using their added functionalities."
   ]
  },
  {
   "cell_type": "code",
   "execution_count": 27,
   "metadata": {},
   "outputs": [
    {
     "data": {
      "text/plain": [
       "Eigen{Float64, Float64, Matrix{Float64}, Vector{Float64}}\n",
       "values:\n",
       "2-element Vector{Float64}:\n",
       " -0.6853720883753125\n",
       "  4.085372088375313\n",
       "vectors:\n",
       "2×2 Matrix{Float64}:\n",
       "  0.476976  -0.878916\n",
       " -0.878916  -0.476976"
      ]
     },
     "metadata": {},
     "output_type": "display_data"
    }
   ],
   "source": [
    "using LinearAlgebra\n",
    "\n",
    "E,V = eigen([3. 2.;2. 0.4])"
   ]
  },
  {
   "cell_type": "code",
   "execution_count": 28,
   "metadata": {},
   "outputs": [
    {
     "data": {
      "text/html": [
       "<div><div style = \"float: left;\"><span>1×3 DataFrame</span></div><div style = \"clear: both;\"></div></div><div class = \"data-frame\" style = \"overflow-x: scroll;\"><table class = \"data-frame\" style = \"margin-bottom: 6px;\"><thead><tr class = \"header\"><th class = \"rowNumber\" style = \"font-weight: bold; text-align: right;\">Row</th><th style = \"text-align: left;\">a</th><th style = \"text-align: left;\">b</th><th style = \"text-align: left;\">c</th></tr><tr class = \"subheader headerLastRow\"><th class = \"rowNumber\" style = \"font-weight: bold; text-align: right;\"></th><th title = \"Int64\" style = \"text-align: left;\">Int64</th><th title = \"Int64\" style = \"text-align: left;\">Int64</th><th title = \"Int64\" style = \"text-align: left;\">Int64</th></tr></thead><tbody><tr><td class = \"rowNumber\" style = \"font-weight: bold; text-align: right;\">1</td><td style = \"text-align: right;\">1</td><td style = \"text-align: right;\">2</td><td style = \"text-align: right;\">3</td></tr></tbody></table></div>"
      ],
      "text/latex": [
       "\\begin{tabular}{r|ccc}\n",
       "\t& a & b & c\\\\\n",
       "\t\\hline\n",
       "\t& Int64 & Int64 & Int64\\\\\n",
       "\t\\hline\n",
       "\t1 & 1 & 2 & 3 \\\\\n",
       "\\end{tabular}\n"
      ],
      "text/plain": [
       "\u001b[1m1×3 DataFrame\u001b[0m\n",
       "\u001b[1m Row \u001b[0m│\u001b[1m a     \u001b[0m\u001b[1m b     \u001b[0m\u001b[1m c     \u001b[0m\n",
       "     │\u001b[90m Int64 \u001b[0m\u001b[90m Int64 \u001b[0m\u001b[90m Int64 \u001b[0m\n",
       "─────┼─────────────────────\n",
       "   1 │     1      2      3"
      ]
     },
     "metadata": {},
     "output_type": "display_data"
    }
   ],
   "source": [
    "using DataFrames\n",
    "\n",
    "x = Dict(\n",
    "    \"a\" => 1,\n",
    "    \"b\" => 2,\n",
    "    \"c\" => 3\n",
    ")\n",
    "\n",
    "df = DataFrame(x)"
   ]
  },
  {
   "cell_type": "code",
   "execution_count": 29,
   "metadata": {},
   "outputs": [
    {
     "data": {
      "text/plain": [
       "0.10798193302637613"
      ]
     },
     "metadata": {},
     "output_type": "display_data"
    }
   ],
   "source": [
    "using Distributions\n",
    "\n",
    "px = Normal(1.0, 0.5)\n",
    "pdf(px, 0.0)"
   ]
  },
  {
   "cell_type": "markdown",
   "metadata": {
    "nbgrader": {
     "grade": false,
     "grade_id": "cell-25086ec01e8644ce",
     "locked": true,
     "schema_version": 3,
     "solution": false,
     "task": false
    }
   },
   "source": [
    "## Visualization"
   ]
  },
  {
   "cell_type": "code",
   "execution_count": 30,
   "metadata": {},
   "outputs": [
    {
     "data": {
      "image/png": "[encoded data removed]",
      "image/svg+xml": [
       "<?xml version=\"1.0\" encoding=\"utf-8\"?>\n",
       "<svg xmlns=\"http://www.w3.org/2000/svg\" xmlns:xlink=\"http://www.w3.org/1999/xlink\" width=\"600\" height=\"400\" viewBox=\"0 0 2400 1600\">\n",
       "<defs>\n",
       "  <clipPath id=\"clip840\">\n",
       "    <rect x=\"0\" y=\"0\" width=\"2400\" height=\"1600\"/>\n",
       "  </clipPath>\n",
       "</defs>\n",
       "<path clip-path=\"url(#clip840)\" d=\"M0 1600 L2400 1600 L2400 0 L0 0  Z\" fill=\"#ffffff\" fill-rule=\"evenodd\" fill-opacity=\"1\"/>\n",
       "<defs>\n",
       "  <clipPath id=\"clip841\">\n",
       "    <rect x=\"480\" y=\"0\" width=\"1681\" height=\"1600\"/>\n",
       "  </clipPath>\n",
       "</defs>\n",
       "<path clip-path=\"url(#clip840)\" d=\"M219.866 1423.18 L2352.76 1423.18 L2352.76 47.2441 L219.866 47.2441  Z\" fill=\"#ffffff\" fill-rule=\"evenodd\" fill-opacity=\"1\"/>\n",
       "<defs>\n",
       "  <clipPath id=\"clip842\">\n",
       "    <rect x=\"219\" y=\"47\" width=\"2134\" height=\"1377\"/>\n",
       "  </clipPath>\n",
       "</defs>\n",
       "<polyline clip-path=\"url(#clip842)\" style=\"stroke:#000000; stroke-linecap:round; stroke-linejoin:round; stroke-width:2; stroke-opacity:0.1; fill:none\" points=\"280.231,1423.18 280.231,47.2441 \"/>\n",
       "<polyline clip-path=\"url(#clip842)\" style=\"stroke:#000000; stroke-linecap:round; stroke-linejoin:round; stroke-width:2; stroke-opacity:0.1; fill:none\" points=\"615.591,1423.18 615.591,47.2441 \"/>\n",
       "<polyline clip-path=\"url(#clip842)\" style=\"stroke:#000000; stroke-linecap:round; stroke-linejoin:round; stroke-width:2; stroke-opacity:0.1; fill:none\" points=\"950.951,1423.18 950.951,47.2441 \"/>\n",
       "<polyline clip-path=\"url(#clip842)\" style=\"stroke:#000000; stroke-linecap:round; stroke-linejoin:round; stroke-width:2; stroke-opacity:0.1; fill:none\" points=\"1286.31,1423.18 1286.31,47.2441 \"/>\n",
       "<polyline clip-path=\"url(#clip842)\" style=\"stroke:#000000; stroke-linecap:round; stroke-linejoin:round; stroke-width:2; stroke-opacity:0.1; fill:none\" points=\"1621.67,1423.18 1621.67,47.2441 \"/>\n",
       "<polyline clip-path=\"url(#clip842)\" style=\"stroke:#000000; stroke-linecap:round; stroke-linejoin:round; stroke-width:2; stroke-opacity:0.1; fill:none\" points=\"1957.03,1423.18 1957.03,47.2441 \"/>\n",
       "<polyline clip-path=\"url(#clip842)\" style=\"stroke:#000000; stroke-linecap:round; stroke-linejoin:round; stroke-width:2; stroke-opacity:0.1; fill:none\" points=\"2292.39,1423.18 2292.39,47.2441 \"/>\n",
       "<polyline clip-path=\"url(#clip840)\" style=\"stroke:#000000; stroke-linecap:round; stroke-linejoin:round; stroke-width:4; stroke-opacity:1; fill:none\" points=\"219.866,1423.18 2352.76,1423.18 \"/>\n",
       "<polyline clip-path=\"url(#clip840)\" style=\"stroke:#000000; stroke-linecap:round; stroke-linejoin:round; stroke-width:4; stroke-opacity:1; fill:none\" points=\"280.231,1423.18 280.231,1404.28 \"/>\n",
       "<polyline clip-path=\"url(#clip840)\" style=\"stroke:#000000; stroke-linecap:round; stroke-linejoin:round; stroke-width:4; stroke-opacity:1; fill:none\" points=\"615.591,1423.18 615.591,1404.28 \"/>\n",
       "<polyline clip-path=\"url(#clip840)\" style=\"stroke:#000000; stroke-linecap:round; stroke-linejoin:round; stroke-width:4; stroke-opacity:1; fill:none\" points=\"950.951,1423.18 950.951,1404.28 \"/>\n",
       "<polyline clip-path=\"url(#clip840)\" style=\"stroke:#000000; stroke-linecap:round; stroke-linejoin:round; stroke-width:4; stroke-opacity:1; fill:none\" points=\"1286.31,1423.18 1286.31,1404.28 \"/>\n",
       "<polyline clip-path=\"url(#clip840)\" style=\"stroke:#000000; stroke-linecap:round; stroke-linejoin:round; stroke-width:4; stroke-opacity:1; fill:none\" points=\"1621.67,1423.18 1621.67,1404.28 \"/>\n",
       "<polyline clip-path=\"url(#clip840)\" style=\"stroke:#000000; stroke-linecap:round; stroke-linejoin:round; stroke-width:4; stroke-opacity:1; fill:none\" points=\"1957.03,1423.18 1957.03,1404.28 \"/>\n",
       "<polyline clip-path=\"url(#clip840)\" style=\"stroke:#000000; stroke-linecap:round; stroke-linejoin:round; stroke-width:4; stroke-opacity:1; fill:none\" points=\"2292.39,1423.18 2292.39,1404.28 \"/>\n",
       "<path clip-path=\"url(#clip840)\" d=\"M249.699 1468.75 L279.375 1468.75 L279.375 1472.69 L249.699 1472.69 L249.699 1468.75 Z\" fill=\"#000000\" fill-rule=\"nonzero\" fill-opacity=\"1\" /><path clip-path=\"url(#clip840)\" d=\"M303.634 1466.95 Q306.99 1467.66 308.865 1469.93 Q310.763 1472.2 310.763 1475.53 Q310.763 1480.65 307.245 1483.45 Q303.726 1486.25 297.245 1486.25 Q295.069 1486.25 292.754 1485.81 Q290.462 1485.39 288.009 1484.54 L288.009 1480.02 Q289.953 1481.16 292.268 1481.74 Q294.583 1482.32 297.106 1482.32 Q301.504 1482.32 303.796 1480.58 Q306.111 1478.84 306.111 1475.53 Q306.111 1472.48 303.958 1470.77 Q301.828 1469.03 298.009 1469.03 L293.981 1469.03 L293.981 1465.19 L298.194 1465.19 Q301.643 1465.19 303.472 1463.82 Q305.3 1462.43 305.3 1459.84 Q305.3 1457.18 303.402 1455.77 Q301.527 1454.33 298.009 1454.33 Q296.087 1454.33 293.888 1454.75 Q291.689 1455.16 289.05 1456.04 L289.05 1451.88 Q291.712 1451.14 294.027 1450.77 Q296.365 1450.39 298.425 1450.39 Q303.749 1450.39 306.851 1452.83 Q309.953 1455.23 309.953 1459.35 Q309.953 1462.22 308.31 1464.21 Q306.666 1466.18 303.634 1466.95 Z\" fill=\"#000000\" fill-rule=\"nonzero\" fill-opacity=\"1\" /><path clip-path=\"url(#clip840)\" d=\"M585.533 1468.75 L615.209 1468.75 L615.209 1472.69 L585.533 1472.69 L585.533 1468.75 Z\" fill=\"#000000\" fill-rule=\"nonzero\" fill-opacity=\"1\" /><path clip-path=\"url(#clip840)\" d=\"M629.329 1481.64 L645.649 1481.64 L645.649 1485.58 L623.704 1485.58 L623.704 1481.64 Q626.366 1478.89 630.95 1474.26 Q635.556 1469.61 636.737 1468.27 Q638.982 1465.74 639.862 1464.01 Q640.765 1462.25 640.765 1460.56 Q640.765 1457.8 638.82 1456.07 Q636.899 1454.33 633.797 1454.33 Q631.598 1454.33 629.144 1455.09 Q626.714 1455.86 623.936 1457.41 L623.936 1452.69 Q626.76 1451.55 629.214 1450.97 Q631.667 1450.39 633.704 1450.39 Q639.075 1450.39 642.269 1453.08 Q645.464 1455.77 645.464 1460.26 Q645.464 1462.39 644.653 1464.31 Q643.866 1466.2 641.76 1468.8 Q641.181 1469.47 638.079 1472.69 Q634.978 1475.88 629.329 1481.64 Z\" fill=\"#000000\" fill-rule=\"nonzero\" fill-opacity=\"1\" /><path clip-path=\"url(#clip840)\" d=\"M920.708 1468.75 L950.384 1468.75 L950.384 1472.69 L920.708 1472.69 L920.708 1468.75 Z\" fill=\"#000000\" fill-rule=\"nonzero\" fill-opacity=\"1\" /><path clip-path=\"url(#clip840)\" d=\"M961.287 1481.64 L968.926 1481.64 L968.926 1455.28 L960.615 1456.95 L960.615 1452.69 L968.879 1451.02 L973.555 1451.02 L973.555 1481.64 L981.194 1481.64 L981.194 1485.58 L961.287 1485.58 L961.287 1481.64 Z\" fill=\"#000000\" fill-rule=\"nonzero\" fill-opacity=\"1\" /><path clip-path=\"url(#clip840)\" d=\"M1286.31 1454.1 Q1282.7 1454.1 1280.87 1457.66 Q1279.07 1461.2 1279.07 1468.33 Q1279.07 1475.44 1280.87 1479.01 Q1282.7 1482.55 1286.31 1482.55 Q1289.95 1482.55 1291.75 1479.01 Q1293.58 1475.44 1293.58 1468.33 Q1293.58 1461.2 1291.75 1457.66 Q1289.95 1454.1 1286.31 1454.1 M1286.31 1450.39 Q1292.12 1450.39 1295.18 1455 Q1298.26 1459.58 1298.26 1468.33 Q1298.26 1477.06 1295.18 1481.67 Q1292.12 1486.25 1286.31 1486.25 Q1280.5 1486.25 1277.42 1481.67 Q1274.37 1477.06 1274.37 1468.33 Q1274.37 1459.58 1277.42 1455 Q1280.5 1450.39 1286.31 1450.39 Z\" fill=\"#000000\" fill-rule=\"nonzero\" fill-opacity=\"1\" /><path clip-path=\"url(#clip840)\" d=\"M1612.05 1481.64 L1619.69 1481.64 L1619.69 1455.28 L1611.38 1456.95 L1611.38 1452.69 L1619.65 1451.02 L1624.32 1451.02 L1624.32 1481.64 L1631.96 1481.64 L1631.96 1485.58 L1612.05 1485.58 L1612.05 1481.64 Z\" fill=\"#000000\" fill-rule=\"nonzero\" fill-opacity=\"1\" /><path clip-path=\"url(#clip840)\" d=\"M1951.68 1481.64 L1968 1481.64 L1968 1485.58 L1946.06 1485.58 L1946.06 1481.64 Q1948.72 1478.89 1953.3 1474.26 Q1957.91 1469.61 1959.09 1468.27 Q1961.34 1465.74 1962.22 1464.01 Q1963.12 1462.25 1963.12 1460.56 Q1963.12 1457.8 1961.17 1456.07 Q1959.25 1454.33 1956.15 1454.33 Q1953.95 1454.33 1951.5 1455.09 Q1949.07 1455.86 1946.29 1457.41 L1946.29 1452.69 Q1949.11 1451.55 1951.57 1450.97 Q1954.02 1450.39 1956.06 1450.39 Q1961.43 1450.39 1964.62 1453.08 Q1967.82 1455.77 1967.82 1460.26 Q1967.82 1462.39 1967.01 1464.31 Q1966.22 1466.2 1964.11 1468.8 Q1963.54 1469.47 1960.43 1472.69 Q1957.33 1475.88 1951.68 1481.64 Z\" fill=\"#000000\" fill-rule=\"nonzero\" fill-opacity=\"1\" /><path clip-path=\"url(#clip840)\" d=\"M2296.64 1466.95 Q2300 1467.66 2301.87 1469.93 Q2303.77 1472.2 2303.77 1475.53 Q2303.77 1480.65 2300.25 1483.45 Q2296.73 1486.25 2290.25 1486.25 Q2288.07 1486.25 2285.76 1485.81 Q2283.47 1485.39 2281.01 1484.54 L2281.01 1480.02 Q2282.96 1481.16 2285.27 1481.74 Q2287.59 1482.32 2290.11 1482.32 Q2294.51 1482.32 2296.8 1480.58 Q2299.12 1478.84 2299.12 1475.53 Q2299.12 1472.48 2296.96 1470.77 Q2294.83 1469.03 2291.01 1469.03 L2286.99 1469.03 L2286.99 1465.19 L2291.2 1465.19 Q2294.65 1465.19 2296.48 1463.82 Q2298.31 1462.43 2298.31 1459.84 Q2298.31 1457.18 2296.41 1455.77 Q2294.53 1454.33 2291.01 1454.33 Q2289.09 1454.33 2286.89 1454.75 Q2284.69 1455.16 2282.06 1456.04 L2282.06 1451.88 Q2284.72 1451.14 2287.03 1450.77 Q2289.37 1450.39 2291.43 1450.39 Q2296.75 1450.39 2299.86 1452.83 Q2302.96 1455.23 2302.96 1459.35 Q2302.96 1462.22 2301.31 1464.21 Q2299.67 1466.18 2296.64 1466.95 Z\" fill=\"#000000\" fill-rule=\"nonzero\" fill-opacity=\"1\" /><path clip-path=\"url(#clip840)\" d=\"M1302.93 1532.4 L1290.04 1549.74 L1303.59 1568.04 L1296.69 1568.04 L1286.31 1554.04 L1275.93 1568.04 L1269.03 1568.04 L1282.87 1549.39 L1270.21 1532.4 L1277.11 1532.4 L1286.57 1545.1 L1296.02 1532.4 L1302.93 1532.4 Z\" fill=\"#000000\" fill-rule=\"nonzero\" fill-opacity=\"1\" /><polyline clip-path=\"url(#clip842)\" style=\"stroke:#000000; stroke-linecap:round; stroke-linejoin:round; stroke-width:2; stroke-opacity:0.1; fill:none\" points=\"219.866,1384.24 2352.76,1384.24 \"/>\n",
       "<polyline clip-path=\"url(#clip842)\" style=\"stroke:#000000; stroke-linecap:round; stroke-linejoin:round; stroke-width:2; stroke-opacity:0.1; fill:none\" points=\"219.866,1058.86 2352.76,1058.86 \"/>\n",
       "<polyline clip-path=\"url(#clip842)\" style=\"stroke:#000000; stroke-linecap:round; stroke-linejoin:round; stroke-width:2; stroke-opacity:0.1; fill:none\" points=\"219.866,733.491 2352.76,733.491 \"/>\n",
       "<polyline clip-path=\"url(#clip842)\" style=\"stroke:#000000; stroke-linecap:round; stroke-linejoin:round; stroke-width:2; stroke-opacity:0.1; fill:none\" points=\"219.866,408.118 2352.76,408.118 \"/>\n",
       "<polyline clip-path=\"url(#clip842)\" style=\"stroke:#000000; stroke-linecap:round; stroke-linejoin:round; stroke-width:2; stroke-opacity:0.1; fill:none\" points=\"219.866,82.7441 2352.76,82.7441 \"/>\n",
       "<polyline clip-path=\"url(#clip840)\" style=\"stroke:#000000; stroke-linecap:round; stroke-linejoin:round; stroke-width:4; stroke-opacity:1; fill:none\" points=\"219.866,1423.18 219.866,47.2441 \"/>\n",
       "<polyline clip-path=\"url(#clip840)\" style=\"stroke:#000000; stroke-linecap:round; stroke-linejoin:round; stroke-width:4; stroke-opacity:1; fill:none\" points=\"219.866,1384.24 238.764,1384.24 \"/>\n",
       "<polyline clip-path=\"url(#clip840)\" style=\"stroke:#000000; stroke-linecap:round; stroke-linejoin:round; stroke-width:4; stroke-opacity:1; fill:none\" points=\"219.866,1058.86 238.764,1058.86 \"/>\n",
       "<polyline clip-path=\"url(#clip840)\" style=\"stroke:#000000; stroke-linecap:round; stroke-linejoin:round; stroke-width:4; stroke-opacity:1; fill:none\" points=\"219.866,733.491 238.764,733.491 \"/>\n",
       "<polyline clip-path=\"url(#clip840)\" style=\"stroke:#000000; stroke-linecap:round; stroke-linejoin:round; stroke-width:4; stroke-opacity:1; fill:none\" points=\"219.866,408.118 238.764,408.118 \"/>\n",
       "<polyline clip-path=\"url(#clip840)\" style=\"stroke:#000000; stroke-linecap:round; stroke-linejoin:round; stroke-width:4; stroke-opacity:1; fill:none\" points=\"219.866,82.7441 238.764,82.7441 \"/>\n",
       "<path clip-path=\"url(#clip840)\" d=\"M126.691 1370.04 Q123.08 1370.04 121.251 1373.6 Q119.445 1377.14 119.445 1384.27 Q119.445 1391.38 121.251 1394.94 Q123.08 1398.49 126.691 1398.49 Q130.325 1398.49 132.13 1394.94 Q133.959 1391.38 133.959 1384.27 Q133.959 1377.14 132.13 1373.6 Q130.325 1370.04 126.691 1370.04 M126.691 1366.33 Q132.501 1366.33 135.556 1370.94 Q138.635 1375.52 138.635 1384.27 Q138.635 1393 135.556 1397.61 Q132.501 1402.19 126.691 1402.19 Q120.88 1402.19 117.802 1397.61 Q114.746 1393 114.746 1384.27 Q114.746 1375.52 117.802 1370.94 Q120.88 1366.33 126.691 1366.33 Z\" fill=\"#000000\" fill-rule=\"nonzero\" fill-opacity=\"1\" /><path clip-path=\"url(#clip840)\" d=\"M146.853 1395.64 L151.737 1395.64 L151.737 1401.52 L146.853 1401.52 L146.853 1395.64 Z\" fill=\"#000000\" fill-rule=\"nonzero\" fill-opacity=\"1\" /><path clip-path=\"url(#clip840)\" d=\"M171.922 1370.04 Q168.311 1370.04 166.482 1373.6 Q164.677 1377.14 164.677 1384.27 Q164.677 1391.38 166.482 1394.94 Q168.311 1398.49 171.922 1398.49 Q175.556 1398.49 177.362 1394.94 Q179.19 1391.38 179.19 1384.27 Q179.19 1377.14 177.362 1373.6 Q175.556 1370.04 171.922 1370.04 M171.922 1366.33 Q177.732 1366.33 180.788 1370.94 Q183.866 1375.52 183.866 1384.27 Q183.866 1393 180.788 1397.61 Q177.732 1402.19 171.922 1402.19 Q166.112 1402.19 163.033 1397.61 Q159.978 1393 159.978 1384.27 Q159.978 1375.52 163.033 1370.94 Q166.112 1366.33 171.922 1366.33 Z\" fill=\"#000000\" fill-rule=\"nonzero\" fill-opacity=\"1\" /><path clip-path=\"url(#clip840)\" d=\"M128.288 1044.66 Q124.677 1044.66 122.848 1048.23 Q121.043 1051.77 121.043 1058.9 Q121.043 1066.01 122.848 1069.57 Q124.677 1073.11 128.288 1073.11 Q131.922 1073.11 133.728 1069.57 Q135.556 1066.01 135.556 1058.9 Q135.556 1051.77 133.728 1048.23 Q131.922 1044.66 128.288 1044.66 M128.288 1040.96 Q134.098 1040.96 137.154 1045.57 Q140.232 1050.15 140.232 1058.9 Q140.232 1067.63 137.154 1072.23 Q134.098 1076.82 128.288 1076.82 Q122.478 1076.82 119.399 1072.23 Q116.343 1067.63 116.343 1058.9 Q116.343 1050.15 119.399 1045.57 Q122.478 1040.96 128.288 1040.96 Z\" fill=\"#000000\" fill-rule=\"nonzero\" fill-opacity=\"1\" /><path clip-path=\"url(#clip840)\" d=\"M148.45 1070.27 L153.334 1070.27 L153.334 1076.14 L148.45 1076.14 L148.45 1070.27 Z\" fill=\"#000000\" fill-rule=\"nonzero\" fill-opacity=\"1\" /><path clip-path=\"url(#clip840)\" d=\"M167.547 1072.21 L183.866 1072.21 L183.866 1076.14 L161.922 1076.14 L161.922 1072.21 Q164.584 1069.45 169.167 1064.83 Q173.774 1060.17 174.954 1058.83 Q177.2 1056.31 178.079 1054.57 Q178.982 1052.81 178.982 1051.12 Q178.982 1048.37 177.038 1046.63 Q175.116 1044.89 172.014 1044.89 Q169.815 1044.89 167.362 1045.66 Q164.931 1046.42 162.153 1047.97 L162.153 1043.25 Q164.977 1042.12 167.431 1041.54 Q169.885 1040.96 171.922 1040.96 Q177.292 1040.96 180.487 1043.64 Q183.681 1046.33 183.681 1050.82 Q183.681 1052.95 182.871 1054.87 Q182.084 1056.77 179.977 1059.36 Q179.399 1060.03 176.297 1063.25 Q173.195 1066.45 167.547 1072.21 Z\" fill=\"#000000\" fill-rule=\"nonzero\" fill-opacity=\"1\" /><path clip-path=\"url(#clip840)\" d=\"M126.205 719.29 Q122.593 719.29 120.765 722.855 Q118.959 726.396 118.959 733.526 Q118.959 740.632 120.765 744.197 Q122.593 747.739 126.205 747.739 Q129.839 747.739 131.644 744.197 Q133.473 740.632 133.473 733.526 Q133.473 726.396 131.644 722.855 Q129.839 719.29 126.205 719.29 M126.205 715.586 Q132.015 715.586 135.07 720.193 Q138.149 724.776 138.149 733.526 Q138.149 742.253 135.07 746.859 Q132.015 751.442 126.205 751.442 Q120.394 751.442 117.316 746.859 Q114.26 742.253 114.26 733.526 Q114.26 724.776 117.316 720.193 Q120.394 715.586 126.205 715.586 Z\" fill=\"#000000\" fill-rule=\"nonzero\" fill-opacity=\"1\" /><path clip-path=\"url(#clip840)\" d=\"M146.366 744.892 L151.251 744.892 L151.251 750.771 L146.366 750.771 L146.366 744.892 Z\" fill=\"#000000\" fill-rule=\"nonzero\" fill-opacity=\"1\" /><path clip-path=\"url(#clip840)\" d=\"M174.283 720.285 L162.477 738.734 L174.283 738.734 L174.283 720.285 M173.056 716.211 L178.936 716.211 L178.936 738.734 L183.866 738.734 L183.866 742.623 L178.936 742.623 L178.936 750.771 L174.283 750.771 L174.283 742.623 L158.681 742.623 L158.681 738.109 L173.056 716.211 Z\" fill=\"#000000\" fill-rule=\"nonzero\" fill-opacity=\"1\" /><path clip-path=\"url(#clip840)\" d=\"M126.529 393.916 Q122.918 393.916 121.089 397.481 Q119.283 401.023 119.283 408.152 Q119.283 415.259 121.089 418.824 Q122.918 422.365 126.529 422.365 Q130.163 422.365 131.968 418.824 Q133.797 415.259 133.797 408.152 Q133.797 401.023 131.968 397.481 Q130.163 393.916 126.529 393.916 M126.529 390.213 Q132.339 390.213 135.394 394.819 Q138.473 399.402 138.473 408.152 Q138.473 416.879 135.394 421.486 Q132.339 426.069 126.529 426.069 Q120.718 426.069 117.64 421.486 Q114.584 416.879 114.584 408.152 Q114.584 399.402 117.64 394.819 Q120.718 390.213 126.529 390.213 Z\" fill=\"#000000\" fill-rule=\"nonzero\" fill-opacity=\"1\" /><path clip-path=\"url(#clip840)\" d=\"M146.691 419.518 L151.575 419.518 L151.575 425.398 L146.691 425.398 L146.691 419.518 Z\" fill=\"#000000\" fill-rule=\"nonzero\" fill-opacity=\"1\" /><path clip-path=\"url(#clip840)\" d=\"M172.339 406.254 Q169.19 406.254 167.339 408.407 Q165.51 410.56 165.51 414.31 Q165.51 418.037 167.339 420.213 Q169.19 422.365 172.339 422.365 Q175.487 422.365 177.315 420.213 Q179.167 418.037 179.167 414.31 Q179.167 410.56 177.315 408.407 Q175.487 406.254 172.339 406.254 M181.621 391.602 L181.621 395.861 Q179.862 395.027 178.056 394.588 Q176.274 394.148 174.514 394.148 Q169.885 394.148 167.431 397.273 Q165.001 400.398 164.653 406.717 Q166.019 404.703 168.079 403.639 Q170.139 402.551 172.616 402.551 Q177.825 402.551 180.834 405.722 Q183.866 408.87 183.866 414.31 Q183.866 419.634 180.718 422.851 Q177.57 426.069 172.339 426.069 Q166.343 426.069 163.172 421.486 Q160.001 416.879 160.001 408.152 Q160.001 399.958 163.89 395.097 Q167.778 390.213 174.329 390.213 Q176.089 390.213 177.871 390.56 Q179.676 390.907 181.621 391.602 Z\" fill=\"#000000\" fill-rule=\"nonzero\" fill-opacity=\"1\" /><path clip-path=\"url(#clip840)\" d=\"M126.783 68.5428 Q123.172 68.5428 121.343 72.1076 Q119.538 75.6493 119.538 82.7789 Q119.538 89.8853 121.343 93.4501 Q123.172 96.9917 126.783 96.9917 Q130.417 96.9917 132.223 93.4501 Q134.052 89.8853 134.052 82.7789 Q134.052 75.6493 132.223 72.1076 Q130.417 68.5428 126.783 68.5428 M126.783 64.8391 Q132.593 64.8391 135.649 69.4456 Q138.728 74.0289 138.728 82.7789 Q138.728 91.5057 135.649 96.1121 Q132.593 100.695 126.783 100.695 Q120.973 100.695 117.894 96.1121 Q114.839 91.5057 114.839 82.7789 Q114.839 74.0289 117.894 69.4456 Q120.973 64.8391 126.783 64.8391 Z\" fill=\"#000000\" fill-rule=\"nonzero\" fill-opacity=\"1\" /><path clip-path=\"url(#clip840)\" d=\"M146.945 94.1445 L151.829 94.1445 L151.829 100.024 L146.945 100.024 L146.945 94.1445 Z\" fill=\"#000000\" fill-rule=\"nonzero\" fill-opacity=\"1\" /><path clip-path=\"url(#clip840)\" d=\"M172.014 83.6122 Q168.681 83.6122 166.76 85.3946 Q164.862 87.177 164.862 90.302 Q164.862 93.4269 166.76 95.2093 Q168.681 96.9917 172.014 96.9917 Q175.348 96.9917 177.269 95.2093 Q179.19 93.4038 179.19 90.302 Q179.19 87.177 177.269 85.3946 Q175.371 83.6122 172.014 83.6122 M167.339 81.6215 Q164.329 80.8807 162.64 78.8205 Q160.973 76.7604 160.973 73.7974 Q160.973 69.6539 163.913 67.2465 Q166.876 64.8391 172.014 64.8391 Q177.176 64.8391 180.116 67.2465 Q183.056 69.6539 183.056 73.7974 Q183.056 76.7604 181.366 78.8205 Q179.7 80.8807 176.714 81.6215 Q180.093 82.4085 181.968 84.7001 Q183.866 86.9918 183.866 90.302 Q183.866 95.3251 180.788 98.0103 Q177.732 100.695 172.014 100.695 Q166.297 100.695 163.218 98.0103 Q160.163 95.3251 160.163 90.302 Q160.163 86.9918 162.061 84.7001 Q163.959 82.4085 167.339 81.6215 M165.626 74.2372 Q165.626 76.9224 167.292 78.427 Q168.982 79.9316 172.014 79.9316 Q175.024 79.9316 176.714 78.427 Q178.426 76.9224 178.426 74.2372 Q178.426 71.5521 176.714 70.0474 Q175.024 68.5428 172.014 68.5428 Q168.982 68.5428 167.292 70.0474 Q165.626 71.5521 165.626 74.2372 Z\" fill=\"#000000\" fill-rule=\"nonzero\" fill-opacity=\"1\" /><path clip-path=\"url(#clip840)\" d=\"M58.657 788.97 L77.5631 788.97 L77.5631 794.859 L28.3562 794.859 L28.3562 788.97 L33.7671 788.97 Q30.5842 787.124 29.0564 784.323 Q27.4968 781.491 27.4968 777.576 Q27.4968 771.083 32.6531 767.041 Q37.8093 762.966 46.212 762.966 Q54.6147 762.966 59.771 767.041 Q64.9272 771.083 64.9272 777.576 Q64.9272 781.491 63.3994 784.323 Q61.8398 787.124 58.657 788.97 M46.212 769.046 Q39.7508 769.046 36.0905 771.719 Q32.3984 774.361 32.3984 779.008 Q32.3984 783.655 36.0905 786.329 Q39.7508 788.97 46.212 788.97 Q52.6732 788.97 56.3653 786.329 Q60.0256 783.655 60.0256 779.008 Q60.0256 774.361 56.3653 771.719 Q52.6732 769.046 46.212 769.046 Z\" fill=\"#000000\" fill-rule=\"nonzero\" fill-opacity=\"1\" /><path clip-path=\"url(#clip840)\" d=\"M14.5426 739.191 Q21.8632 743.456 29.0246 745.524 Q36.186 747.593 43.5384 747.593 Q50.8908 747.593 58.1159 745.524 Q65.3091 743.424 72.5979 739.191 L72.5979 744.283 Q65.1182 749.057 57.8931 751.445 Q50.668 753.8 43.5384 753.8 Q36.4406 753.8 29.2474 751.445 Q22.0542 749.089 14.5426 744.283 L14.5426 739.191 Z\" fill=\"#000000\" fill-rule=\"nonzero\" fill-opacity=\"1\" /><path clip-path=\"url(#clip840)\" d=\"M28.3562 698.195 L45.7028 711.086 L64.0042 697.527 L64.0042 704.434 L49.9996 714.81 L64.0042 725.186 L64.0042 732.093 L45.3526 718.247 L28.3562 730.915 L28.3562 724.008 L41.0558 714.555 L28.3562 705.102 L28.3562 698.195 Z\" fill=\"#000000\" fill-rule=\"nonzero\" fill-opacity=\"1\" /><path clip-path=\"url(#clip840)\" d=\"M14.5426 690.175 L14.5426 685.082 Q22.0542 680.308 29.2474 677.952 Q36.4406 675.565 43.5384 675.565 Q50.668 675.565 57.8931 677.952 Q65.1182 680.308 72.5979 685.082 L72.5979 690.175 Q65.3091 685.941 58.1159 683.873 Q50.8908 681.772 43.5384 681.772 Q36.186 681.772 29.0246 683.873 Q21.8632 685.941 14.5426 690.175 Z\" fill=\"#000000\" fill-rule=\"nonzero\" fill-opacity=\"1\" /><polyline clip-path=\"url(#clip842)\" style=\"stroke:#ff0000; stroke-linecap:round; stroke-linejoin:round; stroke-width:20; stroke-opacity:1; fill:none\" stroke-dasharray=\"80, 50\" points=\"280.231,1384.24 286.938,1384.24 293.645,1384.24 300.353,1384.24 307.06,1384.24 313.767,1384.24 320.474,1384.24 327.181,1384.24 333.889,1384.24 340.596,1384.24 347.303,1384.24 354.01,1384.24 360.717,1384.24 367.425,1384.24 374.132,1384.24 380.839,1384.24 387.546,1384.24 394.253,1384.24 400.961,1384.24 407.668,1384.24 414.375,1384.24 421.082,1384.24 427.789,1384.24 434.497,1384.24 441.204,1384.24 447.911,1384.24 454.618,1384.24 461.325,1384.24 468.033,1384.24 474.74,1384.24 481.447,1384.24 488.154,1384.24 494.861,1384.24 501.569,1384.24 508.276,1384.24 514.983,1384.24 521.69,1384.24 528.397,1384.24 535.105,1384.24 541.812,1384.24 548.519,1384.24 555.226,1384.24 561.933,1384.24 568.641,1384.24 575.348,1384.24 582.055,1384.24 588.762,1384.24 595.469,1384.24 602.177,1384.24 608.884,1384.24 615.591,1384.24 622.298,1384.24 629.005,1384.24 635.713,1384.24 642.42,1384.24 649.127,1384.24 655.834,1384.24 662.541,1384.24 669.249,1384.24 675.956,1384.24 682.663,1384.24 689.37,1384.24 696.077,1384.24 702.785,1384.24 709.492,1384.24 716.199,1384.24 722.906,1384.24 729.613,1384.24 736.321,1384.24 743.028,1384.24 749.735,1384.24 756.442,1384.24 763.149,1384.24 769.857,1384.24 776.564,1384.23 783.271,1384.23 789.978,1384.23 796.685,1384.23 803.393,1384.23 810.1,1384.23 816.807,1384.23 823.514,1384.22 830.221,1384.22 836.929,1384.22 843.636,1384.21 850.343,1384.21 857.05,1384.2 863.757,1384.19 870.465,1384.18 877.172,1384.17 883.879,1384.16 890.586,1384.14 897.293,1384.12 904.001,1384.1 910.708,1384.08 917.415,1384.05 924.122,1384.01 930.829,1383.97 937.537,1383.92 944.244,1383.87 950.951,1383.8 957.658,1383.73 964.365,1383.64 971.073,1383.54 977.78,1383.42 984.487,1383.29 991.194,1383.13 997.901,1382.95 1004.61,1382.75 1011.32,1382.52 1018.02,1382.25 1024.73,1381.94 1031.44,1381.59 1038.14,1381.19 1044.85,1380.74 1051.56,1380.23 1058.27,1379.65 1064.97,1378.99 1071.68,1378.25 1078.39,1377.42 1085.1,1376.48 1091.8,1375.43 1098.51,1374.25 1105.22,1372.93 1111.92,1371.46 1118.63,1369.82 1125.34,1367.99 1132.05,1365.97 1138.75,1363.72 1145.46,1361.23 1152.17,1358.48 1158.87,1355.45 1165.58,1352.12 1172.29,1348.46 1179,1344.44 1185.7,1340.04 1192.41,1335.24 1199.12,1330 1205.82,1324.29 1212.53,1318.1 1219.24,1311.37 1225.95,1304.09 1232.65,1296.23 1239.36,1287.75 1246.07,1278.62 1252.78,1268.81 1259.48,1258.3 1266.19,1247.04 1272.9,1235.02 1279.6,1222.2 1286.31,1208.57 1293.02,1194.09 1299.73,1178.74 1306.43,1162.52 1313.14,1145.39 1319.85,1127.36 1326.55,1108.4 1333.26,1088.52 1339.97,1067.71 1346.68,1045.98 1353.38,1023.33 1360.09,999.786 1366.8,975.359 1373.5,950.075 1380.21,923.965 1386.92,897.065 1393.63,869.417 1400.33,841.069 1407.04,812.077 1413.75,782.501 1420.46,752.408 1427.16,721.871 1433.87,690.968 1440.58,659.783 1447.28,628.405 1453.99,596.93 1460.7,565.454 1467.41,534.082 1474.11,502.919 1480.82,472.074 1487.53,441.659 1494.23,411.787 1500.94,382.572 1507.65,354.129 1514.36,326.572 1521.06,300.014 1527.77,274.566 1534.48,250.336 1541.18,227.43 1547.89,205.947 1554.6,185.985 1561.31,167.632 1568.01,150.973 1574.72,136.085 1581.43,123.036 1588.14,111.889 1594.84,102.695 1601.55,95.4981 1608.26,90.3328 1614.96,87.2237 1621.67,86.1857 1628.38,87.2237 1635.09,90.3328 1641.79,95.4981 1648.5,102.695 1655.21,111.889 1661.91,123.036 1668.62,136.085 1675.33,150.973 1682.04,167.632 1688.74,185.985 1695.45,205.947 1702.16,227.43 1708.86,250.336 1715.57,274.566 1722.28,300.014 1728.99,326.572 1735.69,354.129 1742.4,382.572 1749.11,411.787 1755.82,441.659 1762.52,472.074 1769.23,502.919 1775.94,534.082 1782.64,565.454 1789.35,596.93 1796.06,628.405 1802.77,659.783 1809.47,690.968 1816.18,721.871 1822.89,752.408 1829.59,782.501 1836.3,812.077 1843.01,841.069 1849.72,869.417 1856.42,897.065 1863.13,923.965 1869.84,950.075 1876.54,975.359 1883.25,999.786 1889.96,1023.33 1896.67,1045.98 1903.37,1067.71 1910.08,1088.52 1916.79,1108.4 1923.5,1127.36 1930.2,1145.39 1936.91,1162.52 1943.62,1178.74 1950.32,1194.09 1957.03,1208.57 1963.74,1222.2 1970.45,1235.02 1977.15,1247.04 1983.86,1258.3 1990.57,1268.81 1997.27,1278.62 2003.98,1287.75 2010.69,1296.23 2017.4,1304.09 2024.1,1311.37 2030.81,1318.1 2037.52,1324.29 2044.22,1330 2050.93,1335.24 2057.64,1340.04 2064.35,1344.44 2071.05,1348.46 2077.76,1352.12 2084.47,1355.45 2091.18,1358.48 2097.88,1361.23 2104.59,1363.72 2111.3,1365.97 2118,1367.99 2124.71,1369.82 2131.42,1371.46 2138.13,1372.93 2144.83,1374.25 2151.54,1375.43 2158.25,1376.48 2164.95,1377.42 2171.66,1378.25 2178.37,1378.99 2185.08,1379.65 2191.78,1380.23 2198.49,1380.74 2205.2,1381.19 2211.9,1381.59 2218.61,1381.94 2225.32,1382.25 2232.03,1382.52 2238.73,1382.75 2245.44,1382.95 2252.15,1383.13 2258.86,1383.29 2265.56,1383.42 2272.27,1383.54 2278.98,1383.64 2285.68,1383.73 2292.39,1383.8 \"/>\n",
       "<path clip-path=\"url(#clip840)\" d=\"M1994.9 196.789 L2281.66 196.789 L2281.66 93.1086 L1994.9 93.1086  Z\" fill=\"#ffffff\" fill-rule=\"evenodd\" fill-opacity=\"1\"/>\n",
       "<polyline clip-path=\"url(#clip840)\" style=\"stroke:#000000; stroke-linecap:round; stroke-linejoin:round; stroke-width:4; stroke-opacity:1; fill:none\" points=\"1994.9,196.789 2281.66,196.789 2281.66,93.1086 1994.9,93.1086 1994.9,196.789 \"/>\n",
       "<polyline clip-path=\"url(#clip840)\" style=\"stroke:#ff0000; stroke-linecap:round; stroke-linejoin:round; stroke-width:20; stroke-opacity:1; fill:none\" stroke-dasharray=\"80, 50\" points=\"2018.6,144.949 2160.79,144.949 \"/>\n",
       "<path clip-path=\"url(#clip840)\" d=\"M2188.77 158.34 L2188.77 172.09 L2184.49 172.09 L2184.49 136.303 L2188.77 136.303 L2188.77 140.238 Q2190.11 137.923 2192.15 136.812 Q2194.21 135.678 2197.06 135.678 Q2201.78 135.678 2204.72 139.428 Q2207.68 143.178 2207.68 149.289 Q2207.68 155.4 2204.72 159.15 Q2201.78 162.9 2197.06 162.9 Q2194.21 162.9 2192.15 161.789 Q2190.11 160.655 2188.77 158.34 M2203.26 149.289 Q2203.26 144.59 2201.32 141.928 Q2199.4 139.243 2196.02 139.243 Q2192.64 139.243 2190.69 141.928 Q2188.77 144.59 2188.77 149.289 Q2188.77 153.988 2190.69 156.673 Q2192.64 159.335 2196.02 159.335 Q2199.4 159.335 2201.32 156.673 Q2203.26 153.988 2203.26 149.289 Z\" fill=\"#000000\" fill-rule=\"nonzero\" fill-opacity=\"1\" /><path clip-path=\"url(#clip840)\" d=\"M2231.8 140.238 L2231.8 126.21 L2236.06 126.21 L2236.06 162.229 L2231.8 162.229 L2231.8 158.34 Q2230.46 160.655 2228.4 161.789 Q2226.36 162.9 2223.49 162.9 Q2218.79 162.9 2215.83 159.15 Q2212.89 155.4 2212.89 149.289 Q2212.89 143.178 2215.83 139.428 Q2218.79 135.678 2223.49 135.678 Q2226.36 135.678 2228.4 136.812 Q2230.46 137.923 2231.8 140.238 M2217.29 149.289 Q2217.29 153.988 2219.21 156.673 Q2221.16 159.335 2224.54 159.335 Q2227.91 159.335 2229.86 156.673 Q2231.8 153.988 2231.8 149.289 Q2231.8 144.59 2229.86 141.928 Q2227.91 139.243 2224.54 139.243 Q2221.16 139.243 2219.21 141.928 Q2217.29 144.59 2217.29 149.289 Z\" fill=\"#000000\" fill-rule=\"nonzero\" fill-opacity=\"1\" /><path clip-path=\"url(#clip840)\" d=\"M2257.96 126.21 L2257.96 129.752 L2253.89 129.752 Q2251.6 129.752 2250.69 130.678 Q2249.81 131.604 2249.81 134.011 L2249.81 136.303 L2256.83 136.303 L2256.83 139.613 L2249.81 139.613 L2249.81 162.229 L2245.53 162.229 L2245.53 139.613 L2241.46 139.613 L2241.46 136.303 L2245.53 136.303 L2245.53 134.497 Q2245.53 130.169 2247.54 128.201 Q2249.56 126.21 2253.93 126.21 L2257.96 126.21 Z\" fill=\"#000000\" fill-rule=\"nonzero\" fill-opacity=\"1\" /></svg>\n"
      ],
      "text/html": [
       "<?xml version=\"1.0\" encoding=\"utf-8\"?>\n",
       "<svg xmlns=\"http://www.w3.org/2000/svg\" xmlns:xlink=\"http://www.w3.org/1999/xlink\" width=\"600\" height=\"400\" viewBox=\"0 0 2400 1600\">\n",
       "<defs>\n",
       "  <clipPath id=\"clip890\">\n",
       "    <rect x=\"0\" y=\"0\" width=\"2400\" height=\"1600\"/>\n",
       "  </clipPath>\n",
       "</defs>\n",
       "<path clip-path=\"url(#clip890)\" d=\"M0 1600 L2400 1600 L2400 0 L0 0  Z\" fill=\"#ffffff\" fill-rule=\"evenodd\" fill-opacity=\"1\"/>\n",
       "<defs>\n",
       "  <clipPath id=\"clip891\">\n",
       "    <rect x=\"480\" y=\"0\" width=\"1681\" height=\"1600\"/>\n",
       "  </clipPath>\n",
       "</defs>\n",
       "<path clip-path=\"url(#clip890)\" d=\"M219.866 1423.18 L2352.76 1423.18 L2352.76 47.2441 L219.866 47.2441  Z\" fill=\"#ffffff\" fill-rule=\"evenodd\" fill-opacity=\"1\"/>\n",
       "<defs>\n",
       "  <clipPath id=\"clip892\">\n",
       "    <rect x=\"219\" y=\"47\" width=\"2134\" height=\"1377\"/>\n",
       "  </clipPath>\n",
       "</defs>\n",
       "<polyline clip-path=\"url(#clip892)\" style=\"stroke:#000000; stroke-linecap:round; stroke-linejoin:round; stroke-width:2; stroke-opacity:0.1; fill:none\" points=\"280.231,1423.18 280.231,47.2441 \"/>\n",
       "<polyline clip-path=\"url(#clip892)\" style=\"stroke:#000000; stroke-linecap:round; stroke-linejoin:round; stroke-width:2; stroke-opacity:0.1; fill:none\" points=\"615.591,1423.18 615.591,47.2441 \"/>\n",
       "<polyline clip-path=\"url(#clip892)\" style=\"stroke:#000000; stroke-linecap:round; stroke-linejoin:round; stroke-width:2; stroke-opacity:0.1; fill:none\" points=\"950.951,1423.18 950.951,47.2441 \"/>\n",
       "<polyline clip-path=\"url(#clip892)\" style=\"stroke:#000000; stroke-linecap:round; stroke-linejoin:round; stroke-width:2; stroke-opacity:0.1; fill:none\" points=\"1286.31,1423.18 1286.31,47.2441 \"/>\n",
       "<polyline clip-path=\"url(#clip892)\" style=\"stroke:#000000; stroke-linecap:round; stroke-linejoin:round; stroke-width:2; stroke-opacity:0.1; fill:none\" points=\"1621.67,1423.18 1621.67,47.2441 \"/>\n",
       "<polyline clip-path=\"url(#clip892)\" style=\"stroke:#000000; stroke-linecap:round; stroke-linejoin:round; stroke-width:2; stroke-opacity:0.1; fill:none\" points=\"1957.03,1423.18 1957.03,47.2441 \"/>\n",
       "<polyline clip-path=\"url(#clip892)\" style=\"stroke:#000000; stroke-linecap:round; stroke-linejoin:round; stroke-width:2; stroke-opacity:0.1; fill:none\" points=\"2292.39,1423.18 2292.39,47.2441 \"/>\n",
       "<polyline clip-path=\"url(#clip890)\" style=\"stroke:#000000; stroke-linecap:round; stroke-linejoin:round; stroke-width:4; stroke-opacity:1; fill:none\" points=\"219.866,1423.18 2352.76,1423.18 \"/>\n",
       "<polyline clip-path=\"url(#clip890)\" style=\"stroke:#000000; stroke-linecap:round; stroke-linejoin:round; stroke-width:4; stroke-opacity:1; fill:none\" points=\"280.231,1423.18 280.231,1404.28 \"/>\n",
       "<polyline clip-path=\"url(#clip890)\" style=\"stroke:#000000; stroke-linecap:round; stroke-linejoin:round; stroke-width:4; stroke-opacity:1; fill:none\" points=\"615.591,1423.18 615.591,1404.28 \"/>\n",
       "<polyline clip-path=\"url(#clip890)\" style=\"stroke:#000000; stroke-linecap:round; stroke-linejoin:round; stroke-width:4; stroke-opacity:1; fill:none\" points=\"950.951,1423.18 950.951,1404.28 \"/>\n",
       "<polyline clip-path=\"url(#clip890)\" style=\"stroke:#000000; stroke-linecap:round; stroke-linejoin:round; stroke-width:4; stroke-opacity:1; fill:none\" points=\"1286.31,1423.18 1286.31,1404.28 \"/>\n",
       "<polyline clip-path=\"url(#clip890)\" style=\"stroke:#000000; stroke-linecap:round; stroke-linejoin:round; stroke-width:4; stroke-opacity:1; fill:none\" points=\"1621.67,1423.18 1621.67,1404.28 \"/>\n",
       "<polyline clip-path=\"url(#clip890)\" style=\"stroke:#000000; stroke-linecap:round; stroke-linejoin:round; stroke-width:4; stroke-opacity:1; fill:none\" points=\"1957.03,1423.18 1957.03,1404.28 \"/>\n",
       "<polyline clip-path=\"url(#clip890)\" style=\"stroke:#000000; stroke-linecap:round; stroke-linejoin:round; stroke-width:4; stroke-opacity:1; fill:none\" points=\"2292.39,1423.18 2292.39,1404.28 \"/>\n",
       "<path clip-path=\"url(#clip890)\" d=\"M249.699 1468.75 L279.375 1468.75 L279.375 1472.69 L249.699 1472.69 L249.699 1468.75 Z\" fill=\"#000000\" fill-rule=\"nonzero\" fill-opacity=\"1\" /><path clip-path=\"url(#clip890)\" d=\"M303.634 1466.95 Q306.99 1467.66 308.865 1469.93 Q310.763 1472.2 310.763 1475.53 Q310.763 1480.65 307.245 1483.45 Q303.726 1486.25 297.245 1486.25 Q295.069 1486.25 292.754 1485.81 Q290.462 1485.39 288.009 1484.54 L288.009 1480.02 Q289.953 1481.16 292.268 1481.74 Q294.583 1482.32 297.106 1482.32 Q301.504 1482.32 303.796 1480.58 Q306.111 1478.84 306.111 1475.53 Q306.111 1472.48 303.958 1470.77 Q301.828 1469.03 298.009 1469.03 L293.981 1469.03 L293.981 1465.19 L298.194 1465.19 Q301.643 1465.19 303.472 1463.82 Q305.3 1462.43 305.3 1459.84 Q305.3 1457.18 303.402 1455.77 Q301.527 1454.33 298.009 1454.33 Q296.087 1454.33 293.888 1454.75 Q291.689 1455.16 289.05 1456.04 L289.05 1451.88 Q291.712 1451.14 294.027 1450.77 Q296.365 1450.39 298.425 1450.39 Q303.749 1450.39 306.851 1452.83 Q309.953 1455.23 309.953 1459.35 Q309.953 1462.22 308.31 1464.21 Q306.666 1466.18 303.634 1466.95 Z\" fill=\"#000000\" fill-rule=\"nonzero\" fill-opacity=\"1\" /><path clip-path=\"url(#clip890)\" d=\"M585.533 1468.75 L615.209 1468.75 L615.209 1472.69 L585.533 1472.69 L585.533 1468.75 Z\" fill=\"#000000\" fill-rule=\"nonzero\" fill-opacity=\"1\" /><path clip-path=\"url(#clip890)\" d=\"M629.329 1481.64 L645.649 1481.64 L645.649 1485.58 L623.704 1485.58 L623.704 1481.64 Q626.366 1478.89 630.95 1474.26 Q635.556 1469.61 636.737 1468.27 Q638.982 1465.74 639.862 1464.01 Q640.765 1462.25 640.765 1460.56 Q640.765 1457.8 638.82 1456.07 Q636.899 1454.33 633.797 1454.33 Q631.598 1454.33 629.144 1455.09 Q626.714 1455.86 623.936 1457.41 L623.936 1452.69 Q626.76 1451.55 629.214 1450.97 Q631.667 1450.39 633.704 1450.39 Q639.075 1450.39 642.269 1453.08 Q645.464 1455.77 645.464 1460.26 Q645.464 1462.39 644.653 1464.31 Q643.866 1466.2 641.76 1468.8 Q641.181 1469.47 638.079 1472.69 Q634.978 1475.88 629.329 1481.64 Z\" fill=\"#000000\" fill-rule=\"nonzero\" fill-opacity=\"1\" /><path clip-path=\"url(#clip890)\" d=\"M920.708 1468.75 L950.384 1468.75 L950.384 1472.69 L920.708 1472.69 L920.708 1468.75 Z\" fill=\"#000000\" fill-rule=\"nonzero\" fill-opacity=\"1\" /><path clip-path=\"url(#clip890)\" d=\"M961.287 1481.64 L968.926 1481.64 L968.926 1455.28 L960.615 1456.95 L960.615 1452.69 L968.879 1451.02 L973.555 1451.02 L973.555 1481.64 L981.194 1481.64 L981.194 1485.58 L961.287 1485.58 L961.287 1481.64 Z\" fill=\"#000000\" fill-rule=\"nonzero\" fill-opacity=\"1\" /><path clip-path=\"url(#clip890)\" d=\"M1286.31 1454.1 Q1282.7 1454.1 1280.87 1457.66 Q1279.07 1461.2 1279.07 1468.33 Q1279.07 1475.44 1280.87 1479.01 Q1282.7 1482.55 1286.31 1482.55 Q1289.95 1482.55 1291.75 1479.01 Q1293.58 1475.44 1293.58 1468.33 Q1293.58 1461.2 1291.75 1457.66 Q1289.95 1454.1 1286.31 1454.1 M1286.31 1450.39 Q1292.12 1450.39 1295.18 1455 Q1298.26 1459.58 1298.26 1468.33 Q1298.26 1477.06 1295.18 1481.67 Q1292.12 1486.25 1286.31 1486.25 Q1280.5 1486.25 1277.42 1481.67 Q1274.37 1477.06 1274.37 1468.33 Q1274.37 1459.58 1277.42 1455 Q1280.5 1450.39 1286.31 1450.39 Z\" fill=\"#000000\" fill-rule=\"nonzero\" fill-opacity=\"1\" /><path clip-path=\"url(#clip890)\" d=\"M1612.05 1481.64 L1619.69 1481.64 L1619.69 1455.28 L1611.38 1456.95 L1611.38 1452.69 L1619.65 1451.02 L1624.32 1451.02 L1624.32 1481.64 L1631.96 1481.64 L1631.96 1485.58 L1612.05 1485.58 L1612.05 1481.64 Z\" fill=\"#000000\" fill-rule=\"nonzero\" fill-opacity=\"1\" /><path clip-path=\"url(#clip890)\" d=\"M1951.68 1481.64 L1968 1481.64 L1968 1485.58 L1946.06 1485.58 L1946.06 1481.64 Q1948.72 1478.89 1953.3 1474.26 Q1957.91 1469.61 1959.09 1468.27 Q1961.34 1465.74 1962.22 1464.01 Q1963.12 1462.25 1963.12 1460.56 Q1963.12 1457.8 1961.17 1456.07 Q1959.25 1454.33 1956.15 1454.33 Q1953.95 1454.33 1951.5 1455.09 Q1949.07 1455.86 1946.29 1457.41 L1946.29 1452.69 Q1949.11 1451.55 1951.57 1450.97 Q1954.02 1450.39 1956.06 1450.39 Q1961.43 1450.39 1964.62 1453.08 Q1967.82 1455.77 1967.82 1460.26 Q1967.82 1462.39 1967.01 1464.31 Q1966.22 1466.2 1964.11 1468.8 Q1963.54 1469.47 1960.43 1472.69 Q1957.33 1475.88 1951.68 1481.64 Z\" fill=\"#000000\" fill-rule=\"nonzero\" fill-opacity=\"1\" /><path clip-path=\"url(#clip890)\" d=\"M2296.64 1466.95 Q2300 1467.66 2301.87 1469.93 Q2303.77 1472.2 2303.77 1475.53 Q2303.77 1480.65 2300.25 1483.45 Q2296.73 1486.25 2290.25 1486.25 Q2288.07 1486.25 2285.76 1485.81 Q2283.47 1485.39 2281.01 1484.54 L2281.01 1480.02 Q2282.96 1481.16 2285.27 1481.74 Q2287.59 1482.32 2290.11 1482.32 Q2294.51 1482.32 2296.8 1480.58 Q2299.12 1478.84 2299.12 1475.53 Q2299.12 1472.48 2296.96 1470.77 Q2294.83 1469.03 2291.01 1469.03 L2286.99 1469.03 L2286.99 1465.19 L2291.2 1465.19 Q2294.65 1465.19 2296.48 1463.82 Q2298.31 1462.43 2298.31 1459.84 Q2298.31 1457.18 2296.41 1455.77 Q2294.53 1454.33 2291.01 1454.33 Q2289.09 1454.33 2286.89 1454.75 Q2284.69 1455.16 2282.06 1456.04 L2282.06 1451.88 Q2284.72 1451.14 2287.03 1450.77 Q2289.37 1450.39 2291.43 1450.39 Q2296.75 1450.39 2299.86 1452.83 Q2302.96 1455.23 2302.96 1459.35 Q2302.96 1462.22 2301.31 1464.21 Q2299.67 1466.18 2296.64 1466.95 Z\" fill=\"#000000\" fill-rule=\"nonzero\" fill-opacity=\"1\" /><path clip-path=\"url(#clip890)\" d=\"M1302.93 1532.4 L1290.04 1549.74 L1303.59 1568.04 L1296.69 1568.04 L1286.31 1554.04 L1275.93 1568.04 L1269.03 1568.04 L1282.87 1549.39 L1270.21 1532.4 L1277.11 1532.4 L1286.57 1545.1 L1296.02 1532.4 L1302.93 1532.4 Z\" fill=\"#000000\" fill-rule=\"nonzero\" fill-opacity=\"1\" /><polyline clip-path=\"url(#clip892)\" style=\"stroke:#000000; stroke-linecap:round; stroke-linejoin:round; stroke-width:2; stroke-opacity:0.1; fill:none\" points=\"219.866,1384.24 2352.76,1384.24 \"/>\n",
       "<polyline clip-path=\"url(#clip892)\" style=\"stroke:#000000; stroke-linecap:round; stroke-linejoin:round; stroke-width:2; stroke-opacity:0.1; fill:none\" points=\"219.866,1058.86 2352.76,1058.86 \"/>\n",
       "<polyline clip-path=\"url(#clip892)\" style=\"stroke:#000000; stroke-linecap:round; stroke-linejoin:round; stroke-width:2; stroke-opacity:0.1; fill:none\" points=\"219.866,733.491 2352.76,733.491 \"/>\n",
       "<polyline clip-path=\"url(#clip892)\" style=\"stroke:#000000; stroke-linecap:round; stroke-linejoin:round; stroke-width:2; stroke-opacity:0.1; fill:none\" points=\"219.866,408.118 2352.76,408.118 \"/>\n",
       "<polyline clip-path=\"url(#clip892)\" style=\"stroke:#000000; stroke-linecap:round; stroke-linejoin:round; stroke-width:2; stroke-opacity:0.1; fill:none\" points=\"219.866,82.7441 2352.76,82.7441 \"/>\n",
       "<polyline clip-path=\"url(#clip890)\" style=\"stroke:#000000; stroke-linecap:round; stroke-linejoin:round; stroke-width:4; stroke-opacity:1; fill:none\" points=\"219.866,1423.18 219.866,47.2441 \"/>\n",
       "<polyline clip-path=\"url(#clip890)\" style=\"stroke:#000000; stroke-linecap:round; stroke-linejoin:round; stroke-width:4; stroke-opacity:1; fill:none\" points=\"219.866,1384.24 238.764,1384.24 \"/>\n",
       "<polyline clip-path=\"url(#clip890)\" style=\"stroke:#000000; stroke-linecap:round; stroke-linejoin:round; stroke-width:4; stroke-opacity:1; fill:none\" points=\"219.866,1058.86 238.764,1058.86 \"/>\n",
       "<polyline clip-path=\"url(#clip890)\" style=\"stroke:#000000; stroke-linecap:round; stroke-linejoin:round; stroke-width:4; stroke-opacity:1; fill:none\" points=\"219.866,733.491 238.764,733.491 \"/>\n",
       "<polyline clip-path=\"url(#clip890)\" style=\"stroke:#000000; stroke-linecap:round; stroke-linejoin:round; stroke-width:4; stroke-opacity:1; fill:none\" points=\"219.866,408.118 238.764,408.118 \"/>\n",
       "<polyline clip-path=\"url(#clip890)\" style=\"stroke:#000000; stroke-linecap:round; stroke-linejoin:round; stroke-width:4; stroke-opacity:1; fill:none\" points=\"219.866,82.7441 238.764,82.7441 \"/>\n",
       "<path clip-path=\"url(#clip890)\" d=\"M126.691 1370.04 Q123.08 1370.04 121.251 1373.6 Q119.445 1377.14 119.445 1384.27 Q119.445 1391.38 121.251 1394.94 Q123.08 1398.49 126.691 1398.49 Q130.325 1398.49 132.13 1394.94 Q133.959 1391.38 133.959 1384.27 Q133.959 1377.14 132.13 1373.6 Q130.325 1370.04 126.691 1370.04 M126.691 1366.33 Q132.501 1366.33 135.556 1370.94 Q138.635 1375.52 138.635 1384.27 Q138.635 1393 135.556 1397.61 Q132.501 1402.19 126.691 1402.19 Q120.88 1402.19 117.802 1397.61 Q114.746 1393 114.746 1384.27 Q114.746 1375.52 117.802 1370.94 Q120.88 1366.33 126.691 1366.33 Z\" fill=\"#000000\" fill-rule=\"nonzero\" fill-opacity=\"1\" /><path clip-path=\"url(#clip890)\" d=\"M146.853 1395.64 L151.737 1395.64 L151.737 1401.52 L146.853 1401.52 L146.853 1395.64 Z\" fill=\"#000000\" fill-rule=\"nonzero\" fill-opacity=\"1\" /><path clip-path=\"url(#clip890)\" d=\"M171.922 1370.04 Q168.311 1370.04 166.482 1373.6 Q164.677 1377.14 164.677 1384.27 Q164.677 1391.38 166.482 1394.94 Q168.311 1398.49 171.922 1398.49 Q175.556 1398.49 177.362 1394.94 Q179.19 1391.38 179.19 1384.27 Q179.19 1377.14 177.362 1373.6 Q175.556 1370.04 171.922 1370.04 M171.922 1366.33 Q177.732 1366.33 180.788 1370.94 Q183.866 1375.52 183.866 1384.27 Q183.866 1393 180.788 1397.61 Q177.732 1402.19 171.922 1402.19 Q166.112 1402.19 163.033 1397.61 Q159.978 1393 159.978 1384.27 Q159.978 1375.52 163.033 1370.94 Q166.112 1366.33 171.922 1366.33 Z\" fill=\"#000000\" fill-rule=\"nonzero\" fill-opacity=\"1\" /><path clip-path=\"url(#clip890)\" d=\"M128.288 1044.66 Q124.677 1044.66 122.848 1048.23 Q121.043 1051.77 121.043 1058.9 Q121.043 1066.01 122.848 1069.57 Q124.677 1073.11 128.288 1073.11 Q131.922 1073.11 133.728 1069.57 Q135.556 1066.01 135.556 1058.9 Q135.556 1051.77 133.728 1048.23 Q131.922 1044.66 128.288 1044.66 M128.288 1040.96 Q134.098 1040.96 137.154 1045.57 Q140.232 1050.15 140.232 1058.9 Q140.232 1067.63 137.154 1072.23 Q134.098 1076.82 128.288 1076.82 Q122.478 1076.82 119.399 1072.23 Q116.343 1067.63 116.343 1058.9 Q116.343 1050.15 119.399 1045.57 Q122.478 1040.96 128.288 1040.96 Z\" fill=\"#000000\" fill-rule=\"nonzero\" fill-opacity=\"1\" /><path clip-path=\"url(#clip890)\" d=\"M148.45 1070.27 L153.334 1070.27 L153.334 1076.14 L148.45 1076.14 L148.45 1070.27 Z\" fill=\"#000000\" fill-rule=\"nonzero\" fill-opacity=\"1\" /><path clip-path=\"url(#clip890)\" d=\"M167.547 1072.21 L183.866 1072.21 L183.866 1076.14 L161.922 1076.14 L161.922 1072.21 Q164.584 1069.45 169.167 1064.83 Q173.774 1060.17 174.954 1058.83 Q177.2 1056.31 178.079 1054.57 Q178.982 1052.81 178.982 1051.12 Q178.982 1048.37 177.038 1046.63 Q175.116 1044.89 172.014 1044.89 Q169.815 1044.89 167.362 1045.66 Q164.931 1046.42 162.153 1047.97 L162.153 1043.25 Q164.977 1042.12 167.431 1041.54 Q169.885 1040.96 171.922 1040.96 Q177.292 1040.96 180.487 1043.64 Q183.681 1046.33 183.681 1050.82 Q183.681 1052.95 182.871 1054.87 Q182.084 1056.77 179.977 1059.36 Q179.399 1060.03 176.297 1063.25 Q173.195 1066.45 167.547 1072.21 Z\" fill=\"#000000\" fill-rule=\"nonzero\" fill-opacity=\"1\" /><path clip-path=\"url(#clip890)\" d=\"M126.205 719.29 Q122.593 719.29 120.765 722.855 Q118.959 726.396 118.959 733.526 Q118.959 740.632 120.765 744.197 Q122.593 747.739 126.205 747.739 Q129.839 747.739 131.644 744.197 Q133.473 740.632 133.473 733.526 Q133.473 726.396 131.644 722.855 Q129.839 719.29 126.205 719.29 M126.205 715.586 Q132.015 715.586 135.07 720.193 Q138.149 724.776 138.149 733.526 Q138.149 742.253 135.07 746.859 Q132.015 751.442 126.205 751.442 Q120.394 751.442 117.316 746.859 Q114.26 742.253 114.26 733.526 Q114.26 724.776 117.316 720.193 Q120.394 715.586 126.205 715.586 Z\" fill=\"#000000\" fill-rule=\"nonzero\" fill-opacity=\"1\" /><path clip-path=\"url(#clip890)\" d=\"M146.366 744.892 L151.251 744.892 L151.251 750.771 L146.366 750.771 L146.366 744.892 Z\" fill=\"#000000\" fill-rule=\"nonzero\" fill-opacity=\"1\" /><path clip-path=\"url(#clip890)\" d=\"M174.283 720.285 L162.477 738.734 L174.283 738.734 L174.283 720.285 M173.056 716.211 L178.936 716.211 L178.936 738.734 L183.866 738.734 L183.866 742.623 L178.936 742.623 L178.936 750.771 L174.283 750.771 L174.283 742.623 L158.681 742.623 L158.681 738.109 L173.056 716.211 Z\" fill=\"#000000\" fill-rule=\"nonzero\" fill-opacity=\"1\" /><path clip-path=\"url(#clip890)\" d=\"M126.529 393.916 Q122.918 393.916 121.089 397.481 Q119.283 401.023 119.283 408.152 Q119.283 415.259 121.089 418.824 Q122.918 422.365 126.529 422.365 Q130.163 422.365 131.968 418.824 Q133.797 415.259 133.797 408.152 Q133.797 401.023 131.968 397.481 Q130.163 393.916 126.529 393.916 M126.529 390.213 Q132.339 390.213 135.394 394.819 Q138.473 399.402 138.473 408.152 Q138.473 416.879 135.394 421.486 Q132.339 426.069 126.529 426.069 Q120.718 426.069 117.64 421.486 Q114.584 416.879 114.584 408.152 Q114.584 399.402 117.64 394.819 Q120.718 390.213 126.529 390.213 Z\" fill=\"#000000\" fill-rule=\"nonzero\" fill-opacity=\"1\" /><path clip-path=\"url(#clip890)\" d=\"M146.691 419.518 L151.575 419.518 L151.575 425.398 L146.691 425.398 L146.691 419.518 Z\" fill=\"#000000\" fill-rule=\"nonzero\" fill-opacity=\"1\" /><path clip-path=\"url(#clip890)\" d=\"M172.339 406.254 Q169.19 406.254 167.339 408.407 Q165.51 410.56 165.51 414.31 Q165.51 418.037 167.339 420.213 Q169.19 422.365 172.339 422.365 Q175.487 422.365 177.315 420.213 Q179.167 418.037 179.167 414.31 Q179.167 410.56 177.315 408.407 Q175.487 406.254 172.339 406.254 M181.621 391.602 L181.621 395.861 Q179.862 395.027 178.056 394.588 Q176.274 394.148 174.514 394.148 Q169.885 394.148 167.431 397.273 Q165.001 400.398 164.653 406.717 Q166.019 404.703 168.079 403.639 Q170.139 402.551 172.616 402.551 Q177.825 402.551 180.834 405.722 Q183.866 408.87 183.866 414.31 Q183.866 419.634 180.718 422.851 Q177.57 426.069 172.339 426.069 Q166.343 426.069 163.172 421.486 Q160.001 416.879 160.001 408.152 Q160.001 399.958 163.89 395.097 Q167.778 390.213 174.329 390.213 Q176.089 390.213 177.871 390.56 Q179.676 390.907 181.621 391.602 Z\" fill=\"#000000\" fill-rule=\"nonzero\" fill-opacity=\"1\" /><path clip-path=\"url(#clip890)\" d=\"M126.783 68.5428 Q123.172 68.5428 121.343 72.1076 Q119.538 75.6493 119.538 82.7789 Q119.538 89.8853 121.343 93.4501 Q123.172 96.9917 126.783 96.9917 Q130.417 96.9917 132.223 93.4501 Q134.052 89.8853 134.052 82.7789 Q134.052 75.6493 132.223 72.1076 Q130.417 68.5428 126.783 68.5428 M126.783 64.8391 Q132.593 64.8391 135.649 69.4456 Q138.728 74.0289 138.728 82.7789 Q138.728 91.5057 135.649 96.1121 Q132.593 100.695 126.783 100.695 Q120.973 100.695 117.894 96.1121 Q114.839 91.5057 114.839 82.7789 Q114.839 74.0289 117.894 69.4456 Q120.973 64.8391 126.783 64.8391 Z\" fill=\"#000000\" fill-rule=\"nonzero\" fill-opacity=\"1\" /><path clip-path=\"url(#clip890)\" d=\"M146.945 94.1445 L151.829 94.1445 L151.829 100.024 L146.945 100.024 L146.945 94.1445 Z\" fill=\"#000000\" fill-rule=\"nonzero\" fill-opacity=\"1\" /><path clip-path=\"url(#clip890)\" d=\"M172.014 83.6122 Q168.681 83.6122 166.76 85.3946 Q164.862 87.177 164.862 90.302 Q164.862 93.4269 166.76 95.2093 Q168.681 96.9917 172.014 96.9917 Q175.348 96.9917 177.269 95.2093 Q179.19 93.4038 179.19 90.302 Q179.19 87.177 177.269 85.3946 Q175.371 83.6122 172.014 83.6122 M167.339 81.6215 Q164.329 80.8807 162.64 78.8205 Q160.973 76.7604 160.973 73.7974 Q160.973 69.6539 163.913 67.2465 Q166.876 64.8391 172.014 64.8391 Q177.176 64.8391 180.116 67.2465 Q183.056 69.6539 183.056 73.7974 Q183.056 76.7604 181.366 78.8205 Q179.7 80.8807 176.714 81.6215 Q180.093 82.4085 181.968 84.7001 Q183.866 86.9918 183.866 90.302 Q183.866 95.3251 180.788 98.0103 Q177.732 100.695 172.014 100.695 Q166.297 100.695 163.218 98.0103 Q160.163 95.3251 160.163 90.302 Q160.163 86.9918 162.061 84.7001 Q163.959 82.4085 167.339 81.6215 M165.626 74.2372 Q165.626 76.9224 167.292 78.427 Q168.982 79.9316 172.014 79.9316 Q175.024 79.9316 176.714 78.427 Q178.426 76.9224 178.426 74.2372 Q178.426 71.5521 176.714 70.0474 Q175.024 68.5428 172.014 68.5428 Q168.982 68.5428 167.292 70.0474 Q165.626 71.5521 165.626 74.2372 Z\" fill=\"#000000\" fill-rule=\"nonzero\" fill-opacity=\"1\" /><path clip-path=\"url(#clip890)\" d=\"M58.657 788.97 L77.5631 788.97 L77.5631 794.859 L28.3562 794.859 L28.3562 788.97 L33.7671 788.97 Q30.5842 787.124 29.0564 784.323 Q27.4968 781.491 27.4968 777.576 Q27.4968 771.083 32.6531 767.041 Q37.8093 762.966 46.212 762.966 Q54.6147 762.966 59.771 767.041 Q64.9272 771.083 64.9272 777.576 Q64.9272 781.491 63.3994 784.323 Q61.8398 787.124 58.657 788.97 M46.212 769.046 Q39.7508 769.046 36.0905 771.719 Q32.3984 774.361 32.3984 779.008 Q32.3984 783.655 36.0905 786.329 Q39.7508 788.97 46.212 788.97 Q52.6732 788.97 56.3653 786.329 Q60.0256 783.655 60.0256 779.008 Q60.0256 774.361 56.3653 771.719 Q52.6732 769.046 46.212 769.046 Z\" fill=\"#000000\" fill-rule=\"nonzero\" fill-opacity=\"1\" /><path clip-path=\"url(#clip890)\" d=\"M14.5426 739.191 Q21.8632 743.456 29.0246 745.524 Q36.186 747.593 43.5384 747.593 Q50.8908 747.593 58.1159 745.524 Q65.3091 743.424 72.5979 739.191 L72.5979 744.283 Q65.1182 749.057 57.8931 751.445 Q50.668 753.8 43.5384 753.8 Q36.4406 753.8 29.2474 751.445 Q22.0542 749.089 14.5426 744.283 L14.5426 739.191 Z\" fill=\"#000000\" fill-rule=\"nonzero\" fill-opacity=\"1\" /><path clip-path=\"url(#clip890)\" d=\"M28.3562 698.195 L45.7028 711.086 L64.0042 697.527 L64.0042 704.434 L49.9996 714.81 L64.0042 725.186 L64.0042 732.093 L45.3526 718.247 L28.3562 730.915 L28.3562 724.008 L41.0558 714.555 L28.3562 705.102 L28.3562 698.195 Z\" fill=\"#000000\" fill-rule=\"nonzero\" fill-opacity=\"1\" /><path clip-path=\"url(#clip890)\" d=\"M14.5426 690.175 L14.5426 685.082 Q22.0542 680.308 29.2474 677.952 Q36.4406 675.565 43.5384 675.565 Q50.668 675.565 57.8931 677.952 Q65.1182 680.308 72.5979 685.082 L72.5979 690.175 Q65.3091 685.941 58.1159 683.873 Q50.8908 681.772 43.5384 681.772 Q36.186 681.772 29.0246 683.873 Q21.8632 685.941 14.5426 690.175 Z\" fill=\"#000000\" fill-rule=\"nonzero\" fill-opacity=\"1\" /><polyline clip-path=\"url(#clip892)\" style=\"stroke:#ff0000; stroke-linecap:round; stroke-linejoin:round; stroke-width:20; stroke-opacity:1; fill:none\" stroke-dasharray=\"80, 50\" points=\"280.231,1384.24 286.938,1384.24 293.645,1384.24 300.353,1384.24 307.06,1384.24 313.767,1384.24 320.474,1384.24 327.181,1384.24 333.889,1384.24 340.596,1384.24 347.303,1384.24 354.01,1384.24 360.717,1384.24 367.425,1384.24 374.132,1384.24 380.839,1384.24 387.546,1384.24 394.253,1384.24 400.961,1384.24 407.668,1384.24 414.375,1384.24 421.082,1384.24 427.789,1384.24 434.497,1384.24 441.204,1384.24 447.911,1384.24 454.618,1384.24 461.325,1384.24 468.033,1384.24 474.74,1384.24 481.447,1384.24 488.154,1384.24 494.861,1384.24 501.569,1384.24 508.276,1384.24 514.983,1384.24 521.69,1384.24 528.397,1384.24 535.105,1384.24 541.812,1384.24 548.519,1384.24 555.226,1384.24 561.933,1384.24 568.641,1384.24 575.348,1384.24 582.055,1384.24 588.762,1384.24 595.469,1384.24 602.177,1384.24 608.884,1384.24 615.591,1384.24 622.298,1384.24 629.005,1384.24 635.713,1384.24 642.42,1384.24 649.127,1384.24 655.834,1384.24 662.541,1384.24 669.249,1384.24 675.956,1384.24 682.663,1384.24 689.37,1384.24 696.077,1384.24 702.785,1384.24 709.492,1384.24 716.199,1384.24 722.906,1384.24 729.613,1384.24 736.321,1384.24 743.028,1384.24 749.735,1384.24 756.442,1384.24 763.149,1384.24 769.857,1384.24 776.564,1384.23 783.271,1384.23 789.978,1384.23 796.685,1384.23 803.393,1384.23 810.1,1384.23 816.807,1384.23 823.514,1384.22 830.221,1384.22 836.929,1384.22 843.636,1384.21 850.343,1384.21 857.05,1384.2 863.757,1384.19 870.465,1384.18 877.172,1384.17 883.879,1384.16 890.586,1384.14 897.293,1384.12 904.001,1384.1 910.708,1384.08 917.415,1384.05 924.122,1384.01 930.829,1383.97 937.537,1383.92 944.244,1383.87 950.951,1383.8 957.658,1383.73 964.365,1383.64 971.073,1383.54 977.78,1383.42 984.487,1383.29 991.194,1383.13 997.901,1382.95 1004.61,1382.75 1011.32,1382.52 1018.02,1382.25 1024.73,1381.94 1031.44,1381.59 1038.14,1381.19 1044.85,1380.74 1051.56,1380.23 1058.27,1379.65 1064.97,1378.99 1071.68,1378.25 1078.39,1377.42 1085.1,1376.48 1091.8,1375.43 1098.51,1374.25 1105.22,1372.93 1111.92,1371.46 1118.63,1369.82 1125.34,1367.99 1132.05,1365.97 1138.75,1363.72 1145.46,1361.23 1152.17,1358.48 1158.87,1355.45 1165.58,1352.12 1172.29,1348.46 1179,1344.44 1185.7,1340.04 1192.41,1335.24 1199.12,1330 1205.82,1324.29 1212.53,1318.1 1219.24,1311.37 1225.95,1304.09 1232.65,1296.23 1239.36,1287.75 1246.07,1278.62 1252.78,1268.81 1259.48,1258.3 1266.19,1247.04 1272.9,1235.02 1279.6,1222.2 1286.31,1208.57 1293.02,1194.09 1299.73,1178.74 1306.43,1162.52 1313.14,1145.39 1319.85,1127.36 1326.55,1108.4 1333.26,1088.52 1339.97,1067.71 1346.68,1045.98 1353.38,1023.33 1360.09,999.786 1366.8,975.359 1373.5,950.075 1380.21,923.965 1386.92,897.065 1393.63,869.417 1400.33,841.069 1407.04,812.077 1413.75,782.501 1420.46,752.408 1427.16,721.871 1433.87,690.968 1440.58,659.783 1447.28,628.405 1453.99,596.93 1460.7,565.454 1467.41,534.082 1474.11,502.919 1480.82,472.074 1487.53,441.659 1494.23,411.787 1500.94,382.572 1507.65,354.129 1514.36,326.572 1521.06,300.014 1527.77,274.566 1534.48,250.336 1541.18,227.43 1547.89,205.947 1554.6,185.985 1561.31,167.632 1568.01,150.973 1574.72,136.085 1581.43,123.036 1588.14,111.889 1594.84,102.695 1601.55,95.4981 1608.26,90.3328 1614.96,87.2237 1621.67,86.1857 1628.38,87.2237 1635.09,90.3328 1641.79,95.4981 1648.5,102.695 1655.21,111.889 1661.91,123.036 1668.62,136.085 1675.33,150.973 1682.04,167.632 1688.74,185.985 1695.45,205.947 1702.16,227.43 1708.86,250.336 1715.57,274.566 1722.28,300.014 1728.99,326.572 1735.69,354.129 1742.4,382.572 1749.11,411.787 1755.82,441.659 1762.52,472.074 1769.23,502.919 1775.94,534.082 1782.64,565.454 1789.35,596.93 1796.06,628.405 1802.77,659.783 1809.47,690.968 1816.18,721.871 1822.89,752.408 1829.59,782.501 1836.3,812.077 1843.01,841.069 1849.72,869.417 1856.42,897.065 1863.13,923.965 1869.84,950.075 1876.54,975.359 1883.25,999.786 1889.96,1023.33 1896.67,1045.98 1903.37,1067.71 1910.08,1088.52 1916.79,1108.4 1923.5,1127.36 1930.2,1145.39 1936.91,1162.52 1943.62,1178.74 1950.32,1194.09 1957.03,1208.57 1963.74,1222.2 1970.45,1235.02 1977.15,1247.04 1983.86,1258.3 1990.57,1268.81 1997.27,1278.62 2003.98,1287.75 2010.69,1296.23 2017.4,1304.09 2024.1,1311.37 2030.81,1318.1 2037.52,1324.29 2044.22,1330 2050.93,1335.24 2057.64,1340.04 2064.35,1344.44 2071.05,1348.46 2077.76,1352.12 2084.47,1355.45 2091.18,1358.48 2097.88,1361.23 2104.59,1363.72 2111.3,1365.97 2118,1367.99 2124.71,1369.82 2131.42,1371.46 2138.13,1372.93 2144.83,1374.25 2151.54,1375.43 2158.25,1376.48 2164.95,1377.42 2171.66,1378.25 2178.37,1378.99 2185.08,1379.65 2191.78,1380.23 2198.49,1380.74 2205.2,1381.19 2211.9,1381.59 2218.61,1381.94 2225.32,1382.25 2232.03,1382.52 2238.73,1382.75 2245.44,1382.95 2252.15,1383.13 2258.86,1383.29 2265.56,1383.42 2272.27,1383.54 2278.98,1383.64 2285.68,1383.73 2292.39,1383.8 \"/>\n",
       "<path clip-path=\"url(#clip890)\" d=\"M1994.9 196.789 L2281.66 196.789 L2281.66 93.1086 L1994.9 93.1086  Z\" fill=\"#ffffff\" fill-rule=\"evenodd\" fill-opacity=\"1\"/>\n",
       "<polyline clip-path=\"url(#clip890)\" style=\"stroke:#000000; stroke-linecap:round; stroke-linejoin:round; stroke-width:4; stroke-opacity:1; fill:none\" points=\"1994.9,196.789 2281.66,196.789 2281.66,93.1086 1994.9,93.1086 1994.9,196.789 \"/>\n",
       "<polyline clip-path=\"url(#clip890)\" style=\"stroke:#ff0000; stroke-linecap:round; stroke-linejoin:round; stroke-width:20; stroke-opacity:1; fill:none\" stroke-dasharray=\"80, 50\" points=\"2018.6,144.949 2160.79,144.949 \"/>\n",
       "<path clip-path=\"url(#clip890)\" d=\"M2188.77 158.34 L2188.77 172.09 L2184.49 172.09 L2184.49 136.303 L2188.77 136.303 L2188.77 140.238 Q2190.11 137.923 2192.15 136.812 Q2194.21 135.678 2197.06 135.678 Q2201.78 135.678 2204.72 139.428 Q2207.68 143.178 2207.68 149.289 Q2207.68 155.4 2204.72 159.15 Q2201.78 162.9 2197.06 162.9 Q2194.21 162.9 2192.15 161.789 Q2190.11 160.655 2188.77 158.34 M2203.26 149.289 Q2203.26 144.59 2201.32 141.928 Q2199.4 139.243 2196.02 139.243 Q2192.64 139.243 2190.69 141.928 Q2188.77 144.59 2188.77 149.289 Q2188.77 153.988 2190.69 156.673 Q2192.64 159.335 2196.02 159.335 Q2199.4 159.335 2201.32 156.673 Q2203.26 153.988 2203.26 149.289 Z\" fill=\"#000000\" fill-rule=\"nonzero\" fill-opacity=\"1\" /><path clip-path=\"url(#clip890)\" d=\"M2231.8 140.238 L2231.8 126.21 L2236.06 126.21 L2236.06 162.229 L2231.8 162.229 L2231.8 158.34 Q2230.46 160.655 2228.4 161.789 Q2226.36 162.9 2223.49 162.9 Q2218.79 162.9 2215.83 159.15 Q2212.89 155.4 2212.89 149.289 Q2212.89 143.178 2215.83 139.428 Q2218.79 135.678 2223.49 135.678 Q2226.36 135.678 2228.4 136.812 Q2230.46 137.923 2231.8 140.238 M2217.29 149.289 Q2217.29 153.988 2219.21 156.673 Q2221.16 159.335 2224.54 159.335 Q2227.91 159.335 2229.86 156.673 Q2231.8 153.988 2231.8 149.289 Q2231.8 144.59 2229.86 141.928 Q2227.91 139.243 2224.54 139.243 Q2221.16 139.243 2219.21 141.928 Q2217.29 144.59 2217.29 149.289 Z\" fill=\"#000000\" fill-rule=\"nonzero\" fill-opacity=\"1\" /><path clip-path=\"url(#clip890)\" d=\"M2257.96 126.21 L2257.96 129.752 L2253.89 129.752 Q2251.6 129.752 2250.69 130.678 Q2249.81 131.604 2249.81 134.011 L2249.81 136.303 L2256.83 136.303 L2256.83 139.613 L2249.81 139.613 L2249.81 162.229 L2245.53 162.229 L2245.53 139.613 L2241.46 139.613 L2241.46 136.303 L2245.53 136.303 L2245.53 134.497 Q2245.53 130.169 2247.54 128.201 Q2249.56 126.21 2253.93 126.21 L2257.96 126.21 Z\" fill=\"#000000\" fill-rule=\"nonzero\" fill-opacity=\"1\" /></svg>\n"
      ]
     },
     "metadata": {},
     "output_type": "display_data"
    }
   ],
   "source": [
    "using Plots\n",
    "\n",
    "x = range(-3, stop=3, length=301)\n",
    "plot(x, pdf.(px, x), xlabel=\"x\", ylabel=\"p(x)\", label=\"pdf\", color=\"red\", linewidth=5, linestyle=:dash)"
   ]
  },
  {
   "cell_type": "code",
   "execution_count": 31,
   "metadata": {},
   "outputs": [
    {
     "data": {
      "image/png": "[encoded data removed]",
      "image/svg+xml": [
       "<?xml version=\"1.0\" encoding=\"utf-8\"?>\n",
       "<svg xmlns=\"http://www.w3.org/2000/svg\" xmlns:xlink=\"http://www.w3.org/1999/xlink\" width=\"600\" height=\"400\" viewBox=\"0 0 2400 1600\">\n",
       "<defs>\n",
       "  <clipPath id=\"clip930\">\n",
       "    <rect x=\"0\" y=\"0\" width=\"2400\" height=\"1600\"/>\n",
       "  </clipPath>\n",
       "</defs>\n",
       "<path clip-path=\"url(#clip930)\" d=\"M0 1600 L2400 1600 L2400 0 L0 0  Z\" fill=\"#ffffff\" fill-rule=\"evenodd\" fill-opacity=\"1\"/>\n",
       "<defs>\n",
       "  <clipPath id=\"clip931\">\n",
       "    <rect x=\"480\" y=\"0\" width=\"1681\" height=\"1600\"/>\n",
       "  </clipPath>\n",
       "</defs>\n",
       "<path clip-path=\"url(#clip930)\" d=\"M257.204 1423.18 L2352.76 1423.18 L2352.76 47.2441 L257.204 47.2441  Z\" fill=\"#ffffff\" fill-rule=\"evenodd\" fill-opacity=\"1\"/>\n",
       "<defs>\n",
       "  <clipPath id=\"clip932\">\n",
       "    <rect x=\"257\" y=\"47\" width=\"2097\" height=\"1377\"/>\n",
       "  </clipPath>\n",
       "</defs>\n",
       "<polyline clip-path=\"url(#clip932)\" style=\"stroke:#000000; stroke-linecap:round; stroke-linejoin:round; stroke-width:2; stroke-opacity:0.1; fill:none\" points=\"551.858,1423.18 551.858,47.2441 \"/>\n",
       "<polyline clip-path=\"url(#clip932)\" style=\"stroke:#000000; stroke-linecap:round; stroke-linejoin:round; stroke-width:2; stroke-opacity:0.1; fill:none\" points=\"875.303,1423.18 875.303,47.2441 \"/>\n",
       "<polyline clip-path=\"url(#clip932)\" style=\"stroke:#000000; stroke-linecap:round; stroke-linejoin:round; stroke-width:2; stroke-opacity:0.1; fill:none\" points=\"1198.75,1423.18 1198.75,47.2441 \"/>\n",
       "<polyline clip-path=\"url(#clip932)\" style=\"stroke:#000000; stroke-linecap:round; stroke-linejoin:round; stroke-width:2; stroke-opacity:0.1; fill:none\" points=\"1522.19,1423.18 1522.19,47.2441 \"/>\n",
       "<polyline clip-path=\"url(#clip932)\" style=\"stroke:#000000; stroke-linecap:round; stroke-linejoin:round; stroke-width:2; stroke-opacity:0.1; fill:none\" points=\"1845.64,1423.18 1845.64,47.2441 \"/>\n",
       "<polyline clip-path=\"url(#clip932)\" style=\"stroke:#000000; stroke-linecap:round; stroke-linejoin:round; stroke-width:2; stroke-opacity:0.1; fill:none\" points=\"2169.08,1423.18 2169.08,47.2441 \"/>\n",
       "<polyline clip-path=\"url(#clip930)\" style=\"stroke:#000000; stroke-linecap:round; stroke-linejoin:round; stroke-width:4; stroke-opacity:1; fill:none\" points=\"257.204,1423.18 2352.76,1423.18 \"/>\n",
       "<polyline clip-path=\"url(#clip930)\" style=\"stroke:#000000; stroke-linecap:round; stroke-linejoin:round; stroke-width:4; stroke-opacity:1; fill:none\" points=\"551.858,1423.18 551.858,1404.28 \"/>\n",
       "<polyline clip-path=\"url(#clip930)\" style=\"stroke:#000000; stroke-linecap:round; stroke-linejoin:round; stroke-width:4; stroke-opacity:1; fill:none\" points=\"875.303,1423.18 875.303,1404.28 \"/>\n",
       "<polyline clip-path=\"url(#clip930)\" style=\"stroke:#000000; stroke-linecap:round; stroke-linejoin:round; stroke-width:4; stroke-opacity:1; fill:none\" points=\"1198.75,1423.18 1198.75,1404.28 \"/>\n",
       "<polyline clip-path=\"url(#clip930)\" style=\"stroke:#000000; stroke-linecap:round; stroke-linejoin:round; stroke-width:4; stroke-opacity:1; fill:none\" points=\"1522.19,1423.18 1522.19,1404.28 \"/>\n",
       "<polyline clip-path=\"url(#clip930)\" style=\"stroke:#000000; stroke-linecap:round; stroke-linejoin:round; stroke-width:4; stroke-opacity:1; fill:none\" points=\"1845.64,1423.18 1845.64,1404.28 \"/>\n",
       "<polyline clip-path=\"url(#clip930)\" style=\"stroke:#000000; stroke-linecap:round; stroke-linejoin:round; stroke-width:4; stroke-opacity:1; fill:none\" points=\"2169.08,1423.18 2169.08,1404.28 \"/>\n",
       "<path clip-path=\"url(#clip930)\" d=\"M498.884 1468.75 L528.56 1468.75 L528.56 1472.69 L498.884 1472.69 L498.884 1468.75 Z\" fill=\"#000000\" fill-rule=\"nonzero\" fill-opacity=\"1\" /><path clip-path=\"url(#clip930)\" d=\"M539.463 1481.64 L547.101 1481.64 L547.101 1455.28 L538.791 1456.95 L538.791 1452.69 L547.055 1451.02 L551.731 1451.02 L551.731 1481.64 L559.37 1481.64 L559.37 1485.58 L539.463 1485.58 L539.463 1481.64 Z\" fill=\"#000000\" fill-rule=\"nonzero\" fill-opacity=\"1\" /><path clip-path=\"url(#clip930)\" d=\"M568.814 1479.7 L573.699 1479.7 L573.699 1485.58 L568.814 1485.58 L568.814 1479.7 Z\" fill=\"#000000\" fill-rule=\"nonzero\" fill-opacity=\"1\" /><path clip-path=\"url(#clip930)\" d=\"M583.93 1451.02 L602.286 1451.02 L602.286 1454.96 L588.212 1454.96 L588.212 1463.43 Q589.231 1463.08 590.249 1462.92 Q591.268 1462.73 592.286 1462.73 Q598.073 1462.73 601.453 1465.9 Q604.833 1469.08 604.833 1474.49 Q604.833 1480.07 601.36 1483.17 Q597.888 1486.25 591.569 1486.25 Q589.393 1486.25 587.124 1485.88 Q584.879 1485.51 582.472 1484.77 L582.472 1480.07 Q584.555 1481.2 586.777 1481.76 Q588.999 1482.32 591.476 1482.32 Q595.481 1482.32 597.819 1480.21 Q600.157 1478.1 600.157 1474.49 Q600.157 1470.88 597.819 1468.77 Q595.481 1466.67 591.476 1466.67 Q589.601 1466.67 587.726 1467.08 Q585.874 1467.5 583.93 1468.38 L583.93 1451.02 Z\" fill=\"#000000\" fill-rule=\"nonzero\" fill-opacity=\"1\" /><path clip-path=\"url(#clip930)\" d=\"M821.831 1468.75 L851.507 1468.75 L851.507 1472.69 L821.831 1472.69 L821.831 1468.75 Z\" fill=\"#000000\" fill-rule=\"nonzero\" fill-opacity=\"1\" /><path clip-path=\"url(#clip930)\" d=\"M862.41 1481.64 L870.049 1481.64 L870.049 1455.28 L861.739 1456.95 L861.739 1452.69 L870.002 1451.02 L874.678 1451.02 L874.678 1481.64 L882.317 1481.64 L882.317 1485.58 L862.41 1485.58 L862.41 1481.64 Z\" fill=\"#000000\" fill-rule=\"nonzero\" fill-opacity=\"1\" /><path clip-path=\"url(#clip930)\" d=\"M891.762 1479.7 L896.646 1479.7 L896.646 1485.58 L891.762 1485.58 L891.762 1479.7 Z\" fill=\"#000000\" fill-rule=\"nonzero\" fill-opacity=\"1\" /><path clip-path=\"url(#clip930)\" d=\"M916.831 1454.1 Q913.22 1454.1 911.391 1457.66 Q909.586 1461.2 909.586 1468.33 Q909.586 1475.44 911.391 1479.01 Q913.22 1482.55 916.831 1482.55 Q920.465 1482.55 922.271 1479.01 Q924.099 1475.44 924.099 1468.33 Q924.099 1461.2 922.271 1457.66 Q920.465 1454.1 916.831 1454.1 M916.831 1450.39 Q922.641 1450.39 925.697 1455 Q928.775 1459.58 928.775 1468.33 Q928.775 1477.06 925.697 1481.67 Q922.641 1486.25 916.831 1486.25 Q911.021 1486.25 907.942 1481.67 Q904.887 1477.06 904.887 1468.33 Q904.887 1459.58 907.942 1455 Q911.021 1450.39 916.831 1450.39 Z\" fill=\"#000000\" fill-rule=\"nonzero\" fill-opacity=\"1\" /><path clip-path=\"url(#clip930)\" d=\"M1145.77 1468.75 L1175.45 1468.75 L1175.45 1472.69 L1145.77 1472.69 L1145.77 1468.75 Z\" fill=\"#000000\" fill-rule=\"nonzero\" fill-opacity=\"1\" /><path clip-path=\"url(#clip930)\" d=\"M1195.54 1454.1 Q1191.93 1454.1 1190.1 1457.66 Q1188.3 1461.2 1188.3 1468.33 Q1188.3 1475.44 1190.1 1479.01 Q1191.93 1482.55 1195.54 1482.55 Q1199.18 1482.55 1200.98 1479.01 Q1202.81 1475.44 1202.81 1468.33 Q1202.81 1461.2 1200.98 1457.66 Q1199.18 1454.1 1195.54 1454.1 M1195.54 1450.39 Q1201.35 1450.39 1204.41 1455 Q1207.49 1459.58 1207.49 1468.33 Q1207.49 1477.06 1204.41 1481.67 Q1201.35 1486.25 1195.54 1486.25 Q1189.73 1486.25 1186.65 1481.67 Q1183.6 1477.06 1183.6 1468.33 Q1183.6 1459.58 1186.65 1455 Q1189.73 1450.39 1195.54 1450.39 Z\" fill=\"#000000\" fill-rule=\"nonzero\" fill-opacity=\"1\" /><path clip-path=\"url(#clip930)\" d=\"M1215.7 1479.7 L1220.59 1479.7 L1220.59 1485.58 L1215.7 1485.58 L1215.7 1479.7 Z\" fill=\"#000000\" fill-rule=\"nonzero\" fill-opacity=\"1\" /><path clip-path=\"url(#clip930)\" d=\"M1230.82 1451.02 L1249.18 1451.02 L1249.18 1454.96 L1235.1 1454.96 L1235.1 1463.43 Q1236.12 1463.08 1237.14 1462.92 Q1238.16 1462.73 1239.18 1462.73 Q1244.96 1462.73 1248.34 1465.9 Q1251.72 1469.08 1251.72 1474.49 Q1251.72 1480.07 1248.25 1483.17 Q1244.78 1486.25 1238.46 1486.25 Q1236.28 1486.25 1234.01 1485.88 Q1231.77 1485.51 1229.36 1484.77 L1229.36 1480.07 Q1231.44 1481.2 1233.67 1481.76 Q1235.89 1482.32 1238.37 1482.32 Q1242.37 1482.32 1244.71 1480.21 Q1247.05 1478.1 1247.05 1474.49 Q1247.05 1470.88 1244.71 1468.77 Q1242.37 1466.67 1238.37 1466.67 Q1236.49 1466.67 1234.62 1467.08 Q1232.76 1467.5 1230.82 1468.38 L1230.82 1451.02 Z\" fill=\"#000000\" fill-rule=\"nonzero\" fill-opacity=\"1\" /><path clip-path=\"url(#clip930)\" d=\"M1499.58 1454.1 Q1495.97 1454.1 1494.14 1457.66 Q1492.33 1461.2 1492.33 1468.33 Q1492.33 1475.44 1494.14 1479.01 Q1495.97 1482.55 1499.58 1482.55 Q1503.21 1482.55 1505.02 1479.01 Q1506.85 1475.44 1506.85 1468.33 Q1506.85 1461.2 1505.02 1457.66 Q1503.21 1454.1 1499.58 1454.1 M1499.58 1450.39 Q1505.39 1450.39 1508.44 1455 Q1511.52 1459.58 1511.52 1468.33 Q1511.52 1477.06 1508.44 1481.67 Q1505.39 1486.25 1499.58 1486.25 Q1493.77 1486.25 1490.69 1481.67 Q1487.63 1477.06 1487.63 1468.33 Q1487.63 1459.58 1490.69 1455 Q1493.77 1450.39 1499.58 1450.39 Z\" fill=\"#000000\" fill-rule=\"nonzero\" fill-opacity=\"1\" /><path clip-path=\"url(#clip930)\" d=\"M1519.74 1479.7 L1524.62 1479.7 L1524.62 1485.58 L1519.74 1485.58 L1519.74 1479.7 Z\" fill=\"#000000\" fill-rule=\"nonzero\" fill-opacity=\"1\" /><path clip-path=\"url(#clip930)\" d=\"M1544.81 1454.1 Q1541.2 1454.1 1539.37 1457.66 Q1537.56 1461.2 1537.56 1468.33 Q1537.56 1475.44 1539.37 1479.01 Q1541.2 1482.55 1544.81 1482.55 Q1548.44 1482.55 1550.25 1479.01 Q1552.08 1475.44 1552.08 1468.33 Q1552.08 1461.2 1550.25 1457.66 Q1548.44 1454.1 1544.81 1454.1 M1544.81 1450.39 Q1550.62 1450.39 1553.67 1455 Q1556.75 1459.58 1556.75 1468.33 Q1556.75 1477.06 1553.67 1481.67 Q1550.62 1486.25 1544.81 1486.25 Q1539 1486.25 1535.92 1481.67 Q1532.86 1477.06 1532.86 1468.33 Q1532.86 1459.58 1535.92 1455 Q1539 1450.39 1544.81 1450.39 Z\" fill=\"#000000\" fill-rule=\"nonzero\" fill-opacity=\"1\" /><path clip-path=\"url(#clip930)\" d=\"M1823.52 1454.1 Q1819.91 1454.1 1818.08 1457.66 Q1816.28 1461.2 1816.28 1468.33 Q1816.28 1475.44 1818.08 1479.01 Q1819.91 1482.55 1823.52 1482.55 Q1827.15 1482.55 1828.96 1479.01 Q1830.79 1475.44 1830.79 1468.33 Q1830.79 1461.2 1828.96 1457.66 Q1827.15 1454.1 1823.52 1454.1 M1823.52 1450.39 Q1829.33 1450.39 1832.39 1455 Q1835.46 1459.58 1835.46 1468.33 Q1835.46 1477.06 1832.39 1481.67 Q1829.33 1486.25 1823.52 1486.25 Q1817.71 1486.25 1814.63 1481.67 Q1811.58 1477.06 1811.58 1468.33 Q1811.58 1459.58 1814.63 1455 Q1817.71 1450.39 1823.52 1450.39 Z\" fill=\"#000000\" fill-rule=\"nonzero\" fill-opacity=\"1\" /><path clip-path=\"url(#clip930)\" d=\"M1843.68 1479.7 L1848.57 1479.7 L1848.57 1485.58 L1843.68 1485.58 L1843.68 1479.7 Z\" fill=\"#000000\" fill-rule=\"nonzero\" fill-opacity=\"1\" /><path clip-path=\"url(#clip930)\" d=\"M1858.8 1451.02 L1877.15 1451.02 L1877.15 1454.96 L1863.08 1454.96 L1863.08 1463.43 Q1864.1 1463.08 1865.12 1462.92 Q1866.14 1462.73 1867.15 1462.73 Q1872.94 1462.73 1876.32 1465.9 Q1879.7 1469.08 1879.7 1474.49 Q1879.7 1480.07 1876.23 1483.17 Q1872.76 1486.25 1866.44 1486.25 Q1864.26 1486.25 1861.99 1485.88 Q1859.75 1485.51 1857.34 1484.77 L1857.34 1480.07 Q1859.42 1481.2 1861.65 1481.76 Q1863.87 1482.32 1866.34 1482.32 Q1870.35 1482.32 1872.69 1480.21 Q1875.02 1478.1 1875.02 1474.49 Q1875.02 1470.88 1872.69 1468.77 Q1870.35 1466.67 1866.34 1466.67 Q1864.47 1466.67 1862.59 1467.08 Q1860.74 1467.5 1858.8 1468.38 L1858.8 1451.02 Z\" fill=\"#000000\" fill-rule=\"nonzero\" fill-opacity=\"1\" /><path clip-path=\"url(#clip930)\" d=\"M2136.24 1481.64 L2143.88 1481.64 L2143.88 1455.28 L2135.57 1456.95 L2135.57 1452.69 L2143.83 1451.02 L2148.5 1451.02 L2148.5 1481.64 L2156.14 1481.64 L2156.14 1485.58 L2136.24 1485.58 L2136.24 1481.64 Z\" fill=\"#000000\" fill-rule=\"nonzero\" fill-opacity=\"1\" /><path clip-path=\"url(#clip930)\" d=\"M2165.59 1479.7 L2170.47 1479.7 L2170.47 1485.58 L2165.59 1485.58 L2165.59 1479.7 Z\" fill=\"#000000\" fill-rule=\"nonzero\" fill-opacity=\"1\" /><path clip-path=\"url(#clip930)\" d=\"M2190.66 1454.1 Q2187.05 1454.1 2185.22 1457.66 Q2183.41 1461.2 2183.41 1468.33 Q2183.41 1475.44 2185.22 1479.01 Q2187.05 1482.55 2190.66 1482.55 Q2194.29 1482.55 2196.1 1479.01 Q2197.93 1475.44 2197.93 1468.33 Q2197.93 1461.2 2196.1 1457.66 Q2194.29 1454.1 2190.66 1454.1 M2190.66 1450.39 Q2196.47 1450.39 2199.52 1455 Q2202.6 1459.58 2202.6 1468.33 Q2202.6 1477.06 2199.52 1481.67 Q2196.47 1486.25 2190.66 1486.25 Q2184.85 1486.25 2181.77 1481.67 Q2178.71 1477.06 2178.71 1468.33 Q2178.71 1459.58 2181.77 1455 Q2184.85 1450.39 2190.66 1450.39 Z\" fill=\"#000000\" fill-rule=\"nonzero\" fill-opacity=\"1\" /><path clip-path=\"url(#clip930)\" d=\"M1251.76 1520.52 L1258.67 1520.52 L1270.48 1538.19 L1282.35 1520.52 L1289.26 1520.52 L1273.98 1543.34 L1290.28 1568.04 L1283.37 1568.04 L1270 1547.83 L1256.54 1568.04 L1249.6 1568.04 L1266.56 1542.68 L1251.76 1520.52 Z\" fill=\"#000000\" fill-rule=\"nonzero\" fill-opacity=\"1\" /><path clip-path=\"url(#clip930)\" d=\"M1325.54 1578.87 L1325.54 1583.42 L1291.68 1583.42 L1291.68 1578.87 L1325.54 1578.87 Z\" fill=\"#000000\" fill-rule=\"nonzero\" fill-opacity=\"1\" /><path clip-path=\"url(#clip930)\" d=\"M1332.99 1562.63 L1343.49 1562.63 L1343.49 1526.38 L1332.07 1528.67 L1332.07 1522.82 L1343.43 1520.52 L1349.86 1520.52 L1349.86 1562.63 L1360.36 1562.63 L1360.36 1568.04 L1332.99 1568.04 L1332.99 1562.63 Z\" fill=\"#000000\" fill-rule=\"nonzero\" fill-opacity=\"1\" /><polyline clip-path=\"url(#clip932)\" style=\"stroke:#000000; stroke-linecap:round; stroke-linejoin:round; stroke-width:2; stroke-opacity:0.1; fill:none\" points=\"257.204,1300.29 2352.76,1300.29 \"/>\n",
       "<polyline clip-path=\"url(#clip932)\" style=\"stroke:#000000; stroke-linecap:round; stroke-linejoin:round; stroke-width:2; stroke-opacity:0.1; fill:none\" points=\"257.204,1106.31 2352.76,1106.31 \"/>\n",
       "<polyline clip-path=\"url(#clip932)\" style=\"stroke:#000000; stroke-linecap:round; stroke-linejoin:round; stroke-width:2; stroke-opacity:0.1; fill:none\" points=\"257.204,912.334 2352.76,912.334 \"/>\n",
       "<polyline clip-path=\"url(#clip932)\" style=\"stroke:#000000; stroke-linecap:round; stroke-linejoin:round; stroke-width:2; stroke-opacity:0.1; fill:none\" points=\"257.204,718.356 2352.76,718.356 \"/>\n",
       "<polyline clip-path=\"url(#clip932)\" style=\"stroke:#000000; stroke-linecap:round; stroke-linejoin:round; stroke-width:2; stroke-opacity:0.1; fill:none\" points=\"257.204,524.378 2352.76,524.378 \"/>\n",
       "<polyline clip-path=\"url(#clip932)\" style=\"stroke:#000000; stroke-linecap:round; stroke-linejoin:round; stroke-width:2; stroke-opacity:0.1; fill:none\" points=\"257.204,330.4 2352.76,330.4 \"/>\n",
       "<polyline clip-path=\"url(#clip932)\" style=\"stroke:#000000; stroke-linecap:round; stroke-linejoin:round; stroke-width:2; stroke-opacity:0.1; fill:none\" points=\"257.204,136.422 2352.76,136.422 \"/>\n",
       "<polyline clip-path=\"url(#clip930)\" style=\"stroke:#000000; stroke-linecap:round; stroke-linejoin:round; stroke-width:4; stroke-opacity:1; fill:none\" points=\"257.204,1423.18 257.204,47.2441 \"/>\n",
       "<polyline clip-path=\"url(#clip930)\" style=\"stroke:#000000; stroke-linecap:round; stroke-linejoin:round; stroke-width:4; stroke-opacity:1; fill:none\" points=\"257.204,1300.29 276.102,1300.29 \"/>\n",
       "<polyline clip-path=\"url(#clip930)\" style=\"stroke:#000000; stroke-linecap:round; stroke-linejoin:round; stroke-width:4; stroke-opacity:1; fill:none\" points=\"257.204,1106.31 276.102,1106.31 \"/>\n",
       "<polyline clip-path=\"url(#clip930)\" style=\"stroke:#000000; stroke-linecap:round; stroke-linejoin:round; stroke-width:4; stroke-opacity:1; fill:none\" points=\"257.204,912.334 276.102,912.334 \"/>\n",
       "<polyline clip-path=\"url(#clip930)\" style=\"stroke:#000000; stroke-linecap:round; stroke-linejoin:round; stroke-width:4; stroke-opacity:1; fill:none\" points=\"257.204,718.356 276.102,718.356 \"/>\n",
       "<polyline clip-path=\"url(#clip930)\" style=\"stroke:#000000; stroke-linecap:round; stroke-linejoin:round; stroke-width:4; stroke-opacity:1; fill:none\" points=\"257.204,524.378 276.102,524.378 \"/>\n",
       "<polyline clip-path=\"url(#clip930)\" style=\"stroke:#000000; stroke-linecap:round; stroke-linejoin:round; stroke-width:4; stroke-opacity:1; fill:none\" points=\"257.204,330.4 276.102,330.4 \"/>\n",
       "<polyline clip-path=\"url(#clip930)\" style=\"stroke:#000000; stroke-linecap:round; stroke-linejoin:round; stroke-width:4; stroke-opacity:1; fill:none\" points=\"257.204,136.422 276.102,136.422 \"/>\n",
       "<path clip-path=\"url(#clip930)\" d=\"M115.256 1300.74 L144.931 1300.74 L144.931 1304.68 L115.256 1304.68 L115.256 1300.74 Z\" fill=\"#000000\" fill-rule=\"nonzero\" fill-opacity=\"1\" /><path clip-path=\"url(#clip930)\" d=\"M155.834 1313.63 L163.473 1313.63 L163.473 1287.27 L155.163 1288.94 L155.163 1284.68 L163.427 1283.01 L168.102 1283.01 L168.102 1313.63 L175.741 1313.63 L175.741 1317.57 L155.834 1317.57 L155.834 1313.63 Z\" fill=\"#000000\" fill-rule=\"nonzero\" fill-opacity=\"1\" /><path clip-path=\"url(#clip930)\" d=\"M185.186 1311.69 L190.07 1311.69 L190.07 1317.57 L185.186 1317.57 L185.186 1311.69 Z\" fill=\"#000000\" fill-rule=\"nonzero\" fill-opacity=\"1\" /><path clip-path=\"url(#clip930)\" d=\"M200.301 1283.01 L218.658 1283.01 L218.658 1286.94 L204.584 1286.94 L204.584 1295.42 Q205.602 1295.07 206.621 1294.91 Q207.639 1294.72 208.658 1294.72 Q214.445 1294.72 217.824 1297.89 Q221.204 1301.07 221.204 1306.48 Q221.204 1312.06 217.732 1315.16 Q214.26 1318.24 207.94 1318.24 Q205.764 1318.24 203.496 1317.87 Q201.25 1317.5 198.843 1316.76 L198.843 1312.06 Q200.926 1313.19 203.149 1313.75 Q205.371 1314.31 207.848 1314.31 Q211.852 1314.31 214.19 1312.2 Q216.528 1310.09 216.528 1306.48 Q216.528 1302.87 214.19 1300.76 Q211.852 1298.66 207.848 1298.66 Q205.973 1298.66 204.098 1299.07 Q202.246 1299.49 200.301 1300.37 L200.301 1283.01 Z\" fill=\"#000000\" fill-rule=\"nonzero\" fill-opacity=\"1\" /><path clip-path=\"url(#clip930)\" d=\"M114.26 1106.76 L143.936 1106.76 L143.936 1110.7 L114.26 1110.7 L114.26 1106.76 Z\" fill=\"#000000\" fill-rule=\"nonzero\" fill-opacity=\"1\" /><path clip-path=\"url(#clip930)\" d=\"M154.839 1119.66 L162.477 1119.66 L162.477 1093.29 L154.167 1094.96 L154.167 1090.7 L162.431 1089.03 L167.107 1089.03 L167.107 1119.66 L174.746 1119.66 L174.746 1123.59 L154.839 1123.59 L154.839 1119.66 Z\" fill=\"#000000\" fill-rule=\"nonzero\" fill-opacity=\"1\" /><path clip-path=\"url(#clip930)\" d=\"M184.19 1117.71 L189.075 1117.71 L189.075 1123.59 L184.19 1123.59 L184.19 1117.71 Z\" fill=\"#000000\" fill-rule=\"nonzero\" fill-opacity=\"1\" /><path clip-path=\"url(#clip930)\" d=\"M209.26 1092.11 Q205.649 1092.11 203.82 1095.68 Q202.014 1099.22 202.014 1106.35 Q202.014 1113.45 203.82 1117.02 Q205.649 1120.56 209.26 1120.56 Q212.894 1120.56 214.699 1117.02 Q216.528 1113.45 216.528 1106.35 Q216.528 1099.22 214.699 1095.68 Q212.894 1092.11 209.26 1092.11 M209.26 1088.41 Q215.07 1088.41 218.125 1093.01 Q221.204 1097.6 221.204 1106.35 Q221.204 1115.07 218.125 1119.68 Q215.07 1124.26 209.26 1124.26 Q203.449 1124.26 200.371 1119.68 Q197.315 1115.07 197.315 1106.35 Q197.315 1097.6 200.371 1093.01 Q203.449 1088.41 209.26 1088.41 Z\" fill=\"#000000\" fill-rule=\"nonzero\" fill-opacity=\"1\" /><path clip-path=\"url(#clip930)\" d=\"M115.256 912.785 L144.931 912.785 L144.931 916.72 L115.256 916.72 L115.256 912.785 Z\" fill=\"#000000\" fill-rule=\"nonzero\" fill-opacity=\"1\" /><path clip-path=\"url(#clip930)\" d=\"M165.024 898.133 Q161.413 898.133 159.584 901.697 Q157.778 905.239 157.778 912.369 Q157.778 919.475 159.584 923.04 Q161.413 926.581 165.024 926.581 Q168.658 926.581 170.464 923.04 Q172.292 919.475 172.292 912.369 Q172.292 905.239 170.464 901.697 Q168.658 898.133 165.024 898.133 M165.024 894.429 Q170.834 894.429 173.889 899.035 Q176.968 903.619 176.968 912.369 Q176.968 921.095 173.889 925.702 Q170.834 930.285 165.024 930.285 Q159.214 930.285 156.135 925.702 Q153.079 921.095 153.079 912.369 Q153.079 903.619 156.135 899.035 Q159.214 894.429 165.024 894.429 Z\" fill=\"#000000\" fill-rule=\"nonzero\" fill-opacity=\"1\" /><path clip-path=\"url(#clip930)\" d=\"M185.186 923.734 L190.07 923.734 L190.07 929.614 L185.186 929.614 L185.186 923.734 Z\" fill=\"#000000\" fill-rule=\"nonzero\" fill-opacity=\"1\" /><path clip-path=\"url(#clip930)\" d=\"M200.301 895.054 L218.658 895.054 L218.658 898.989 L204.584 898.989 L204.584 907.461 Q205.602 907.114 206.621 906.952 Q207.639 906.767 208.658 906.767 Q214.445 906.767 217.824 909.938 Q221.204 913.109 221.204 918.526 Q221.204 924.105 217.732 927.206 Q214.26 930.285 207.94 930.285 Q205.764 930.285 203.496 929.915 Q201.25 929.544 198.843 928.804 L198.843 924.105 Q200.926 925.239 203.149 925.794 Q205.371 926.35 207.848 926.35 Q211.852 926.35 214.19 924.244 Q216.528 922.137 216.528 918.526 Q216.528 914.915 214.19 912.808 Q211.852 910.702 207.848 910.702 Q205.973 910.702 204.098 911.119 Q202.246 911.535 200.301 912.415 L200.301 895.054 Z\" fill=\"#000000\" fill-rule=\"nonzero\" fill-opacity=\"1\" /><path clip-path=\"url(#clip930)\" d=\"M164.028 704.155 Q160.417 704.155 158.589 707.719 Q156.783 711.261 156.783 718.391 Q156.783 725.497 158.589 729.062 Q160.417 732.604 164.028 732.604 Q167.663 732.604 169.468 729.062 Q171.297 725.497 171.297 718.391 Q171.297 711.261 169.468 707.719 Q167.663 704.155 164.028 704.155 M164.028 700.451 Q169.839 700.451 172.894 705.057 Q175.973 709.641 175.973 718.391 Q175.973 727.117 172.894 731.724 Q169.839 736.307 164.028 736.307 Q158.218 736.307 155.14 731.724 Q152.084 727.117 152.084 718.391 Q152.084 709.641 155.14 705.057 Q158.218 700.451 164.028 700.451 Z\" fill=\"#000000\" fill-rule=\"nonzero\" fill-opacity=\"1\" /><path clip-path=\"url(#clip930)\" d=\"M184.19 729.756 L189.075 729.756 L189.075 735.636 L184.19 735.636 L184.19 729.756 Z\" fill=\"#000000\" fill-rule=\"nonzero\" fill-opacity=\"1\" /><path clip-path=\"url(#clip930)\" d=\"M209.26 704.155 Q205.649 704.155 203.82 707.719 Q202.014 711.261 202.014 718.391 Q202.014 725.497 203.82 729.062 Q205.649 732.604 209.26 732.604 Q212.894 732.604 214.699 729.062 Q216.528 725.497 216.528 718.391 Q216.528 711.261 214.699 707.719 Q212.894 704.155 209.26 704.155 M209.26 700.451 Q215.07 700.451 218.125 705.057 Q221.204 709.641 221.204 718.391 Q221.204 727.117 218.125 731.724 Q215.07 736.307 209.26 736.307 Q203.449 736.307 200.371 731.724 Q197.315 727.117 197.315 718.391 Q197.315 709.641 200.371 705.057 Q203.449 700.451 209.26 700.451 Z\" fill=\"#000000\" fill-rule=\"nonzero\" fill-opacity=\"1\" /><path clip-path=\"url(#clip930)\" d=\"M165.024 510.177 Q161.413 510.177 159.584 513.741 Q157.778 517.283 157.778 524.413 Q157.778 531.519 159.584 535.084 Q161.413 538.626 165.024 538.626 Q168.658 538.626 170.464 535.084 Q172.292 531.519 172.292 524.413 Q172.292 517.283 170.464 513.741 Q168.658 510.177 165.024 510.177 M165.024 506.473 Q170.834 506.473 173.889 511.079 Q176.968 515.663 176.968 524.413 Q176.968 533.139 173.889 537.746 Q170.834 542.329 165.024 542.329 Q159.214 542.329 156.135 537.746 Q153.079 533.139 153.079 524.413 Q153.079 515.663 156.135 511.079 Q159.214 506.473 165.024 506.473 Z\" fill=\"#000000\" fill-rule=\"nonzero\" fill-opacity=\"1\" /><path clip-path=\"url(#clip930)\" d=\"M185.186 535.778 L190.07 535.778 L190.07 541.658 L185.186 541.658 L185.186 535.778 Z\" fill=\"#000000\" fill-rule=\"nonzero\" fill-opacity=\"1\" /><path clip-path=\"url(#clip930)\" d=\"M200.301 507.098 L218.658 507.098 L218.658 511.033 L204.584 511.033 L204.584 519.505 Q205.602 519.158 206.621 518.996 Q207.639 518.811 208.658 518.811 Q214.445 518.811 217.824 521.982 Q221.204 525.153 221.204 530.57 Q221.204 536.149 217.732 539.251 Q214.26 542.329 207.94 542.329 Q205.764 542.329 203.496 541.959 Q201.25 541.589 198.843 540.848 L198.843 536.149 Q200.926 537.283 203.149 537.839 Q205.371 538.394 207.848 538.394 Q211.852 538.394 214.19 536.288 Q216.528 534.181 216.528 530.57 Q216.528 526.959 214.19 524.852 Q211.852 522.746 207.848 522.746 Q205.973 522.746 204.098 523.163 Q202.246 523.579 200.301 524.459 L200.301 507.098 Z\" fill=\"#000000\" fill-rule=\"nonzero\" fill-opacity=\"1\" /><path clip-path=\"url(#clip930)\" d=\"M154.839 343.745 L162.477 343.745 L162.477 317.379 L154.167 319.046 L154.167 314.787 L162.431 313.12 L167.107 313.12 L167.107 343.745 L174.746 343.745 L174.746 347.68 L154.839 347.68 L154.839 343.745 Z\" fill=\"#000000\" fill-rule=\"nonzero\" fill-opacity=\"1\" /><path clip-path=\"url(#clip930)\" d=\"M184.19 341.8 L189.075 341.8 L189.075 347.68 L184.19 347.68 L184.19 341.8 Z\" fill=\"#000000\" fill-rule=\"nonzero\" fill-opacity=\"1\" /><path clip-path=\"url(#clip930)\" d=\"M209.26 316.199 Q205.649 316.199 203.82 319.763 Q202.014 323.305 202.014 330.435 Q202.014 337.541 203.82 341.106 Q205.649 344.648 209.26 344.648 Q212.894 344.648 214.699 341.106 Q216.528 337.541 216.528 330.435 Q216.528 323.305 214.699 319.763 Q212.894 316.199 209.26 316.199 M209.26 312.495 Q215.07 312.495 218.125 317.101 Q221.204 321.685 221.204 330.435 Q221.204 339.162 218.125 343.768 Q215.07 348.351 209.26 348.351 Q203.449 348.351 200.371 343.768 Q197.315 339.162 197.315 330.435 Q197.315 321.685 200.371 317.101 Q203.449 312.495 209.26 312.495 Z\" fill=\"#000000\" fill-rule=\"nonzero\" fill-opacity=\"1\" /><path clip-path=\"url(#clip930)\" d=\"M155.834 149.767 L163.473 149.767 L163.473 123.401 L155.163 125.068 L155.163 120.809 L163.427 119.142 L168.102 119.142 L168.102 149.767 L175.741 149.767 L175.741 153.702 L155.834 153.702 L155.834 149.767 Z\" fill=\"#000000\" fill-rule=\"nonzero\" fill-opacity=\"1\" /><path clip-path=\"url(#clip930)\" d=\"M185.186 147.822 L190.07 147.822 L190.07 153.702 L185.186 153.702 L185.186 147.822 Z\" fill=\"#000000\" fill-rule=\"nonzero\" fill-opacity=\"1\" /><path clip-path=\"url(#clip930)\" d=\"M200.301 119.142 L218.658 119.142 L218.658 123.077 L204.584 123.077 L204.584 131.549 Q205.602 131.202 206.621 131.04 Q207.639 130.855 208.658 130.855 Q214.445 130.855 217.824 134.026 Q221.204 137.197 221.204 142.614 Q221.204 148.193 217.732 151.295 Q214.26 154.373 207.94 154.373 Q205.764 154.373 203.496 154.003 Q201.25 153.633 198.843 152.892 L198.843 148.193 Q200.926 149.327 203.149 149.883 Q205.371 150.438 207.848 150.438 Q211.852 150.438 214.19 148.332 Q216.528 146.225 216.528 142.614 Q216.528 139.003 214.19 136.897 Q211.852 134.79 207.848 134.79 Q205.973 134.79 204.098 135.207 Q202.246 135.623 200.301 136.503 L200.301 119.142 Z\" fill=\"#000000\" fill-rule=\"nonzero\" fill-opacity=\"1\" /><path clip-path=\"url(#clip930)\" d=\"M16.4842 788.175 L16.4842 781.268 L34.149 769.459 L16.4842 757.587 L16.4842 750.681 L39.3052 765.958 L64.0042 749.662 L64.0042 756.569 L43.793 769.937 L64.0042 783.4 L64.0042 790.339 L38.6368 773.374 L16.4842 788.175 Z\" fill=\"#000000\" fill-rule=\"nonzero\" fill-opacity=\"1\" /><path clip-path=\"url(#clip930)\" d=\"M74.8259 714.396 L79.3773 714.396 L79.3773 748.262 L74.8259 748.262 L74.8259 714.396 Z\" fill=\"#000000\" fill-rule=\"nonzero\" fill-opacity=\"1\" /><path clip-path=\"url(#clip930)\" d=\"M58.5933 702.524 L58.5933 680.085 L64.0042 680.085 L64.0042 710.258 L58.5933 710.258 Q54.8057 706.598 48.44 700.296 Q42.0425 693.962 40.1964 692.339 Q36.7271 689.252 34.34 688.042 Q31.921 686.801 29.5975 686.801 Q25.8099 686.801 23.4228 689.474 Q21.0356 692.116 21.0356 696.381 Q21.0356 699.405 22.086 702.779 Q23.1363 706.121 25.2688 709.94 L18.7758 709.94 Q17.2162 706.057 16.4205 702.683 Q15.6248 699.309 15.6248 696.508 Q15.6248 689.124 19.3169 684.732 Q23.009 680.34 29.1837 680.34 Q32.112 680.34 34.7537 681.454 Q37.3637 682.536 40.9285 685.432 Q41.8515 686.228 46.2757 690.493 Q50.668 694.758 58.5933 702.524 Z\" fill=\"#000000\" fill-rule=\"nonzero\" fill-opacity=\"1\" /><circle clip-path=\"url(#clip932)\" cx=\"1196.7\" cy=\"135.37\" r=\"36\" fill=\"#009af9\" fill-rule=\"evenodd\" fill-opacity=\"1\" stroke=\"#000000\" stroke-opacity=\"1\" stroke-width=\"3.2\"/>\n",
       "<circle clip-path=\"url(#clip932)\" cx=\"1797.33\" cy=\"1230.76\" r=\"36\" fill=\"#009af9\" fill-rule=\"evenodd\" fill-opacity=\"1\" stroke=\"#000000\" stroke-opacity=\"1\" stroke-width=\"3.2\"/>\n",
       "<circle clip-path=\"url(#clip932)\" cx=\"2060.98\" cy=\"395.249\" r=\"36\" fill=\"#009af9\" fill-rule=\"evenodd\" fill-opacity=\"1\" stroke=\"#000000\" stroke-opacity=\"1\" stroke-width=\"3.2\"/>\n",
       "<circle clip-path=\"url(#clip932)\" cx=\"960.179\" cy=\"851.07\" r=\"36\" fill=\"#009af9\" fill-rule=\"evenodd\" fill-opacity=\"1\" stroke=\"#000000\" stroke-opacity=\"1\" stroke-width=\"3.2\"/>\n",
       "<circle clip-path=\"url(#clip932)\" cx=\"1550.19\" cy=\"829.831\" r=\"36\" fill=\"#009af9\" fill-rule=\"evenodd\" fill-opacity=\"1\" stroke=\"#000000\" stroke-opacity=\"1\" stroke-width=\"3.2\"/>\n",
       "<circle clip-path=\"url(#clip932)\" cx=\"1901.77\" cy=\"1384.24\" r=\"36\" fill=\"#009af9\" fill-rule=\"evenodd\" fill-opacity=\"1\" stroke=\"#000000\" stroke-opacity=\"1\" stroke-width=\"3.2\"/>\n",
       "<circle clip-path=\"url(#clip932)\" cx=\"2293.45\" cy=\"1010.95\" r=\"36\" fill=\"#009af9\" fill-rule=\"evenodd\" fill-opacity=\"1\" stroke=\"#000000\" stroke-opacity=\"1\" stroke-width=\"3.2\"/>\n",
       "<circle clip-path=\"url(#clip932)\" cx=\"1138.75\" cy=\"769.479\" r=\"36\" fill=\"#009af9\" fill-rule=\"evenodd\" fill-opacity=\"1\" stroke=\"#000000\" stroke-opacity=\"1\" stroke-width=\"3.2\"/>\n",
       "<circle clip-path=\"url(#clip932)\" cx=\"316.512\" cy=\"86.1857\" r=\"36\" fill=\"#009af9\" fill-rule=\"evenodd\" fill-opacity=\"1\" stroke=\"#000000\" stroke-opacity=\"1\" stroke-width=\"3.2\"/>\n",
       "<circle clip-path=\"url(#clip932)\" cx=\"1749.51\" cy=\"837.959\" r=\"36\" fill=\"#009af9\" fill-rule=\"evenodd\" fill-opacity=\"1\" stroke=\"#000000\" stroke-opacity=\"1\" stroke-width=\"3.2\"/>\n",
       "<path clip-path=\"url(#clip930)\" d=\"M2020.92 196.789 L2282.9 196.789 L2282.9 93.1086 L2020.92 93.1086  Z\" fill=\"#ffffff\" fill-rule=\"evenodd\" fill-opacity=\"1\"/>\n",
       "<polyline clip-path=\"url(#clip930)\" style=\"stroke:#000000; stroke-linecap:round; stroke-linejoin:round; stroke-width:4; stroke-opacity:1; fill:none\" points=\"2020.92,196.789 2282.9,196.789 2282.9,93.1086 2020.92,93.1086 2020.92,196.789 \"/>\n",
       "<circle clip-path=\"url(#clip930)\" cx=\"2114.05\" cy=\"144.949\" r=\"21.9429\" fill=\"#009af9\" fill-rule=\"evenodd\" fill-opacity=\"1\" stroke=\"#000000\" stroke-opacity=\"1\" stroke-width=\"1.95048\"/>\n",
       "<path clip-path=\"url(#clip930)\" d=\"M2221.03 164.636 Q2219.23 169.266 2217.51 170.678 Q2215.8 172.09 2212.93 172.09 L2209.53 172.09 L2209.53 168.525 L2212.03 168.525 Q2213.79 168.525 2214.76 167.692 Q2215.73 166.858 2216.91 163.756 L2217.68 161.812 L2207.19 136.303 L2211.7 136.303 L2219.81 156.581 L2227.91 136.303 L2232.42 136.303 L2221.03 164.636 Z\" fill=\"#000000\" fill-rule=\"nonzero\" fill-opacity=\"1\" /><path clip-path=\"url(#clip930)\" d=\"M2239.71 158.293 L2247.35 158.293 L2247.35 131.928 L2239.04 133.595 L2239.04 129.335 L2247.31 127.669 L2251.98 127.669 L2251.98 158.293 L2259.62 158.293 L2259.62 162.229 L2239.71 162.229 L2239.71 158.293 Z\" fill=\"#000000\" fill-rule=\"nonzero\" fill-opacity=\"1\" /></svg>\n"
      ],
      "text/html": [
       "<?xml version=\"1.0\" encoding=\"utf-8\"?>\n",
       "<svg xmlns=\"http://www.w3.org/2000/svg\" xmlns:xlink=\"http://www.w3.org/1999/xlink\" width=\"600\" height=\"400\" viewBox=\"0 0 2400 1600\">\n",
       "<defs>\n",
       "  <clipPath id=\"clip980\">\n",
       "    <rect x=\"0\" y=\"0\" width=\"2400\" height=\"1600\"/>\n",
       "  </clipPath>\n",
       "</defs>\n",
       "<path clip-path=\"url(#clip980)\" d=\"M0 1600 L2400 1600 L2400 0 L0 0  Z\" fill=\"#ffffff\" fill-rule=\"evenodd\" fill-opacity=\"1\"/>\n",
       "<defs>\n",
       "  <clipPath id=\"clip981\">\n",
       "    <rect x=\"480\" y=\"0\" width=\"1681\" height=\"1600\"/>\n",
       "  </clipPath>\n",
       "</defs>\n",
       "<path clip-path=\"url(#clip980)\" d=\"M257.204 1423.18 L2352.76 1423.18 L2352.76 47.2441 L257.204 47.2441  Z\" fill=\"#ffffff\" fill-rule=\"evenodd\" fill-opacity=\"1\"/>\n",
       "<defs>\n",
       "  <clipPath id=\"clip982\">\n",
       "    <rect x=\"257\" y=\"47\" width=\"2097\" height=\"1377\"/>\n",
       "  </clipPath>\n",
       "</defs>\n",
       "<polyline clip-path=\"url(#clip982)\" style=\"stroke:#000000; stroke-linecap:round; stroke-linejoin:round; stroke-width:2; stroke-opacity:0.1; fill:none\" points=\"551.858,1423.18 551.858,47.2441 \"/>\n",
       "<polyline clip-path=\"url(#clip982)\" style=\"stroke:#000000; stroke-linecap:round; stroke-linejoin:round; stroke-width:2; stroke-opacity:0.1; fill:none\" points=\"875.303,1423.18 875.303,47.2441 \"/>\n",
       "<polyline clip-path=\"url(#clip982)\" style=\"stroke:#000000; stroke-linecap:round; stroke-linejoin:round; stroke-width:2; stroke-opacity:0.1; fill:none\" points=\"1198.75,1423.18 1198.75,47.2441 \"/>\n",
       "<polyline clip-path=\"url(#clip982)\" style=\"stroke:#000000; stroke-linecap:round; stroke-linejoin:round; stroke-width:2; stroke-opacity:0.1; fill:none\" points=\"1522.19,1423.18 1522.19,47.2441 \"/>\n",
       "<polyline clip-path=\"url(#clip982)\" style=\"stroke:#000000; stroke-linecap:round; stroke-linejoin:round; stroke-width:2; stroke-opacity:0.1; fill:none\" points=\"1845.64,1423.18 1845.64,47.2441 \"/>\n",
       "<polyline clip-path=\"url(#clip982)\" style=\"stroke:#000000; stroke-linecap:round; stroke-linejoin:round; stroke-width:2; stroke-opacity:0.1; fill:none\" points=\"2169.08,1423.18 2169.08,47.2441 \"/>\n",
       "<polyline clip-path=\"url(#clip980)\" style=\"stroke:#000000; stroke-linecap:round; stroke-linejoin:round; stroke-width:4; stroke-opacity:1; fill:none\" points=\"257.204,1423.18 2352.76,1423.18 \"/>\n",
       "<polyline clip-path=\"url(#clip980)\" style=\"stroke:#000000; stroke-linecap:round; stroke-linejoin:round; stroke-width:4; stroke-opacity:1; fill:none\" points=\"551.858,1423.18 551.858,1404.28 \"/>\n",
       "<polyline clip-path=\"url(#clip980)\" style=\"stroke:#000000; stroke-linecap:round; stroke-linejoin:round; stroke-width:4; stroke-opacity:1; fill:none\" points=\"875.303,1423.18 875.303,1404.28 \"/>\n",
       "<polyline clip-path=\"url(#clip980)\" style=\"stroke:#000000; stroke-linecap:round; stroke-linejoin:round; stroke-width:4; stroke-opacity:1; fill:none\" points=\"1198.75,1423.18 1198.75,1404.28 \"/>\n",
       "<polyline clip-path=\"url(#clip980)\" style=\"stroke:#000000; stroke-linecap:round; stroke-linejoin:round; stroke-width:4; stroke-opacity:1; fill:none\" points=\"1522.19,1423.18 1522.19,1404.28 \"/>\n",
       "<polyline clip-path=\"url(#clip980)\" style=\"stroke:#000000; stroke-linecap:round; stroke-linejoin:round; stroke-width:4; stroke-opacity:1; fill:none\" points=\"1845.64,1423.18 1845.64,1404.28 \"/>\n",
       "<polyline clip-path=\"url(#clip980)\" style=\"stroke:#000000; stroke-linecap:round; stroke-linejoin:round; stroke-width:4; stroke-opacity:1; fill:none\" points=\"2169.08,1423.18 2169.08,1404.28 \"/>\n",
       "<path clip-path=\"url(#clip980)\" d=\"M498.884 1468.75 L528.56 1468.75 L528.56 1472.69 L498.884 1472.69 L498.884 1468.75 Z\" fill=\"#000000\" fill-rule=\"nonzero\" fill-opacity=\"1\" /><path clip-path=\"url(#clip980)\" d=\"M539.463 1481.64 L547.101 1481.64 L547.101 1455.28 L538.791 1456.95 L538.791 1452.69 L547.055 1451.02 L551.731 1451.02 L551.731 1481.64 L559.37 1481.64 L559.37 1485.58 L539.463 1485.58 L539.463 1481.64 Z\" fill=\"#000000\" fill-rule=\"nonzero\" fill-opacity=\"1\" /><path clip-path=\"url(#clip980)\" d=\"M568.814 1479.7 L573.699 1479.7 L573.699 1485.58 L568.814 1485.58 L568.814 1479.7 Z\" fill=\"#000000\" fill-rule=\"nonzero\" fill-opacity=\"1\" /><path clip-path=\"url(#clip980)\" d=\"M583.93 1451.02 L602.286 1451.02 L602.286 1454.96 L588.212 1454.96 L588.212 1463.43 Q589.231 1463.08 590.249 1462.92 Q591.268 1462.73 592.286 1462.73 Q598.073 1462.73 601.453 1465.9 Q604.833 1469.08 604.833 1474.49 Q604.833 1480.07 601.36 1483.17 Q597.888 1486.25 591.569 1486.25 Q589.393 1486.25 587.124 1485.88 Q584.879 1485.51 582.472 1484.77 L582.472 1480.07 Q584.555 1481.2 586.777 1481.76 Q588.999 1482.32 591.476 1482.32 Q595.481 1482.32 597.819 1480.21 Q600.157 1478.1 600.157 1474.49 Q600.157 1470.88 597.819 1468.77 Q595.481 1466.67 591.476 1466.67 Q589.601 1466.67 587.726 1467.08 Q585.874 1467.5 583.93 1468.38 L583.93 1451.02 Z\" fill=\"#000000\" fill-rule=\"nonzero\" fill-opacity=\"1\" /><path clip-path=\"url(#clip980)\" d=\"M821.831 1468.75 L851.507 1468.75 L851.507 1472.69 L821.831 1472.69 L821.831 1468.75 Z\" fill=\"#000000\" fill-rule=\"nonzero\" fill-opacity=\"1\" /><path clip-path=\"url(#clip980)\" d=\"M862.41 1481.64 L870.049 1481.64 L870.049 1455.28 L861.739 1456.95 L861.739 1452.69 L870.002 1451.02 L874.678 1451.02 L874.678 1481.64 L882.317 1481.64 L882.317 1485.58 L862.41 1485.58 L862.41 1481.64 Z\" fill=\"#000000\" fill-rule=\"nonzero\" fill-opacity=\"1\" /><path clip-path=\"url(#clip980)\" d=\"M891.762 1479.7 L896.646 1479.7 L896.646 1485.58 L891.762 1485.58 L891.762 1479.7 Z\" fill=\"#000000\" fill-rule=\"nonzero\" fill-opacity=\"1\" /><path clip-path=\"url(#clip980)\" d=\"M916.831 1454.1 Q913.22 1454.1 911.391 1457.66 Q909.586 1461.2 909.586 1468.33 Q909.586 1475.44 911.391 1479.01 Q913.22 1482.55 916.831 1482.55 Q920.465 1482.55 922.271 1479.01 Q924.099 1475.44 924.099 1468.33 Q924.099 1461.2 922.271 1457.66 Q920.465 1454.1 916.831 1454.1 M916.831 1450.39 Q922.641 1450.39 925.697 1455 Q928.775 1459.58 928.775 1468.33 Q928.775 1477.06 925.697 1481.67 Q922.641 1486.25 916.831 1486.25 Q911.021 1486.25 907.942 1481.67 Q904.887 1477.06 904.887 1468.33 Q904.887 1459.58 907.942 1455 Q911.021 1450.39 916.831 1450.39 Z\" fill=\"#000000\" fill-rule=\"nonzero\" fill-opacity=\"1\" /><path clip-path=\"url(#clip980)\" d=\"M1145.77 1468.75 L1175.45 1468.75 L1175.45 1472.69 L1145.77 1472.69 L1145.77 1468.75 Z\" fill=\"#000000\" fill-rule=\"nonzero\" fill-opacity=\"1\" /><path clip-path=\"url(#clip980)\" d=\"M1195.54 1454.1 Q1191.93 1454.1 1190.1 1457.66 Q1188.3 1461.2 1188.3 1468.33 Q1188.3 1475.44 1190.1 1479.01 Q1191.93 1482.55 1195.54 1482.55 Q1199.18 1482.55 1200.98 1479.01 Q1202.81 1475.44 1202.81 1468.33 Q1202.81 1461.2 1200.98 1457.66 Q1199.18 1454.1 1195.54 1454.1 M1195.54 1450.39 Q1201.35 1450.39 1204.41 1455 Q1207.49 1459.58 1207.49 1468.33 Q1207.49 1477.06 1204.41 1481.67 Q1201.35 1486.25 1195.54 1486.25 Q1189.73 1486.25 1186.65 1481.67 Q1183.6 1477.06 1183.6 1468.33 Q1183.6 1459.58 1186.65 1455 Q1189.73 1450.39 1195.54 1450.39 Z\" fill=\"#000000\" fill-rule=\"nonzero\" fill-opacity=\"1\" /><path clip-path=\"url(#clip980)\" d=\"M1215.7 1479.7 L1220.59 1479.7 L1220.59 1485.58 L1215.7 1485.58 L1215.7 1479.7 Z\" fill=\"#000000\" fill-rule=\"nonzero\" fill-opacity=\"1\" /><path clip-path=\"url(#clip980)\" d=\"M1230.82 1451.02 L1249.18 1451.02 L1249.18 1454.96 L1235.1 1454.96 L1235.1 1463.43 Q1236.12 1463.08 1237.14 1462.92 Q1238.16 1462.73 1239.18 1462.73 Q1244.96 1462.73 1248.34 1465.9 Q1251.72 1469.08 1251.72 1474.49 Q1251.72 1480.07 1248.25 1483.17 Q1244.78 1486.25 1238.46 1486.25 Q1236.28 1486.25 1234.01 1485.88 Q1231.77 1485.51 1229.36 1484.77 L1229.36 1480.07 Q1231.44 1481.2 1233.67 1481.76 Q1235.89 1482.32 1238.37 1482.32 Q1242.37 1482.32 1244.71 1480.21 Q1247.05 1478.1 1247.05 1474.49 Q1247.05 1470.88 1244.71 1468.77 Q1242.37 1466.67 1238.37 1466.67 Q1236.49 1466.67 1234.62 1467.08 Q1232.76 1467.5 1230.82 1468.38 L1230.82 1451.02 Z\" fill=\"#000000\" fill-rule=\"nonzero\" fill-opacity=\"1\" /><path clip-path=\"url(#clip980)\" d=\"M1499.58 1454.1 Q1495.97 1454.1 1494.14 1457.66 Q1492.33 1461.2 1492.33 1468.33 Q1492.33 1475.44 1494.14 1479.01 Q1495.97 1482.55 1499.58 1482.55 Q1503.21 1482.55 1505.02 1479.01 Q1506.85 1475.44 1506.85 1468.33 Q1506.85 1461.2 1505.02 1457.66 Q1503.21 1454.1 1499.58 1454.1 M1499.58 1450.39 Q1505.39 1450.39 1508.44 1455 Q1511.52 1459.58 1511.52 1468.33 Q1511.52 1477.06 1508.44 1481.67 Q1505.39 1486.25 1499.58 1486.25 Q1493.77 1486.25 1490.69 1481.67 Q1487.63 1477.06 1487.63 1468.33 Q1487.63 1459.58 1490.69 1455 Q1493.77 1450.39 1499.58 1450.39 Z\" fill=\"#000000\" fill-rule=\"nonzero\" fill-opacity=\"1\" /><path clip-path=\"url(#clip980)\" d=\"M1519.74 1479.7 L1524.62 1479.7 L1524.62 1485.58 L1519.74 1485.58 L1519.74 1479.7 Z\" fill=\"#000000\" fill-rule=\"nonzero\" fill-opacity=\"1\" /><path clip-path=\"url(#clip980)\" d=\"M1544.81 1454.1 Q1541.2 1454.1 1539.37 1457.66 Q1537.56 1461.2 1537.56 1468.33 Q1537.56 1475.44 1539.37 1479.01 Q1541.2 1482.55 1544.81 1482.55 Q1548.44 1482.55 1550.25 1479.01 Q1552.08 1475.44 1552.08 1468.33 Q1552.08 1461.2 1550.25 1457.66 Q1548.44 1454.1 1544.81 1454.1 M1544.81 1450.39 Q1550.62 1450.39 1553.67 1455 Q1556.75 1459.58 1556.75 1468.33 Q1556.75 1477.06 1553.67 1481.67 Q1550.62 1486.25 1544.81 1486.25 Q1539 1486.25 1535.92 1481.67 Q1532.86 1477.06 1532.86 1468.33 Q1532.86 1459.58 1535.92 1455 Q1539 1450.39 1544.81 1450.39 Z\" fill=\"#000000\" fill-rule=\"nonzero\" fill-opacity=\"1\" /><path clip-path=\"url(#clip980)\" d=\"M1823.52 1454.1 Q1819.91 1454.1 1818.08 1457.66 Q1816.28 1461.2 1816.28 1468.33 Q1816.28 1475.44 1818.08 1479.01 Q1819.91 1482.55 1823.52 1482.55 Q1827.15 1482.55 1828.96 1479.01 Q1830.79 1475.44 1830.79 1468.33 Q1830.79 1461.2 1828.96 1457.66 Q1827.15 1454.1 1823.52 1454.1 M1823.52 1450.39 Q1829.33 1450.39 1832.39 1455 Q1835.46 1459.58 1835.46 1468.33 Q1835.46 1477.06 1832.39 1481.67 Q1829.33 1486.25 1823.52 1486.25 Q1817.71 1486.25 1814.63 1481.67 Q1811.58 1477.06 1811.58 1468.33 Q1811.58 1459.58 1814.63 1455 Q1817.71 1450.39 1823.52 1450.39 Z\" fill=\"#000000\" fill-rule=\"nonzero\" fill-opacity=\"1\" /><path clip-path=\"url(#clip980)\" d=\"M1843.68 1479.7 L1848.57 1479.7 L1848.57 1485.58 L1843.68 1485.58 L1843.68 1479.7 Z\" fill=\"#000000\" fill-rule=\"nonzero\" fill-opacity=\"1\" /><path clip-path=\"url(#clip980)\" d=\"M1858.8 1451.02 L1877.15 1451.02 L1877.15 1454.96 L1863.08 1454.96 L1863.08 1463.43 Q1864.1 1463.08 1865.12 1462.92 Q1866.14 1462.73 1867.15 1462.73 Q1872.94 1462.73 1876.32 1465.9 Q1879.7 1469.08 1879.7 1474.49 Q1879.7 1480.07 1876.23 1483.17 Q1872.76 1486.25 1866.44 1486.25 Q1864.26 1486.25 1861.99 1485.88 Q1859.75 1485.51 1857.34 1484.77 L1857.34 1480.07 Q1859.42 1481.2 1861.65 1481.76 Q1863.87 1482.32 1866.34 1482.32 Q1870.35 1482.32 1872.69 1480.21 Q1875.02 1478.1 1875.02 1474.49 Q1875.02 1470.88 1872.69 1468.77 Q1870.35 1466.67 1866.34 1466.67 Q1864.47 1466.67 1862.59 1467.08 Q1860.74 1467.5 1858.8 1468.38 L1858.8 1451.02 Z\" fill=\"#000000\" fill-rule=\"nonzero\" fill-opacity=\"1\" /><path clip-path=\"url(#clip980)\" d=\"M2136.24 1481.64 L2143.88 1481.64 L2143.88 1455.28 L2135.57 1456.95 L2135.57 1452.69 L2143.83 1451.02 L2148.5 1451.02 L2148.5 1481.64 L2156.14 1481.64 L2156.14 1485.58 L2136.24 1485.58 L2136.24 1481.64 Z\" fill=\"#000000\" fill-rule=\"nonzero\" fill-opacity=\"1\" /><path clip-path=\"url(#clip980)\" d=\"M2165.59 1479.7 L2170.47 1479.7 L2170.47 1485.58 L2165.59 1485.58 L2165.59 1479.7 Z\" fill=\"#000000\" fill-rule=\"nonzero\" fill-opacity=\"1\" /><path clip-path=\"url(#clip980)\" d=\"M2190.66 1454.1 Q2187.05 1454.1 2185.22 1457.66 Q2183.41 1461.2 2183.41 1468.33 Q2183.41 1475.44 2185.22 1479.01 Q2187.05 1482.55 2190.66 1482.55 Q2194.29 1482.55 2196.1 1479.01 Q2197.93 1475.44 2197.93 1468.33 Q2197.93 1461.2 2196.1 1457.66 Q2194.29 1454.1 2190.66 1454.1 M2190.66 1450.39 Q2196.47 1450.39 2199.52 1455 Q2202.6 1459.58 2202.6 1468.33 Q2202.6 1477.06 2199.52 1481.67 Q2196.47 1486.25 2190.66 1486.25 Q2184.85 1486.25 2181.77 1481.67 Q2178.71 1477.06 2178.71 1468.33 Q2178.71 1459.58 2181.77 1455 Q2184.85 1450.39 2190.66 1450.39 Z\" fill=\"#000000\" fill-rule=\"nonzero\" fill-opacity=\"1\" /><path clip-path=\"url(#clip980)\" d=\"M1251.76 1520.52 L1258.67 1520.52 L1270.48 1538.19 L1282.35 1520.52 L1289.26 1520.52 L1273.98 1543.34 L1290.28 1568.04 L1283.37 1568.04 L1270 1547.83 L1256.54 1568.04 L1249.6 1568.04 L1266.56 1542.68 L1251.76 1520.52 Z\" fill=\"#000000\" fill-rule=\"nonzero\" fill-opacity=\"1\" /><path clip-path=\"url(#clip980)\" d=\"M1325.54 1578.87 L1325.54 1583.42 L1291.68 1583.42 L1291.68 1578.87 L1325.54 1578.87 Z\" fill=\"#000000\" fill-rule=\"nonzero\" fill-opacity=\"1\" /><path clip-path=\"url(#clip980)\" d=\"M1332.99 1562.63 L1343.49 1562.63 L1343.49 1526.38 L1332.07 1528.67 L1332.07 1522.82 L1343.43 1520.52 L1349.86 1520.52 L1349.86 1562.63 L1360.36 1562.63 L1360.36 1568.04 L1332.99 1568.04 L1332.99 1562.63 Z\" fill=\"#000000\" fill-rule=\"nonzero\" fill-opacity=\"1\" /><polyline clip-path=\"url(#clip982)\" style=\"stroke:#000000; stroke-linecap:round; stroke-linejoin:round; stroke-width:2; stroke-opacity:0.1; fill:none\" points=\"257.204,1300.29 2352.76,1300.29 \"/>\n",
       "<polyline clip-path=\"url(#clip982)\" style=\"stroke:#000000; stroke-linecap:round; stroke-linejoin:round; stroke-width:2; stroke-opacity:0.1; fill:none\" points=\"257.204,1106.31 2352.76,1106.31 \"/>\n",
       "<polyline clip-path=\"url(#clip982)\" style=\"stroke:#000000; stroke-linecap:round; stroke-linejoin:round; stroke-width:2; stroke-opacity:0.1; fill:none\" points=\"257.204,912.334 2352.76,912.334 \"/>\n",
       "<polyline clip-path=\"url(#clip982)\" style=\"stroke:#000000; stroke-linecap:round; stroke-linejoin:round; stroke-width:2; stroke-opacity:0.1; fill:none\" points=\"257.204,718.356 2352.76,718.356 \"/>\n",
       "<polyline clip-path=\"url(#clip982)\" style=\"stroke:#000000; stroke-linecap:round; stroke-linejoin:round; stroke-width:2; stroke-opacity:0.1; fill:none\" points=\"257.204,524.378 2352.76,524.378 \"/>\n",
       "<polyline clip-path=\"url(#clip982)\" style=\"stroke:#000000; stroke-linecap:round; stroke-linejoin:round; stroke-width:2; stroke-opacity:0.1; fill:none\" points=\"257.204,330.4 2352.76,330.4 \"/>\n",
       "<polyline clip-path=\"url(#clip982)\" style=\"stroke:#000000; stroke-linecap:round; stroke-linejoin:round; stroke-width:2; stroke-opacity:0.1; fill:none\" points=\"257.204,136.422 2352.76,136.422 \"/>\n",
       "<polyline clip-path=\"url(#clip980)\" style=\"stroke:#000000; stroke-linecap:round; stroke-linejoin:round; stroke-width:4; stroke-opacity:1; fill:none\" points=\"257.204,1423.18 257.204,47.2441 \"/>\n",
       "<polyline clip-path=\"url(#clip980)\" style=\"stroke:#000000; stroke-linecap:round; stroke-linejoin:round; stroke-width:4; stroke-opacity:1; fill:none\" points=\"257.204,1300.29 276.102,1300.29 \"/>\n",
       "<polyline clip-path=\"url(#clip980)\" style=\"stroke:#000000; stroke-linecap:round; stroke-linejoin:round; stroke-width:4; stroke-opacity:1; fill:none\" points=\"257.204,1106.31 276.102,1106.31 \"/>\n",
       "<polyline clip-path=\"url(#clip980)\" style=\"stroke:#000000; stroke-linecap:round; stroke-linejoin:round; stroke-width:4; stroke-opacity:1; fill:none\" points=\"257.204,912.334 276.102,912.334 \"/>\n",
       "<polyline clip-path=\"url(#clip980)\" style=\"stroke:#000000; stroke-linecap:round; stroke-linejoin:round; stroke-width:4; stroke-opacity:1; fill:none\" points=\"257.204,718.356 276.102,718.356 \"/>\n",
       "<polyline clip-path=\"url(#clip980)\" style=\"stroke:#000000; stroke-linecap:round; stroke-linejoin:round; stroke-width:4; stroke-opacity:1; fill:none\" points=\"257.204,524.378 276.102,524.378 \"/>\n",
       "<polyline clip-path=\"url(#clip980)\" style=\"stroke:#000000; stroke-linecap:round; stroke-linejoin:round; stroke-width:4; stroke-opacity:1; fill:none\" points=\"257.204,330.4 276.102,330.4 \"/>\n",
       "<polyline clip-path=\"url(#clip980)\" style=\"stroke:#000000; stroke-linecap:round; stroke-linejoin:round; stroke-width:4; stroke-opacity:1; fill:none\" points=\"257.204,136.422 276.102,136.422 \"/>\n",
       "<path clip-path=\"url(#clip980)\" d=\"M115.256 1300.74 L144.931 1300.74 L144.931 1304.68 L115.256 1304.68 L115.256 1300.74 Z\" fill=\"#000000\" fill-rule=\"nonzero\" fill-opacity=\"1\" /><path clip-path=\"url(#clip980)\" d=\"M155.834 1313.63 L163.473 1313.63 L163.473 1287.27 L155.163 1288.94 L155.163 1284.68 L163.427 1283.01 L168.102 1283.01 L168.102 1313.63 L175.741 1313.63 L175.741 1317.57 L155.834 1317.57 L155.834 1313.63 Z\" fill=\"#000000\" fill-rule=\"nonzero\" fill-opacity=\"1\" /><path clip-path=\"url(#clip980)\" d=\"M185.186 1311.69 L190.07 1311.69 L190.07 1317.57 L185.186 1317.57 L185.186 1311.69 Z\" fill=\"#000000\" fill-rule=\"nonzero\" fill-opacity=\"1\" /><path clip-path=\"url(#clip980)\" d=\"M200.301 1283.01 L218.658 1283.01 L218.658 1286.94 L204.584 1286.94 L204.584 1295.42 Q205.602 1295.07 206.621 1294.91 Q207.639 1294.72 208.658 1294.72 Q214.445 1294.72 217.824 1297.89 Q221.204 1301.07 221.204 1306.48 Q221.204 1312.06 217.732 1315.16 Q214.26 1318.24 207.94 1318.24 Q205.764 1318.24 203.496 1317.87 Q201.25 1317.5 198.843 1316.76 L198.843 1312.06 Q200.926 1313.19 203.149 1313.75 Q205.371 1314.31 207.848 1314.31 Q211.852 1314.31 214.19 1312.2 Q216.528 1310.09 216.528 1306.48 Q216.528 1302.87 214.19 1300.76 Q211.852 1298.66 207.848 1298.66 Q205.973 1298.66 204.098 1299.07 Q202.246 1299.49 200.301 1300.37 L200.301 1283.01 Z\" fill=\"#000000\" fill-rule=\"nonzero\" fill-opacity=\"1\" /><path clip-path=\"url(#clip980)\" d=\"M114.26 1106.76 L143.936 1106.76 L143.936 1110.7 L114.26 1110.7 L114.26 1106.76 Z\" fill=\"#000000\" fill-rule=\"nonzero\" fill-opacity=\"1\" /><path clip-path=\"url(#clip980)\" d=\"M154.839 1119.66 L162.477 1119.66 L162.477 1093.29 L154.167 1094.96 L154.167 1090.7 L162.431 1089.03 L167.107 1089.03 L167.107 1119.66 L174.746 1119.66 L174.746 1123.59 L154.839 1123.59 L154.839 1119.66 Z\" fill=\"#000000\" fill-rule=\"nonzero\" fill-opacity=\"1\" /><path clip-path=\"url(#clip980)\" d=\"M184.19 1117.71 L189.075 1117.71 L189.075 1123.59 L184.19 1123.59 L184.19 1117.71 Z\" fill=\"#000000\" fill-rule=\"nonzero\" fill-opacity=\"1\" /><path clip-path=\"url(#clip980)\" d=\"M209.26 1092.11 Q205.649 1092.11 203.82 1095.68 Q202.014 1099.22 202.014 1106.35 Q202.014 1113.45 203.82 1117.02 Q205.649 1120.56 209.26 1120.56 Q212.894 1120.56 214.699 1117.02 Q216.528 1113.45 216.528 1106.35 Q216.528 1099.22 214.699 1095.68 Q212.894 1092.11 209.26 1092.11 M209.26 1088.41 Q215.07 1088.41 218.125 1093.01 Q221.204 1097.6 221.204 1106.35 Q221.204 1115.07 218.125 1119.68 Q215.07 1124.26 209.26 1124.26 Q203.449 1124.26 200.371 1119.68 Q197.315 1115.07 197.315 1106.35 Q197.315 1097.6 200.371 1093.01 Q203.449 1088.41 209.26 1088.41 Z\" fill=\"#000000\" fill-rule=\"nonzero\" fill-opacity=\"1\" /><path clip-path=\"url(#clip980)\" d=\"M115.256 912.785 L144.931 912.785 L144.931 916.72 L115.256 916.72 L115.256 912.785 Z\" fill=\"#000000\" fill-rule=\"nonzero\" fill-opacity=\"1\" /><path clip-path=\"url(#clip980)\" d=\"M165.024 898.133 Q161.413 898.133 159.584 901.697 Q157.778 905.239 157.778 912.369 Q157.778 919.475 159.584 923.04 Q161.413 926.581 165.024 926.581 Q168.658 926.581 170.464 923.04 Q172.292 919.475 172.292 912.369 Q172.292 905.239 170.464 901.697 Q168.658 898.133 165.024 898.133 M165.024 894.429 Q170.834 894.429 173.889 899.035 Q176.968 903.619 176.968 912.369 Q176.968 921.095 173.889 925.702 Q170.834 930.285 165.024 930.285 Q159.214 930.285 156.135 925.702 Q153.079 921.095 153.079 912.369 Q153.079 903.619 156.135 899.035 Q159.214 894.429 165.024 894.429 Z\" fill=\"#000000\" fill-rule=\"nonzero\" fill-opacity=\"1\" /><path clip-path=\"url(#clip980)\" d=\"M185.186 923.734 L190.07 923.734 L190.07 929.614 L185.186 929.614 L185.186 923.734 Z\" fill=\"#000000\" fill-rule=\"nonzero\" fill-opacity=\"1\" /><path clip-path=\"url(#clip980)\" d=\"M200.301 895.054 L218.658 895.054 L218.658 898.989 L204.584 898.989 L204.584 907.461 Q205.602 907.114 206.621 906.952 Q207.639 906.767 208.658 906.767 Q214.445 906.767 217.824 909.938 Q221.204 913.109 221.204 918.526 Q221.204 924.105 217.732 927.206 Q214.26 930.285 207.94 930.285 Q205.764 930.285 203.496 929.915 Q201.25 929.544 198.843 928.804 L198.843 924.105 Q200.926 925.239 203.149 925.794 Q205.371 926.35 207.848 926.35 Q211.852 926.35 214.19 924.244 Q216.528 922.137 216.528 918.526 Q216.528 914.915 214.19 912.808 Q211.852 910.702 207.848 910.702 Q205.973 910.702 204.098 911.119 Q202.246 911.535 200.301 912.415 L200.301 895.054 Z\" fill=\"#000000\" fill-rule=\"nonzero\" fill-opacity=\"1\" /><path clip-path=\"url(#clip980)\" d=\"M164.028 704.155 Q160.417 704.155 158.589 707.719 Q156.783 711.261 156.783 718.391 Q156.783 725.497 158.589 729.062 Q160.417 732.604 164.028 732.604 Q167.663 732.604 169.468 729.062 Q171.297 725.497 171.297 718.391 Q171.297 711.261 169.468 707.719 Q167.663 704.155 164.028 704.155 M164.028 700.451 Q169.839 700.451 172.894 705.057 Q175.973 709.641 175.973 718.391 Q175.973 727.117 172.894 731.724 Q169.839 736.307 164.028 736.307 Q158.218 736.307 155.14 731.724 Q152.084 727.117 152.084 718.391 Q152.084 709.641 155.14 705.057 Q158.218 700.451 164.028 700.451 Z\" fill=\"#000000\" fill-rule=\"nonzero\" fill-opacity=\"1\" /><path clip-path=\"url(#clip980)\" d=\"M184.19 729.756 L189.075 729.756 L189.075 735.636 L184.19 735.636 L184.19 729.756 Z\" fill=\"#000000\" fill-rule=\"nonzero\" fill-opacity=\"1\" /><path clip-path=\"url(#clip980)\" d=\"M209.26 704.155 Q205.649 704.155 203.82 707.719 Q202.014 711.261 202.014 718.391 Q202.014 725.497 203.82 729.062 Q205.649 732.604 209.26 732.604 Q212.894 732.604 214.699 729.062 Q216.528 725.497 216.528 718.391 Q216.528 711.261 214.699 707.719 Q212.894 704.155 209.26 704.155 M209.26 700.451 Q215.07 700.451 218.125 705.057 Q221.204 709.641 221.204 718.391 Q221.204 727.117 218.125 731.724 Q215.07 736.307 209.26 736.307 Q203.449 736.307 200.371 731.724 Q197.315 727.117 197.315 718.391 Q197.315 709.641 200.371 705.057 Q203.449 700.451 209.26 700.451 Z\" fill=\"#000000\" fill-rule=\"nonzero\" fill-opacity=\"1\" /><path clip-path=\"url(#clip980)\" d=\"M165.024 510.177 Q161.413 510.177 159.584 513.741 Q157.778 517.283 157.778 524.413 Q157.778 531.519 159.584 535.084 Q161.413 538.626 165.024 538.626 Q168.658 538.626 170.464 535.084 Q172.292 531.519 172.292 524.413 Q172.292 517.283 170.464 513.741 Q168.658 510.177 165.024 510.177 M165.024 506.473 Q170.834 506.473 173.889 511.079 Q176.968 515.663 176.968 524.413 Q176.968 533.139 173.889 537.746 Q170.834 542.329 165.024 542.329 Q159.214 542.329 156.135 537.746 Q153.079 533.139 153.079 524.413 Q153.079 515.663 156.135 511.079 Q159.214 506.473 165.024 506.473 Z\" fill=\"#000000\" fill-rule=\"nonzero\" fill-opacity=\"1\" /><path clip-path=\"url(#clip980)\" d=\"M185.186 535.778 L190.07 535.778 L190.07 541.658 L185.186 541.658 L185.186 535.778 Z\" fill=\"#000000\" fill-rule=\"nonzero\" fill-opacity=\"1\" /><path clip-path=\"url(#clip980)\" d=\"M200.301 507.098 L218.658 507.098 L218.658 511.033 L204.584 511.033 L204.584 519.505 Q205.602 519.158 206.621 518.996 Q207.639 518.811 208.658 518.811 Q214.445 518.811 217.824 521.982 Q221.204 525.153 221.204 530.57 Q221.204 536.149 217.732 539.251 Q214.26 542.329 207.94 542.329 Q205.764 542.329 203.496 541.959 Q201.25 541.589 198.843 540.848 L198.843 536.149 Q200.926 537.283 203.149 537.839 Q205.371 538.394 207.848 538.394 Q211.852 538.394 214.19 536.288 Q216.528 534.181 216.528 530.57 Q216.528 526.959 214.19 524.852 Q211.852 522.746 207.848 522.746 Q205.973 522.746 204.098 523.163 Q202.246 523.579 200.301 524.459 L200.301 507.098 Z\" fill=\"#000000\" fill-rule=\"nonzero\" fill-opacity=\"1\" /><path clip-path=\"url(#clip980)\" d=\"M154.839 343.745 L162.477 343.745 L162.477 317.379 L154.167 319.046 L154.167 314.787 L162.431 313.12 L167.107 313.12 L167.107 343.745 L174.746 343.745 L174.746 347.68 L154.839 347.68 L154.839 343.745 Z\" fill=\"#000000\" fill-rule=\"nonzero\" fill-opacity=\"1\" /><path clip-path=\"url(#clip980)\" d=\"M184.19 341.8 L189.075 341.8 L189.075 347.68 L184.19 347.68 L184.19 341.8 Z\" fill=\"#000000\" fill-rule=\"nonzero\" fill-opacity=\"1\" /><path clip-path=\"url(#clip980)\" d=\"M209.26 316.199 Q205.649 316.199 203.82 319.763 Q202.014 323.305 202.014 330.435 Q202.014 337.541 203.82 341.106 Q205.649 344.648 209.26 344.648 Q212.894 344.648 214.699 341.106 Q216.528 337.541 216.528 330.435 Q216.528 323.305 214.699 319.763 Q212.894 316.199 209.26 316.199 M209.26 312.495 Q215.07 312.495 218.125 317.101 Q221.204 321.685 221.204 330.435 Q221.204 339.162 218.125 343.768 Q215.07 348.351 209.26 348.351 Q203.449 348.351 200.371 343.768 Q197.315 339.162 197.315 330.435 Q197.315 321.685 200.371 317.101 Q203.449 312.495 209.26 312.495 Z\" fill=\"#000000\" fill-rule=\"nonzero\" fill-opacity=\"1\" /><path clip-path=\"url(#clip980)\" d=\"M155.834 149.767 L163.473 149.767 L163.473 123.401 L155.163 125.068 L155.163 120.809 L163.427 119.142 L168.102 119.142 L168.102 149.767 L175.741 149.767 L175.741 153.702 L155.834 153.702 L155.834 149.767 Z\" fill=\"#000000\" fill-rule=\"nonzero\" fill-opacity=\"1\" /><path clip-path=\"url(#clip980)\" d=\"M185.186 147.822 L190.07 147.822 L190.07 153.702 L185.186 153.702 L185.186 147.822 Z\" fill=\"#000000\" fill-rule=\"nonzero\" fill-opacity=\"1\" /><path clip-path=\"url(#clip980)\" d=\"M200.301 119.142 L218.658 119.142 L218.658 123.077 L204.584 123.077 L204.584 131.549 Q205.602 131.202 206.621 131.04 Q207.639 130.855 208.658 130.855 Q214.445 130.855 217.824 134.026 Q221.204 137.197 221.204 142.614 Q221.204 148.193 217.732 151.295 Q214.26 154.373 207.94 154.373 Q205.764 154.373 203.496 154.003 Q201.25 153.633 198.843 152.892 L198.843 148.193 Q200.926 149.327 203.149 149.883 Q205.371 150.438 207.848 150.438 Q211.852 150.438 214.19 148.332 Q216.528 146.225 216.528 142.614 Q216.528 139.003 214.19 136.897 Q211.852 134.79 207.848 134.79 Q205.973 134.79 204.098 135.207 Q202.246 135.623 200.301 136.503 L200.301 119.142 Z\" fill=\"#000000\" fill-rule=\"nonzero\" fill-opacity=\"1\" /><path clip-path=\"url(#clip980)\" d=\"M16.4842 788.175 L16.4842 781.268 L34.149 769.459 L16.4842 757.587 L16.4842 750.681 L39.3052 765.958 L64.0042 749.662 L64.0042 756.569 L43.793 769.937 L64.0042 783.4 L64.0042 790.339 L38.6368 773.374 L16.4842 788.175 Z\" fill=\"#000000\" fill-rule=\"nonzero\" fill-opacity=\"1\" /><path clip-path=\"url(#clip980)\" d=\"M74.8259 714.396 L79.3773 714.396 L79.3773 748.262 L74.8259 748.262 L74.8259 714.396 Z\" fill=\"#000000\" fill-rule=\"nonzero\" fill-opacity=\"1\" /><path clip-path=\"url(#clip980)\" d=\"M58.5933 702.524 L58.5933 680.085 L64.0042 680.085 L64.0042 710.258 L58.5933 710.258 Q54.8057 706.598 48.44 700.296 Q42.0425 693.962 40.1964 692.339 Q36.7271 689.252 34.34 688.042 Q31.921 686.801 29.5975 686.801 Q25.8099 686.801 23.4228 689.474 Q21.0356 692.116 21.0356 696.381 Q21.0356 699.405 22.086 702.779 Q23.1363 706.121 25.2688 709.94 L18.7758 709.94 Q17.2162 706.057 16.4205 702.683 Q15.6248 699.309 15.6248 696.508 Q15.6248 689.124 19.3169 684.732 Q23.009 680.34 29.1837 680.34 Q32.112 680.34 34.7537 681.454 Q37.3637 682.536 40.9285 685.432 Q41.8515 686.228 46.2757 690.493 Q50.668 694.758 58.5933 702.524 Z\" fill=\"#000000\" fill-rule=\"nonzero\" fill-opacity=\"1\" /><circle clip-path=\"url(#clip982)\" cx=\"1196.7\" cy=\"135.37\" r=\"36\" fill=\"#009af9\" fill-rule=\"evenodd\" fill-opacity=\"1\" stroke=\"#000000\" stroke-opacity=\"1\" stroke-width=\"3.2\"/>\n",
       "<circle clip-path=\"url(#clip982)\" cx=\"1797.33\" cy=\"1230.76\" r=\"36\" fill=\"#009af9\" fill-rule=\"evenodd\" fill-opacity=\"1\" stroke=\"#000000\" stroke-opacity=\"1\" stroke-width=\"3.2\"/>\n",
       "<circle clip-path=\"url(#clip982)\" cx=\"2060.98\" cy=\"395.249\" r=\"36\" fill=\"#009af9\" fill-rule=\"evenodd\" fill-opacity=\"1\" stroke=\"#000000\" stroke-opacity=\"1\" stroke-width=\"3.2\"/>\n",
       "<circle clip-path=\"url(#clip982)\" cx=\"960.179\" cy=\"851.07\" r=\"36\" fill=\"#009af9\" fill-rule=\"evenodd\" fill-opacity=\"1\" stroke=\"#000000\" stroke-opacity=\"1\" stroke-width=\"3.2\"/>\n",
       "<circle clip-path=\"url(#clip982)\" cx=\"1550.19\" cy=\"829.831\" r=\"36\" fill=\"#009af9\" fill-rule=\"evenodd\" fill-opacity=\"1\" stroke=\"#000000\" stroke-opacity=\"1\" stroke-width=\"3.2\"/>\n",
       "<circle clip-path=\"url(#clip982)\" cx=\"1901.77\" cy=\"1384.24\" r=\"36\" fill=\"#009af9\" fill-rule=\"evenodd\" fill-opacity=\"1\" stroke=\"#000000\" stroke-opacity=\"1\" stroke-width=\"3.2\"/>\n",
       "<circle clip-path=\"url(#clip982)\" cx=\"2293.45\" cy=\"1010.95\" r=\"36\" fill=\"#009af9\" fill-rule=\"evenodd\" fill-opacity=\"1\" stroke=\"#000000\" stroke-opacity=\"1\" stroke-width=\"3.2\"/>\n",
       "<circle clip-path=\"url(#clip982)\" cx=\"1138.75\" cy=\"769.479\" r=\"36\" fill=\"#009af9\" fill-rule=\"evenodd\" fill-opacity=\"1\" stroke=\"#000000\" stroke-opacity=\"1\" stroke-width=\"3.2\"/>\n",
       "<circle clip-path=\"url(#clip982)\" cx=\"316.512\" cy=\"86.1857\" r=\"36\" fill=\"#009af9\" fill-rule=\"evenodd\" fill-opacity=\"1\" stroke=\"#000000\" stroke-opacity=\"1\" stroke-width=\"3.2\"/>\n",
       "<circle clip-path=\"url(#clip982)\" cx=\"1749.51\" cy=\"837.959\" r=\"36\" fill=\"#009af9\" fill-rule=\"evenodd\" fill-opacity=\"1\" stroke=\"#000000\" stroke-opacity=\"1\" stroke-width=\"3.2\"/>\n",
       "<path clip-path=\"url(#clip980)\" d=\"M2020.92 196.789 L2282.9 196.789 L2282.9 93.1086 L2020.92 93.1086  Z\" fill=\"#ffffff\" fill-rule=\"evenodd\" fill-opacity=\"1\"/>\n",
       "<polyline clip-path=\"url(#clip980)\" style=\"stroke:#000000; stroke-linecap:round; stroke-linejoin:round; stroke-width:4; stroke-opacity:1; fill:none\" points=\"2020.92,196.789 2282.9,196.789 2282.9,93.1086 2020.92,93.1086 2020.92,196.789 \"/>\n",
       "<circle clip-path=\"url(#clip980)\" cx=\"2114.05\" cy=\"144.949\" r=\"21.9429\" fill=\"#009af9\" fill-rule=\"evenodd\" fill-opacity=\"1\" stroke=\"#000000\" stroke-opacity=\"1\" stroke-width=\"1.95048\"/>\n",
       "<path clip-path=\"url(#clip980)\" d=\"M2221.03 164.636 Q2219.23 169.266 2217.51 170.678 Q2215.8 172.09 2212.93 172.09 L2209.53 172.09 L2209.53 168.525 L2212.03 168.525 Q2213.79 168.525 2214.76 167.692 Q2215.73 166.858 2216.91 163.756 L2217.68 161.812 L2207.19 136.303 L2211.7 136.303 L2219.81 156.581 L2227.91 136.303 L2232.42 136.303 L2221.03 164.636 Z\" fill=\"#000000\" fill-rule=\"nonzero\" fill-opacity=\"1\" /><path clip-path=\"url(#clip980)\" d=\"M2239.71 158.293 L2247.35 158.293 L2247.35 131.928 L2239.04 133.595 L2239.04 129.335 L2247.31 127.669 L2251.98 127.669 L2251.98 158.293 L2259.62 158.293 L2259.62 162.229 L2239.71 162.229 L2239.71 158.293 Z\" fill=\"#000000\" fill-rule=\"nonzero\" fill-opacity=\"1\" /></svg>\n"
      ]
     },
     "metadata": {},
     "output_type": "display_data"
    }
   ],
   "source": [
    "X = randn(10,2)\n",
    "scatter(X[:,1], X[:,2], xlabel=\"X_1\", ylabel=\"X_2\", markersize=10)"
   ]
  },
  {
   "cell_type": "markdown",
   "metadata": {},
   "source": [
    "It is possible to add plots to the same figure by using a `!` added to your plot command."
   ]
  },
  {
   "cell_type": "code",
   "execution_count": 32,
   "metadata": {},
   "outputs": [
    {
     "data": {
      "image/png": "[encoded data removed]",
      "image/svg+xml": [
       "<?xml version=\"1.0\" encoding=\"utf-8\"?>\n",
       "<svg xmlns=\"http://www.w3.org/2000/svg\" xmlns:xlink=\"http://www.w3.org/1999/xlink\" width=\"600\" height=\"400\" viewBox=\"0 0 2400 1600\">\n",
       "<defs>\n",
       "  <clipPath id=\"clip020\">\n",
       "    <rect x=\"0\" y=\"0\" width=\"2400\" height=\"1600\"/>\n",
       "  </clipPath>\n",
       "</defs>\n",
       "<path clip-path=\"url(#clip020)\" d=\"M0 1600 L2400 1600 L2400 0 L0 0  Z\" fill=\"#ffffff\" fill-rule=\"evenodd\" fill-opacity=\"1\"/>\n",
       "<defs>\n",
       "  <clipPath id=\"clip021\">\n",
       "    <rect x=\"480\" y=\"0\" width=\"1681\" height=\"1600\"/>\n",
       "  </clipPath>\n",
       "</defs>\n",
       "<path clip-path=\"url(#clip020)\" d=\"M219.866 1423.18 L2352.76 1423.18 L2352.76 47.2441 L219.866 47.2441  Z\" fill=\"#ffffff\" fill-rule=\"evenodd\" fill-opacity=\"1\"/>\n",
       "<defs>\n",
       "  <clipPath id=\"clip022\">\n",
       "    <rect x=\"219\" y=\"47\" width=\"2134\" height=\"1377\"/>\n",
       "  </clipPath>\n",
       "</defs>\n",
       "<polyline clip-path=\"url(#clip022)\" style=\"stroke:#000000; stroke-linecap:round; stroke-linejoin:round; stroke-width:2; stroke-opacity:0.1; fill:none\" points=\"280.231,1423.18 280.231,47.2441 \"/>\n",
       "<polyline clip-path=\"url(#clip022)\" style=\"stroke:#000000; stroke-linecap:round; stroke-linejoin:round; stroke-width:2; stroke-opacity:0.1; fill:none\" points=\"615.591,1423.18 615.591,47.2441 \"/>\n",
       "<polyline clip-path=\"url(#clip022)\" style=\"stroke:#000000; stroke-linecap:round; stroke-linejoin:round; stroke-width:2; stroke-opacity:0.1; fill:none\" points=\"950.951,1423.18 950.951,47.2441 \"/>\n",
       "<polyline clip-path=\"url(#clip022)\" style=\"stroke:#000000; stroke-linecap:round; stroke-linejoin:round; stroke-width:2; stroke-opacity:0.1; fill:none\" points=\"1286.31,1423.18 1286.31,47.2441 \"/>\n",
       "<polyline clip-path=\"url(#clip022)\" style=\"stroke:#000000; stroke-linecap:round; stroke-linejoin:round; stroke-width:2; stroke-opacity:0.1; fill:none\" points=\"1621.67,1423.18 1621.67,47.2441 \"/>\n",
       "<polyline clip-path=\"url(#clip022)\" style=\"stroke:#000000; stroke-linecap:round; stroke-linejoin:round; stroke-width:2; stroke-opacity:0.1; fill:none\" points=\"1957.03,1423.18 1957.03,47.2441 \"/>\n",
       "<polyline clip-path=\"url(#clip022)\" style=\"stroke:#000000; stroke-linecap:round; stroke-linejoin:round; stroke-width:2; stroke-opacity:0.1; fill:none\" points=\"2292.39,1423.18 2292.39,47.2441 \"/>\n",
       "<polyline clip-path=\"url(#clip020)\" style=\"stroke:#000000; stroke-linecap:round; stroke-linejoin:round; stroke-width:4; stroke-opacity:1; fill:none\" points=\"219.866,1423.18 2352.76,1423.18 \"/>\n",
       "<polyline clip-path=\"url(#clip020)\" style=\"stroke:#000000; stroke-linecap:round; stroke-linejoin:round; stroke-width:4; stroke-opacity:1; fill:none\" points=\"280.231,1423.18 280.231,1404.28 \"/>\n",
       "<polyline clip-path=\"url(#clip020)\" style=\"stroke:#000000; stroke-linecap:round; stroke-linejoin:round; stroke-width:4; stroke-opacity:1; fill:none\" points=\"615.591,1423.18 615.591,1404.28 \"/>\n",
       "<polyline clip-path=\"url(#clip020)\" style=\"stroke:#000000; stroke-linecap:round; stroke-linejoin:round; stroke-width:4; stroke-opacity:1; fill:none\" points=\"950.951,1423.18 950.951,1404.28 \"/>\n",
       "<polyline clip-path=\"url(#clip020)\" style=\"stroke:#000000; stroke-linecap:round; stroke-linejoin:round; stroke-width:4; stroke-opacity:1; fill:none\" points=\"1286.31,1423.18 1286.31,1404.28 \"/>\n",
       "<polyline clip-path=\"url(#clip020)\" style=\"stroke:#000000; stroke-linecap:round; stroke-linejoin:round; stroke-width:4; stroke-opacity:1; fill:none\" points=\"1621.67,1423.18 1621.67,1404.28 \"/>\n",
       "<polyline clip-path=\"url(#clip020)\" style=\"stroke:#000000; stroke-linecap:round; stroke-linejoin:round; stroke-width:4; stroke-opacity:1; fill:none\" points=\"1957.03,1423.18 1957.03,1404.28 \"/>\n",
       "<polyline clip-path=\"url(#clip020)\" style=\"stroke:#000000; stroke-linecap:round; stroke-linejoin:round; stroke-width:4; stroke-opacity:1; fill:none\" points=\"2292.39,1423.18 2292.39,1404.28 \"/>\n",
       "<path clip-path=\"url(#clip020)\" d=\"M249.699 1468.75 L279.375 1468.75 L279.375 1472.69 L249.699 1472.69 L249.699 1468.75 Z\" fill=\"#000000\" fill-rule=\"nonzero\" fill-opacity=\"1\" /><path clip-path=\"url(#clip020)\" d=\"M303.634 1466.95 Q306.99 1467.66 308.865 1469.93 Q310.763 1472.2 310.763 1475.53 Q310.763 1480.65 307.245 1483.45 Q303.726 1486.25 297.245 1486.25 Q295.069 1486.25 292.754 1485.81 Q290.462 1485.39 288.009 1484.54 L288.009 1480.02 Q289.953 1481.16 292.268 1481.74 Q294.583 1482.32 297.106 1482.32 Q301.504 1482.32 303.796 1480.58 Q306.111 1478.84 306.111 1475.53 Q306.111 1472.48 303.958 1470.77 Q301.828 1469.03 298.009 1469.03 L293.981 1469.03 L293.981 1465.19 L298.194 1465.19 Q301.643 1465.19 303.472 1463.82 Q305.3 1462.43 305.3 1459.84 Q305.3 1457.18 303.402 1455.77 Q301.527 1454.33 298.009 1454.33 Q296.087 1454.33 293.888 1454.75 Q291.689 1455.16 289.05 1456.04 L289.05 1451.88 Q291.712 1451.14 294.027 1450.77 Q296.365 1450.39 298.425 1450.39 Q303.749 1450.39 306.851 1452.83 Q309.953 1455.23 309.953 1459.35 Q309.953 1462.22 308.31 1464.21 Q306.666 1466.18 303.634 1466.95 Z\" fill=\"#000000\" fill-rule=\"nonzero\" fill-opacity=\"1\" /><path clip-path=\"url(#clip020)\" d=\"M585.533 1468.75 L615.209 1468.75 L615.209 1472.69 L585.533 1472.69 L585.533 1468.75 Z\" fill=\"#000000\" fill-rule=\"nonzero\" fill-opacity=\"1\" /><path clip-path=\"url(#clip020)\" d=\"M629.329 1481.64 L645.649 1481.64 L645.649 1485.58 L623.704 1485.58 L623.704 1481.64 Q626.366 1478.89 630.95 1474.26 Q635.556 1469.61 636.737 1468.27 Q638.982 1465.74 639.862 1464.01 Q640.765 1462.25 640.765 1460.56 Q640.765 1457.8 638.82 1456.07 Q636.899 1454.33 633.797 1454.33 Q631.598 1454.33 629.144 1455.09 Q626.714 1455.86 623.936 1457.41 L623.936 1452.69 Q626.76 1451.55 629.214 1450.97 Q631.667 1450.39 633.704 1450.39 Q639.075 1450.39 642.269 1453.08 Q645.464 1455.77 645.464 1460.26 Q645.464 1462.39 644.653 1464.31 Q643.866 1466.2 641.76 1468.8 Q641.181 1469.47 638.079 1472.69 Q634.978 1475.88 629.329 1481.64 Z\" fill=\"#000000\" fill-rule=\"nonzero\" fill-opacity=\"1\" /><path clip-path=\"url(#clip020)\" d=\"M920.708 1468.75 L950.384 1468.75 L950.384 1472.69 L920.708 1472.69 L920.708 1468.75 Z\" fill=\"#000000\" fill-rule=\"nonzero\" fill-opacity=\"1\" /><path clip-path=\"url(#clip020)\" d=\"M961.287 1481.64 L968.926 1481.64 L968.926 1455.28 L960.615 1456.95 L960.615 1452.69 L968.879 1451.02 L973.555 1451.02 L973.555 1481.64 L981.194 1481.64 L981.194 1485.58 L961.287 1485.58 L961.287 1481.64 Z\" fill=\"#000000\" fill-rule=\"nonzero\" fill-opacity=\"1\" /><path clip-path=\"url(#clip020)\" d=\"M1286.31 1454.1 Q1282.7 1454.1 1280.87 1457.66 Q1279.07 1461.2 1279.07 1468.33 Q1279.07 1475.44 1280.87 1479.01 Q1282.7 1482.55 1286.31 1482.55 Q1289.95 1482.55 1291.75 1479.01 Q1293.58 1475.44 1293.58 1468.33 Q1293.58 1461.2 1291.75 1457.66 Q1289.95 1454.1 1286.31 1454.1 M1286.31 1450.39 Q1292.12 1450.39 1295.18 1455 Q1298.26 1459.58 1298.26 1468.33 Q1298.26 1477.06 1295.18 1481.67 Q1292.12 1486.25 1286.31 1486.25 Q1280.5 1486.25 1277.42 1481.67 Q1274.37 1477.06 1274.37 1468.33 Q1274.37 1459.58 1277.42 1455 Q1280.5 1450.39 1286.31 1450.39 Z\" fill=\"#000000\" fill-rule=\"nonzero\" fill-opacity=\"1\" /><path clip-path=\"url(#clip020)\" d=\"M1612.05 1481.64 L1619.69 1481.64 L1619.69 1455.28 L1611.38 1456.95 L1611.38 1452.69 L1619.65 1451.02 L1624.32 1451.02 L1624.32 1481.64 L1631.96 1481.64 L1631.96 1485.58 L1612.05 1485.58 L1612.05 1481.64 Z\" fill=\"#000000\" fill-rule=\"nonzero\" fill-opacity=\"1\" /><path clip-path=\"url(#clip020)\" d=\"M1951.68 1481.64 L1968 1481.64 L1968 1485.58 L1946.06 1485.58 L1946.06 1481.64 Q1948.72 1478.89 1953.3 1474.26 Q1957.91 1469.61 1959.09 1468.27 Q1961.34 1465.74 1962.22 1464.01 Q1963.12 1462.25 1963.12 1460.56 Q1963.12 1457.8 1961.17 1456.07 Q1959.25 1454.33 1956.15 1454.33 Q1953.95 1454.33 1951.5 1455.09 Q1949.07 1455.86 1946.29 1457.41 L1946.29 1452.69 Q1949.11 1451.55 1951.57 1450.97 Q1954.02 1450.39 1956.06 1450.39 Q1961.43 1450.39 1964.62 1453.08 Q1967.82 1455.77 1967.82 1460.26 Q1967.82 1462.39 1967.01 1464.31 Q1966.22 1466.2 1964.11 1468.8 Q1963.54 1469.47 1960.43 1472.69 Q1957.33 1475.88 1951.68 1481.64 Z\" fill=\"#000000\" fill-rule=\"nonzero\" fill-opacity=\"1\" /><path clip-path=\"url(#clip020)\" d=\"M2296.64 1466.95 Q2300 1467.66 2301.87 1469.93 Q2303.77 1472.2 2303.77 1475.53 Q2303.77 1480.65 2300.25 1483.45 Q2296.73 1486.25 2290.25 1486.25 Q2288.07 1486.25 2285.76 1485.81 Q2283.47 1485.39 2281.01 1484.54 L2281.01 1480.02 Q2282.96 1481.16 2285.27 1481.74 Q2287.59 1482.32 2290.11 1482.32 Q2294.51 1482.32 2296.8 1480.58 Q2299.12 1478.84 2299.12 1475.53 Q2299.12 1472.48 2296.96 1470.77 Q2294.83 1469.03 2291.01 1469.03 L2286.99 1469.03 L2286.99 1465.19 L2291.2 1465.19 Q2294.65 1465.19 2296.48 1463.82 Q2298.31 1462.43 2298.31 1459.84 Q2298.31 1457.18 2296.41 1455.77 Q2294.53 1454.33 2291.01 1454.33 Q2289.09 1454.33 2286.89 1454.75 Q2284.69 1455.16 2282.06 1456.04 L2282.06 1451.88 Q2284.72 1451.14 2287.03 1450.77 Q2289.37 1450.39 2291.43 1450.39 Q2296.75 1450.39 2299.86 1452.83 Q2302.96 1455.23 2302.96 1459.35 Q2302.96 1462.22 2301.31 1464.21 Q2299.67 1466.18 2296.64 1466.95 Z\" fill=\"#000000\" fill-rule=\"nonzero\" fill-opacity=\"1\" /><path clip-path=\"url(#clip020)\" d=\"M1302.93 1532.4 L1290.04 1549.74 L1303.59 1568.04 L1296.69 1568.04 L1286.31 1554.04 L1275.93 1568.04 L1269.03 1568.04 L1282.87 1549.39 L1270.21 1532.4 L1277.11 1532.4 L1286.57 1545.1 L1296.02 1532.4 L1302.93 1532.4 Z\" fill=\"#000000\" fill-rule=\"nonzero\" fill-opacity=\"1\" /><polyline clip-path=\"url(#clip022)\" style=\"stroke:#000000; stroke-linecap:round; stroke-linejoin:round; stroke-width:2; stroke-opacity:0.1; fill:none\" points=\"219.866,1384.24 2352.76,1384.24 \"/>\n",
       "<polyline clip-path=\"url(#clip022)\" style=\"stroke:#000000; stroke-linecap:round; stroke-linejoin:round; stroke-width:2; stroke-opacity:0.1; fill:none\" points=\"219.866,1058.86 2352.76,1058.86 \"/>\n",
       "<polyline clip-path=\"url(#clip022)\" style=\"stroke:#000000; stroke-linecap:round; stroke-linejoin:round; stroke-width:2; stroke-opacity:0.1; fill:none\" points=\"219.866,733.491 2352.76,733.491 \"/>\n",
       "<polyline clip-path=\"url(#clip022)\" style=\"stroke:#000000; stroke-linecap:round; stroke-linejoin:round; stroke-width:2; stroke-opacity:0.1; fill:none\" points=\"219.866,408.118 2352.76,408.118 \"/>\n",
       "<polyline clip-path=\"url(#clip022)\" style=\"stroke:#000000; stroke-linecap:round; stroke-linejoin:round; stroke-width:2; stroke-opacity:0.1; fill:none\" points=\"219.866,82.7441 2352.76,82.7441 \"/>\n",
       "<polyline clip-path=\"url(#clip020)\" style=\"stroke:#000000; stroke-linecap:round; stroke-linejoin:round; stroke-width:4; stroke-opacity:1; fill:none\" points=\"219.866,1423.18 219.866,47.2441 \"/>\n",
       "<polyline clip-path=\"url(#clip020)\" style=\"stroke:#000000; stroke-linecap:round; stroke-linejoin:round; stroke-width:4; stroke-opacity:1; fill:none\" points=\"219.866,1384.24 238.764,1384.24 \"/>\n",
       "<polyline clip-path=\"url(#clip020)\" style=\"stroke:#000000; stroke-linecap:round; stroke-linejoin:round; stroke-width:4; stroke-opacity:1; fill:none\" points=\"219.866,1058.86 238.764,1058.86 \"/>\n",
       "<polyline clip-path=\"url(#clip020)\" style=\"stroke:#000000; stroke-linecap:round; stroke-linejoin:round; stroke-width:4; stroke-opacity:1; fill:none\" points=\"219.866,733.491 238.764,733.491 \"/>\n",
       "<polyline clip-path=\"url(#clip020)\" style=\"stroke:#000000; stroke-linecap:round; stroke-linejoin:round; stroke-width:4; stroke-opacity:1; fill:none\" points=\"219.866,408.118 238.764,408.118 \"/>\n",
       "<polyline clip-path=\"url(#clip020)\" style=\"stroke:#000000; stroke-linecap:round; stroke-linejoin:round; stroke-width:4; stroke-opacity:1; fill:none\" points=\"219.866,82.7441 238.764,82.7441 \"/>\n",
       "<path clip-path=\"url(#clip020)\" d=\"M126.691 1370.04 Q123.08 1370.04 121.251 1373.6 Q119.445 1377.14 119.445 1384.27 Q119.445 1391.38 121.251 1394.94 Q123.08 1398.49 126.691 1398.49 Q130.325 1398.49 132.13 1394.94 Q133.959 1391.38 133.959 1384.27 Q133.959 1377.14 132.13 1373.6 Q130.325 1370.04 126.691 1370.04 M126.691 1366.33 Q132.501 1366.33 135.556 1370.94 Q138.635 1375.52 138.635 1384.27 Q138.635 1393 135.556 1397.61 Q132.501 1402.19 126.691 1402.19 Q120.88 1402.19 117.802 1397.61 Q114.746 1393 114.746 1384.27 Q114.746 1375.52 117.802 1370.94 Q120.88 1366.33 126.691 1366.33 Z\" fill=\"#000000\" fill-rule=\"nonzero\" fill-opacity=\"1\" /><path clip-path=\"url(#clip020)\" d=\"M146.853 1395.64 L151.737 1395.64 L151.737 1401.52 L146.853 1401.52 L146.853 1395.64 Z\" fill=\"#000000\" fill-rule=\"nonzero\" fill-opacity=\"1\" /><path clip-path=\"url(#clip020)\" d=\"M171.922 1370.04 Q168.311 1370.04 166.482 1373.6 Q164.677 1377.14 164.677 1384.27 Q164.677 1391.38 166.482 1394.94 Q168.311 1398.49 171.922 1398.49 Q175.556 1398.49 177.362 1394.94 Q179.19 1391.38 179.19 1384.27 Q179.19 1377.14 177.362 1373.6 Q175.556 1370.04 171.922 1370.04 M171.922 1366.33 Q177.732 1366.33 180.788 1370.94 Q183.866 1375.52 183.866 1384.27 Q183.866 1393 180.788 1397.61 Q177.732 1402.19 171.922 1402.19 Q166.112 1402.19 163.033 1397.61 Q159.978 1393 159.978 1384.27 Q159.978 1375.52 163.033 1370.94 Q166.112 1366.33 171.922 1366.33 Z\" fill=\"#000000\" fill-rule=\"nonzero\" fill-opacity=\"1\" /><path clip-path=\"url(#clip020)\" d=\"M128.288 1044.66 Q124.677 1044.66 122.848 1048.23 Q121.043 1051.77 121.043 1058.9 Q121.043 1066.01 122.848 1069.57 Q124.677 1073.11 128.288 1073.11 Q131.922 1073.11 133.728 1069.57 Q135.556 1066.01 135.556 1058.9 Q135.556 1051.77 133.728 1048.23 Q131.922 1044.66 128.288 1044.66 M128.288 1040.96 Q134.098 1040.96 137.154 1045.57 Q140.232 1050.15 140.232 1058.9 Q140.232 1067.63 137.154 1072.23 Q134.098 1076.82 128.288 1076.82 Q122.478 1076.82 119.399 1072.23 Q116.343 1067.63 116.343 1058.9 Q116.343 1050.15 119.399 1045.57 Q122.478 1040.96 128.288 1040.96 Z\" fill=\"#000000\" fill-rule=\"nonzero\" fill-opacity=\"1\" /><path clip-path=\"url(#clip020)\" d=\"M148.45 1070.27 L153.334 1070.27 L153.334 1076.14 L148.45 1076.14 L148.45 1070.27 Z\" fill=\"#000000\" fill-rule=\"nonzero\" fill-opacity=\"1\" /><path clip-path=\"url(#clip020)\" d=\"M167.547 1072.21 L183.866 1072.21 L183.866 1076.14 L161.922 1076.14 L161.922 1072.21 Q164.584 1069.45 169.167 1064.83 Q173.774 1060.17 174.954 1058.83 Q177.2 1056.31 178.079 1054.57 Q178.982 1052.81 178.982 1051.12 Q178.982 1048.37 177.038 1046.63 Q175.116 1044.89 172.014 1044.89 Q169.815 1044.89 167.362 1045.66 Q164.931 1046.42 162.153 1047.97 L162.153 1043.25 Q164.977 1042.12 167.431 1041.54 Q169.885 1040.96 171.922 1040.96 Q177.292 1040.96 180.487 1043.64 Q183.681 1046.33 183.681 1050.82 Q183.681 1052.95 182.871 1054.87 Q182.084 1056.77 179.977 1059.36 Q179.399 1060.03 176.297 1063.25 Q173.195 1066.45 167.547 1072.21 Z\" fill=\"#000000\" fill-rule=\"nonzero\" fill-opacity=\"1\" /><path clip-path=\"url(#clip020)\" d=\"M126.205 719.29 Q122.593 719.29 120.765 722.855 Q118.959 726.396 118.959 733.526 Q118.959 740.632 120.765 744.197 Q122.593 747.739 126.205 747.739 Q129.839 747.739 131.644 744.197 Q133.473 740.632 133.473 733.526 Q133.473 726.396 131.644 722.855 Q129.839 719.29 126.205 719.29 M126.205 715.586 Q132.015 715.586 135.07 720.193 Q138.149 724.776 138.149 733.526 Q138.149 742.253 135.07 746.859 Q132.015 751.442 126.205 751.442 Q120.394 751.442 117.316 746.859 Q114.26 742.253 114.26 733.526 Q114.26 724.776 117.316 720.193 Q120.394 715.586 126.205 715.586 Z\" fill=\"#000000\" fill-rule=\"nonzero\" fill-opacity=\"1\" /><path clip-path=\"url(#clip020)\" d=\"M146.366 744.892 L151.251 744.892 L151.251 750.771 L146.366 750.771 L146.366 744.892 Z\" fill=\"#000000\" fill-rule=\"nonzero\" fill-opacity=\"1\" /><path clip-path=\"url(#clip020)\" d=\"M174.283 720.285 L162.477 738.734 L174.283 738.734 L174.283 720.285 M173.056 716.211 L178.936 716.211 L178.936 738.734 L183.866 738.734 L183.866 742.623 L178.936 742.623 L178.936 750.771 L174.283 750.771 L174.283 742.623 L158.681 742.623 L158.681 738.109 L173.056 716.211 Z\" fill=\"#000000\" fill-rule=\"nonzero\" fill-opacity=\"1\" /><path clip-path=\"url(#clip020)\" d=\"M126.529 393.916 Q122.918 393.916 121.089 397.481 Q119.283 401.023 119.283 408.152 Q119.283 415.259 121.089 418.824 Q122.918 422.365 126.529 422.365 Q130.163 422.365 131.968 418.824 Q133.797 415.259 133.797 408.152 Q133.797 401.023 131.968 397.481 Q130.163 393.916 126.529 393.916 M126.529 390.213 Q132.339 390.213 135.394 394.819 Q138.473 399.402 138.473 408.152 Q138.473 416.879 135.394 421.486 Q132.339 426.069 126.529 426.069 Q120.718 426.069 117.64 421.486 Q114.584 416.879 114.584 408.152 Q114.584 399.402 117.64 394.819 Q120.718 390.213 126.529 390.213 Z\" fill=\"#000000\" fill-rule=\"nonzero\" fill-opacity=\"1\" /><path clip-path=\"url(#clip020)\" d=\"M146.691 419.518 L151.575 419.518 L151.575 425.398 L146.691 425.398 L146.691 419.518 Z\" fill=\"#000000\" fill-rule=\"nonzero\" fill-opacity=\"1\" /><path clip-path=\"url(#clip020)\" d=\"M172.339 406.254 Q169.19 406.254 167.339 408.407 Q165.51 410.56 165.51 414.31 Q165.51 418.037 167.339 420.213 Q169.19 422.365 172.339 422.365 Q175.487 422.365 177.315 420.213 Q179.167 418.037 179.167 414.31 Q179.167 410.56 177.315 408.407 Q175.487 406.254 172.339 406.254 M181.621 391.602 L181.621 395.861 Q179.862 395.027 178.056 394.588 Q176.274 394.148 174.514 394.148 Q169.885 394.148 167.431 397.273 Q165.001 400.398 164.653 406.717 Q166.019 404.703 168.079 403.639 Q170.139 402.551 172.616 402.551 Q177.825 402.551 180.834 405.722 Q183.866 408.87 183.866 414.31 Q183.866 419.634 180.718 422.851 Q177.57 426.069 172.339 426.069 Q166.343 426.069 163.172 421.486 Q160.001 416.879 160.001 408.152 Q160.001 399.958 163.89 395.097 Q167.778 390.213 174.329 390.213 Q176.089 390.213 177.871 390.56 Q179.676 390.907 181.621 391.602 Z\" fill=\"#000000\" fill-rule=\"nonzero\" fill-opacity=\"1\" /><path clip-path=\"url(#clip020)\" d=\"M126.783 68.5428 Q123.172 68.5428 121.343 72.1076 Q119.538 75.6493 119.538 82.7789 Q119.538 89.8853 121.343 93.4501 Q123.172 96.9917 126.783 96.9917 Q130.417 96.9917 132.223 93.4501 Q134.052 89.8853 134.052 82.7789 Q134.052 75.6493 132.223 72.1076 Q130.417 68.5428 126.783 68.5428 M126.783 64.8391 Q132.593 64.8391 135.649 69.4456 Q138.728 74.0289 138.728 82.7789 Q138.728 91.5057 135.649 96.1121 Q132.593 100.695 126.783 100.695 Q120.973 100.695 117.894 96.1121 Q114.839 91.5057 114.839 82.7789 Q114.839 74.0289 117.894 69.4456 Q120.973 64.8391 126.783 64.8391 Z\" fill=\"#000000\" fill-rule=\"nonzero\" fill-opacity=\"1\" /><path clip-path=\"url(#clip020)\" d=\"M146.945 94.1445 L151.829 94.1445 L151.829 100.024 L146.945 100.024 L146.945 94.1445 Z\" fill=\"#000000\" fill-rule=\"nonzero\" fill-opacity=\"1\" /><path clip-path=\"url(#clip020)\" d=\"M172.014 83.6122 Q168.681 83.6122 166.76 85.3946 Q164.862 87.177 164.862 90.302 Q164.862 93.4269 166.76 95.2093 Q168.681 96.9917 172.014 96.9917 Q175.348 96.9917 177.269 95.2093 Q179.19 93.4038 179.19 90.302 Q179.19 87.177 177.269 85.3946 Q175.371 83.6122 172.014 83.6122 M167.339 81.6215 Q164.329 80.8807 162.64 78.8205 Q160.973 76.7604 160.973 73.7974 Q160.973 69.6539 163.913 67.2465 Q166.876 64.8391 172.014 64.8391 Q177.176 64.8391 180.116 67.2465 Q183.056 69.6539 183.056 73.7974 Q183.056 76.7604 181.366 78.8205 Q179.7 80.8807 176.714 81.6215 Q180.093 82.4085 181.968 84.7001 Q183.866 86.9918 183.866 90.302 Q183.866 95.3251 180.788 98.0103 Q177.732 100.695 172.014 100.695 Q166.297 100.695 163.218 98.0103 Q160.163 95.3251 160.163 90.302 Q160.163 86.9918 162.061 84.7001 Q163.959 82.4085 167.339 81.6215 M165.626 74.2372 Q165.626 76.9224 167.292 78.427 Q168.982 79.9316 172.014 79.9316 Q175.024 79.9316 176.714 78.427 Q178.426 76.9224 178.426 74.2372 Q178.426 71.5521 176.714 70.0474 Q175.024 68.5428 172.014 68.5428 Q168.982 68.5428 167.292 70.0474 Q165.626 71.5521 165.626 74.2372 Z\" fill=\"#000000\" fill-rule=\"nonzero\" fill-opacity=\"1\" /><path clip-path=\"url(#clip020)\" d=\"M58.657 788.97 L77.5631 788.97 L77.5631 794.859 L28.3562 794.859 L28.3562 788.97 L33.7671 788.97 Q30.5842 787.124 29.0564 784.323 Q27.4968 781.491 27.4968 777.576 Q27.4968 771.083 32.6531 767.041 Q37.8093 762.966 46.212 762.966 Q54.6147 762.966 59.771 767.041 Q64.9272 771.083 64.9272 777.576 Q64.9272 781.491 63.3994 784.323 Q61.8398 787.124 58.657 788.97 M46.212 769.046 Q39.7508 769.046 36.0905 771.719 Q32.3984 774.361 32.3984 779.008 Q32.3984 783.655 36.0905 786.329 Q39.7508 788.97 46.212 788.97 Q52.6732 788.97 56.3653 786.329 Q60.0256 783.655 60.0256 779.008 Q60.0256 774.361 56.3653 771.719 Q52.6732 769.046 46.212 769.046 Z\" fill=\"#000000\" fill-rule=\"nonzero\" fill-opacity=\"1\" /><path clip-path=\"url(#clip020)\" d=\"M14.5426 739.191 Q21.8632 743.456 29.0246 745.524 Q36.186 747.593 43.5384 747.593 Q50.8908 747.593 58.1159 745.524 Q65.3091 743.424 72.5979 739.191 L72.5979 744.283 Q65.1182 749.057 57.8931 751.445 Q50.668 753.8 43.5384 753.8 Q36.4406 753.8 29.2474 751.445 Q22.0542 749.089 14.5426 744.283 L14.5426 739.191 Z\" fill=\"#000000\" fill-rule=\"nonzero\" fill-opacity=\"1\" /><path clip-path=\"url(#clip020)\" d=\"M28.3562 698.195 L45.7028 711.086 L64.0042 697.527 L64.0042 704.434 L49.9996 714.81 L64.0042 725.186 L64.0042 732.093 L45.3526 718.247 L28.3562 730.915 L28.3562 724.008 L41.0558 714.555 L28.3562 705.102 L28.3562 698.195 Z\" fill=\"#000000\" fill-rule=\"nonzero\" fill-opacity=\"1\" /><path clip-path=\"url(#clip020)\" d=\"M14.5426 690.175 L14.5426 685.082 Q22.0542 680.308 29.2474 677.952 Q36.4406 675.565 43.5384 675.565 Q50.668 675.565 57.8931 677.952 Q65.1182 680.308 72.5979 685.082 L72.5979 690.175 Q65.3091 685.941 58.1159 683.873 Q50.8908 681.772 43.5384 681.772 Q36.186 681.772 29.0246 683.873 Q21.8632 685.941 14.5426 690.175 Z\" fill=\"#000000\" fill-rule=\"nonzero\" fill-opacity=\"1\" /><polyline clip-path=\"url(#clip022)\" style=\"stroke:#ff0000; stroke-linecap:round; stroke-linejoin:round; stroke-width:20; stroke-opacity:1; fill:none\" stroke-dasharray=\"80, 50\" points=\"280.231,1377.03 286.938,1376.58 293.645,1376.12 300.353,1375.62 307.06,1375.1 313.767,1374.55 320.474,1373.98 327.181,1373.37 333.889,1372.73 340.596,1372.06 347.303,1371.36 354.01,1370.62 360.717,1369.85 367.425,1369.03 374.132,1368.18 380.839,1367.28 387.546,1366.35 394.253,1365.37 400.961,1364.34 407.668,1363.26 414.375,1362.14 421.082,1360.97 427.789,1359.74 434.497,1358.46 441.204,1357.12 447.911,1355.72 454.618,1354.27 461.325,1352.75 468.033,1351.17 474.74,1349.52 481.447,1347.81 488.154,1346.02 494.861,1344.17 501.569,1342.24 508.276,1340.23 514.983,1338.15 521.69,1335.99 528.397,1333.75 535.105,1331.43 541.812,1329.02 548.519,1326.53 555.226,1323.94 561.933,1321.27 568.641,1318.5 575.348,1315.64 582.055,1312.68 588.762,1309.63 595.469,1306.47 602.177,1303.22 608.884,1299.86 615.591,1296.4 622.298,1292.84 629.005,1289.16 635.713,1285.38 642.42,1281.49 649.127,1277.49 655.834,1273.38 662.541,1269.15 669.249,1264.82 675.956,1260.36 682.663,1255.8 689.37,1251.12 696.077,1246.32 702.785,1241.41 709.492,1236.38 716.199,1231.23 722.906,1225.97 729.613,1220.6 736.321,1215.11 743.028,1209.5 749.735,1203.78 756.442,1197.95 763.149,1192.01 769.857,1185.96 776.564,1179.8 783.271,1173.53 789.978,1167.16 796.685,1160.68 803.393,1154.1 810.1,1147.42 816.807,1140.65 823.514,1133.78 830.221,1126.83 836.929,1119.78 843.636,1112.65 850.343,1105.44 857.05,1098.16 863.757,1090.8 870.465,1083.37 877.172,1075.88 883.879,1068.32 890.586,1060.71 897.293,1053.05 904.001,1045.35 910.708,1037.6 917.415,1029.82 924.122,1022.01 930.829,1014.18 937.537,1006.32 944.244,998.456 950.951,990.584 957.658,982.712 964.365,974.846 971.073,966.993 977.78,959.16 984.487,951.353 991.194,943.578 997.901,935.844 1004.61,928.156 1011.32,920.522 1018.02,912.948 1024.73,905.443 1031.44,898.012 1038.14,890.664 1044.85,883.405 1051.56,876.242 1058.27,869.184 1064.97,862.235 1071.68,855.405 1078.39,848.7 1085.1,842.126 1091.8,835.691 1098.51,829.402 1105.22,823.265 1111.92,817.287 1118.63,811.475 1125.34,805.834 1132.05,800.371 1138.75,795.093 1145.46,790.004 1152.17,785.111 1158.87,780.42 1165.58,775.935 1172.29,771.662 1179,767.606 1185.7,763.771 1192.41,760.162 1199.12,756.782 1205.82,753.637 1212.53,750.73 1219.24,748.064 1225.95,745.641 1232.65,743.467 1239.36,741.541 1246.07,739.868 1252.78,738.449 1259.48,737.286 1266.19,736.379 1272.9,735.731 1279.6,735.342 1286.31,735.212 1293.02,735.342 1299.73,735.731 1306.43,736.379 1313.14,737.286 1319.85,738.449 1326.55,739.868 1333.26,741.541 1339.97,743.467 1346.68,745.641 1353.38,748.064 1360.09,750.73 1366.8,753.637 1373.5,756.782 1380.21,760.162 1386.92,763.771 1393.63,767.606 1400.33,771.662 1407.04,775.935 1413.75,780.42 1420.46,785.111 1427.16,790.004 1433.87,795.093 1440.58,800.371 1447.28,805.834 1453.99,811.475 1460.7,817.287 1467.41,823.265 1474.11,829.402 1480.82,835.691 1487.53,842.126 1494.23,848.7 1500.94,855.405 1507.65,862.235 1514.36,869.184 1521.06,876.242 1527.77,883.405 1534.48,890.664 1541.18,898.012 1547.89,905.443 1554.6,912.948 1561.31,920.522 1568.01,928.156 1574.72,935.844 1581.43,943.578 1588.14,951.353 1594.84,959.16 1601.55,966.993 1608.26,974.846 1614.96,982.712 1621.67,990.584 1628.38,998.456 1635.09,1006.32 1641.79,1014.18 1648.5,1022.01 1655.21,1029.82 1661.91,1037.6 1668.62,1045.35 1675.33,1053.05 1682.04,1060.71 1688.74,1068.32 1695.45,1075.88 1702.16,1083.37 1708.86,1090.8 1715.57,1098.16 1722.28,1105.44 1728.99,1112.65 1735.69,1119.78 1742.4,1126.83 1749.11,1133.78 1755.82,1140.65 1762.52,1147.42 1769.23,1154.1 1775.94,1160.68 1782.64,1167.16 1789.35,1173.53 1796.06,1179.8 1802.77,1185.96 1809.47,1192.01 1816.18,1197.95 1822.89,1203.78 1829.59,1209.5 1836.3,1215.11 1843.01,1220.6 1849.72,1225.97 1856.42,1231.23 1863.13,1236.38 1869.84,1241.41 1876.54,1246.32 1883.25,1251.12 1889.96,1255.8 1896.67,1260.36 1903.37,1264.82 1910.08,1269.15 1916.79,1273.38 1923.5,1277.49 1930.2,1281.49 1936.91,1285.38 1943.62,1289.16 1950.32,1292.84 1957.03,1296.4 1963.74,1299.86 1970.45,1303.22 1977.15,1306.47 1983.86,1309.63 1990.57,1312.68 1997.27,1315.64 2003.98,1318.5 2010.69,1321.27 2017.4,1323.94 2024.1,1326.53 2030.81,1329.02 2037.52,1331.43 2044.22,1333.75 2050.93,1335.99 2057.64,1338.15 2064.35,1340.23 2071.05,1342.24 2077.76,1344.17 2084.47,1346.02 2091.18,1347.81 2097.88,1349.52 2104.59,1351.17 2111.3,1352.75 2118,1354.27 2124.71,1355.72 2131.42,1357.12 2138.13,1358.46 2144.83,1359.74 2151.54,1360.97 2158.25,1362.14 2164.95,1363.26 2171.66,1364.34 2178.37,1365.37 2185.08,1366.35 2191.78,1367.28 2198.49,1368.18 2205.2,1369.03 2211.9,1369.85 2218.61,1370.62 2225.32,1371.36 2232.03,1372.06 2238.73,1372.73 2245.44,1373.37 2252.15,1373.98 2258.86,1374.55 2265.56,1375.1 2272.27,1375.62 2278.98,1376.12 2285.68,1376.58 2292.39,1377.03 \"/>\n",
       "<polyline clip-path=\"url(#clip022)\" style=\"stroke:#0000ff; stroke-linecap:round; stroke-linejoin:round; stroke-width:4; stroke-opacity:1; fill:none\" points=\"280.231,1384.24 286.938,1384.24 293.645,1384.24 300.353,1384.24 307.06,1384.24 313.767,1384.24 320.474,1384.24 327.181,1384.24 333.889,1384.24 340.596,1384.24 347.303,1384.24 354.01,1384.24 360.717,1384.24 367.425,1384.24 374.132,1384.24 380.839,1384.24 387.546,1384.24 394.253,1384.24 400.961,1384.24 407.668,1384.24 414.375,1384.24 421.082,1384.24 427.789,1384.24 434.497,1384.24 441.204,1384.24 447.911,1384.24 454.618,1384.24 461.325,1384.24 468.033,1384.24 474.74,1384.24 481.447,1384.24 488.154,1384.24 494.861,1384.24 501.569,1384.24 508.276,1384.24 514.983,1384.24 521.69,1384.24 528.397,1384.24 535.105,1384.24 541.812,1384.24 548.519,1384.24 555.226,1384.24 561.933,1384.24 568.641,1384.24 575.348,1384.24 582.055,1384.24 588.762,1384.24 595.469,1384.24 602.177,1384.24 608.884,1384.24 615.591,1384.24 622.298,1384.24 629.005,1384.24 635.713,1384.24 642.42,1384.24 649.127,1384.24 655.834,1384.24 662.541,1384.24 669.249,1384.24 675.956,1384.24 682.663,1384.24 689.37,1384.24 696.077,1384.24 702.785,1384.24 709.492,1384.24 716.199,1384.24 722.906,1384.24 729.613,1384.24 736.321,1384.24 743.028,1384.24 749.735,1384.24 756.442,1384.24 763.149,1384.24 769.857,1384.24 776.564,1384.23 783.271,1384.23 789.978,1384.23 796.685,1384.23 803.393,1384.23 810.1,1384.23 816.807,1384.23 823.514,1384.22 830.221,1384.22 836.929,1384.22 843.636,1384.21 850.343,1384.21 857.05,1384.2 863.757,1384.19 870.465,1384.18 877.172,1384.17 883.879,1384.16 890.586,1384.14 897.293,1384.12 904.001,1384.1 910.708,1384.08 917.415,1384.05 924.122,1384.01 930.829,1383.97 937.537,1383.92 944.244,1383.87 950.951,1383.8 957.658,1383.73 964.365,1383.64 971.073,1383.54 977.78,1383.42 984.487,1383.29 991.194,1383.13 997.901,1382.95 1004.61,1382.75 1011.32,1382.52 1018.02,1382.25 1024.73,1381.94 1031.44,1381.59 1038.14,1381.19 1044.85,1380.74 1051.56,1380.23 1058.27,1379.65 1064.97,1378.99 1071.68,1378.25 1078.39,1377.42 1085.1,1376.48 1091.8,1375.43 1098.51,1374.25 1105.22,1372.93 1111.92,1371.46 1118.63,1369.82 1125.34,1367.99 1132.05,1365.97 1138.75,1363.72 1145.46,1361.23 1152.17,1358.48 1158.87,1355.45 1165.58,1352.12 1172.29,1348.46 1179,1344.44 1185.7,1340.04 1192.41,1335.24 1199.12,1330 1205.82,1324.29 1212.53,1318.1 1219.24,1311.37 1225.95,1304.09 1232.65,1296.23 1239.36,1287.75 1246.07,1278.62 1252.78,1268.81 1259.48,1258.3 1266.19,1247.04 1272.9,1235.02 1279.6,1222.2 1286.31,1208.57 1293.02,1194.09 1299.73,1178.74 1306.43,1162.52 1313.14,1145.39 1319.85,1127.36 1326.55,1108.4 1333.26,1088.52 1339.97,1067.71 1346.68,1045.98 1353.38,1023.33 1360.09,999.786 1366.8,975.359 1373.5,950.075 1380.21,923.965 1386.92,897.065 1393.63,869.417 1400.33,841.069 1407.04,812.077 1413.75,782.501 1420.46,752.408 1427.16,721.871 1433.87,690.968 1440.58,659.783 1447.28,628.405 1453.99,596.93 1460.7,565.454 1467.41,534.082 1474.11,502.919 1480.82,472.074 1487.53,441.659 1494.23,411.787 1500.94,382.572 1507.65,354.129 1514.36,326.572 1521.06,300.014 1527.77,274.566 1534.48,250.336 1541.18,227.43 1547.89,205.947 1554.6,185.985 1561.31,167.632 1568.01,150.973 1574.72,136.085 1581.43,123.036 1588.14,111.889 1594.84,102.695 1601.55,95.4981 1608.26,90.3328 1614.96,87.2237 1621.67,86.1857 1628.38,87.2237 1635.09,90.3328 1641.79,95.4981 1648.5,102.695 1655.21,111.889 1661.91,123.036 1668.62,136.085 1675.33,150.973 1682.04,167.632 1688.74,185.985 1695.45,205.947 1702.16,227.43 1708.86,250.336 1715.57,274.566 1722.28,300.014 1728.99,326.572 1735.69,354.129 1742.4,382.572 1749.11,411.787 1755.82,441.659 1762.52,472.074 1769.23,502.919 1775.94,534.082 1782.64,565.454 1789.35,596.93 1796.06,628.405 1802.77,659.783 1809.47,690.968 1816.18,721.871 1822.89,752.408 1829.59,782.501 1836.3,812.077 1843.01,841.069 1849.72,869.417 1856.42,897.065 1863.13,923.965 1869.84,950.075 1876.54,975.359 1883.25,999.786 1889.96,1023.33 1896.67,1045.98 1903.37,1067.71 1910.08,1088.52 1916.79,1108.4 1923.5,1127.36 1930.2,1145.39 1936.91,1162.52 1943.62,1178.74 1950.32,1194.09 1957.03,1208.57 1963.74,1222.2 1970.45,1235.02 1977.15,1247.04 1983.86,1258.3 1990.57,1268.81 1997.27,1278.62 2003.98,1287.75 2010.69,1296.23 2017.4,1304.09 2024.1,1311.37 2030.81,1318.1 2037.52,1324.29 2044.22,1330 2050.93,1335.24 2057.64,1340.04 2064.35,1344.44 2071.05,1348.46 2077.76,1352.12 2084.47,1355.45 2091.18,1358.48 2097.88,1361.23 2104.59,1363.72 2111.3,1365.97 2118,1367.99 2124.71,1369.82 2131.42,1371.46 2138.13,1372.93 2144.83,1374.25 2151.54,1375.43 2158.25,1376.48 2164.95,1377.42 2171.66,1378.25 2178.37,1378.99 2185.08,1379.65 2191.78,1380.23 2198.49,1380.74 2205.2,1381.19 2211.9,1381.59 2218.61,1381.94 2225.32,1382.25 2232.03,1382.52 2238.73,1382.75 2245.44,1382.95 2252.15,1383.13 2258.86,1383.29 2265.56,1383.42 2272.27,1383.54 2278.98,1383.64 2285.68,1383.73 2292.39,1383.8 \"/>\n",
       "<path clip-path=\"url(#clip020)\" d=\"M1884.02 248.629 L2281.66 248.629 L2281.66 93.1086 L1884.02 93.1086  Z\" fill=\"#ffffff\" fill-rule=\"evenodd\" fill-opacity=\"1\"/>\n",
       "<polyline clip-path=\"url(#clip020)\" style=\"stroke:#000000; stroke-linecap:round; stroke-linejoin:round; stroke-width:4; stroke-opacity:1; fill:none\" points=\"1884.02,248.629 2281.66,248.629 2281.66,93.1086 1884.02,93.1086 1884.02,248.629 \"/>\n",
       "<polyline clip-path=\"url(#clip020)\" style=\"stroke:#ff0000; stroke-linecap:round; stroke-linejoin:round; stroke-width:20; stroke-opacity:1; fill:none\" stroke-dasharray=\"80, 50\" points=\"1907.72,144.949 2049.91,144.949 \"/>\n",
       "<path clip-path=\"url(#clip020)\" d=\"M2073.61 127.669 L2079.91 127.669 L2095.23 156.581 L2095.23 127.669 L2099.77 127.669 L2099.77 162.229 L2093.47 162.229 L2078.15 133.317 L2078.15 162.229 L2073.61 162.229 L2073.61 127.669 Z\" fill=\"#000000\" fill-rule=\"nonzero\" fill-opacity=\"1\" /><path clip-path=\"url(#clip020)\" d=\"M2119.12 126.257 Q2116.02 131.581 2114.51 136.789 Q2113.01 141.997 2113.01 147.344 Q2113.01 152.692 2114.51 157.946 Q2116.04 163.178 2119.12 168.479 L2115.42 168.479 Q2111.94 163.039 2110.21 157.784 Q2108.49 152.53 2108.49 147.344 Q2108.49 142.182 2110.21 136.951 Q2111.92 131.72 2115.42 126.257 L2119.12 126.257 Z\" fill=\"#000000\" fill-rule=\"nonzero\" fill-opacity=\"1\" /><path clip-path=\"url(#clip020)\" d=\"M2137.98 130.747 Q2134.37 130.747 2132.54 134.312 Q2130.74 137.854 2130.74 144.983 Q2130.74 152.09 2132.54 155.655 Q2134.37 159.196 2137.98 159.196 Q2141.62 159.196 2143.42 155.655 Q2145.25 152.09 2145.25 144.983 Q2145.25 137.854 2143.42 134.312 Q2141.62 130.747 2137.98 130.747 M2137.98 127.044 Q2143.79 127.044 2146.85 131.65 Q2149.93 136.233 2149.93 144.983 Q2149.93 153.71 2146.85 158.317 Q2143.79 162.9 2137.98 162.9 Q2132.17 162.9 2129.1 158.317 Q2126.04 153.71 2126.04 144.983 Q2126.04 136.233 2129.1 131.65 Q2132.17 127.044 2137.98 127.044 Z\" fill=\"#000000\" fill-rule=\"nonzero\" fill-opacity=\"1\" /><path clip-path=\"url(#clip020)\" d=\"M2158.63 156.349 L2163.52 156.349 L2163.52 160.33 L2159.72 167.738 L2156.73 167.738 L2158.63 160.33 L2158.63 156.349 Z\" fill=\"#000000\" fill-rule=\"nonzero\" fill-opacity=\"1\" /><path clip-path=\"url(#clip020)\" d=\"M2174.03 158.293 L2181.66 158.293 L2181.66 131.928 L2173.35 133.595 L2173.35 129.335 L2181.62 127.669 L2186.29 127.669 L2186.29 158.293 L2193.93 158.293 L2193.93 162.229 L2174.03 162.229 L2174.03 158.293 Z\" fill=\"#000000\" fill-rule=\"nonzero\" fill-opacity=\"1\" /><path clip-path=\"url(#clip020)\" d=\"M2202.1 126.257 L2205.81 126.257 Q2209.28 131.72 2210.99 136.951 Q2212.73 142.182 2212.73 147.344 Q2212.73 152.53 2210.99 157.784 Q2209.28 163.039 2205.81 168.479 L2202.1 168.479 Q2205.18 163.178 2206.69 157.946 Q2208.22 152.692 2208.22 147.344 Q2208.22 141.997 2206.69 136.789 Q2205.18 131.581 2202.1 126.257 Z\" fill=\"#000000\" fill-rule=\"nonzero\" fill-opacity=\"1\" /><polyline clip-path=\"url(#clip020)\" style=\"stroke:#0000ff; stroke-linecap:round; stroke-linejoin:round; stroke-width:4; stroke-opacity:1; fill:none\" points=\"1907.72,196.789 2049.91,196.789 \"/>\n",
       "<path clip-path=\"url(#clip020)\" d=\"M2073.61 179.509 L2079.91 179.509 L2095.23 208.421 L2095.23 179.509 L2099.77 179.509 L2099.77 214.069 L2093.47 214.069 L2078.15 185.157 L2078.15 214.069 L2073.61 214.069 L2073.61 179.509 Z\" fill=\"#000000\" fill-rule=\"nonzero\" fill-opacity=\"1\" /><path clip-path=\"url(#clip020)\" d=\"M2119.12 178.097 Q2116.02 183.421 2114.51 188.629 Q2113.01 193.837 2113.01 199.184 Q2113.01 204.532 2114.51 209.786 Q2116.04 215.018 2119.12 220.319 L2115.42 220.319 Q2111.94 214.879 2110.21 209.624 Q2108.49 204.37 2108.49 199.184 Q2108.49 194.022 2110.21 188.791 Q2111.92 183.56 2115.42 178.097 L2119.12 178.097 Z\" fill=\"#000000\" fill-rule=\"nonzero\" fill-opacity=\"1\" /><path clip-path=\"url(#clip020)\" d=\"M2128.79 210.133 L2136.43 210.133 L2136.43 183.768 L2128.12 185.435 L2128.12 181.175 L2136.39 179.509 L2141.06 179.509 L2141.06 210.133 L2148.7 210.133 L2148.7 214.069 L2128.79 214.069 L2128.79 210.133 Z\" fill=\"#000000\" fill-rule=\"nonzero\" fill-opacity=\"1\" /><path clip-path=\"url(#clip020)\" d=\"M2158.63 208.189 L2163.52 208.189 L2163.52 212.17 L2159.72 219.578 L2156.73 219.578 L2158.63 212.17 L2158.63 208.189 Z\" fill=\"#000000\" fill-rule=\"nonzero\" fill-opacity=\"1\" /><path clip-path=\"url(#clip020)\" d=\"M2183.22 182.587 Q2179.6 182.587 2177.78 186.152 Q2175.97 189.694 2175.97 196.823 Q2175.97 203.93 2177.78 207.495 Q2179.6 211.036 2183.22 211.036 Q2186.85 211.036 2188.66 207.495 Q2190.48 203.93 2190.48 196.823 Q2190.48 189.694 2188.66 186.152 Q2186.85 182.587 2183.22 182.587 M2183.22 178.884 Q2189.03 178.884 2192.08 183.49 Q2195.16 188.073 2195.16 196.823 Q2195.16 205.55 2192.08 210.157 Q2189.03 214.74 2183.22 214.74 Q2177.41 214.74 2174.33 210.157 Q2171.27 205.55 2171.27 196.823 Q2171.27 188.073 2174.33 183.49 Q2177.41 178.884 2183.22 178.884 Z\" fill=\"#000000\" fill-rule=\"nonzero\" fill-opacity=\"1\" /><path clip-path=\"url(#clip020)\" d=\"M2203.38 208.189 L2208.26 208.189 L2208.26 214.069 L2203.38 214.069 L2203.38 208.189 Z\" fill=\"#000000\" fill-rule=\"nonzero\" fill-opacity=\"1\" /><path clip-path=\"url(#clip020)\" d=\"M2218.49 179.509 L2236.85 179.509 L2236.85 183.444 L2222.78 183.444 L2222.78 191.916 Q2223.79 191.569 2224.81 191.407 Q2225.83 191.222 2226.85 191.222 Q2232.64 191.222 2236.02 194.393 Q2239.4 197.564 2239.4 202.981 Q2239.4 208.559 2235.92 211.661 Q2232.45 214.74 2226.13 214.74 Q2223.96 214.74 2221.69 214.37 Q2219.44 213.999 2217.04 213.258 L2217.04 208.559 Q2219.12 209.694 2221.34 210.249 Q2223.56 210.805 2226.04 210.805 Q2230.04 210.805 2232.38 208.698 Q2234.72 206.592 2234.72 202.981 Q2234.72 199.37 2232.38 197.263 Q2230.04 195.157 2226.04 195.157 Q2224.16 195.157 2222.29 195.573 Q2220.44 195.99 2218.49 196.87 L2218.49 179.509 Z\" fill=\"#000000\" fill-rule=\"nonzero\" fill-opacity=\"1\" /><path clip-path=\"url(#clip020)\" d=\"M2247.34 178.097 L2251.04 178.097 Q2254.51 183.56 2256.22 188.791 Q2257.96 194.022 2257.96 199.184 Q2257.96 204.37 2256.22 209.624 Q2254.51 214.879 2251.04 220.319 L2247.34 220.319 Q2250.41 215.018 2251.92 209.786 Q2253.45 204.532 2253.45 199.184 Q2253.45 193.837 2251.92 188.629 Q2250.41 183.421 2247.34 178.097 Z\" fill=\"#000000\" fill-rule=\"nonzero\" fill-opacity=\"1\" /></svg>\n"
      ],
      "text/html": [
       "<?xml version=\"1.0\" encoding=\"utf-8\"?>\n",
       "<svg xmlns=\"http://www.w3.org/2000/svg\" xmlns:xlink=\"http://www.w3.org/1999/xlink\" width=\"600\" height=\"400\" viewBox=\"0 0 2400 1600\">\n",
       "<defs>\n",
       "  <clipPath id=\"clip070\">\n",
       "    <rect x=\"0\" y=\"0\" width=\"2400\" height=\"1600\"/>\n",
       "  </clipPath>\n",
       "</defs>\n",
       "<path clip-path=\"url(#clip070)\" d=\"M0 1600 L2400 1600 L2400 0 L0 0  Z\" fill=\"#ffffff\" fill-rule=\"evenodd\" fill-opacity=\"1\"/>\n",
       "<defs>\n",
       "  <clipPath id=\"clip071\">\n",
       "    <rect x=\"480\" y=\"0\" width=\"1681\" height=\"1600\"/>\n",
       "  </clipPath>\n",
       "</defs>\n",
       "<path clip-path=\"url(#clip070)\" d=\"M219.866 1423.18 L2352.76 1423.18 L2352.76 47.2441 L219.866 47.2441  Z\" fill=\"#ffffff\" fill-rule=\"evenodd\" fill-opacity=\"1\"/>\n",
       "<defs>\n",
       "  <clipPath id=\"clip072\">\n",
       "    <rect x=\"219\" y=\"47\" width=\"2134\" height=\"1377\"/>\n",
       "  </clipPath>\n",
       "</defs>\n",
       "<polyline clip-path=\"url(#clip072)\" style=\"stroke:#000000; stroke-linecap:round; stroke-linejoin:round; stroke-width:2; stroke-opacity:0.1; fill:none\" points=\"280.231,1423.18 280.231,47.2441 \"/>\n",
       "<polyline clip-path=\"url(#clip072)\" style=\"stroke:#000000; stroke-linecap:round; stroke-linejoin:round; stroke-width:2; stroke-opacity:0.1; fill:none\" points=\"615.591,1423.18 615.591,47.2441 \"/>\n",
       "<polyline clip-path=\"url(#clip072)\" style=\"stroke:#000000; stroke-linecap:round; stroke-linejoin:round; stroke-width:2; stroke-opacity:0.1; fill:none\" points=\"950.951,1423.18 950.951,47.2441 \"/>\n",
       "<polyline clip-path=\"url(#clip072)\" style=\"stroke:#000000; stroke-linecap:round; stroke-linejoin:round; stroke-width:2; stroke-opacity:0.1; fill:none\" points=\"1286.31,1423.18 1286.31,47.2441 \"/>\n",
       "<polyline clip-path=\"url(#clip072)\" style=\"stroke:#000000; stroke-linecap:round; stroke-linejoin:round; stroke-width:2; stroke-opacity:0.1; fill:none\" points=\"1621.67,1423.18 1621.67,47.2441 \"/>\n",
       "<polyline clip-path=\"url(#clip072)\" style=\"stroke:#000000; stroke-linecap:round; stroke-linejoin:round; stroke-width:2; stroke-opacity:0.1; fill:none\" points=\"1957.03,1423.18 1957.03,47.2441 \"/>\n",
       "<polyline clip-path=\"url(#clip072)\" style=\"stroke:#000000; stroke-linecap:round; stroke-linejoin:round; stroke-width:2; stroke-opacity:0.1; fill:none\" points=\"2292.39,1423.18 2292.39,47.2441 \"/>\n",
       "<polyline clip-path=\"url(#clip070)\" style=\"stroke:#000000; stroke-linecap:round; stroke-linejoin:round; stroke-width:4; stroke-opacity:1; fill:none\" points=\"219.866,1423.18 2352.76,1423.18 \"/>\n",
       "<polyline clip-path=\"url(#clip070)\" style=\"stroke:#000000; stroke-linecap:round; stroke-linejoin:round; stroke-width:4; stroke-opacity:1; fill:none\" points=\"280.231,1423.18 280.231,1404.28 \"/>\n",
       "<polyline clip-path=\"url(#clip070)\" style=\"stroke:#000000; stroke-linecap:round; stroke-linejoin:round; stroke-width:4; stroke-opacity:1; fill:none\" points=\"615.591,1423.18 615.591,1404.28 \"/>\n",
       "<polyline clip-path=\"url(#clip070)\" style=\"stroke:#000000; stroke-linecap:round; stroke-linejoin:round; stroke-width:4; stroke-opacity:1; fill:none\" points=\"950.951,1423.18 950.951,1404.28 \"/>\n",
       "<polyline clip-path=\"url(#clip070)\" style=\"stroke:#000000; stroke-linecap:round; stroke-linejoin:round; stroke-width:4; stroke-opacity:1; fill:none\" points=\"1286.31,1423.18 1286.31,1404.28 \"/>\n",
       "<polyline clip-path=\"url(#clip070)\" style=\"stroke:#000000; stroke-linecap:round; stroke-linejoin:round; stroke-width:4; stroke-opacity:1; fill:none\" points=\"1621.67,1423.18 1621.67,1404.28 \"/>\n",
       "<polyline clip-path=\"url(#clip070)\" style=\"stroke:#000000; stroke-linecap:round; stroke-linejoin:round; stroke-width:4; stroke-opacity:1; fill:none\" points=\"1957.03,1423.18 1957.03,1404.28 \"/>\n",
       "<polyline clip-path=\"url(#clip070)\" style=\"stroke:#000000; stroke-linecap:round; stroke-linejoin:round; stroke-width:4; stroke-opacity:1; fill:none\" points=\"2292.39,1423.18 2292.39,1404.28 \"/>\n",
       "<path clip-path=\"url(#clip070)\" d=\"M249.699 1468.75 L279.375 1468.75 L279.375 1472.69 L249.699 1472.69 L249.699 1468.75 Z\" fill=\"#000000\" fill-rule=\"nonzero\" fill-opacity=\"1\" /><path clip-path=\"url(#clip070)\" d=\"M303.634 1466.95 Q306.99 1467.66 308.865 1469.93 Q310.763 1472.2 310.763 1475.53 Q310.763 1480.65 307.245 1483.45 Q303.726 1486.25 297.245 1486.25 Q295.069 1486.25 292.754 1485.81 Q290.462 1485.39 288.009 1484.54 L288.009 1480.02 Q289.953 1481.16 292.268 1481.74 Q294.583 1482.32 297.106 1482.32 Q301.504 1482.32 303.796 1480.58 Q306.111 1478.84 306.111 1475.53 Q306.111 1472.48 303.958 1470.77 Q301.828 1469.03 298.009 1469.03 L293.981 1469.03 L293.981 1465.19 L298.194 1465.19 Q301.643 1465.19 303.472 1463.82 Q305.3 1462.43 305.3 1459.84 Q305.3 1457.18 303.402 1455.77 Q301.527 1454.33 298.009 1454.33 Q296.087 1454.33 293.888 1454.75 Q291.689 1455.16 289.05 1456.04 L289.05 1451.88 Q291.712 1451.14 294.027 1450.77 Q296.365 1450.39 298.425 1450.39 Q303.749 1450.39 306.851 1452.83 Q309.953 1455.23 309.953 1459.35 Q309.953 1462.22 308.31 1464.21 Q306.666 1466.18 303.634 1466.95 Z\" fill=\"#000000\" fill-rule=\"nonzero\" fill-opacity=\"1\" /><path clip-path=\"url(#clip070)\" d=\"M585.533 1468.75 L615.209 1468.75 L615.209 1472.69 L585.533 1472.69 L585.533 1468.75 Z\" fill=\"#000000\" fill-rule=\"nonzero\" fill-opacity=\"1\" /><path clip-path=\"url(#clip070)\" d=\"M629.329 1481.64 L645.649 1481.64 L645.649 1485.58 L623.704 1485.58 L623.704 1481.64 Q626.366 1478.89 630.95 1474.26 Q635.556 1469.61 636.737 1468.27 Q638.982 1465.74 639.862 1464.01 Q640.765 1462.25 640.765 1460.56 Q640.765 1457.8 638.82 1456.07 Q636.899 1454.33 633.797 1454.33 Q631.598 1454.33 629.144 1455.09 Q626.714 1455.86 623.936 1457.41 L623.936 1452.69 Q626.76 1451.55 629.214 1450.97 Q631.667 1450.39 633.704 1450.39 Q639.075 1450.39 642.269 1453.08 Q645.464 1455.77 645.464 1460.26 Q645.464 1462.39 644.653 1464.31 Q643.866 1466.2 641.76 1468.8 Q641.181 1469.47 638.079 1472.69 Q634.978 1475.88 629.329 1481.64 Z\" fill=\"#000000\" fill-rule=\"nonzero\" fill-opacity=\"1\" /><path clip-path=\"url(#clip070)\" d=\"M920.708 1468.75 L950.384 1468.75 L950.384 1472.69 L920.708 1472.69 L920.708 1468.75 Z\" fill=\"#000000\" fill-rule=\"nonzero\" fill-opacity=\"1\" /><path clip-path=\"url(#clip070)\" d=\"M961.287 1481.64 L968.926 1481.64 L968.926 1455.28 L960.615 1456.95 L960.615 1452.69 L968.879 1451.02 L973.555 1451.02 L973.555 1481.64 L981.194 1481.64 L981.194 1485.58 L961.287 1485.58 L961.287 1481.64 Z\" fill=\"#000000\" fill-rule=\"nonzero\" fill-opacity=\"1\" /><path clip-path=\"url(#clip070)\" d=\"M1286.31 1454.1 Q1282.7 1454.1 1280.87 1457.66 Q1279.07 1461.2 1279.07 1468.33 Q1279.07 1475.44 1280.87 1479.01 Q1282.7 1482.55 1286.31 1482.55 Q1289.95 1482.55 1291.75 1479.01 Q1293.58 1475.44 1293.58 1468.33 Q1293.58 1461.2 1291.75 1457.66 Q1289.95 1454.1 1286.31 1454.1 M1286.31 1450.39 Q1292.12 1450.39 1295.18 1455 Q1298.26 1459.58 1298.26 1468.33 Q1298.26 1477.06 1295.18 1481.67 Q1292.12 1486.25 1286.31 1486.25 Q1280.5 1486.25 1277.42 1481.67 Q1274.37 1477.06 1274.37 1468.33 Q1274.37 1459.58 1277.42 1455 Q1280.5 1450.39 1286.31 1450.39 Z\" fill=\"#000000\" fill-rule=\"nonzero\" fill-opacity=\"1\" /><path clip-path=\"url(#clip070)\" d=\"M1612.05 1481.64 L1619.69 1481.64 L1619.69 1455.28 L1611.38 1456.95 L1611.38 1452.69 L1619.65 1451.02 L1624.32 1451.02 L1624.32 1481.64 L1631.96 1481.64 L1631.96 1485.58 L1612.05 1485.58 L1612.05 1481.64 Z\" fill=\"#000000\" fill-rule=\"nonzero\" fill-opacity=\"1\" /><path clip-path=\"url(#clip070)\" d=\"M1951.68 1481.64 L1968 1481.64 L1968 1485.58 L1946.06 1485.58 L1946.06 1481.64 Q1948.72 1478.89 1953.3 1474.26 Q1957.91 1469.61 1959.09 1468.27 Q1961.34 1465.74 1962.22 1464.01 Q1963.12 1462.25 1963.12 1460.56 Q1963.12 1457.8 1961.17 1456.07 Q1959.25 1454.33 1956.15 1454.33 Q1953.95 1454.33 1951.5 1455.09 Q1949.07 1455.86 1946.29 1457.41 L1946.29 1452.69 Q1949.11 1451.55 1951.57 1450.97 Q1954.02 1450.39 1956.06 1450.39 Q1961.43 1450.39 1964.62 1453.08 Q1967.82 1455.77 1967.82 1460.26 Q1967.82 1462.39 1967.01 1464.31 Q1966.22 1466.2 1964.11 1468.8 Q1963.54 1469.47 1960.43 1472.69 Q1957.33 1475.88 1951.68 1481.64 Z\" fill=\"#000000\" fill-rule=\"nonzero\" fill-opacity=\"1\" /><path clip-path=\"url(#clip070)\" d=\"M2296.64 1466.95 Q2300 1467.66 2301.87 1469.93 Q2303.77 1472.2 2303.77 1475.53 Q2303.77 1480.65 2300.25 1483.45 Q2296.73 1486.25 2290.25 1486.25 Q2288.07 1486.25 2285.76 1485.81 Q2283.47 1485.39 2281.01 1484.54 L2281.01 1480.02 Q2282.96 1481.16 2285.27 1481.74 Q2287.59 1482.32 2290.11 1482.32 Q2294.51 1482.32 2296.8 1480.58 Q2299.12 1478.84 2299.12 1475.53 Q2299.12 1472.48 2296.96 1470.77 Q2294.83 1469.03 2291.01 1469.03 L2286.99 1469.03 L2286.99 1465.19 L2291.2 1465.19 Q2294.65 1465.19 2296.48 1463.82 Q2298.31 1462.43 2298.31 1459.84 Q2298.31 1457.18 2296.41 1455.77 Q2294.53 1454.33 2291.01 1454.33 Q2289.09 1454.33 2286.89 1454.75 Q2284.69 1455.16 2282.06 1456.04 L2282.06 1451.88 Q2284.72 1451.14 2287.03 1450.77 Q2289.37 1450.39 2291.43 1450.39 Q2296.75 1450.39 2299.86 1452.83 Q2302.96 1455.23 2302.96 1459.35 Q2302.96 1462.22 2301.31 1464.21 Q2299.67 1466.18 2296.64 1466.95 Z\" fill=\"#000000\" fill-rule=\"nonzero\" fill-opacity=\"1\" /><path clip-path=\"url(#clip070)\" d=\"M1302.93 1532.4 L1290.04 1549.74 L1303.59 1568.04 L1296.69 1568.04 L1286.31 1554.04 L1275.93 1568.04 L1269.03 1568.04 L1282.87 1549.39 L1270.21 1532.4 L1277.11 1532.4 L1286.57 1545.1 L1296.02 1532.4 L1302.93 1532.4 Z\" fill=\"#000000\" fill-rule=\"nonzero\" fill-opacity=\"1\" /><polyline clip-path=\"url(#clip072)\" style=\"stroke:#000000; stroke-linecap:round; stroke-linejoin:round; stroke-width:2; stroke-opacity:0.1; fill:none\" points=\"219.866,1384.24 2352.76,1384.24 \"/>\n",
       "<polyline clip-path=\"url(#clip072)\" style=\"stroke:#000000; stroke-linecap:round; stroke-linejoin:round; stroke-width:2; stroke-opacity:0.1; fill:none\" points=\"219.866,1058.86 2352.76,1058.86 \"/>\n",
       "<polyline clip-path=\"url(#clip072)\" style=\"stroke:#000000; stroke-linecap:round; stroke-linejoin:round; stroke-width:2; stroke-opacity:0.1; fill:none\" points=\"219.866,733.491 2352.76,733.491 \"/>\n",
       "<polyline clip-path=\"url(#clip072)\" style=\"stroke:#000000; stroke-linecap:round; stroke-linejoin:round; stroke-width:2; stroke-opacity:0.1; fill:none\" points=\"219.866,408.118 2352.76,408.118 \"/>\n",
       "<polyline clip-path=\"url(#clip072)\" style=\"stroke:#000000; stroke-linecap:round; stroke-linejoin:round; stroke-width:2; stroke-opacity:0.1; fill:none\" points=\"219.866,82.7441 2352.76,82.7441 \"/>\n",
       "<polyline clip-path=\"url(#clip070)\" style=\"stroke:#000000; stroke-linecap:round; stroke-linejoin:round; stroke-width:4; stroke-opacity:1; fill:none\" points=\"219.866,1423.18 219.866,47.2441 \"/>\n",
       "<polyline clip-path=\"url(#clip070)\" style=\"stroke:#000000; stroke-linecap:round; stroke-linejoin:round; stroke-width:4; stroke-opacity:1; fill:none\" points=\"219.866,1384.24 238.764,1384.24 \"/>\n",
       "<polyline clip-path=\"url(#clip070)\" style=\"stroke:#000000; stroke-linecap:round; stroke-linejoin:round; stroke-width:4; stroke-opacity:1; fill:none\" points=\"219.866,1058.86 238.764,1058.86 \"/>\n",
       "<polyline clip-path=\"url(#clip070)\" style=\"stroke:#000000; stroke-linecap:round; stroke-linejoin:round; stroke-width:4; stroke-opacity:1; fill:none\" points=\"219.866,733.491 238.764,733.491 \"/>\n",
       "<polyline clip-path=\"url(#clip070)\" style=\"stroke:#000000; stroke-linecap:round; stroke-linejoin:round; stroke-width:4; stroke-opacity:1; fill:none\" points=\"219.866,408.118 238.764,408.118 \"/>\n",
       "<polyline clip-path=\"url(#clip070)\" style=\"stroke:#000000; stroke-linecap:round; stroke-linejoin:round; stroke-width:4; stroke-opacity:1; fill:none\" points=\"219.866,82.7441 238.764,82.7441 \"/>\n",
       "<path clip-path=\"url(#clip070)\" d=\"M126.691 1370.04 Q123.08 1370.04 121.251 1373.6 Q119.445 1377.14 119.445 1384.27 Q119.445 1391.38 121.251 1394.94 Q123.08 1398.49 126.691 1398.49 Q130.325 1398.49 132.13 1394.94 Q133.959 1391.38 133.959 1384.27 Q133.959 1377.14 132.13 1373.6 Q130.325 1370.04 126.691 1370.04 M126.691 1366.33 Q132.501 1366.33 135.556 1370.94 Q138.635 1375.52 138.635 1384.27 Q138.635 1393 135.556 1397.61 Q132.501 1402.19 126.691 1402.19 Q120.88 1402.19 117.802 1397.61 Q114.746 1393 114.746 1384.27 Q114.746 1375.52 117.802 1370.94 Q120.88 1366.33 126.691 1366.33 Z\" fill=\"#000000\" fill-rule=\"nonzero\" fill-opacity=\"1\" /><path clip-path=\"url(#clip070)\" d=\"M146.853 1395.64 L151.737 1395.64 L151.737 1401.52 L146.853 1401.52 L146.853 1395.64 Z\" fill=\"#000000\" fill-rule=\"nonzero\" fill-opacity=\"1\" /><path clip-path=\"url(#clip070)\" d=\"M171.922 1370.04 Q168.311 1370.04 166.482 1373.6 Q164.677 1377.14 164.677 1384.27 Q164.677 1391.38 166.482 1394.94 Q168.311 1398.49 171.922 1398.49 Q175.556 1398.49 177.362 1394.94 Q179.19 1391.38 179.19 1384.27 Q179.19 1377.14 177.362 1373.6 Q175.556 1370.04 171.922 1370.04 M171.922 1366.33 Q177.732 1366.33 180.788 1370.94 Q183.866 1375.52 183.866 1384.27 Q183.866 1393 180.788 1397.61 Q177.732 1402.19 171.922 1402.19 Q166.112 1402.19 163.033 1397.61 Q159.978 1393 159.978 1384.27 Q159.978 1375.52 163.033 1370.94 Q166.112 1366.33 171.922 1366.33 Z\" fill=\"#000000\" fill-rule=\"nonzero\" fill-opacity=\"1\" /><path clip-path=\"url(#clip070)\" d=\"M128.288 1044.66 Q124.677 1044.66 122.848 1048.23 Q121.043 1051.77 121.043 1058.9 Q121.043 1066.01 122.848 1069.57 Q124.677 1073.11 128.288 1073.11 Q131.922 1073.11 133.728 1069.57 Q135.556 1066.01 135.556 1058.9 Q135.556 1051.77 133.728 1048.23 Q131.922 1044.66 128.288 1044.66 M128.288 1040.96 Q134.098 1040.96 137.154 1045.57 Q140.232 1050.15 140.232 1058.9 Q140.232 1067.63 137.154 1072.23 Q134.098 1076.82 128.288 1076.82 Q122.478 1076.82 119.399 1072.23 Q116.343 1067.63 116.343 1058.9 Q116.343 1050.15 119.399 1045.57 Q122.478 1040.96 128.288 1040.96 Z\" fill=\"#000000\" fill-rule=\"nonzero\" fill-opacity=\"1\" /><path clip-path=\"url(#clip070)\" d=\"M148.45 1070.27 L153.334 1070.27 L153.334 1076.14 L148.45 1076.14 L148.45 1070.27 Z\" fill=\"#000000\" fill-rule=\"nonzero\" fill-opacity=\"1\" /><path clip-path=\"url(#clip070)\" d=\"M167.547 1072.21 L183.866 1072.21 L183.866 1076.14 L161.922 1076.14 L161.922 1072.21 Q164.584 1069.45 169.167 1064.83 Q173.774 1060.17 174.954 1058.83 Q177.2 1056.31 178.079 1054.57 Q178.982 1052.81 178.982 1051.12 Q178.982 1048.37 177.038 1046.63 Q175.116 1044.89 172.014 1044.89 Q169.815 1044.89 167.362 1045.66 Q164.931 1046.42 162.153 1047.97 L162.153 1043.25 Q164.977 1042.12 167.431 1041.54 Q169.885 1040.96 171.922 1040.96 Q177.292 1040.96 180.487 1043.64 Q183.681 1046.33 183.681 1050.82 Q183.681 1052.95 182.871 1054.87 Q182.084 1056.77 179.977 1059.36 Q179.399 1060.03 176.297 1063.25 Q173.195 1066.45 167.547 1072.21 Z\" fill=\"#000000\" fill-rule=\"nonzero\" fill-opacity=\"1\" /><path clip-path=\"url(#clip070)\" d=\"M126.205 719.29 Q122.593 719.29 120.765 722.855 Q118.959 726.396 118.959 733.526 Q118.959 740.632 120.765 744.197 Q122.593 747.739 126.205 747.739 Q129.839 747.739 131.644 744.197 Q133.473 740.632 133.473 733.526 Q133.473 726.396 131.644 722.855 Q129.839 719.29 126.205 719.29 M126.205 715.586 Q132.015 715.586 135.07 720.193 Q138.149 724.776 138.149 733.526 Q138.149 742.253 135.07 746.859 Q132.015 751.442 126.205 751.442 Q120.394 751.442 117.316 746.859 Q114.26 742.253 114.26 733.526 Q114.26 724.776 117.316 720.193 Q120.394 715.586 126.205 715.586 Z\" fill=\"#000000\" fill-rule=\"nonzero\" fill-opacity=\"1\" /><path clip-path=\"url(#clip070)\" d=\"M146.366 744.892 L151.251 744.892 L151.251 750.771 L146.366 750.771 L146.366 744.892 Z\" fill=\"#000000\" fill-rule=\"nonzero\" fill-opacity=\"1\" /><path clip-path=\"url(#clip070)\" d=\"M174.283 720.285 L162.477 738.734 L174.283 738.734 L174.283 720.285 M173.056 716.211 L178.936 716.211 L178.936 738.734 L183.866 738.734 L183.866 742.623 L178.936 742.623 L178.936 750.771 L174.283 750.771 L174.283 742.623 L158.681 742.623 L158.681 738.109 L173.056 716.211 Z\" fill=\"#000000\" fill-rule=\"nonzero\" fill-opacity=\"1\" /><path clip-path=\"url(#clip070)\" d=\"M126.529 393.916 Q122.918 393.916 121.089 397.481 Q119.283 401.023 119.283 408.152 Q119.283 415.259 121.089 418.824 Q122.918 422.365 126.529 422.365 Q130.163 422.365 131.968 418.824 Q133.797 415.259 133.797 408.152 Q133.797 401.023 131.968 397.481 Q130.163 393.916 126.529 393.916 M126.529 390.213 Q132.339 390.213 135.394 394.819 Q138.473 399.402 138.473 408.152 Q138.473 416.879 135.394 421.486 Q132.339 426.069 126.529 426.069 Q120.718 426.069 117.64 421.486 Q114.584 416.879 114.584 408.152 Q114.584 399.402 117.64 394.819 Q120.718 390.213 126.529 390.213 Z\" fill=\"#000000\" fill-rule=\"nonzero\" fill-opacity=\"1\" /><path clip-path=\"url(#clip070)\" d=\"M146.691 419.518 L151.575 419.518 L151.575 425.398 L146.691 425.398 L146.691 419.518 Z\" fill=\"#000000\" fill-rule=\"nonzero\" fill-opacity=\"1\" /><path clip-path=\"url(#clip070)\" d=\"M172.339 406.254 Q169.19 406.254 167.339 408.407 Q165.51 410.56 165.51 414.31 Q165.51 418.037 167.339 420.213 Q169.19 422.365 172.339 422.365 Q175.487 422.365 177.315 420.213 Q179.167 418.037 179.167 414.31 Q179.167 410.56 177.315 408.407 Q175.487 406.254 172.339 406.254 M181.621 391.602 L181.621 395.861 Q179.862 395.027 178.056 394.588 Q176.274 394.148 174.514 394.148 Q169.885 394.148 167.431 397.273 Q165.001 400.398 164.653 406.717 Q166.019 404.703 168.079 403.639 Q170.139 402.551 172.616 402.551 Q177.825 402.551 180.834 405.722 Q183.866 408.87 183.866 414.31 Q183.866 419.634 180.718 422.851 Q177.57 426.069 172.339 426.069 Q166.343 426.069 163.172 421.486 Q160.001 416.879 160.001 408.152 Q160.001 399.958 163.89 395.097 Q167.778 390.213 174.329 390.213 Q176.089 390.213 177.871 390.56 Q179.676 390.907 181.621 391.602 Z\" fill=\"#000000\" fill-rule=\"nonzero\" fill-opacity=\"1\" /><path clip-path=\"url(#clip070)\" d=\"M126.783 68.5428 Q123.172 68.5428 121.343 72.1076 Q119.538 75.6493 119.538 82.7789 Q119.538 89.8853 121.343 93.4501 Q123.172 96.9917 126.783 96.9917 Q130.417 96.9917 132.223 93.4501 Q134.052 89.8853 134.052 82.7789 Q134.052 75.6493 132.223 72.1076 Q130.417 68.5428 126.783 68.5428 M126.783 64.8391 Q132.593 64.8391 135.649 69.4456 Q138.728 74.0289 138.728 82.7789 Q138.728 91.5057 135.649 96.1121 Q132.593 100.695 126.783 100.695 Q120.973 100.695 117.894 96.1121 Q114.839 91.5057 114.839 82.7789 Q114.839 74.0289 117.894 69.4456 Q120.973 64.8391 126.783 64.8391 Z\" fill=\"#000000\" fill-rule=\"nonzero\" fill-opacity=\"1\" /><path clip-path=\"url(#clip070)\" d=\"M146.945 94.1445 L151.829 94.1445 L151.829 100.024 L146.945 100.024 L146.945 94.1445 Z\" fill=\"#000000\" fill-rule=\"nonzero\" fill-opacity=\"1\" /><path clip-path=\"url(#clip070)\" d=\"M172.014 83.6122 Q168.681 83.6122 166.76 85.3946 Q164.862 87.177 164.862 90.302 Q164.862 93.4269 166.76 95.2093 Q168.681 96.9917 172.014 96.9917 Q175.348 96.9917 177.269 95.2093 Q179.19 93.4038 179.19 90.302 Q179.19 87.177 177.269 85.3946 Q175.371 83.6122 172.014 83.6122 M167.339 81.6215 Q164.329 80.8807 162.64 78.8205 Q160.973 76.7604 160.973 73.7974 Q160.973 69.6539 163.913 67.2465 Q166.876 64.8391 172.014 64.8391 Q177.176 64.8391 180.116 67.2465 Q183.056 69.6539 183.056 73.7974 Q183.056 76.7604 181.366 78.8205 Q179.7 80.8807 176.714 81.6215 Q180.093 82.4085 181.968 84.7001 Q183.866 86.9918 183.866 90.302 Q183.866 95.3251 180.788 98.0103 Q177.732 100.695 172.014 100.695 Q166.297 100.695 163.218 98.0103 Q160.163 95.3251 160.163 90.302 Q160.163 86.9918 162.061 84.7001 Q163.959 82.4085 167.339 81.6215 M165.626 74.2372 Q165.626 76.9224 167.292 78.427 Q168.982 79.9316 172.014 79.9316 Q175.024 79.9316 176.714 78.427 Q178.426 76.9224 178.426 74.2372 Q178.426 71.5521 176.714 70.0474 Q175.024 68.5428 172.014 68.5428 Q168.982 68.5428 167.292 70.0474 Q165.626 71.5521 165.626 74.2372 Z\" fill=\"#000000\" fill-rule=\"nonzero\" fill-opacity=\"1\" /><path clip-path=\"url(#clip070)\" d=\"M58.657 788.97 L77.5631 788.97 L77.5631 794.859 L28.3562 794.859 L28.3562 788.97 L33.7671 788.97 Q30.5842 787.124 29.0564 784.323 Q27.4968 781.491 27.4968 777.576 Q27.4968 771.083 32.6531 767.041 Q37.8093 762.966 46.212 762.966 Q54.6147 762.966 59.771 767.041 Q64.9272 771.083 64.9272 777.576 Q64.9272 781.491 63.3994 784.323 Q61.8398 787.124 58.657 788.97 M46.212 769.046 Q39.7508 769.046 36.0905 771.719 Q32.3984 774.361 32.3984 779.008 Q32.3984 783.655 36.0905 786.329 Q39.7508 788.97 46.212 788.97 Q52.6732 788.97 56.3653 786.329 Q60.0256 783.655 60.0256 779.008 Q60.0256 774.361 56.3653 771.719 Q52.6732 769.046 46.212 769.046 Z\" fill=\"#000000\" fill-rule=\"nonzero\" fill-opacity=\"1\" /><path clip-path=\"url(#clip070)\" d=\"M14.5426 739.191 Q21.8632 743.456 29.0246 745.524 Q36.186 747.593 43.5384 747.593 Q50.8908 747.593 58.1159 745.524 Q65.3091 743.424 72.5979 739.191 L72.5979 744.283 Q65.1182 749.057 57.8931 751.445 Q50.668 753.8 43.5384 753.8 Q36.4406 753.8 29.2474 751.445 Q22.0542 749.089 14.5426 744.283 L14.5426 739.191 Z\" fill=\"#000000\" fill-rule=\"nonzero\" fill-opacity=\"1\" /><path clip-path=\"url(#clip070)\" d=\"M28.3562 698.195 L45.7028 711.086 L64.0042 697.527 L64.0042 704.434 L49.9996 714.81 L64.0042 725.186 L64.0042 732.093 L45.3526 718.247 L28.3562 730.915 L28.3562 724.008 L41.0558 714.555 L28.3562 705.102 L28.3562 698.195 Z\" fill=\"#000000\" fill-rule=\"nonzero\" fill-opacity=\"1\" /><path clip-path=\"url(#clip070)\" d=\"M14.5426 690.175 L14.5426 685.082 Q22.0542 680.308 29.2474 677.952 Q36.4406 675.565 43.5384 675.565 Q50.668 675.565 57.8931 677.952 Q65.1182 680.308 72.5979 685.082 L72.5979 690.175 Q65.3091 685.941 58.1159 683.873 Q50.8908 681.772 43.5384 681.772 Q36.186 681.772 29.0246 683.873 Q21.8632 685.941 14.5426 690.175 Z\" fill=\"#000000\" fill-rule=\"nonzero\" fill-opacity=\"1\" /><polyline clip-path=\"url(#clip072)\" style=\"stroke:#ff0000; stroke-linecap:round; stroke-linejoin:round; stroke-width:20; stroke-opacity:1; fill:none\" stroke-dasharray=\"80, 50\" points=\"280.231,1377.03 286.938,1376.58 293.645,1376.12 300.353,1375.62 307.06,1375.1 313.767,1374.55 320.474,1373.98 327.181,1373.37 333.889,1372.73 340.596,1372.06 347.303,1371.36 354.01,1370.62 360.717,1369.85 367.425,1369.03 374.132,1368.18 380.839,1367.28 387.546,1366.35 394.253,1365.37 400.961,1364.34 407.668,1363.26 414.375,1362.14 421.082,1360.97 427.789,1359.74 434.497,1358.46 441.204,1357.12 447.911,1355.72 454.618,1354.27 461.325,1352.75 468.033,1351.17 474.74,1349.52 481.447,1347.81 488.154,1346.02 494.861,1344.17 501.569,1342.24 508.276,1340.23 514.983,1338.15 521.69,1335.99 528.397,1333.75 535.105,1331.43 541.812,1329.02 548.519,1326.53 555.226,1323.94 561.933,1321.27 568.641,1318.5 575.348,1315.64 582.055,1312.68 588.762,1309.63 595.469,1306.47 602.177,1303.22 608.884,1299.86 615.591,1296.4 622.298,1292.84 629.005,1289.16 635.713,1285.38 642.42,1281.49 649.127,1277.49 655.834,1273.38 662.541,1269.15 669.249,1264.82 675.956,1260.36 682.663,1255.8 689.37,1251.12 696.077,1246.32 702.785,1241.41 709.492,1236.38 716.199,1231.23 722.906,1225.97 729.613,1220.6 736.321,1215.11 743.028,1209.5 749.735,1203.78 756.442,1197.95 763.149,1192.01 769.857,1185.96 776.564,1179.8 783.271,1173.53 789.978,1167.16 796.685,1160.68 803.393,1154.1 810.1,1147.42 816.807,1140.65 823.514,1133.78 830.221,1126.83 836.929,1119.78 843.636,1112.65 850.343,1105.44 857.05,1098.16 863.757,1090.8 870.465,1083.37 877.172,1075.88 883.879,1068.32 890.586,1060.71 897.293,1053.05 904.001,1045.35 910.708,1037.6 917.415,1029.82 924.122,1022.01 930.829,1014.18 937.537,1006.32 944.244,998.456 950.951,990.584 957.658,982.712 964.365,974.846 971.073,966.993 977.78,959.16 984.487,951.353 991.194,943.578 997.901,935.844 1004.61,928.156 1011.32,920.522 1018.02,912.948 1024.73,905.443 1031.44,898.012 1038.14,890.664 1044.85,883.405 1051.56,876.242 1058.27,869.184 1064.97,862.235 1071.68,855.405 1078.39,848.7 1085.1,842.126 1091.8,835.691 1098.51,829.402 1105.22,823.265 1111.92,817.287 1118.63,811.475 1125.34,805.834 1132.05,800.371 1138.75,795.093 1145.46,790.004 1152.17,785.111 1158.87,780.42 1165.58,775.935 1172.29,771.662 1179,767.606 1185.7,763.771 1192.41,760.162 1199.12,756.782 1205.82,753.637 1212.53,750.73 1219.24,748.064 1225.95,745.641 1232.65,743.467 1239.36,741.541 1246.07,739.868 1252.78,738.449 1259.48,737.286 1266.19,736.379 1272.9,735.731 1279.6,735.342 1286.31,735.212 1293.02,735.342 1299.73,735.731 1306.43,736.379 1313.14,737.286 1319.85,738.449 1326.55,739.868 1333.26,741.541 1339.97,743.467 1346.68,745.641 1353.38,748.064 1360.09,750.73 1366.8,753.637 1373.5,756.782 1380.21,760.162 1386.92,763.771 1393.63,767.606 1400.33,771.662 1407.04,775.935 1413.75,780.42 1420.46,785.111 1427.16,790.004 1433.87,795.093 1440.58,800.371 1447.28,805.834 1453.99,811.475 1460.7,817.287 1467.41,823.265 1474.11,829.402 1480.82,835.691 1487.53,842.126 1494.23,848.7 1500.94,855.405 1507.65,862.235 1514.36,869.184 1521.06,876.242 1527.77,883.405 1534.48,890.664 1541.18,898.012 1547.89,905.443 1554.6,912.948 1561.31,920.522 1568.01,928.156 1574.72,935.844 1581.43,943.578 1588.14,951.353 1594.84,959.16 1601.55,966.993 1608.26,974.846 1614.96,982.712 1621.67,990.584 1628.38,998.456 1635.09,1006.32 1641.79,1014.18 1648.5,1022.01 1655.21,1029.82 1661.91,1037.6 1668.62,1045.35 1675.33,1053.05 1682.04,1060.71 1688.74,1068.32 1695.45,1075.88 1702.16,1083.37 1708.86,1090.8 1715.57,1098.16 1722.28,1105.44 1728.99,1112.65 1735.69,1119.78 1742.4,1126.83 1749.11,1133.78 1755.82,1140.65 1762.52,1147.42 1769.23,1154.1 1775.94,1160.68 1782.64,1167.16 1789.35,1173.53 1796.06,1179.8 1802.77,1185.96 1809.47,1192.01 1816.18,1197.95 1822.89,1203.78 1829.59,1209.5 1836.3,1215.11 1843.01,1220.6 1849.72,1225.97 1856.42,1231.23 1863.13,1236.38 1869.84,1241.41 1876.54,1246.32 1883.25,1251.12 1889.96,1255.8 1896.67,1260.36 1903.37,1264.82 1910.08,1269.15 1916.79,1273.38 1923.5,1277.49 1930.2,1281.49 1936.91,1285.38 1943.62,1289.16 1950.32,1292.84 1957.03,1296.4 1963.74,1299.86 1970.45,1303.22 1977.15,1306.47 1983.86,1309.63 1990.57,1312.68 1997.27,1315.64 2003.98,1318.5 2010.69,1321.27 2017.4,1323.94 2024.1,1326.53 2030.81,1329.02 2037.52,1331.43 2044.22,1333.75 2050.93,1335.99 2057.64,1338.15 2064.35,1340.23 2071.05,1342.24 2077.76,1344.17 2084.47,1346.02 2091.18,1347.81 2097.88,1349.52 2104.59,1351.17 2111.3,1352.75 2118,1354.27 2124.71,1355.72 2131.42,1357.12 2138.13,1358.46 2144.83,1359.74 2151.54,1360.97 2158.25,1362.14 2164.95,1363.26 2171.66,1364.34 2178.37,1365.37 2185.08,1366.35 2191.78,1367.28 2198.49,1368.18 2205.2,1369.03 2211.9,1369.85 2218.61,1370.62 2225.32,1371.36 2232.03,1372.06 2238.73,1372.73 2245.44,1373.37 2252.15,1373.98 2258.86,1374.55 2265.56,1375.1 2272.27,1375.62 2278.98,1376.12 2285.68,1376.58 2292.39,1377.03 \"/>\n",
       "<polyline clip-path=\"url(#clip072)\" style=\"stroke:#0000ff; stroke-linecap:round; stroke-linejoin:round; stroke-width:4; stroke-opacity:1; fill:none\" points=\"280.231,1384.24 286.938,1384.24 293.645,1384.24 300.353,1384.24 307.06,1384.24 313.767,1384.24 320.474,1384.24 327.181,1384.24 333.889,1384.24 340.596,1384.24 347.303,1384.24 354.01,1384.24 360.717,1384.24 367.425,1384.24 374.132,1384.24 380.839,1384.24 387.546,1384.24 394.253,1384.24 400.961,1384.24 407.668,1384.24 414.375,1384.24 421.082,1384.24 427.789,1384.24 434.497,1384.24 441.204,1384.24 447.911,1384.24 454.618,1384.24 461.325,1384.24 468.033,1384.24 474.74,1384.24 481.447,1384.24 488.154,1384.24 494.861,1384.24 501.569,1384.24 508.276,1384.24 514.983,1384.24 521.69,1384.24 528.397,1384.24 535.105,1384.24 541.812,1384.24 548.519,1384.24 555.226,1384.24 561.933,1384.24 568.641,1384.24 575.348,1384.24 582.055,1384.24 588.762,1384.24 595.469,1384.24 602.177,1384.24 608.884,1384.24 615.591,1384.24 622.298,1384.24 629.005,1384.24 635.713,1384.24 642.42,1384.24 649.127,1384.24 655.834,1384.24 662.541,1384.24 669.249,1384.24 675.956,1384.24 682.663,1384.24 689.37,1384.24 696.077,1384.24 702.785,1384.24 709.492,1384.24 716.199,1384.24 722.906,1384.24 729.613,1384.24 736.321,1384.24 743.028,1384.24 749.735,1384.24 756.442,1384.24 763.149,1384.24 769.857,1384.24 776.564,1384.23 783.271,1384.23 789.978,1384.23 796.685,1384.23 803.393,1384.23 810.1,1384.23 816.807,1384.23 823.514,1384.22 830.221,1384.22 836.929,1384.22 843.636,1384.21 850.343,1384.21 857.05,1384.2 863.757,1384.19 870.465,1384.18 877.172,1384.17 883.879,1384.16 890.586,1384.14 897.293,1384.12 904.001,1384.1 910.708,1384.08 917.415,1384.05 924.122,1384.01 930.829,1383.97 937.537,1383.92 944.244,1383.87 950.951,1383.8 957.658,1383.73 964.365,1383.64 971.073,1383.54 977.78,1383.42 984.487,1383.29 991.194,1383.13 997.901,1382.95 1004.61,1382.75 1011.32,1382.52 1018.02,1382.25 1024.73,1381.94 1031.44,1381.59 1038.14,1381.19 1044.85,1380.74 1051.56,1380.23 1058.27,1379.65 1064.97,1378.99 1071.68,1378.25 1078.39,1377.42 1085.1,1376.48 1091.8,1375.43 1098.51,1374.25 1105.22,1372.93 1111.92,1371.46 1118.63,1369.82 1125.34,1367.99 1132.05,1365.97 1138.75,1363.72 1145.46,1361.23 1152.17,1358.48 1158.87,1355.45 1165.58,1352.12 1172.29,1348.46 1179,1344.44 1185.7,1340.04 1192.41,1335.24 1199.12,1330 1205.82,1324.29 1212.53,1318.1 1219.24,1311.37 1225.95,1304.09 1232.65,1296.23 1239.36,1287.75 1246.07,1278.62 1252.78,1268.81 1259.48,1258.3 1266.19,1247.04 1272.9,1235.02 1279.6,1222.2 1286.31,1208.57 1293.02,1194.09 1299.73,1178.74 1306.43,1162.52 1313.14,1145.39 1319.85,1127.36 1326.55,1108.4 1333.26,1088.52 1339.97,1067.71 1346.68,1045.98 1353.38,1023.33 1360.09,999.786 1366.8,975.359 1373.5,950.075 1380.21,923.965 1386.92,897.065 1393.63,869.417 1400.33,841.069 1407.04,812.077 1413.75,782.501 1420.46,752.408 1427.16,721.871 1433.87,690.968 1440.58,659.783 1447.28,628.405 1453.99,596.93 1460.7,565.454 1467.41,534.082 1474.11,502.919 1480.82,472.074 1487.53,441.659 1494.23,411.787 1500.94,382.572 1507.65,354.129 1514.36,326.572 1521.06,300.014 1527.77,274.566 1534.48,250.336 1541.18,227.43 1547.89,205.947 1554.6,185.985 1561.31,167.632 1568.01,150.973 1574.72,136.085 1581.43,123.036 1588.14,111.889 1594.84,102.695 1601.55,95.4981 1608.26,90.3328 1614.96,87.2237 1621.67,86.1857 1628.38,87.2237 1635.09,90.3328 1641.79,95.4981 1648.5,102.695 1655.21,111.889 1661.91,123.036 1668.62,136.085 1675.33,150.973 1682.04,167.632 1688.74,185.985 1695.45,205.947 1702.16,227.43 1708.86,250.336 1715.57,274.566 1722.28,300.014 1728.99,326.572 1735.69,354.129 1742.4,382.572 1749.11,411.787 1755.82,441.659 1762.52,472.074 1769.23,502.919 1775.94,534.082 1782.64,565.454 1789.35,596.93 1796.06,628.405 1802.77,659.783 1809.47,690.968 1816.18,721.871 1822.89,752.408 1829.59,782.501 1836.3,812.077 1843.01,841.069 1849.72,869.417 1856.42,897.065 1863.13,923.965 1869.84,950.075 1876.54,975.359 1883.25,999.786 1889.96,1023.33 1896.67,1045.98 1903.37,1067.71 1910.08,1088.52 1916.79,1108.4 1923.5,1127.36 1930.2,1145.39 1936.91,1162.52 1943.62,1178.74 1950.32,1194.09 1957.03,1208.57 1963.74,1222.2 1970.45,1235.02 1977.15,1247.04 1983.86,1258.3 1990.57,1268.81 1997.27,1278.62 2003.98,1287.75 2010.69,1296.23 2017.4,1304.09 2024.1,1311.37 2030.81,1318.1 2037.52,1324.29 2044.22,1330 2050.93,1335.24 2057.64,1340.04 2064.35,1344.44 2071.05,1348.46 2077.76,1352.12 2084.47,1355.45 2091.18,1358.48 2097.88,1361.23 2104.59,1363.72 2111.3,1365.97 2118,1367.99 2124.71,1369.82 2131.42,1371.46 2138.13,1372.93 2144.83,1374.25 2151.54,1375.43 2158.25,1376.48 2164.95,1377.42 2171.66,1378.25 2178.37,1378.99 2185.08,1379.65 2191.78,1380.23 2198.49,1380.74 2205.2,1381.19 2211.9,1381.59 2218.61,1381.94 2225.32,1382.25 2232.03,1382.52 2238.73,1382.75 2245.44,1382.95 2252.15,1383.13 2258.86,1383.29 2265.56,1383.42 2272.27,1383.54 2278.98,1383.64 2285.68,1383.73 2292.39,1383.8 \"/>\n",
       "<path clip-path=\"url(#clip070)\" d=\"M1884.02 248.629 L2281.66 248.629 L2281.66 93.1086 L1884.02 93.1086  Z\" fill=\"#ffffff\" fill-rule=\"evenodd\" fill-opacity=\"1\"/>\n",
       "<polyline clip-path=\"url(#clip070)\" style=\"stroke:#000000; stroke-linecap:round; stroke-linejoin:round; stroke-width:4; stroke-opacity:1; fill:none\" points=\"1884.02,248.629 2281.66,248.629 2281.66,93.1086 1884.02,93.1086 1884.02,248.629 \"/>\n",
       "<polyline clip-path=\"url(#clip070)\" style=\"stroke:#ff0000; stroke-linecap:round; stroke-linejoin:round; stroke-width:20; stroke-opacity:1; fill:none\" stroke-dasharray=\"80, 50\" points=\"1907.72,144.949 2049.91,144.949 \"/>\n",
       "<path clip-path=\"url(#clip070)\" d=\"M2073.61 127.669 L2079.91 127.669 L2095.23 156.581 L2095.23 127.669 L2099.77 127.669 L2099.77 162.229 L2093.47 162.229 L2078.15 133.317 L2078.15 162.229 L2073.61 162.229 L2073.61 127.669 Z\" fill=\"#000000\" fill-rule=\"nonzero\" fill-opacity=\"1\" /><path clip-path=\"url(#clip070)\" d=\"M2119.12 126.257 Q2116.02 131.581 2114.51 136.789 Q2113.01 141.997 2113.01 147.344 Q2113.01 152.692 2114.51 157.946 Q2116.04 163.178 2119.12 168.479 L2115.42 168.479 Q2111.94 163.039 2110.21 157.784 Q2108.49 152.53 2108.49 147.344 Q2108.49 142.182 2110.21 136.951 Q2111.92 131.72 2115.42 126.257 L2119.12 126.257 Z\" fill=\"#000000\" fill-rule=\"nonzero\" fill-opacity=\"1\" /><path clip-path=\"url(#clip070)\" d=\"M2137.98 130.747 Q2134.37 130.747 2132.54 134.312 Q2130.74 137.854 2130.74 144.983 Q2130.74 152.09 2132.54 155.655 Q2134.37 159.196 2137.98 159.196 Q2141.62 159.196 2143.42 155.655 Q2145.25 152.09 2145.25 144.983 Q2145.25 137.854 2143.42 134.312 Q2141.62 130.747 2137.98 130.747 M2137.98 127.044 Q2143.79 127.044 2146.85 131.65 Q2149.93 136.233 2149.93 144.983 Q2149.93 153.71 2146.85 158.317 Q2143.79 162.9 2137.98 162.9 Q2132.17 162.9 2129.1 158.317 Q2126.04 153.71 2126.04 144.983 Q2126.04 136.233 2129.1 131.65 Q2132.17 127.044 2137.98 127.044 Z\" fill=\"#000000\" fill-rule=\"nonzero\" fill-opacity=\"1\" /><path clip-path=\"url(#clip070)\" d=\"M2158.63 156.349 L2163.52 156.349 L2163.52 160.33 L2159.72 167.738 L2156.73 167.738 L2158.63 160.33 L2158.63 156.349 Z\" fill=\"#000000\" fill-rule=\"nonzero\" fill-opacity=\"1\" /><path clip-path=\"url(#clip070)\" d=\"M2174.03 158.293 L2181.66 158.293 L2181.66 131.928 L2173.35 133.595 L2173.35 129.335 L2181.62 127.669 L2186.29 127.669 L2186.29 158.293 L2193.93 158.293 L2193.93 162.229 L2174.03 162.229 L2174.03 158.293 Z\" fill=\"#000000\" fill-rule=\"nonzero\" fill-opacity=\"1\" /><path clip-path=\"url(#clip070)\" d=\"M2202.1 126.257 L2205.81 126.257 Q2209.28 131.72 2210.99 136.951 Q2212.73 142.182 2212.73 147.344 Q2212.73 152.53 2210.99 157.784 Q2209.28 163.039 2205.81 168.479 L2202.1 168.479 Q2205.18 163.178 2206.69 157.946 Q2208.22 152.692 2208.22 147.344 Q2208.22 141.997 2206.69 136.789 Q2205.18 131.581 2202.1 126.257 Z\" fill=\"#000000\" fill-rule=\"nonzero\" fill-opacity=\"1\" /><polyline clip-path=\"url(#clip070)\" style=\"stroke:#0000ff; stroke-linecap:round; stroke-linejoin:round; stroke-width:4; stroke-opacity:1; fill:none\" points=\"1907.72,196.789 2049.91,196.789 \"/>\n",
       "<path clip-path=\"url(#clip070)\" d=\"M2073.61 179.509 L2079.91 179.509 L2095.23 208.421 L2095.23 179.509 L2099.77 179.509 L2099.77 214.069 L2093.47 214.069 L2078.15 185.157 L2078.15 214.069 L2073.61 214.069 L2073.61 179.509 Z\" fill=\"#000000\" fill-rule=\"nonzero\" fill-opacity=\"1\" /><path clip-path=\"url(#clip070)\" d=\"M2119.12 178.097 Q2116.02 183.421 2114.51 188.629 Q2113.01 193.837 2113.01 199.184 Q2113.01 204.532 2114.51 209.786 Q2116.04 215.018 2119.12 220.319 L2115.42 220.319 Q2111.94 214.879 2110.21 209.624 Q2108.49 204.37 2108.49 199.184 Q2108.49 194.022 2110.21 188.791 Q2111.92 183.56 2115.42 178.097 L2119.12 178.097 Z\" fill=\"#000000\" fill-rule=\"nonzero\" fill-opacity=\"1\" /><path clip-path=\"url(#clip070)\" d=\"M2128.79 210.133 L2136.43 210.133 L2136.43 183.768 L2128.12 185.435 L2128.12 181.175 L2136.39 179.509 L2141.06 179.509 L2141.06 210.133 L2148.7 210.133 L2148.7 214.069 L2128.79 214.069 L2128.79 210.133 Z\" fill=\"#000000\" fill-rule=\"nonzero\" fill-opacity=\"1\" /><path clip-path=\"url(#clip070)\" d=\"M2158.63 208.189 L2163.52 208.189 L2163.52 212.17 L2159.72 219.578 L2156.73 219.578 L2158.63 212.17 L2158.63 208.189 Z\" fill=\"#000000\" fill-rule=\"nonzero\" fill-opacity=\"1\" /><path clip-path=\"url(#clip070)\" d=\"M2183.22 182.587 Q2179.6 182.587 2177.78 186.152 Q2175.97 189.694 2175.97 196.823 Q2175.97 203.93 2177.78 207.495 Q2179.6 211.036 2183.22 211.036 Q2186.85 211.036 2188.66 207.495 Q2190.48 203.93 2190.48 196.823 Q2190.48 189.694 2188.66 186.152 Q2186.85 182.587 2183.22 182.587 M2183.22 178.884 Q2189.03 178.884 2192.08 183.49 Q2195.16 188.073 2195.16 196.823 Q2195.16 205.55 2192.08 210.157 Q2189.03 214.74 2183.22 214.74 Q2177.41 214.74 2174.33 210.157 Q2171.27 205.55 2171.27 196.823 Q2171.27 188.073 2174.33 183.49 Q2177.41 178.884 2183.22 178.884 Z\" fill=\"#000000\" fill-rule=\"nonzero\" fill-opacity=\"1\" /><path clip-path=\"url(#clip070)\" d=\"M2203.38 208.189 L2208.26 208.189 L2208.26 214.069 L2203.38 214.069 L2203.38 208.189 Z\" fill=\"#000000\" fill-rule=\"nonzero\" fill-opacity=\"1\" /><path clip-path=\"url(#clip070)\" d=\"M2218.49 179.509 L2236.85 179.509 L2236.85 183.444 L2222.78 183.444 L2222.78 191.916 Q2223.79 191.569 2224.81 191.407 Q2225.83 191.222 2226.85 191.222 Q2232.64 191.222 2236.02 194.393 Q2239.4 197.564 2239.4 202.981 Q2239.4 208.559 2235.92 211.661 Q2232.45 214.74 2226.13 214.74 Q2223.96 214.74 2221.69 214.37 Q2219.44 213.999 2217.04 213.258 L2217.04 208.559 Q2219.12 209.694 2221.34 210.249 Q2223.56 210.805 2226.04 210.805 Q2230.04 210.805 2232.38 208.698 Q2234.72 206.592 2234.72 202.981 Q2234.72 199.37 2232.38 197.263 Q2230.04 195.157 2226.04 195.157 Q2224.16 195.157 2222.29 195.573 Q2220.44 195.99 2218.49 196.87 L2218.49 179.509 Z\" fill=\"#000000\" fill-rule=\"nonzero\" fill-opacity=\"1\" /><path clip-path=\"url(#clip070)\" d=\"M2247.34 178.097 L2251.04 178.097 Q2254.51 183.56 2256.22 188.791 Q2257.96 194.022 2257.96 199.184 Q2257.96 204.37 2256.22 209.624 Q2254.51 214.879 2251.04 220.319 L2247.34 220.319 Q2250.41 215.018 2251.92 209.786 Q2253.45 204.532 2253.45 199.184 Q2253.45 193.837 2251.92 188.629 Q2250.41 183.421 2247.34 178.097 Z\" fill=\"#000000\" fill-rule=\"nonzero\" fill-opacity=\"1\" /></svg>\n"
      ]
     },
     "metadata": {},
     "output_type": "display_data"
    }
   ],
   "source": [
    "plot(x, pdf.(Normal(0.,1.), x), xlabel=\"x\", ylabel=\"p(x)\", label=\"N(0,1)\", color=\"red\", linewidth=5, linestyle=:dash)\n",
    "plot!(x, pdf.(Normal(1.,0.5), x), xlabel=\"x\", ylabel=\"p(x)\", label=\"N(1,0.5)\", color=\"blue\", linestyle=:solid)"
   ]
  },
  {
   "cell_type": "markdown",
   "metadata": {
    "nbgrader": {
     "grade": false,
     "grade_id": "cell-60386ddc6157fdbb",
     "locked": true,
     "schema_version": 3,
     "solution": false,
     "task": false
    }
   },
   "source": [
    "## Macro's\n",
    "\n",
    "- References: [Macros](https://docs.julialang.org/en/v1/manual/metaprogramming/#man-macros)\n",
    "\n",
    "Words that start with the `@` symbol are \"macro\"'s in Julia, for example `@time, @test, @model`. They represent a series of functions called on an input structure and are really handy when you have to use the same set of instructions often. \n",
    "\n",
    "For example, you could define a `ProgressMeter` bar, update it at every iteration of a for-loop and write a custom print statement every time. _Or_, you could call the `@showprogress` macro on the for-loop itself:"
   ]
  },
  {
   "cell_type": "code",
   "execution_count": 33,
   "metadata": {},
   "outputs": [
    {
     "name": "stderr",
     "output_type": "stream",
     "text": [
      "\u001b[32mProgress: 100%|█████████████████████████████████████████| Time: 0:00:02\u001b[39m\u001b[K\n"
     ]
    }
   ],
   "source": [
    "using ProgressMeter\n",
    "\n",
    "@showprogress for n in 1:10\n",
    "    sleep(0.1)\n",
    "end"
   ]
  },
  {
   "cell_type": "markdown",
   "metadata": {
    "nbgrader": {
     "grade": false,
     "grade_id": "cell-76339cb21a5934f5",
     "locked": true,
     "schema_version": 3,
     "solution": false,
     "task": false
    }
   },
   "source": [
    "Macro's are a somewhat advanced form of metaprogramming. You will not need to define any new macro's; this instruction is just here to explain what they are."
   ]
  },
  {
   "cell_type": "markdown",
   "metadata": {},
   "source": [
    "## Errors\n",
    "\n",
    "- References: [Stack traces](https://docs.julialang.org/en/v1/manual/stacktraces/)\n",
    "\n",
    "When you call a function that Julia doesn't know, it will return a list of the steps it took to execute your command and point to where its progress was blocked. This is highly useful but it typically requires a bit of practice to parse (i.e., read and filter) stack traces.\n",
    "\n",
    "Suppose we write a function that expects an `Integer` input and call that function with an `Float64` argument:"
   ]
  },
  {
   "cell_type": "code",
   "execution_count": 34,
   "metadata": {},
   "outputs": [
    {
     "ename": "MethodError",
     "evalue": "MethodError: no method matching add1(::Float64)\n\nClosest candidates are:\n  add1(!Matched::Integer)\n   @ Main ~/syndr/Wouter/Onderwijs/Vakken/tueindhoven/5SSD0 - Bayesian Machine Learning & Information Processing/2024-2025 Q2/BMLIP/lessons/notebooks/jl_notebook_cell_df34fa98e69747e1a8f8a730347b8e2f_Y123sZmlsZQ==.jl:1\n",
     "output_type": "error",
     "traceback": [
      "MethodError: no method matching add1(::Float64)\n",
      "\n",
      "Closest candidates are:\n",
      "  add1(!Matched::Integer)\n",
      "   @ Main ~/syndr/Wouter/Onderwijs/Vakken/tueindhoven/5SSD0 - Bayesian Machine Learning & Information Processing/2024-2025 Q2/BMLIP/lessons/notebooks/jl_notebook_cell_df34fa98e69747e1a8f8a730347b8e2f_Y123sZmlsZQ==.jl:1\n",
      "\n",
      "\n",
      "Stacktrace:\n",
      " [1] top-level scope\n",
      "   @ ~/syndr/Wouter/Onderwijs/Vakken/tueindhoven/5SSD0 - Bayesian Machine Learning & Information Processing/2024-2025 Q2/BMLIP/lessons/notebooks/jl_notebook_cell_df34fa98e69747e1a8f8a730347b8e2f_Y123sZmlsZQ==.jl:5"
     ]
    }
   ],
   "source": [
    "function add1(a::Integer)\n",
    "    return a + 1\n",
    "end\n",
    "\n",
    "add1(3.0)"
   ]
  },
  {
   "cell_type": "markdown",
   "metadata": {},
   "source": [
    "Note that we first of all get a `MethodError`. This points to the fact that Julia could not find the function (i.e, method) that you asked for; `add1(::Float64)` does not exist.\n",
    "\n",
    "Furthermore, Julia provides a list of \"Closest candidates\" which are functions of the same name with different input arguments. It reports:\n",
    "```\n",
    "Closest candidates are:\n",
    "  add1(!Matched::Integer)\n",
    "```\n",
    "\n",
    "You should read this as \"there exists a function called `add1` that expects an `Integer` input.\" Try that."
   ]
  },
  {
   "cell_type": "code",
   "execution_count": 35,
   "metadata": {},
   "outputs": [
    {
     "data": {
      "text/plain": [
       "4"
      ]
     },
     "metadata": {},
     "output_type": "display_data"
    }
   ],
   "source": [
    "add1(3)"
   ]
  },
  {
   "cell_type": "markdown",
   "metadata": {},
   "source": [
    "The `!Matched` is also important but requires a slightly more complicated example. Suppose we have a function with two `Integer` inputs and we call with `Float64` and `Int64` arguments."
   ]
  },
  {
   "cell_type": "code",
   "execution_count": 36,
   "metadata": {},
   "outputs": [
    {
     "ename": "MethodError",
     "evalue": "MethodError: no method matching add(::Float64, ::Int64)\n\nClosest candidates are:\n  add(!Matched::Integer, ::Integer)\n   @ Main ~/syndr/Wouter/Onderwijs/Vakken/tueindhoven/5SSD0 - Bayesian Machine Learning & Information Processing/2024-2025 Q2/BMLIP/lessons/notebooks/jl_notebook_cell_df34fa98e69747e1a8f8a730347b8e2f_Y130sZmlsZQ==.jl:1\n",
     "output_type": "error",
     "traceback": [
      "MethodError: no method matching add(::Float64, ::Int64)\n",
      "\n",
      "Closest candidates are:\n",
      "  add(!Matched::Integer, ::Integer)\n",
      "   @ Main ~/syndr/Wouter/Onderwijs/Vakken/tueindhoven/5SSD0 - Bayesian Machine Learning & Information Processing/2024-2025 Q2/BMLIP/lessons/notebooks/jl_notebook_cell_df34fa98e69747e1a8f8a730347b8e2f_Y130sZmlsZQ==.jl:1\n",
      "\n",
      "\n",
      "Stacktrace:\n",
      " [1] top-level scope\n",
      "   @ ~/syndr/Wouter/Onderwijs/Vakken/tueindhoven/5SSD0 - Bayesian Machine Learning & Information Processing/2024-2025 Q2/BMLIP/lessons/notebooks/jl_notebook_cell_df34fa98e69747e1a8f8a730347b8e2f_Y130sZmlsZQ==.jl:5"
     ]
    }
   ],
   "source": [
    "function add(a::Integer, b::Integer)\n",
    "    return a+b\n",
    "end\n",
    "\n",
    "add(3.0,4)"
   ]
  },
  {
   "cell_type": "markdown",
   "metadata": {},
   "source": [
    "We again get the `MethodError` that the function we asked for doesn't exist and a suggested alternative (i.e., \"closest candidate\"). But note that in that alternative, `add(!Matched::Integer, ::Integer)`, only one of the inputs is `!Matched`. So, in fact, Julia check your input argument types against those in the closest candidates. This tells you _what_ to change: if you change the first argument of your function call to an `Integer` type, then this closest candidate will be evaluated.\n"
   ]
  },
  {
   "cell_type": "code",
   "execution_count": 37,
   "metadata": {},
   "outputs": [
    {
     "data": {
      "text/plain": [
       "7"
      ]
     },
     "metadata": {},
     "output_type": "display_data"
    }
   ],
   "source": [
    "add(3,4)"
   ]
  },
  {
   "cell_type": "markdown",
   "metadata": {},
   "source": [
    "To summarize, when you get an error, it is important to read the stack trace. It may tell you that you need only change a small thing for your code to work."
   ]
  },
  {
   "cell_type": "markdown",
   "metadata": {},
   "source": [
    "The type of error can also be informative. The `MethodError` is probably the error you will see most often. Another important error is the `UndefVarError`, which occurs when you call a variable that was not defined. For example:"
   ]
  },
  {
   "cell_type": "code",
   "execution_count": 38,
   "metadata": {},
   "outputs": [
    {
     "ename": "UndefVarError",
     "evalue": "UndefVarError: `aa` not defined",
     "output_type": "error",
     "traceback": [
      "UndefVarError: `aa` not defined\n",
      "\n",
      "Stacktrace:\n",
      " [1] top-level scope\n",
      "   @ ~/syndr/Wouter/Onderwijs/Vakken/tueindhoven/5SSD0 - Bayesian Machine Learning & Information Processing/2024-2025 Q2/BMLIP/lessons/notebooks/jl_notebook_cell_df34fa98e69747e1a8f8a730347b8e2f_Y135sZmlsZQ==.jl:1"
     ]
    }
   ],
   "source": [
    "y = 3*aa"
   ]
  },
  {
   "cell_type": "markdown",
   "metadata": {},
   "source": [
    "The solution to this, of course, is to define the variable first. Sometimes this error occurs through a spelling mistake. You will encounter objects in the course called `MvNormalMeanCovariance`. If you misremember that name and write `MvNormalMeanVariance`, this will happen:"
   ]
  },
  {
   "cell_type": "code",
   "execution_count": 39,
   "metadata": {},
   "outputs": [
    {
     "ename": "UndefVarError",
     "evalue": "UndefVarError: `MvNormalMeanVariance` not defined",
     "output_type": "error",
     "traceback": [
      "UndefVarError: `MvNormalMeanVariance` not defined\n",
      "\n",
      "Stacktrace:\n",
      " [1] top-level scope\n",
      "   @ ~/syndr/Wouter/Onderwijs/Vakken/tueindhoven/5SSD0 - Bayesian Machine Learning & Information Processing/2024-2025 Q2/BMLIP/lessons/notebooks/jl_notebook_cell_df34fa98e69747e1a8f8a730347b8e2f_Y140sZmlsZQ==.jl:1"
     ]
    }
   ],
   "source": [
    "aa = MvNormalMeanVariance()"
   ]
  },
  {
   "cell_type": "markdown",
   "metadata": {},
   "source": [
    "Next to errors, it is also important to check line numbers in a stack trace. For example, the cell below contains a mistake and evaluating it will throw an error. But which line has the mistake?"
   ]
  },
  {
   "cell_type": "code",
   "execution_count": 40,
   "metadata": {},
   "outputs": [
    {
     "ename": "UndefVarError",
     "evalue": "UndefVarError: `xx` not defined",
     "output_type": "error",
     "traceback": [
      "UndefVarError: `xx` not defined\n",
      "\n",
      "Stacktrace:\n",
      " [1] top-level scope\n",
      "   @ ~/syndr/Wouter/Onderwijs/Vakken/tueindhoven/5SSD0 - Bayesian Machine Learning & Information Processing/2024-2025 Q2/BMLIP/lessons/notebooks/jl_notebook_cell_df34fa98e69747e1a8f8a730347b8e2f_Y142sZmlsZQ==.jl:3"
     ]
    }
   ],
   "source": [
    "yy = 3*2\n",
    "zz = 3*yy\n",
    "xx = yy*xx\n",
    "zz = yy*xx"
   ]
  },
  {
   "cell_type": "markdown",
   "metadata": {},
   "source": [
    "At the end of the line, right after the specific function call there is a `: <linenumber>`, which will tell you where to look."
   ]
  },
  {
   "cell_type": "markdown",
   "metadata": {},
   "source": [
    "## Closing\n",
    "\n",
    "That's it for now. If you encounter mysterious errors, please let us know on [Piazza](https://piazza.com/tue.nl/winter2025/5ssd0). We can add them to this primer."
   ]
  }
 ],
 "metadata": {
  "celltoolbar": "Raw Cell Format",
  "kernelspec": {
   "display_name": "Julia 1.10.5",
   "language": "julia",
   "name": "julia-1.10"
  },
  "language_info": {
   "file_extension": ".jl",
   "mimetype": "application/julia",
   "name": "julia",
   "version": "1.10.5"
  }
 },
 "nbformat": 4,
 "nbformat_minor": 4
}
