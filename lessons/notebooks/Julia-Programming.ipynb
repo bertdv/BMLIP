{
 "cells": [
  {
   "cell_type": "markdown",
   "metadata": {
    "nbgrader": {
     "grade": false,
     "grade_id": "cell-e39dce2363a3b28b",
     "locked": true,
     "schema_version": 3,
     "solution": false,
     "task": false
    }
   },
   "source": [
    "# Programming in Julia\n",
    "\n",
    "This notebook will teach you some of the basic programming routines in Julia. You will need these skills to complete the probabilistic programming assignments later on in the course. We will assume basic familiarity with programming, such as for-loops, if-else statements and function definitions.\n",
    "\n",
    "Resources:\n",
    "- [Julia documentation](https://docs.julialang.org/en/v1/)\n",
    "- [Differences to Python, Matlab, C and Java](https://docs.julialang.org/en/v1/manual/noteworthy-differences/)\n",
    "- [Video on getting started](https://www.youtube.com/watch?v=4igzy3bGVkQ&list=PLP8iPy9hna6SCcFv3FvY_qjAmtTsNYHQE)"
   ]
  },
  {
   "cell_type": "code",
   "execution_count": 1,
   "metadata": {},
   "outputs": [
    {
     "name": "stderr",
     "output_type": "stream",
     "text": [
      "\u001b[32m\u001b[1m  Activating\u001b[22m\u001b[39m project at `~/syndr/Wouter/Onderwijs/Vakken/tueindhoven/5SSD0 - Bayesian Machine Learning & Information Processing/2024-2025 Q2/BMLIP/lessons`\n"
     ]
    }
   ],
   "source": [
    "# This part will be explained later\n",
    "using Pkg\n",
    "Pkg.activate(\"..\")\n",
    "Pkg.instantiate();"
   ]
  },
  {
   "cell_type": "markdown",
   "metadata": {
    "nbgrader": {
     "grade": false,
     "grade_id": "cell-3c2e8eba10e12225",
     "locked": true,
     "schema_version": 3,
     "solution": false,
     "task": false
    }
   },
   "source": [
    "## Data types\n",
    "\n",
    "- References: [Numbers](https://docs.julialang.org/en/v1/base/numbers/), [Integers and Float](https://docs.julialang.org/en/v1/manual/integers-and-floating-point-numbers/), [Strings](https://docs.julialang.org/en/v1/base/strings/), [Symbols](https://docs.julialang.org/en/v1/manual/metaprogramming/).\n",
    "\n",
    "Numbers in Julia have specific types, most notably `Integer`, `Real` and `Complex`. It is important to be aware of what type your numbers are because many functions operate differently on different number types. "
   ]
  },
  {
   "cell_type": "code",
   "execution_count": 2,
   "metadata": {},
   "outputs": [
    {
     "data": {
      "text/plain": [
       "Int64"
      ]
     },
     "metadata": {},
     "output_type": "display_data"
    }
   ],
   "source": [
    "a = 3\n",
    "typeof(a)"
   ]
  },
  {
   "cell_type": "markdown",
   "metadata": {
    "nbgrader": {
     "grade": false,
     "grade_id": "cell-2778002073c87b29",
     "locked": true,
     "schema_version": 3,
     "solution": false,
     "task": false
    }
   },
   "source": [
    "`Int64` is a 64-byte integer. Other options are 32-,16-, or 8-bit integers and they can be unsigned as well. The default real-valued numbers is a 64-bit floating-point number:"
   ]
  },
  {
   "cell_type": "code",
   "execution_count": 3,
   "metadata": {},
   "outputs": [
    {
     "data": {
      "text/plain": [
       "Float64"
      ]
     },
     "metadata": {},
     "output_type": "display_data"
    }
   ],
   "source": [
    "a = 3.0\n",
    "typeof(a)"
   ]
  },
  {
   "cell_type": "markdown",
   "metadata": {
    "nbgrader": {
     "grade": false,
     "grade_id": "cell-b4f29642d811571a",
     "locked": true,
     "schema_version": 3,
     "solution": false,
     "task": false
    }
   },
   "source": [
    "Converting number types is easy:"
   ]
  },
  {
   "cell_type": "code",
   "execution_count": 4,
   "metadata": {},
   "outputs": [
    {
     "data": {
      "text/plain": [
       "Float64"
      ]
     },
     "metadata": {},
     "output_type": "display_data"
    }
   ],
   "source": [
    "a = convert(Float64, 2)\n",
    "typeof(a)"
   ]
  },
  {
   "cell_type": "markdown",
   "metadata": {
    "nbgrader": {
     "grade": false,
     "grade_id": "cell-ed3bc3a833acccd0",
     "locked": true,
     "schema_version": 3,
     "solution": false,
     "task": false
    }
   },
   "source": [
    "Strings are constructed by enclosing symbols within double parentheses."
   ]
  },
  {
   "cell_type": "code",
   "execution_count": 5,
   "metadata": {},
   "outputs": [
    {
     "data": {
      "text/plain": [
       "String"
      ]
     },
     "metadata": {},
     "output_type": "display_data"
    }
   ],
   "source": [
    "a = \"3\"\n",
    "typeof(a)"
   ]
  },
  {
   "cell_type": "markdown",
   "metadata": {
    "nbgrader": {
     "grade": false,
     "grade_id": "cell-c1be2e1ea2b90c34",
     "locked": true,
     "schema_version": 3,
     "solution": false,
     "task": false
    }
   },
   "source": [
    "They can be concatenated by multiplication (which is an example of a function, namely `*`, which acts differently on different input argument types): "
   ]
  },
  {
   "cell_type": "code",
   "execution_count": 6,
   "metadata": {},
   "outputs": [
    {
     "data": {
      "text/plain": [
       "\"ab\""
      ]
     },
     "metadata": {},
     "output_type": "display_data"
    }
   ],
   "source": [
    "ab = \"a\"*\"b\""
   ]
  },
  {
   "cell_type": "markdown",
   "metadata": {
    "nbgrader": {
     "grade": false,
     "grade_id": "cell-76b62f36bf62f546",
     "locked": true,
     "schema_version": 3,
     "solution": false,
     "task": false
    }
   },
   "source": [
    "You can incorporate numbers into strings through a `$` call:"
   ]
  },
  {
   "cell_type": "code",
   "execution_count": 7,
   "metadata": {},
   "outputs": [
    {
     "data": {
      "text/plain": [
       "\"a = 3\""
      ]
     },
     "metadata": {},
     "output_type": "display_data"
    }
   ],
   "source": [
    "\"a = $a\""
   ]
  },
  {
   "cell_type": "markdown",
   "metadata": {},
   "source": [
    "Julia also has a `Symbol` type, which is used for [meta-programming](https://docs.julialang.org/en/v1/manual/metaprogramming/) (not important for this course). A `Symbol` type is characterized by a `:` in front of a word. For example:"
   ]
  },
  {
   "cell_type": "code",
   "execution_count": 8,
   "metadata": {},
   "outputs": [
    {
     "data": {
      "text/plain": [
       "Symbol"
      ]
     },
     "metadata": {},
     "output_type": "display_data"
    }
   ],
   "source": [
    "s = :foo\n",
    "typeof(s)"
   ]
  },
  {
   "cell_type": "markdown",
   "metadata": {},
   "source": [
    "You will not have to use `Symbol`s in the course, but you may see one every once in a while in the lecture notes. For example, the `plot` command (see Visualization section), may have a `markershape=:cross` argument."
   ]
  },
  {
   "cell_type": "markdown",
   "metadata": {
    "nbgrader": {
     "grade": false,
     "grade_id": "cell-597f95a479025e8a",
     "locked": true,
     "schema_version": 3,
     "solution": false,
     "task": false
    }
   },
   "source": [
    "## Array manipulation\n",
    "\n",
    "- References: [Arrays](https://docs.julialang.org/en/v1/base/arrays/)\n",
    "\n",
    "Arrays are indexed with square brackets, `A[i,j]`. You can construct a matrix by enclosing a set of numbers with square brackets. If you separate your numbers with comma's, then you will get a column vector:"
   ]
  },
  {
   "cell_type": "code",
   "execution_count": 9,
   "metadata": {},
   "outputs": [
    {
     "data": {
      "text/plain": [
       "4-element Vector{Int64}:\n",
       " 1\n",
       " 2\n",
       " 3\n",
       " 4"
      ]
     },
     "metadata": {},
     "output_type": "display_data"
    }
   ],
   "source": [
    "x = [1,2,3,4]"
   ]
  },
  {
   "cell_type": "markdown",
   "metadata": {
    "nbgrader": {
     "grade": false,
     "grade_id": "cell-55802261c54cb78c",
     "locked": true,
     "schema_version": 3,
     "solution": false,
     "task": false
    }
   },
   "source": [
    "If you use spaces, then you will construct a row vector (i.e., a matrix of dimensions 1 by n):"
   ]
  },
  {
   "cell_type": "code",
   "execution_count": 10,
   "metadata": {},
   "outputs": [
    {
     "data": {
      "text/plain": [
       "1×4 Matrix{Int64}:\n",
       " 1  2  3  4"
      ]
     },
     "metadata": {},
     "output_type": "display_data"
    }
   ],
   "source": [
    "x = [1 2 3 4]"
   ]
  },
  {
   "cell_type": "markdown",
   "metadata": {
    "nbgrader": {
     "grade": false,
     "grade_id": "cell-0797fa9c8ec1c27d",
     "locked": true,
     "schema_version": 3,
     "solution": false,
     "task": false
    }
   },
   "source": [
    "Matrices can be constructed by separating elements with spaces and rows by semicolons:"
   ]
  },
  {
   "cell_type": "code",
   "execution_count": 11,
   "metadata": {},
   "outputs": [
    {
     "data": {
      "text/plain": [
       "2×2 Matrix{Int64}:\n",
       " 1  2\n",
       " 3  4"
      ]
     },
     "metadata": {},
     "output_type": "display_data"
    }
   ],
   "source": [
    "X = [1 2; 3 4]"
   ]
  },
  {
   "cell_type": "markdown",
   "metadata": {
    "nbgrader": {
     "grade": false,
     "grade_id": "cell-752e17ff7e221dc6",
     "locked": true,
     "schema_version": 3,
     "solution": false,
     "task": false
    }
   },
   "source": [
    "Common array constructors are:"
   ]
  },
  {
   "cell_type": "code",
   "execution_count": 12,
   "metadata": {},
   "outputs": [
    {
     "data": {
      "text/plain": [
       "2×3 Matrix{Float64}:\n",
       "  1.78688  1.28097   -0.0122713\n",
       " -1.41345  0.556084  -0.50174"
      ]
     },
     "metadata": {},
     "output_type": "display_data"
    }
   ],
   "source": [
    "X = zeros(2,3)\n",
    "Y = ones(2,3)\n",
    "Z = randn(2,3)"
   ]
  },
  {
   "cell_type": "markdown",
   "metadata": {
    "nbgrader": {
     "grade": false,
     "grade_id": "cell-2842d71d3b6fef26",
     "locked": true,
     "schema_version": 3,
     "solution": false,
     "task": false
    }
   },
   "source": [
    "Matrix operations are intuitive and similar to the mathematical notation:"
   ]
  },
  {
   "cell_type": "code",
   "execution_count": 13,
   "metadata": {},
   "outputs": [
    {
     "data": {
      "text/plain": [
       "3-element Vector{Int64}:\n",
       " 4\n",
       " 7\n",
       " 8"
      ]
     },
     "metadata": {},
     "output_type": "display_data"
    }
   ],
   "source": [
    "A = [3 2 1; 2 3 2; 1 2 3]\n",
    "x = [0, 1, 2]\n",
    "b = A*x"
   ]
  },
  {
   "cell_type": "markdown",
   "metadata": {
    "nbgrader": {
     "grade": false,
     "grade_id": "cell-5ef3ae2aa92ab37c",
     "locked": true,
     "schema_version": 3,
     "solution": false,
     "task": false
    }
   },
   "source": [
    "A matrix can be transposed by a single parenthesis, `A'`. Note that this does not mutate the array in memory. It just tells functions defined for matrices that it should change how it indexes the matrix's elements."
   ]
  },
  {
   "cell_type": "code",
   "execution_count": 14,
   "metadata": {},
   "outputs": [
    {
     "data": {
      "text/plain": [
       "23"
      ]
     },
     "metadata": {},
     "output_type": "display_data"
    }
   ],
   "source": [
    "c = x'*A*x"
   ]
  },
  {
   "cell_type": "markdown",
   "metadata": {
    "nbgrader": {
     "grade": false,
     "grade_id": "cell-07efb0f4ef442665",
     "locked": true,
     "schema_version": 3,
     "solution": false,
     "task": false
    }
   },
   "source": [
    "## Broadcasting\n",
    "\n",
    "- Reference: [Broadcasting](https://docs.julialang.org/en/v1/manual/arrays/#Broadcasting)\n",
    "\n",
    "You can apply functions to elements in an array by placing a dot in front:"
   ]
  },
  {
   "cell_type": "code",
   "execution_count": 15,
   "metadata": {},
   "outputs": [
    {
     "data": {
      "text/plain": [
       "1×3 Matrix{Int64}:\n",
       " 3  6  9"
      ]
     },
     "metadata": {},
     "output_type": "display_data"
    }
   ],
   "source": [
    " 3 .*[1 2 3]"
   ]
  },
  {
   "cell_type": "markdown",
   "metadata": {
    "nbgrader": {
     "grade": false,
     "grade_id": "cell-31680dda8e3c1644",
     "locked": true,
     "schema_version": 3,
     "solution": false,
     "task": false
    }
   },
   "source": [
    "This also works for named functions:"
   ]
  },
  {
   "cell_type": "code",
   "execution_count": 16,
   "metadata": {},
   "outputs": [
    {
     "data": {
      "text/plain": [
       "3-element Vector{Float64}:\n",
       " 0.8414709848078965\n",
       " 0.9092974268256817\n",
       " 0.1411200080598672"
      ]
     },
     "metadata": {},
     "output_type": "display_data"
    }
   ],
   "source": [
    "sin.([1., 2., 3.])"
   ]
  },
  {
   "cell_type": "markdown",
   "metadata": {
    "nbgrader": {
     "grade": false,
     "grade_id": "cell-86a74a70e6d21c8d",
     "locked": true,
     "schema_version": 3,
     "solution": false,
     "task": false
    }
   },
   "source": [
    "## Iteration\n",
    "\n",
    "- Reference: [Collections](https://docs.julialang.org/en/v1/base/collections/)\n",
    "\n",
    "For-loops are one of the simplest forms of iteration and can be defined in a number of ways. First, the matlab way:"
   ]
  },
  {
   "cell_type": "code",
   "execution_count": 17,
   "metadata": {},
   "outputs": [
    {
     "name": "stdout",
     "output_type": "stream",
     "text": [
      "1\n",
      "3\n",
      "5\n"
     ]
    }
   ],
   "source": [
    "for n = 1:2:5\n",
    "    println(n)\n",
    "end"
   ]
  },
  {
   "cell_type": "markdown",
   "metadata": {
    "nbgrader": {
     "grade": false,
     "grade_id": "cell-f584f54f4771da9f",
     "locked": true,
     "schema_version": 3,
     "solution": false,
     "task": false
    }
   },
   "source": [
    "Next, we can use the `range` command to construct an array of numbers and then use the `in` command to loop over elements in the array:"
   ]
  },
  {
   "cell_type": "code",
   "execution_count": 18,
   "metadata": {},
   "outputs": [
    {
     "name": "stdout",
     "output_type": "stream",
     "text": [
      "0.0\n",
      "4.0\n"
     ]
    }
   ],
   "source": [
    "num_range = range(0, stop=4, length=2)\n",
    "for n in num_range\n",
    "    println(n)\n",
    "end"
   ]
  },
  {
   "cell_type": "markdown",
   "metadata": {
    "nbgrader": {
     "grade": false,
     "grade_id": "cell-3dcbd8a0da6ff030",
     "locked": true,
     "schema_version": 3,
     "solution": false,
     "task": false
    }
   },
   "source": [
    "If you need both the index and the value of the array element, you can use the `enumerate` command:"
   ]
  },
  {
   "cell_type": "code",
   "execution_count": 19,
   "metadata": {},
   "outputs": [
    {
     "name": "stdout",
     "output_type": "stream",
     "text": [
      "1, 0.0\n",
      "2, 4.0\n"
     ]
    }
   ],
   "source": [
    "for (j,n) in enumerate(num_range)\n",
    "    println(\"$j, $n\")\n",
    "end"
   ]
  },
  {
   "cell_type": "markdown",
   "metadata": {
    "nbgrader": {
     "grade": false,
     "grade_id": "cell-009da1637a8bd0de",
     "locked": true,
     "schema_version": 3,
     "solution": false,
     "task": false
    }
   },
   "source": [
    "You may be familiar with \"list comprehension\", which is a shortened form of iterating through a collection:"
   ]
  },
  {
   "cell_type": "code",
   "execution_count": 20,
   "metadata": {},
   "outputs": [
    {
     "data": {
      "text/plain": [
       "2-element Vector{String}:\n",
       " \"n = 0.0\"\n",
       " \"n = 4.0\""
      ]
     },
     "metadata": {},
     "output_type": "display_data"
    }
   ],
   "source": [
    "[\"n = $n\" for n in num_range]"
   ]
  },
  {
   "cell_type": "markdown",
   "metadata": {
    "nbgrader": {
     "grade": false,
     "grade_id": "cell-46cbf7bfca3c6d76",
     "locked": true,
     "schema_version": 3,
     "solution": false,
     "task": false
    }
   },
   "source": [
    "## Control flow\n",
    "\n",
    "- References: [Control flow](https://docs.julialang.org/en/v1/manual/control-flow/), [Logical Operators](https://docs.julialang.org/en/v1/manual/missing/#Logical-operators)\n",
    "\n",
    "Control flow refers to redirecting how a compiler goes through a program. Instead of traversing it line-by-line, things like `if-else` statements can make a compiler skip steps. These require logical operations: you can use `==` to check if two variables have the same value, `===` to check if they are actually the same object (i.e., same memory reference) and `!=` to check if they're not equal."
   ]
  },
  {
   "cell_type": "code",
   "execution_count": 21,
   "metadata": {},
   "outputs": [
    {
     "name": "stdout",
     "output_type": "stream",
     "text": [
      "Positive\n"
     ]
    }
   ],
   "source": [
    "a = 3.0\n",
    "if a < 0 \n",
    "    println(\"Negative\")\n",
    "elseif a == 0\n",
    "    println(\"0.0\")\n",
    "else \n",
    "    println(\"Positive\")\n",
    "end"
   ]
  },
  {
   "cell_type": "markdown",
   "metadata": {
    "nbgrader": {
     "grade": false,
     "grade_id": "cell-44cf3744dc8b7ea8",
     "locked": true,
     "schema_version": 3,
     "solution": false,
     "task": false
    }
   },
   "source": [
    "Simple `if-else` statements can often be replaced by `ternary` checks. Essentially, you ask a question (a logical operation followed by `?`) and then tell the program what to do when the answer is yes (written immediately after the question) or no (written after the yes-answer followed by a `:`)."
   ]
  },
  {
   "cell_type": "code",
   "execution_count": 22,
   "metadata": {},
   "outputs": [
    {
     "name": "stdout",
     "output_type": "stream",
     "text": [
      "Positive\n"
     ]
    }
   ],
   "source": [
    "a > 0 ? println(\"Positive\") : println(\"Not positive\")"
   ]
  },
  {
   "cell_type": "markdown",
   "metadata": {
    "nbgrader": {
     "grade": false,
     "grade_id": "cell-2bd8fafa975e39df",
     "locked": true,
     "schema_version": 3,
     "solution": false,
     "task": false
    }
   },
   "source": [
    "## Functions\n",
    "\n",
    "- References: [Functions](https://docs.julialang.org/en/v1/manual/functions/), [Mutation](https://docs.julialang.org/en/v1/manual/style-guide/#bang-convention)\n",
    "\n",
    "Function and expressions are a core component of the julia language. Its \"multiple dispatch\" feature means that you can define multiple functions with the same name but with behaviour that depends on the input argument types. When you're starting out, you may not notice this so much, but you will start to appreciate this feature tremendously when you begin to professionally develop software."
   ]
  },
  {
   "cell_type": "code",
   "execution_count": 23,
   "metadata": {},
   "outputs": [
    {
     "data": {
      "text/plain": [
       "\"Bah!\""
      ]
     },
     "metadata": {},
     "output_type": "display_data"
    }
   ],
   "source": [
    "function foo(bar::Float64)\n",
    "    message = \"Boo!\"\n",
    "    return message\n",
    "end\n",
    "\n",
    "function foo(bar::Integer)\n",
    "    message = \"Bah!\"\n",
    "    return message\n",
    "end\n",
    "\n",
    "foo(1)"
   ]
  },
  {
   "cell_type": "markdown",
   "metadata": {
    "nbgrader": {
     "grade": false,
     "grade_id": "cell-89334d50f79b3b6e",
     "locked": true,
     "schema_version": 3,
     "solution": false,
     "task": false
    }
   },
   "source": [
    "Note that the `return` argument does not need to be at the end of a function ([the return keyword](https://docs.julialang.org/en/v1/manual/functions/#The-return-Keyword)).\n",
    "\n",
    "You don't actually need the `function` keyword if you have simple enough functions:"
   ]
  },
  {
   "cell_type": "code",
   "execution_count": 24,
   "metadata": {},
   "outputs": [
    {
     "data": {
      "text/plain": [
       "0.25"
      ]
     },
     "metadata": {},
     "output_type": "display_data"
    }
   ],
   "source": [
    "fn(x::Number) = 1/x\n",
    "fn(4)"
   ]
  },
  {
   "cell_type": "markdown",
   "metadata": {
    "nbgrader": {
     "grade": false,
     "grade_id": "cell-52be8f7c7644d2ae",
     "locked": true,
     "schema_version": 3,
     "solution": false,
     "task": false
    }
   },
   "source": [
    "You can add keyword arguments to a function, which are input arguments with default values:"
   ]
  },
  {
   "cell_type": "code",
   "execution_count": 25,
   "metadata": {},
   "outputs": [
    {
     "data": {
      "text/plain": [
       "1×2 Matrix{Float64}:\n",
       " 1.0  0.333333"
      ]
     },
     "metadata": {},
     "output_type": "display_data"
    }
   ],
   "source": [
    "fn(; number::Number = 1) = 1/number\n",
    "[fn() fn(number=3)]"
   ]
  },
  {
   "cell_type": "markdown",
   "metadata": {
    "nbgrader": {
     "grade": false,
     "grade_id": "cell-fdc3777677dd70d6",
     "locked": true,
     "schema_version": 3,
     "solution": false,
     "task": false
    }
   },
   "source": [
    "Functions that modify their input arguments instead of creating new output variables are typically marked with an `!`. Below I have defined an unsorted vector and I call `sort` to sort it in increasing order. If I call the sort function and the original vector, then they will be different:"
   ]
  },
  {
   "cell_type": "code",
   "execution_count": 26,
   "metadata": {},
   "outputs": [
    {
     "data": {
      "text/plain": [
       "3×2 Matrix{Int64}:\n",
       " 1  1\n",
       " 2  3\n",
       " 3  2"
      ]
     },
     "metadata": {},
     "output_type": "display_data"
    }
   ],
   "source": [
    "x = [1, 3, 2]\n",
    "[sort(x) x]"
   ]
  },
  {
   "cell_type": "markdown",
   "metadata": {
    "nbgrader": {
     "grade": false,
     "grade_id": "cell-4d68be5af3628fca",
     "locked": true,
     "schema_version": 3,
     "solution": false,
     "task": false
    }
   },
   "source": [
    "But if I call the `sort!` function and the original vector, you'll see that the original vector is now also sorted."
   ]
  },
  {
   "cell_type": "code",
   "execution_count": 27,
   "metadata": {},
   "outputs": [
    {
     "data": {
      "text/plain": [
       "3×2 Matrix{Int64}:\n",
       " 1  1\n",
       " 2  2\n",
       " 3  3"
      ]
     },
     "metadata": {},
     "output_type": "display_data"
    }
   ],
   "source": [
    "[sort!(x) x]"
   ]
  },
  {
   "cell_type": "markdown",
   "metadata": {
    "nbgrader": {
     "grade": false,
     "grade_id": "cell-e1a8e25a1191dbc5",
     "locked": true,
     "schema_version": 3,
     "solution": false,
     "task": false
    }
   },
   "source": [
    "## Software packages\n",
    "\n",
    "- Reference: [Packages and modules](https://docs.julialang.org/en/v1/manual/faq/#Packages-and-Modules)\n",
    "\n",
    "Just like with Python, there are thousands of additional software packages that can be imported to provide specific functionalities. You'll encounter some of the most common ones throughout the course. \n",
    "\n",
    "We have provided an \"environment\" that automatically downloads all the packages you need throughout the course. The three lines of code below point to the environment specification itself, a Project.toml file containing a list of packages, and construct the environment. If the specified packages are not installed, then these will be automatically added. This will take a bit of time the first time you run it, but it will only take a few seconds afterwards."
   ]
  },
  {
   "cell_type": "code",
   "execution_count": 28,
   "metadata": {
    "nbgrader": {
     "grade": false,
     "grade_id": "cell-108da214ac7e1c99",
     "locked": true,
     "schema_version": 3,
     "solution": false,
     "task": false
    }
   },
   "outputs": [
    {
     "name": "stderr",
     "output_type": "stream",
     "text": [
      "\u001b[32m\u001b[1m  Activating\u001b[22m\u001b[39m project at `~/syndr/Wouter/Onderwijs/Vakken/tueindhoven/5SSD0 - Bayesian Machine Learning & Information Processing/2024-2025 Q2/BMLIP/lessons`\n"
     ]
    }
   ],
   "source": [
    "using Pkg\n",
    "Pkg.activate(\"..\")\n",
    "Pkg.instantiate();"
   ]
  },
  {
   "cell_type": "markdown",
   "metadata": {
    "nbgrader": {
     "grade": false,
     "grade_id": "cell-7697dde5851e63b9",
     "locked": true,
     "schema_version": 3,
     "solution": false,
     "task": false
    }
   },
   "source": [
    "Below are some examples of importing packages and using their added functionalities."
   ]
  },
  {
   "cell_type": "code",
   "execution_count": 29,
   "metadata": {},
   "outputs": [
    {
     "data": {
      "text/plain": [
       "Eigen{Float64, Float64, Matrix{Float64}, Vector{Float64}}\n",
       "values:\n",
       "2-element Vector{Float64}:\n",
       " -0.6853720883753125\n",
       "  4.085372088375313\n",
       "vectors:\n",
       "2×2 Matrix{Float64}:\n",
       "  0.476976  -0.878916\n",
       " -0.878916  -0.476976"
      ]
     },
     "metadata": {},
     "output_type": "display_data"
    }
   ],
   "source": [
    "using LinearAlgebra\n",
    "\n",
    "E,V = eigen([3. 2.;2. 0.4])"
   ]
  },
  {
   "cell_type": "code",
   "execution_count": 30,
   "metadata": {},
   "outputs": [
    {
     "data": {
      "text/html": [
       "<div><div style = \"float: left;\"><span>1×3 DataFrame</span></div><div style = \"clear: both;\"></div></div><div class = \"data-frame\" style = \"overflow-x: scroll;\"><table class = \"data-frame\" style = \"margin-bottom: 6px;\"><thead><tr class = \"header\"><th class = \"rowNumber\" style = \"font-weight: bold; text-align: right;\">Row</th><th style = \"text-align: left;\">a</th><th style = \"text-align: left;\">b</th><th style = \"text-align: left;\">c</th></tr><tr class = \"subheader headerLastRow\"><th class = \"rowNumber\" style = \"font-weight: bold; text-align: right;\"></th><th title = \"Int64\" style = \"text-align: left;\">Int64</th><th title = \"Int64\" style = \"text-align: left;\">Int64</th><th title = \"Int64\" style = \"text-align: left;\">Int64</th></tr></thead><tbody><tr><td class = \"rowNumber\" style = \"font-weight: bold; text-align: right;\">1</td><td style = \"text-align: right;\">1</td><td style = \"text-align: right;\">2</td><td style = \"text-align: right;\">3</td></tr></tbody></table></div>"
      ],
      "text/latex": [
       "\\begin{tabular}{r|ccc}\n",
       "\t& a & b & c\\\\\n",
       "\t\\hline\n",
       "\t& Int64 & Int64 & Int64\\\\\n",
       "\t\\hline\n",
       "\t1 & 1 & 2 & 3 \\\\\n",
       "\\end{tabular}\n"
      ],
      "text/plain": [
       "\u001b[1m1×3 DataFrame\u001b[0m\n",
       "\u001b[1m Row \u001b[0m│\u001b[1m a     \u001b[0m\u001b[1m b     \u001b[0m\u001b[1m c     \u001b[0m\n",
       "     │\u001b[90m Int64 \u001b[0m\u001b[90m Int64 \u001b[0m\u001b[90m Int64 \u001b[0m\n",
       "─────┼─────────────────────\n",
       "   1 │     1      2      3"
      ]
     },
     "metadata": {},
     "output_type": "display_data"
    }
   ],
   "source": [
    "using DataFrames\n",
    "\n",
    "x = Dict(\n",
    "    \"a\" => 1,\n",
    "    \"b\" => 2,\n",
    "    \"c\" => 3\n",
    ")\n",
    "\n",
    "df = DataFrame(x)"
   ]
  },
  {
   "cell_type": "code",
   "execution_count": 31,
   "metadata": {},
   "outputs": [
    {
     "data": {
      "text/plain": [
       "0.10798193302637613"
      ]
     },
     "metadata": {},
     "output_type": "display_data"
    }
   ],
   "source": [
    "using Distributions\n",
    "\n",
    "px = Normal(1.0, 0.5)\n",
    "pdf(px, 0.0)"
   ]
  },
  {
   "cell_type": "markdown",
   "metadata": {
    "nbgrader": {
     "grade": false,
     "grade_id": "cell-25086ec01e8644ce",
     "locked": true,
     "schema_version": 3,
     "solution": false,
     "task": false
    }
   },
   "source": [
    "## Visualization\n",
    "\n",
    "- Reference: [Plots.jl](https://github.com/JuliaPlots/Plots.jl)\n",
    "\n",
    "Plots.jl provides a common interface to call various other visualization backends (GR, Matplotlib, PGFPlotsX, Plotly, etc.). In other words, commands like `plot(..)` will be translated into the appropriate command for the backend. So, it does not re-invent the wheel but rather gives you access to the already enormous field of visualization tools.\n",
    "\n",
    "Below are a few examples of the most common visualization commands you'll see throughout the course. The core principle is to use a `plot` type as base command and then provide keyword arguments (in `String`, `Number` or `Symbol` type) to apply variations."
   ]
  },
  {
   "cell_type": "code",
   "execution_count": 32,
   "metadata": {},
   "outputs": [
    {
     "data": {
      "image/png": "[encoded data removed]",
      "image/svg+xml": [
       "<?xml version=\"1.0\" encoding=\"utf-8\"?>\n",
       "<svg xmlns=\"http://www.w3.org/2000/svg\" xmlns:xlink=\"http://www.w3.org/1999/xlink\" width=\"600\" height=\"400\" viewBox=\"0 0 2400 1600\">\n",
       "<defs>\n",
       "  <clipPath id=\"clip140\">\n",
       "    <rect x=\"0\" y=\"0\" width=\"2400\" height=\"1600\"/>\n",
       "  </clipPath>\n",
       "</defs>\n",
       "<path clip-path=\"url(#clip140)\" d=\"M0 1600 L2400 1600 L2400 0 L0 0  Z\" fill=\"#ffffff\" fill-rule=\"evenodd\" fill-opacity=\"1\"/>\n",
       "<defs>\n",
       "  <clipPath id=\"clip141\">\n",
       "    <rect x=\"480\" y=\"0\" width=\"1681\" height=\"1600\"/>\n",
       "  </clipPath>\n",
       "</defs>\n",
       "<path clip-path=\"url(#clip140)\" d=\"M219.866 1423.18 L2352.76 1423.18 L2352.76 47.2441 L219.866 47.2441  Z\" fill=\"#ffffff\" fill-rule=\"evenodd\" fill-opacity=\"1\"/>\n",
       "<defs>\n",
       "  <clipPath id=\"clip142\">\n",
       "    <rect x=\"219\" y=\"47\" width=\"2134\" height=\"1377\"/>\n",
       "  </clipPath>\n",
       "</defs>\n",
       "<polyline clip-path=\"url(#clip142)\" style=\"stroke:#000000; stroke-linecap:round; stroke-linejoin:round; stroke-width:2; stroke-opacity:0.1; fill:none\" points=\"280.231,1423.18 280.231,47.2441 \"/>\n",
       "<polyline clip-path=\"url(#clip142)\" style=\"stroke:#000000; stroke-linecap:round; stroke-linejoin:round; stroke-width:2; stroke-opacity:0.1; fill:none\" points=\"615.591,1423.18 615.591,47.2441 \"/>\n",
       "<polyline clip-path=\"url(#clip142)\" style=\"stroke:#000000; stroke-linecap:round; stroke-linejoin:round; stroke-width:2; stroke-opacity:0.1; fill:none\" points=\"950.951,1423.18 950.951,47.2441 \"/>\n",
       "<polyline clip-path=\"url(#clip142)\" style=\"stroke:#000000; stroke-linecap:round; stroke-linejoin:round; stroke-width:2; stroke-opacity:0.1; fill:none\" points=\"1286.31,1423.18 1286.31,47.2441 \"/>\n",
       "<polyline clip-path=\"url(#clip142)\" style=\"stroke:#000000; stroke-linecap:round; stroke-linejoin:round; stroke-width:2; stroke-opacity:0.1; fill:none\" points=\"1621.67,1423.18 1621.67,47.2441 \"/>\n",
       "<polyline clip-path=\"url(#clip142)\" style=\"stroke:#000000; stroke-linecap:round; stroke-linejoin:round; stroke-width:2; stroke-opacity:0.1; fill:none\" points=\"1957.03,1423.18 1957.03,47.2441 \"/>\n",
       "<polyline clip-path=\"url(#clip142)\" style=\"stroke:#000000; stroke-linecap:round; stroke-linejoin:round; stroke-width:2; stroke-opacity:0.1; fill:none\" points=\"2292.39,1423.18 2292.39,47.2441 \"/>\n",
       "<polyline clip-path=\"url(#clip142)\" style=\"stroke:#000000; stroke-linecap:round; stroke-linejoin:round; stroke-width:2; stroke-opacity:0.1; fill:none\" points=\"219.866,1384.24 2352.76,1384.24 \"/>\n",
       "<polyline clip-path=\"url(#clip142)\" style=\"stroke:#000000; stroke-linecap:round; stroke-linejoin:round; stroke-width:2; stroke-opacity:0.1; fill:none\" points=\"219.866,1058.86 2352.76,1058.86 \"/>\n",
       "<polyline clip-path=\"url(#clip142)\" style=\"stroke:#000000; stroke-linecap:round; stroke-linejoin:round; stroke-width:2; stroke-opacity:0.1; fill:none\" points=\"219.866,733.491 2352.76,733.491 \"/>\n",
       "<polyline clip-path=\"url(#clip142)\" style=\"stroke:#000000; stroke-linecap:round; stroke-linejoin:round; stroke-width:2; stroke-opacity:0.1; fill:none\" points=\"219.866,408.118 2352.76,408.118 \"/>\n",
       "<polyline clip-path=\"url(#clip142)\" style=\"stroke:#000000; stroke-linecap:round; stroke-linejoin:round; stroke-width:2; stroke-opacity:0.1; fill:none\" points=\"219.866,82.7441 2352.76,82.7441 \"/>\n",
       "<polyline clip-path=\"url(#clip140)\" style=\"stroke:#000000; stroke-linecap:round; stroke-linejoin:round; stroke-width:4; stroke-opacity:1; fill:none\" points=\"219.866,1423.18 2352.76,1423.18 \"/>\n",
       "<polyline clip-path=\"url(#clip140)\" style=\"stroke:#000000; stroke-linecap:round; stroke-linejoin:round; stroke-width:4; stroke-opacity:1; fill:none\" points=\"280.231,1423.18 280.231,1404.28 \"/>\n",
       "<polyline clip-path=\"url(#clip140)\" style=\"stroke:#000000; stroke-linecap:round; stroke-linejoin:round; stroke-width:4; stroke-opacity:1; fill:none\" points=\"615.591,1423.18 615.591,1404.28 \"/>\n",
       "<polyline clip-path=\"url(#clip140)\" style=\"stroke:#000000; stroke-linecap:round; stroke-linejoin:round; stroke-width:4; stroke-opacity:1; fill:none\" points=\"950.951,1423.18 950.951,1404.28 \"/>\n",
       "<polyline clip-path=\"url(#clip140)\" style=\"stroke:#000000; stroke-linecap:round; stroke-linejoin:round; stroke-width:4; stroke-opacity:1; fill:none\" points=\"1286.31,1423.18 1286.31,1404.28 \"/>\n",
       "<polyline clip-path=\"url(#clip140)\" style=\"stroke:#000000; stroke-linecap:round; stroke-linejoin:round; stroke-width:4; stroke-opacity:1; fill:none\" points=\"1621.67,1423.18 1621.67,1404.28 \"/>\n",
       "<polyline clip-path=\"url(#clip140)\" style=\"stroke:#000000; stroke-linecap:round; stroke-linejoin:round; stroke-width:4; stroke-opacity:1; fill:none\" points=\"1957.03,1423.18 1957.03,1404.28 \"/>\n",
       "<polyline clip-path=\"url(#clip140)\" style=\"stroke:#000000; stroke-linecap:round; stroke-linejoin:round; stroke-width:4; stroke-opacity:1; fill:none\" points=\"2292.39,1423.18 2292.39,1404.28 \"/>\n",
       "<path clip-path=\"url(#clip140)\" d=\"M249.699 1468.75 L279.375 1468.75 L279.375 1472.69 L249.699 1472.69 L249.699 1468.75 Z\" fill=\"#000000\" fill-rule=\"nonzero\" fill-opacity=\"1\" /><path clip-path=\"url(#clip140)\" d=\"M303.634 1466.95 Q306.99 1467.66 308.865 1469.93 Q310.763 1472.2 310.763 1475.53 Q310.763 1480.65 307.245 1483.45 Q303.726 1486.25 297.245 1486.25 Q295.069 1486.25 292.754 1485.81 Q290.462 1485.39 288.009 1484.54 L288.009 1480.02 Q289.953 1481.16 292.268 1481.74 Q294.583 1482.32 297.106 1482.32 Q301.504 1482.32 303.796 1480.58 Q306.111 1478.84 306.111 1475.53 Q306.111 1472.48 303.958 1470.77 Q301.828 1469.03 298.009 1469.03 L293.981 1469.03 L293.981 1465.19 L298.194 1465.19 Q301.643 1465.19 303.472 1463.82 Q305.3 1462.43 305.3 1459.84 Q305.3 1457.18 303.402 1455.77 Q301.527 1454.33 298.009 1454.33 Q296.087 1454.33 293.888 1454.75 Q291.689 1455.16 289.05 1456.04 L289.05 1451.88 Q291.712 1451.14 294.027 1450.77 Q296.365 1450.39 298.425 1450.39 Q303.749 1450.39 306.851 1452.83 Q309.953 1455.23 309.953 1459.35 Q309.953 1462.22 308.31 1464.21 Q306.666 1466.18 303.634 1466.95 Z\" fill=\"#000000\" fill-rule=\"nonzero\" fill-opacity=\"1\" /><path clip-path=\"url(#clip140)\" d=\"M585.533 1468.75 L615.209 1468.75 L615.209 1472.69 L585.533 1472.69 L585.533 1468.75 Z\" fill=\"#000000\" fill-rule=\"nonzero\" fill-opacity=\"1\" /><path clip-path=\"url(#clip140)\" d=\"M629.329 1481.64 L645.649 1481.64 L645.649 1485.58 L623.704 1485.58 L623.704 1481.64 Q626.366 1478.89 630.95 1474.26 Q635.556 1469.61 636.737 1468.27 Q638.982 1465.74 639.862 1464.01 Q640.765 1462.25 640.765 1460.56 Q640.765 1457.8 638.82 1456.07 Q636.899 1454.33 633.797 1454.33 Q631.598 1454.33 629.144 1455.09 Q626.714 1455.86 623.936 1457.41 L623.936 1452.69 Q626.76 1451.55 629.214 1450.97 Q631.667 1450.39 633.704 1450.39 Q639.075 1450.39 642.269 1453.08 Q645.464 1455.77 645.464 1460.26 Q645.464 1462.39 644.653 1464.31 Q643.866 1466.2 641.76 1468.8 Q641.181 1469.47 638.079 1472.69 Q634.978 1475.88 629.329 1481.64 Z\" fill=\"#000000\" fill-rule=\"nonzero\" fill-opacity=\"1\" /><path clip-path=\"url(#clip140)\" d=\"M920.708 1468.75 L950.384 1468.75 L950.384 1472.69 L920.708 1472.69 L920.708 1468.75 Z\" fill=\"#000000\" fill-rule=\"nonzero\" fill-opacity=\"1\" /><path clip-path=\"url(#clip140)\" d=\"M961.287 1481.64 L968.926 1481.64 L968.926 1455.28 L960.615 1456.95 L960.615 1452.69 L968.879 1451.02 L973.555 1451.02 L973.555 1481.64 L981.194 1481.64 L981.194 1485.58 L961.287 1485.58 L961.287 1481.64 Z\" fill=\"#000000\" fill-rule=\"nonzero\" fill-opacity=\"1\" /><path clip-path=\"url(#clip140)\" d=\"M1286.31 1454.1 Q1282.7 1454.1 1280.87 1457.66 Q1279.07 1461.2 1279.07 1468.33 Q1279.07 1475.44 1280.87 1479.01 Q1282.7 1482.55 1286.31 1482.55 Q1289.95 1482.55 1291.75 1479.01 Q1293.58 1475.44 1293.58 1468.33 Q1293.58 1461.2 1291.75 1457.66 Q1289.95 1454.1 1286.31 1454.1 M1286.31 1450.39 Q1292.12 1450.39 1295.18 1455 Q1298.26 1459.58 1298.26 1468.33 Q1298.26 1477.06 1295.18 1481.67 Q1292.12 1486.25 1286.31 1486.25 Q1280.5 1486.25 1277.42 1481.67 Q1274.37 1477.06 1274.37 1468.33 Q1274.37 1459.58 1277.42 1455 Q1280.5 1450.39 1286.31 1450.39 Z\" fill=\"#000000\" fill-rule=\"nonzero\" fill-opacity=\"1\" /><path clip-path=\"url(#clip140)\" d=\"M1612.05 1481.64 L1619.69 1481.64 L1619.69 1455.28 L1611.38 1456.95 L1611.38 1452.69 L1619.65 1451.02 L1624.32 1451.02 L1624.32 1481.64 L1631.96 1481.64 L1631.96 1485.58 L1612.05 1485.58 L1612.05 1481.64 Z\" fill=\"#000000\" fill-rule=\"nonzero\" fill-opacity=\"1\" /><path clip-path=\"url(#clip140)\" d=\"M1951.68 1481.64 L1968 1481.64 L1968 1485.58 L1946.06 1485.58 L1946.06 1481.64 Q1948.72 1478.89 1953.3 1474.26 Q1957.91 1469.61 1959.09 1468.27 Q1961.34 1465.74 1962.22 1464.01 Q1963.12 1462.25 1963.12 1460.56 Q1963.12 1457.8 1961.17 1456.07 Q1959.25 1454.33 1956.15 1454.33 Q1953.95 1454.33 1951.5 1455.09 Q1949.07 1455.86 1946.29 1457.41 L1946.29 1452.69 Q1949.11 1451.55 1951.57 1450.97 Q1954.02 1450.39 1956.06 1450.39 Q1961.43 1450.39 1964.62 1453.08 Q1967.82 1455.77 1967.82 1460.26 Q1967.82 1462.39 1967.01 1464.31 Q1966.22 1466.2 1964.11 1468.8 Q1963.54 1469.47 1960.43 1472.69 Q1957.33 1475.88 1951.68 1481.64 Z\" fill=\"#000000\" fill-rule=\"nonzero\" fill-opacity=\"1\" /><path clip-path=\"url(#clip140)\" d=\"M2296.64 1466.95 Q2300 1467.66 2301.87 1469.93 Q2303.77 1472.2 2303.77 1475.53 Q2303.77 1480.65 2300.25 1483.45 Q2296.73 1486.25 2290.25 1486.25 Q2288.07 1486.25 2285.76 1485.81 Q2283.47 1485.39 2281.01 1484.54 L2281.01 1480.02 Q2282.96 1481.16 2285.27 1481.74 Q2287.59 1482.32 2290.11 1482.32 Q2294.51 1482.32 2296.8 1480.58 Q2299.12 1478.84 2299.12 1475.53 Q2299.12 1472.48 2296.96 1470.77 Q2294.83 1469.03 2291.01 1469.03 L2286.99 1469.03 L2286.99 1465.19 L2291.2 1465.19 Q2294.65 1465.19 2296.48 1463.82 Q2298.31 1462.43 2298.31 1459.84 Q2298.31 1457.18 2296.41 1455.77 Q2294.53 1454.33 2291.01 1454.33 Q2289.09 1454.33 2286.89 1454.75 Q2284.69 1455.16 2282.06 1456.04 L2282.06 1451.88 Q2284.72 1451.14 2287.03 1450.77 Q2289.37 1450.39 2291.43 1450.39 Q2296.75 1450.39 2299.86 1452.83 Q2302.96 1455.23 2302.96 1459.35 Q2302.96 1462.22 2301.31 1464.21 Q2299.67 1466.18 2296.64 1466.95 Z\" fill=\"#000000\" fill-rule=\"nonzero\" fill-opacity=\"1\" /><path clip-path=\"url(#clip140)\" d=\"M1302.93 1532.4 L1290.04 1549.74 L1303.59 1568.04 L1296.69 1568.04 L1286.31 1554.04 L1275.93 1568.04 L1269.03 1568.04 L1282.87 1549.39 L1270.21 1532.4 L1277.11 1532.4 L1286.57 1545.1 L1296.02 1532.4 L1302.93 1532.4 Z\" fill=\"#000000\" fill-rule=\"nonzero\" fill-opacity=\"1\" /><polyline clip-path=\"url(#clip140)\" style=\"stroke:#000000; stroke-linecap:round; stroke-linejoin:round; stroke-width:4; stroke-opacity:1; fill:none\" points=\"219.866,1423.18 219.866,47.2441 \"/>\n",
       "<polyline clip-path=\"url(#clip140)\" style=\"stroke:#000000; stroke-linecap:round; stroke-linejoin:round; stroke-width:4; stroke-opacity:1; fill:none\" points=\"219.866,1384.24 238.764,1384.24 \"/>\n",
       "<polyline clip-path=\"url(#clip140)\" style=\"stroke:#000000; stroke-linecap:round; stroke-linejoin:round; stroke-width:4; stroke-opacity:1; fill:none\" points=\"219.866,1058.86 238.764,1058.86 \"/>\n",
       "<polyline clip-path=\"url(#clip140)\" style=\"stroke:#000000; stroke-linecap:round; stroke-linejoin:round; stroke-width:4; stroke-opacity:1; fill:none\" points=\"219.866,733.491 238.764,733.491 \"/>\n",
       "<polyline clip-path=\"url(#clip140)\" style=\"stroke:#000000; stroke-linecap:round; stroke-linejoin:round; stroke-width:4; stroke-opacity:1; fill:none\" points=\"219.866,408.118 238.764,408.118 \"/>\n",
       "<polyline clip-path=\"url(#clip140)\" style=\"stroke:#000000; stroke-linecap:round; stroke-linejoin:round; stroke-width:4; stroke-opacity:1; fill:none\" points=\"219.866,82.7441 238.764,82.7441 \"/>\n",
       "<path clip-path=\"url(#clip140)\" d=\"M126.691 1370.04 Q123.08 1370.04 121.251 1373.6 Q119.445 1377.14 119.445 1384.27 Q119.445 1391.38 121.251 1394.94 Q123.08 1398.49 126.691 1398.49 Q130.325 1398.49 132.13 1394.94 Q133.959 1391.38 133.959 1384.27 Q133.959 1377.14 132.13 1373.6 Q130.325 1370.04 126.691 1370.04 M126.691 1366.33 Q132.501 1366.33 135.556 1370.94 Q138.635 1375.52 138.635 1384.27 Q138.635 1393 135.556 1397.61 Q132.501 1402.19 126.691 1402.19 Q120.88 1402.19 117.802 1397.61 Q114.746 1393 114.746 1384.27 Q114.746 1375.52 117.802 1370.94 Q120.88 1366.33 126.691 1366.33 Z\" fill=\"#000000\" fill-rule=\"nonzero\" fill-opacity=\"1\" /><path clip-path=\"url(#clip140)\" d=\"M146.853 1395.64 L151.737 1395.64 L151.737 1401.52 L146.853 1401.52 L146.853 1395.64 Z\" fill=\"#000000\" fill-rule=\"nonzero\" fill-opacity=\"1\" /><path clip-path=\"url(#clip140)\" d=\"M171.922 1370.04 Q168.311 1370.04 166.482 1373.6 Q164.677 1377.14 164.677 1384.27 Q164.677 1391.38 166.482 1394.94 Q168.311 1398.49 171.922 1398.49 Q175.556 1398.49 177.362 1394.94 Q179.19 1391.38 179.19 1384.27 Q179.19 1377.14 177.362 1373.6 Q175.556 1370.04 171.922 1370.04 M171.922 1366.33 Q177.732 1366.33 180.788 1370.94 Q183.866 1375.52 183.866 1384.27 Q183.866 1393 180.788 1397.61 Q177.732 1402.19 171.922 1402.19 Q166.112 1402.19 163.033 1397.61 Q159.978 1393 159.978 1384.27 Q159.978 1375.52 163.033 1370.94 Q166.112 1366.33 171.922 1366.33 Z\" fill=\"#000000\" fill-rule=\"nonzero\" fill-opacity=\"1\" /><path clip-path=\"url(#clip140)\" d=\"M128.288 1044.66 Q124.677 1044.66 122.848 1048.23 Q121.043 1051.77 121.043 1058.9 Q121.043 1066.01 122.848 1069.57 Q124.677 1073.11 128.288 1073.11 Q131.922 1073.11 133.728 1069.57 Q135.556 1066.01 135.556 1058.9 Q135.556 1051.77 133.728 1048.23 Q131.922 1044.66 128.288 1044.66 M128.288 1040.96 Q134.098 1040.96 137.154 1045.57 Q140.232 1050.15 140.232 1058.9 Q140.232 1067.63 137.154 1072.23 Q134.098 1076.82 128.288 1076.82 Q122.478 1076.82 119.399 1072.23 Q116.343 1067.63 116.343 1058.9 Q116.343 1050.15 119.399 1045.57 Q122.478 1040.96 128.288 1040.96 Z\" fill=\"#000000\" fill-rule=\"nonzero\" fill-opacity=\"1\" /><path clip-path=\"url(#clip140)\" d=\"M148.45 1070.27 L153.334 1070.27 L153.334 1076.14 L148.45 1076.14 L148.45 1070.27 Z\" fill=\"#000000\" fill-rule=\"nonzero\" fill-opacity=\"1\" /><path clip-path=\"url(#clip140)\" d=\"M167.547 1072.21 L183.866 1072.21 L183.866 1076.14 L161.922 1076.14 L161.922 1072.21 Q164.584 1069.45 169.167 1064.83 Q173.774 1060.17 174.954 1058.83 Q177.2 1056.31 178.079 1054.57 Q178.982 1052.81 178.982 1051.12 Q178.982 1048.37 177.038 1046.63 Q175.116 1044.89 172.014 1044.89 Q169.815 1044.89 167.362 1045.66 Q164.931 1046.42 162.153 1047.97 L162.153 1043.25 Q164.977 1042.12 167.431 1041.54 Q169.885 1040.96 171.922 1040.96 Q177.292 1040.96 180.487 1043.64 Q183.681 1046.33 183.681 1050.82 Q183.681 1052.95 182.871 1054.87 Q182.084 1056.77 179.977 1059.36 Q179.399 1060.03 176.297 1063.25 Q173.195 1066.45 167.547 1072.21 Z\" fill=\"#000000\" fill-rule=\"nonzero\" fill-opacity=\"1\" /><path clip-path=\"url(#clip140)\" d=\"M126.205 719.29 Q122.593 719.29 120.765 722.855 Q118.959 726.396 118.959 733.526 Q118.959 740.632 120.765 744.197 Q122.593 747.739 126.205 747.739 Q129.839 747.739 131.644 744.197 Q133.473 740.632 133.473 733.526 Q133.473 726.396 131.644 722.855 Q129.839 719.29 126.205 719.29 M126.205 715.586 Q132.015 715.586 135.07 720.193 Q138.149 724.776 138.149 733.526 Q138.149 742.253 135.07 746.859 Q132.015 751.442 126.205 751.442 Q120.394 751.442 117.316 746.859 Q114.26 742.253 114.26 733.526 Q114.26 724.776 117.316 720.193 Q120.394 715.586 126.205 715.586 Z\" fill=\"#000000\" fill-rule=\"nonzero\" fill-opacity=\"1\" /><path clip-path=\"url(#clip140)\" d=\"M146.366 744.892 L151.251 744.892 L151.251 750.771 L146.366 750.771 L146.366 744.892 Z\" fill=\"#000000\" fill-rule=\"nonzero\" fill-opacity=\"1\" /><path clip-path=\"url(#clip140)\" d=\"M174.283 720.285 L162.477 738.734 L174.283 738.734 L174.283 720.285 M173.056 716.211 L178.936 716.211 L178.936 738.734 L183.866 738.734 L183.866 742.623 L178.936 742.623 L178.936 750.771 L174.283 750.771 L174.283 742.623 L158.681 742.623 L158.681 738.109 L173.056 716.211 Z\" fill=\"#000000\" fill-rule=\"nonzero\" fill-opacity=\"1\" /><path clip-path=\"url(#clip140)\" d=\"M126.529 393.916 Q122.918 393.916 121.089 397.481 Q119.283 401.023 119.283 408.152 Q119.283 415.259 121.089 418.824 Q122.918 422.365 126.529 422.365 Q130.163 422.365 131.968 418.824 Q133.797 415.259 133.797 408.152 Q133.797 401.023 131.968 397.481 Q130.163 393.916 126.529 393.916 M126.529 390.213 Q132.339 390.213 135.394 394.819 Q138.473 399.402 138.473 408.152 Q138.473 416.879 135.394 421.486 Q132.339 426.069 126.529 426.069 Q120.718 426.069 117.64 421.486 Q114.584 416.879 114.584 408.152 Q114.584 399.402 117.64 394.819 Q120.718 390.213 126.529 390.213 Z\" fill=\"#000000\" fill-rule=\"nonzero\" fill-opacity=\"1\" /><path clip-path=\"url(#clip140)\" d=\"M146.691 419.518 L151.575 419.518 L151.575 425.398 L146.691 425.398 L146.691 419.518 Z\" fill=\"#000000\" fill-rule=\"nonzero\" fill-opacity=\"1\" /><path clip-path=\"url(#clip140)\" d=\"M172.339 406.254 Q169.19 406.254 167.339 408.407 Q165.51 410.56 165.51 414.31 Q165.51 418.037 167.339 420.213 Q169.19 422.365 172.339 422.365 Q175.487 422.365 177.315 420.213 Q179.167 418.037 179.167 414.31 Q179.167 410.56 177.315 408.407 Q175.487 406.254 172.339 406.254 M181.621 391.602 L181.621 395.861 Q179.862 395.027 178.056 394.588 Q176.274 394.148 174.514 394.148 Q169.885 394.148 167.431 397.273 Q165.001 400.398 164.653 406.717 Q166.019 404.703 168.079 403.639 Q170.139 402.551 172.616 402.551 Q177.825 402.551 180.834 405.722 Q183.866 408.87 183.866 414.31 Q183.866 419.634 180.718 422.851 Q177.57 426.069 172.339 426.069 Q166.343 426.069 163.172 421.486 Q160.001 416.879 160.001 408.152 Q160.001 399.958 163.89 395.097 Q167.778 390.213 174.329 390.213 Q176.089 390.213 177.871 390.56 Q179.676 390.907 181.621 391.602 Z\" fill=\"#000000\" fill-rule=\"nonzero\" fill-opacity=\"1\" /><path clip-path=\"url(#clip140)\" d=\"M126.783 68.5428 Q123.172 68.5428 121.343 72.1076 Q119.538 75.6493 119.538 82.7789 Q119.538 89.8853 121.343 93.4501 Q123.172 96.9917 126.783 96.9917 Q130.417 96.9917 132.223 93.4501 Q134.052 89.8853 134.052 82.7789 Q134.052 75.6493 132.223 72.1076 Q130.417 68.5428 126.783 68.5428 M126.783 64.8391 Q132.593 64.8391 135.649 69.4456 Q138.728 74.0289 138.728 82.7789 Q138.728 91.5057 135.649 96.1121 Q132.593 100.695 126.783 100.695 Q120.973 100.695 117.894 96.1121 Q114.839 91.5057 114.839 82.7789 Q114.839 74.0289 117.894 69.4456 Q120.973 64.8391 126.783 64.8391 Z\" fill=\"#000000\" fill-rule=\"nonzero\" fill-opacity=\"1\" /><path clip-path=\"url(#clip140)\" d=\"M146.945 94.1445 L151.829 94.1445 L151.829 100.024 L146.945 100.024 L146.945 94.1445 Z\" fill=\"#000000\" fill-rule=\"nonzero\" fill-opacity=\"1\" /><path clip-path=\"url(#clip140)\" d=\"M172.014 83.6122 Q168.681 83.6122 166.76 85.3946 Q164.862 87.177 164.862 90.302 Q164.862 93.4269 166.76 95.2093 Q168.681 96.9917 172.014 96.9917 Q175.348 96.9917 177.269 95.2093 Q179.19 93.4038 179.19 90.302 Q179.19 87.177 177.269 85.3946 Q175.371 83.6122 172.014 83.6122 M167.339 81.6215 Q164.329 80.8807 162.64 78.8205 Q160.973 76.7604 160.973 73.7974 Q160.973 69.6539 163.913 67.2465 Q166.876 64.8391 172.014 64.8391 Q177.176 64.8391 180.116 67.2465 Q183.056 69.6539 183.056 73.7974 Q183.056 76.7604 181.366 78.8205 Q179.7 80.8807 176.714 81.6215 Q180.093 82.4085 181.968 84.7001 Q183.866 86.9918 183.866 90.302 Q183.866 95.3251 180.788 98.0103 Q177.732 100.695 172.014 100.695 Q166.297 100.695 163.218 98.0103 Q160.163 95.3251 160.163 90.302 Q160.163 86.9918 162.061 84.7001 Q163.959 82.4085 167.339 81.6215 M165.626 74.2372 Q165.626 76.9224 167.292 78.427 Q168.982 79.9316 172.014 79.9316 Q175.024 79.9316 176.714 78.427 Q178.426 76.9224 178.426 74.2372 Q178.426 71.5521 176.714 70.0474 Q175.024 68.5428 172.014 68.5428 Q168.982 68.5428 167.292 70.0474 Q165.626 71.5521 165.626 74.2372 Z\" fill=\"#000000\" fill-rule=\"nonzero\" fill-opacity=\"1\" /><path clip-path=\"url(#clip140)\" d=\"M58.657 788.97 L77.5631 788.97 L77.5631 794.859 L28.3562 794.859 L28.3562 788.97 L33.7671 788.97 Q30.5842 787.124 29.0564 784.323 Q27.4968 781.491 27.4968 777.576 Q27.4968 771.083 32.6531 767.041 Q37.8093 762.966 46.212 762.966 Q54.6147 762.966 59.771 767.041 Q64.9272 771.083 64.9272 777.576 Q64.9272 781.491 63.3994 784.323 Q61.8398 787.124 58.657 788.97 M46.212 769.046 Q39.7508 769.046 36.0905 771.719 Q32.3984 774.361 32.3984 779.008 Q32.3984 783.655 36.0905 786.329 Q39.7508 788.97 46.212 788.97 Q52.6732 788.97 56.3653 786.329 Q60.0256 783.655 60.0256 779.008 Q60.0256 774.361 56.3653 771.719 Q52.6732 769.046 46.212 769.046 Z\" fill=\"#000000\" fill-rule=\"nonzero\" fill-opacity=\"1\" /><path clip-path=\"url(#clip140)\" d=\"M14.5426 739.191 Q21.8632 743.456 29.0246 745.524 Q36.186 747.593 43.5384 747.593 Q50.8908 747.593 58.1159 745.524 Q65.3091 743.424 72.5979 739.191 L72.5979 744.283 Q65.1182 749.057 57.8931 751.445 Q50.668 753.8 43.5384 753.8 Q36.4406 753.8 29.2474 751.445 Q22.0542 749.089 14.5426 744.283 L14.5426 739.191 Z\" fill=\"#000000\" fill-rule=\"nonzero\" fill-opacity=\"1\" /><path clip-path=\"url(#clip140)\" d=\"M28.3562 698.195 L45.7028 711.086 L64.0042 697.527 L64.0042 704.434 L49.9996 714.81 L64.0042 725.186 L64.0042 732.093 L45.3526 718.247 L28.3562 730.915 L28.3562 724.008 L41.0558 714.555 L28.3562 705.102 L28.3562 698.195 Z\" fill=\"#000000\" fill-rule=\"nonzero\" fill-opacity=\"1\" /><path clip-path=\"url(#clip140)\" d=\"M14.5426 690.175 L14.5426 685.082 Q22.0542 680.308 29.2474 677.952 Q36.4406 675.565 43.5384 675.565 Q50.668 675.565 57.8931 677.952 Q65.1182 680.308 72.5979 685.082 L72.5979 690.175 Q65.3091 685.941 58.1159 683.873 Q50.8908 681.772 43.5384 681.772 Q36.186 681.772 29.0246 683.873 Q21.8632 685.941 14.5426 690.175 Z\" fill=\"#000000\" fill-rule=\"nonzero\" fill-opacity=\"1\" /><polyline clip-path=\"url(#clip142)\" style=\"stroke:#ff0000; stroke-linecap:round; stroke-linejoin:round; stroke-width:20; stroke-opacity:1; fill:none\" stroke-dasharray=\"80, 50\" points=\"280.231,1384.24 286.938,1384.24 293.645,1384.24 300.353,1384.24 307.06,1384.24 313.767,1384.24 320.474,1384.24 327.181,1384.24 333.889,1384.24 340.596,1384.24 347.303,1384.24 354.01,1384.24 360.717,1384.24 367.425,1384.24 374.132,1384.24 380.839,1384.24 387.546,1384.24 394.253,1384.24 400.961,1384.24 407.668,1384.24 414.375,1384.24 421.082,1384.24 427.789,1384.24 434.497,1384.24 441.204,1384.24 447.911,1384.24 454.618,1384.24 461.325,1384.24 468.033,1384.24 474.74,1384.24 481.447,1384.24 488.154,1384.24 494.861,1384.24 501.569,1384.24 508.276,1384.24 514.983,1384.24 521.69,1384.24 528.397,1384.24 535.105,1384.24 541.812,1384.24 548.519,1384.24 555.226,1384.24 561.933,1384.24 568.641,1384.24 575.348,1384.24 582.055,1384.24 588.762,1384.24 595.469,1384.24 602.177,1384.24 608.884,1384.24 615.591,1384.24 622.298,1384.24 629.005,1384.24 635.713,1384.24 642.42,1384.24 649.127,1384.24 655.834,1384.24 662.541,1384.24 669.249,1384.24 675.956,1384.24 682.663,1384.24 689.37,1384.24 696.077,1384.24 702.785,1384.24 709.492,1384.24 716.199,1384.24 722.906,1384.24 729.613,1384.24 736.321,1384.24 743.028,1384.24 749.735,1384.24 756.442,1384.24 763.149,1384.24 769.857,1384.24 776.564,1384.23 783.271,1384.23 789.978,1384.23 796.685,1384.23 803.393,1384.23 810.1,1384.23 816.807,1384.23 823.514,1384.22 830.221,1384.22 836.929,1384.22 843.636,1384.21 850.343,1384.21 857.05,1384.2 863.757,1384.19 870.465,1384.18 877.172,1384.17 883.879,1384.16 890.586,1384.14 897.293,1384.12 904.001,1384.1 910.708,1384.08 917.415,1384.05 924.122,1384.01 930.829,1383.97 937.537,1383.92 944.244,1383.87 950.951,1383.8 957.658,1383.73 964.365,1383.64 971.073,1383.54 977.78,1383.42 984.487,1383.29 991.194,1383.13 997.901,1382.95 1004.61,1382.75 1011.32,1382.52 1018.02,1382.25 1024.73,1381.94 1031.44,1381.59 1038.14,1381.19 1044.85,1380.74 1051.56,1380.23 1058.27,1379.65 1064.97,1378.99 1071.68,1378.25 1078.39,1377.42 1085.1,1376.48 1091.8,1375.43 1098.51,1374.25 1105.22,1372.93 1111.92,1371.46 1118.63,1369.82 1125.34,1367.99 1132.05,1365.97 1138.75,1363.72 1145.46,1361.23 1152.17,1358.48 1158.87,1355.45 1165.58,1352.12 1172.29,1348.46 1179,1344.44 1185.7,1340.04 1192.41,1335.24 1199.12,1330 1205.82,1324.29 1212.53,1318.1 1219.24,1311.37 1225.95,1304.09 1232.65,1296.23 1239.36,1287.75 1246.07,1278.62 1252.78,1268.81 1259.48,1258.3 1266.19,1247.04 1272.9,1235.02 1279.6,1222.2 1286.31,1208.57 1293.02,1194.09 1299.73,1178.74 1306.43,1162.52 1313.14,1145.39 1319.85,1127.36 1326.55,1108.4 1333.26,1088.52 1339.97,1067.71 1346.68,1045.98 1353.38,1023.33 1360.09,999.786 1366.8,975.359 1373.5,950.075 1380.21,923.965 1386.92,897.065 1393.63,869.417 1400.33,841.069 1407.04,812.077 1413.75,782.501 1420.46,752.408 1427.16,721.871 1433.87,690.968 1440.58,659.783 1447.28,628.405 1453.99,596.93 1460.7,565.454 1467.41,534.082 1474.11,502.919 1480.82,472.074 1487.53,441.659 1494.23,411.787 1500.94,382.572 1507.65,354.129 1514.36,326.572 1521.06,300.014 1527.77,274.566 1534.48,250.336 1541.18,227.43 1547.89,205.947 1554.6,185.985 1561.31,167.632 1568.01,150.973 1574.72,136.085 1581.43,123.036 1588.14,111.889 1594.84,102.695 1601.55,95.4981 1608.26,90.3328 1614.96,87.2237 1621.67,86.1857 1628.38,87.2237 1635.09,90.3328 1641.79,95.4981 1648.5,102.695 1655.21,111.889 1661.91,123.036 1668.62,136.085 1675.33,150.973 1682.04,167.632 1688.74,185.985 1695.45,205.947 1702.16,227.43 1708.86,250.336 1715.57,274.566 1722.28,300.014 1728.99,326.572 1735.69,354.129 1742.4,382.572 1749.11,411.787 1755.82,441.659 1762.52,472.074 1769.23,502.919 1775.94,534.082 1782.64,565.454 1789.35,596.93 1796.06,628.405 1802.77,659.783 1809.47,690.968 1816.18,721.871 1822.89,752.408 1829.59,782.501 1836.3,812.077 1843.01,841.069 1849.72,869.417 1856.42,897.065 1863.13,923.965 1869.84,950.075 1876.54,975.359 1883.25,999.786 1889.96,1023.33 1896.67,1045.98 1903.37,1067.71 1910.08,1088.52 1916.79,1108.4 1923.5,1127.36 1930.2,1145.39 1936.91,1162.52 1943.62,1178.74 1950.32,1194.09 1957.03,1208.57 1963.74,1222.2 1970.45,1235.02 1977.15,1247.04 1983.86,1258.3 1990.57,1268.81 1997.27,1278.62 2003.98,1287.75 2010.69,1296.23 2017.4,1304.09 2024.1,1311.37 2030.81,1318.1 2037.52,1324.29 2044.22,1330 2050.93,1335.24 2057.64,1340.04 2064.35,1344.44 2071.05,1348.46 2077.76,1352.12 2084.47,1355.45 2091.18,1358.48 2097.88,1361.23 2104.59,1363.72 2111.3,1365.97 2118,1367.99 2124.71,1369.82 2131.42,1371.46 2138.13,1372.93 2144.83,1374.25 2151.54,1375.43 2158.25,1376.48 2164.95,1377.42 2171.66,1378.25 2178.37,1378.99 2185.08,1379.65 2191.78,1380.23 2198.49,1380.74 2205.2,1381.19 2211.9,1381.59 2218.61,1381.94 2225.32,1382.25 2232.03,1382.52 2238.73,1382.75 2245.44,1382.95 2252.15,1383.13 2258.86,1383.29 2265.56,1383.42 2272.27,1383.54 2278.98,1383.64 2285.68,1383.73 2292.39,1383.8 \"/>\n",
       "<path clip-path=\"url(#clip140)\" d=\"M1994.9 196.789 L2281.66 196.789 L2281.66 93.1086 L1994.9 93.1086  Z\" fill=\"#ffffff\" fill-rule=\"evenodd\" fill-opacity=\"1\"/>\n",
       "<polyline clip-path=\"url(#clip140)\" style=\"stroke:#000000; stroke-linecap:round; stroke-linejoin:round; stroke-width:4; stroke-opacity:1; fill:none\" points=\"1994.9,196.789 2281.66,196.789 2281.66,93.1086 1994.9,93.1086 1994.9,196.789 \"/>\n",
       "<polyline clip-path=\"url(#clip140)\" style=\"stroke:#ff0000; stroke-linecap:round; stroke-linejoin:round; stroke-width:20; stroke-opacity:1; fill:none\" stroke-dasharray=\"80, 50\" points=\"2018.6,144.949 2160.79,144.949 \"/>\n",
       "<path clip-path=\"url(#clip140)\" d=\"M2188.77 158.34 L2188.77 172.09 L2184.49 172.09 L2184.49 136.303 L2188.77 136.303 L2188.77 140.238 Q2190.11 137.923 2192.15 136.812 Q2194.21 135.678 2197.06 135.678 Q2201.78 135.678 2204.72 139.428 Q2207.68 143.178 2207.68 149.289 Q2207.68 155.4 2204.72 159.15 Q2201.78 162.9 2197.06 162.9 Q2194.21 162.9 2192.15 161.789 Q2190.11 160.655 2188.77 158.34 M2203.26 149.289 Q2203.26 144.59 2201.32 141.928 Q2199.4 139.243 2196.02 139.243 Q2192.64 139.243 2190.69 141.928 Q2188.77 144.59 2188.77 149.289 Q2188.77 153.988 2190.69 156.673 Q2192.64 159.335 2196.02 159.335 Q2199.4 159.335 2201.32 156.673 Q2203.26 153.988 2203.26 149.289 Z\" fill=\"#000000\" fill-rule=\"nonzero\" fill-opacity=\"1\" /><path clip-path=\"url(#clip140)\" d=\"M2231.8 140.238 L2231.8 126.21 L2236.06 126.21 L2236.06 162.229 L2231.8 162.229 L2231.8 158.34 Q2230.46 160.655 2228.4 161.789 Q2226.36 162.9 2223.49 162.9 Q2218.79 162.9 2215.83 159.15 Q2212.89 155.4 2212.89 149.289 Q2212.89 143.178 2215.83 139.428 Q2218.79 135.678 2223.49 135.678 Q2226.36 135.678 2228.4 136.812 Q2230.46 137.923 2231.8 140.238 M2217.29 149.289 Q2217.29 153.988 2219.21 156.673 Q2221.16 159.335 2224.54 159.335 Q2227.91 159.335 2229.86 156.673 Q2231.8 153.988 2231.8 149.289 Q2231.8 144.59 2229.86 141.928 Q2227.91 139.243 2224.54 139.243 Q2221.16 139.243 2219.21 141.928 Q2217.29 144.59 2217.29 149.289 Z\" fill=\"#000000\" fill-rule=\"nonzero\" fill-opacity=\"1\" /><path clip-path=\"url(#clip140)\" d=\"M2257.96 126.21 L2257.96 129.752 L2253.89 129.752 Q2251.6 129.752 2250.69 130.678 Q2249.81 131.604 2249.81 134.011 L2249.81 136.303 L2256.83 136.303 L2256.83 139.613 L2249.81 139.613 L2249.81 162.229 L2245.53 162.229 L2245.53 139.613 L2241.46 139.613 L2241.46 136.303 L2245.53 136.303 L2245.53 134.497 Q2245.53 130.169 2247.54 128.201 Q2249.56 126.21 2253.93 126.21 L2257.96 126.21 Z\" fill=\"#000000\" fill-rule=\"nonzero\" fill-opacity=\"1\" /></svg>\n"
      ],
      "text/html": [
       "<?xml version=\"1.0\" encoding=\"utf-8\"?>\n",
       "<svg xmlns=\"http://www.w3.org/2000/svg\" xmlns:xlink=\"http://www.w3.org/1999/xlink\" width=\"600\" height=\"400\" viewBox=\"0 0 2400 1600\">\n",
       "<defs>\n",
       "  <clipPath id=\"clip190\">\n",
       "    <rect x=\"0\" y=\"0\" width=\"2400\" height=\"1600\"/>\n",
       "  </clipPath>\n",
       "</defs>\n",
       "<path clip-path=\"url(#clip190)\" d=\"M0 1600 L2400 1600 L2400 0 L0 0  Z\" fill=\"#ffffff\" fill-rule=\"evenodd\" fill-opacity=\"1\"/>\n",
       "<defs>\n",
       "  <clipPath id=\"clip191\">\n",
       "    <rect x=\"480\" y=\"0\" width=\"1681\" height=\"1600\"/>\n",
       "  </clipPath>\n",
       "</defs>\n",
       "<path clip-path=\"url(#clip190)\" d=\"M219.866 1423.18 L2352.76 1423.18 L2352.76 47.2441 L219.866 47.2441  Z\" fill=\"#ffffff\" fill-rule=\"evenodd\" fill-opacity=\"1\"/>\n",
       "<defs>\n",
       "  <clipPath id=\"clip192\">\n",
       "    <rect x=\"219\" y=\"47\" width=\"2134\" height=\"1377\"/>\n",
       "  </clipPath>\n",
       "</defs>\n",
       "<polyline clip-path=\"url(#clip192)\" style=\"stroke:#000000; stroke-linecap:round; stroke-linejoin:round; stroke-width:2; stroke-opacity:0.1; fill:none\" points=\"280.231,1423.18 280.231,47.2441 \"/>\n",
       "<polyline clip-path=\"url(#clip192)\" style=\"stroke:#000000; stroke-linecap:round; stroke-linejoin:round; stroke-width:2; stroke-opacity:0.1; fill:none\" points=\"615.591,1423.18 615.591,47.2441 \"/>\n",
       "<polyline clip-path=\"url(#clip192)\" style=\"stroke:#000000; stroke-linecap:round; stroke-linejoin:round; stroke-width:2; stroke-opacity:0.1; fill:none\" points=\"950.951,1423.18 950.951,47.2441 \"/>\n",
       "<polyline clip-path=\"url(#clip192)\" style=\"stroke:#000000; stroke-linecap:round; stroke-linejoin:round; stroke-width:2; stroke-opacity:0.1; fill:none\" points=\"1286.31,1423.18 1286.31,47.2441 \"/>\n",
       "<polyline clip-path=\"url(#clip192)\" style=\"stroke:#000000; stroke-linecap:round; stroke-linejoin:round; stroke-width:2; stroke-opacity:0.1; fill:none\" points=\"1621.67,1423.18 1621.67,47.2441 \"/>\n",
       "<polyline clip-path=\"url(#clip192)\" style=\"stroke:#000000; stroke-linecap:round; stroke-linejoin:round; stroke-width:2; stroke-opacity:0.1; fill:none\" points=\"1957.03,1423.18 1957.03,47.2441 \"/>\n",
       "<polyline clip-path=\"url(#clip192)\" style=\"stroke:#000000; stroke-linecap:round; stroke-linejoin:round; stroke-width:2; stroke-opacity:0.1; fill:none\" points=\"2292.39,1423.18 2292.39,47.2441 \"/>\n",
       "<polyline clip-path=\"url(#clip192)\" style=\"stroke:#000000; stroke-linecap:round; stroke-linejoin:round; stroke-width:2; stroke-opacity:0.1; fill:none\" points=\"219.866,1384.24 2352.76,1384.24 \"/>\n",
       "<polyline clip-path=\"url(#clip192)\" style=\"stroke:#000000; stroke-linecap:round; stroke-linejoin:round; stroke-width:2; stroke-opacity:0.1; fill:none\" points=\"219.866,1058.86 2352.76,1058.86 \"/>\n",
       "<polyline clip-path=\"url(#clip192)\" style=\"stroke:#000000; stroke-linecap:round; stroke-linejoin:round; stroke-width:2; stroke-opacity:0.1; fill:none\" points=\"219.866,733.491 2352.76,733.491 \"/>\n",
       "<polyline clip-path=\"url(#clip192)\" style=\"stroke:#000000; stroke-linecap:round; stroke-linejoin:round; stroke-width:2; stroke-opacity:0.1; fill:none\" points=\"219.866,408.118 2352.76,408.118 \"/>\n",
       "<polyline clip-path=\"url(#clip192)\" style=\"stroke:#000000; stroke-linecap:round; stroke-linejoin:round; stroke-width:2; stroke-opacity:0.1; fill:none\" points=\"219.866,82.7441 2352.76,82.7441 \"/>\n",
       "<polyline clip-path=\"url(#clip190)\" style=\"stroke:#000000; stroke-linecap:round; stroke-linejoin:round; stroke-width:4; stroke-opacity:1; fill:none\" points=\"219.866,1423.18 2352.76,1423.18 \"/>\n",
       "<polyline clip-path=\"url(#clip190)\" style=\"stroke:#000000; stroke-linecap:round; stroke-linejoin:round; stroke-width:4; stroke-opacity:1; fill:none\" points=\"280.231,1423.18 280.231,1404.28 \"/>\n",
       "<polyline clip-path=\"url(#clip190)\" style=\"stroke:#000000; stroke-linecap:round; stroke-linejoin:round; stroke-width:4; stroke-opacity:1; fill:none\" points=\"615.591,1423.18 615.591,1404.28 \"/>\n",
       "<polyline clip-path=\"url(#clip190)\" style=\"stroke:#000000; stroke-linecap:round; stroke-linejoin:round; stroke-width:4; stroke-opacity:1; fill:none\" points=\"950.951,1423.18 950.951,1404.28 \"/>\n",
       "<polyline clip-path=\"url(#clip190)\" style=\"stroke:#000000; stroke-linecap:round; stroke-linejoin:round; stroke-width:4; stroke-opacity:1; fill:none\" points=\"1286.31,1423.18 1286.31,1404.28 \"/>\n",
       "<polyline clip-path=\"url(#clip190)\" style=\"stroke:#000000; stroke-linecap:round; stroke-linejoin:round; stroke-width:4; stroke-opacity:1; fill:none\" points=\"1621.67,1423.18 1621.67,1404.28 \"/>\n",
       "<polyline clip-path=\"url(#clip190)\" style=\"stroke:#000000; stroke-linecap:round; stroke-linejoin:round; stroke-width:4; stroke-opacity:1; fill:none\" points=\"1957.03,1423.18 1957.03,1404.28 \"/>\n",
       "<polyline clip-path=\"url(#clip190)\" style=\"stroke:#000000; stroke-linecap:round; stroke-linejoin:round; stroke-width:4; stroke-opacity:1; fill:none\" points=\"2292.39,1423.18 2292.39,1404.28 \"/>\n",
       "<path clip-path=\"url(#clip190)\" d=\"M249.699 1468.75 L279.375 1468.75 L279.375 1472.69 L249.699 1472.69 L249.699 1468.75 Z\" fill=\"#000000\" fill-rule=\"nonzero\" fill-opacity=\"1\" /><path clip-path=\"url(#clip190)\" d=\"M303.634 1466.95 Q306.99 1467.66 308.865 1469.93 Q310.763 1472.2 310.763 1475.53 Q310.763 1480.65 307.245 1483.45 Q303.726 1486.25 297.245 1486.25 Q295.069 1486.25 292.754 1485.81 Q290.462 1485.39 288.009 1484.54 L288.009 1480.02 Q289.953 1481.16 292.268 1481.74 Q294.583 1482.32 297.106 1482.32 Q301.504 1482.32 303.796 1480.58 Q306.111 1478.84 306.111 1475.53 Q306.111 1472.48 303.958 1470.77 Q301.828 1469.03 298.009 1469.03 L293.981 1469.03 L293.981 1465.19 L298.194 1465.19 Q301.643 1465.19 303.472 1463.82 Q305.3 1462.43 305.3 1459.84 Q305.3 1457.18 303.402 1455.77 Q301.527 1454.33 298.009 1454.33 Q296.087 1454.33 293.888 1454.75 Q291.689 1455.16 289.05 1456.04 L289.05 1451.88 Q291.712 1451.14 294.027 1450.77 Q296.365 1450.39 298.425 1450.39 Q303.749 1450.39 306.851 1452.83 Q309.953 1455.23 309.953 1459.35 Q309.953 1462.22 308.31 1464.21 Q306.666 1466.18 303.634 1466.95 Z\" fill=\"#000000\" fill-rule=\"nonzero\" fill-opacity=\"1\" /><path clip-path=\"url(#clip190)\" d=\"M585.533 1468.75 L615.209 1468.75 L615.209 1472.69 L585.533 1472.69 L585.533 1468.75 Z\" fill=\"#000000\" fill-rule=\"nonzero\" fill-opacity=\"1\" /><path clip-path=\"url(#clip190)\" d=\"M629.329 1481.64 L645.649 1481.64 L645.649 1485.58 L623.704 1485.58 L623.704 1481.64 Q626.366 1478.89 630.95 1474.26 Q635.556 1469.61 636.737 1468.27 Q638.982 1465.74 639.862 1464.01 Q640.765 1462.25 640.765 1460.56 Q640.765 1457.8 638.82 1456.07 Q636.899 1454.33 633.797 1454.33 Q631.598 1454.33 629.144 1455.09 Q626.714 1455.86 623.936 1457.41 L623.936 1452.69 Q626.76 1451.55 629.214 1450.97 Q631.667 1450.39 633.704 1450.39 Q639.075 1450.39 642.269 1453.08 Q645.464 1455.77 645.464 1460.26 Q645.464 1462.39 644.653 1464.31 Q643.866 1466.2 641.76 1468.8 Q641.181 1469.47 638.079 1472.69 Q634.978 1475.88 629.329 1481.64 Z\" fill=\"#000000\" fill-rule=\"nonzero\" fill-opacity=\"1\" /><path clip-path=\"url(#clip190)\" d=\"M920.708 1468.75 L950.384 1468.75 L950.384 1472.69 L920.708 1472.69 L920.708 1468.75 Z\" fill=\"#000000\" fill-rule=\"nonzero\" fill-opacity=\"1\" /><path clip-path=\"url(#clip190)\" d=\"M961.287 1481.64 L968.926 1481.64 L968.926 1455.28 L960.615 1456.95 L960.615 1452.69 L968.879 1451.02 L973.555 1451.02 L973.555 1481.64 L981.194 1481.64 L981.194 1485.58 L961.287 1485.58 L961.287 1481.64 Z\" fill=\"#000000\" fill-rule=\"nonzero\" fill-opacity=\"1\" /><path clip-path=\"url(#clip190)\" d=\"M1286.31 1454.1 Q1282.7 1454.1 1280.87 1457.66 Q1279.07 1461.2 1279.07 1468.33 Q1279.07 1475.44 1280.87 1479.01 Q1282.7 1482.55 1286.31 1482.55 Q1289.95 1482.55 1291.75 1479.01 Q1293.58 1475.44 1293.58 1468.33 Q1293.58 1461.2 1291.75 1457.66 Q1289.95 1454.1 1286.31 1454.1 M1286.31 1450.39 Q1292.12 1450.39 1295.18 1455 Q1298.26 1459.58 1298.26 1468.33 Q1298.26 1477.06 1295.18 1481.67 Q1292.12 1486.25 1286.31 1486.25 Q1280.5 1486.25 1277.42 1481.67 Q1274.37 1477.06 1274.37 1468.33 Q1274.37 1459.58 1277.42 1455 Q1280.5 1450.39 1286.31 1450.39 Z\" fill=\"#000000\" fill-rule=\"nonzero\" fill-opacity=\"1\" /><path clip-path=\"url(#clip190)\" d=\"M1612.05 1481.64 L1619.69 1481.64 L1619.69 1455.28 L1611.38 1456.95 L1611.38 1452.69 L1619.65 1451.02 L1624.32 1451.02 L1624.32 1481.64 L1631.96 1481.64 L1631.96 1485.58 L1612.05 1485.58 L1612.05 1481.64 Z\" fill=\"#000000\" fill-rule=\"nonzero\" fill-opacity=\"1\" /><path clip-path=\"url(#clip190)\" d=\"M1951.68 1481.64 L1968 1481.64 L1968 1485.58 L1946.06 1485.58 L1946.06 1481.64 Q1948.72 1478.89 1953.3 1474.26 Q1957.91 1469.61 1959.09 1468.27 Q1961.34 1465.74 1962.22 1464.01 Q1963.12 1462.25 1963.12 1460.56 Q1963.12 1457.8 1961.17 1456.07 Q1959.25 1454.33 1956.15 1454.33 Q1953.95 1454.33 1951.5 1455.09 Q1949.07 1455.86 1946.29 1457.41 L1946.29 1452.69 Q1949.11 1451.55 1951.57 1450.97 Q1954.02 1450.39 1956.06 1450.39 Q1961.43 1450.39 1964.62 1453.08 Q1967.82 1455.77 1967.82 1460.26 Q1967.82 1462.39 1967.01 1464.31 Q1966.22 1466.2 1964.11 1468.8 Q1963.54 1469.47 1960.43 1472.69 Q1957.33 1475.88 1951.68 1481.64 Z\" fill=\"#000000\" fill-rule=\"nonzero\" fill-opacity=\"1\" /><path clip-path=\"url(#clip190)\" d=\"M2296.64 1466.95 Q2300 1467.66 2301.87 1469.93 Q2303.77 1472.2 2303.77 1475.53 Q2303.77 1480.65 2300.25 1483.45 Q2296.73 1486.25 2290.25 1486.25 Q2288.07 1486.25 2285.76 1485.81 Q2283.47 1485.39 2281.01 1484.54 L2281.01 1480.02 Q2282.96 1481.16 2285.27 1481.74 Q2287.59 1482.32 2290.11 1482.32 Q2294.51 1482.32 2296.8 1480.58 Q2299.12 1478.84 2299.12 1475.53 Q2299.12 1472.48 2296.96 1470.77 Q2294.83 1469.03 2291.01 1469.03 L2286.99 1469.03 L2286.99 1465.19 L2291.2 1465.19 Q2294.65 1465.19 2296.48 1463.82 Q2298.31 1462.43 2298.31 1459.84 Q2298.31 1457.18 2296.41 1455.77 Q2294.53 1454.33 2291.01 1454.33 Q2289.09 1454.33 2286.89 1454.75 Q2284.69 1455.16 2282.06 1456.04 L2282.06 1451.88 Q2284.72 1451.14 2287.03 1450.77 Q2289.37 1450.39 2291.43 1450.39 Q2296.75 1450.39 2299.86 1452.83 Q2302.96 1455.23 2302.96 1459.35 Q2302.96 1462.22 2301.31 1464.21 Q2299.67 1466.18 2296.64 1466.95 Z\" fill=\"#000000\" fill-rule=\"nonzero\" fill-opacity=\"1\" /><path clip-path=\"url(#clip190)\" d=\"M1302.93 1532.4 L1290.04 1549.74 L1303.59 1568.04 L1296.69 1568.04 L1286.31 1554.04 L1275.93 1568.04 L1269.03 1568.04 L1282.87 1549.39 L1270.21 1532.4 L1277.11 1532.4 L1286.57 1545.1 L1296.02 1532.4 L1302.93 1532.4 Z\" fill=\"#000000\" fill-rule=\"nonzero\" fill-opacity=\"1\" /><polyline clip-path=\"url(#clip190)\" style=\"stroke:#000000; stroke-linecap:round; stroke-linejoin:round; stroke-width:4; stroke-opacity:1; fill:none\" points=\"219.866,1423.18 219.866,47.2441 \"/>\n",
       "<polyline clip-path=\"url(#clip190)\" style=\"stroke:#000000; stroke-linecap:round; stroke-linejoin:round; stroke-width:4; stroke-opacity:1; fill:none\" points=\"219.866,1384.24 238.764,1384.24 \"/>\n",
       "<polyline clip-path=\"url(#clip190)\" style=\"stroke:#000000; stroke-linecap:round; stroke-linejoin:round; stroke-width:4; stroke-opacity:1; fill:none\" points=\"219.866,1058.86 238.764,1058.86 \"/>\n",
       "<polyline clip-path=\"url(#clip190)\" style=\"stroke:#000000; stroke-linecap:round; stroke-linejoin:round; stroke-width:4; stroke-opacity:1; fill:none\" points=\"219.866,733.491 238.764,733.491 \"/>\n",
       "<polyline clip-path=\"url(#clip190)\" style=\"stroke:#000000; stroke-linecap:round; stroke-linejoin:round; stroke-width:4; stroke-opacity:1; fill:none\" points=\"219.866,408.118 238.764,408.118 \"/>\n",
       "<polyline clip-path=\"url(#clip190)\" style=\"stroke:#000000; stroke-linecap:round; stroke-linejoin:round; stroke-width:4; stroke-opacity:1; fill:none\" points=\"219.866,82.7441 238.764,82.7441 \"/>\n",
       "<path clip-path=\"url(#clip190)\" d=\"M126.691 1370.04 Q123.08 1370.04 121.251 1373.6 Q119.445 1377.14 119.445 1384.27 Q119.445 1391.38 121.251 1394.94 Q123.08 1398.49 126.691 1398.49 Q130.325 1398.49 132.13 1394.94 Q133.959 1391.38 133.959 1384.27 Q133.959 1377.14 132.13 1373.6 Q130.325 1370.04 126.691 1370.04 M126.691 1366.33 Q132.501 1366.33 135.556 1370.94 Q138.635 1375.52 138.635 1384.27 Q138.635 1393 135.556 1397.61 Q132.501 1402.19 126.691 1402.19 Q120.88 1402.19 117.802 1397.61 Q114.746 1393 114.746 1384.27 Q114.746 1375.52 117.802 1370.94 Q120.88 1366.33 126.691 1366.33 Z\" fill=\"#000000\" fill-rule=\"nonzero\" fill-opacity=\"1\" /><path clip-path=\"url(#clip190)\" d=\"M146.853 1395.64 L151.737 1395.64 L151.737 1401.52 L146.853 1401.52 L146.853 1395.64 Z\" fill=\"#000000\" fill-rule=\"nonzero\" fill-opacity=\"1\" /><path clip-path=\"url(#clip190)\" d=\"M171.922 1370.04 Q168.311 1370.04 166.482 1373.6 Q164.677 1377.14 164.677 1384.27 Q164.677 1391.38 166.482 1394.94 Q168.311 1398.49 171.922 1398.49 Q175.556 1398.49 177.362 1394.94 Q179.19 1391.38 179.19 1384.27 Q179.19 1377.14 177.362 1373.6 Q175.556 1370.04 171.922 1370.04 M171.922 1366.33 Q177.732 1366.33 180.788 1370.94 Q183.866 1375.52 183.866 1384.27 Q183.866 1393 180.788 1397.61 Q177.732 1402.19 171.922 1402.19 Q166.112 1402.19 163.033 1397.61 Q159.978 1393 159.978 1384.27 Q159.978 1375.52 163.033 1370.94 Q166.112 1366.33 171.922 1366.33 Z\" fill=\"#000000\" fill-rule=\"nonzero\" fill-opacity=\"1\" /><path clip-path=\"url(#clip190)\" d=\"M128.288 1044.66 Q124.677 1044.66 122.848 1048.23 Q121.043 1051.77 121.043 1058.9 Q121.043 1066.01 122.848 1069.57 Q124.677 1073.11 128.288 1073.11 Q131.922 1073.11 133.728 1069.57 Q135.556 1066.01 135.556 1058.9 Q135.556 1051.77 133.728 1048.23 Q131.922 1044.66 128.288 1044.66 M128.288 1040.96 Q134.098 1040.96 137.154 1045.57 Q140.232 1050.15 140.232 1058.9 Q140.232 1067.63 137.154 1072.23 Q134.098 1076.82 128.288 1076.82 Q122.478 1076.82 119.399 1072.23 Q116.343 1067.63 116.343 1058.9 Q116.343 1050.15 119.399 1045.57 Q122.478 1040.96 128.288 1040.96 Z\" fill=\"#000000\" fill-rule=\"nonzero\" fill-opacity=\"1\" /><path clip-path=\"url(#clip190)\" d=\"M148.45 1070.27 L153.334 1070.27 L153.334 1076.14 L148.45 1076.14 L148.45 1070.27 Z\" fill=\"#000000\" fill-rule=\"nonzero\" fill-opacity=\"1\" /><path clip-path=\"url(#clip190)\" d=\"M167.547 1072.21 L183.866 1072.21 L183.866 1076.14 L161.922 1076.14 L161.922 1072.21 Q164.584 1069.45 169.167 1064.83 Q173.774 1060.17 174.954 1058.83 Q177.2 1056.31 178.079 1054.57 Q178.982 1052.81 178.982 1051.12 Q178.982 1048.37 177.038 1046.63 Q175.116 1044.89 172.014 1044.89 Q169.815 1044.89 167.362 1045.66 Q164.931 1046.42 162.153 1047.97 L162.153 1043.25 Q164.977 1042.12 167.431 1041.54 Q169.885 1040.96 171.922 1040.96 Q177.292 1040.96 180.487 1043.64 Q183.681 1046.33 183.681 1050.82 Q183.681 1052.95 182.871 1054.87 Q182.084 1056.77 179.977 1059.36 Q179.399 1060.03 176.297 1063.25 Q173.195 1066.45 167.547 1072.21 Z\" fill=\"#000000\" fill-rule=\"nonzero\" fill-opacity=\"1\" /><path clip-path=\"url(#clip190)\" d=\"M126.205 719.29 Q122.593 719.29 120.765 722.855 Q118.959 726.396 118.959 733.526 Q118.959 740.632 120.765 744.197 Q122.593 747.739 126.205 747.739 Q129.839 747.739 131.644 744.197 Q133.473 740.632 133.473 733.526 Q133.473 726.396 131.644 722.855 Q129.839 719.29 126.205 719.29 M126.205 715.586 Q132.015 715.586 135.07 720.193 Q138.149 724.776 138.149 733.526 Q138.149 742.253 135.07 746.859 Q132.015 751.442 126.205 751.442 Q120.394 751.442 117.316 746.859 Q114.26 742.253 114.26 733.526 Q114.26 724.776 117.316 720.193 Q120.394 715.586 126.205 715.586 Z\" fill=\"#000000\" fill-rule=\"nonzero\" fill-opacity=\"1\" /><path clip-path=\"url(#clip190)\" d=\"M146.366 744.892 L151.251 744.892 L151.251 750.771 L146.366 750.771 L146.366 744.892 Z\" fill=\"#000000\" fill-rule=\"nonzero\" fill-opacity=\"1\" /><path clip-path=\"url(#clip190)\" d=\"M174.283 720.285 L162.477 738.734 L174.283 738.734 L174.283 720.285 M173.056 716.211 L178.936 716.211 L178.936 738.734 L183.866 738.734 L183.866 742.623 L178.936 742.623 L178.936 750.771 L174.283 750.771 L174.283 742.623 L158.681 742.623 L158.681 738.109 L173.056 716.211 Z\" fill=\"#000000\" fill-rule=\"nonzero\" fill-opacity=\"1\" /><path clip-path=\"url(#clip190)\" d=\"M126.529 393.916 Q122.918 393.916 121.089 397.481 Q119.283 401.023 119.283 408.152 Q119.283 415.259 121.089 418.824 Q122.918 422.365 126.529 422.365 Q130.163 422.365 131.968 418.824 Q133.797 415.259 133.797 408.152 Q133.797 401.023 131.968 397.481 Q130.163 393.916 126.529 393.916 M126.529 390.213 Q132.339 390.213 135.394 394.819 Q138.473 399.402 138.473 408.152 Q138.473 416.879 135.394 421.486 Q132.339 426.069 126.529 426.069 Q120.718 426.069 117.64 421.486 Q114.584 416.879 114.584 408.152 Q114.584 399.402 117.64 394.819 Q120.718 390.213 126.529 390.213 Z\" fill=\"#000000\" fill-rule=\"nonzero\" fill-opacity=\"1\" /><path clip-path=\"url(#clip190)\" d=\"M146.691 419.518 L151.575 419.518 L151.575 425.398 L146.691 425.398 L146.691 419.518 Z\" fill=\"#000000\" fill-rule=\"nonzero\" fill-opacity=\"1\" /><path clip-path=\"url(#clip190)\" d=\"M172.339 406.254 Q169.19 406.254 167.339 408.407 Q165.51 410.56 165.51 414.31 Q165.51 418.037 167.339 420.213 Q169.19 422.365 172.339 422.365 Q175.487 422.365 177.315 420.213 Q179.167 418.037 179.167 414.31 Q179.167 410.56 177.315 408.407 Q175.487 406.254 172.339 406.254 M181.621 391.602 L181.621 395.861 Q179.862 395.027 178.056 394.588 Q176.274 394.148 174.514 394.148 Q169.885 394.148 167.431 397.273 Q165.001 400.398 164.653 406.717 Q166.019 404.703 168.079 403.639 Q170.139 402.551 172.616 402.551 Q177.825 402.551 180.834 405.722 Q183.866 408.87 183.866 414.31 Q183.866 419.634 180.718 422.851 Q177.57 426.069 172.339 426.069 Q166.343 426.069 163.172 421.486 Q160.001 416.879 160.001 408.152 Q160.001 399.958 163.89 395.097 Q167.778 390.213 174.329 390.213 Q176.089 390.213 177.871 390.56 Q179.676 390.907 181.621 391.602 Z\" fill=\"#000000\" fill-rule=\"nonzero\" fill-opacity=\"1\" /><path clip-path=\"url(#clip190)\" d=\"M126.783 68.5428 Q123.172 68.5428 121.343 72.1076 Q119.538 75.6493 119.538 82.7789 Q119.538 89.8853 121.343 93.4501 Q123.172 96.9917 126.783 96.9917 Q130.417 96.9917 132.223 93.4501 Q134.052 89.8853 134.052 82.7789 Q134.052 75.6493 132.223 72.1076 Q130.417 68.5428 126.783 68.5428 M126.783 64.8391 Q132.593 64.8391 135.649 69.4456 Q138.728 74.0289 138.728 82.7789 Q138.728 91.5057 135.649 96.1121 Q132.593 100.695 126.783 100.695 Q120.973 100.695 117.894 96.1121 Q114.839 91.5057 114.839 82.7789 Q114.839 74.0289 117.894 69.4456 Q120.973 64.8391 126.783 64.8391 Z\" fill=\"#000000\" fill-rule=\"nonzero\" fill-opacity=\"1\" /><path clip-path=\"url(#clip190)\" d=\"M146.945 94.1445 L151.829 94.1445 L151.829 100.024 L146.945 100.024 L146.945 94.1445 Z\" fill=\"#000000\" fill-rule=\"nonzero\" fill-opacity=\"1\" /><path clip-path=\"url(#clip190)\" d=\"M172.014 83.6122 Q168.681 83.6122 166.76 85.3946 Q164.862 87.177 164.862 90.302 Q164.862 93.4269 166.76 95.2093 Q168.681 96.9917 172.014 96.9917 Q175.348 96.9917 177.269 95.2093 Q179.19 93.4038 179.19 90.302 Q179.19 87.177 177.269 85.3946 Q175.371 83.6122 172.014 83.6122 M167.339 81.6215 Q164.329 80.8807 162.64 78.8205 Q160.973 76.7604 160.973 73.7974 Q160.973 69.6539 163.913 67.2465 Q166.876 64.8391 172.014 64.8391 Q177.176 64.8391 180.116 67.2465 Q183.056 69.6539 183.056 73.7974 Q183.056 76.7604 181.366 78.8205 Q179.7 80.8807 176.714 81.6215 Q180.093 82.4085 181.968 84.7001 Q183.866 86.9918 183.866 90.302 Q183.866 95.3251 180.788 98.0103 Q177.732 100.695 172.014 100.695 Q166.297 100.695 163.218 98.0103 Q160.163 95.3251 160.163 90.302 Q160.163 86.9918 162.061 84.7001 Q163.959 82.4085 167.339 81.6215 M165.626 74.2372 Q165.626 76.9224 167.292 78.427 Q168.982 79.9316 172.014 79.9316 Q175.024 79.9316 176.714 78.427 Q178.426 76.9224 178.426 74.2372 Q178.426 71.5521 176.714 70.0474 Q175.024 68.5428 172.014 68.5428 Q168.982 68.5428 167.292 70.0474 Q165.626 71.5521 165.626 74.2372 Z\" fill=\"#000000\" fill-rule=\"nonzero\" fill-opacity=\"1\" /><path clip-path=\"url(#clip190)\" d=\"M58.657 788.97 L77.5631 788.97 L77.5631 794.859 L28.3562 794.859 L28.3562 788.97 L33.7671 788.97 Q30.5842 787.124 29.0564 784.323 Q27.4968 781.491 27.4968 777.576 Q27.4968 771.083 32.6531 767.041 Q37.8093 762.966 46.212 762.966 Q54.6147 762.966 59.771 767.041 Q64.9272 771.083 64.9272 777.576 Q64.9272 781.491 63.3994 784.323 Q61.8398 787.124 58.657 788.97 M46.212 769.046 Q39.7508 769.046 36.0905 771.719 Q32.3984 774.361 32.3984 779.008 Q32.3984 783.655 36.0905 786.329 Q39.7508 788.97 46.212 788.97 Q52.6732 788.97 56.3653 786.329 Q60.0256 783.655 60.0256 779.008 Q60.0256 774.361 56.3653 771.719 Q52.6732 769.046 46.212 769.046 Z\" fill=\"#000000\" fill-rule=\"nonzero\" fill-opacity=\"1\" /><path clip-path=\"url(#clip190)\" d=\"M14.5426 739.191 Q21.8632 743.456 29.0246 745.524 Q36.186 747.593 43.5384 747.593 Q50.8908 747.593 58.1159 745.524 Q65.3091 743.424 72.5979 739.191 L72.5979 744.283 Q65.1182 749.057 57.8931 751.445 Q50.668 753.8 43.5384 753.8 Q36.4406 753.8 29.2474 751.445 Q22.0542 749.089 14.5426 744.283 L14.5426 739.191 Z\" fill=\"#000000\" fill-rule=\"nonzero\" fill-opacity=\"1\" /><path clip-path=\"url(#clip190)\" d=\"M28.3562 698.195 L45.7028 711.086 L64.0042 697.527 L64.0042 704.434 L49.9996 714.81 L64.0042 725.186 L64.0042 732.093 L45.3526 718.247 L28.3562 730.915 L28.3562 724.008 L41.0558 714.555 L28.3562 705.102 L28.3562 698.195 Z\" fill=\"#000000\" fill-rule=\"nonzero\" fill-opacity=\"1\" /><path clip-path=\"url(#clip190)\" d=\"M14.5426 690.175 L14.5426 685.082 Q22.0542 680.308 29.2474 677.952 Q36.4406 675.565 43.5384 675.565 Q50.668 675.565 57.8931 677.952 Q65.1182 680.308 72.5979 685.082 L72.5979 690.175 Q65.3091 685.941 58.1159 683.873 Q50.8908 681.772 43.5384 681.772 Q36.186 681.772 29.0246 683.873 Q21.8632 685.941 14.5426 690.175 Z\" fill=\"#000000\" fill-rule=\"nonzero\" fill-opacity=\"1\" /><polyline clip-path=\"url(#clip192)\" style=\"stroke:#ff0000; stroke-linecap:round; stroke-linejoin:round; stroke-width:20; stroke-opacity:1; fill:none\" stroke-dasharray=\"80, 50\" points=\"280.231,1384.24 286.938,1384.24 293.645,1384.24 300.353,1384.24 307.06,1384.24 313.767,1384.24 320.474,1384.24 327.181,1384.24 333.889,1384.24 340.596,1384.24 347.303,1384.24 354.01,1384.24 360.717,1384.24 367.425,1384.24 374.132,1384.24 380.839,1384.24 387.546,1384.24 394.253,1384.24 400.961,1384.24 407.668,1384.24 414.375,1384.24 421.082,1384.24 427.789,1384.24 434.497,1384.24 441.204,1384.24 447.911,1384.24 454.618,1384.24 461.325,1384.24 468.033,1384.24 474.74,1384.24 481.447,1384.24 488.154,1384.24 494.861,1384.24 501.569,1384.24 508.276,1384.24 514.983,1384.24 521.69,1384.24 528.397,1384.24 535.105,1384.24 541.812,1384.24 548.519,1384.24 555.226,1384.24 561.933,1384.24 568.641,1384.24 575.348,1384.24 582.055,1384.24 588.762,1384.24 595.469,1384.24 602.177,1384.24 608.884,1384.24 615.591,1384.24 622.298,1384.24 629.005,1384.24 635.713,1384.24 642.42,1384.24 649.127,1384.24 655.834,1384.24 662.541,1384.24 669.249,1384.24 675.956,1384.24 682.663,1384.24 689.37,1384.24 696.077,1384.24 702.785,1384.24 709.492,1384.24 716.199,1384.24 722.906,1384.24 729.613,1384.24 736.321,1384.24 743.028,1384.24 749.735,1384.24 756.442,1384.24 763.149,1384.24 769.857,1384.24 776.564,1384.23 783.271,1384.23 789.978,1384.23 796.685,1384.23 803.393,1384.23 810.1,1384.23 816.807,1384.23 823.514,1384.22 830.221,1384.22 836.929,1384.22 843.636,1384.21 850.343,1384.21 857.05,1384.2 863.757,1384.19 870.465,1384.18 877.172,1384.17 883.879,1384.16 890.586,1384.14 897.293,1384.12 904.001,1384.1 910.708,1384.08 917.415,1384.05 924.122,1384.01 930.829,1383.97 937.537,1383.92 944.244,1383.87 950.951,1383.8 957.658,1383.73 964.365,1383.64 971.073,1383.54 977.78,1383.42 984.487,1383.29 991.194,1383.13 997.901,1382.95 1004.61,1382.75 1011.32,1382.52 1018.02,1382.25 1024.73,1381.94 1031.44,1381.59 1038.14,1381.19 1044.85,1380.74 1051.56,1380.23 1058.27,1379.65 1064.97,1378.99 1071.68,1378.25 1078.39,1377.42 1085.1,1376.48 1091.8,1375.43 1098.51,1374.25 1105.22,1372.93 1111.92,1371.46 1118.63,1369.82 1125.34,1367.99 1132.05,1365.97 1138.75,1363.72 1145.46,1361.23 1152.17,1358.48 1158.87,1355.45 1165.58,1352.12 1172.29,1348.46 1179,1344.44 1185.7,1340.04 1192.41,1335.24 1199.12,1330 1205.82,1324.29 1212.53,1318.1 1219.24,1311.37 1225.95,1304.09 1232.65,1296.23 1239.36,1287.75 1246.07,1278.62 1252.78,1268.81 1259.48,1258.3 1266.19,1247.04 1272.9,1235.02 1279.6,1222.2 1286.31,1208.57 1293.02,1194.09 1299.73,1178.74 1306.43,1162.52 1313.14,1145.39 1319.85,1127.36 1326.55,1108.4 1333.26,1088.52 1339.97,1067.71 1346.68,1045.98 1353.38,1023.33 1360.09,999.786 1366.8,975.359 1373.5,950.075 1380.21,923.965 1386.92,897.065 1393.63,869.417 1400.33,841.069 1407.04,812.077 1413.75,782.501 1420.46,752.408 1427.16,721.871 1433.87,690.968 1440.58,659.783 1447.28,628.405 1453.99,596.93 1460.7,565.454 1467.41,534.082 1474.11,502.919 1480.82,472.074 1487.53,441.659 1494.23,411.787 1500.94,382.572 1507.65,354.129 1514.36,326.572 1521.06,300.014 1527.77,274.566 1534.48,250.336 1541.18,227.43 1547.89,205.947 1554.6,185.985 1561.31,167.632 1568.01,150.973 1574.72,136.085 1581.43,123.036 1588.14,111.889 1594.84,102.695 1601.55,95.4981 1608.26,90.3328 1614.96,87.2237 1621.67,86.1857 1628.38,87.2237 1635.09,90.3328 1641.79,95.4981 1648.5,102.695 1655.21,111.889 1661.91,123.036 1668.62,136.085 1675.33,150.973 1682.04,167.632 1688.74,185.985 1695.45,205.947 1702.16,227.43 1708.86,250.336 1715.57,274.566 1722.28,300.014 1728.99,326.572 1735.69,354.129 1742.4,382.572 1749.11,411.787 1755.82,441.659 1762.52,472.074 1769.23,502.919 1775.94,534.082 1782.64,565.454 1789.35,596.93 1796.06,628.405 1802.77,659.783 1809.47,690.968 1816.18,721.871 1822.89,752.408 1829.59,782.501 1836.3,812.077 1843.01,841.069 1849.72,869.417 1856.42,897.065 1863.13,923.965 1869.84,950.075 1876.54,975.359 1883.25,999.786 1889.96,1023.33 1896.67,1045.98 1903.37,1067.71 1910.08,1088.52 1916.79,1108.4 1923.5,1127.36 1930.2,1145.39 1936.91,1162.52 1943.62,1178.74 1950.32,1194.09 1957.03,1208.57 1963.74,1222.2 1970.45,1235.02 1977.15,1247.04 1983.86,1258.3 1990.57,1268.81 1997.27,1278.62 2003.98,1287.75 2010.69,1296.23 2017.4,1304.09 2024.1,1311.37 2030.81,1318.1 2037.52,1324.29 2044.22,1330 2050.93,1335.24 2057.64,1340.04 2064.35,1344.44 2071.05,1348.46 2077.76,1352.12 2084.47,1355.45 2091.18,1358.48 2097.88,1361.23 2104.59,1363.72 2111.3,1365.97 2118,1367.99 2124.71,1369.82 2131.42,1371.46 2138.13,1372.93 2144.83,1374.25 2151.54,1375.43 2158.25,1376.48 2164.95,1377.42 2171.66,1378.25 2178.37,1378.99 2185.08,1379.65 2191.78,1380.23 2198.49,1380.74 2205.2,1381.19 2211.9,1381.59 2218.61,1381.94 2225.32,1382.25 2232.03,1382.52 2238.73,1382.75 2245.44,1382.95 2252.15,1383.13 2258.86,1383.29 2265.56,1383.42 2272.27,1383.54 2278.98,1383.64 2285.68,1383.73 2292.39,1383.8 \"/>\n",
       "<path clip-path=\"url(#clip190)\" d=\"M1994.9 196.789 L2281.66 196.789 L2281.66 93.1086 L1994.9 93.1086  Z\" fill=\"#ffffff\" fill-rule=\"evenodd\" fill-opacity=\"1\"/>\n",
       "<polyline clip-path=\"url(#clip190)\" style=\"stroke:#000000; stroke-linecap:round; stroke-linejoin:round; stroke-width:4; stroke-opacity:1; fill:none\" points=\"1994.9,196.789 2281.66,196.789 2281.66,93.1086 1994.9,93.1086 1994.9,196.789 \"/>\n",
       "<polyline clip-path=\"url(#clip190)\" style=\"stroke:#ff0000; stroke-linecap:round; stroke-linejoin:round; stroke-width:20; stroke-opacity:1; fill:none\" stroke-dasharray=\"80, 50\" points=\"2018.6,144.949 2160.79,144.949 \"/>\n",
       "<path clip-path=\"url(#clip190)\" d=\"M2188.77 158.34 L2188.77 172.09 L2184.49 172.09 L2184.49 136.303 L2188.77 136.303 L2188.77 140.238 Q2190.11 137.923 2192.15 136.812 Q2194.21 135.678 2197.06 135.678 Q2201.78 135.678 2204.72 139.428 Q2207.68 143.178 2207.68 149.289 Q2207.68 155.4 2204.72 159.15 Q2201.78 162.9 2197.06 162.9 Q2194.21 162.9 2192.15 161.789 Q2190.11 160.655 2188.77 158.34 M2203.26 149.289 Q2203.26 144.59 2201.32 141.928 Q2199.4 139.243 2196.02 139.243 Q2192.64 139.243 2190.69 141.928 Q2188.77 144.59 2188.77 149.289 Q2188.77 153.988 2190.69 156.673 Q2192.64 159.335 2196.02 159.335 Q2199.4 159.335 2201.32 156.673 Q2203.26 153.988 2203.26 149.289 Z\" fill=\"#000000\" fill-rule=\"nonzero\" fill-opacity=\"1\" /><path clip-path=\"url(#clip190)\" d=\"M2231.8 140.238 L2231.8 126.21 L2236.06 126.21 L2236.06 162.229 L2231.8 162.229 L2231.8 158.34 Q2230.46 160.655 2228.4 161.789 Q2226.36 162.9 2223.49 162.9 Q2218.79 162.9 2215.83 159.15 Q2212.89 155.4 2212.89 149.289 Q2212.89 143.178 2215.83 139.428 Q2218.79 135.678 2223.49 135.678 Q2226.36 135.678 2228.4 136.812 Q2230.46 137.923 2231.8 140.238 M2217.29 149.289 Q2217.29 153.988 2219.21 156.673 Q2221.16 159.335 2224.54 159.335 Q2227.91 159.335 2229.86 156.673 Q2231.8 153.988 2231.8 149.289 Q2231.8 144.59 2229.86 141.928 Q2227.91 139.243 2224.54 139.243 Q2221.16 139.243 2219.21 141.928 Q2217.29 144.59 2217.29 149.289 Z\" fill=\"#000000\" fill-rule=\"nonzero\" fill-opacity=\"1\" /><path clip-path=\"url(#clip190)\" d=\"M2257.96 126.21 L2257.96 129.752 L2253.89 129.752 Q2251.6 129.752 2250.69 130.678 Q2249.81 131.604 2249.81 134.011 L2249.81 136.303 L2256.83 136.303 L2256.83 139.613 L2249.81 139.613 L2249.81 162.229 L2245.53 162.229 L2245.53 139.613 L2241.46 139.613 L2241.46 136.303 L2245.53 136.303 L2245.53 134.497 Q2245.53 130.169 2247.54 128.201 Q2249.56 126.21 2253.93 126.21 L2257.96 126.21 Z\" fill=\"#000000\" fill-rule=\"nonzero\" fill-opacity=\"1\" /></svg>\n"
      ]
     },
     "metadata": {},
     "output_type": "display_data"
    }
   ],
   "source": [
    "using Plots\n",
    "\n",
    "x = range(-3, stop=3, length=301)\n",
    "plot(x, pdf.(px, x), xlabel=\"x\", ylabel=\"p(x)\", label=\"pdf\", color=\"red\", linewidth=5, linestyle=:dash)"
   ]
  },
  {
   "cell_type": "markdown",
   "metadata": {},
   "source": [
    "`plot` and `scatter` are the most useful commands. A `scatter` command will ignore properties such as `linewidth` and `linestyle` (since there are no lines) and will listen to `markersize` and `markershape` commands (see [Supported Attributes](https://docs.juliaplots.org/stable/generated/supported/) in the API)."
   ]
  },
  {
   "cell_type": "code",
   "execution_count": 33,
   "metadata": {},
   "outputs": [
    {
     "data": {
      "image/png": "[encoded data removed]",
      "image/svg+xml": [
       "<?xml version=\"1.0\" encoding=\"utf-8\"?>\n",
       "<svg xmlns=\"http://www.w3.org/2000/svg\" xmlns:xlink=\"http://www.w3.org/1999/xlink\" width=\"600\" height=\"400\" viewBox=\"0 0 2400 1600\">\n",
       "<defs>\n",
       "  <clipPath id=\"clip230\">\n",
       "    <rect x=\"0\" y=\"0\" width=\"2400\" height=\"1600\"/>\n",
       "  </clipPath>\n",
       "</defs>\n",
       "<path clip-path=\"url(#clip230)\" d=\"M0 1600 L2400 1600 L2400 0 L0 0  Z\" fill=\"#ffffff\" fill-rule=\"evenodd\" fill-opacity=\"1\"/>\n",
       "<defs>\n",
       "  <clipPath id=\"clip231\">\n",
       "    <rect x=\"480\" y=\"0\" width=\"1681\" height=\"1600\"/>\n",
       "  </clipPath>\n",
       "</defs>\n",
       "<path clip-path=\"url(#clip230)\" d=\"M257.204 1423.18 L2352.76 1423.18 L2352.76 47.2441 L257.204 47.2441  Z\" fill=\"#ffffff\" fill-rule=\"evenodd\" fill-opacity=\"1\"/>\n",
       "<defs>\n",
       "  <clipPath id=\"clip232\">\n",
       "    <rect x=\"257\" y=\"47\" width=\"2097\" height=\"1377\"/>\n",
       "  </clipPath>\n",
       "</defs>\n",
       "<polyline clip-path=\"url(#clip232)\" style=\"stroke:#000000; stroke-linecap:round; stroke-linejoin:round; stroke-width:2; stroke-opacity:0.1; fill:none\" points=\"337.97,1423.18 337.97,47.2441 \"/>\n",
       "<polyline clip-path=\"url(#clip232)\" style=\"stroke:#000000; stroke-linecap:round; stroke-linejoin:round; stroke-width:2; stroke-opacity:0.1; fill:none\" points=\"719.103,1423.18 719.103,47.2441 \"/>\n",
       "<polyline clip-path=\"url(#clip232)\" style=\"stroke:#000000; stroke-linecap:round; stroke-linejoin:round; stroke-width:2; stroke-opacity:0.1; fill:none\" points=\"1100.24,1423.18 1100.24,47.2441 \"/>\n",
       "<polyline clip-path=\"url(#clip232)\" style=\"stroke:#000000; stroke-linecap:round; stroke-linejoin:round; stroke-width:2; stroke-opacity:0.1; fill:none\" points=\"1481.37,1423.18 1481.37,47.2441 \"/>\n",
       "<polyline clip-path=\"url(#clip232)\" style=\"stroke:#000000; stroke-linecap:round; stroke-linejoin:round; stroke-width:2; stroke-opacity:0.1; fill:none\" points=\"1862.5,1423.18 1862.5,47.2441 \"/>\n",
       "<polyline clip-path=\"url(#clip232)\" style=\"stroke:#000000; stroke-linecap:round; stroke-linejoin:round; stroke-width:2; stroke-opacity:0.1; fill:none\" points=\"2243.64,1423.18 2243.64,47.2441 \"/>\n",
       "<polyline clip-path=\"url(#clip232)\" style=\"stroke:#000000; stroke-linecap:round; stroke-linejoin:round; stroke-width:2; stroke-opacity:0.1; fill:none\" points=\"257.204,1296.28 2352.76,1296.28 \"/>\n",
       "<polyline clip-path=\"url(#clip232)\" style=\"stroke:#000000; stroke-linecap:round; stroke-linejoin:round; stroke-width:2; stroke-opacity:0.1; fill:none\" points=\"257.204,1016.79 2352.76,1016.79 \"/>\n",
       "<polyline clip-path=\"url(#clip232)\" style=\"stroke:#000000; stroke-linecap:round; stroke-linejoin:round; stroke-width:2; stroke-opacity:0.1; fill:none\" points=\"257.204,737.307 2352.76,737.307 \"/>\n",
       "<polyline clip-path=\"url(#clip232)\" style=\"stroke:#000000; stroke-linecap:round; stroke-linejoin:round; stroke-width:2; stroke-opacity:0.1; fill:none\" points=\"257.204,457.821 2352.76,457.821 \"/>\n",
       "<polyline clip-path=\"url(#clip232)\" style=\"stroke:#000000; stroke-linecap:round; stroke-linejoin:round; stroke-width:2; stroke-opacity:0.1; fill:none\" points=\"257.204,178.336 2352.76,178.336 \"/>\n",
       "<polyline clip-path=\"url(#clip230)\" style=\"stroke:#000000; stroke-linecap:round; stroke-linejoin:round; stroke-width:4; stroke-opacity:1; fill:none\" points=\"257.204,1423.18 2352.76,1423.18 \"/>\n",
       "<polyline clip-path=\"url(#clip230)\" style=\"stroke:#000000; stroke-linecap:round; stroke-linejoin:round; stroke-width:4; stroke-opacity:1; fill:none\" points=\"337.97,1423.18 337.97,1404.28 \"/>\n",
       "<polyline clip-path=\"url(#clip230)\" style=\"stroke:#000000; stroke-linecap:round; stroke-linejoin:round; stroke-width:4; stroke-opacity:1; fill:none\" points=\"719.103,1423.18 719.103,1404.28 \"/>\n",
       "<polyline clip-path=\"url(#clip230)\" style=\"stroke:#000000; stroke-linecap:round; stroke-linejoin:round; stroke-width:4; stroke-opacity:1; fill:none\" points=\"1100.24,1423.18 1100.24,1404.28 \"/>\n",
       "<polyline clip-path=\"url(#clip230)\" style=\"stroke:#000000; stroke-linecap:round; stroke-linejoin:round; stroke-width:4; stroke-opacity:1; fill:none\" points=\"1481.37,1423.18 1481.37,1404.28 \"/>\n",
       "<polyline clip-path=\"url(#clip230)\" style=\"stroke:#000000; stroke-linecap:round; stroke-linejoin:round; stroke-width:4; stroke-opacity:1; fill:none\" points=\"1862.5,1423.18 1862.5,1404.28 \"/>\n",
       "<polyline clip-path=\"url(#clip230)\" style=\"stroke:#000000; stroke-linecap:round; stroke-linejoin:round; stroke-width:4; stroke-opacity:1; fill:none\" points=\"2243.64,1423.18 2243.64,1404.28 \"/>\n",
       "<path clip-path=\"url(#clip230)\" d=\"M284.995 1468.75 L314.671 1468.75 L314.671 1472.69 L284.995 1472.69 L284.995 1468.75 Z\" fill=\"#000000\" fill-rule=\"nonzero\" fill-opacity=\"1\" /><path clip-path=\"url(#clip230)\" d=\"M334.764 1454.1 Q331.152 1454.1 329.324 1457.66 Q327.518 1461.2 327.518 1468.33 Q327.518 1475.44 329.324 1479.01 Q331.152 1482.55 334.764 1482.55 Q338.398 1482.55 340.203 1479.01 Q342.032 1475.44 342.032 1468.33 Q342.032 1461.2 340.203 1457.66 Q338.398 1454.1 334.764 1454.1 M334.764 1450.39 Q340.574 1450.39 343.629 1455 Q346.708 1459.58 346.708 1468.33 Q346.708 1477.06 343.629 1481.67 Q340.574 1486.25 334.764 1486.25 Q328.953 1486.25 325.875 1481.67 Q322.819 1477.06 322.819 1468.33 Q322.819 1459.58 325.875 1455 Q328.953 1450.39 334.764 1450.39 Z\" fill=\"#000000\" fill-rule=\"nonzero\" fill-opacity=\"1\" /><path clip-path=\"url(#clip230)\" d=\"M354.925 1479.7 L359.81 1479.7 L359.81 1485.58 L354.925 1485.58 L354.925 1479.7 Z\" fill=\"#000000\" fill-rule=\"nonzero\" fill-opacity=\"1\" /><path clip-path=\"url(#clip230)\" d=\"M370.041 1451.02 L388.398 1451.02 L388.398 1454.96 L374.324 1454.96 L374.324 1463.43 Q375.342 1463.08 376.361 1462.92 Q377.379 1462.73 378.398 1462.73 Q384.185 1462.73 387.564 1465.9 Q390.944 1469.08 390.944 1474.49 Q390.944 1480.07 387.472 1483.17 Q383.999 1486.25 377.68 1486.25 Q375.504 1486.25 373.236 1485.88 Q370.99 1485.51 368.583 1484.77 L368.583 1480.07 Q370.666 1481.2 372.888 1481.76 Q375.111 1482.32 377.587 1482.32 Q381.592 1482.32 383.93 1480.21 Q386.268 1478.1 386.268 1474.49 Q386.268 1470.88 383.93 1468.77 Q381.592 1466.67 377.587 1466.67 Q375.712 1466.67 373.837 1467.08 Q371.986 1467.5 370.041 1468.38 L370.041 1451.02 Z\" fill=\"#000000\" fill-rule=\"nonzero\" fill-opacity=\"1\" /><path clip-path=\"url(#clip230)\" d=\"M696.487 1454.1 Q692.876 1454.1 691.047 1457.66 Q689.242 1461.2 689.242 1468.33 Q689.242 1475.44 691.047 1479.01 Q692.876 1482.55 696.487 1482.55 Q700.121 1482.55 701.927 1479.01 Q703.756 1475.44 703.756 1468.33 Q703.756 1461.2 701.927 1457.66 Q700.121 1454.1 696.487 1454.1 M696.487 1450.39 Q702.297 1450.39 705.353 1455 Q708.431 1459.58 708.431 1468.33 Q708.431 1477.06 705.353 1481.67 Q702.297 1486.25 696.487 1486.25 Q690.677 1486.25 687.598 1481.67 Q684.543 1477.06 684.543 1468.33 Q684.543 1459.58 687.598 1455 Q690.677 1450.39 696.487 1450.39 Z\" fill=\"#000000\" fill-rule=\"nonzero\" fill-opacity=\"1\" /><path clip-path=\"url(#clip230)\" d=\"M716.649 1479.7 L721.533 1479.7 L721.533 1485.58 L716.649 1485.58 L716.649 1479.7 Z\" fill=\"#000000\" fill-rule=\"nonzero\" fill-opacity=\"1\" /><path clip-path=\"url(#clip230)\" d=\"M741.718 1454.1 Q738.107 1454.1 736.279 1457.66 Q734.473 1461.2 734.473 1468.33 Q734.473 1475.44 736.279 1479.01 Q738.107 1482.55 741.718 1482.55 Q745.353 1482.55 747.158 1479.01 Q748.987 1475.44 748.987 1468.33 Q748.987 1461.2 747.158 1457.66 Q745.353 1454.1 741.718 1454.1 M741.718 1450.39 Q747.528 1450.39 750.584 1455 Q753.663 1459.58 753.663 1468.33 Q753.663 1477.06 750.584 1481.67 Q747.528 1486.25 741.718 1486.25 Q735.908 1486.25 732.829 1481.67 Q729.774 1477.06 729.774 1468.33 Q729.774 1459.58 732.829 1455 Q735.908 1450.39 741.718 1450.39 Z\" fill=\"#000000\" fill-rule=\"nonzero\" fill-opacity=\"1\" /><path clip-path=\"url(#clip230)\" d=\"M1078.12 1454.1 Q1074.51 1454.1 1072.68 1457.66 Q1070.87 1461.2 1070.87 1468.33 Q1070.87 1475.44 1072.68 1479.01 Q1074.51 1482.55 1078.12 1482.55 Q1081.75 1482.55 1083.56 1479.01 Q1085.39 1475.44 1085.39 1468.33 Q1085.39 1461.2 1083.56 1457.66 Q1081.75 1454.1 1078.12 1454.1 M1078.12 1450.39 Q1083.93 1450.39 1086.98 1455 Q1090.06 1459.58 1090.06 1468.33 Q1090.06 1477.06 1086.98 1481.67 Q1083.93 1486.25 1078.12 1486.25 Q1072.31 1486.25 1069.23 1481.67 Q1066.17 1477.06 1066.17 1468.33 Q1066.17 1459.58 1069.23 1455 Q1072.31 1450.39 1078.12 1450.39 Z\" fill=\"#000000\" fill-rule=\"nonzero\" fill-opacity=\"1\" /><path clip-path=\"url(#clip230)\" d=\"M1098.28 1479.7 L1103.16 1479.7 L1103.16 1485.58 L1098.28 1485.58 L1098.28 1479.7 Z\" fill=\"#000000\" fill-rule=\"nonzero\" fill-opacity=\"1\" /><path clip-path=\"url(#clip230)\" d=\"M1113.4 1451.02 L1131.75 1451.02 L1131.75 1454.96 L1117.68 1454.96 L1117.68 1463.43 Q1118.7 1463.08 1119.71 1462.92 Q1120.73 1462.73 1121.75 1462.73 Q1127.54 1462.73 1130.92 1465.9 Q1134.3 1469.08 1134.3 1474.49 Q1134.3 1480.07 1130.83 1483.17 Q1127.35 1486.25 1121.03 1486.25 Q1118.86 1486.25 1116.59 1485.88 Q1114.34 1485.51 1111.94 1484.77 L1111.94 1480.07 Q1114.02 1481.2 1116.24 1481.76 Q1118.46 1482.32 1120.94 1482.32 Q1124.95 1482.32 1127.28 1480.21 Q1129.62 1478.1 1129.62 1474.49 Q1129.62 1470.88 1127.28 1468.77 Q1124.95 1466.67 1120.94 1466.67 Q1119.07 1466.67 1117.19 1467.08 Q1115.34 1467.5 1113.4 1468.38 L1113.4 1451.02 Z\" fill=\"#000000\" fill-rule=\"nonzero\" fill-opacity=\"1\" /><path clip-path=\"url(#clip230)\" d=\"M1448.52 1481.64 L1456.16 1481.64 L1456.16 1455.28 L1447.85 1456.95 L1447.85 1452.69 L1456.11 1451.02 L1460.79 1451.02 L1460.79 1481.64 L1468.43 1481.64 L1468.43 1485.58 L1448.52 1485.58 L1448.52 1481.64 Z\" fill=\"#000000\" fill-rule=\"nonzero\" fill-opacity=\"1\" /><path clip-path=\"url(#clip230)\" d=\"M1477.87 1479.7 L1482.76 1479.7 L1482.76 1485.58 L1477.87 1485.58 L1477.87 1479.7 Z\" fill=\"#000000\" fill-rule=\"nonzero\" fill-opacity=\"1\" /><path clip-path=\"url(#clip230)\" d=\"M1502.94 1454.1 Q1499.33 1454.1 1497.5 1457.66 Q1495.7 1461.2 1495.7 1468.33 Q1495.7 1475.44 1497.5 1479.01 Q1499.33 1482.55 1502.94 1482.55 Q1506.58 1482.55 1508.38 1479.01 Q1510.21 1475.44 1510.21 1468.33 Q1510.21 1461.2 1508.38 1457.66 Q1506.58 1454.1 1502.94 1454.1 M1502.94 1450.39 Q1508.75 1450.39 1511.81 1455 Q1514.89 1459.58 1514.89 1468.33 Q1514.89 1477.06 1511.81 1481.67 Q1508.75 1486.25 1502.94 1486.25 Q1497.13 1486.25 1494.05 1481.67 Q1491 1477.06 1491 1468.33 Q1491 1459.58 1494.05 1455 Q1497.13 1450.39 1502.94 1450.39 Z\" fill=\"#000000\" fill-rule=\"nonzero\" fill-opacity=\"1\" /><path clip-path=\"url(#clip230)\" d=\"M1830.15 1481.64 L1837.79 1481.64 L1837.79 1455.28 L1829.48 1456.95 L1829.48 1452.69 L1837.75 1451.02 L1842.42 1451.02 L1842.42 1481.64 L1850.06 1481.64 L1850.06 1485.58 L1830.15 1485.58 L1830.15 1481.64 Z\" fill=\"#000000\" fill-rule=\"nonzero\" fill-opacity=\"1\" /><path clip-path=\"url(#clip230)\" d=\"M1859.5 1479.7 L1864.39 1479.7 L1864.39 1485.58 L1859.5 1485.58 L1859.5 1479.7 Z\" fill=\"#000000\" fill-rule=\"nonzero\" fill-opacity=\"1\" /><path clip-path=\"url(#clip230)\" d=\"M1874.62 1451.02 L1892.98 1451.02 L1892.98 1454.96 L1878.9 1454.96 L1878.9 1463.43 Q1879.92 1463.08 1880.94 1462.92 Q1881.96 1462.73 1882.98 1462.73 Q1888.76 1462.73 1892.14 1465.9 Q1895.52 1469.08 1895.52 1474.49 Q1895.52 1480.07 1892.05 1483.17 Q1888.58 1486.25 1882.26 1486.25 Q1880.08 1486.25 1877.81 1485.88 Q1875.57 1485.51 1873.16 1484.77 L1873.16 1480.07 Q1875.25 1481.2 1877.47 1481.76 Q1879.69 1482.32 1882.17 1482.32 Q1886.17 1482.32 1888.51 1480.21 Q1890.85 1478.1 1890.85 1474.49 Q1890.85 1470.88 1888.51 1468.77 Q1886.17 1466.67 1882.17 1466.67 Q1880.29 1466.67 1878.42 1467.08 Q1876.56 1467.5 1874.62 1468.38 L1874.62 1451.02 Z\" fill=\"#000000\" fill-rule=\"nonzero\" fill-opacity=\"1\" /><path clip-path=\"url(#clip230)\" d=\"M2214.87 1481.64 L2231.19 1481.64 L2231.19 1485.58 L2209.25 1485.58 L2209.25 1481.64 Q2211.91 1478.89 2216.49 1474.26 Q2221.1 1469.61 2222.28 1468.27 Q2224.53 1465.74 2225.41 1464.01 Q2226.31 1462.25 2226.31 1460.56 Q2226.31 1457.8 2224.36 1456.07 Q2222.44 1454.33 2219.34 1454.33 Q2217.14 1454.33 2214.69 1455.09 Q2212.26 1455.86 2209.48 1457.41 L2209.48 1452.69 Q2212.3 1451.55 2214.76 1450.97 Q2217.21 1450.39 2219.25 1450.39 Q2224.62 1450.39 2227.81 1453.08 Q2231.01 1455.77 2231.01 1460.26 Q2231.01 1462.39 2230.2 1464.31 Q2229.41 1466.2 2227.3 1468.8 Q2226.73 1469.47 2223.62 1472.69 Q2220.52 1475.88 2214.87 1481.64 Z\" fill=\"#000000\" fill-rule=\"nonzero\" fill-opacity=\"1\" /><path clip-path=\"url(#clip230)\" d=\"M2241.01 1479.7 L2245.89 1479.7 L2245.89 1485.58 L2241.01 1485.58 L2241.01 1479.7 Z\" fill=\"#000000\" fill-rule=\"nonzero\" fill-opacity=\"1\" /><path clip-path=\"url(#clip230)\" d=\"M2266.08 1454.1 Q2262.47 1454.1 2260.64 1457.66 Q2258.83 1461.2 2258.83 1468.33 Q2258.83 1475.44 2260.64 1479.01 Q2262.47 1482.55 2266.08 1482.55 Q2269.71 1482.55 2271.52 1479.01 Q2273.35 1475.44 2273.35 1468.33 Q2273.35 1461.2 2271.52 1457.66 Q2269.71 1454.1 2266.08 1454.1 M2266.08 1450.39 Q2271.89 1450.39 2274.94 1455 Q2278.02 1459.58 2278.02 1468.33 Q2278.02 1477.06 2274.94 1481.67 Q2271.89 1486.25 2266.08 1486.25 Q2260.27 1486.25 2257.19 1481.67 Q2254.13 1477.06 2254.13 1468.33 Q2254.13 1459.58 2257.19 1455 Q2260.27 1450.39 2266.08 1450.39 Z\" fill=\"#000000\" fill-rule=\"nonzero\" fill-opacity=\"1\" /><path clip-path=\"url(#clip230)\" d=\"M1251.76 1520.52 L1258.67 1520.52 L1270.48 1538.19 L1282.35 1520.52 L1289.26 1520.52 L1273.98 1543.34 L1290.28 1568.04 L1283.37 1568.04 L1270 1547.83 L1256.54 1568.04 L1249.6 1568.04 L1266.56 1542.68 L1251.76 1520.52 Z\" fill=\"#000000\" fill-rule=\"nonzero\" fill-opacity=\"1\" /><path clip-path=\"url(#clip230)\" d=\"M1325.54 1578.87 L1325.54 1583.42 L1291.68 1583.42 L1291.68 1578.87 L1325.54 1578.87 Z\" fill=\"#000000\" fill-rule=\"nonzero\" fill-opacity=\"1\" /><path clip-path=\"url(#clip230)\" d=\"M1332.99 1562.63 L1343.49 1562.63 L1343.49 1526.38 L1332.07 1528.67 L1332.07 1522.82 L1343.43 1520.52 L1349.86 1520.52 L1349.86 1562.63 L1360.36 1562.63 L1360.36 1568.04 L1332.99 1568.04 L1332.99 1562.63 Z\" fill=\"#000000\" fill-rule=\"nonzero\" fill-opacity=\"1\" /><polyline clip-path=\"url(#clip230)\" style=\"stroke:#000000; stroke-linecap:round; stroke-linejoin:round; stroke-width:4; stroke-opacity:1; fill:none\" points=\"257.204,1423.18 257.204,47.2441 \"/>\n",
       "<polyline clip-path=\"url(#clip230)\" style=\"stroke:#000000; stroke-linecap:round; stroke-linejoin:round; stroke-width:4; stroke-opacity:1; fill:none\" points=\"257.204,1296.28 276.102,1296.28 \"/>\n",
       "<polyline clip-path=\"url(#clip230)\" style=\"stroke:#000000; stroke-linecap:round; stroke-linejoin:round; stroke-width:4; stroke-opacity:1; fill:none\" points=\"257.204,1016.79 276.102,1016.79 \"/>\n",
       "<polyline clip-path=\"url(#clip230)\" style=\"stroke:#000000; stroke-linecap:round; stroke-linejoin:round; stroke-width:4; stroke-opacity:1; fill:none\" points=\"257.204,737.307 276.102,737.307 \"/>\n",
       "<polyline clip-path=\"url(#clip230)\" style=\"stroke:#000000; stroke-linecap:round; stroke-linejoin:round; stroke-width:4; stroke-opacity:1; fill:none\" points=\"257.204,457.821 276.102,457.821 \"/>\n",
       "<polyline clip-path=\"url(#clip230)\" style=\"stroke:#000000; stroke-linecap:round; stroke-linejoin:round; stroke-width:4; stroke-opacity:1; fill:none\" points=\"257.204,178.336 276.102,178.336 \"/>\n",
       "<path clip-path=\"url(#clip230)\" d=\"M115.256 1296.73 L144.931 1296.73 L144.931 1300.66 L115.256 1300.66 L115.256 1296.73 Z\" fill=\"#000000\" fill-rule=\"nonzero\" fill-opacity=\"1\" /><path clip-path=\"url(#clip230)\" d=\"M155.834 1309.62 L163.473 1309.62 L163.473 1283.26 L155.163 1284.92 L155.163 1280.66 L163.427 1279 L168.102 1279 L168.102 1309.62 L175.741 1309.62 L175.741 1313.56 L155.834 1313.56 L155.834 1309.62 Z\" fill=\"#000000\" fill-rule=\"nonzero\" fill-opacity=\"1\" /><path clip-path=\"url(#clip230)\" d=\"M185.186 1307.68 L190.07 1307.68 L190.07 1313.56 L185.186 1313.56 L185.186 1307.68 Z\" fill=\"#000000\" fill-rule=\"nonzero\" fill-opacity=\"1\" /><path clip-path=\"url(#clip230)\" d=\"M200.301 1279 L218.658 1279 L218.658 1282.93 L204.584 1282.93 L204.584 1291.41 Q205.602 1291.06 206.621 1290.9 Q207.639 1290.71 208.658 1290.71 Q214.445 1290.71 217.824 1293.88 Q221.204 1297.05 221.204 1302.47 Q221.204 1308.05 217.732 1311.15 Q214.26 1314.23 207.94 1314.23 Q205.764 1314.23 203.496 1313.86 Q201.25 1313.49 198.843 1312.75 L198.843 1308.05 Q200.926 1309.18 203.149 1309.74 Q205.371 1310.29 207.848 1310.29 Q211.852 1310.29 214.19 1308.19 Q216.528 1306.08 216.528 1302.47 Q216.528 1298.86 214.19 1296.75 Q211.852 1294.65 207.848 1294.65 Q205.973 1294.65 204.098 1295.06 Q202.246 1295.48 200.301 1296.36 L200.301 1279 Z\" fill=\"#000000\" fill-rule=\"nonzero\" fill-opacity=\"1\" /><path clip-path=\"url(#clip230)\" d=\"M114.26 1017.24 L143.936 1017.24 L143.936 1021.18 L114.26 1021.18 L114.26 1017.24 Z\" fill=\"#000000\" fill-rule=\"nonzero\" fill-opacity=\"1\" /><path clip-path=\"url(#clip230)\" d=\"M154.839 1030.14 L162.477 1030.14 L162.477 1003.77 L154.167 1005.44 L154.167 1001.18 L162.431 999.512 L167.107 999.512 L167.107 1030.14 L174.746 1030.14 L174.746 1034.07 L154.839 1034.07 L154.839 1030.14 Z\" fill=\"#000000\" fill-rule=\"nonzero\" fill-opacity=\"1\" /><path clip-path=\"url(#clip230)\" d=\"M184.19 1028.19 L189.075 1028.19 L189.075 1034.07 L184.19 1034.07 L184.19 1028.19 Z\" fill=\"#000000\" fill-rule=\"nonzero\" fill-opacity=\"1\" /><path clip-path=\"url(#clip230)\" d=\"M209.26 1002.59 Q205.649 1002.59 203.82 1006.16 Q202.014 1009.7 202.014 1016.83 Q202.014 1023.93 203.82 1027.5 Q205.649 1031.04 209.26 1031.04 Q212.894 1031.04 214.699 1027.5 Q216.528 1023.93 216.528 1016.83 Q216.528 1009.7 214.699 1006.16 Q212.894 1002.59 209.26 1002.59 M209.26 998.887 Q215.07 998.887 218.125 1003.49 Q221.204 1008.08 221.204 1016.83 Q221.204 1025.55 218.125 1030.16 Q215.07 1034.74 209.26 1034.74 Q203.449 1034.74 200.371 1030.16 Q197.315 1025.55 197.315 1016.83 Q197.315 1008.08 200.371 1003.49 Q203.449 998.887 209.26 998.887 Z\" fill=\"#000000\" fill-rule=\"nonzero\" fill-opacity=\"1\" /><path clip-path=\"url(#clip230)\" d=\"M115.256 737.758 L144.931 737.758 L144.931 741.693 L115.256 741.693 L115.256 737.758 Z\" fill=\"#000000\" fill-rule=\"nonzero\" fill-opacity=\"1\" /><path clip-path=\"url(#clip230)\" d=\"M165.024 723.105 Q161.413 723.105 159.584 726.67 Q157.778 730.212 157.778 737.342 Q157.778 744.448 159.584 748.013 Q161.413 751.554 165.024 751.554 Q168.658 751.554 170.464 748.013 Q172.292 744.448 172.292 737.342 Q172.292 730.212 170.464 726.67 Q168.658 723.105 165.024 723.105 M165.024 719.402 Q170.834 719.402 173.889 724.008 Q176.968 728.592 176.968 737.342 Q176.968 746.068 173.889 750.675 Q170.834 755.258 165.024 755.258 Q159.214 755.258 156.135 750.675 Q153.079 746.068 153.079 737.342 Q153.079 728.592 156.135 724.008 Q159.214 719.402 165.024 719.402 Z\" fill=\"#000000\" fill-rule=\"nonzero\" fill-opacity=\"1\" /><path clip-path=\"url(#clip230)\" d=\"M185.186 748.707 L190.07 748.707 L190.07 754.587 L185.186 754.587 L185.186 748.707 Z\" fill=\"#000000\" fill-rule=\"nonzero\" fill-opacity=\"1\" /><path clip-path=\"url(#clip230)\" d=\"M200.301 720.027 L218.658 720.027 L218.658 723.962 L204.584 723.962 L204.584 732.434 Q205.602 732.087 206.621 731.925 Q207.639 731.74 208.658 731.74 Q214.445 731.74 217.824 734.911 Q221.204 738.082 221.204 743.499 Q221.204 749.078 217.732 752.179 Q214.26 755.258 207.94 755.258 Q205.764 755.258 203.496 754.888 Q201.25 754.517 198.843 753.777 L198.843 749.078 Q200.926 750.212 203.149 750.767 Q205.371 751.323 207.848 751.323 Q211.852 751.323 214.19 749.216 Q216.528 747.11 216.528 743.499 Q216.528 739.888 214.19 737.781 Q211.852 735.675 207.848 735.675 Q205.973 735.675 204.098 736.092 Q202.246 736.508 200.301 737.388 L200.301 720.027 Z\" fill=\"#000000\" fill-rule=\"nonzero\" fill-opacity=\"1\" /><path clip-path=\"url(#clip230)\" d=\"M164.028 443.62 Q160.417 443.62 158.589 447.185 Q156.783 450.726 156.783 457.856 Q156.783 464.962 158.589 468.527 Q160.417 472.069 164.028 472.069 Q167.663 472.069 169.468 468.527 Q171.297 464.962 171.297 457.856 Q171.297 450.726 169.468 447.185 Q167.663 443.62 164.028 443.62 M164.028 439.916 Q169.839 439.916 172.894 444.523 Q175.973 449.106 175.973 457.856 Q175.973 466.583 172.894 471.189 Q169.839 475.773 164.028 475.773 Q158.218 475.773 155.14 471.189 Q152.084 466.583 152.084 457.856 Q152.084 449.106 155.14 444.523 Q158.218 439.916 164.028 439.916 Z\" fill=\"#000000\" fill-rule=\"nonzero\" fill-opacity=\"1\" /><path clip-path=\"url(#clip230)\" d=\"M184.19 469.222 L189.075 469.222 L189.075 475.101 L184.19 475.101 L184.19 469.222 Z\" fill=\"#000000\" fill-rule=\"nonzero\" fill-opacity=\"1\" /><path clip-path=\"url(#clip230)\" d=\"M209.26 443.62 Q205.649 443.62 203.82 447.185 Q202.014 450.726 202.014 457.856 Q202.014 464.962 203.82 468.527 Q205.649 472.069 209.26 472.069 Q212.894 472.069 214.699 468.527 Q216.528 464.962 216.528 457.856 Q216.528 450.726 214.699 447.185 Q212.894 443.62 209.26 443.62 M209.26 439.916 Q215.07 439.916 218.125 444.523 Q221.204 449.106 221.204 457.856 Q221.204 466.583 218.125 471.189 Q215.07 475.773 209.26 475.773 Q203.449 475.773 200.371 471.189 Q197.315 466.583 197.315 457.856 Q197.315 449.106 200.371 444.523 Q203.449 439.916 209.26 439.916 Z\" fill=\"#000000\" fill-rule=\"nonzero\" fill-opacity=\"1\" /><path clip-path=\"url(#clip230)\" d=\"M165.024 164.135 Q161.413 164.135 159.584 167.699 Q157.778 171.241 157.778 178.371 Q157.778 185.477 159.584 189.042 Q161.413 192.583 165.024 192.583 Q168.658 192.583 170.464 189.042 Q172.292 185.477 172.292 178.371 Q172.292 171.241 170.464 167.699 Q168.658 164.135 165.024 164.135 M165.024 160.431 Q170.834 160.431 173.889 165.037 Q176.968 169.621 176.968 178.371 Q176.968 187.097 173.889 191.704 Q170.834 196.287 165.024 196.287 Q159.214 196.287 156.135 191.704 Q153.079 187.097 153.079 178.371 Q153.079 169.621 156.135 165.037 Q159.214 160.431 165.024 160.431 Z\" fill=\"#000000\" fill-rule=\"nonzero\" fill-opacity=\"1\" /><path clip-path=\"url(#clip230)\" d=\"M185.186 189.736 L190.07 189.736 L190.07 195.616 L185.186 195.616 L185.186 189.736 Z\" fill=\"#000000\" fill-rule=\"nonzero\" fill-opacity=\"1\" /><path clip-path=\"url(#clip230)\" d=\"M200.301 161.056 L218.658 161.056 L218.658 164.991 L204.584 164.991 L204.584 173.463 Q205.602 173.116 206.621 172.954 Q207.639 172.769 208.658 172.769 Q214.445 172.769 217.824 175.94 Q221.204 179.111 221.204 184.528 Q221.204 190.107 217.732 193.208 Q214.26 196.287 207.94 196.287 Q205.764 196.287 203.496 195.917 Q201.25 195.546 198.843 194.806 L198.843 190.107 Q200.926 191.241 203.149 191.796 Q205.371 192.352 207.848 192.352 Q211.852 192.352 214.19 190.246 Q216.528 188.139 216.528 184.528 Q216.528 180.917 214.19 178.81 Q211.852 176.704 207.848 176.704 Q205.973 176.704 204.098 177.121 Q202.246 177.537 200.301 178.417 L200.301 161.056 Z\" fill=\"#000000\" fill-rule=\"nonzero\" fill-opacity=\"1\" /><path clip-path=\"url(#clip230)\" d=\"M16.4842 788.175 L16.4842 781.268 L34.149 769.459 L16.4842 757.587 L16.4842 750.681 L39.3052 765.958 L64.0042 749.662 L64.0042 756.569 L43.793 769.937 L64.0042 783.4 L64.0042 790.339 L38.6368 773.374 L16.4842 788.175 Z\" fill=\"#000000\" fill-rule=\"nonzero\" fill-opacity=\"1\" /><path clip-path=\"url(#clip230)\" d=\"M74.8259 714.396 L79.3773 714.396 L79.3773 748.262 L74.8259 748.262 L74.8259 714.396 Z\" fill=\"#000000\" fill-rule=\"nonzero\" fill-opacity=\"1\" /><path clip-path=\"url(#clip230)\" d=\"M58.5933 702.524 L58.5933 680.085 L64.0042 680.085 L64.0042 710.258 L58.5933 710.258 Q54.8057 706.598 48.44 700.296 Q42.0425 693.962 40.1964 692.339 Q36.7271 689.252 34.34 688.042 Q31.921 686.801 29.5975 686.801 Q25.8099 686.801 23.4228 689.474 Q21.0356 692.116 21.0356 696.381 Q21.0356 699.405 22.086 702.779 Q23.1363 706.121 25.2688 709.94 L18.7758 709.94 Q17.2162 706.057 16.4205 702.683 Q15.6248 699.309 15.6248 696.508 Q15.6248 689.124 19.3169 684.732 Q23.009 680.34 29.1837 680.34 Q32.112 680.34 34.7537 681.454 Q37.3637 682.536 40.9285 685.432 Q41.8515 686.228 46.2757 690.493 Q50.668 694.758 58.5933 702.524 Z\" fill=\"#000000\" fill-rule=\"nonzero\" fill-opacity=\"1\" /><line clip-path=\"url(#clip232)\" x1=\"551.915\" y1=\"924.371\" x2=\"551.915\" y2=\"884.371\" style=\"stroke:#009af9; stroke-width:3.2; stroke-opacity:1\"/>\n",
       "<line clip-path=\"url(#clip232)\" x1=\"551.915\" y1=\"924.371\" x2=\"511.915\" y2=\"924.371\" style=\"stroke:#009af9; stroke-width:3.2; stroke-opacity:1\"/>\n",
       "<line clip-path=\"url(#clip232)\" x1=\"551.915\" y1=\"924.371\" x2=\"551.915\" y2=\"964.371\" style=\"stroke:#009af9; stroke-width:3.2; stroke-opacity:1\"/>\n",
       "<line clip-path=\"url(#clip232)\" x1=\"551.915\" y1=\"924.371\" x2=\"591.915\" y2=\"924.371\" style=\"stroke:#009af9; stroke-width:3.2; stroke-opacity:1\"/>\n",
       "<line clip-path=\"url(#clip232)\" x1=\"1159.06\" y1=\"475.671\" x2=\"1159.06\" y2=\"435.671\" style=\"stroke:#009af9; stroke-width:3.2; stroke-opacity:1\"/>\n",
       "<line clip-path=\"url(#clip232)\" x1=\"1159.06\" y1=\"475.671\" x2=\"1119.06\" y2=\"475.671\" style=\"stroke:#009af9; stroke-width:3.2; stroke-opacity:1\"/>\n",
       "<line clip-path=\"url(#clip232)\" x1=\"1159.06\" y1=\"475.671\" x2=\"1159.06\" y2=\"515.671\" style=\"stroke:#009af9; stroke-width:3.2; stroke-opacity:1\"/>\n",
       "<line clip-path=\"url(#clip232)\" x1=\"1159.06\" y1=\"475.671\" x2=\"1199.06\" y2=\"475.671\" style=\"stroke:#009af9; stroke-width:3.2; stroke-opacity:1\"/>\n",
       "<line clip-path=\"url(#clip232)\" x1=\"1122.87\" y1=\"524.414\" x2=\"1122.87\" y2=\"484.414\" style=\"stroke:#009af9; stroke-width:3.2; stroke-opacity:1\"/>\n",
       "<line clip-path=\"url(#clip232)\" x1=\"1122.87\" y1=\"524.414\" x2=\"1082.87\" y2=\"524.414\" style=\"stroke:#009af9; stroke-width:3.2; stroke-opacity:1\"/>\n",
       "<line clip-path=\"url(#clip232)\" x1=\"1122.87\" y1=\"524.414\" x2=\"1122.87\" y2=\"564.414\" style=\"stroke:#009af9; stroke-width:3.2; stroke-opacity:1\"/>\n",
       "<line clip-path=\"url(#clip232)\" x1=\"1122.87\" y1=\"524.414\" x2=\"1162.87\" y2=\"524.414\" style=\"stroke:#009af9; stroke-width:3.2; stroke-opacity:1\"/>\n",
       "<line clip-path=\"url(#clip232)\" x1=\"493.472\" y1=\"731.178\" x2=\"493.472\" y2=\"691.178\" style=\"stroke:#009af9; stroke-width:3.2; stroke-opacity:1\"/>\n",
       "<line clip-path=\"url(#clip232)\" x1=\"493.472\" y1=\"731.178\" x2=\"453.472\" y2=\"731.178\" style=\"stroke:#009af9; stroke-width:3.2; stroke-opacity:1\"/>\n",
       "<line clip-path=\"url(#clip232)\" x1=\"493.472\" y1=\"731.178\" x2=\"493.472\" y2=\"771.178\" style=\"stroke:#009af9; stroke-width:3.2; stroke-opacity:1\"/>\n",
       "<line clip-path=\"url(#clip232)\" x1=\"493.472\" y1=\"731.178\" x2=\"533.472\" y2=\"731.178\" style=\"stroke:#009af9; stroke-width:3.2; stroke-opacity:1\"/>\n",
       "<line clip-path=\"url(#clip232)\" x1=\"2293.45\" y1=\"570.263\" x2=\"2293.45\" y2=\"530.263\" style=\"stroke:#009af9; stroke-width:3.2; stroke-opacity:1\"/>\n",
       "<line clip-path=\"url(#clip232)\" x1=\"2293.45\" y1=\"570.263\" x2=\"2253.45\" y2=\"570.263\" style=\"stroke:#009af9; stroke-width:3.2; stroke-opacity:1\"/>\n",
       "<line clip-path=\"url(#clip232)\" x1=\"2293.45\" y1=\"570.263\" x2=\"2293.45\" y2=\"610.263\" style=\"stroke:#009af9; stroke-width:3.2; stroke-opacity:1\"/>\n",
       "<line clip-path=\"url(#clip232)\" x1=\"2293.45\" y1=\"570.263\" x2=\"2333.45\" y2=\"570.263\" style=\"stroke:#009af9; stroke-width:3.2; stroke-opacity:1\"/>\n",
       "<line clip-path=\"url(#clip232)\" x1=\"1564.87\" y1=\"185.52\" x2=\"1564.87\" y2=\"145.52\" style=\"stroke:#009af9; stroke-width:3.2; stroke-opacity:1\"/>\n",
       "<line clip-path=\"url(#clip232)\" x1=\"1564.87\" y1=\"185.52\" x2=\"1524.87\" y2=\"185.52\" style=\"stroke:#009af9; stroke-width:3.2; stroke-opacity:1\"/>\n",
       "<line clip-path=\"url(#clip232)\" x1=\"1564.87\" y1=\"185.52\" x2=\"1564.87\" y2=\"225.52\" style=\"stroke:#009af9; stroke-width:3.2; stroke-opacity:1\"/>\n",
       "<line clip-path=\"url(#clip232)\" x1=\"1564.87\" y1=\"185.52\" x2=\"1604.87\" y2=\"185.52\" style=\"stroke:#009af9; stroke-width:3.2; stroke-opacity:1\"/>\n",
       "<line clip-path=\"url(#clip232)\" x1=\"1047.21\" y1=\"1024.3\" x2=\"1047.21\" y2=\"984.301\" style=\"stroke:#009af9; stroke-width:3.2; stroke-opacity:1\"/>\n",
       "<line clip-path=\"url(#clip232)\" x1=\"1047.21\" y1=\"1024.3\" x2=\"1007.21\" y2=\"1024.3\" style=\"stroke:#009af9; stroke-width:3.2; stroke-opacity:1\"/>\n",
       "<line clip-path=\"url(#clip232)\" x1=\"1047.21\" y1=\"1024.3\" x2=\"1047.21\" y2=\"1064.3\" style=\"stroke:#009af9; stroke-width:3.2; stroke-opacity:1\"/>\n",
       "<line clip-path=\"url(#clip232)\" x1=\"1047.21\" y1=\"1024.3\" x2=\"1087.21\" y2=\"1024.3\" style=\"stroke:#009af9; stroke-width:3.2; stroke-opacity:1\"/>\n",
       "<line clip-path=\"url(#clip232)\" x1=\"659.411\" y1=\"86.1857\" x2=\"659.411\" y2=\"46.1857\" style=\"stroke:#009af9; stroke-width:3.2; stroke-opacity:1\"/>\n",
       "<line clip-path=\"url(#clip232)\" x1=\"659.411\" y1=\"86.1857\" x2=\"619.411\" y2=\"86.1857\" style=\"stroke:#009af9; stroke-width:3.2; stroke-opacity:1\"/>\n",
       "<line clip-path=\"url(#clip232)\" x1=\"659.411\" y1=\"86.1857\" x2=\"659.411\" y2=\"126.186\" style=\"stroke:#009af9; stroke-width:3.2; stroke-opacity:1\"/>\n",
       "<line clip-path=\"url(#clip232)\" x1=\"659.411\" y1=\"86.1857\" x2=\"699.411\" y2=\"86.1857\" style=\"stroke:#009af9; stroke-width:3.2; stroke-opacity:1\"/>\n",
       "<line clip-path=\"url(#clip232)\" x1=\"921.628\" y1=\"752.372\" x2=\"921.628\" y2=\"712.372\" style=\"stroke:#009af9; stroke-width:3.2; stroke-opacity:1\"/>\n",
       "<line clip-path=\"url(#clip232)\" x1=\"921.628\" y1=\"752.372\" x2=\"881.628\" y2=\"752.372\" style=\"stroke:#009af9; stroke-width:3.2; stroke-opacity:1\"/>\n",
       "<line clip-path=\"url(#clip232)\" x1=\"921.628\" y1=\"752.372\" x2=\"921.628\" y2=\"792.372\" style=\"stroke:#009af9; stroke-width:3.2; stroke-opacity:1\"/>\n",
       "<line clip-path=\"url(#clip232)\" x1=\"921.628\" y1=\"752.372\" x2=\"961.628\" y2=\"752.372\" style=\"stroke:#009af9; stroke-width:3.2; stroke-opacity:1\"/>\n",
       "<line clip-path=\"url(#clip232)\" x1=\"316.512\" y1=\"1384.24\" x2=\"316.512\" y2=\"1344.24\" style=\"stroke:#009af9; stroke-width:3.2; stroke-opacity:1\"/>\n",
       "<line clip-path=\"url(#clip232)\" x1=\"316.512\" y1=\"1384.24\" x2=\"276.512\" y2=\"1384.24\" style=\"stroke:#009af9; stroke-width:3.2; stroke-opacity:1\"/>\n",
       "<line clip-path=\"url(#clip232)\" x1=\"316.512\" y1=\"1384.24\" x2=\"316.512\" y2=\"1424.24\" style=\"stroke:#009af9; stroke-width:3.2; stroke-opacity:1\"/>\n",
       "<line clip-path=\"url(#clip232)\" x1=\"316.512\" y1=\"1384.24\" x2=\"356.512\" y2=\"1384.24\" style=\"stroke:#009af9; stroke-width:3.2; stroke-opacity:1\"/>\n",
       "<path clip-path=\"url(#clip230)\" d=\"M2020.92 196.789 L2282.9 196.789 L2282.9 93.1086 L2020.92 93.1086  Z\" fill=\"#ffffff\" fill-rule=\"evenodd\" fill-opacity=\"1\"/>\n",
       "<polyline clip-path=\"url(#clip230)\" style=\"stroke:#000000; stroke-linecap:round; stroke-linejoin:round; stroke-width:4; stroke-opacity:1; fill:none\" points=\"2020.92,196.789 2282.9,196.789 2282.9,93.1086 2020.92,93.1086 2020.92,196.789 \"/>\n",
       "<line clip-path=\"url(#clip230)\" x1=\"2114.05\" y1=\"144.949\" x2=\"2114.05\" y2=\"120.568\" style=\"stroke:#009af9; stroke-width:1.95048; stroke-opacity:1\"/>\n",
       "<line clip-path=\"url(#clip230)\" x1=\"2114.05\" y1=\"144.949\" x2=\"2089.67\" y2=\"144.949\" style=\"stroke:#009af9; stroke-width:1.95048; stroke-opacity:1\"/>\n",
       "<line clip-path=\"url(#clip230)\" x1=\"2114.05\" y1=\"144.949\" x2=\"2114.05\" y2=\"169.33\" style=\"stroke:#009af9; stroke-width:1.95048; stroke-opacity:1\"/>\n",
       "<line clip-path=\"url(#clip230)\" x1=\"2114.05\" y1=\"144.949\" x2=\"2138.44\" y2=\"144.949\" style=\"stroke:#009af9; stroke-width:1.95048; stroke-opacity:1\"/>\n",
       "<path clip-path=\"url(#clip230)\" d=\"M2221.03 164.636 Q2219.23 169.266 2217.51 170.678 Q2215.8 172.09 2212.93 172.09 L2209.53 172.09 L2209.53 168.525 L2212.03 168.525 Q2213.79 168.525 2214.76 167.692 Q2215.73 166.858 2216.91 163.756 L2217.68 161.812 L2207.19 136.303 L2211.7 136.303 L2219.81 156.581 L2227.91 136.303 L2232.42 136.303 L2221.03 164.636 Z\" fill=\"#000000\" fill-rule=\"nonzero\" fill-opacity=\"1\" /><path clip-path=\"url(#clip230)\" d=\"M2239.71 158.293 L2247.35 158.293 L2247.35 131.928 L2239.04 133.595 L2239.04 129.335 L2247.31 127.669 L2251.98 127.669 L2251.98 158.293 L2259.62 158.293 L2259.62 162.229 L2239.71 162.229 L2239.71 158.293 Z\" fill=\"#000000\" fill-rule=\"nonzero\" fill-opacity=\"1\" /></svg>\n"
      ],
      "text/html": [
       "<?xml version=\"1.0\" encoding=\"utf-8\"?>\n",
       "<svg xmlns=\"http://www.w3.org/2000/svg\" xmlns:xlink=\"http://www.w3.org/1999/xlink\" width=\"600\" height=\"400\" viewBox=\"0 0 2400 1600\">\n",
       "<defs>\n",
       "  <clipPath id=\"clip280\">\n",
       "    <rect x=\"0\" y=\"0\" width=\"2400\" height=\"1600\"/>\n",
       "  </clipPath>\n",
       "</defs>\n",
       "<path clip-path=\"url(#clip280)\" d=\"M0 1600 L2400 1600 L2400 0 L0 0  Z\" fill=\"#ffffff\" fill-rule=\"evenodd\" fill-opacity=\"1\"/>\n",
       "<defs>\n",
       "  <clipPath id=\"clip281\">\n",
       "    <rect x=\"480\" y=\"0\" width=\"1681\" height=\"1600\"/>\n",
       "  </clipPath>\n",
       "</defs>\n",
       "<path clip-path=\"url(#clip280)\" d=\"M257.204 1423.18 L2352.76 1423.18 L2352.76 47.2441 L257.204 47.2441  Z\" fill=\"#ffffff\" fill-rule=\"evenodd\" fill-opacity=\"1\"/>\n",
       "<defs>\n",
       "  <clipPath id=\"clip282\">\n",
       "    <rect x=\"257\" y=\"47\" width=\"2097\" height=\"1377\"/>\n",
       "  </clipPath>\n",
       "</defs>\n",
       "<polyline clip-path=\"url(#clip282)\" style=\"stroke:#000000; stroke-linecap:round; stroke-linejoin:round; stroke-width:2; stroke-opacity:0.1; fill:none\" points=\"337.97,1423.18 337.97,47.2441 \"/>\n",
       "<polyline clip-path=\"url(#clip282)\" style=\"stroke:#000000; stroke-linecap:round; stroke-linejoin:round; stroke-width:2; stroke-opacity:0.1; fill:none\" points=\"719.103,1423.18 719.103,47.2441 \"/>\n",
       "<polyline clip-path=\"url(#clip282)\" style=\"stroke:#000000; stroke-linecap:round; stroke-linejoin:round; stroke-width:2; stroke-opacity:0.1; fill:none\" points=\"1100.24,1423.18 1100.24,47.2441 \"/>\n",
       "<polyline clip-path=\"url(#clip282)\" style=\"stroke:#000000; stroke-linecap:round; stroke-linejoin:round; stroke-width:2; stroke-opacity:0.1; fill:none\" points=\"1481.37,1423.18 1481.37,47.2441 \"/>\n",
       "<polyline clip-path=\"url(#clip282)\" style=\"stroke:#000000; stroke-linecap:round; stroke-linejoin:round; stroke-width:2; stroke-opacity:0.1; fill:none\" points=\"1862.5,1423.18 1862.5,47.2441 \"/>\n",
       "<polyline clip-path=\"url(#clip282)\" style=\"stroke:#000000; stroke-linecap:round; stroke-linejoin:round; stroke-width:2; stroke-opacity:0.1; fill:none\" points=\"2243.64,1423.18 2243.64,47.2441 \"/>\n",
       "<polyline clip-path=\"url(#clip282)\" style=\"stroke:#000000; stroke-linecap:round; stroke-linejoin:round; stroke-width:2; stroke-opacity:0.1; fill:none\" points=\"257.204,1296.28 2352.76,1296.28 \"/>\n",
       "<polyline clip-path=\"url(#clip282)\" style=\"stroke:#000000; stroke-linecap:round; stroke-linejoin:round; stroke-width:2; stroke-opacity:0.1; fill:none\" points=\"257.204,1016.79 2352.76,1016.79 \"/>\n",
       "<polyline clip-path=\"url(#clip282)\" style=\"stroke:#000000; stroke-linecap:round; stroke-linejoin:round; stroke-width:2; stroke-opacity:0.1; fill:none\" points=\"257.204,737.307 2352.76,737.307 \"/>\n",
       "<polyline clip-path=\"url(#clip282)\" style=\"stroke:#000000; stroke-linecap:round; stroke-linejoin:round; stroke-width:2; stroke-opacity:0.1; fill:none\" points=\"257.204,457.821 2352.76,457.821 \"/>\n",
       "<polyline clip-path=\"url(#clip282)\" style=\"stroke:#000000; stroke-linecap:round; stroke-linejoin:round; stroke-width:2; stroke-opacity:0.1; fill:none\" points=\"257.204,178.336 2352.76,178.336 \"/>\n",
       "<polyline clip-path=\"url(#clip280)\" style=\"stroke:#000000; stroke-linecap:round; stroke-linejoin:round; stroke-width:4; stroke-opacity:1; fill:none\" points=\"257.204,1423.18 2352.76,1423.18 \"/>\n",
       "<polyline clip-path=\"url(#clip280)\" style=\"stroke:#000000; stroke-linecap:round; stroke-linejoin:round; stroke-width:4; stroke-opacity:1; fill:none\" points=\"337.97,1423.18 337.97,1404.28 \"/>\n",
       "<polyline clip-path=\"url(#clip280)\" style=\"stroke:#000000; stroke-linecap:round; stroke-linejoin:round; stroke-width:4; stroke-opacity:1; fill:none\" points=\"719.103,1423.18 719.103,1404.28 \"/>\n",
       "<polyline clip-path=\"url(#clip280)\" style=\"stroke:#000000; stroke-linecap:round; stroke-linejoin:round; stroke-width:4; stroke-opacity:1; fill:none\" points=\"1100.24,1423.18 1100.24,1404.28 \"/>\n",
       "<polyline clip-path=\"url(#clip280)\" style=\"stroke:#000000; stroke-linecap:round; stroke-linejoin:round; stroke-width:4; stroke-opacity:1; fill:none\" points=\"1481.37,1423.18 1481.37,1404.28 \"/>\n",
       "<polyline clip-path=\"url(#clip280)\" style=\"stroke:#000000; stroke-linecap:round; stroke-linejoin:round; stroke-width:4; stroke-opacity:1; fill:none\" points=\"1862.5,1423.18 1862.5,1404.28 \"/>\n",
       "<polyline clip-path=\"url(#clip280)\" style=\"stroke:#000000; stroke-linecap:round; stroke-linejoin:round; stroke-width:4; stroke-opacity:1; fill:none\" points=\"2243.64,1423.18 2243.64,1404.28 \"/>\n",
       "<path clip-path=\"url(#clip280)\" d=\"M284.995 1468.75 L314.671 1468.75 L314.671 1472.69 L284.995 1472.69 L284.995 1468.75 Z\" fill=\"#000000\" fill-rule=\"nonzero\" fill-opacity=\"1\" /><path clip-path=\"url(#clip280)\" d=\"M334.764 1454.1 Q331.152 1454.1 329.324 1457.66 Q327.518 1461.2 327.518 1468.33 Q327.518 1475.44 329.324 1479.01 Q331.152 1482.55 334.764 1482.55 Q338.398 1482.55 340.203 1479.01 Q342.032 1475.44 342.032 1468.33 Q342.032 1461.2 340.203 1457.66 Q338.398 1454.1 334.764 1454.1 M334.764 1450.39 Q340.574 1450.39 343.629 1455 Q346.708 1459.58 346.708 1468.33 Q346.708 1477.06 343.629 1481.67 Q340.574 1486.25 334.764 1486.25 Q328.953 1486.25 325.875 1481.67 Q322.819 1477.06 322.819 1468.33 Q322.819 1459.58 325.875 1455 Q328.953 1450.39 334.764 1450.39 Z\" fill=\"#000000\" fill-rule=\"nonzero\" fill-opacity=\"1\" /><path clip-path=\"url(#clip280)\" d=\"M354.925 1479.7 L359.81 1479.7 L359.81 1485.58 L354.925 1485.58 L354.925 1479.7 Z\" fill=\"#000000\" fill-rule=\"nonzero\" fill-opacity=\"1\" /><path clip-path=\"url(#clip280)\" d=\"M370.041 1451.02 L388.398 1451.02 L388.398 1454.96 L374.324 1454.96 L374.324 1463.43 Q375.342 1463.08 376.361 1462.92 Q377.379 1462.73 378.398 1462.73 Q384.185 1462.73 387.564 1465.9 Q390.944 1469.08 390.944 1474.49 Q390.944 1480.07 387.472 1483.17 Q383.999 1486.25 377.68 1486.25 Q375.504 1486.25 373.236 1485.88 Q370.99 1485.51 368.583 1484.77 L368.583 1480.07 Q370.666 1481.2 372.888 1481.76 Q375.111 1482.32 377.587 1482.32 Q381.592 1482.32 383.93 1480.21 Q386.268 1478.1 386.268 1474.49 Q386.268 1470.88 383.93 1468.77 Q381.592 1466.67 377.587 1466.67 Q375.712 1466.67 373.837 1467.08 Q371.986 1467.5 370.041 1468.38 L370.041 1451.02 Z\" fill=\"#000000\" fill-rule=\"nonzero\" fill-opacity=\"1\" /><path clip-path=\"url(#clip280)\" d=\"M696.487 1454.1 Q692.876 1454.1 691.047 1457.66 Q689.242 1461.2 689.242 1468.33 Q689.242 1475.44 691.047 1479.01 Q692.876 1482.55 696.487 1482.55 Q700.121 1482.55 701.927 1479.01 Q703.756 1475.44 703.756 1468.33 Q703.756 1461.2 701.927 1457.66 Q700.121 1454.1 696.487 1454.1 M696.487 1450.39 Q702.297 1450.39 705.353 1455 Q708.431 1459.58 708.431 1468.33 Q708.431 1477.06 705.353 1481.67 Q702.297 1486.25 696.487 1486.25 Q690.677 1486.25 687.598 1481.67 Q684.543 1477.06 684.543 1468.33 Q684.543 1459.58 687.598 1455 Q690.677 1450.39 696.487 1450.39 Z\" fill=\"#000000\" fill-rule=\"nonzero\" fill-opacity=\"1\" /><path clip-path=\"url(#clip280)\" d=\"M716.649 1479.7 L721.533 1479.7 L721.533 1485.58 L716.649 1485.58 L716.649 1479.7 Z\" fill=\"#000000\" fill-rule=\"nonzero\" fill-opacity=\"1\" /><path clip-path=\"url(#clip280)\" d=\"M741.718 1454.1 Q738.107 1454.1 736.279 1457.66 Q734.473 1461.2 734.473 1468.33 Q734.473 1475.44 736.279 1479.01 Q738.107 1482.55 741.718 1482.55 Q745.353 1482.55 747.158 1479.01 Q748.987 1475.44 748.987 1468.33 Q748.987 1461.2 747.158 1457.66 Q745.353 1454.1 741.718 1454.1 M741.718 1450.39 Q747.528 1450.39 750.584 1455 Q753.663 1459.58 753.663 1468.33 Q753.663 1477.06 750.584 1481.67 Q747.528 1486.25 741.718 1486.25 Q735.908 1486.25 732.829 1481.67 Q729.774 1477.06 729.774 1468.33 Q729.774 1459.58 732.829 1455 Q735.908 1450.39 741.718 1450.39 Z\" fill=\"#000000\" fill-rule=\"nonzero\" fill-opacity=\"1\" /><path clip-path=\"url(#clip280)\" d=\"M1078.12 1454.1 Q1074.51 1454.1 1072.68 1457.66 Q1070.87 1461.2 1070.87 1468.33 Q1070.87 1475.44 1072.68 1479.01 Q1074.51 1482.55 1078.12 1482.55 Q1081.75 1482.55 1083.56 1479.01 Q1085.39 1475.44 1085.39 1468.33 Q1085.39 1461.2 1083.56 1457.66 Q1081.75 1454.1 1078.12 1454.1 M1078.12 1450.39 Q1083.93 1450.39 1086.98 1455 Q1090.06 1459.58 1090.06 1468.33 Q1090.06 1477.06 1086.98 1481.67 Q1083.93 1486.25 1078.12 1486.25 Q1072.31 1486.25 1069.23 1481.67 Q1066.17 1477.06 1066.17 1468.33 Q1066.17 1459.58 1069.23 1455 Q1072.31 1450.39 1078.12 1450.39 Z\" fill=\"#000000\" fill-rule=\"nonzero\" fill-opacity=\"1\" /><path clip-path=\"url(#clip280)\" d=\"M1098.28 1479.7 L1103.16 1479.7 L1103.16 1485.58 L1098.28 1485.58 L1098.28 1479.7 Z\" fill=\"#000000\" fill-rule=\"nonzero\" fill-opacity=\"1\" /><path clip-path=\"url(#clip280)\" d=\"M1113.4 1451.02 L1131.75 1451.02 L1131.75 1454.96 L1117.68 1454.96 L1117.68 1463.43 Q1118.7 1463.08 1119.71 1462.92 Q1120.73 1462.73 1121.75 1462.73 Q1127.54 1462.73 1130.92 1465.9 Q1134.3 1469.08 1134.3 1474.49 Q1134.3 1480.07 1130.83 1483.17 Q1127.35 1486.25 1121.03 1486.25 Q1118.86 1486.25 1116.59 1485.88 Q1114.34 1485.51 1111.94 1484.77 L1111.94 1480.07 Q1114.02 1481.2 1116.24 1481.76 Q1118.46 1482.32 1120.94 1482.32 Q1124.95 1482.32 1127.28 1480.21 Q1129.62 1478.1 1129.62 1474.49 Q1129.62 1470.88 1127.28 1468.77 Q1124.95 1466.67 1120.94 1466.67 Q1119.07 1466.67 1117.19 1467.08 Q1115.34 1467.5 1113.4 1468.38 L1113.4 1451.02 Z\" fill=\"#000000\" fill-rule=\"nonzero\" fill-opacity=\"1\" /><path clip-path=\"url(#clip280)\" d=\"M1448.52 1481.64 L1456.16 1481.64 L1456.16 1455.28 L1447.85 1456.95 L1447.85 1452.69 L1456.11 1451.02 L1460.79 1451.02 L1460.79 1481.64 L1468.43 1481.64 L1468.43 1485.58 L1448.52 1485.58 L1448.52 1481.64 Z\" fill=\"#000000\" fill-rule=\"nonzero\" fill-opacity=\"1\" /><path clip-path=\"url(#clip280)\" d=\"M1477.87 1479.7 L1482.76 1479.7 L1482.76 1485.58 L1477.87 1485.58 L1477.87 1479.7 Z\" fill=\"#000000\" fill-rule=\"nonzero\" fill-opacity=\"1\" /><path clip-path=\"url(#clip280)\" d=\"M1502.94 1454.1 Q1499.33 1454.1 1497.5 1457.66 Q1495.7 1461.2 1495.7 1468.33 Q1495.7 1475.44 1497.5 1479.01 Q1499.33 1482.55 1502.94 1482.55 Q1506.58 1482.55 1508.38 1479.01 Q1510.21 1475.44 1510.21 1468.33 Q1510.21 1461.2 1508.38 1457.66 Q1506.58 1454.1 1502.94 1454.1 M1502.94 1450.39 Q1508.75 1450.39 1511.81 1455 Q1514.89 1459.58 1514.89 1468.33 Q1514.89 1477.06 1511.81 1481.67 Q1508.75 1486.25 1502.94 1486.25 Q1497.13 1486.25 1494.05 1481.67 Q1491 1477.06 1491 1468.33 Q1491 1459.58 1494.05 1455 Q1497.13 1450.39 1502.94 1450.39 Z\" fill=\"#000000\" fill-rule=\"nonzero\" fill-opacity=\"1\" /><path clip-path=\"url(#clip280)\" d=\"M1830.15 1481.64 L1837.79 1481.64 L1837.79 1455.28 L1829.48 1456.95 L1829.48 1452.69 L1837.75 1451.02 L1842.42 1451.02 L1842.42 1481.64 L1850.06 1481.64 L1850.06 1485.58 L1830.15 1485.58 L1830.15 1481.64 Z\" fill=\"#000000\" fill-rule=\"nonzero\" fill-opacity=\"1\" /><path clip-path=\"url(#clip280)\" d=\"M1859.5 1479.7 L1864.39 1479.7 L1864.39 1485.58 L1859.5 1485.58 L1859.5 1479.7 Z\" fill=\"#000000\" fill-rule=\"nonzero\" fill-opacity=\"1\" /><path clip-path=\"url(#clip280)\" d=\"M1874.62 1451.02 L1892.98 1451.02 L1892.98 1454.96 L1878.9 1454.96 L1878.9 1463.43 Q1879.92 1463.08 1880.94 1462.92 Q1881.96 1462.73 1882.98 1462.73 Q1888.76 1462.73 1892.14 1465.9 Q1895.52 1469.08 1895.52 1474.49 Q1895.52 1480.07 1892.05 1483.17 Q1888.58 1486.25 1882.26 1486.25 Q1880.08 1486.25 1877.81 1485.88 Q1875.57 1485.51 1873.16 1484.77 L1873.16 1480.07 Q1875.25 1481.2 1877.47 1481.76 Q1879.69 1482.32 1882.17 1482.32 Q1886.17 1482.32 1888.51 1480.21 Q1890.85 1478.1 1890.85 1474.49 Q1890.85 1470.88 1888.51 1468.77 Q1886.17 1466.67 1882.17 1466.67 Q1880.29 1466.67 1878.42 1467.08 Q1876.56 1467.5 1874.62 1468.38 L1874.62 1451.02 Z\" fill=\"#000000\" fill-rule=\"nonzero\" fill-opacity=\"1\" /><path clip-path=\"url(#clip280)\" d=\"M2214.87 1481.64 L2231.19 1481.64 L2231.19 1485.58 L2209.25 1485.58 L2209.25 1481.64 Q2211.91 1478.89 2216.49 1474.26 Q2221.1 1469.61 2222.28 1468.27 Q2224.53 1465.74 2225.41 1464.01 Q2226.31 1462.25 2226.31 1460.56 Q2226.31 1457.8 2224.36 1456.07 Q2222.44 1454.33 2219.34 1454.33 Q2217.14 1454.33 2214.69 1455.09 Q2212.26 1455.86 2209.48 1457.41 L2209.48 1452.69 Q2212.3 1451.55 2214.76 1450.97 Q2217.21 1450.39 2219.25 1450.39 Q2224.62 1450.39 2227.81 1453.08 Q2231.01 1455.77 2231.01 1460.26 Q2231.01 1462.39 2230.2 1464.31 Q2229.41 1466.2 2227.3 1468.8 Q2226.73 1469.47 2223.62 1472.69 Q2220.52 1475.88 2214.87 1481.64 Z\" fill=\"#000000\" fill-rule=\"nonzero\" fill-opacity=\"1\" /><path clip-path=\"url(#clip280)\" d=\"M2241.01 1479.7 L2245.89 1479.7 L2245.89 1485.58 L2241.01 1485.58 L2241.01 1479.7 Z\" fill=\"#000000\" fill-rule=\"nonzero\" fill-opacity=\"1\" /><path clip-path=\"url(#clip280)\" d=\"M2266.08 1454.1 Q2262.47 1454.1 2260.64 1457.66 Q2258.83 1461.2 2258.83 1468.33 Q2258.83 1475.44 2260.64 1479.01 Q2262.47 1482.55 2266.08 1482.55 Q2269.71 1482.55 2271.52 1479.01 Q2273.35 1475.44 2273.35 1468.33 Q2273.35 1461.2 2271.52 1457.66 Q2269.71 1454.1 2266.08 1454.1 M2266.08 1450.39 Q2271.89 1450.39 2274.94 1455 Q2278.02 1459.58 2278.02 1468.33 Q2278.02 1477.06 2274.94 1481.67 Q2271.89 1486.25 2266.08 1486.25 Q2260.27 1486.25 2257.19 1481.67 Q2254.13 1477.06 2254.13 1468.33 Q2254.13 1459.58 2257.19 1455 Q2260.27 1450.39 2266.08 1450.39 Z\" fill=\"#000000\" fill-rule=\"nonzero\" fill-opacity=\"1\" /><path clip-path=\"url(#clip280)\" d=\"M1251.76 1520.52 L1258.67 1520.52 L1270.48 1538.19 L1282.35 1520.52 L1289.26 1520.52 L1273.98 1543.34 L1290.28 1568.04 L1283.37 1568.04 L1270 1547.83 L1256.54 1568.04 L1249.6 1568.04 L1266.56 1542.68 L1251.76 1520.52 Z\" fill=\"#000000\" fill-rule=\"nonzero\" fill-opacity=\"1\" /><path clip-path=\"url(#clip280)\" d=\"M1325.54 1578.87 L1325.54 1583.42 L1291.68 1583.42 L1291.68 1578.87 L1325.54 1578.87 Z\" fill=\"#000000\" fill-rule=\"nonzero\" fill-opacity=\"1\" /><path clip-path=\"url(#clip280)\" d=\"M1332.99 1562.63 L1343.49 1562.63 L1343.49 1526.38 L1332.07 1528.67 L1332.07 1522.82 L1343.43 1520.52 L1349.86 1520.52 L1349.86 1562.63 L1360.36 1562.63 L1360.36 1568.04 L1332.99 1568.04 L1332.99 1562.63 Z\" fill=\"#000000\" fill-rule=\"nonzero\" fill-opacity=\"1\" /><polyline clip-path=\"url(#clip280)\" style=\"stroke:#000000; stroke-linecap:round; stroke-linejoin:round; stroke-width:4; stroke-opacity:1; fill:none\" points=\"257.204,1423.18 257.204,47.2441 \"/>\n",
       "<polyline clip-path=\"url(#clip280)\" style=\"stroke:#000000; stroke-linecap:round; stroke-linejoin:round; stroke-width:4; stroke-opacity:1; fill:none\" points=\"257.204,1296.28 276.102,1296.28 \"/>\n",
       "<polyline clip-path=\"url(#clip280)\" style=\"stroke:#000000; stroke-linecap:round; stroke-linejoin:round; stroke-width:4; stroke-opacity:1; fill:none\" points=\"257.204,1016.79 276.102,1016.79 \"/>\n",
       "<polyline clip-path=\"url(#clip280)\" style=\"stroke:#000000; stroke-linecap:round; stroke-linejoin:round; stroke-width:4; stroke-opacity:1; fill:none\" points=\"257.204,737.307 276.102,737.307 \"/>\n",
       "<polyline clip-path=\"url(#clip280)\" style=\"stroke:#000000; stroke-linecap:round; stroke-linejoin:round; stroke-width:4; stroke-opacity:1; fill:none\" points=\"257.204,457.821 276.102,457.821 \"/>\n",
       "<polyline clip-path=\"url(#clip280)\" style=\"stroke:#000000; stroke-linecap:round; stroke-linejoin:round; stroke-width:4; stroke-opacity:1; fill:none\" points=\"257.204,178.336 276.102,178.336 \"/>\n",
       "<path clip-path=\"url(#clip280)\" d=\"M115.256 1296.73 L144.931 1296.73 L144.931 1300.66 L115.256 1300.66 L115.256 1296.73 Z\" fill=\"#000000\" fill-rule=\"nonzero\" fill-opacity=\"1\" /><path clip-path=\"url(#clip280)\" d=\"M155.834 1309.62 L163.473 1309.62 L163.473 1283.26 L155.163 1284.92 L155.163 1280.66 L163.427 1279 L168.102 1279 L168.102 1309.62 L175.741 1309.62 L175.741 1313.56 L155.834 1313.56 L155.834 1309.62 Z\" fill=\"#000000\" fill-rule=\"nonzero\" fill-opacity=\"1\" /><path clip-path=\"url(#clip280)\" d=\"M185.186 1307.68 L190.07 1307.68 L190.07 1313.56 L185.186 1313.56 L185.186 1307.68 Z\" fill=\"#000000\" fill-rule=\"nonzero\" fill-opacity=\"1\" /><path clip-path=\"url(#clip280)\" d=\"M200.301 1279 L218.658 1279 L218.658 1282.93 L204.584 1282.93 L204.584 1291.41 Q205.602 1291.06 206.621 1290.9 Q207.639 1290.71 208.658 1290.71 Q214.445 1290.71 217.824 1293.88 Q221.204 1297.05 221.204 1302.47 Q221.204 1308.05 217.732 1311.15 Q214.26 1314.23 207.94 1314.23 Q205.764 1314.23 203.496 1313.86 Q201.25 1313.49 198.843 1312.75 L198.843 1308.05 Q200.926 1309.18 203.149 1309.74 Q205.371 1310.29 207.848 1310.29 Q211.852 1310.29 214.19 1308.19 Q216.528 1306.08 216.528 1302.47 Q216.528 1298.86 214.19 1296.75 Q211.852 1294.65 207.848 1294.65 Q205.973 1294.65 204.098 1295.06 Q202.246 1295.48 200.301 1296.36 L200.301 1279 Z\" fill=\"#000000\" fill-rule=\"nonzero\" fill-opacity=\"1\" /><path clip-path=\"url(#clip280)\" d=\"M114.26 1017.24 L143.936 1017.24 L143.936 1021.18 L114.26 1021.18 L114.26 1017.24 Z\" fill=\"#000000\" fill-rule=\"nonzero\" fill-opacity=\"1\" /><path clip-path=\"url(#clip280)\" d=\"M154.839 1030.14 L162.477 1030.14 L162.477 1003.77 L154.167 1005.44 L154.167 1001.18 L162.431 999.512 L167.107 999.512 L167.107 1030.14 L174.746 1030.14 L174.746 1034.07 L154.839 1034.07 L154.839 1030.14 Z\" fill=\"#000000\" fill-rule=\"nonzero\" fill-opacity=\"1\" /><path clip-path=\"url(#clip280)\" d=\"M184.19 1028.19 L189.075 1028.19 L189.075 1034.07 L184.19 1034.07 L184.19 1028.19 Z\" fill=\"#000000\" fill-rule=\"nonzero\" fill-opacity=\"1\" /><path clip-path=\"url(#clip280)\" d=\"M209.26 1002.59 Q205.649 1002.59 203.82 1006.16 Q202.014 1009.7 202.014 1016.83 Q202.014 1023.93 203.82 1027.5 Q205.649 1031.04 209.26 1031.04 Q212.894 1031.04 214.699 1027.5 Q216.528 1023.93 216.528 1016.83 Q216.528 1009.7 214.699 1006.16 Q212.894 1002.59 209.26 1002.59 M209.26 998.887 Q215.07 998.887 218.125 1003.49 Q221.204 1008.08 221.204 1016.83 Q221.204 1025.55 218.125 1030.16 Q215.07 1034.74 209.26 1034.74 Q203.449 1034.74 200.371 1030.16 Q197.315 1025.55 197.315 1016.83 Q197.315 1008.08 200.371 1003.49 Q203.449 998.887 209.26 998.887 Z\" fill=\"#000000\" fill-rule=\"nonzero\" fill-opacity=\"1\" /><path clip-path=\"url(#clip280)\" d=\"M115.256 737.758 L144.931 737.758 L144.931 741.693 L115.256 741.693 L115.256 737.758 Z\" fill=\"#000000\" fill-rule=\"nonzero\" fill-opacity=\"1\" /><path clip-path=\"url(#clip280)\" d=\"M165.024 723.105 Q161.413 723.105 159.584 726.67 Q157.778 730.212 157.778 737.342 Q157.778 744.448 159.584 748.013 Q161.413 751.554 165.024 751.554 Q168.658 751.554 170.464 748.013 Q172.292 744.448 172.292 737.342 Q172.292 730.212 170.464 726.67 Q168.658 723.105 165.024 723.105 M165.024 719.402 Q170.834 719.402 173.889 724.008 Q176.968 728.592 176.968 737.342 Q176.968 746.068 173.889 750.675 Q170.834 755.258 165.024 755.258 Q159.214 755.258 156.135 750.675 Q153.079 746.068 153.079 737.342 Q153.079 728.592 156.135 724.008 Q159.214 719.402 165.024 719.402 Z\" fill=\"#000000\" fill-rule=\"nonzero\" fill-opacity=\"1\" /><path clip-path=\"url(#clip280)\" d=\"M185.186 748.707 L190.07 748.707 L190.07 754.587 L185.186 754.587 L185.186 748.707 Z\" fill=\"#000000\" fill-rule=\"nonzero\" fill-opacity=\"1\" /><path clip-path=\"url(#clip280)\" d=\"M200.301 720.027 L218.658 720.027 L218.658 723.962 L204.584 723.962 L204.584 732.434 Q205.602 732.087 206.621 731.925 Q207.639 731.74 208.658 731.74 Q214.445 731.74 217.824 734.911 Q221.204 738.082 221.204 743.499 Q221.204 749.078 217.732 752.179 Q214.26 755.258 207.94 755.258 Q205.764 755.258 203.496 754.888 Q201.25 754.517 198.843 753.777 L198.843 749.078 Q200.926 750.212 203.149 750.767 Q205.371 751.323 207.848 751.323 Q211.852 751.323 214.19 749.216 Q216.528 747.11 216.528 743.499 Q216.528 739.888 214.19 737.781 Q211.852 735.675 207.848 735.675 Q205.973 735.675 204.098 736.092 Q202.246 736.508 200.301 737.388 L200.301 720.027 Z\" fill=\"#000000\" fill-rule=\"nonzero\" fill-opacity=\"1\" /><path clip-path=\"url(#clip280)\" d=\"M164.028 443.62 Q160.417 443.62 158.589 447.185 Q156.783 450.726 156.783 457.856 Q156.783 464.962 158.589 468.527 Q160.417 472.069 164.028 472.069 Q167.663 472.069 169.468 468.527 Q171.297 464.962 171.297 457.856 Q171.297 450.726 169.468 447.185 Q167.663 443.62 164.028 443.62 M164.028 439.916 Q169.839 439.916 172.894 444.523 Q175.973 449.106 175.973 457.856 Q175.973 466.583 172.894 471.189 Q169.839 475.773 164.028 475.773 Q158.218 475.773 155.14 471.189 Q152.084 466.583 152.084 457.856 Q152.084 449.106 155.14 444.523 Q158.218 439.916 164.028 439.916 Z\" fill=\"#000000\" fill-rule=\"nonzero\" fill-opacity=\"1\" /><path clip-path=\"url(#clip280)\" d=\"M184.19 469.222 L189.075 469.222 L189.075 475.101 L184.19 475.101 L184.19 469.222 Z\" fill=\"#000000\" fill-rule=\"nonzero\" fill-opacity=\"1\" /><path clip-path=\"url(#clip280)\" d=\"M209.26 443.62 Q205.649 443.62 203.82 447.185 Q202.014 450.726 202.014 457.856 Q202.014 464.962 203.82 468.527 Q205.649 472.069 209.26 472.069 Q212.894 472.069 214.699 468.527 Q216.528 464.962 216.528 457.856 Q216.528 450.726 214.699 447.185 Q212.894 443.62 209.26 443.62 M209.26 439.916 Q215.07 439.916 218.125 444.523 Q221.204 449.106 221.204 457.856 Q221.204 466.583 218.125 471.189 Q215.07 475.773 209.26 475.773 Q203.449 475.773 200.371 471.189 Q197.315 466.583 197.315 457.856 Q197.315 449.106 200.371 444.523 Q203.449 439.916 209.26 439.916 Z\" fill=\"#000000\" fill-rule=\"nonzero\" fill-opacity=\"1\" /><path clip-path=\"url(#clip280)\" d=\"M165.024 164.135 Q161.413 164.135 159.584 167.699 Q157.778 171.241 157.778 178.371 Q157.778 185.477 159.584 189.042 Q161.413 192.583 165.024 192.583 Q168.658 192.583 170.464 189.042 Q172.292 185.477 172.292 178.371 Q172.292 171.241 170.464 167.699 Q168.658 164.135 165.024 164.135 M165.024 160.431 Q170.834 160.431 173.889 165.037 Q176.968 169.621 176.968 178.371 Q176.968 187.097 173.889 191.704 Q170.834 196.287 165.024 196.287 Q159.214 196.287 156.135 191.704 Q153.079 187.097 153.079 178.371 Q153.079 169.621 156.135 165.037 Q159.214 160.431 165.024 160.431 Z\" fill=\"#000000\" fill-rule=\"nonzero\" fill-opacity=\"1\" /><path clip-path=\"url(#clip280)\" d=\"M185.186 189.736 L190.07 189.736 L190.07 195.616 L185.186 195.616 L185.186 189.736 Z\" fill=\"#000000\" fill-rule=\"nonzero\" fill-opacity=\"1\" /><path clip-path=\"url(#clip280)\" d=\"M200.301 161.056 L218.658 161.056 L218.658 164.991 L204.584 164.991 L204.584 173.463 Q205.602 173.116 206.621 172.954 Q207.639 172.769 208.658 172.769 Q214.445 172.769 217.824 175.94 Q221.204 179.111 221.204 184.528 Q221.204 190.107 217.732 193.208 Q214.26 196.287 207.94 196.287 Q205.764 196.287 203.496 195.917 Q201.25 195.546 198.843 194.806 L198.843 190.107 Q200.926 191.241 203.149 191.796 Q205.371 192.352 207.848 192.352 Q211.852 192.352 214.19 190.246 Q216.528 188.139 216.528 184.528 Q216.528 180.917 214.19 178.81 Q211.852 176.704 207.848 176.704 Q205.973 176.704 204.098 177.121 Q202.246 177.537 200.301 178.417 L200.301 161.056 Z\" fill=\"#000000\" fill-rule=\"nonzero\" fill-opacity=\"1\" /><path clip-path=\"url(#clip280)\" d=\"M16.4842 788.175 L16.4842 781.268 L34.149 769.459 L16.4842 757.587 L16.4842 750.681 L39.3052 765.958 L64.0042 749.662 L64.0042 756.569 L43.793 769.937 L64.0042 783.4 L64.0042 790.339 L38.6368 773.374 L16.4842 788.175 Z\" fill=\"#000000\" fill-rule=\"nonzero\" fill-opacity=\"1\" /><path clip-path=\"url(#clip280)\" d=\"M74.8259 714.396 L79.3773 714.396 L79.3773 748.262 L74.8259 748.262 L74.8259 714.396 Z\" fill=\"#000000\" fill-rule=\"nonzero\" fill-opacity=\"1\" /><path clip-path=\"url(#clip280)\" d=\"M58.5933 702.524 L58.5933 680.085 L64.0042 680.085 L64.0042 710.258 L58.5933 710.258 Q54.8057 706.598 48.44 700.296 Q42.0425 693.962 40.1964 692.339 Q36.7271 689.252 34.34 688.042 Q31.921 686.801 29.5975 686.801 Q25.8099 686.801 23.4228 689.474 Q21.0356 692.116 21.0356 696.381 Q21.0356 699.405 22.086 702.779 Q23.1363 706.121 25.2688 709.94 L18.7758 709.94 Q17.2162 706.057 16.4205 702.683 Q15.6248 699.309 15.6248 696.508 Q15.6248 689.124 19.3169 684.732 Q23.009 680.34 29.1837 680.34 Q32.112 680.34 34.7537 681.454 Q37.3637 682.536 40.9285 685.432 Q41.8515 686.228 46.2757 690.493 Q50.668 694.758 58.5933 702.524 Z\" fill=\"#000000\" fill-rule=\"nonzero\" fill-opacity=\"1\" /><line clip-path=\"url(#clip282)\" x1=\"551.915\" y1=\"924.371\" x2=\"551.915\" y2=\"884.371\" style=\"stroke:#009af9; stroke-width:3.2; stroke-opacity:1\"/>\n",
       "<line clip-path=\"url(#clip282)\" x1=\"551.915\" y1=\"924.371\" x2=\"511.915\" y2=\"924.371\" style=\"stroke:#009af9; stroke-width:3.2; stroke-opacity:1\"/>\n",
       "<line clip-path=\"url(#clip282)\" x1=\"551.915\" y1=\"924.371\" x2=\"551.915\" y2=\"964.371\" style=\"stroke:#009af9; stroke-width:3.2; stroke-opacity:1\"/>\n",
       "<line clip-path=\"url(#clip282)\" x1=\"551.915\" y1=\"924.371\" x2=\"591.915\" y2=\"924.371\" style=\"stroke:#009af9; stroke-width:3.2; stroke-opacity:1\"/>\n",
       "<line clip-path=\"url(#clip282)\" x1=\"1159.06\" y1=\"475.671\" x2=\"1159.06\" y2=\"435.671\" style=\"stroke:#009af9; stroke-width:3.2; stroke-opacity:1\"/>\n",
       "<line clip-path=\"url(#clip282)\" x1=\"1159.06\" y1=\"475.671\" x2=\"1119.06\" y2=\"475.671\" style=\"stroke:#009af9; stroke-width:3.2; stroke-opacity:1\"/>\n",
       "<line clip-path=\"url(#clip282)\" x1=\"1159.06\" y1=\"475.671\" x2=\"1159.06\" y2=\"515.671\" style=\"stroke:#009af9; stroke-width:3.2; stroke-opacity:1\"/>\n",
       "<line clip-path=\"url(#clip282)\" x1=\"1159.06\" y1=\"475.671\" x2=\"1199.06\" y2=\"475.671\" style=\"stroke:#009af9; stroke-width:3.2; stroke-opacity:1\"/>\n",
       "<line clip-path=\"url(#clip282)\" x1=\"1122.87\" y1=\"524.414\" x2=\"1122.87\" y2=\"484.414\" style=\"stroke:#009af9; stroke-width:3.2; stroke-opacity:1\"/>\n",
       "<line clip-path=\"url(#clip282)\" x1=\"1122.87\" y1=\"524.414\" x2=\"1082.87\" y2=\"524.414\" style=\"stroke:#009af9; stroke-width:3.2; stroke-opacity:1\"/>\n",
       "<line clip-path=\"url(#clip282)\" x1=\"1122.87\" y1=\"524.414\" x2=\"1122.87\" y2=\"564.414\" style=\"stroke:#009af9; stroke-width:3.2; stroke-opacity:1\"/>\n",
       "<line clip-path=\"url(#clip282)\" x1=\"1122.87\" y1=\"524.414\" x2=\"1162.87\" y2=\"524.414\" style=\"stroke:#009af9; stroke-width:3.2; stroke-opacity:1\"/>\n",
       "<line clip-path=\"url(#clip282)\" x1=\"493.472\" y1=\"731.178\" x2=\"493.472\" y2=\"691.178\" style=\"stroke:#009af9; stroke-width:3.2; stroke-opacity:1\"/>\n",
       "<line clip-path=\"url(#clip282)\" x1=\"493.472\" y1=\"731.178\" x2=\"453.472\" y2=\"731.178\" style=\"stroke:#009af9; stroke-width:3.2; stroke-opacity:1\"/>\n",
       "<line clip-path=\"url(#clip282)\" x1=\"493.472\" y1=\"731.178\" x2=\"493.472\" y2=\"771.178\" style=\"stroke:#009af9; stroke-width:3.2; stroke-opacity:1\"/>\n",
       "<line clip-path=\"url(#clip282)\" x1=\"493.472\" y1=\"731.178\" x2=\"533.472\" y2=\"731.178\" style=\"stroke:#009af9; stroke-width:3.2; stroke-opacity:1\"/>\n",
       "<line clip-path=\"url(#clip282)\" x1=\"2293.45\" y1=\"570.263\" x2=\"2293.45\" y2=\"530.263\" style=\"stroke:#009af9; stroke-width:3.2; stroke-opacity:1\"/>\n",
       "<line clip-path=\"url(#clip282)\" x1=\"2293.45\" y1=\"570.263\" x2=\"2253.45\" y2=\"570.263\" style=\"stroke:#009af9; stroke-width:3.2; stroke-opacity:1\"/>\n",
       "<line clip-path=\"url(#clip282)\" x1=\"2293.45\" y1=\"570.263\" x2=\"2293.45\" y2=\"610.263\" style=\"stroke:#009af9; stroke-width:3.2; stroke-opacity:1\"/>\n",
       "<line clip-path=\"url(#clip282)\" x1=\"2293.45\" y1=\"570.263\" x2=\"2333.45\" y2=\"570.263\" style=\"stroke:#009af9; stroke-width:3.2; stroke-opacity:1\"/>\n",
       "<line clip-path=\"url(#clip282)\" x1=\"1564.87\" y1=\"185.52\" x2=\"1564.87\" y2=\"145.52\" style=\"stroke:#009af9; stroke-width:3.2; stroke-opacity:1\"/>\n",
       "<line clip-path=\"url(#clip282)\" x1=\"1564.87\" y1=\"185.52\" x2=\"1524.87\" y2=\"185.52\" style=\"stroke:#009af9; stroke-width:3.2; stroke-opacity:1\"/>\n",
       "<line clip-path=\"url(#clip282)\" x1=\"1564.87\" y1=\"185.52\" x2=\"1564.87\" y2=\"225.52\" style=\"stroke:#009af9; stroke-width:3.2; stroke-opacity:1\"/>\n",
       "<line clip-path=\"url(#clip282)\" x1=\"1564.87\" y1=\"185.52\" x2=\"1604.87\" y2=\"185.52\" style=\"stroke:#009af9; stroke-width:3.2; stroke-opacity:1\"/>\n",
       "<line clip-path=\"url(#clip282)\" x1=\"1047.21\" y1=\"1024.3\" x2=\"1047.21\" y2=\"984.301\" style=\"stroke:#009af9; stroke-width:3.2; stroke-opacity:1\"/>\n",
       "<line clip-path=\"url(#clip282)\" x1=\"1047.21\" y1=\"1024.3\" x2=\"1007.21\" y2=\"1024.3\" style=\"stroke:#009af9; stroke-width:3.2; stroke-opacity:1\"/>\n",
       "<line clip-path=\"url(#clip282)\" x1=\"1047.21\" y1=\"1024.3\" x2=\"1047.21\" y2=\"1064.3\" style=\"stroke:#009af9; stroke-width:3.2; stroke-opacity:1\"/>\n",
       "<line clip-path=\"url(#clip282)\" x1=\"1047.21\" y1=\"1024.3\" x2=\"1087.21\" y2=\"1024.3\" style=\"stroke:#009af9; stroke-width:3.2; stroke-opacity:1\"/>\n",
       "<line clip-path=\"url(#clip282)\" x1=\"659.411\" y1=\"86.1857\" x2=\"659.411\" y2=\"46.1857\" style=\"stroke:#009af9; stroke-width:3.2; stroke-opacity:1\"/>\n",
       "<line clip-path=\"url(#clip282)\" x1=\"659.411\" y1=\"86.1857\" x2=\"619.411\" y2=\"86.1857\" style=\"stroke:#009af9; stroke-width:3.2; stroke-opacity:1\"/>\n",
       "<line clip-path=\"url(#clip282)\" x1=\"659.411\" y1=\"86.1857\" x2=\"659.411\" y2=\"126.186\" style=\"stroke:#009af9; stroke-width:3.2; stroke-opacity:1\"/>\n",
       "<line clip-path=\"url(#clip282)\" x1=\"659.411\" y1=\"86.1857\" x2=\"699.411\" y2=\"86.1857\" style=\"stroke:#009af9; stroke-width:3.2; stroke-opacity:1\"/>\n",
       "<line clip-path=\"url(#clip282)\" x1=\"921.628\" y1=\"752.372\" x2=\"921.628\" y2=\"712.372\" style=\"stroke:#009af9; stroke-width:3.2; stroke-opacity:1\"/>\n",
       "<line clip-path=\"url(#clip282)\" x1=\"921.628\" y1=\"752.372\" x2=\"881.628\" y2=\"752.372\" style=\"stroke:#009af9; stroke-width:3.2; stroke-opacity:1\"/>\n",
       "<line clip-path=\"url(#clip282)\" x1=\"921.628\" y1=\"752.372\" x2=\"921.628\" y2=\"792.372\" style=\"stroke:#009af9; stroke-width:3.2; stroke-opacity:1\"/>\n",
       "<line clip-path=\"url(#clip282)\" x1=\"921.628\" y1=\"752.372\" x2=\"961.628\" y2=\"752.372\" style=\"stroke:#009af9; stroke-width:3.2; stroke-opacity:1\"/>\n",
       "<line clip-path=\"url(#clip282)\" x1=\"316.512\" y1=\"1384.24\" x2=\"316.512\" y2=\"1344.24\" style=\"stroke:#009af9; stroke-width:3.2; stroke-opacity:1\"/>\n",
       "<line clip-path=\"url(#clip282)\" x1=\"316.512\" y1=\"1384.24\" x2=\"276.512\" y2=\"1384.24\" style=\"stroke:#009af9; stroke-width:3.2; stroke-opacity:1\"/>\n",
       "<line clip-path=\"url(#clip282)\" x1=\"316.512\" y1=\"1384.24\" x2=\"316.512\" y2=\"1424.24\" style=\"stroke:#009af9; stroke-width:3.2; stroke-opacity:1\"/>\n",
       "<line clip-path=\"url(#clip282)\" x1=\"316.512\" y1=\"1384.24\" x2=\"356.512\" y2=\"1384.24\" style=\"stroke:#009af9; stroke-width:3.2; stroke-opacity:1\"/>\n",
       "<path clip-path=\"url(#clip280)\" d=\"M2020.92 196.789 L2282.9 196.789 L2282.9 93.1086 L2020.92 93.1086  Z\" fill=\"#ffffff\" fill-rule=\"evenodd\" fill-opacity=\"1\"/>\n",
       "<polyline clip-path=\"url(#clip280)\" style=\"stroke:#000000; stroke-linecap:round; stroke-linejoin:round; stroke-width:4; stroke-opacity:1; fill:none\" points=\"2020.92,196.789 2282.9,196.789 2282.9,93.1086 2020.92,93.1086 2020.92,196.789 \"/>\n",
       "<line clip-path=\"url(#clip280)\" x1=\"2114.05\" y1=\"144.949\" x2=\"2114.05\" y2=\"120.568\" style=\"stroke:#009af9; stroke-width:1.95048; stroke-opacity:1\"/>\n",
       "<line clip-path=\"url(#clip280)\" x1=\"2114.05\" y1=\"144.949\" x2=\"2089.67\" y2=\"144.949\" style=\"stroke:#009af9; stroke-width:1.95048; stroke-opacity:1\"/>\n",
       "<line clip-path=\"url(#clip280)\" x1=\"2114.05\" y1=\"144.949\" x2=\"2114.05\" y2=\"169.33\" style=\"stroke:#009af9; stroke-width:1.95048; stroke-opacity:1\"/>\n",
       "<line clip-path=\"url(#clip280)\" x1=\"2114.05\" y1=\"144.949\" x2=\"2138.44\" y2=\"144.949\" style=\"stroke:#009af9; stroke-width:1.95048; stroke-opacity:1\"/>\n",
       "<path clip-path=\"url(#clip280)\" d=\"M2221.03 164.636 Q2219.23 169.266 2217.51 170.678 Q2215.8 172.09 2212.93 172.09 L2209.53 172.09 L2209.53 168.525 L2212.03 168.525 Q2213.79 168.525 2214.76 167.692 Q2215.73 166.858 2216.91 163.756 L2217.68 161.812 L2207.19 136.303 L2211.7 136.303 L2219.81 156.581 L2227.91 136.303 L2232.42 136.303 L2221.03 164.636 Z\" fill=\"#000000\" fill-rule=\"nonzero\" fill-opacity=\"1\" /><path clip-path=\"url(#clip280)\" d=\"M2239.71 158.293 L2247.35 158.293 L2247.35 131.928 L2239.04 133.595 L2239.04 129.335 L2247.31 127.669 L2251.98 127.669 L2251.98 158.293 L2259.62 158.293 L2259.62 162.229 L2239.71 162.229 L2239.71 158.293 Z\" fill=\"#000000\" fill-rule=\"nonzero\" fill-opacity=\"1\" /></svg>\n"
      ]
     },
     "metadata": {},
     "output_type": "display_data"
    }
   ],
   "source": [
    "X = randn(10,2)\n",
    "scatter(X[:,1], X[:,2], xlabel=\"X_1\", ylabel=\"X_2\", markersize=10, markershape=:cross)"
   ]
  },
  {
   "cell_type": "markdown",
   "metadata": {},
   "source": [
    "It is possible to add plots to the same figure by using a `!` added to your plot command."
   ]
  },
  {
   "cell_type": "code",
   "execution_count": 34,
   "metadata": {},
   "outputs": [
    {
     "data": {
      "image/png": "[encoded data removed]",
      "image/svg+xml": [
       "<?xml version=\"1.0\" encoding=\"utf-8\"?>\n",
       "<svg xmlns=\"http://www.w3.org/2000/svg\" xmlns:xlink=\"http://www.w3.org/1999/xlink\" width=\"600\" height=\"400\" viewBox=\"0 0 2400 1600\">\n",
       "<defs>\n",
       "  <clipPath id=\"clip320\">\n",
       "    <rect x=\"0\" y=\"0\" width=\"2400\" height=\"1600\"/>\n",
       "  </clipPath>\n",
       "</defs>\n",
       "<path clip-path=\"url(#clip320)\" d=\"M0 1600 L2400 1600 L2400 0 L0 0  Z\" fill=\"#ffffff\" fill-rule=\"evenodd\" fill-opacity=\"1\"/>\n",
       "<defs>\n",
       "  <clipPath id=\"clip321\">\n",
       "    <rect x=\"480\" y=\"0\" width=\"1681\" height=\"1600\"/>\n",
       "  </clipPath>\n",
       "</defs>\n",
       "<path clip-path=\"url(#clip320)\" d=\"M219.866 1423.18 L2352.76 1423.18 L2352.76 47.2441 L219.866 47.2441  Z\" fill=\"#ffffff\" fill-rule=\"evenodd\" fill-opacity=\"1\"/>\n",
       "<defs>\n",
       "  <clipPath id=\"clip322\">\n",
       "    <rect x=\"219\" y=\"47\" width=\"2134\" height=\"1377\"/>\n",
       "  </clipPath>\n",
       "</defs>\n",
       "<polyline clip-path=\"url(#clip322)\" style=\"stroke:#000000; stroke-linecap:round; stroke-linejoin:round; stroke-width:2; stroke-opacity:0.1; fill:none\" points=\"280.231,1423.18 280.231,47.2441 \"/>\n",
       "<polyline clip-path=\"url(#clip322)\" style=\"stroke:#000000; stroke-linecap:round; stroke-linejoin:round; stroke-width:2; stroke-opacity:0.1; fill:none\" points=\"615.591,1423.18 615.591,47.2441 \"/>\n",
       "<polyline clip-path=\"url(#clip322)\" style=\"stroke:#000000; stroke-linecap:round; stroke-linejoin:round; stroke-width:2; stroke-opacity:0.1; fill:none\" points=\"950.951,1423.18 950.951,47.2441 \"/>\n",
       "<polyline clip-path=\"url(#clip322)\" style=\"stroke:#000000; stroke-linecap:round; stroke-linejoin:round; stroke-width:2; stroke-opacity:0.1; fill:none\" points=\"1286.31,1423.18 1286.31,47.2441 \"/>\n",
       "<polyline clip-path=\"url(#clip322)\" style=\"stroke:#000000; stroke-linecap:round; stroke-linejoin:round; stroke-width:2; stroke-opacity:0.1; fill:none\" points=\"1621.67,1423.18 1621.67,47.2441 \"/>\n",
       "<polyline clip-path=\"url(#clip322)\" style=\"stroke:#000000; stroke-linecap:round; stroke-linejoin:round; stroke-width:2; stroke-opacity:0.1; fill:none\" points=\"1957.03,1423.18 1957.03,47.2441 \"/>\n",
       "<polyline clip-path=\"url(#clip322)\" style=\"stroke:#000000; stroke-linecap:round; stroke-linejoin:round; stroke-width:2; stroke-opacity:0.1; fill:none\" points=\"2292.39,1423.18 2292.39,47.2441 \"/>\n",
       "<polyline clip-path=\"url(#clip322)\" style=\"stroke:#000000; stroke-linecap:round; stroke-linejoin:round; stroke-width:2; stroke-opacity:0.1; fill:none\" points=\"219.866,1384.24 2352.76,1384.24 \"/>\n",
       "<polyline clip-path=\"url(#clip322)\" style=\"stroke:#000000; stroke-linecap:round; stroke-linejoin:round; stroke-width:2; stroke-opacity:0.1; fill:none\" points=\"219.866,1058.86 2352.76,1058.86 \"/>\n",
       "<polyline clip-path=\"url(#clip322)\" style=\"stroke:#000000; stroke-linecap:round; stroke-linejoin:round; stroke-width:2; stroke-opacity:0.1; fill:none\" points=\"219.866,733.491 2352.76,733.491 \"/>\n",
       "<polyline clip-path=\"url(#clip322)\" style=\"stroke:#000000; stroke-linecap:round; stroke-linejoin:round; stroke-width:2; stroke-opacity:0.1; fill:none\" points=\"219.866,408.118 2352.76,408.118 \"/>\n",
       "<polyline clip-path=\"url(#clip322)\" style=\"stroke:#000000; stroke-linecap:round; stroke-linejoin:round; stroke-width:2; stroke-opacity:0.1; fill:none\" points=\"219.866,82.7441 2352.76,82.7441 \"/>\n",
       "<polyline clip-path=\"url(#clip320)\" style=\"stroke:#000000; stroke-linecap:round; stroke-linejoin:round; stroke-width:4; stroke-opacity:1; fill:none\" points=\"219.866,1423.18 2352.76,1423.18 \"/>\n",
       "<polyline clip-path=\"url(#clip320)\" style=\"stroke:#000000; stroke-linecap:round; stroke-linejoin:round; stroke-width:4; stroke-opacity:1; fill:none\" points=\"280.231,1423.18 280.231,1404.28 \"/>\n",
       "<polyline clip-path=\"url(#clip320)\" style=\"stroke:#000000; stroke-linecap:round; stroke-linejoin:round; stroke-width:4; stroke-opacity:1; fill:none\" points=\"615.591,1423.18 615.591,1404.28 \"/>\n",
       "<polyline clip-path=\"url(#clip320)\" style=\"stroke:#000000; stroke-linecap:round; stroke-linejoin:round; stroke-width:4; stroke-opacity:1; fill:none\" points=\"950.951,1423.18 950.951,1404.28 \"/>\n",
       "<polyline clip-path=\"url(#clip320)\" style=\"stroke:#000000; stroke-linecap:round; stroke-linejoin:round; stroke-width:4; stroke-opacity:1; fill:none\" points=\"1286.31,1423.18 1286.31,1404.28 \"/>\n",
       "<polyline clip-path=\"url(#clip320)\" style=\"stroke:#000000; stroke-linecap:round; stroke-linejoin:round; stroke-width:4; stroke-opacity:1; fill:none\" points=\"1621.67,1423.18 1621.67,1404.28 \"/>\n",
       "<polyline clip-path=\"url(#clip320)\" style=\"stroke:#000000; stroke-linecap:round; stroke-linejoin:round; stroke-width:4; stroke-opacity:1; fill:none\" points=\"1957.03,1423.18 1957.03,1404.28 \"/>\n",
       "<polyline clip-path=\"url(#clip320)\" style=\"stroke:#000000; stroke-linecap:round; stroke-linejoin:round; stroke-width:4; stroke-opacity:1; fill:none\" points=\"2292.39,1423.18 2292.39,1404.28 \"/>\n",
       "<path clip-path=\"url(#clip320)\" d=\"M249.699 1468.75 L279.375 1468.75 L279.375 1472.69 L249.699 1472.69 L249.699 1468.75 Z\" fill=\"#000000\" fill-rule=\"nonzero\" fill-opacity=\"1\" /><path clip-path=\"url(#clip320)\" d=\"M303.634 1466.95 Q306.99 1467.66 308.865 1469.93 Q310.763 1472.2 310.763 1475.53 Q310.763 1480.65 307.245 1483.45 Q303.726 1486.25 297.245 1486.25 Q295.069 1486.25 292.754 1485.81 Q290.462 1485.39 288.009 1484.54 L288.009 1480.02 Q289.953 1481.16 292.268 1481.74 Q294.583 1482.32 297.106 1482.32 Q301.504 1482.32 303.796 1480.58 Q306.111 1478.84 306.111 1475.53 Q306.111 1472.48 303.958 1470.77 Q301.828 1469.03 298.009 1469.03 L293.981 1469.03 L293.981 1465.19 L298.194 1465.19 Q301.643 1465.19 303.472 1463.82 Q305.3 1462.43 305.3 1459.84 Q305.3 1457.18 303.402 1455.77 Q301.527 1454.33 298.009 1454.33 Q296.087 1454.33 293.888 1454.75 Q291.689 1455.16 289.05 1456.04 L289.05 1451.88 Q291.712 1451.14 294.027 1450.77 Q296.365 1450.39 298.425 1450.39 Q303.749 1450.39 306.851 1452.83 Q309.953 1455.23 309.953 1459.35 Q309.953 1462.22 308.31 1464.21 Q306.666 1466.18 303.634 1466.95 Z\" fill=\"#000000\" fill-rule=\"nonzero\" fill-opacity=\"1\" /><path clip-path=\"url(#clip320)\" d=\"M585.533 1468.75 L615.209 1468.75 L615.209 1472.69 L585.533 1472.69 L585.533 1468.75 Z\" fill=\"#000000\" fill-rule=\"nonzero\" fill-opacity=\"1\" /><path clip-path=\"url(#clip320)\" d=\"M629.329 1481.64 L645.649 1481.64 L645.649 1485.58 L623.704 1485.58 L623.704 1481.64 Q626.366 1478.89 630.95 1474.26 Q635.556 1469.61 636.737 1468.27 Q638.982 1465.74 639.862 1464.01 Q640.765 1462.25 640.765 1460.56 Q640.765 1457.8 638.82 1456.07 Q636.899 1454.33 633.797 1454.33 Q631.598 1454.33 629.144 1455.09 Q626.714 1455.86 623.936 1457.41 L623.936 1452.69 Q626.76 1451.55 629.214 1450.97 Q631.667 1450.39 633.704 1450.39 Q639.075 1450.39 642.269 1453.08 Q645.464 1455.77 645.464 1460.26 Q645.464 1462.39 644.653 1464.31 Q643.866 1466.2 641.76 1468.8 Q641.181 1469.47 638.079 1472.69 Q634.978 1475.88 629.329 1481.64 Z\" fill=\"#000000\" fill-rule=\"nonzero\" fill-opacity=\"1\" /><path clip-path=\"url(#clip320)\" d=\"M920.708 1468.75 L950.384 1468.75 L950.384 1472.69 L920.708 1472.69 L920.708 1468.75 Z\" fill=\"#000000\" fill-rule=\"nonzero\" fill-opacity=\"1\" /><path clip-path=\"url(#clip320)\" d=\"M961.287 1481.64 L968.926 1481.64 L968.926 1455.28 L960.615 1456.95 L960.615 1452.69 L968.879 1451.02 L973.555 1451.02 L973.555 1481.64 L981.194 1481.64 L981.194 1485.58 L961.287 1485.58 L961.287 1481.64 Z\" fill=\"#000000\" fill-rule=\"nonzero\" fill-opacity=\"1\" /><path clip-path=\"url(#clip320)\" d=\"M1286.31 1454.1 Q1282.7 1454.1 1280.87 1457.66 Q1279.07 1461.2 1279.07 1468.33 Q1279.07 1475.44 1280.87 1479.01 Q1282.7 1482.55 1286.31 1482.55 Q1289.95 1482.55 1291.75 1479.01 Q1293.58 1475.44 1293.58 1468.33 Q1293.58 1461.2 1291.75 1457.66 Q1289.95 1454.1 1286.31 1454.1 M1286.31 1450.39 Q1292.12 1450.39 1295.18 1455 Q1298.26 1459.58 1298.26 1468.33 Q1298.26 1477.06 1295.18 1481.67 Q1292.12 1486.25 1286.31 1486.25 Q1280.5 1486.25 1277.42 1481.67 Q1274.37 1477.06 1274.37 1468.33 Q1274.37 1459.58 1277.42 1455 Q1280.5 1450.39 1286.31 1450.39 Z\" fill=\"#000000\" fill-rule=\"nonzero\" fill-opacity=\"1\" /><path clip-path=\"url(#clip320)\" d=\"M1612.05 1481.64 L1619.69 1481.64 L1619.69 1455.28 L1611.38 1456.95 L1611.38 1452.69 L1619.65 1451.02 L1624.32 1451.02 L1624.32 1481.64 L1631.96 1481.64 L1631.96 1485.58 L1612.05 1485.58 L1612.05 1481.64 Z\" fill=\"#000000\" fill-rule=\"nonzero\" fill-opacity=\"1\" /><path clip-path=\"url(#clip320)\" d=\"M1951.68 1481.64 L1968 1481.64 L1968 1485.58 L1946.06 1485.58 L1946.06 1481.64 Q1948.72 1478.89 1953.3 1474.26 Q1957.91 1469.61 1959.09 1468.27 Q1961.34 1465.74 1962.22 1464.01 Q1963.12 1462.25 1963.12 1460.56 Q1963.12 1457.8 1961.17 1456.07 Q1959.25 1454.33 1956.15 1454.33 Q1953.95 1454.33 1951.5 1455.09 Q1949.07 1455.86 1946.29 1457.41 L1946.29 1452.69 Q1949.11 1451.55 1951.57 1450.97 Q1954.02 1450.39 1956.06 1450.39 Q1961.43 1450.39 1964.62 1453.08 Q1967.82 1455.77 1967.82 1460.26 Q1967.82 1462.39 1967.01 1464.31 Q1966.22 1466.2 1964.11 1468.8 Q1963.54 1469.47 1960.43 1472.69 Q1957.33 1475.88 1951.68 1481.64 Z\" fill=\"#000000\" fill-rule=\"nonzero\" fill-opacity=\"1\" /><path clip-path=\"url(#clip320)\" d=\"M2296.64 1466.95 Q2300 1467.66 2301.87 1469.93 Q2303.77 1472.2 2303.77 1475.53 Q2303.77 1480.65 2300.25 1483.45 Q2296.73 1486.25 2290.25 1486.25 Q2288.07 1486.25 2285.76 1485.81 Q2283.47 1485.39 2281.01 1484.54 L2281.01 1480.02 Q2282.96 1481.16 2285.27 1481.74 Q2287.59 1482.32 2290.11 1482.32 Q2294.51 1482.32 2296.8 1480.58 Q2299.12 1478.84 2299.12 1475.53 Q2299.12 1472.48 2296.96 1470.77 Q2294.83 1469.03 2291.01 1469.03 L2286.99 1469.03 L2286.99 1465.19 L2291.2 1465.19 Q2294.65 1465.19 2296.48 1463.82 Q2298.31 1462.43 2298.31 1459.84 Q2298.31 1457.18 2296.41 1455.77 Q2294.53 1454.33 2291.01 1454.33 Q2289.09 1454.33 2286.89 1454.75 Q2284.69 1455.16 2282.06 1456.04 L2282.06 1451.88 Q2284.72 1451.14 2287.03 1450.77 Q2289.37 1450.39 2291.43 1450.39 Q2296.75 1450.39 2299.86 1452.83 Q2302.96 1455.23 2302.96 1459.35 Q2302.96 1462.22 2301.31 1464.21 Q2299.67 1466.18 2296.64 1466.95 Z\" fill=\"#000000\" fill-rule=\"nonzero\" fill-opacity=\"1\" /><path clip-path=\"url(#clip320)\" d=\"M1302.93 1532.4 L1290.04 1549.74 L1303.59 1568.04 L1296.69 1568.04 L1286.31 1554.04 L1275.93 1568.04 L1269.03 1568.04 L1282.87 1549.39 L1270.21 1532.4 L1277.11 1532.4 L1286.57 1545.1 L1296.02 1532.4 L1302.93 1532.4 Z\" fill=\"#000000\" fill-rule=\"nonzero\" fill-opacity=\"1\" /><polyline clip-path=\"url(#clip320)\" style=\"stroke:#000000; stroke-linecap:round; stroke-linejoin:round; stroke-width:4; stroke-opacity:1; fill:none\" points=\"219.866,1423.18 219.866,47.2441 \"/>\n",
       "<polyline clip-path=\"url(#clip320)\" style=\"stroke:#000000; stroke-linecap:round; stroke-linejoin:round; stroke-width:4; stroke-opacity:1; fill:none\" points=\"219.866,1384.24 238.764,1384.24 \"/>\n",
       "<polyline clip-path=\"url(#clip320)\" style=\"stroke:#000000; stroke-linecap:round; stroke-linejoin:round; stroke-width:4; stroke-opacity:1; fill:none\" points=\"219.866,1058.86 238.764,1058.86 \"/>\n",
       "<polyline clip-path=\"url(#clip320)\" style=\"stroke:#000000; stroke-linecap:round; stroke-linejoin:round; stroke-width:4; stroke-opacity:1; fill:none\" points=\"219.866,733.491 238.764,733.491 \"/>\n",
       "<polyline clip-path=\"url(#clip320)\" style=\"stroke:#000000; stroke-linecap:round; stroke-linejoin:round; stroke-width:4; stroke-opacity:1; fill:none\" points=\"219.866,408.118 238.764,408.118 \"/>\n",
       "<polyline clip-path=\"url(#clip320)\" style=\"stroke:#000000; stroke-linecap:round; stroke-linejoin:round; stroke-width:4; stroke-opacity:1; fill:none\" points=\"219.866,82.7441 238.764,82.7441 \"/>\n",
       "<path clip-path=\"url(#clip320)\" d=\"M126.691 1370.04 Q123.08 1370.04 121.251 1373.6 Q119.445 1377.14 119.445 1384.27 Q119.445 1391.38 121.251 1394.94 Q123.08 1398.49 126.691 1398.49 Q130.325 1398.49 132.13 1394.94 Q133.959 1391.38 133.959 1384.27 Q133.959 1377.14 132.13 1373.6 Q130.325 1370.04 126.691 1370.04 M126.691 1366.33 Q132.501 1366.33 135.556 1370.94 Q138.635 1375.52 138.635 1384.27 Q138.635 1393 135.556 1397.61 Q132.501 1402.19 126.691 1402.19 Q120.88 1402.19 117.802 1397.61 Q114.746 1393 114.746 1384.27 Q114.746 1375.52 117.802 1370.94 Q120.88 1366.33 126.691 1366.33 Z\" fill=\"#000000\" fill-rule=\"nonzero\" fill-opacity=\"1\" /><path clip-path=\"url(#clip320)\" d=\"M146.853 1395.64 L151.737 1395.64 L151.737 1401.52 L146.853 1401.52 L146.853 1395.64 Z\" fill=\"#000000\" fill-rule=\"nonzero\" fill-opacity=\"1\" /><path clip-path=\"url(#clip320)\" d=\"M171.922 1370.04 Q168.311 1370.04 166.482 1373.6 Q164.677 1377.14 164.677 1384.27 Q164.677 1391.38 166.482 1394.94 Q168.311 1398.49 171.922 1398.49 Q175.556 1398.49 177.362 1394.94 Q179.19 1391.38 179.19 1384.27 Q179.19 1377.14 177.362 1373.6 Q175.556 1370.04 171.922 1370.04 M171.922 1366.33 Q177.732 1366.33 180.788 1370.94 Q183.866 1375.52 183.866 1384.27 Q183.866 1393 180.788 1397.61 Q177.732 1402.19 171.922 1402.19 Q166.112 1402.19 163.033 1397.61 Q159.978 1393 159.978 1384.27 Q159.978 1375.52 163.033 1370.94 Q166.112 1366.33 171.922 1366.33 Z\" fill=\"#000000\" fill-rule=\"nonzero\" fill-opacity=\"1\" /><path clip-path=\"url(#clip320)\" d=\"M128.288 1044.66 Q124.677 1044.66 122.848 1048.23 Q121.043 1051.77 121.043 1058.9 Q121.043 1066.01 122.848 1069.57 Q124.677 1073.11 128.288 1073.11 Q131.922 1073.11 133.728 1069.57 Q135.556 1066.01 135.556 1058.9 Q135.556 1051.77 133.728 1048.23 Q131.922 1044.66 128.288 1044.66 M128.288 1040.96 Q134.098 1040.96 137.154 1045.57 Q140.232 1050.15 140.232 1058.9 Q140.232 1067.63 137.154 1072.23 Q134.098 1076.82 128.288 1076.82 Q122.478 1076.82 119.399 1072.23 Q116.343 1067.63 116.343 1058.9 Q116.343 1050.15 119.399 1045.57 Q122.478 1040.96 128.288 1040.96 Z\" fill=\"#000000\" fill-rule=\"nonzero\" fill-opacity=\"1\" /><path clip-path=\"url(#clip320)\" d=\"M148.45 1070.27 L153.334 1070.27 L153.334 1076.14 L148.45 1076.14 L148.45 1070.27 Z\" fill=\"#000000\" fill-rule=\"nonzero\" fill-opacity=\"1\" /><path clip-path=\"url(#clip320)\" d=\"M167.547 1072.21 L183.866 1072.21 L183.866 1076.14 L161.922 1076.14 L161.922 1072.21 Q164.584 1069.45 169.167 1064.83 Q173.774 1060.17 174.954 1058.83 Q177.2 1056.31 178.079 1054.57 Q178.982 1052.81 178.982 1051.12 Q178.982 1048.37 177.038 1046.63 Q175.116 1044.89 172.014 1044.89 Q169.815 1044.89 167.362 1045.66 Q164.931 1046.42 162.153 1047.97 L162.153 1043.25 Q164.977 1042.12 167.431 1041.54 Q169.885 1040.96 171.922 1040.96 Q177.292 1040.96 180.487 1043.64 Q183.681 1046.33 183.681 1050.82 Q183.681 1052.95 182.871 1054.87 Q182.084 1056.77 179.977 1059.36 Q179.399 1060.03 176.297 1063.25 Q173.195 1066.45 167.547 1072.21 Z\" fill=\"#000000\" fill-rule=\"nonzero\" fill-opacity=\"1\" /><path clip-path=\"url(#clip320)\" d=\"M126.205 719.29 Q122.593 719.29 120.765 722.855 Q118.959 726.396 118.959 733.526 Q118.959 740.632 120.765 744.197 Q122.593 747.739 126.205 747.739 Q129.839 747.739 131.644 744.197 Q133.473 740.632 133.473 733.526 Q133.473 726.396 131.644 722.855 Q129.839 719.29 126.205 719.29 M126.205 715.586 Q132.015 715.586 135.07 720.193 Q138.149 724.776 138.149 733.526 Q138.149 742.253 135.07 746.859 Q132.015 751.442 126.205 751.442 Q120.394 751.442 117.316 746.859 Q114.26 742.253 114.26 733.526 Q114.26 724.776 117.316 720.193 Q120.394 715.586 126.205 715.586 Z\" fill=\"#000000\" fill-rule=\"nonzero\" fill-opacity=\"1\" /><path clip-path=\"url(#clip320)\" d=\"M146.366 744.892 L151.251 744.892 L151.251 750.771 L146.366 750.771 L146.366 744.892 Z\" fill=\"#000000\" fill-rule=\"nonzero\" fill-opacity=\"1\" /><path clip-path=\"url(#clip320)\" d=\"M174.283 720.285 L162.477 738.734 L174.283 738.734 L174.283 720.285 M173.056 716.211 L178.936 716.211 L178.936 738.734 L183.866 738.734 L183.866 742.623 L178.936 742.623 L178.936 750.771 L174.283 750.771 L174.283 742.623 L158.681 742.623 L158.681 738.109 L173.056 716.211 Z\" fill=\"#000000\" fill-rule=\"nonzero\" fill-opacity=\"1\" /><path clip-path=\"url(#clip320)\" d=\"M126.529 393.916 Q122.918 393.916 121.089 397.481 Q119.283 401.023 119.283 408.152 Q119.283 415.259 121.089 418.824 Q122.918 422.365 126.529 422.365 Q130.163 422.365 131.968 418.824 Q133.797 415.259 133.797 408.152 Q133.797 401.023 131.968 397.481 Q130.163 393.916 126.529 393.916 M126.529 390.213 Q132.339 390.213 135.394 394.819 Q138.473 399.402 138.473 408.152 Q138.473 416.879 135.394 421.486 Q132.339 426.069 126.529 426.069 Q120.718 426.069 117.64 421.486 Q114.584 416.879 114.584 408.152 Q114.584 399.402 117.64 394.819 Q120.718 390.213 126.529 390.213 Z\" fill=\"#000000\" fill-rule=\"nonzero\" fill-opacity=\"1\" /><path clip-path=\"url(#clip320)\" d=\"M146.691 419.518 L151.575 419.518 L151.575 425.398 L146.691 425.398 L146.691 419.518 Z\" fill=\"#000000\" fill-rule=\"nonzero\" fill-opacity=\"1\" /><path clip-path=\"url(#clip320)\" d=\"M172.339 406.254 Q169.19 406.254 167.339 408.407 Q165.51 410.56 165.51 414.31 Q165.51 418.037 167.339 420.213 Q169.19 422.365 172.339 422.365 Q175.487 422.365 177.315 420.213 Q179.167 418.037 179.167 414.31 Q179.167 410.56 177.315 408.407 Q175.487 406.254 172.339 406.254 M181.621 391.602 L181.621 395.861 Q179.862 395.027 178.056 394.588 Q176.274 394.148 174.514 394.148 Q169.885 394.148 167.431 397.273 Q165.001 400.398 164.653 406.717 Q166.019 404.703 168.079 403.639 Q170.139 402.551 172.616 402.551 Q177.825 402.551 180.834 405.722 Q183.866 408.87 183.866 414.31 Q183.866 419.634 180.718 422.851 Q177.57 426.069 172.339 426.069 Q166.343 426.069 163.172 421.486 Q160.001 416.879 160.001 408.152 Q160.001 399.958 163.89 395.097 Q167.778 390.213 174.329 390.213 Q176.089 390.213 177.871 390.56 Q179.676 390.907 181.621 391.602 Z\" fill=\"#000000\" fill-rule=\"nonzero\" fill-opacity=\"1\" /><path clip-path=\"url(#clip320)\" d=\"M126.783 68.5428 Q123.172 68.5428 121.343 72.1076 Q119.538 75.6493 119.538 82.7789 Q119.538 89.8853 121.343 93.4501 Q123.172 96.9917 126.783 96.9917 Q130.417 96.9917 132.223 93.4501 Q134.052 89.8853 134.052 82.7789 Q134.052 75.6493 132.223 72.1076 Q130.417 68.5428 126.783 68.5428 M126.783 64.8391 Q132.593 64.8391 135.649 69.4456 Q138.728 74.0289 138.728 82.7789 Q138.728 91.5057 135.649 96.1121 Q132.593 100.695 126.783 100.695 Q120.973 100.695 117.894 96.1121 Q114.839 91.5057 114.839 82.7789 Q114.839 74.0289 117.894 69.4456 Q120.973 64.8391 126.783 64.8391 Z\" fill=\"#000000\" fill-rule=\"nonzero\" fill-opacity=\"1\" /><path clip-path=\"url(#clip320)\" d=\"M146.945 94.1445 L151.829 94.1445 L151.829 100.024 L146.945 100.024 L146.945 94.1445 Z\" fill=\"#000000\" fill-rule=\"nonzero\" fill-opacity=\"1\" /><path clip-path=\"url(#clip320)\" d=\"M172.014 83.6122 Q168.681 83.6122 166.76 85.3946 Q164.862 87.177 164.862 90.302 Q164.862 93.4269 166.76 95.2093 Q168.681 96.9917 172.014 96.9917 Q175.348 96.9917 177.269 95.2093 Q179.19 93.4038 179.19 90.302 Q179.19 87.177 177.269 85.3946 Q175.371 83.6122 172.014 83.6122 M167.339 81.6215 Q164.329 80.8807 162.64 78.8205 Q160.973 76.7604 160.973 73.7974 Q160.973 69.6539 163.913 67.2465 Q166.876 64.8391 172.014 64.8391 Q177.176 64.8391 180.116 67.2465 Q183.056 69.6539 183.056 73.7974 Q183.056 76.7604 181.366 78.8205 Q179.7 80.8807 176.714 81.6215 Q180.093 82.4085 181.968 84.7001 Q183.866 86.9918 183.866 90.302 Q183.866 95.3251 180.788 98.0103 Q177.732 100.695 172.014 100.695 Q166.297 100.695 163.218 98.0103 Q160.163 95.3251 160.163 90.302 Q160.163 86.9918 162.061 84.7001 Q163.959 82.4085 167.339 81.6215 M165.626 74.2372 Q165.626 76.9224 167.292 78.427 Q168.982 79.9316 172.014 79.9316 Q175.024 79.9316 176.714 78.427 Q178.426 76.9224 178.426 74.2372 Q178.426 71.5521 176.714 70.0474 Q175.024 68.5428 172.014 68.5428 Q168.982 68.5428 167.292 70.0474 Q165.626 71.5521 165.626 74.2372 Z\" fill=\"#000000\" fill-rule=\"nonzero\" fill-opacity=\"1\" /><path clip-path=\"url(#clip320)\" d=\"M58.657 788.97 L77.5631 788.97 L77.5631 794.859 L28.3562 794.859 L28.3562 788.97 L33.7671 788.97 Q30.5842 787.124 29.0564 784.323 Q27.4968 781.491 27.4968 777.576 Q27.4968 771.083 32.6531 767.041 Q37.8093 762.966 46.212 762.966 Q54.6147 762.966 59.771 767.041 Q64.9272 771.083 64.9272 777.576 Q64.9272 781.491 63.3994 784.323 Q61.8398 787.124 58.657 788.97 M46.212 769.046 Q39.7508 769.046 36.0905 771.719 Q32.3984 774.361 32.3984 779.008 Q32.3984 783.655 36.0905 786.329 Q39.7508 788.97 46.212 788.97 Q52.6732 788.97 56.3653 786.329 Q60.0256 783.655 60.0256 779.008 Q60.0256 774.361 56.3653 771.719 Q52.6732 769.046 46.212 769.046 Z\" fill=\"#000000\" fill-rule=\"nonzero\" fill-opacity=\"1\" /><path clip-path=\"url(#clip320)\" d=\"M14.5426 739.191 Q21.8632 743.456 29.0246 745.524 Q36.186 747.593 43.5384 747.593 Q50.8908 747.593 58.1159 745.524 Q65.3091 743.424 72.5979 739.191 L72.5979 744.283 Q65.1182 749.057 57.8931 751.445 Q50.668 753.8 43.5384 753.8 Q36.4406 753.8 29.2474 751.445 Q22.0542 749.089 14.5426 744.283 L14.5426 739.191 Z\" fill=\"#000000\" fill-rule=\"nonzero\" fill-opacity=\"1\" /><path clip-path=\"url(#clip320)\" d=\"M28.3562 698.195 L45.7028 711.086 L64.0042 697.527 L64.0042 704.434 L49.9996 714.81 L64.0042 725.186 L64.0042 732.093 L45.3526 718.247 L28.3562 730.915 L28.3562 724.008 L41.0558 714.555 L28.3562 705.102 L28.3562 698.195 Z\" fill=\"#000000\" fill-rule=\"nonzero\" fill-opacity=\"1\" /><path clip-path=\"url(#clip320)\" d=\"M14.5426 690.175 L14.5426 685.082 Q22.0542 680.308 29.2474 677.952 Q36.4406 675.565 43.5384 675.565 Q50.668 675.565 57.8931 677.952 Q65.1182 680.308 72.5979 685.082 L72.5979 690.175 Q65.3091 685.941 58.1159 683.873 Q50.8908 681.772 43.5384 681.772 Q36.186 681.772 29.0246 683.873 Q21.8632 685.941 14.5426 690.175 Z\" fill=\"#000000\" fill-rule=\"nonzero\" fill-opacity=\"1\" /><polyline clip-path=\"url(#clip322)\" style=\"stroke:#ff0000; stroke-linecap:round; stroke-linejoin:round; stroke-width:20; stroke-opacity:1; fill:none\" stroke-dasharray=\"80, 50\" points=\"280.231,1377.03 286.938,1376.58 293.645,1376.12 300.353,1375.62 307.06,1375.1 313.767,1374.55 320.474,1373.98 327.181,1373.37 333.889,1372.73 340.596,1372.06 347.303,1371.36 354.01,1370.62 360.717,1369.85 367.425,1369.03 374.132,1368.18 380.839,1367.28 387.546,1366.35 394.253,1365.37 400.961,1364.34 407.668,1363.26 414.375,1362.14 421.082,1360.97 427.789,1359.74 434.497,1358.46 441.204,1357.12 447.911,1355.72 454.618,1354.27 461.325,1352.75 468.033,1351.17 474.74,1349.52 481.447,1347.81 488.154,1346.02 494.861,1344.17 501.569,1342.24 508.276,1340.23 514.983,1338.15 521.69,1335.99 528.397,1333.75 535.105,1331.43 541.812,1329.02 548.519,1326.53 555.226,1323.94 561.933,1321.27 568.641,1318.5 575.348,1315.64 582.055,1312.68 588.762,1309.63 595.469,1306.47 602.177,1303.22 608.884,1299.86 615.591,1296.4 622.298,1292.84 629.005,1289.16 635.713,1285.38 642.42,1281.49 649.127,1277.49 655.834,1273.38 662.541,1269.15 669.249,1264.82 675.956,1260.36 682.663,1255.8 689.37,1251.12 696.077,1246.32 702.785,1241.41 709.492,1236.38 716.199,1231.23 722.906,1225.97 729.613,1220.6 736.321,1215.11 743.028,1209.5 749.735,1203.78 756.442,1197.95 763.149,1192.01 769.857,1185.96 776.564,1179.8 783.271,1173.53 789.978,1167.16 796.685,1160.68 803.393,1154.1 810.1,1147.42 816.807,1140.65 823.514,1133.78 830.221,1126.83 836.929,1119.78 843.636,1112.65 850.343,1105.44 857.05,1098.16 863.757,1090.8 870.465,1083.37 877.172,1075.88 883.879,1068.32 890.586,1060.71 897.293,1053.05 904.001,1045.35 910.708,1037.6 917.415,1029.82 924.122,1022.01 930.829,1014.18 937.537,1006.32 944.244,998.456 950.951,990.584 957.658,982.712 964.365,974.846 971.073,966.993 977.78,959.16 984.487,951.353 991.194,943.578 997.901,935.844 1004.61,928.156 1011.32,920.522 1018.02,912.948 1024.73,905.443 1031.44,898.012 1038.14,890.664 1044.85,883.405 1051.56,876.242 1058.27,869.184 1064.97,862.235 1071.68,855.405 1078.39,848.7 1085.1,842.126 1091.8,835.691 1098.51,829.402 1105.22,823.265 1111.92,817.287 1118.63,811.475 1125.34,805.834 1132.05,800.371 1138.75,795.093 1145.46,790.004 1152.17,785.111 1158.87,780.42 1165.58,775.935 1172.29,771.662 1179,767.606 1185.7,763.771 1192.41,760.162 1199.12,756.782 1205.82,753.637 1212.53,750.73 1219.24,748.064 1225.95,745.641 1232.65,743.467 1239.36,741.541 1246.07,739.868 1252.78,738.449 1259.48,737.286 1266.19,736.379 1272.9,735.731 1279.6,735.342 1286.31,735.212 1293.02,735.342 1299.73,735.731 1306.43,736.379 1313.14,737.286 1319.85,738.449 1326.55,739.868 1333.26,741.541 1339.97,743.467 1346.68,745.641 1353.38,748.064 1360.09,750.73 1366.8,753.637 1373.5,756.782 1380.21,760.162 1386.92,763.771 1393.63,767.606 1400.33,771.662 1407.04,775.935 1413.75,780.42 1420.46,785.111 1427.16,790.004 1433.87,795.093 1440.58,800.371 1447.28,805.834 1453.99,811.475 1460.7,817.287 1467.41,823.265 1474.11,829.402 1480.82,835.691 1487.53,842.126 1494.23,848.7 1500.94,855.405 1507.65,862.235 1514.36,869.184 1521.06,876.242 1527.77,883.405 1534.48,890.664 1541.18,898.012 1547.89,905.443 1554.6,912.948 1561.31,920.522 1568.01,928.156 1574.72,935.844 1581.43,943.578 1588.14,951.353 1594.84,959.16 1601.55,966.993 1608.26,974.846 1614.96,982.712 1621.67,990.584 1628.38,998.456 1635.09,1006.32 1641.79,1014.18 1648.5,1022.01 1655.21,1029.82 1661.91,1037.6 1668.62,1045.35 1675.33,1053.05 1682.04,1060.71 1688.74,1068.32 1695.45,1075.88 1702.16,1083.37 1708.86,1090.8 1715.57,1098.16 1722.28,1105.44 1728.99,1112.65 1735.69,1119.78 1742.4,1126.83 1749.11,1133.78 1755.82,1140.65 1762.52,1147.42 1769.23,1154.1 1775.94,1160.68 1782.64,1167.16 1789.35,1173.53 1796.06,1179.8 1802.77,1185.96 1809.47,1192.01 1816.18,1197.95 1822.89,1203.78 1829.59,1209.5 1836.3,1215.11 1843.01,1220.6 1849.72,1225.97 1856.42,1231.23 1863.13,1236.38 1869.84,1241.41 1876.54,1246.32 1883.25,1251.12 1889.96,1255.8 1896.67,1260.36 1903.37,1264.82 1910.08,1269.15 1916.79,1273.38 1923.5,1277.49 1930.2,1281.49 1936.91,1285.38 1943.62,1289.16 1950.32,1292.84 1957.03,1296.4 1963.74,1299.86 1970.45,1303.22 1977.15,1306.47 1983.86,1309.63 1990.57,1312.68 1997.27,1315.64 2003.98,1318.5 2010.69,1321.27 2017.4,1323.94 2024.1,1326.53 2030.81,1329.02 2037.52,1331.43 2044.22,1333.75 2050.93,1335.99 2057.64,1338.15 2064.35,1340.23 2071.05,1342.24 2077.76,1344.17 2084.47,1346.02 2091.18,1347.81 2097.88,1349.52 2104.59,1351.17 2111.3,1352.75 2118,1354.27 2124.71,1355.72 2131.42,1357.12 2138.13,1358.46 2144.83,1359.74 2151.54,1360.97 2158.25,1362.14 2164.95,1363.26 2171.66,1364.34 2178.37,1365.37 2185.08,1366.35 2191.78,1367.28 2198.49,1368.18 2205.2,1369.03 2211.9,1369.85 2218.61,1370.62 2225.32,1371.36 2232.03,1372.06 2238.73,1372.73 2245.44,1373.37 2252.15,1373.98 2258.86,1374.55 2265.56,1375.1 2272.27,1375.62 2278.98,1376.12 2285.68,1376.58 2292.39,1377.03 \"/>\n",
       "<polyline clip-path=\"url(#clip322)\" style=\"stroke:#0000ff; stroke-linecap:round; stroke-linejoin:round; stroke-width:4; stroke-opacity:1; fill:none\" points=\"280.231,1384.24 286.938,1384.24 293.645,1384.24 300.353,1384.24 307.06,1384.24 313.767,1384.24 320.474,1384.24 327.181,1384.24 333.889,1384.24 340.596,1384.24 347.303,1384.24 354.01,1384.24 360.717,1384.24 367.425,1384.24 374.132,1384.24 380.839,1384.24 387.546,1384.24 394.253,1384.24 400.961,1384.24 407.668,1384.24 414.375,1384.24 421.082,1384.24 427.789,1384.24 434.497,1384.24 441.204,1384.24 447.911,1384.24 454.618,1384.24 461.325,1384.24 468.033,1384.24 474.74,1384.24 481.447,1384.24 488.154,1384.24 494.861,1384.24 501.569,1384.24 508.276,1384.24 514.983,1384.24 521.69,1384.24 528.397,1384.24 535.105,1384.24 541.812,1384.24 548.519,1384.24 555.226,1384.24 561.933,1384.24 568.641,1384.24 575.348,1384.24 582.055,1384.24 588.762,1384.24 595.469,1384.24 602.177,1384.24 608.884,1384.24 615.591,1384.24 622.298,1384.24 629.005,1384.24 635.713,1384.24 642.42,1384.24 649.127,1384.24 655.834,1384.24 662.541,1384.24 669.249,1384.24 675.956,1384.24 682.663,1384.24 689.37,1384.24 696.077,1384.24 702.785,1384.24 709.492,1384.24 716.199,1384.24 722.906,1384.24 729.613,1384.24 736.321,1384.24 743.028,1384.24 749.735,1384.24 756.442,1384.24 763.149,1384.24 769.857,1384.24 776.564,1384.23 783.271,1384.23 789.978,1384.23 796.685,1384.23 803.393,1384.23 810.1,1384.23 816.807,1384.23 823.514,1384.22 830.221,1384.22 836.929,1384.22 843.636,1384.21 850.343,1384.21 857.05,1384.2 863.757,1384.19 870.465,1384.18 877.172,1384.17 883.879,1384.16 890.586,1384.14 897.293,1384.12 904.001,1384.1 910.708,1384.08 917.415,1384.05 924.122,1384.01 930.829,1383.97 937.537,1383.92 944.244,1383.87 950.951,1383.8 957.658,1383.73 964.365,1383.64 971.073,1383.54 977.78,1383.42 984.487,1383.29 991.194,1383.13 997.901,1382.95 1004.61,1382.75 1011.32,1382.52 1018.02,1382.25 1024.73,1381.94 1031.44,1381.59 1038.14,1381.19 1044.85,1380.74 1051.56,1380.23 1058.27,1379.65 1064.97,1378.99 1071.68,1378.25 1078.39,1377.42 1085.1,1376.48 1091.8,1375.43 1098.51,1374.25 1105.22,1372.93 1111.92,1371.46 1118.63,1369.82 1125.34,1367.99 1132.05,1365.97 1138.75,1363.72 1145.46,1361.23 1152.17,1358.48 1158.87,1355.45 1165.58,1352.12 1172.29,1348.46 1179,1344.44 1185.7,1340.04 1192.41,1335.24 1199.12,1330 1205.82,1324.29 1212.53,1318.1 1219.24,1311.37 1225.95,1304.09 1232.65,1296.23 1239.36,1287.75 1246.07,1278.62 1252.78,1268.81 1259.48,1258.3 1266.19,1247.04 1272.9,1235.02 1279.6,1222.2 1286.31,1208.57 1293.02,1194.09 1299.73,1178.74 1306.43,1162.52 1313.14,1145.39 1319.85,1127.36 1326.55,1108.4 1333.26,1088.52 1339.97,1067.71 1346.68,1045.98 1353.38,1023.33 1360.09,999.786 1366.8,975.359 1373.5,950.075 1380.21,923.965 1386.92,897.065 1393.63,869.417 1400.33,841.069 1407.04,812.077 1413.75,782.501 1420.46,752.408 1427.16,721.871 1433.87,690.968 1440.58,659.783 1447.28,628.405 1453.99,596.93 1460.7,565.454 1467.41,534.082 1474.11,502.919 1480.82,472.074 1487.53,441.659 1494.23,411.787 1500.94,382.572 1507.65,354.129 1514.36,326.572 1521.06,300.014 1527.77,274.566 1534.48,250.336 1541.18,227.43 1547.89,205.947 1554.6,185.985 1561.31,167.632 1568.01,150.973 1574.72,136.085 1581.43,123.036 1588.14,111.889 1594.84,102.695 1601.55,95.4981 1608.26,90.3328 1614.96,87.2237 1621.67,86.1857 1628.38,87.2237 1635.09,90.3328 1641.79,95.4981 1648.5,102.695 1655.21,111.889 1661.91,123.036 1668.62,136.085 1675.33,150.973 1682.04,167.632 1688.74,185.985 1695.45,205.947 1702.16,227.43 1708.86,250.336 1715.57,274.566 1722.28,300.014 1728.99,326.572 1735.69,354.129 1742.4,382.572 1749.11,411.787 1755.82,441.659 1762.52,472.074 1769.23,502.919 1775.94,534.082 1782.64,565.454 1789.35,596.93 1796.06,628.405 1802.77,659.783 1809.47,690.968 1816.18,721.871 1822.89,752.408 1829.59,782.501 1836.3,812.077 1843.01,841.069 1849.72,869.417 1856.42,897.065 1863.13,923.965 1869.84,950.075 1876.54,975.359 1883.25,999.786 1889.96,1023.33 1896.67,1045.98 1903.37,1067.71 1910.08,1088.52 1916.79,1108.4 1923.5,1127.36 1930.2,1145.39 1936.91,1162.52 1943.62,1178.74 1950.32,1194.09 1957.03,1208.57 1963.74,1222.2 1970.45,1235.02 1977.15,1247.04 1983.86,1258.3 1990.57,1268.81 1997.27,1278.62 2003.98,1287.75 2010.69,1296.23 2017.4,1304.09 2024.1,1311.37 2030.81,1318.1 2037.52,1324.29 2044.22,1330 2050.93,1335.24 2057.64,1340.04 2064.35,1344.44 2071.05,1348.46 2077.76,1352.12 2084.47,1355.45 2091.18,1358.48 2097.88,1361.23 2104.59,1363.72 2111.3,1365.97 2118,1367.99 2124.71,1369.82 2131.42,1371.46 2138.13,1372.93 2144.83,1374.25 2151.54,1375.43 2158.25,1376.48 2164.95,1377.42 2171.66,1378.25 2178.37,1378.99 2185.08,1379.65 2191.78,1380.23 2198.49,1380.74 2205.2,1381.19 2211.9,1381.59 2218.61,1381.94 2225.32,1382.25 2232.03,1382.52 2238.73,1382.75 2245.44,1382.95 2252.15,1383.13 2258.86,1383.29 2265.56,1383.42 2272.27,1383.54 2278.98,1383.64 2285.68,1383.73 2292.39,1383.8 \"/>\n",
       "<path clip-path=\"url(#clip320)\" d=\"M1884.02 248.629 L2281.66 248.629 L2281.66 93.1086 L1884.02 93.1086  Z\" fill=\"#ffffff\" fill-rule=\"evenodd\" fill-opacity=\"1\"/>\n",
       "<polyline clip-path=\"url(#clip320)\" style=\"stroke:#000000; stroke-linecap:round; stroke-linejoin:round; stroke-width:4; stroke-opacity:1; fill:none\" points=\"1884.02,248.629 2281.66,248.629 2281.66,93.1086 1884.02,93.1086 1884.02,248.629 \"/>\n",
       "<polyline clip-path=\"url(#clip320)\" style=\"stroke:#ff0000; stroke-linecap:round; stroke-linejoin:round; stroke-width:20; stroke-opacity:1; fill:none\" stroke-dasharray=\"80, 50\" points=\"1907.72,144.949 2049.91,144.949 \"/>\n",
       "<path clip-path=\"url(#clip320)\" d=\"M2073.61 127.669 L2079.91 127.669 L2095.23 156.581 L2095.23 127.669 L2099.77 127.669 L2099.77 162.229 L2093.47 162.229 L2078.15 133.317 L2078.15 162.229 L2073.61 162.229 L2073.61 127.669 Z\" fill=\"#000000\" fill-rule=\"nonzero\" fill-opacity=\"1\" /><path clip-path=\"url(#clip320)\" d=\"M2119.12 126.257 Q2116.02 131.581 2114.51 136.789 Q2113.01 141.997 2113.01 147.344 Q2113.01 152.692 2114.51 157.946 Q2116.04 163.178 2119.12 168.479 L2115.42 168.479 Q2111.94 163.039 2110.21 157.784 Q2108.49 152.53 2108.49 147.344 Q2108.49 142.182 2110.21 136.951 Q2111.92 131.72 2115.42 126.257 L2119.12 126.257 Z\" fill=\"#000000\" fill-rule=\"nonzero\" fill-opacity=\"1\" /><path clip-path=\"url(#clip320)\" d=\"M2137.98 130.747 Q2134.37 130.747 2132.54 134.312 Q2130.74 137.854 2130.74 144.983 Q2130.74 152.09 2132.54 155.655 Q2134.37 159.196 2137.98 159.196 Q2141.62 159.196 2143.42 155.655 Q2145.25 152.09 2145.25 144.983 Q2145.25 137.854 2143.42 134.312 Q2141.62 130.747 2137.98 130.747 M2137.98 127.044 Q2143.79 127.044 2146.85 131.65 Q2149.93 136.233 2149.93 144.983 Q2149.93 153.71 2146.85 158.317 Q2143.79 162.9 2137.98 162.9 Q2132.17 162.9 2129.1 158.317 Q2126.04 153.71 2126.04 144.983 Q2126.04 136.233 2129.1 131.65 Q2132.17 127.044 2137.98 127.044 Z\" fill=\"#000000\" fill-rule=\"nonzero\" fill-opacity=\"1\" /><path clip-path=\"url(#clip320)\" d=\"M2158.63 156.349 L2163.52 156.349 L2163.52 160.33 L2159.72 167.738 L2156.73 167.738 L2158.63 160.33 L2158.63 156.349 Z\" fill=\"#000000\" fill-rule=\"nonzero\" fill-opacity=\"1\" /><path clip-path=\"url(#clip320)\" d=\"M2174.03 158.293 L2181.66 158.293 L2181.66 131.928 L2173.35 133.595 L2173.35 129.335 L2181.62 127.669 L2186.29 127.669 L2186.29 158.293 L2193.93 158.293 L2193.93 162.229 L2174.03 162.229 L2174.03 158.293 Z\" fill=\"#000000\" fill-rule=\"nonzero\" fill-opacity=\"1\" /><path clip-path=\"url(#clip320)\" d=\"M2202.1 126.257 L2205.81 126.257 Q2209.28 131.72 2210.99 136.951 Q2212.73 142.182 2212.73 147.344 Q2212.73 152.53 2210.99 157.784 Q2209.28 163.039 2205.81 168.479 L2202.1 168.479 Q2205.18 163.178 2206.69 157.946 Q2208.22 152.692 2208.22 147.344 Q2208.22 141.997 2206.69 136.789 Q2205.18 131.581 2202.1 126.257 Z\" fill=\"#000000\" fill-rule=\"nonzero\" fill-opacity=\"1\" /><polyline clip-path=\"url(#clip320)\" style=\"stroke:#0000ff; stroke-linecap:round; stroke-linejoin:round; stroke-width:4; stroke-opacity:1; fill:none\" points=\"1907.72,196.789 2049.91,196.789 \"/>\n",
       "<path clip-path=\"url(#clip320)\" d=\"M2073.61 179.509 L2079.91 179.509 L2095.23 208.421 L2095.23 179.509 L2099.77 179.509 L2099.77 214.069 L2093.47 214.069 L2078.15 185.157 L2078.15 214.069 L2073.61 214.069 L2073.61 179.509 Z\" fill=\"#000000\" fill-rule=\"nonzero\" fill-opacity=\"1\" /><path clip-path=\"url(#clip320)\" d=\"M2119.12 178.097 Q2116.02 183.421 2114.51 188.629 Q2113.01 193.837 2113.01 199.184 Q2113.01 204.532 2114.51 209.786 Q2116.04 215.018 2119.12 220.319 L2115.42 220.319 Q2111.94 214.879 2110.21 209.624 Q2108.49 204.37 2108.49 199.184 Q2108.49 194.022 2110.21 188.791 Q2111.92 183.56 2115.42 178.097 L2119.12 178.097 Z\" fill=\"#000000\" fill-rule=\"nonzero\" fill-opacity=\"1\" /><path clip-path=\"url(#clip320)\" d=\"M2128.79 210.133 L2136.43 210.133 L2136.43 183.768 L2128.12 185.435 L2128.12 181.175 L2136.39 179.509 L2141.06 179.509 L2141.06 210.133 L2148.7 210.133 L2148.7 214.069 L2128.79 214.069 L2128.79 210.133 Z\" fill=\"#000000\" fill-rule=\"nonzero\" fill-opacity=\"1\" /><path clip-path=\"url(#clip320)\" d=\"M2158.63 208.189 L2163.52 208.189 L2163.52 212.17 L2159.72 219.578 L2156.73 219.578 L2158.63 212.17 L2158.63 208.189 Z\" fill=\"#000000\" fill-rule=\"nonzero\" fill-opacity=\"1\" /><path clip-path=\"url(#clip320)\" d=\"M2183.22 182.587 Q2179.6 182.587 2177.78 186.152 Q2175.97 189.694 2175.97 196.823 Q2175.97 203.93 2177.78 207.495 Q2179.6 211.036 2183.22 211.036 Q2186.85 211.036 2188.66 207.495 Q2190.48 203.93 2190.48 196.823 Q2190.48 189.694 2188.66 186.152 Q2186.85 182.587 2183.22 182.587 M2183.22 178.884 Q2189.03 178.884 2192.08 183.49 Q2195.16 188.073 2195.16 196.823 Q2195.16 205.55 2192.08 210.157 Q2189.03 214.74 2183.22 214.74 Q2177.41 214.74 2174.33 210.157 Q2171.27 205.55 2171.27 196.823 Q2171.27 188.073 2174.33 183.49 Q2177.41 178.884 2183.22 178.884 Z\" fill=\"#000000\" fill-rule=\"nonzero\" fill-opacity=\"1\" /><path clip-path=\"url(#clip320)\" d=\"M2203.38 208.189 L2208.26 208.189 L2208.26 214.069 L2203.38 214.069 L2203.38 208.189 Z\" fill=\"#000000\" fill-rule=\"nonzero\" fill-opacity=\"1\" /><path clip-path=\"url(#clip320)\" d=\"M2218.49 179.509 L2236.85 179.509 L2236.85 183.444 L2222.78 183.444 L2222.78 191.916 Q2223.79 191.569 2224.81 191.407 Q2225.83 191.222 2226.85 191.222 Q2232.64 191.222 2236.02 194.393 Q2239.4 197.564 2239.4 202.981 Q2239.4 208.559 2235.92 211.661 Q2232.45 214.74 2226.13 214.74 Q2223.96 214.74 2221.69 214.37 Q2219.44 213.999 2217.04 213.258 L2217.04 208.559 Q2219.12 209.694 2221.34 210.249 Q2223.56 210.805 2226.04 210.805 Q2230.04 210.805 2232.38 208.698 Q2234.72 206.592 2234.72 202.981 Q2234.72 199.37 2232.38 197.263 Q2230.04 195.157 2226.04 195.157 Q2224.16 195.157 2222.29 195.573 Q2220.44 195.99 2218.49 196.87 L2218.49 179.509 Z\" fill=\"#000000\" fill-rule=\"nonzero\" fill-opacity=\"1\" /><path clip-path=\"url(#clip320)\" d=\"M2247.34 178.097 L2251.04 178.097 Q2254.51 183.56 2256.22 188.791 Q2257.96 194.022 2257.96 199.184 Q2257.96 204.37 2256.22 209.624 Q2254.51 214.879 2251.04 220.319 L2247.34 220.319 Q2250.41 215.018 2251.92 209.786 Q2253.45 204.532 2253.45 199.184 Q2253.45 193.837 2251.92 188.629 Q2250.41 183.421 2247.34 178.097 Z\" fill=\"#000000\" fill-rule=\"nonzero\" fill-opacity=\"1\" /></svg>\n"
      ],
      "text/html": [
       "<?xml version=\"1.0\" encoding=\"utf-8\"?>\n",
       "<svg xmlns=\"http://www.w3.org/2000/svg\" xmlns:xlink=\"http://www.w3.org/1999/xlink\" width=\"600\" height=\"400\" viewBox=\"0 0 2400 1600\">\n",
       "<defs>\n",
       "  <clipPath id=\"clip370\">\n",
       "    <rect x=\"0\" y=\"0\" width=\"2400\" height=\"1600\"/>\n",
       "  </clipPath>\n",
       "</defs>\n",
       "<path clip-path=\"url(#clip370)\" d=\"M0 1600 L2400 1600 L2400 0 L0 0  Z\" fill=\"#ffffff\" fill-rule=\"evenodd\" fill-opacity=\"1\"/>\n",
       "<defs>\n",
       "  <clipPath id=\"clip371\">\n",
       "    <rect x=\"480\" y=\"0\" width=\"1681\" height=\"1600\"/>\n",
       "  </clipPath>\n",
       "</defs>\n",
       "<path clip-path=\"url(#clip370)\" d=\"M219.866 1423.18 L2352.76 1423.18 L2352.76 47.2441 L219.866 47.2441  Z\" fill=\"#ffffff\" fill-rule=\"evenodd\" fill-opacity=\"1\"/>\n",
       "<defs>\n",
       "  <clipPath id=\"clip372\">\n",
       "    <rect x=\"219\" y=\"47\" width=\"2134\" height=\"1377\"/>\n",
       "  </clipPath>\n",
       "</defs>\n",
       "<polyline clip-path=\"url(#clip372)\" style=\"stroke:#000000; stroke-linecap:round; stroke-linejoin:round; stroke-width:2; stroke-opacity:0.1; fill:none\" points=\"280.231,1423.18 280.231,47.2441 \"/>\n",
       "<polyline clip-path=\"url(#clip372)\" style=\"stroke:#000000; stroke-linecap:round; stroke-linejoin:round; stroke-width:2; stroke-opacity:0.1; fill:none\" points=\"615.591,1423.18 615.591,47.2441 \"/>\n",
       "<polyline clip-path=\"url(#clip372)\" style=\"stroke:#000000; stroke-linecap:round; stroke-linejoin:round; stroke-width:2; stroke-opacity:0.1; fill:none\" points=\"950.951,1423.18 950.951,47.2441 \"/>\n",
       "<polyline clip-path=\"url(#clip372)\" style=\"stroke:#000000; stroke-linecap:round; stroke-linejoin:round; stroke-width:2; stroke-opacity:0.1; fill:none\" points=\"1286.31,1423.18 1286.31,47.2441 \"/>\n",
       "<polyline clip-path=\"url(#clip372)\" style=\"stroke:#000000; stroke-linecap:round; stroke-linejoin:round; stroke-width:2; stroke-opacity:0.1; fill:none\" points=\"1621.67,1423.18 1621.67,47.2441 \"/>\n",
       "<polyline clip-path=\"url(#clip372)\" style=\"stroke:#000000; stroke-linecap:round; stroke-linejoin:round; stroke-width:2; stroke-opacity:0.1; fill:none\" points=\"1957.03,1423.18 1957.03,47.2441 \"/>\n",
       "<polyline clip-path=\"url(#clip372)\" style=\"stroke:#000000; stroke-linecap:round; stroke-linejoin:round; stroke-width:2; stroke-opacity:0.1; fill:none\" points=\"2292.39,1423.18 2292.39,47.2441 \"/>\n",
       "<polyline clip-path=\"url(#clip372)\" style=\"stroke:#000000; stroke-linecap:round; stroke-linejoin:round; stroke-width:2; stroke-opacity:0.1; fill:none\" points=\"219.866,1384.24 2352.76,1384.24 \"/>\n",
       "<polyline clip-path=\"url(#clip372)\" style=\"stroke:#000000; stroke-linecap:round; stroke-linejoin:round; stroke-width:2; stroke-opacity:0.1; fill:none\" points=\"219.866,1058.86 2352.76,1058.86 \"/>\n",
       "<polyline clip-path=\"url(#clip372)\" style=\"stroke:#000000; stroke-linecap:round; stroke-linejoin:round; stroke-width:2; stroke-opacity:0.1; fill:none\" points=\"219.866,733.491 2352.76,733.491 \"/>\n",
       "<polyline clip-path=\"url(#clip372)\" style=\"stroke:#000000; stroke-linecap:round; stroke-linejoin:round; stroke-width:2; stroke-opacity:0.1; fill:none\" points=\"219.866,408.118 2352.76,408.118 \"/>\n",
       "<polyline clip-path=\"url(#clip372)\" style=\"stroke:#000000; stroke-linecap:round; stroke-linejoin:round; stroke-width:2; stroke-opacity:0.1; fill:none\" points=\"219.866,82.7441 2352.76,82.7441 \"/>\n",
       "<polyline clip-path=\"url(#clip370)\" style=\"stroke:#000000; stroke-linecap:round; stroke-linejoin:round; stroke-width:4; stroke-opacity:1; fill:none\" points=\"219.866,1423.18 2352.76,1423.18 \"/>\n",
       "<polyline clip-path=\"url(#clip370)\" style=\"stroke:#000000; stroke-linecap:round; stroke-linejoin:round; stroke-width:4; stroke-opacity:1; fill:none\" points=\"280.231,1423.18 280.231,1404.28 \"/>\n",
       "<polyline clip-path=\"url(#clip370)\" style=\"stroke:#000000; stroke-linecap:round; stroke-linejoin:round; stroke-width:4; stroke-opacity:1; fill:none\" points=\"615.591,1423.18 615.591,1404.28 \"/>\n",
       "<polyline clip-path=\"url(#clip370)\" style=\"stroke:#000000; stroke-linecap:round; stroke-linejoin:round; stroke-width:4; stroke-opacity:1; fill:none\" points=\"950.951,1423.18 950.951,1404.28 \"/>\n",
       "<polyline clip-path=\"url(#clip370)\" style=\"stroke:#000000; stroke-linecap:round; stroke-linejoin:round; stroke-width:4; stroke-opacity:1; fill:none\" points=\"1286.31,1423.18 1286.31,1404.28 \"/>\n",
       "<polyline clip-path=\"url(#clip370)\" style=\"stroke:#000000; stroke-linecap:round; stroke-linejoin:round; stroke-width:4; stroke-opacity:1; fill:none\" points=\"1621.67,1423.18 1621.67,1404.28 \"/>\n",
       "<polyline clip-path=\"url(#clip370)\" style=\"stroke:#000000; stroke-linecap:round; stroke-linejoin:round; stroke-width:4; stroke-opacity:1; fill:none\" points=\"1957.03,1423.18 1957.03,1404.28 \"/>\n",
       "<polyline clip-path=\"url(#clip370)\" style=\"stroke:#000000; stroke-linecap:round; stroke-linejoin:round; stroke-width:4; stroke-opacity:1; fill:none\" points=\"2292.39,1423.18 2292.39,1404.28 \"/>\n",
       "<path clip-path=\"url(#clip370)\" d=\"M249.699 1468.75 L279.375 1468.75 L279.375 1472.69 L249.699 1472.69 L249.699 1468.75 Z\" fill=\"#000000\" fill-rule=\"nonzero\" fill-opacity=\"1\" /><path clip-path=\"url(#clip370)\" d=\"M303.634 1466.95 Q306.99 1467.66 308.865 1469.93 Q310.763 1472.2 310.763 1475.53 Q310.763 1480.65 307.245 1483.45 Q303.726 1486.25 297.245 1486.25 Q295.069 1486.25 292.754 1485.81 Q290.462 1485.39 288.009 1484.54 L288.009 1480.02 Q289.953 1481.16 292.268 1481.74 Q294.583 1482.32 297.106 1482.32 Q301.504 1482.32 303.796 1480.58 Q306.111 1478.84 306.111 1475.53 Q306.111 1472.48 303.958 1470.77 Q301.828 1469.03 298.009 1469.03 L293.981 1469.03 L293.981 1465.19 L298.194 1465.19 Q301.643 1465.19 303.472 1463.82 Q305.3 1462.43 305.3 1459.84 Q305.3 1457.18 303.402 1455.77 Q301.527 1454.33 298.009 1454.33 Q296.087 1454.33 293.888 1454.75 Q291.689 1455.16 289.05 1456.04 L289.05 1451.88 Q291.712 1451.14 294.027 1450.77 Q296.365 1450.39 298.425 1450.39 Q303.749 1450.39 306.851 1452.83 Q309.953 1455.23 309.953 1459.35 Q309.953 1462.22 308.31 1464.21 Q306.666 1466.18 303.634 1466.95 Z\" fill=\"#000000\" fill-rule=\"nonzero\" fill-opacity=\"1\" /><path clip-path=\"url(#clip370)\" d=\"M585.533 1468.75 L615.209 1468.75 L615.209 1472.69 L585.533 1472.69 L585.533 1468.75 Z\" fill=\"#000000\" fill-rule=\"nonzero\" fill-opacity=\"1\" /><path clip-path=\"url(#clip370)\" d=\"M629.329 1481.64 L645.649 1481.64 L645.649 1485.58 L623.704 1485.58 L623.704 1481.64 Q626.366 1478.89 630.95 1474.26 Q635.556 1469.61 636.737 1468.27 Q638.982 1465.74 639.862 1464.01 Q640.765 1462.25 640.765 1460.56 Q640.765 1457.8 638.82 1456.07 Q636.899 1454.33 633.797 1454.33 Q631.598 1454.33 629.144 1455.09 Q626.714 1455.86 623.936 1457.41 L623.936 1452.69 Q626.76 1451.55 629.214 1450.97 Q631.667 1450.39 633.704 1450.39 Q639.075 1450.39 642.269 1453.08 Q645.464 1455.77 645.464 1460.26 Q645.464 1462.39 644.653 1464.31 Q643.866 1466.2 641.76 1468.8 Q641.181 1469.47 638.079 1472.69 Q634.978 1475.88 629.329 1481.64 Z\" fill=\"#000000\" fill-rule=\"nonzero\" fill-opacity=\"1\" /><path clip-path=\"url(#clip370)\" d=\"M920.708 1468.75 L950.384 1468.75 L950.384 1472.69 L920.708 1472.69 L920.708 1468.75 Z\" fill=\"#000000\" fill-rule=\"nonzero\" fill-opacity=\"1\" /><path clip-path=\"url(#clip370)\" d=\"M961.287 1481.64 L968.926 1481.64 L968.926 1455.28 L960.615 1456.95 L960.615 1452.69 L968.879 1451.02 L973.555 1451.02 L973.555 1481.64 L981.194 1481.64 L981.194 1485.58 L961.287 1485.58 L961.287 1481.64 Z\" fill=\"#000000\" fill-rule=\"nonzero\" fill-opacity=\"1\" /><path clip-path=\"url(#clip370)\" d=\"M1286.31 1454.1 Q1282.7 1454.1 1280.87 1457.66 Q1279.07 1461.2 1279.07 1468.33 Q1279.07 1475.44 1280.87 1479.01 Q1282.7 1482.55 1286.31 1482.55 Q1289.95 1482.55 1291.75 1479.01 Q1293.58 1475.44 1293.58 1468.33 Q1293.58 1461.2 1291.75 1457.66 Q1289.95 1454.1 1286.31 1454.1 M1286.31 1450.39 Q1292.12 1450.39 1295.18 1455 Q1298.26 1459.58 1298.26 1468.33 Q1298.26 1477.06 1295.18 1481.67 Q1292.12 1486.25 1286.31 1486.25 Q1280.5 1486.25 1277.42 1481.67 Q1274.37 1477.06 1274.37 1468.33 Q1274.37 1459.58 1277.42 1455 Q1280.5 1450.39 1286.31 1450.39 Z\" fill=\"#000000\" fill-rule=\"nonzero\" fill-opacity=\"1\" /><path clip-path=\"url(#clip370)\" d=\"M1612.05 1481.64 L1619.69 1481.64 L1619.69 1455.28 L1611.38 1456.95 L1611.38 1452.69 L1619.65 1451.02 L1624.32 1451.02 L1624.32 1481.64 L1631.96 1481.64 L1631.96 1485.58 L1612.05 1485.58 L1612.05 1481.64 Z\" fill=\"#000000\" fill-rule=\"nonzero\" fill-opacity=\"1\" /><path clip-path=\"url(#clip370)\" d=\"M1951.68 1481.64 L1968 1481.64 L1968 1485.58 L1946.06 1485.58 L1946.06 1481.64 Q1948.72 1478.89 1953.3 1474.26 Q1957.91 1469.61 1959.09 1468.27 Q1961.34 1465.74 1962.22 1464.01 Q1963.12 1462.25 1963.12 1460.56 Q1963.12 1457.8 1961.17 1456.07 Q1959.25 1454.33 1956.15 1454.33 Q1953.95 1454.33 1951.5 1455.09 Q1949.07 1455.86 1946.29 1457.41 L1946.29 1452.69 Q1949.11 1451.55 1951.57 1450.97 Q1954.02 1450.39 1956.06 1450.39 Q1961.43 1450.39 1964.62 1453.08 Q1967.82 1455.77 1967.82 1460.26 Q1967.82 1462.39 1967.01 1464.31 Q1966.22 1466.2 1964.11 1468.8 Q1963.54 1469.47 1960.43 1472.69 Q1957.33 1475.88 1951.68 1481.64 Z\" fill=\"#000000\" fill-rule=\"nonzero\" fill-opacity=\"1\" /><path clip-path=\"url(#clip370)\" d=\"M2296.64 1466.95 Q2300 1467.66 2301.87 1469.93 Q2303.77 1472.2 2303.77 1475.53 Q2303.77 1480.65 2300.25 1483.45 Q2296.73 1486.25 2290.25 1486.25 Q2288.07 1486.25 2285.76 1485.81 Q2283.47 1485.39 2281.01 1484.54 L2281.01 1480.02 Q2282.96 1481.16 2285.27 1481.74 Q2287.59 1482.32 2290.11 1482.32 Q2294.51 1482.32 2296.8 1480.58 Q2299.12 1478.84 2299.12 1475.53 Q2299.12 1472.48 2296.96 1470.77 Q2294.83 1469.03 2291.01 1469.03 L2286.99 1469.03 L2286.99 1465.19 L2291.2 1465.19 Q2294.65 1465.19 2296.48 1463.82 Q2298.31 1462.43 2298.31 1459.84 Q2298.31 1457.18 2296.41 1455.77 Q2294.53 1454.33 2291.01 1454.33 Q2289.09 1454.33 2286.89 1454.75 Q2284.69 1455.16 2282.06 1456.04 L2282.06 1451.88 Q2284.72 1451.14 2287.03 1450.77 Q2289.37 1450.39 2291.43 1450.39 Q2296.75 1450.39 2299.86 1452.83 Q2302.96 1455.23 2302.96 1459.35 Q2302.96 1462.22 2301.31 1464.21 Q2299.67 1466.18 2296.64 1466.95 Z\" fill=\"#000000\" fill-rule=\"nonzero\" fill-opacity=\"1\" /><path clip-path=\"url(#clip370)\" d=\"M1302.93 1532.4 L1290.04 1549.74 L1303.59 1568.04 L1296.69 1568.04 L1286.31 1554.04 L1275.93 1568.04 L1269.03 1568.04 L1282.87 1549.39 L1270.21 1532.4 L1277.11 1532.4 L1286.57 1545.1 L1296.02 1532.4 L1302.93 1532.4 Z\" fill=\"#000000\" fill-rule=\"nonzero\" fill-opacity=\"1\" /><polyline clip-path=\"url(#clip370)\" style=\"stroke:#000000; stroke-linecap:round; stroke-linejoin:round; stroke-width:4; stroke-opacity:1; fill:none\" points=\"219.866,1423.18 219.866,47.2441 \"/>\n",
       "<polyline clip-path=\"url(#clip370)\" style=\"stroke:#000000; stroke-linecap:round; stroke-linejoin:round; stroke-width:4; stroke-opacity:1; fill:none\" points=\"219.866,1384.24 238.764,1384.24 \"/>\n",
       "<polyline clip-path=\"url(#clip370)\" style=\"stroke:#000000; stroke-linecap:round; stroke-linejoin:round; stroke-width:4; stroke-opacity:1; fill:none\" points=\"219.866,1058.86 238.764,1058.86 \"/>\n",
       "<polyline clip-path=\"url(#clip370)\" style=\"stroke:#000000; stroke-linecap:round; stroke-linejoin:round; stroke-width:4; stroke-opacity:1; fill:none\" points=\"219.866,733.491 238.764,733.491 \"/>\n",
       "<polyline clip-path=\"url(#clip370)\" style=\"stroke:#000000; stroke-linecap:round; stroke-linejoin:round; stroke-width:4; stroke-opacity:1; fill:none\" points=\"219.866,408.118 238.764,408.118 \"/>\n",
       "<polyline clip-path=\"url(#clip370)\" style=\"stroke:#000000; stroke-linecap:round; stroke-linejoin:round; stroke-width:4; stroke-opacity:1; fill:none\" points=\"219.866,82.7441 238.764,82.7441 \"/>\n",
       "<path clip-path=\"url(#clip370)\" d=\"M126.691 1370.04 Q123.08 1370.04 121.251 1373.6 Q119.445 1377.14 119.445 1384.27 Q119.445 1391.38 121.251 1394.94 Q123.08 1398.49 126.691 1398.49 Q130.325 1398.49 132.13 1394.94 Q133.959 1391.38 133.959 1384.27 Q133.959 1377.14 132.13 1373.6 Q130.325 1370.04 126.691 1370.04 M126.691 1366.33 Q132.501 1366.33 135.556 1370.94 Q138.635 1375.52 138.635 1384.27 Q138.635 1393 135.556 1397.61 Q132.501 1402.19 126.691 1402.19 Q120.88 1402.19 117.802 1397.61 Q114.746 1393 114.746 1384.27 Q114.746 1375.52 117.802 1370.94 Q120.88 1366.33 126.691 1366.33 Z\" fill=\"#000000\" fill-rule=\"nonzero\" fill-opacity=\"1\" /><path clip-path=\"url(#clip370)\" d=\"M146.853 1395.64 L151.737 1395.64 L151.737 1401.52 L146.853 1401.52 L146.853 1395.64 Z\" fill=\"#000000\" fill-rule=\"nonzero\" fill-opacity=\"1\" /><path clip-path=\"url(#clip370)\" d=\"M171.922 1370.04 Q168.311 1370.04 166.482 1373.6 Q164.677 1377.14 164.677 1384.27 Q164.677 1391.38 166.482 1394.94 Q168.311 1398.49 171.922 1398.49 Q175.556 1398.49 177.362 1394.94 Q179.19 1391.38 179.19 1384.27 Q179.19 1377.14 177.362 1373.6 Q175.556 1370.04 171.922 1370.04 M171.922 1366.33 Q177.732 1366.33 180.788 1370.94 Q183.866 1375.52 183.866 1384.27 Q183.866 1393 180.788 1397.61 Q177.732 1402.19 171.922 1402.19 Q166.112 1402.19 163.033 1397.61 Q159.978 1393 159.978 1384.27 Q159.978 1375.52 163.033 1370.94 Q166.112 1366.33 171.922 1366.33 Z\" fill=\"#000000\" fill-rule=\"nonzero\" fill-opacity=\"1\" /><path clip-path=\"url(#clip370)\" d=\"M128.288 1044.66 Q124.677 1044.66 122.848 1048.23 Q121.043 1051.77 121.043 1058.9 Q121.043 1066.01 122.848 1069.57 Q124.677 1073.11 128.288 1073.11 Q131.922 1073.11 133.728 1069.57 Q135.556 1066.01 135.556 1058.9 Q135.556 1051.77 133.728 1048.23 Q131.922 1044.66 128.288 1044.66 M128.288 1040.96 Q134.098 1040.96 137.154 1045.57 Q140.232 1050.15 140.232 1058.9 Q140.232 1067.63 137.154 1072.23 Q134.098 1076.82 128.288 1076.82 Q122.478 1076.82 119.399 1072.23 Q116.343 1067.63 116.343 1058.9 Q116.343 1050.15 119.399 1045.57 Q122.478 1040.96 128.288 1040.96 Z\" fill=\"#000000\" fill-rule=\"nonzero\" fill-opacity=\"1\" /><path clip-path=\"url(#clip370)\" d=\"M148.45 1070.27 L153.334 1070.27 L153.334 1076.14 L148.45 1076.14 L148.45 1070.27 Z\" fill=\"#000000\" fill-rule=\"nonzero\" fill-opacity=\"1\" /><path clip-path=\"url(#clip370)\" d=\"M167.547 1072.21 L183.866 1072.21 L183.866 1076.14 L161.922 1076.14 L161.922 1072.21 Q164.584 1069.45 169.167 1064.83 Q173.774 1060.17 174.954 1058.83 Q177.2 1056.31 178.079 1054.57 Q178.982 1052.81 178.982 1051.12 Q178.982 1048.37 177.038 1046.63 Q175.116 1044.89 172.014 1044.89 Q169.815 1044.89 167.362 1045.66 Q164.931 1046.42 162.153 1047.97 L162.153 1043.25 Q164.977 1042.12 167.431 1041.54 Q169.885 1040.96 171.922 1040.96 Q177.292 1040.96 180.487 1043.64 Q183.681 1046.33 183.681 1050.82 Q183.681 1052.95 182.871 1054.87 Q182.084 1056.77 179.977 1059.36 Q179.399 1060.03 176.297 1063.25 Q173.195 1066.45 167.547 1072.21 Z\" fill=\"#000000\" fill-rule=\"nonzero\" fill-opacity=\"1\" /><path clip-path=\"url(#clip370)\" d=\"M126.205 719.29 Q122.593 719.29 120.765 722.855 Q118.959 726.396 118.959 733.526 Q118.959 740.632 120.765 744.197 Q122.593 747.739 126.205 747.739 Q129.839 747.739 131.644 744.197 Q133.473 740.632 133.473 733.526 Q133.473 726.396 131.644 722.855 Q129.839 719.29 126.205 719.29 M126.205 715.586 Q132.015 715.586 135.07 720.193 Q138.149 724.776 138.149 733.526 Q138.149 742.253 135.07 746.859 Q132.015 751.442 126.205 751.442 Q120.394 751.442 117.316 746.859 Q114.26 742.253 114.26 733.526 Q114.26 724.776 117.316 720.193 Q120.394 715.586 126.205 715.586 Z\" fill=\"#000000\" fill-rule=\"nonzero\" fill-opacity=\"1\" /><path clip-path=\"url(#clip370)\" d=\"M146.366 744.892 L151.251 744.892 L151.251 750.771 L146.366 750.771 L146.366 744.892 Z\" fill=\"#000000\" fill-rule=\"nonzero\" fill-opacity=\"1\" /><path clip-path=\"url(#clip370)\" d=\"M174.283 720.285 L162.477 738.734 L174.283 738.734 L174.283 720.285 M173.056 716.211 L178.936 716.211 L178.936 738.734 L183.866 738.734 L183.866 742.623 L178.936 742.623 L178.936 750.771 L174.283 750.771 L174.283 742.623 L158.681 742.623 L158.681 738.109 L173.056 716.211 Z\" fill=\"#000000\" fill-rule=\"nonzero\" fill-opacity=\"1\" /><path clip-path=\"url(#clip370)\" d=\"M126.529 393.916 Q122.918 393.916 121.089 397.481 Q119.283 401.023 119.283 408.152 Q119.283 415.259 121.089 418.824 Q122.918 422.365 126.529 422.365 Q130.163 422.365 131.968 418.824 Q133.797 415.259 133.797 408.152 Q133.797 401.023 131.968 397.481 Q130.163 393.916 126.529 393.916 M126.529 390.213 Q132.339 390.213 135.394 394.819 Q138.473 399.402 138.473 408.152 Q138.473 416.879 135.394 421.486 Q132.339 426.069 126.529 426.069 Q120.718 426.069 117.64 421.486 Q114.584 416.879 114.584 408.152 Q114.584 399.402 117.64 394.819 Q120.718 390.213 126.529 390.213 Z\" fill=\"#000000\" fill-rule=\"nonzero\" fill-opacity=\"1\" /><path clip-path=\"url(#clip370)\" d=\"M146.691 419.518 L151.575 419.518 L151.575 425.398 L146.691 425.398 L146.691 419.518 Z\" fill=\"#000000\" fill-rule=\"nonzero\" fill-opacity=\"1\" /><path clip-path=\"url(#clip370)\" d=\"M172.339 406.254 Q169.19 406.254 167.339 408.407 Q165.51 410.56 165.51 414.31 Q165.51 418.037 167.339 420.213 Q169.19 422.365 172.339 422.365 Q175.487 422.365 177.315 420.213 Q179.167 418.037 179.167 414.31 Q179.167 410.56 177.315 408.407 Q175.487 406.254 172.339 406.254 M181.621 391.602 L181.621 395.861 Q179.862 395.027 178.056 394.588 Q176.274 394.148 174.514 394.148 Q169.885 394.148 167.431 397.273 Q165.001 400.398 164.653 406.717 Q166.019 404.703 168.079 403.639 Q170.139 402.551 172.616 402.551 Q177.825 402.551 180.834 405.722 Q183.866 408.87 183.866 414.31 Q183.866 419.634 180.718 422.851 Q177.57 426.069 172.339 426.069 Q166.343 426.069 163.172 421.486 Q160.001 416.879 160.001 408.152 Q160.001 399.958 163.89 395.097 Q167.778 390.213 174.329 390.213 Q176.089 390.213 177.871 390.56 Q179.676 390.907 181.621 391.602 Z\" fill=\"#000000\" fill-rule=\"nonzero\" fill-opacity=\"1\" /><path clip-path=\"url(#clip370)\" d=\"M126.783 68.5428 Q123.172 68.5428 121.343 72.1076 Q119.538 75.6493 119.538 82.7789 Q119.538 89.8853 121.343 93.4501 Q123.172 96.9917 126.783 96.9917 Q130.417 96.9917 132.223 93.4501 Q134.052 89.8853 134.052 82.7789 Q134.052 75.6493 132.223 72.1076 Q130.417 68.5428 126.783 68.5428 M126.783 64.8391 Q132.593 64.8391 135.649 69.4456 Q138.728 74.0289 138.728 82.7789 Q138.728 91.5057 135.649 96.1121 Q132.593 100.695 126.783 100.695 Q120.973 100.695 117.894 96.1121 Q114.839 91.5057 114.839 82.7789 Q114.839 74.0289 117.894 69.4456 Q120.973 64.8391 126.783 64.8391 Z\" fill=\"#000000\" fill-rule=\"nonzero\" fill-opacity=\"1\" /><path clip-path=\"url(#clip370)\" d=\"M146.945 94.1445 L151.829 94.1445 L151.829 100.024 L146.945 100.024 L146.945 94.1445 Z\" fill=\"#000000\" fill-rule=\"nonzero\" fill-opacity=\"1\" /><path clip-path=\"url(#clip370)\" d=\"M172.014 83.6122 Q168.681 83.6122 166.76 85.3946 Q164.862 87.177 164.862 90.302 Q164.862 93.4269 166.76 95.2093 Q168.681 96.9917 172.014 96.9917 Q175.348 96.9917 177.269 95.2093 Q179.19 93.4038 179.19 90.302 Q179.19 87.177 177.269 85.3946 Q175.371 83.6122 172.014 83.6122 M167.339 81.6215 Q164.329 80.8807 162.64 78.8205 Q160.973 76.7604 160.973 73.7974 Q160.973 69.6539 163.913 67.2465 Q166.876 64.8391 172.014 64.8391 Q177.176 64.8391 180.116 67.2465 Q183.056 69.6539 183.056 73.7974 Q183.056 76.7604 181.366 78.8205 Q179.7 80.8807 176.714 81.6215 Q180.093 82.4085 181.968 84.7001 Q183.866 86.9918 183.866 90.302 Q183.866 95.3251 180.788 98.0103 Q177.732 100.695 172.014 100.695 Q166.297 100.695 163.218 98.0103 Q160.163 95.3251 160.163 90.302 Q160.163 86.9918 162.061 84.7001 Q163.959 82.4085 167.339 81.6215 M165.626 74.2372 Q165.626 76.9224 167.292 78.427 Q168.982 79.9316 172.014 79.9316 Q175.024 79.9316 176.714 78.427 Q178.426 76.9224 178.426 74.2372 Q178.426 71.5521 176.714 70.0474 Q175.024 68.5428 172.014 68.5428 Q168.982 68.5428 167.292 70.0474 Q165.626 71.5521 165.626 74.2372 Z\" fill=\"#000000\" fill-rule=\"nonzero\" fill-opacity=\"1\" /><path clip-path=\"url(#clip370)\" d=\"M58.657 788.97 L77.5631 788.97 L77.5631 794.859 L28.3562 794.859 L28.3562 788.97 L33.7671 788.97 Q30.5842 787.124 29.0564 784.323 Q27.4968 781.491 27.4968 777.576 Q27.4968 771.083 32.6531 767.041 Q37.8093 762.966 46.212 762.966 Q54.6147 762.966 59.771 767.041 Q64.9272 771.083 64.9272 777.576 Q64.9272 781.491 63.3994 784.323 Q61.8398 787.124 58.657 788.97 M46.212 769.046 Q39.7508 769.046 36.0905 771.719 Q32.3984 774.361 32.3984 779.008 Q32.3984 783.655 36.0905 786.329 Q39.7508 788.97 46.212 788.97 Q52.6732 788.97 56.3653 786.329 Q60.0256 783.655 60.0256 779.008 Q60.0256 774.361 56.3653 771.719 Q52.6732 769.046 46.212 769.046 Z\" fill=\"#000000\" fill-rule=\"nonzero\" fill-opacity=\"1\" /><path clip-path=\"url(#clip370)\" d=\"M14.5426 739.191 Q21.8632 743.456 29.0246 745.524 Q36.186 747.593 43.5384 747.593 Q50.8908 747.593 58.1159 745.524 Q65.3091 743.424 72.5979 739.191 L72.5979 744.283 Q65.1182 749.057 57.8931 751.445 Q50.668 753.8 43.5384 753.8 Q36.4406 753.8 29.2474 751.445 Q22.0542 749.089 14.5426 744.283 L14.5426 739.191 Z\" fill=\"#000000\" fill-rule=\"nonzero\" fill-opacity=\"1\" /><path clip-path=\"url(#clip370)\" d=\"M28.3562 698.195 L45.7028 711.086 L64.0042 697.527 L64.0042 704.434 L49.9996 714.81 L64.0042 725.186 L64.0042 732.093 L45.3526 718.247 L28.3562 730.915 L28.3562 724.008 L41.0558 714.555 L28.3562 705.102 L28.3562 698.195 Z\" fill=\"#000000\" fill-rule=\"nonzero\" fill-opacity=\"1\" /><path clip-path=\"url(#clip370)\" d=\"M14.5426 690.175 L14.5426 685.082 Q22.0542 680.308 29.2474 677.952 Q36.4406 675.565 43.5384 675.565 Q50.668 675.565 57.8931 677.952 Q65.1182 680.308 72.5979 685.082 L72.5979 690.175 Q65.3091 685.941 58.1159 683.873 Q50.8908 681.772 43.5384 681.772 Q36.186 681.772 29.0246 683.873 Q21.8632 685.941 14.5426 690.175 Z\" fill=\"#000000\" fill-rule=\"nonzero\" fill-opacity=\"1\" /><polyline clip-path=\"url(#clip372)\" style=\"stroke:#ff0000; stroke-linecap:round; stroke-linejoin:round; stroke-width:20; stroke-opacity:1; fill:none\" stroke-dasharray=\"80, 50\" points=\"280.231,1377.03 286.938,1376.58 293.645,1376.12 300.353,1375.62 307.06,1375.1 313.767,1374.55 320.474,1373.98 327.181,1373.37 333.889,1372.73 340.596,1372.06 347.303,1371.36 354.01,1370.62 360.717,1369.85 367.425,1369.03 374.132,1368.18 380.839,1367.28 387.546,1366.35 394.253,1365.37 400.961,1364.34 407.668,1363.26 414.375,1362.14 421.082,1360.97 427.789,1359.74 434.497,1358.46 441.204,1357.12 447.911,1355.72 454.618,1354.27 461.325,1352.75 468.033,1351.17 474.74,1349.52 481.447,1347.81 488.154,1346.02 494.861,1344.17 501.569,1342.24 508.276,1340.23 514.983,1338.15 521.69,1335.99 528.397,1333.75 535.105,1331.43 541.812,1329.02 548.519,1326.53 555.226,1323.94 561.933,1321.27 568.641,1318.5 575.348,1315.64 582.055,1312.68 588.762,1309.63 595.469,1306.47 602.177,1303.22 608.884,1299.86 615.591,1296.4 622.298,1292.84 629.005,1289.16 635.713,1285.38 642.42,1281.49 649.127,1277.49 655.834,1273.38 662.541,1269.15 669.249,1264.82 675.956,1260.36 682.663,1255.8 689.37,1251.12 696.077,1246.32 702.785,1241.41 709.492,1236.38 716.199,1231.23 722.906,1225.97 729.613,1220.6 736.321,1215.11 743.028,1209.5 749.735,1203.78 756.442,1197.95 763.149,1192.01 769.857,1185.96 776.564,1179.8 783.271,1173.53 789.978,1167.16 796.685,1160.68 803.393,1154.1 810.1,1147.42 816.807,1140.65 823.514,1133.78 830.221,1126.83 836.929,1119.78 843.636,1112.65 850.343,1105.44 857.05,1098.16 863.757,1090.8 870.465,1083.37 877.172,1075.88 883.879,1068.32 890.586,1060.71 897.293,1053.05 904.001,1045.35 910.708,1037.6 917.415,1029.82 924.122,1022.01 930.829,1014.18 937.537,1006.32 944.244,998.456 950.951,990.584 957.658,982.712 964.365,974.846 971.073,966.993 977.78,959.16 984.487,951.353 991.194,943.578 997.901,935.844 1004.61,928.156 1011.32,920.522 1018.02,912.948 1024.73,905.443 1031.44,898.012 1038.14,890.664 1044.85,883.405 1051.56,876.242 1058.27,869.184 1064.97,862.235 1071.68,855.405 1078.39,848.7 1085.1,842.126 1091.8,835.691 1098.51,829.402 1105.22,823.265 1111.92,817.287 1118.63,811.475 1125.34,805.834 1132.05,800.371 1138.75,795.093 1145.46,790.004 1152.17,785.111 1158.87,780.42 1165.58,775.935 1172.29,771.662 1179,767.606 1185.7,763.771 1192.41,760.162 1199.12,756.782 1205.82,753.637 1212.53,750.73 1219.24,748.064 1225.95,745.641 1232.65,743.467 1239.36,741.541 1246.07,739.868 1252.78,738.449 1259.48,737.286 1266.19,736.379 1272.9,735.731 1279.6,735.342 1286.31,735.212 1293.02,735.342 1299.73,735.731 1306.43,736.379 1313.14,737.286 1319.85,738.449 1326.55,739.868 1333.26,741.541 1339.97,743.467 1346.68,745.641 1353.38,748.064 1360.09,750.73 1366.8,753.637 1373.5,756.782 1380.21,760.162 1386.92,763.771 1393.63,767.606 1400.33,771.662 1407.04,775.935 1413.75,780.42 1420.46,785.111 1427.16,790.004 1433.87,795.093 1440.58,800.371 1447.28,805.834 1453.99,811.475 1460.7,817.287 1467.41,823.265 1474.11,829.402 1480.82,835.691 1487.53,842.126 1494.23,848.7 1500.94,855.405 1507.65,862.235 1514.36,869.184 1521.06,876.242 1527.77,883.405 1534.48,890.664 1541.18,898.012 1547.89,905.443 1554.6,912.948 1561.31,920.522 1568.01,928.156 1574.72,935.844 1581.43,943.578 1588.14,951.353 1594.84,959.16 1601.55,966.993 1608.26,974.846 1614.96,982.712 1621.67,990.584 1628.38,998.456 1635.09,1006.32 1641.79,1014.18 1648.5,1022.01 1655.21,1029.82 1661.91,1037.6 1668.62,1045.35 1675.33,1053.05 1682.04,1060.71 1688.74,1068.32 1695.45,1075.88 1702.16,1083.37 1708.86,1090.8 1715.57,1098.16 1722.28,1105.44 1728.99,1112.65 1735.69,1119.78 1742.4,1126.83 1749.11,1133.78 1755.82,1140.65 1762.52,1147.42 1769.23,1154.1 1775.94,1160.68 1782.64,1167.16 1789.35,1173.53 1796.06,1179.8 1802.77,1185.96 1809.47,1192.01 1816.18,1197.95 1822.89,1203.78 1829.59,1209.5 1836.3,1215.11 1843.01,1220.6 1849.72,1225.97 1856.42,1231.23 1863.13,1236.38 1869.84,1241.41 1876.54,1246.32 1883.25,1251.12 1889.96,1255.8 1896.67,1260.36 1903.37,1264.82 1910.08,1269.15 1916.79,1273.38 1923.5,1277.49 1930.2,1281.49 1936.91,1285.38 1943.62,1289.16 1950.32,1292.84 1957.03,1296.4 1963.74,1299.86 1970.45,1303.22 1977.15,1306.47 1983.86,1309.63 1990.57,1312.68 1997.27,1315.64 2003.98,1318.5 2010.69,1321.27 2017.4,1323.94 2024.1,1326.53 2030.81,1329.02 2037.52,1331.43 2044.22,1333.75 2050.93,1335.99 2057.64,1338.15 2064.35,1340.23 2071.05,1342.24 2077.76,1344.17 2084.47,1346.02 2091.18,1347.81 2097.88,1349.52 2104.59,1351.17 2111.3,1352.75 2118,1354.27 2124.71,1355.72 2131.42,1357.12 2138.13,1358.46 2144.83,1359.74 2151.54,1360.97 2158.25,1362.14 2164.95,1363.26 2171.66,1364.34 2178.37,1365.37 2185.08,1366.35 2191.78,1367.28 2198.49,1368.18 2205.2,1369.03 2211.9,1369.85 2218.61,1370.62 2225.32,1371.36 2232.03,1372.06 2238.73,1372.73 2245.44,1373.37 2252.15,1373.98 2258.86,1374.55 2265.56,1375.1 2272.27,1375.62 2278.98,1376.12 2285.68,1376.58 2292.39,1377.03 \"/>\n",
       "<polyline clip-path=\"url(#clip372)\" style=\"stroke:#0000ff; stroke-linecap:round; stroke-linejoin:round; stroke-width:4; stroke-opacity:1; fill:none\" points=\"280.231,1384.24 286.938,1384.24 293.645,1384.24 300.353,1384.24 307.06,1384.24 313.767,1384.24 320.474,1384.24 327.181,1384.24 333.889,1384.24 340.596,1384.24 347.303,1384.24 354.01,1384.24 360.717,1384.24 367.425,1384.24 374.132,1384.24 380.839,1384.24 387.546,1384.24 394.253,1384.24 400.961,1384.24 407.668,1384.24 414.375,1384.24 421.082,1384.24 427.789,1384.24 434.497,1384.24 441.204,1384.24 447.911,1384.24 454.618,1384.24 461.325,1384.24 468.033,1384.24 474.74,1384.24 481.447,1384.24 488.154,1384.24 494.861,1384.24 501.569,1384.24 508.276,1384.24 514.983,1384.24 521.69,1384.24 528.397,1384.24 535.105,1384.24 541.812,1384.24 548.519,1384.24 555.226,1384.24 561.933,1384.24 568.641,1384.24 575.348,1384.24 582.055,1384.24 588.762,1384.24 595.469,1384.24 602.177,1384.24 608.884,1384.24 615.591,1384.24 622.298,1384.24 629.005,1384.24 635.713,1384.24 642.42,1384.24 649.127,1384.24 655.834,1384.24 662.541,1384.24 669.249,1384.24 675.956,1384.24 682.663,1384.24 689.37,1384.24 696.077,1384.24 702.785,1384.24 709.492,1384.24 716.199,1384.24 722.906,1384.24 729.613,1384.24 736.321,1384.24 743.028,1384.24 749.735,1384.24 756.442,1384.24 763.149,1384.24 769.857,1384.24 776.564,1384.23 783.271,1384.23 789.978,1384.23 796.685,1384.23 803.393,1384.23 810.1,1384.23 816.807,1384.23 823.514,1384.22 830.221,1384.22 836.929,1384.22 843.636,1384.21 850.343,1384.21 857.05,1384.2 863.757,1384.19 870.465,1384.18 877.172,1384.17 883.879,1384.16 890.586,1384.14 897.293,1384.12 904.001,1384.1 910.708,1384.08 917.415,1384.05 924.122,1384.01 930.829,1383.97 937.537,1383.92 944.244,1383.87 950.951,1383.8 957.658,1383.73 964.365,1383.64 971.073,1383.54 977.78,1383.42 984.487,1383.29 991.194,1383.13 997.901,1382.95 1004.61,1382.75 1011.32,1382.52 1018.02,1382.25 1024.73,1381.94 1031.44,1381.59 1038.14,1381.19 1044.85,1380.74 1051.56,1380.23 1058.27,1379.65 1064.97,1378.99 1071.68,1378.25 1078.39,1377.42 1085.1,1376.48 1091.8,1375.43 1098.51,1374.25 1105.22,1372.93 1111.92,1371.46 1118.63,1369.82 1125.34,1367.99 1132.05,1365.97 1138.75,1363.72 1145.46,1361.23 1152.17,1358.48 1158.87,1355.45 1165.58,1352.12 1172.29,1348.46 1179,1344.44 1185.7,1340.04 1192.41,1335.24 1199.12,1330 1205.82,1324.29 1212.53,1318.1 1219.24,1311.37 1225.95,1304.09 1232.65,1296.23 1239.36,1287.75 1246.07,1278.62 1252.78,1268.81 1259.48,1258.3 1266.19,1247.04 1272.9,1235.02 1279.6,1222.2 1286.31,1208.57 1293.02,1194.09 1299.73,1178.74 1306.43,1162.52 1313.14,1145.39 1319.85,1127.36 1326.55,1108.4 1333.26,1088.52 1339.97,1067.71 1346.68,1045.98 1353.38,1023.33 1360.09,999.786 1366.8,975.359 1373.5,950.075 1380.21,923.965 1386.92,897.065 1393.63,869.417 1400.33,841.069 1407.04,812.077 1413.75,782.501 1420.46,752.408 1427.16,721.871 1433.87,690.968 1440.58,659.783 1447.28,628.405 1453.99,596.93 1460.7,565.454 1467.41,534.082 1474.11,502.919 1480.82,472.074 1487.53,441.659 1494.23,411.787 1500.94,382.572 1507.65,354.129 1514.36,326.572 1521.06,300.014 1527.77,274.566 1534.48,250.336 1541.18,227.43 1547.89,205.947 1554.6,185.985 1561.31,167.632 1568.01,150.973 1574.72,136.085 1581.43,123.036 1588.14,111.889 1594.84,102.695 1601.55,95.4981 1608.26,90.3328 1614.96,87.2237 1621.67,86.1857 1628.38,87.2237 1635.09,90.3328 1641.79,95.4981 1648.5,102.695 1655.21,111.889 1661.91,123.036 1668.62,136.085 1675.33,150.973 1682.04,167.632 1688.74,185.985 1695.45,205.947 1702.16,227.43 1708.86,250.336 1715.57,274.566 1722.28,300.014 1728.99,326.572 1735.69,354.129 1742.4,382.572 1749.11,411.787 1755.82,441.659 1762.52,472.074 1769.23,502.919 1775.94,534.082 1782.64,565.454 1789.35,596.93 1796.06,628.405 1802.77,659.783 1809.47,690.968 1816.18,721.871 1822.89,752.408 1829.59,782.501 1836.3,812.077 1843.01,841.069 1849.72,869.417 1856.42,897.065 1863.13,923.965 1869.84,950.075 1876.54,975.359 1883.25,999.786 1889.96,1023.33 1896.67,1045.98 1903.37,1067.71 1910.08,1088.52 1916.79,1108.4 1923.5,1127.36 1930.2,1145.39 1936.91,1162.52 1943.62,1178.74 1950.32,1194.09 1957.03,1208.57 1963.74,1222.2 1970.45,1235.02 1977.15,1247.04 1983.86,1258.3 1990.57,1268.81 1997.27,1278.62 2003.98,1287.75 2010.69,1296.23 2017.4,1304.09 2024.1,1311.37 2030.81,1318.1 2037.52,1324.29 2044.22,1330 2050.93,1335.24 2057.64,1340.04 2064.35,1344.44 2071.05,1348.46 2077.76,1352.12 2084.47,1355.45 2091.18,1358.48 2097.88,1361.23 2104.59,1363.72 2111.3,1365.97 2118,1367.99 2124.71,1369.82 2131.42,1371.46 2138.13,1372.93 2144.83,1374.25 2151.54,1375.43 2158.25,1376.48 2164.95,1377.42 2171.66,1378.25 2178.37,1378.99 2185.08,1379.65 2191.78,1380.23 2198.49,1380.74 2205.2,1381.19 2211.9,1381.59 2218.61,1381.94 2225.32,1382.25 2232.03,1382.52 2238.73,1382.75 2245.44,1382.95 2252.15,1383.13 2258.86,1383.29 2265.56,1383.42 2272.27,1383.54 2278.98,1383.64 2285.68,1383.73 2292.39,1383.8 \"/>\n",
       "<path clip-path=\"url(#clip370)\" d=\"M1884.02 248.629 L2281.66 248.629 L2281.66 93.1086 L1884.02 93.1086  Z\" fill=\"#ffffff\" fill-rule=\"evenodd\" fill-opacity=\"1\"/>\n",
       "<polyline clip-path=\"url(#clip370)\" style=\"stroke:#000000; stroke-linecap:round; stroke-linejoin:round; stroke-width:4; stroke-opacity:1; fill:none\" points=\"1884.02,248.629 2281.66,248.629 2281.66,93.1086 1884.02,93.1086 1884.02,248.629 \"/>\n",
       "<polyline clip-path=\"url(#clip370)\" style=\"stroke:#ff0000; stroke-linecap:round; stroke-linejoin:round; stroke-width:20; stroke-opacity:1; fill:none\" stroke-dasharray=\"80, 50\" points=\"1907.72,144.949 2049.91,144.949 \"/>\n",
       "<path clip-path=\"url(#clip370)\" d=\"M2073.61 127.669 L2079.91 127.669 L2095.23 156.581 L2095.23 127.669 L2099.77 127.669 L2099.77 162.229 L2093.47 162.229 L2078.15 133.317 L2078.15 162.229 L2073.61 162.229 L2073.61 127.669 Z\" fill=\"#000000\" fill-rule=\"nonzero\" fill-opacity=\"1\" /><path clip-path=\"url(#clip370)\" d=\"M2119.12 126.257 Q2116.02 131.581 2114.51 136.789 Q2113.01 141.997 2113.01 147.344 Q2113.01 152.692 2114.51 157.946 Q2116.04 163.178 2119.12 168.479 L2115.42 168.479 Q2111.94 163.039 2110.21 157.784 Q2108.49 152.53 2108.49 147.344 Q2108.49 142.182 2110.21 136.951 Q2111.92 131.72 2115.42 126.257 L2119.12 126.257 Z\" fill=\"#000000\" fill-rule=\"nonzero\" fill-opacity=\"1\" /><path clip-path=\"url(#clip370)\" d=\"M2137.98 130.747 Q2134.37 130.747 2132.54 134.312 Q2130.74 137.854 2130.74 144.983 Q2130.74 152.09 2132.54 155.655 Q2134.37 159.196 2137.98 159.196 Q2141.62 159.196 2143.42 155.655 Q2145.25 152.09 2145.25 144.983 Q2145.25 137.854 2143.42 134.312 Q2141.62 130.747 2137.98 130.747 M2137.98 127.044 Q2143.79 127.044 2146.85 131.65 Q2149.93 136.233 2149.93 144.983 Q2149.93 153.71 2146.85 158.317 Q2143.79 162.9 2137.98 162.9 Q2132.17 162.9 2129.1 158.317 Q2126.04 153.71 2126.04 144.983 Q2126.04 136.233 2129.1 131.65 Q2132.17 127.044 2137.98 127.044 Z\" fill=\"#000000\" fill-rule=\"nonzero\" fill-opacity=\"1\" /><path clip-path=\"url(#clip370)\" d=\"M2158.63 156.349 L2163.52 156.349 L2163.52 160.33 L2159.72 167.738 L2156.73 167.738 L2158.63 160.33 L2158.63 156.349 Z\" fill=\"#000000\" fill-rule=\"nonzero\" fill-opacity=\"1\" /><path clip-path=\"url(#clip370)\" d=\"M2174.03 158.293 L2181.66 158.293 L2181.66 131.928 L2173.35 133.595 L2173.35 129.335 L2181.62 127.669 L2186.29 127.669 L2186.29 158.293 L2193.93 158.293 L2193.93 162.229 L2174.03 162.229 L2174.03 158.293 Z\" fill=\"#000000\" fill-rule=\"nonzero\" fill-opacity=\"1\" /><path clip-path=\"url(#clip370)\" d=\"M2202.1 126.257 L2205.81 126.257 Q2209.28 131.72 2210.99 136.951 Q2212.73 142.182 2212.73 147.344 Q2212.73 152.53 2210.99 157.784 Q2209.28 163.039 2205.81 168.479 L2202.1 168.479 Q2205.18 163.178 2206.69 157.946 Q2208.22 152.692 2208.22 147.344 Q2208.22 141.997 2206.69 136.789 Q2205.18 131.581 2202.1 126.257 Z\" fill=\"#000000\" fill-rule=\"nonzero\" fill-opacity=\"1\" /><polyline clip-path=\"url(#clip370)\" style=\"stroke:#0000ff; stroke-linecap:round; stroke-linejoin:round; stroke-width:4; stroke-opacity:1; fill:none\" points=\"1907.72,196.789 2049.91,196.789 \"/>\n",
       "<path clip-path=\"url(#clip370)\" d=\"M2073.61 179.509 L2079.91 179.509 L2095.23 208.421 L2095.23 179.509 L2099.77 179.509 L2099.77 214.069 L2093.47 214.069 L2078.15 185.157 L2078.15 214.069 L2073.61 214.069 L2073.61 179.509 Z\" fill=\"#000000\" fill-rule=\"nonzero\" fill-opacity=\"1\" /><path clip-path=\"url(#clip370)\" d=\"M2119.12 178.097 Q2116.02 183.421 2114.51 188.629 Q2113.01 193.837 2113.01 199.184 Q2113.01 204.532 2114.51 209.786 Q2116.04 215.018 2119.12 220.319 L2115.42 220.319 Q2111.94 214.879 2110.21 209.624 Q2108.49 204.37 2108.49 199.184 Q2108.49 194.022 2110.21 188.791 Q2111.92 183.56 2115.42 178.097 L2119.12 178.097 Z\" fill=\"#000000\" fill-rule=\"nonzero\" fill-opacity=\"1\" /><path clip-path=\"url(#clip370)\" d=\"M2128.79 210.133 L2136.43 210.133 L2136.43 183.768 L2128.12 185.435 L2128.12 181.175 L2136.39 179.509 L2141.06 179.509 L2141.06 210.133 L2148.7 210.133 L2148.7 214.069 L2128.79 214.069 L2128.79 210.133 Z\" fill=\"#000000\" fill-rule=\"nonzero\" fill-opacity=\"1\" /><path clip-path=\"url(#clip370)\" d=\"M2158.63 208.189 L2163.52 208.189 L2163.52 212.17 L2159.72 219.578 L2156.73 219.578 L2158.63 212.17 L2158.63 208.189 Z\" fill=\"#000000\" fill-rule=\"nonzero\" fill-opacity=\"1\" /><path clip-path=\"url(#clip370)\" d=\"M2183.22 182.587 Q2179.6 182.587 2177.78 186.152 Q2175.97 189.694 2175.97 196.823 Q2175.97 203.93 2177.78 207.495 Q2179.6 211.036 2183.22 211.036 Q2186.85 211.036 2188.66 207.495 Q2190.48 203.93 2190.48 196.823 Q2190.48 189.694 2188.66 186.152 Q2186.85 182.587 2183.22 182.587 M2183.22 178.884 Q2189.03 178.884 2192.08 183.49 Q2195.16 188.073 2195.16 196.823 Q2195.16 205.55 2192.08 210.157 Q2189.03 214.74 2183.22 214.74 Q2177.41 214.74 2174.33 210.157 Q2171.27 205.55 2171.27 196.823 Q2171.27 188.073 2174.33 183.49 Q2177.41 178.884 2183.22 178.884 Z\" fill=\"#000000\" fill-rule=\"nonzero\" fill-opacity=\"1\" /><path clip-path=\"url(#clip370)\" d=\"M2203.38 208.189 L2208.26 208.189 L2208.26 214.069 L2203.38 214.069 L2203.38 208.189 Z\" fill=\"#000000\" fill-rule=\"nonzero\" fill-opacity=\"1\" /><path clip-path=\"url(#clip370)\" d=\"M2218.49 179.509 L2236.85 179.509 L2236.85 183.444 L2222.78 183.444 L2222.78 191.916 Q2223.79 191.569 2224.81 191.407 Q2225.83 191.222 2226.85 191.222 Q2232.64 191.222 2236.02 194.393 Q2239.4 197.564 2239.4 202.981 Q2239.4 208.559 2235.92 211.661 Q2232.45 214.74 2226.13 214.74 Q2223.96 214.74 2221.69 214.37 Q2219.44 213.999 2217.04 213.258 L2217.04 208.559 Q2219.12 209.694 2221.34 210.249 Q2223.56 210.805 2226.04 210.805 Q2230.04 210.805 2232.38 208.698 Q2234.72 206.592 2234.72 202.981 Q2234.72 199.37 2232.38 197.263 Q2230.04 195.157 2226.04 195.157 Q2224.16 195.157 2222.29 195.573 Q2220.44 195.99 2218.49 196.87 L2218.49 179.509 Z\" fill=\"#000000\" fill-rule=\"nonzero\" fill-opacity=\"1\" /><path clip-path=\"url(#clip370)\" d=\"M2247.34 178.097 L2251.04 178.097 Q2254.51 183.56 2256.22 188.791 Q2257.96 194.022 2257.96 199.184 Q2257.96 204.37 2256.22 209.624 Q2254.51 214.879 2251.04 220.319 L2247.34 220.319 Q2250.41 215.018 2251.92 209.786 Q2253.45 204.532 2253.45 199.184 Q2253.45 193.837 2251.92 188.629 Q2250.41 183.421 2247.34 178.097 Z\" fill=\"#000000\" fill-rule=\"nonzero\" fill-opacity=\"1\" /></svg>\n"
      ]
     },
     "metadata": {},
     "output_type": "display_data"
    }
   ],
   "source": [
    "plot(x, pdf.(Normal(0.,1.), x), xlabel=\"x\", ylabel=\"p(x)\", label=\"N(0,1)\", color=\"red\", linewidth=5, linestyle=:dash)\n",
    "plot!(x, pdf.(Normal(1.,0.5), x), xlabel=\"x\", ylabel=\"p(x)\", label=\"N(1,0.5)\", color=\"blue\", linestyle=:solid)"
   ]
  },
  {
   "cell_type": "markdown",
   "metadata": {
    "nbgrader": {
     "grade": false,
     "grade_id": "cell-60386ddc6157fdbb",
     "locked": true,
     "schema_version": 3,
     "solution": false,
     "task": false
    }
   },
   "source": [
    "## Macro's\n",
    "\n",
    "- References: [Macros](https://docs.julialang.org/en/v1/manual/metaprogramming/#man-macros)\n",
    "\n",
    "Words that start with the `@` symbol are \"macro\"'s in Julia, for example `@time, @test, @model`. They represent a series of functions called on an input structure and are really handy when you have to use the same set of instructions often. \n",
    "\n",
    "For example, you could define a `ProgressMeter` bar, update it at every iteration of a for-loop and write a custom print statement every time. _Or_, you could call the `@showprogress` macro on the for-loop itself:"
   ]
  },
  {
   "cell_type": "code",
   "execution_count": 35,
   "metadata": {},
   "outputs": [
    {
     "name": "stderr",
     "output_type": "stream",
     "text": [
      "\u001b[32mProgress: 100%|█████████████████████████████████████████| Time: 0:00:02\u001b[39m\u001b[K\n"
     ]
    }
   ],
   "source": [
    "using ProgressMeter\n",
    "\n",
    "@showprogress for n in 1:10\n",
    "    sleep(0.1)\n",
    "end"
   ]
  },
  {
   "cell_type": "markdown",
   "metadata": {
    "nbgrader": {
     "grade": false,
     "grade_id": "cell-76339cb21a5934f5",
     "locked": true,
     "schema_version": 3,
     "solution": false,
     "task": false
    }
   },
   "source": [
    "Macro's are a somewhat advanced form of metaprogramming. You will not need to define any new macro's; this instruction is just here to explain what they are."
   ]
  },
  {
   "cell_type": "markdown",
   "metadata": {},
   "source": [
    "## Errors\n",
    "\n",
    "- References: [Stack traces](https://docs.julialang.org/en/v1/manual/stacktraces/)\n",
    "\n",
    "When you call a function that Julia doesn't know, it will return a list of the steps it took to execute your command and point to where its progress was blocked. This is highly useful but it typically requires a bit of practice to parse (i.e., read and filter) stack traces.\n",
    "\n",
    "Suppose we write a function that expects an `Integer` input and call that function with an `Float64` argument:"
   ]
  },
  {
   "cell_type": "code",
   "execution_count": 36,
   "metadata": {},
   "outputs": [
    {
     "ename": "MethodError",
     "evalue": "MethodError: no method matching add1(::Float64)\n\nClosest candidates are:\n  add1(!Matched::Integer)\n   @ Main ~/syndr/Wouter/Onderwijs/Vakken/tueindhoven/5SSD0 - Bayesian Machine Learning & Information Processing/2024-2025 Q2/BMLIP/lessons/notebooks/jl_notebook_cell_df34fa98e69747e1a8f8a730347b8e2f_Y262sZmlsZQ==.jl:1\n",
     "output_type": "error",
     "traceback": [
      "MethodError: no method matching add1(::Float64)\n",
      "\n",
      "Closest candidates are:\n",
      "  add1(!Matched::Integer)\n",
      "   @ Main ~/syndr/Wouter/Onderwijs/Vakken/tueindhoven/5SSD0 - Bayesian Machine Learning & Information Processing/2024-2025 Q2/BMLIP/lessons/notebooks/jl_notebook_cell_df34fa98e69747e1a8f8a730347b8e2f_Y262sZmlsZQ==.jl:1\n",
      "\n",
      "\n",
      "Stacktrace:\n",
      " [1] top-level scope\n",
      "   @ ~/syndr/Wouter/Onderwijs/Vakken/tueindhoven/5SSD0 - Bayesian Machine Learning & Information Processing/2024-2025 Q2/BMLIP/lessons/notebooks/jl_notebook_cell_df34fa98e69747e1a8f8a730347b8e2f_Y262sZmlsZQ==.jl:5"
     ]
    }
   ],
   "source": [
    "function add1(a::Integer)\n",
    "    return a + 1\n",
    "end\n",
    "\n",
    "add1(3.0)"
   ]
  },
  {
   "cell_type": "markdown",
   "metadata": {},
   "source": [
    "Note that we first of all get a `MethodError`. This points to the fact that Julia could not find the function (i.e, method) that you asked for; `add1(::Float64)` does not exist.\n",
    "\n",
    "Furthermore, Julia provides a list of \"Closest candidates\" which are functions of the same name with different input arguments. It reports:\n",
    "```\n",
    "Closest candidates are:\n",
    "  add1(!Matched::Integer)\n",
    "```\n",
    "\n",
    "You should read this as \"there exists a function called `add1` that expects an `Integer` input.\" Try that."
   ]
  },
  {
   "cell_type": "code",
   "execution_count": 37,
   "metadata": {},
   "outputs": [
    {
     "data": {
      "text/plain": [
       "4"
      ]
     },
     "metadata": {},
     "output_type": "display_data"
    }
   ],
   "source": [
    "add1(3)"
   ]
  },
  {
   "cell_type": "markdown",
   "metadata": {},
   "source": [
    "The `!Matched` is also important but requires a slightly more complicated example. Suppose we have a function with two `Integer` inputs and we call with `Float64` and `Int64` arguments."
   ]
  },
  {
   "cell_type": "code",
   "execution_count": 38,
   "metadata": {},
   "outputs": [
    {
     "ename": "MethodError",
     "evalue": "MethodError: no method matching add(::Float64, ::Int64)\n\nClosest candidates are:\n  add(!Matched::Integer, ::Integer)\n   @ Main ~/syndr/Wouter/Onderwijs/Vakken/tueindhoven/5SSD0 - Bayesian Machine Learning & Information Processing/2024-2025 Q2/BMLIP/lessons/notebooks/jl_notebook_cell_df34fa98e69747e1a8f8a730347b8e2f_Y266sZmlsZQ==.jl:1\n",
     "output_type": "error",
     "traceback": [
      "MethodError: no method matching add(::Float64, ::Int64)\n",
      "\n",
      "Closest candidates are:\n",
      "  add(!Matched::Integer, ::Integer)\n",
      "   @ Main ~/syndr/Wouter/Onderwijs/Vakken/tueindhoven/5SSD0 - Bayesian Machine Learning & Information Processing/2024-2025 Q2/BMLIP/lessons/notebooks/jl_notebook_cell_df34fa98e69747e1a8f8a730347b8e2f_Y266sZmlsZQ==.jl:1\n",
      "\n",
      "\n",
      "Stacktrace:\n",
      " [1] top-level scope\n",
      "   @ ~/syndr/Wouter/Onderwijs/Vakken/tueindhoven/5SSD0 - Bayesian Machine Learning & Information Processing/2024-2025 Q2/BMLIP/lessons/notebooks/jl_notebook_cell_df34fa98e69747e1a8f8a730347b8e2f_Y266sZmlsZQ==.jl:5"
     ]
    }
   ],
   "source": [
    "function add(a::Integer, b::Integer)\n",
    "    return a+b\n",
    "end\n",
    "\n",
    "add(3.0,4)"
   ]
  },
  {
   "cell_type": "markdown",
   "metadata": {},
   "source": [
    "We again get the `MethodError` that the function we asked for doesn't exist and a suggested alternative (i.e., \"closest candidate\"). But note that in that alternative, `add(!Matched::Integer, ::Integer)`, only one of the inputs is `!Matched`. So, in fact, Julia check your input argument types against those in the closest candidates. This tells you _what_ to change: if you change the first argument of your function call to an `Integer` type, then this closest candidate will be evaluated.\n"
   ]
  },
  {
   "cell_type": "code",
   "execution_count": 39,
   "metadata": {},
   "outputs": [
    {
     "data": {
      "text/plain": [
       "7"
      ]
     },
     "metadata": {},
     "output_type": "display_data"
    }
   ],
   "source": [
    "add(3,4)"
   ]
  },
  {
   "cell_type": "markdown",
   "metadata": {},
   "source": [
    "To summarize, when you get an error, it is important to read the stack trace. It may tell you that you need only change a small thing for your code to work."
   ]
  },
  {
   "cell_type": "markdown",
   "metadata": {},
   "source": [
    "The type of error can also be informative. The `MethodError` is probably the error you will see most often. Another important error is the `UndefVarError`, which occurs when you call a variable that was not defined. For example:"
   ]
  },
  {
   "cell_type": "code",
   "execution_count": 40,
   "metadata": {},
   "outputs": [
    {
     "ename": "UndefVarError",
     "evalue": "UndefVarError: `aa` not defined",
     "output_type": "error",
     "traceback": [
      "UndefVarError: `aa` not defined\n",
      "\n",
      "Stacktrace:\n",
      " [1] top-level scope\n",
      "   @ ~/syndr/Wouter/Onderwijs/Vakken/tueindhoven/5SSD0 - Bayesian Machine Learning & Information Processing/2024-2025 Q2/BMLIP/lessons/notebooks/jl_notebook_cell_df34fa98e69747e1a8f8a730347b8e2f_Y145sZmlsZQ==.jl:1"
     ]
    }
   ],
   "source": [
    "y = 3*aa"
   ]
  },
  {
   "cell_type": "markdown",
   "metadata": {},
   "source": [
    "The solution to this, of course, is to define the variable first. Sometimes this error occurs through a spelling mistake. You will encounter objects in the course called `MvNormalMeanCovariance`. If you misremember that name and write `MvNormalMeanVariance`, this will happen:"
   ]
  },
  {
   "cell_type": "code",
   "execution_count": 41,
   "metadata": {},
   "outputs": [
    {
     "ename": "UndefVarError",
     "evalue": "UndefVarError: `MvNormalMeanVariance` not defined",
     "output_type": "error",
     "traceback": [
      "UndefVarError: `MvNormalMeanVariance` not defined\n",
      "\n",
      "Stacktrace:\n",
      " [1] top-level scope\n",
      "   @ ~/syndr/Wouter/Onderwijs/Vakken/tueindhoven/5SSD0 - Bayesian Machine Learning & Information Processing/2024-2025 Q2/BMLIP/lessons/notebooks/jl_notebook_cell_df34fa98e69747e1a8f8a730347b8e2f_Y150sZmlsZQ==.jl:1"
     ]
    }
   ],
   "source": [
    "aa = MvNormalMeanVariance()"
   ]
  },
  {
   "cell_type": "markdown",
   "metadata": {},
   "source": [
    "Next to errors, it is also important to check line numbers in a stack trace. For example, the cell below contains a mistake and evaluating it will throw an error. But which line has the mistake?"
   ]
  },
  {
   "cell_type": "code",
   "execution_count": 42,
   "metadata": {},
   "outputs": [
    {
     "ename": "UndefVarError",
     "evalue": "UndefVarError: `xx` not defined",
     "output_type": "error",
     "traceback": [
      "UndefVarError: `xx` not defined\n",
      "\n",
      "Stacktrace:\n",
      " [1] top-level scope\n",
      "   @ ~/syndr/Wouter/Onderwijs/Vakken/tueindhoven/5SSD0 - Bayesian Machine Learning & Information Processing/2024-2025 Q2/BMLIP/lessons/notebooks/jl_notebook_cell_df34fa98e69747e1a8f8a730347b8e2f_Y152sZmlsZQ==.jl:3"
     ]
    }
   ],
   "source": [
    "yy = 3*2\n",
    "zz = 3*yy\n",
    "xx = yy*xx\n",
    "zz = yy*xx"
   ]
  },
  {
   "cell_type": "markdown",
   "metadata": {},
   "source": [
    "At the end of the line, right after the specific function call there is a `: <linenumber>`, which will tell you where to look."
   ]
  },
  {
   "cell_type": "markdown",
   "metadata": {},
   "source": [
    "## Closing\n",
    "\n",
    "That's it for now. If you encounter mysterious errors, please let us know on [Piazza](https://piazza.com/tue.nl/winter2025/5ssd0). We can add them to this primer."
   ]
  }
 ],
 "metadata": {
  "celltoolbar": "Raw Cell Format",
  "kernelspec": {
   "display_name": "Julia 1.10.6",
   "language": "julia",
   "name": "julia-1.10"
  },
  "language_info": {
   "file_extension": ".jl",
   "mimetype": "application/julia",
   "name": "julia",
   "version": "1.10.6"
  }
 },
 "nbformat": 4,
 "nbformat_minor": 4
}
