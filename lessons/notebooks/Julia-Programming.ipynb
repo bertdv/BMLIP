{
 "cells": [
  {
   "cell_type": "markdown",
   "metadata": {
    "nbgrader": {
     "grade": false,
     "grade_id": "cell-e39dce2363a3b28b",
     "locked": true,
     "schema_version": 3,
     "solution": false,
     "task": false
    }
   },
   "source": [
    "# Programming in Julia\n",
    "\n",
    "This notebook will teach you some of the basic programming routines in Julia. You will need these skills to complete the probabilistic programming assignments later on in the course. We will assume basic familiarity with programming, such as for-loops, if-else statements and function definitions.\n",
    "\n",
    "Resources:\n",
    "- [Julia documentation](https://docs.julialang.org/en/v1/)\n",
    "- [Differences to Python, Matlab, C and Java](https://docs.julialang.org/en/v1/manual/noteworthy-differences/)\n",
    "- [Video on getting started](https://www.youtube.com/watch?v=4igzy3bGVkQ&list=PLP8iPy9hna6SCcFv3FvY_qjAmtTsNYHQE)"
   ]
  },
  {
   "cell_type": "markdown",
   "metadata": {
    "nbgrader": {
     "grade": false,
     "grade_id": "cell-3c2e8eba10e12225",
     "locked": true,
     "schema_version": 3,
     "solution": false,
     "task": false
    }
   },
   "source": [
    "## Data types\n",
    "\n",
    "- References: [Numbers](https://docs.julialang.org/en/v1/base/numbers/), [Integers and Float](https://docs.julialang.org/en/v1/manual/integers-and-floating-point-numbers/), [Strings](https://docs.julialang.org/en/v1/base/strings/), [Symbols](https://docs.julialang.org/en/v1/manual/metaprogramming/).\n",
    "\n",
    "Numbers in Julia have specific types, most notably `Integer`, `Real` and `Complex`. It is important to be aware of what type your numbers are because many functions operate differently on different number types. "
   ]
  },
  {
   "cell_type": "code",
   "execution_count": 1,
   "metadata": {},
   "outputs": [
    {
     "data": {
      "text/plain": [
       "Int64"
      ]
     },
     "metadata": {},
     "output_type": "display_data"
    }
   ],
   "source": [
    "a = 3\n",
    "typeof(a)"
   ]
  },
  {
   "cell_type": "markdown",
   "metadata": {
    "nbgrader": {
     "grade": false,
     "grade_id": "cell-2778002073c87b29",
     "locked": true,
     "schema_version": 3,
     "solution": false,
     "task": false
    }
   },
   "source": [
    "`Int64` is a 64-byte integer. Other options are 32-,16-, or 8-bit integers and they can be unsigned as well. The default real-valued numbers is a 64-bit floating-point number:"
   ]
  },
  {
   "cell_type": "code",
   "execution_count": 2,
   "metadata": {},
   "outputs": [
    {
     "data": {
      "text/plain": [
       "Float64"
      ]
     },
     "metadata": {},
     "output_type": "display_data"
    }
   ],
   "source": [
    "a = 3.0\n",
    "typeof(a)"
   ]
  },
  {
   "cell_type": "markdown",
   "metadata": {
    "nbgrader": {
     "grade": false,
     "grade_id": "cell-b4f29642d811571a",
     "locked": true,
     "schema_version": 3,
     "solution": false,
     "task": false
    }
   },
   "source": [
    "Converting number types is easy:"
   ]
  },
  {
   "cell_type": "code",
   "execution_count": 3,
   "metadata": {},
   "outputs": [
    {
     "data": {
      "text/plain": [
       "Float64"
      ]
     },
     "metadata": {},
     "output_type": "display_data"
    }
   ],
   "source": [
    "a = convert(Float64, 2)\n",
    "typeof(a)"
   ]
  },
  {
   "cell_type": "markdown",
   "metadata": {
    "nbgrader": {
     "grade": false,
     "grade_id": "cell-ed3bc3a833acccd0",
     "locked": true,
     "schema_version": 3,
     "solution": false,
     "task": false
    }
   },
   "source": [
    "Strings are constructed by enclosing symbols within double parentheses."
   ]
  },
  {
   "cell_type": "code",
   "execution_count": 4,
   "metadata": {},
   "outputs": [
    {
     "data": {
      "text/plain": [
       "String"
      ]
     },
     "metadata": {},
     "output_type": "display_data"
    }
   ],
   "source": [
    "a = \"3\"\n",
    "typeof(a)"
   ]
  },
  {
   "cell_type": "markdown",
   "metadata": {
    "nbgrader": {
     "grade": false,
     "grade_id": "cell-c1be2e1ea2b90c34",
     "locked": true,
     "schema_version": 3,
     "solution": false,
     "task": false
    }
   },
   "source": [
    "They can be concatenated by multiplication (which is an example of a function, namely `*`, which acts differently on different input argument types): "
   ]
  },
  {
   "cell_type": "code",
   "execution_count": 5,
   "metadata": {},
   "outputs": [
    {
     "data": {
      "text/plain": [
       "\"ab\""
      ]
     },
     "metadata": {},
     "output_type": "display_data"
    }
   ],
   "source": [
    "ab = \"a\"*\"b\""
   ]
  },
  {
   "cell_type": "markdown",
   "metadata": {
    "nbgrader": {
     "grade": false,
     "grade_id": "cell-76b62f36bf62f546",
     "locked": true,
     "schema_version": 3,
     "solution": false,
     "task": false
    }
   },
   "source": [
    "You can incorporate numbers into strings through a `$` call:"
   ]
  },
  {
   "cell_type": "code",
   "execution_count": 6,
   "metadata": {},
   "outputs": [
    {
     "data": {
      "text/plain": [
       "\"a = 3\""
      ]
     },
     "metadata": {},
     "output_type": "display_data"
    }
   ],
   "source": [
    "\"a = $a\""
   ]
  },
  {
   "cell_type": "markdown",
   "metadata": {},
   "source": [
    "Julia also has a `Symbol` type, which is used for [meta-programming](https://docs.julialang.org/en/v1/manual/metaprogramming/) (not important for this course). A `Symbol` type is characterized by a `:` in front of a word. For example:"
   ]
  },
  {
   "cell_type": "code",
   "execution_count": 7,
   "metadata": {},
   "outputs": [
    {
     "data": {
      "text/plain": [
       "Symbol"
      ]
     },
     "metadata": {},
     "output_type": "display_data"
    }
   ],
   "source": [
    "s = :foo\n",
    "typeof(s)"
   ]
  },
  {
   "cell_type": "markdown",
   "metadata": {},
   "source": [
    "You will not have to use `Symbol`s in the course, but you may see one every once in a while in the lecture notes. For example, the `plot` command (see Visualization section), may have a `markershape=:cross` argument."
   ]
  },
  {
   "cell_type": "markdown",
   "metadata": {
    "nbgrader": {
     "grade": false,
     "grade_id": "cell-597f95a479025e8a",
     "locked": true,
     "schema_version": 3,
     "solution": false,
     "task": false
    }
   },
   "source": [
    "## Array manipulation\n",
    "\n",
    "- References: [Arrays](https://docs.julialang.org/en/v1/base/arrays/)\n",
    "\n",
    "Arrays are indexed with square brackets, `A[i,j]`. You can construct a matrix by enclosing a set of numbers with square brackets. If you separate your numbers with comma's, then you will get a column vector:"
   ]
  },
  {
   "cell_type": "code",
   "execution_count": 8,
   "metadata": {},
   "outputs": [
    {
     "data": {
      "text/plain": [
       "4-element Vector{Int64}:\n",
       " 1\n",
       " 2\n",
       " 3\n",
       " 4"
      ]
     },
     "metadata": {},
     "output_type": "display_data"
    }
   ],
   "source": [
    "x = [1,2,3,4]"
   ]
  },
  {
   "cell_type": "markdown",
   "metadata": {
    "nbgrader": {
     "grade": false,
     "grade_id": "cell-55802261c54cb78c",
     "locked": true,
     "schema_version": 3,
     "solution": false,
     "task": false
    }
   },
   "source": [
    "If you use spaces, then you will construct a row vector (i.e., a matrix of dimensions 1 by n):"
   ]
  },
  {
   "cell_type": "code",
   "execution_count": 9,
   "metadata": {},
   "outputs": [
    {
     "data": {
      "text/plain": [
       "1×4 Matrix{Int64}:\n",
       " 1  2  3  4"
      ]
     },
     "metadata": {},
     "output_type": "display_data"
    }
   ],
   "source": [
    "x = [1 2 3 4]"
   ]
  },
  {
   "cell_type": "markdown",
   "metadata": {
    "nbgrader": {
     "grade": false,
     "grade_id": "cell-0797fa9c8ec1c27d",
     "locked": true,
     "schema_version": 3,
     "solution": false,
     "task": false
    }
   },
   "source": [
    "Matrices can be constructed by separating elements with spaces and rows by semicolons:"
   ]
  },
  {
   "cell_type": "code",
   "execution_count": 10,
   "metadata": {},
   "outputs": [
    {
     "data": {
      "text/plain": [
       "2×2 Matrix{Int64}:\n",
       " 1  2\n",
       " 3  4"
      ]
     },
     "metadata": {},
     "output_type": "display_data"
    }
   ],
   "source": [
    "X = [1 2; 3 4]"
   ]
  },
  {
   "cell_type": "markdown",
   "metadata": {
    "nbgrader": {
     "grade": false,
     "grade_id": "cell-752e17ff7e221dc6",
     "locked": true,
     "schema_version": 3,
     "solution": false,
     "task": false
    }
   },
   "source": [
    "Common array constructors are:"
   ]
  },
  {
   "cell_type": "code",
   "execution_count": 11,
   "metadata": {},
   "outputs": [
    {
     "data": {
      "text/plain": [
       "2×3 Matrix{Float64}:\n",
       "  1.89942   1.58604    0.790389\n",
       " -0.243699  0.464712  -0.0802384"
      ]
     },
     "metadata": {},
     "output_type": "display_data"
    }
   ],
   "source": [
    "X = zeros(2,3)\n",
    "Y = ones(2,3)\n",
    "Z = randn(2,3)"
   ]
  },
  {
   "cell_type": "markdown",
   "metadata": {
    "nbgrader": {
     "grade": false,
     "grade_id": "cell-2842d71d3b6fef26",
     "locked": true,
     "schema_version": 3,
     "solution": false,
     "task": false
    }
   },
   "source": [
    "Matrix operations are intuitive and similar to the mathematical notation:"
   ]
  },
  {
   "cell_type": "code",
   "execution_count": 12,
   "metadata": {},
   "outputs": [
    {
     "data": {
      "text/plain": [
       "3-element Vector{Int64}:\n",
       " 4\n",
       " 7\n",
       " 8"
      ]
     },
     "metadata": {},
     "output_type": "display_data"
    }
   ],
   "source": [
    "A = [3 2 1; 2 3 2; 1 2 3]\n",
    "x = [0, 1, 2]\n",
    "b = A*x"
   ]
  },
  {
   "cell_type": "markdown",
   "metadata": {
    "nbgrader": {
     "grade": false,
     "grade_id": "cell-5ef3ae2aa92ab37c",
     "locked": true,
     "schema_version": 3,
     "solution": false,
     "task": false
    }
   },
   "source": [
    "A matrix can be transposed by a single parenthesis, `A'`. Note that this does not mutate the array in memory. It just tells functions defined for matrices that it should change how it indexes the matrix's elements."
   ]
  },
  {
   "cell_type": "code",
   "execution_count": 13,
   "metadata": {},
   "outputs": [
    {
     "data": {
      "text/plain": [
       "23"
      ]
     },
     "metadata": {},
     "output_type": "display_data"
    }
   ],
   "source": [
    "c = x'*A*x"
   ]
  },
  {
   "cell_type": "markdown",
   "metadata": {
    "nbgrader": {
     "grade": false,
     "grade_id": "cell-07efb0f4ef442665",
     "locked": true,
     "schema_version": 3,
     "solution": false,
     "task": false
    }
   },
   "source": [
    "## Broadcasting\n",
    "\n",
    "- Reference: [Broadcasting](https://docs.julialang.org/en/v1/manual/arrays/#Broadcasting)\n",
    "\n",
    "You can apply functions to elements in an array by placing a dot in front:"
   ]
  },
  {
   "cell_type": "code",
   "execution_count": 14,
   "metadata": {},
   "outputs": [
    {
     "data": {
      "text/plain": [
       "1×3 Matrix{Int64}:\n",
       " 3  6  9"
      ]
     },
     "metadata": {},
     "output_type": "display_data"
    }
   ],
   "source": [
    " 3 .*[1 2 3]"
   ]
  },
  {
   "cell_type": "markdown",
   "metadata": {
    "nbgrader": {
     "grade": false,
     "grade_id": "cell-31680dda8e3c1644",
     "locked": true,
     "schema_version": 3,
     "solution": false,
     "task": false
    }
   },
   "source": [
    "This also works for named functions:"
   ]
  },
  {
   "cell_type": "code",
   "execution_count": 15,
   "metadata": {},
   "outputs": [
    {
     "data": {
      "text/plain": [
       "3-element Vector{Float64}:\n",
       " 0.8414709848078965\n",
       " 0.9092974268256817\n",
       " 0.1411200080598672"
      ]
     },
     "metadata": {},
     "output_type": "display_data"
    }
   ],
   "source": [
    "sin.([1., 2., 3.])"
   ]
  },
  {
   "cell_type": "markdown",
   "metadata": {
    "nbgrader": {
     "grade": false,
     "grade_id": "cell-86a74a70e6d21c8d",
     "locked": true,
     "schema_version": 3,
     "solution": false,
     "task": false
    }
   },
   "source": [
    "## Iteration\n",
    "\n",
    "- Reference: [Collections](https://docs.julialang.org/en/v1/base/collections/)\n",
    "\n",
    "For-loops are one of the simplest forms of iteration and can be defined in a number of ways. First, the matlab way:"
   ]
  },
  {
   "cell_type": "code",
   "execution_count": 16,
   "metadata": {},
   "outputs": [
    {
     "name": "stdout",
     "output_type": "stream",
     "text": [
      "1\n",
      "3\n",
      "5\n"
     ]
    }
   ],
   "source": [
    "for n = 1:2:5\n",
    "    println(n)\n",
    "end"
   ]
  },
  {
   "cell_type": "markdown",
   "metadata": {
    "nbgrader": {
     "grade": false,
     "grade_id": "cell-f584f54f4771da9f",
     "locked": true,
     "schema_version": 3,
     "solution": false,
     "task": false
    }
   },
   "source": [
    "Next, we can use the `range` command to construct an array of numbers and then use the `in` command to loop over elements in the array:"
   ]
  },
  {
   "cell_type": "code",
   "execution_count": 17,
   "metadata": {},
   "outputs": [
    {
     "name": "stdout",
     "output_type": "stream",
     "text": [
      "0.0\n",
      "4.0\n"
     ]
    }
   ],
   "source": [
    "num_range = range(0, stop=4, length=2)\n",
    "for n in num_range\n",
    "    println(n)\n",
    "end"
   ]
  },
  {
   "cell_type": "markdown",
   "metadata": {
    "nbgrader": {
     "grade": false,
     "grade_id": "cell-3dcbd8a0da6ff030",
     "locked": true,
     "schema_version": 3,
     "solution": false,
     "task": false
    }
   },
   "source": [
    "If you need both the index and the value of the array element, you can use the `enumerate` command:"
   ]
  },
  {
   "cell_type": "code",
   "execution_count": 18,
   "metadata": {},
   "outputs": [
    {
     "name": "stdout",
     "output_type": "stream",
     "text": [
      "1, 0.0\n",
      "2, 4.0\n"
     ]
    }
   ],
   "source": [
    "for (j,n) in enumerate(num_range)\n",
    "    println(\"$j, $n\")\n",
    "end"
   ]
  },
  {
   "cell_type": "markdown",
   "metadata": {
    "nbgrader": {
     "grade": false,
     "grade_id": "cell-009da1637a8bd0de",
     "locked": true,
     "schema_version": 3,
     "solution": false,
     "task": false
    }
   },
   "source": [
    "You may be familiar with \"list comprehension\", which is a shortened form of iterating through a collection:"
   ]
  },
  {
   "cell_type": "code",
   "execution_count": 19,
   "metadata": {},
   "outputs": [
    {
     "data": {
      "text/plain": [
       "2-element Vector{String}:\n",
       " \"n = 0.0\"\n",
       " \"n = 4.0\""
      ]
     },
     "metadata": {},
     "output_type": "display_data"
    }
   ],
   "source": [
    "[\"n = $n\" for n in num_range]"
   ]
  },
  {
   "cell_type": "markdown",
   "metadata": {
    "nbgrader": {
     "grade": false,
     "grade_id": "cell-46cbf7bfca3c6d76",
     "locked": true,
     "schema_version": 3,
     "solution": false,
     "task": false
    }
   },
   "source": [
    "## Control flow\n",
    "\n",
    "- References: [Control flow](https://docs.julialang.org/en/v1/manual/control-flow/), [Logical Operators](https://docs.julialang.org/en/v1/manual/missing/#Logical-operators)\n",
    "\n",
    "Control flow refers to redirecting how a compiler goes through a program. Instead of traversing it line-by-line, things like `if-else` statements can make a compiler skip steps. These require logical operations: you can use `==` to check if two variables have the same value, `===` to check if they are actually the same object (i.e., same memory reference) and `!=` to check if they're not equal."
   ]
  },
  {
   "cell_type": "code",
   "execution_count": 20,
   "metadata": {},
   "outputs": [
    {
     "name": "stdout",
     "output_type": "stream",
     "text": [
      "Positive\n"
     ]
    }
   ],
   "source": [
    "a = 3.0\n",
    "if a < 0 \n",
    "    println(\"Negative\")\n",
    "elseif a == 0\n",
    "    println(\"0.0\")\n",
    "else \n",
    "    println(\"Positive\")\n",
    "end"
   ]
  },
  {
   "cell_type": "markdown",
   "metadata": {
    "nbgrader": {
     "grade": false,
     "grade_id": "cell-44cf3744dc8b7ea8",
     "locked": true,
     "schema_version": 3,
     "solution": false,
     "task": false
    }
   },
   "source": [
    "Simple `if-else` statements can often be replaced by `ternary` checks. Essentially, you ask a question (a logical operation followed by `?`) and then tell the program what to do when the answer is yes (written immediately after the question) or no (written after the yes-answer followed by a `:`)."
   ]
  },
  {
   "cell_type": "code",
   "execution_count": 21,
   "metadata": {},
   "outputs": [
    {
     "name": "stdout",
     "output_type": "stream",
     "text": [
      "Positive\n"
     ]
    }
   ],
   "source": [
    "a > 0 ? println(\"Positive\") : println(\"Not positive\")"
   ]
  },
  {
   "cell_type": "markdown",
   "metadata": {
    "nbgrader": {
     "grade": false,
     "grade_id": "cell-2bd8fafa975e39df",
     "locked": true,
     "schema_version": 3,
     "solution": false,
     "task": false
    }
   },
   "source": [
    "## Functions\n",
    "\n",
    "- References: [Functions](https://docs.julialang.org/en/v1/manual/functions/), [Mutation](https://docs.julialang.org/en/v1/manual/style-guide/#bang-convention)\n",
    "\n",
    "Function and expressions are a core component of the julia language. Its \"multiple dispatch\" feature means that you can define multiple functions with the same name but with behaviour that depends on the input argument types. When you're starting out, you may not notice this so much, but you will start to appreciate this feature tremendously when you begin to professionally develop software."
   ]
  },
  {
   "cell_type": "code",
   "execution_count": 22,
   "metadata": {},
   "outputs": [
    {
     "data": {
      "text/plain": [
       "\"Bah!\""
      ]
     },
     "metadata": {},
     "output_type": "display_data"
    }
   ],
   "source": [
    "function foo(bar::Float64)\n",
    "    message = \"Boo!\"\n",
    "    return message\n",
    "end\n",
    "\n",
    "function foo(bar::Integer)\n",
    "    message = \"Bah!\"\n",
    "    return message\n",
    "end\n",
    "\n",
    "foo(1)"
   ]
  },
  {
   "cell_type": "markdown",
   "metadata": {
    "nbgrader": {
     "grade": false,
     "grade_id": "cell-89334d50f79b3b6e",
     "locked": true,
     "schema_version": 3,
     "solution": false,
     "task": false
    }
   },
   "source": [
    "Note that the `return` argument does not need to be at the end of a function ([the return keyword](https://docs.julialang.org/en/v1/manual/functions/#The-return-Keyword)).\n",
    "\n",
    "You don't actually need the `function` keyword if you have simple enough functions:"
   ]
  },
  {
   "cell_type": "code",
   "execution_count": 23,
   "metadata": {},
   "outputs": [
    {
     "data": {
      "text/plain": [
       "0.25"
      ]
     },
     "metadata": {},
     "output_type": "display_data"
    }
   ],
   "source": [
    "fn(x::Number) = 1/x\n",
    "fn(4)"
   ]
  },
  {
   "cell_type": "markdown",
   "metadata": {
    "nbgrader": {
     "grade": false,
     "grade_id": "cell-52be8f7c7644d2ae",
     "locked": true,
     "schema_version": 3,
     "solution": false,
     "task": false
    }
   },
   "source": [
    "You can add keyword arguments to a function, which are input arguments with default values:"
   ]
  },
  {
   "cell_type": "code",
   "execution_count": 24,
   "metadata": {},
   "outputs": [
    {
     "data": {
      "text/plain": [
       "1×2 Matrix{Float64}:\n",
       " 1.0  0.333333"
      ]
     },
     "metadata": {},
     "output_type": "display_data"
    }
   ],
   "source": [
    "fn(; number::Number = 1) = 1/number\n",
    "[fn() fn(number=3)]"
   ]
  },
  {
   "cell_type": "markdown",
   "metadata": {
    "nbgrader": {
     "grade": false,
     "grade_id": "cell-fdc3777677dd70d6",
     "locked": true,
     "schema_version": 3,
     "solution": false,
     "task": false
    }
   },
   "source": [
    "Functions that modify their input arguments instead of creating new output variables are typically marked with an `!`. Below I have defined an unsorted vector and I call `sort` to sort it in increasing order. If I call the sort function and the original vector, then they will be different:"
   ]
  },
  {
   "cell_type": "code",
   "execution_count": 25,
   "metadata": {},
   "outputs": [
    {
     "data": {
      "text/plain": [
       "3×2 Matrix{Int64}:\n",
       " 1  1\n",
       " 2  3\n",
       " 3  2"
      ]
     },
     "metadata": {},
     "output_type": "display_data"
    }
   ],
   "source": [
    "x = [1, 3, 2]\n",
    "[sort(x) x]"
   ]
  },
  {
   "cell_type": "markdown",
   "metadata": {
    "nbgrader": {
     "grade": false,
     "grade_id": "cell-4d68be5af3628fca",
     "locked": true,
     "schema_version": 3,
     "solution": false,
     "task": false
    }
   },
   "source": [
    "But if I call the `sort!` function and the original vector, you'll see that the original vector is now also sorted."
   ]
  },
  {
   "cell_type": "code",
   "execution_count": 26,
   "metadata": {},
   "outputs": [
    {
     "data": {
      "text/plain": [
       "3×2 Matrix{Int64}:\n",
       " 1  1\n",
       " 2  2\n",
       " 3  3"
      ]
     },
     "metadata": {},
     "output_type": "display_data"
    }
   ],
   "source": [
    "[sort!(x) x]"
   ]
  },
  {
   "cell_type": "markdown",
   "metadata": {
    "nbgrader": {
     "grade": false,
     "grade_id": "cell-e1a8e25a1191dbc5",
     "locked": true,
     "schema_version": 3,
     "solution": false,
     "task": false
    }
   },
   "source": [
    "## Software packages\n",
    "\n",
    "- Reference: [Packages and modules](https://docs.julialang.org/en/v1/manual/faq/#Packages-and-Modules)\n",
    "\n",
    "Just like with Python, there are thousands of additional software packages that can be imported to provide specific functionalities. You'll encounter some of the most common ones throughout the course. \n",
    "\n",
    "We have provided an \"environment\" that automatically downloads all the packages you need throughout the course. The three lines of code below point to the environment specification itself, a Project.toml file containing a list of packages, and construct the environment. If the specified packages are not installed, then these will be automatically added. This will take a bit of time the first time you run it, but it will only take a few seconds afterwards."
   ]
  },
  {
   "cell_type": "code",
   "execution_count": 27,
   "metadata": {
    "nbgrader": {
     "grade": false,
     "grade_id": "cell-108da214ac7e1c99",
     "locked": true,
     "schema_version": 3,
     "solution": false,
     "task": false
    }
   },
   "outputs": [
    {
     "name": "stderr",
     "output_type": "stream",
     "text": [
      "\u001b[32m\u001b[1m  Activating\u001b[22m\u001b[39m new project at `~/syndr/Wouter/Onderwijs/Vakken/tueindhoven/5SSD0 - Bayesian Machine Learning & Information Processing/2024-2025 Q2/BMLIP/lessons/notebooks`\n",
      "\u001b[32m\u001b[1m  No Changes\u001b[22m\u001b[39m to `~/syndr/Wouter/Onderwijs/Vakken/tueindhoven/5SSD0 - Bayesian Machine Learning & Information Processing/2024-2025 Q2/BMLIP/lessons/notebooks/Project.toml`\n",
      "\u001b[32m\u001b[1m  No Changes\u001b[22m\u001b[39m to `~/syndr/Wouter/Onderwijs/Vakken/tueindhoven/5SSD0 - Bayesian Machine Learning & Information Processing/2024-2025 Q2/BMLIP/lessons/notebooks/Manifest.toml`\n"
     ]
    }
   ],
   "source": [
    "using Pkg\n",
    "Pkg.activate(\".\")\n",
    "Pkg.instantiate();"
   ]
  },
  {
   "cell_type": "markdown",
   "metadata": {
    "nbgrader": {
     "grade": false,
     "grade_id": "cell-7697dde5851e63b9",
     "locked": true,
     "schema_version": 3,
     "solution": false,
     "task": false
    }
   },
   "source": [
    "Below are some examples of importing packages and using their added functionalities."
   ]
  },
  {
   "cell_type": "code",
   "execution_count": 28,
   "metadata": {},
   "outputs": [
    {
     "data": {
      "text/plain": [
       "Eigen{Float64, Float64, Matrix{Float64}, Vector{Float64}}\n",
       "values:\n",
       "2-element Vector{Float64}:\n",
       " -0.6853720883753125\n",
       "  4.085372088375313\n",
       "vectors:\n",
       "2×2 Matrix{Float64}:\n",
       "  0.476976  -0.878916\n",
       " -0.878916  -0.476976"
      ]
     },
     "metadata": {},
     "output_type": "display_data"
    }
   ],
   "source": [
    "using LinearAlgebra\n",
    "\n",
    "E,V = eigen([3. 2.;2. 0.4])"
   ]
  },
  {
   "cell_type": "code",
   "execution_count": 29,
   "metadata": {},
   "outputs": [
    {
     "data": {
      "text/html": [
       "<div><div style = \"float: left;\"><span>1×3 DataFrame</span></div><div style = \"clear: both;\"></div></div><div class = \"data-frame\" style = \"overflow-x: scroll;\"><table class = \"data-frame\" style = \"margin-bottom: 6px;\"><thead><tr class = \"header\"><th class = \"rowNumber\" style = \"font-weight: bold; text-align: right;\">Row</th><th style = \"text-align: left;\">a</th><th style = \"text-align: left;\">b</th><th style = \"text-align: left;\">c</th></tr><tr class = \"subheader headerLastRow\"><th class = \"rowNumber\" style = \"font-weight: bold; text-align: right;\"></th><th title = \"Int64\" style = \"text-align: left;\">Int64</th><th title = \"Int64\" style = \"text-align: left;\">Int64</th><th title = \"Int64\" style = \"text-align: left;\">Int64</th></tr></thead><tbody><tr><td class = \"rowNumber\" style = \"font-weight: bold; text-align: right;\">1</td><td style = \"text-align: right;\">1</td><td style = \"text-align: right;\">2</td><td style = \"text-align: right;\">3</td></tr></tbody></table></div>"
      ],
      "text/latex": [
       "\\begin{tabular}{r|ccc}\n",
       "\t& a & b & c\\\\\n",
       "\t\\hline\n",
       "\t& Int64 & Int64 & Int64\\\\\n",
       "\t\\hline\n",
       "\t1 & 1 & 2 & 3 \\\\\n",
       "\\end{tabular}\n"
      ],
      "text/plain": [
       "\u001b[1m1×3 DataFrame\u001b[0m\n",
       "\u001b[1m Row \u001b[0m│\u001b[1m a     \u001b[0m\u001b[1m b     \u001b[0m\u001b[1m c     \u001b[0m\n",
       "     │\u001b[90m Int64 \u001b[0m\u001b[90m Int64 \u001b[0m\u001b[90m Int64 \u001b[0m\n",
       "─────┼─────────────────────\n",
       "   1 │     1      2      3"
      ]
     },
     "metadata": {},
     "output_type": "display_data"
    }
   ],
   "source": [
    "using DataFrames\n",
    "\n",
    "x = Dict(\n",
    "    \"a\" => 1,\n",
    "    \"b\" => 2,\n",
    "    \"c\" => 3\n",
    ")\n",
    "\n",
    "df = DataFrame(x)"
   ]
  },
  {
   "cell_type": "code",
   "execution_count": 30,
   "metadata": {},
   "outputs": [
    {
     "data": {
      "text/plain": [
       "0.10798193302637613"
      ]
     },
     "metadata": {},
     "output_type": "display_data"
    }
   ],
   "source": [
    "using Distributions\n",
    "\n",
    "px = Normal(1.0, 0.5)\n",
    "pdf(px, 0.0)"
   ]
  },
  {
   "cell_type": "markdown",
   "metadata": {
    "nbgrader": {
     "grade": false,
     "grade_id": "cell-25086ec01e8644ce",
     "locked": true,
     "schema_version": 3,
     "solution": false,
     "task": false
    }
   },
   "source": [
    "## Visualization\n",
    "\n",
    "- Reference: [Plots.jl](https://github.com/JuliaPlots/Plots.jl)\n",
    "\n",
    "Plots.jl provides a common interface to call various other visualization backends (GR, Matplotlib, PGFPlotsX, Plotly, etc.). In other words, commands like `plot(..)` will be translated into the appropriate command for the backend. So, it does not re-invent the wheel but rather gives you access to the already enormous field of visualization tools.\n",
    "\n",
    "Below are a few examples of the most common visualization commands you'll see throughout the course. The core principle is to use a `plot` type as base command and then provide keyword arguments (in `String`, `Number` or `Symbol` type) to apply variations."
   ]
  },
  {
   "cell_type": "code",
   "execution_count": 31,
   "metadata": {},
   "outputs": [
    {
     "data": {
      "image/png": "[encoded data removed]",
      "image/svg+xml": [
       "<?xml version=\"1.0\" encoding=\"utf-8\"?>\n",
       "<svg xmlns=\"http://www.w3.org/2000/svg\" xmlns:xlink=\"http://www.w3.org/1999/xlink\" width=\"600\" height=\"400\" viewBox=\"0 0 2400 1600\">\n",
       "<defs>\n",
       "  <clipPath id=\"clip420\">\n",
       "    <rect x=\"0\" y=\"0\" width=\"2400\" height=\"1600\"/>\n",
       "  </clipPath>\n",
       "</defs>\n",
       "<path clip-path=\"url(#clip420)\" d=\"M0 1600 L2400 1600 L2400 0 L0 0  Z\" fill=\"#ffffff\" fill-rule=\"evenodd\" fill-opacity=\"1\"/>\n",
       "<defs>\n",
       "  <clipPath id=\"clip421\">\n",
       "    <rect x=\"480\" y=\"0\" width=\"1681\" height=\"1600\"/>\n",
       "  </clipPath>\n",
       "</defs>\n",
       "<path clip-path=\"url(#clip420)\" d=\"M219.866 1423.18 L2352.76 1423.18 L2352.76 47.2441 L219.866 47.2441  Z\" fill=\"#ffffff\" fill-rule=\"evenodd\" fill-opacity=\"1\"/>\n",
       "<defs>\n",
       "  <clipPath id=\"clip422\">\n",
       "    <rect x=\"219\" y=\"47\" width=\"2134\" height=\"1377\"/>\n",
       "  </clipPath>\n",
       "</defs>\n",
       "<polyline clip-path=\"url(#clip422)\" style=\"stroke:#000000; stroke-linecap:round; stroke-linejoin:round; stroke-width:2; stroke-opacity:0.1; fill:none\" points=\"280.231,1423.18 280.231,47.2441 \"/>\n",
       "<polyline clip-path=\"url(#clip422)\" style=\"stroke:#000000; stroke-linecap:round; stroke-linejoin:round; stroke-width:2; stroke-opacity:0.1; fill:none\" points=\"615.591,1423.18 615.591,47.2441 \"/>\n",
       "<polyline clip-path=\"url(#clip422)\" style=\"stroke:#000000; stroke-linecap:round; stroke-linejoin:round; stroke-width:2; stroke-opacity:0.1; fill:none\" points=\"950.951,1423.18 950.951,47.2441 \"/>\n",
       "<polyline clip-path=\"url(#clip422)\" style=\"stroke:#000000; stroke-linecap:round; stroke-linejoin:round; stroke-width:2; stroke-opacity:0.1; fill:none\" points=\"1286.31,1423.18 1286.31,47.2441 \"/>\n",
       "<polyline clip-path=\"url(#clip422)\" style=\"stroke:#000000; stroke-linecap:round; stroke-linejoin:round; stroke-width:2; stroke-opacity:0.1; fill:none\" points=\"1621.67,1423.18 1621.67,47.2441 \"/>\n",
       "<polyline clip-path=\"url(#clip422)\" style=\"stroke:#000000; stroke-linecap:round; stroke-linejoin:round; stroke-width:2; stroke-opacity:0.1; fill:none\" points=\"1957.03,1423.18 1957.03,47.2441 \"/>\n",
       "<polyline clip-path=\"url(#clip422)\" style=\"stroke:#000000; stroke-linecap:round; stroke-linejoin:round; stroke-width:2; stroke-opacity:0.1; fill:none\" points=\"2292.39,1423.18 2292.39,47.2441 \"/>\n",
       "<polyline clip-path=\"url(#clip422)\" style=\"stroke:#000000; stroke-linecap:round; stroke-linejoin:round; stroke-width:2; stroke-opacity:0.1; fill:none\" points=\"219.866,1384.24 2352.76,1384.24 \"/>\n",
       "<polyline clip-path=\"url(#clip422)\" style=\"stroke:#000000; stroke-linecap:round; stroke-linejoin:round; stroke-width:2; stroke-opacity:0.1; fill:none\" points=\"219.866,1058.86 2352.76,1058.86 \"/>\n",
       "<polyline clip-path=\"url(#clip422)\" style=\"stroke:#000000; stroke-linecap:round; stroke-linejoin:round; stroke-width:2; stroke-opacity:0.1; fill:none\" points=\"219.866,733.491 2352.76,733.491 \"/>\n",
       "<polyline clip-path=\"url(#clip422)\" style=\"stroke:#000000; stroke-linecap:round; stroke-linejoin:round; stroke-width:2; stroke-opacity:0.1; fill:none\" points=\"219.866,408.118 2352.76,408.118 \"/>\n",
       "<polyline clip-path=\"url(#clip422)\" style=\"stroke:#000000; stroke-linecap:round; stroke-linejoin:round; stroke-width:2; stroke-opacity:0.1; fill:none\" points=\"219.866,82.7441 2352.76,82.7441 \"/>\n",
       "<polyline clip-path=\"url(#clip420)\" style=\"stroke:#000000; stroke-linecap:round; stroke-linejoin:round; stroke-width:4; stroke-opacity:1; fill:none\" points=\"219.866,1423.18 2352.76,1423.18 \"/>\n",
       "<polyline clip-path=\"url(#clip420)\" style=\"stroke:#000000; stroke-linecap:round; stroke-linejoin:round; stroke-width:4; stroke-opacity:1; fill:none\" points=\"280.231,1423.18 280.231,1404.28 \"/>\n",
       "<polyline clip-path=\"url(#clip420)\" style=\"stroke:#000000; stroke-linecap:round; stroke-linejoin:round; stroke-width:4; stroke-opacity:1; fill:none\" points=\"615.591,1423.18 615.591,1404.28 \"/>\n",
       "<polyline clip-path=\"url(#clip420)\" style=\"stroke:#000000; stroke-linecap:round; stroke-linejoin:round; stroke-width:4; stroke-opacity:1; fill:none\" points=\"950.951,1423.18 950.951,1404.28 \"/>\n",
       "<polyline clip-path=\"url(#clip420)\" style=\"stroke:#000000; stroke-linecap:round; stroke-linejoin:round; stroke-width:4; stroke-opacity:1; fill:none\" points=\"1286.31,1423.18 1286.31,1404.28 \"/>\n",
       "<polyline clip-path=\"url(#clip420)\" style=\"stroke:#000000; stroke-linecap:round; stroke-linejoin:round; stroke-width:4; stroke-opacity:1; fill:none\" points=\"1621.67,1423.18 1621.67,1404.28 \"/>\n",
       "<polyline clip-path=\"url(#clip420)\" style=\"stroke:#000000; stroke-linecap:round; stroke-linejoin:round; stroke-width:4; stroke-opacity:1; fill:none\" points=\"1957.03,1423.18 1957.03,1404.28 \"/>\n",
       "<polyline clip-path=\"url(#clip420)\" style=\"stroke:#000000; stroke-linecap:round; stroke-linejoin:round; stroke-width:4; stroke-opacity:1; fill:none\" points=\"2292.39,1423.18 2292.39,1404.28 \"/>\n",
       "<path clip-path=\"url(#clip420)\" d=\"M249.699 1468.75 L279.375 1468.75 L279.375 1472.69 L249.699 1472.69 L249.699 1468.75 Z\" fill=\"#000000\" fill-rule=\"nonzero\" fill-opacity=\"1\" /><path clip-path=\"url(#clip420)\" d=\"M303.634 1466.95 Q306.99 1467.66 308.865 1469.93 Q310.763 1472.2 310.763 1475.53 Q310.763 1480.65 307.245 1483.45 Q303.726 1486.25 297.245 1486.25 Q295.069 1486.25 292.754 1485.81 Q290.462 1485.39 288.009 1484.54 L288.009 1480.02 Q289.953 1481.16 292.268 1481.74 Q294.583 1482.32 297.106 1482.32 Q301.504 1482.32 303.796 1480.58 Q306.111 1478.84 306.111 1475.53 Q306.111 1472.48 303.958 1470.77 Q301.828 1469.03 298.009 1469.03 L293.981 1469.03 L293.981 1465.19 L298.194 1465.19 Q301.643 1465.19 303.472 1463.82 Q305.3 1462.43 305.3 1459.84 Q305.3 1457.18 303.402 1455.77 Q301.527 1454.33 298.009 1454.33 Q296.087 1454.33 293.888 1454.75 Q291.689 1455.16 289.05 1456.04 L289.05 1451.88 Q291.712 1451.14 294.027 1450.77 Q296.365 1450.39 298.425 1450.39 Q303.749 1450.39 306.851 1452.83 Q309.953 1455.23 309.953 1459.35 Q309.953 1462.22 308.31 1464.21 Q306.666 1466.18 303.634 1466.95 Z\" fill=\"#000000\" fill-rule=\"nonzero\" fill-opacity=\"1\" /><path clip-path=\"url(#clip420)\" d=\"M585.533 1468.75 L615.209 1468.75 L615.209 1472.69 L585.533 1472.69 L585.533 1468.75 Z\" fill=\"#000000\" fill-rule=\"nonzero\" fill-opacity=\"1\" /><path clip-path=\"url(#clip420)\" d=\"M629.329 1481.64 L645.649 1481.64 L645.649 1485.58 L623.704 1485.58 L623.704 1481.64 Q626.366 1478.89 630.95 1474.26 Q635.556 1469.61 636.737 1468.27 Q638.982 1465.74 639.862 1464.01 Q640.765 1462.25 640.765 1460.56 Q640.765 1457.8 638.82 1456.07 Q636.899 1454.33 633.797 1454.33 Q631.598 1454.33 629.144 1455.09 Q626.714 1455.86 623.936 1457.41 L623.936 1452.69 Q626.76 1451.55 629.214 1450.97 Q631.667 1450.39 633.704 1450.39 Q639.075 1450.39 642.269 1453.08 Q645.464 1455.77 645.464 1460.26 Q645.464 1462.39 644.653 1464.31 Q643.866 1466.2 641.76 1468.8 Q641.181 1469.47 638.079 1472.69 Q634.978 1475.88 629.329 1481.64 Z\" fill=\"#000000\" fill-rule=\"nonzero\" fill-opacity=\"1\" /><path clip-path=\"url(#clip420)\" d=\"M920.708 1468.75 L950.384 1468.75 L950.384 1472.69 L920.708 1472.69 L920.708 1468.75 Z\" fill=\"#000000\" fill-rule=\"nonzero\" fill-opacity=\"1\" /><path clip-path=\"url(#clip420)\" d=\"M961.287 1481.64 L968.926 1481.64 L968.926 1455.28 L960.615 1456.95 L960.615 1452.69 L968.879 1451.02 L973.555 1451.02 L973.555 1481.64 L981.194 1481.64 L981.194 1485.58 L961.287 1485.58 L961.287 1481.64 Z\" fill=\"#000000\" fill-rule=\"nonzero\" fill-opacity=\"1\" /><path clip-path=\"url(#clip420)\" d=\"M1286.31 1454.1 Q1282.7 1454.1 1280.87 1457.66 Q1279.07 1461.2 1279.07 1468.33 Q1279.07 1475.44 1280.87 1479.01 Q1282.7 1482.55 1286.31 1482.55 Q1289.95 1482.55 1291.75 1479.01 Q1293.58 1475.44 1293.58 1468.33 Q1293.58 1461.2 1291.75 1457.66 Q1289.95 1454.1 1286.31 1454.1 M1286.31 1450.39 Q1292.12 1450.39 1295.18 1455 Q1298.26 1459.58 1298.26 1468.33 Q1298.26 1477.06 1295.18 1481.67 Q1292.12 1486.25 1286.31 1486.25 Q1280.5 1486.25 1277.42 1481.67 Q1274.37 1477.06 1274.37 1468.33 Q1274.37 1459.58 1277.42 1455 Q1280.5 1450.39 1286.31 1450.39 Z\" fill=\"#000000\" fill-rule=\"nonzero\" fill-opacity=\"1\" /><path clip-path=\"url(#clip420)\" d=\"M1612.05 1481.64 L1619.69 1481.64 L1619.69 1455.28 L1611.38 1456.95 L1611.38 1452.69 L1619.65 1451.02 L1624.32 1451.02 L1624.32 1481.64 L1631.96 1481.64 L1631.96 1485.58 L1612.05 1485.58 L1612.05 1481.64 Z\" fill=\"#000000\" fill-rule=\"nonzero\" fill-opacity=\"1\" /><path clip-path=\"url(#clip420)\" d=\"M1951.68 1481.64 L1968 1481.64 L1968 1485.58 L1946.06 1485.58 L1946.06 1481.64 Q1948.72 1478.89 1953.3 1474.26 Q1957.91 1469.61 1959.09 1468.27 Q1961.34 1465.74 1962.22 1464.01 Q1963.12 1462.25 1963.12 1460.56 Q1963.12 1457.8 1961.17 1456.07 Q1959.25 1454.33 1956.15 1454.33 Q1953.95 1454.33 1951.5 1455.09 Q1949.07 1455.86 1946.29 1457.41 L1946.29 1452.69 Q1949.11 1451.55 1951.57 1450.97 Q1954.02 1450.39 1956.06 1450.39 Q1961.43 1450.39 1964.62 1453.08 Q1967.82 1455.77 1967.82 1460.26 Q1967.82 1462.39 1967.01 1464.31 Q1966.22 1466.2 1964.11 1468.8 Q1963.54 1469.47 1960.43 1472.69 Q1957.33 1475.88 1951.68 1481.64 Z\" fill=\"#000000\" fill-rule=\"nonzero\" fill-opacity=\"1\" /><path clip-path=\"url(#clip420)\" d=\"M2296.64 1466.95 Q2300 1467.66 2301.87 1469.93 Q2303.77 1472.2 2303.77 1475.53 Q2303.77 1480.65 2300.25 1483.45 Q2296.73 1486.25 2290.25 1486.25 Q2288.07 1486.25 2285.76 1485.81 Q2283.47 1485.39 2281.01 1484.54 L2281.01 1480.02 Q2282.96 1481.16 2285.27 1481.74 Q2287.59 1482.32 2290.11 1482.32 Q2294.51 1482.32 2296.8 1480.58 Q2299.12 1478.84 2299.12 1475.53 Q2299.12 1472.48 2296.96 1470.77 Q2294.83 1469.03 2291.01 1469.03 L2286.99 1469.03 L2286.99 1465.19 L2291.2 1465.19 Q2294.65 1465.19 2296.48 1463.82 Q2298.31 1462.43 2298.31 1459.84 Q2298.31 1457.18 2296.41 1455.77 Q2294.53 1454.33 2291.01 1454.33 Q2289.09 1454.33 2286.89 1454.75 Q2284.69 1455.16 2282.06 1456.04 L2282.06 1451.88 Q2284.72 1451.14 2287.03 1450.77 Q2289.37 1450.39 2291.43 1450.39 Q2296.75 1450.39 2299.86 1452.83 Q2302.96 1455.23 2302.96 1459.35 Q2302.96 1462.22 2301.31 1464.21 Q2299.67 1466.18 2296.64 1466.95 Z\" fill=\"#000000\" fill-rule=\"nonzero\" fill-opacity=\"1\" /><path clip-path=\"url(#clip420)\" d=\"M1302.93 1532.4 L1290.04 1549.74 L1303.59 1568.04 L1296.69 1568.04 L1286.31 1554.04 L1275.93 1568.04 L1269.03 1568.04 L1282.87 1549.39 L1270.21 1532.4 L1277.11 1532.4 L1286.57 1545.1 L1296.02 1532.4 L1302.93 1532.4 Z\" fill=\"#000000\" fill-rule=\"nonzero\" fill-opacity=\"1\" /><polyline clip-path=\"url(#clip420)\" style=\"stroke:#000000; stroke-linecap:round; stroke-linejoin:round; stroke-width:4; stroke-opacity:1; fill:none\" points=\"219.866,1423.18 219.866,47.2441 \"/>\n",
       "<polyline clip-path=\"url(#clip420)\" style=\"stroke:#000000; stroke-linecap:round; stroke-linejoin:round; stroke-width:4; stroke-opacity:1; fill:none\" points=\"219.866,1384.24 238.764,1384.24 \"/>\n",
       "<polyline clip-path=\"url(#clip420)\" style=\"stroke:#000000; stroke-linecap:round; stroke-linejoin:round; stroke-width:4; stroke-opacity:1; fill:none\" points=\"219.866,1058.86 238.764,1058.86 \"/>\n",
       "<polyline clip-path=\"url(#clip420)\" style=\"stroke:#000000; stroke-linecap:round; stroke-linejoin:round; stroke-width:4; stroke-opacity:1; fill:none\" points=\"219.866,733.491 238.764,733.491 \"/>\n",
       "<polyline clip-path=\"url(#clip420)\" style=\"stroke:#000000; stroke-linecap:round; stroke-linejoin:round; stroke-width:4; stroke-opacity:1; fill:none\" points=\"219.866,408.118 238.764,408.118 \"/>\n",
       "<polyline clip-path=\"url(#clip420)\" style=\"stroke:#000000; stroke-linecap:round; stroke-linejoin:round; stroke-width:4; stroke-opacity:1; fill:none\" points=\"219.866,82.7441 238.764,82.7441 \"/>\n",
       "<path clip-path=\"url(#clip420)\" d=\"M126.691 1370.04 Q123.08 1370.04 121.251 1373.6 Q119.445 1377.14 119.445 1384.27 Q119.445 1391.38 121.251 1394.94 Q123.08 1398.49 126.691 1398.49 Q130.325 1398.49 132.13 1394.94 Q133.959 1391.38 133.959 1384.27 Q133.959 1377.14 132.13 1373.6 Q130.325 1370.04 126.691 1370.04 M126.691 1366.33 Q132.501 1366.33 135.556 1370.94 Q138.635 1375.52 138.635 1384.27 Q138.635 1393 135.556 1397.61 Q132.501 1402.19 126.691 1402.19 Q120.88 1402.19 117.802 1397.61 Q114.746 1393 114.746 1384.27 Q114.746 1375.52 117.802 1370.94 Q120.88 1366.33 126.691 1366.33 Z\" fill=\"#000000\" fill-rule=\"nonzero\" fill-opacity=\"1\" /><path clip-path=\"url(#clip420)\" d=\"M146.853 1395.64 L151.737 1395.64 L151.737 1401.52 L146.853 1401.52 L146.853 1395.64 Z\" fill=\"#000000\" fill-rule=\"nonzero\" fill-opacity=\"1\" /><path clip-path=\"url(#clip420)\" d=\"M171.922 1370.04 Q168.311 1370.04 166.482 1373.6 Q164.677 1377.14 164.677 1384.27 Q164.677 1391.38 166.482 1394.94 Q168.311 1398.49 171.922 1398.49 Q175.556 1398.49 177.362 1394.94 Q179.19 1391.38 179.19 1384.27 Q179.19 1377.14 177.362 1373.6 Q175.556 1370.04 171.922 1370.04 M171.922 1366.33 Q177.732 1366.33 180.788 1370.94 Q183.866 1375.52 183.866 1384.27 Q183.866 1393 180.788 1397.61 Q177.732 1402.19 171.922 1402.19 Q166.112 1402.19 163.033 1397.61 Q159.978 1393 159.978 1384.27 Q159.978 1375.52 163.033 1370.94 Q166.112 1366.33 171.922 1366.33 Z\" fill=\"#000000\" fill-rule=\"nonzero\" fill-opacity=\"1\" /><path clip-path=\"url(#clip420)\" d=\"M128.288 1044.66 Q124.677 1044.66 122.848 1048.23 Q121.043 1051.77 121.043 1058.9 Q121.043 1066.01 122.848 1069.57 Q124.677 1073.11 128.288 1073.11 Q131.922 1073.11 133.728 1069.57 Q135.556 1066.01 135.556 1058.9 Q135.556 1051.77 133.728 1048.23 Q131.922 1044.66 128.288 1044.66 M128.288 1040.96 Q134.098 1040.96 137.154 1045.57 Q140.232 1050.15 140.232 1058.9 Q140.232 1067.63 137.154 1072.23 Q134.098 1076.82 128.288 1076.82 Q122.478 1076.82 119.399 1072.23 Q116.343 1067.63 116.343 1058.9 Q116.343 1050.15 119.399 1045.57 Q122.478 1040.96 128.288 1040.96 Z\" fill=\"#000000\" fill-rule=\"nonzero\" fill-opacity=\"1\" /><path clip-path=\"url(#clip420)\" d=\"M148.45 1070.27 L153.334 1070.27 L153.334 1076.14 L148.45 1076.14 L148.45 1070.27 Z\" fill=\"#000000\" fill-rule=\"nonzero\" fill-opacity=\"1\" /><path clip-path=\"url(#clip420)\" d=\"M167.547 1072.21 L183.866 1072.21 L183.866 1076.14 L161.922 1076.14 L161.922 1072.21 Q164.584 1069.45 169.167 1064.83 Q173.774 1060.17 174.954 1058.83 Q177.2 1056.31 178.079 1054.57 Q178.982 1052.81 178.982 1051.12 Q178.982 1048.37 177.038 1046.63 Q175.116 1044.89 172.014 1044.89 Q169.815 1044.89 167.362 1045.66 Q164.931 1046.42 162.153 1047.97 L162.153 1043.25 Q164.977 1042.12 167.431 1041.54 Q169.885 1040.96 171.922 1040.96 Q177.292 1040.96 180.487 1043.64 Q183.681 1046.33 183.681 1050.82 Q183.681 1052.95 182.871 1054.87 Q182.084 1056.77 179.977 1059.36 Q179.399 1060.03 176.297 1063.25 Q173.195 1066.45 167.547 1072.21 Z\" fill=\"#000000\" fill-rule=\"nonzero\" fill-opacity=\"1\" /><path clip-path=\"url(#clip420)\" d=\"M126.205 719.29 Q122.593 719.29 120.765 722.855 Q118.959 726.396 118.959 733.526 Q118.959 740.632 120.765 744.197 Q122.593 747.739 126.205 747.739 Q129.839 747.739 131.644 744.197 Q133.473 740.632 133.473 733.526 Q133.473 726.396 131.644 722.855 Q129.839 719.29 126.205 719.29 M126.205 715.586 Q132.015 715.586 135.07 720.193 Q138.149 724.776 138.149 733.526 Q138.149 742.253 135.07 746.859 Q132.015 751.442 126.205 751.442 Q120.394 751.442 117.316 746.859 Q114.26 742.253 114.26 733.526 Q114.26 724.776 117.316 720.193 Q120.394 715.586 126.205 715.586 Z\" fill=\"#000000\" fill-rule=\"nonzero\" fill-opacity=\"1\" /><path clip-path=\"url(#clip420)\" d=\"M146.366 744.892 L151.251 744.892 L151.251 750.771 L146.366 750.771 L146.366 744.892 Z\" fill=\"#000000\" fill-rule=\"nonzero\" fill-opacity=\"1\" /><path clip-path=\"url(#clip420)\" d=\"M174.283 720.285 L162.477 738.734 L174.283 738.734 L174.283 720.285 M173.056 716.211 L178.936 716.211 L178.936 738.734 L183.866 738.734 L183.866 742.623 L178.936 742.623 L178.936 750.771 L174.283 750.771 L174.283 742.623 L158.681 742.623 L158.681 738.109 L173.056 716.211 Z\" fill=\"#000000\" fill-rule=\"nonzero\" fill-opacity=\"1\" /><path clip-path=\"url(#clip420)\" d=\"M126.529 393.916 Q122.918 393.916 121.089 397.481 Q119.283 401.023 119.283 408.152 Q119.283 415.259 121.089 418.824 Q122.918 422.365 126.529 422.365 Q130.163 422.365 131.968 418.824 Q133.797 415.259 133.797 408.152 Q133.797 401.023 131.968 397.481 Q130.163 393.916 126.529 393.916 M126.529 390.213 Q132.339 390.213 135.394 394.819 Q138.473 399.402 138.473 408.152 Q138.473 416.879 135.394 421.486 Q132.339 426.069 126.529 426.069 Q120.718 426.069 117.64 421.486 Q114.584 416.879 114.584 408.152 Q114.584 399.402 117.64 394.819 Q120.718 390.213 126.529 390.213 Z\" fill=\"#000000\" fill-rule=\"nonzero\" fill-opacity=\"1\" /><path clip-path=\"url(#clip420)\" d=\"M146.691 419.518 L151.575 419.518 L151.575 425.398 L146.691 425.398 L146.691 419.518 Z\" fill=\"#000000\" fill-rule=\"nonzero\" fill-opacity=\"1\" /><path clip-path=\"url(#clip420)\" d=\"M172.339 406.254 Q169.19 406.254 167.339 408.407 Q165.51 410.56 165.51 414.31 Q165.51 418.037 167.339 420.213 Q169.19 422.365 172.339 422.365 Q175.487 422.365 177.315 420.213 Q179.167 418.037 179.167 414.31 Q179.167 410.56 177.315 408.407 Q175.487 406.254 172.339 406.254 M181.621 391.602 L181.621 395.861 Q179.862 395.027 178.056 394.588 Q176.274 394.148 174.514 394.148 Q169.885 394.148 167.431 397.273 Q165.001 400.398 164.653 406.717 Q166.019 404.703 168.079 403.639 Q170.139 402.551 172.616 402.551 Q177.825 402.551 180.834 405.722 Q183.866 408.87 183.866 414.31 Q183.866 419.634 180.718 422.851 Q177.57 426.069 172.339 426.069 Q166.343 426.069 163.172 421.486 Q160.001 416.879 160.001 408.152 Q160.001 399.958 163.89 395.097 Q167.778 390.213 174.329 390.213 Q176.089 390.213 177.871 390.56 Q179.676 390.907 181.621 391.602 Z\" fill=\"#000000\" fill-rule=\"nonzero\" fill-opacity=\"1\" /><path clip-path=\"url(#clip420)\" d=\"M126.783 68.5428 Q123.172 68.5428 121.343 72.1076 Q119.538 75.6493 119.538 82.7789 Q119.538 89.8853 121.343 93.4501 Q123.172 96.9917 126.783 96.9917 Q130.417 96.9917 132.223 93.4501 Q134.052 89.8853 134.052 82.7789 Q134.052 75.6493 132.223 72.1076 Q130.417 68.5428 126.783 68.5428 M126.783 64.8391 Q132.593 64.8391 135.649 69.4456 Q138.728 74.0289 138.728 82.7789 Q138.728 91.5057 135.649 96.1121 Q132.593 100.695 126.783 100.695 Q120.973 100.695 117.894 96.1121 Q114.839 91.5057 114.839 82.7789 Q114.839 74.0289 117.894 69.4456 Q120.973 64.8391 126.783 64.8391 Z\" fill=\"#000000\" fill-rule=\"nonzero\" fill-opacity=\"1\" /><path clip-path=\"url(#clip420)\" d=\"M146.945 94.1445 L151.829 94.1445 L151.829 100.024 L146.945 100.024 L146.945 94.1445 Z\" fill=\"#000000\" fill-rule=\"nonzero\" fill-opacity=\"1\" /><path clip-path=\"url(#clip420)\" d=\"M172.014 83.6122 Q168.681 83.6122 166.76 85.3946 Q164.862 87.177 164.862 90.302 Q164.862 93.4269 166.76 95.2093 Q168.681 96.9917 172.014 96.9917 Q175.348 96.9917 177.269 95.2093 Q179.19 93.4038 179.19 90.302 Q179.19 87.177 177.269 85.3946 Q175.371 83.6122 172.014 83.6122 M167.339 81.6215 Q164.329 80.8807 162.64 78.8205 Q160.973 76.7604 160.973 73.7974 Q160.973 69.6539 163.913 67.2465 Q166.876 64.8391 172.014 64.8391 Q177.176 64.8391 180.116 67.2465 Q183.056 69.6539 183.056 73.7974 Q183.056 76.7604 181.366 78.8205 Q179.7 80.8807 176.714 81.6215 Q180.093 82.4085 181.968 84.7001 Q183.866 86.9918 183.866 90.302 Q183.866 95.3251 180.788 98.0103 Q177.732 100.695 172.014 100.695 Q166.297 100.695 163.218 98.0103 Q160.163 95.3251 160.163 90.302 Q160.163 86.9918 162.061 84.7001 Q163.959 82.4085 167.339 81.6215 M165.626 74.2372 Q165.626 76.9224 167.292 78.427 Q168.982 79.9316 172.014 79.9316 Q175.024 79.9316 176.714 78.427 Q178.426 76.9224 178.426 74.2372 Q178.426 71.5521 176.714 70.0474 Q175.024 68.5428 172.014 68.5428 Q168.982 68.5428 167.292 70.0474 Q165.626 71.5521 165.626 74.2372 Z\" fill=\"#000000\" fill-rule=\"nonzero\" fill-opacity=\"1\" /><path clip-path=\"url(#clip420)\" d=\"M58.657 788.97 L77.5631 788.97 L77.5631 794.859 L28.3562 794.859 L28.3562 788.97 L33.7671 788.97 Q30.5842 787.124 29.0564 784.323 Q27.4968 781.491 27.4968 777.576 Q27.4968 771.083 32.6531 767.041 Q37.8093 762.966 46.212 762.966 Q54.6147 762.966 59.771 767.041 Q64.9272 771.083 64.9272 777.576 Q64.9272 781.491 63.3994 784.323 Q61.8398 787.124 58.657 788.97 M46.212 769.046 Q39.7508 769.046 36.0905 771.719 Q32.3984 774.361 32.3984 779.008 Q32.3984 783.655 36.0905 786.329 Q39.7508 788.97 46.212 788.97 Q52.6732 788.97 56.3653 786.329 Q60.0256 783.655 60.0256 779.008 Q60.0256 774.361 56.3653 771.719 Q52.6732 769.046 46.212 769.046 Z\" fill=\"#000000\" fill-rule=\"nonzero\" fill-opacity=\"1\" /><path clip-path=\"url(#clip420)\" d=\"M14.5426 739.191 Q21.8632 743.456 29.0246 745.524 Q36.186 747.593 43.5384 747.593 Q50.8908 747.593 58.1159 745.524 Q65.3091 743.424 72.5979 739.191 L72.5979 744.283 Q65.1182 749.057 57.8931 751.445 Q50.668 753.8 43.5384 753.8 Q36.4406 753.8 29.2474 751.445 Q22.0542 749.089 14.5426 744.283 L14.5426 739.191 Z\" fill=\"#000000\" fill-rule=\"nonzero\" fill-opacity=\"1\" /><path clip-path=\"url(#clip420)\" d=\"M28.3562 698.195 L45.7028 711.086 L64.0042 697.527 L64.0042 704.434 L49.9996 714.81 L64.0042 725.186 L64.0042 732.093 L45.3526 718.247 L28.3562 730.915 L28.3562 724.008 L41.0558 714.555 L28.3562 705.102 L28.3562 698.195 Z\" fill=\"#000000\" fill-rule=\"nonzero\" fill-opacity=\"1\" /><path clip-path=\"url(#clip420)\" d=\"M14.5426 690.175 L14.5426 685.082 Q22.0542 680.308 29.2474 677.952 Q36.4406 675.565 43.5384 675.565 Q50.668 675.565 57.8931 677.952 Q65.1182 680.308 72.5979 685.082 L72.5979 690.175 Q65.3091 685.941 58.1159 683.873 Q50.8908 681.772 43.5384 681.772 Q36.186 681.772 29.0246 683.873 Q21.8632 685.941 14.5426 690.175 Z\" fill=\"#000000\" fill-rule=\"nonzero\" fill-opacity=\"1\" /><polyline clip-path=\"url(#clip422)\" style=\"stroke:#ff0000; stroke-linecap:round; stroke-linejoin:round; stroke-width:20; stroke-opacity:1; fill:none\" stroke-dasharray=\"80, 50\" points=\"280.231,1384.24 286.938,1384.24 293.645,1384.24 300.353,1384.24 307.06,1384.24 313.767,1384.24 320.474,1384.24 327.181,1384.24 333.889,1384.24 340.596,1384.24 347.303,1384.24 354.01,1384.24 360.717,1384.24 367.425,1384.24 374.132,1384.24 380.839,1384.24 387.546,1384.24 394.253,1384.24 400.961,1384.24 407.668,1384.24 414.375,1384.24 421.082,1384.24 427.789,1384.24 434.497,1384.24 441.204,1384.24 447.911,1384.24 454.618,1384.24 461.325,1384.24 468.033,1384.24 474.74,1384.24 481.447,1384.24 488.154,1384.24 494.861,1384.24 501.569,1384.24 508.276,1384.24 514.983,1384.24 521.69,1384.24 528.397,1384.24 535.105,1384.24 541.812,1384.24 548.519,1384.24 555.226,1384.24 561.933,1384.24 568.641,1384.24 575.348,1384.24 582.055,1384.24 588.762,1384.24 595.469,1384.24 602.177,1384.24 608.884,1384.24 615.591,1384.24 622.298,1384.24 629.005,1384.24 635.713,1384.24 642.42,1384.24 649.127,1384.24 655.834,1384.24 662.541,1384.24 669.249,1384.24 675.956,1384.24 682.663,1384.24 689.37,1384.24 696.077,1384.24 702.785,1384.24 709.492,1384.24 716.199,1384.24 722.906,1384.24 729.613,1384.24 736.321,1384.24 743.028,1384.24 749.735,1384.24 756.442,1384.24 763.149,1384.24 769.857,1384.24 776.564,1384.23 783.271,1384.23 789.978,1384.23 796.685,1384.23 803.393,1384.23 810.1,1384.23 816.807,1384.23 823.514,1384.22 830.221,1384.22 836.929,1384.22 843.636,1384.21 850.343,1384.21 857.05,1384.2 863.757,1384.19 870.465,1384.18 877.172,1384.17 883.879,1384.16 890.586,1384.14 897.293,1384.12 904.001,1384.1 910.708,1384.08 917.415,1384.05 924.122,1384.01 930.829,1383.97 937.537,1383.92 944.244,1383.87 950.951,1383.8 957.658,1383.73 964.365,1383.64 971.073,1383.54 977.78,1383.42 984.487,1383.29 991.194,1383.13 997.901,1382.95 1004.61,1382.75 1011.32,1382.52 1018.02,1382.25 1024.73,1381.94 1031.44,1381.59 1038.14,1381.19 1044.85,1380.74 1051.56,1380.23 1058.27,1379.65 1064.97,1378.99 1071.68,1378.25 1078.39,1377.42 1085.1,1376.48 1091.8,1375.43 1098.51,1374.25 1105.22,1372.93 1111.92,1371.46 1118.63,1369.82 1125.34,1367.99 1132.05,1365.97 1138.75,1363.72 1145.46,1361.23 1152.17,1358.48 1158.87,1355.45 1165.58,1352.12 1172.29,1348.46 1179,1344.44 1185.7,1340.04 1192.41,1335.24 1199.12,1330 1205.82,1324.29 1212.53,1318.1 1219.24,1311.37 1225.95,1304.09 1232.65,1296.23 1239.36,1287.75 1246.07,1278.62 1252.78,1268.81 1259.48,1258.3 1266.19,1247.04 1272.9,1235.02 1279.6,1222.2 1286.31,1208.57 1293.02,1194.09 1299.73,1178.74 1306.43,1162.52 1313.14,1145.39 1319.85,1127.36 1326.55,1108.4 1333.26,1088.52 1339.97,1067.71 1346.68,1045.98 1353.38,1023.33 1360.09,999.786 1366.8,975.359 1373.5,950.075 1380.21,923.965 1386.92,897.065 1393.63,869.417 1400.33,841.069 1407.04,812.077 1413.75,782.501 1420.46,752.408 1427.16,721.871 1433.87,690.968 1440.58,659.783 1447.28,628.405 1453.99,596.93 1460.7,565.454 1467.41,534.082 1474.11,502.919 1480.82,472.074 1487.53,441.659 1494.23,411.787 1500.94,382.572 1507.65,354.129 1514.36,326.572 1521.06,300.014 1527.77,274.566 1534.48,250.336 1541.18,227.43 1547.89,205.947 1554.6,185.985 1561.31,167.632 1568.01,150.973 1574.72,136.085 1581.43,123.036 1588.14,111.889 1594.84,102.695 1601.55,95.4981 1608.26,90.3328 1614.96,87.2237 1621.67,86.1857 1628.38,87.2237 1635.09,90.3328 1641.79,95.4981 1648.5,102.695 1655.21,111.889 1661.91,123.036 1668.62,136.085 1675.33,150.973 1682.04,167.632 1688.74,185.985 1695.45,205.947 1702.16,227.43 1708.86,250.336 1715.57,274.566 1722.28,300.014 1728.99,326.572 1735.69,354.129 1742.4,382.572 1749.11,411.787 1755.82,441.659 1762.52,472.074 1769.23,502.919 1775.94,534.082 1782.64,565.454 1789.35,596.93 1796.06,628.405 1802.77,659.783 1809.47,690.968 1816.18,721.871 1822.89,752.408 1829.59,782.501 1836.3,812.077 1843.01,841.069 1849.72,869.417 1856.42,897.065 1863.13,923.965 1869.84,950.075 1876.54,975.359 1883.25,999.786 1889.96,1023.33 1896.67,1045.98 1903.37,1067.71 1910.08,1088.52 1916.79,1108.4 1923.5,1127.36 1930.2,1145.39 1936.91,1162.52 1943.62,1178.74 1950.32,1194.09 1957.03,1208.57 1963.74,1222.2 1970.45,1235.02 1977.15,1247.04 1983.86,1258.3 1990.57,1268.81 1997.27,1278.62 2003.98,1287.75 2010.69,1296.23 2017.4,1304.09 2024.1,1311.37 2030.81,1318.1 2037.52,1324.29 2044.22,1330 2050.93,1335.24 2057.64,1340.04 2064.35,1344.44 2071.05,1348.46 2077.76,1352.12 2084.47,1355.45 2091.18,1358.48 2097.88,1361.23 2104.59,1363.72 2111.3,1365.97 2118,1367.99 2124.71,1369.82 2131.42,1371.46 2138.13,1372.93 2144.83,1374.25 2151.54,1375.43 2158.25,1376.48 2164.95,1377.42 2171.66,1378.25 2178.37,1378.99 2185.08,1379.65 2191.78,1380.23 2198.49,1380.74 2205.2,1381.19 2211.9,1381.59 2218.61,1381.94 2225.32,1382.25 2232.03,1382.52 2238.73,1382.75 2245.44,1382.95 2252.15,1383.13 2258.86,1383.29 2265.56,1383.42 2272.27,1383.54 2278.98,1383.64 2285.68,1383.73 2292.39,1383.8 \"/>\n",
       "<path clip-path=\"url(#clip420)\" d=\"M1994.9 196.789 L2281.66 196.789 L2281.66 93.1086 L1994.9 93.1086  Z\" fill=\"#ffffff\" fill-rule=\"evenodd\" fill-opacity=\"1\"/>\n",
       "<polyline clip-path=\"url(#clip420)\" style=\"stroke:#000000; stroke-linecap:round; stroke-linejoin:round; stroke-width:4; stroke-opacity:1; fill:none\" points=\"1994.9,196.789 2281.66,196.789 2281.66,93.1086 1994.9,93.1086 1994.9,196.789 \"/>\n",
       "<polyline clip-path=\"url(#clip420)\" style=\"stroke:#ff0000; stroke-linecap:round; stroke-linejoin:round; stroke-width:20; stroke-opacity:1; fill:none\" stroke-dasharray=\"80, 50\" points=\"2018.6,144.949 2160.79,144.949 \"/>\n",
       "<path clip-path=\"url(#clip420)\" d=\"M2188.77 158.34 L2188.77 172.09 L2184.49 172.09 L2184.49 136.303 L2188.77 136.303 L2188.77 140.238 Q2190.11 137.923 2192.15 136.812 Q2194.21 135.678 2197.06 135.678 Q2201.78 135.678 2204.72 139.428 Q2207.68 143.178 2207.68 149.289 Q2207.68 155.4 2204.72 159.15 Q2201.78 162.9 2197.06 162.9 Q2194.21 162.9 2192.15 161.789 Q2190.11 160.655 2188.77 158.34 M2203.26 149.289 Q2203.26 144.59 2201.32 141.928 Q2199.4 139.243 2196.02 139.243 Q2192.64 139.243 2190.69 141.928 Q2188.77 144.59 2188.77 149.289 Q2188.77 153.988 2190.69 156.673 Q2192.64 159.335 2196.02 159.335 Q2199.4 159.335 2201.32 156.673 Q2203.26 153.988 2203.26 149.289 Z\" fill=\"#000000\" fill-rule=\"nonzero\" fill-opacity=\"1\" /><path clip-path=\"url(#clip420)\" d=\"M2231.8 140.238 L2231.8 126.21 L2236.06 126.21 L2236.06 162.229 L2231.8 162.229 L2231.8 158.34 Q2230.46 160.655 2228.4 161.789 Q2226.36 162.9 2223.49 162.9 Q2218.79 162.9 2215.83 159.15 Q2212.89 155.4 2212.89 149.289 Q2212.89 143.178 2215.83 139.428 Q2218.79 135.678 2223.49 135.678 Q2226.36 135.678 2228.4 136.812 Q2230.46 137.923 2231.8 140.238 M2217.29 149.289 Q2217.29 153.988 2219.21 156.673 Q2221.16 159.335 2224.54 159.335 Q2227.91 159.335 2229.86 156.673 Q2231.8 153.988 2231.8 149.289 Q2231.8 144.59 2229.86 141.928 Q2227.91 139.243 2224.54 139.243 Q2221.16 139.243 2219.21 141.928 Q2217.29 144.59 2217.29 149.289 Z\" fill=\"#000000\" fill-rule=\"nonzero\" fill-opacity=\"1\" /><path clip-path=\"url(#clip420)\" d=\"M2257.96 126.21 L2257.96 129.752 L2253.89 129.752 Q2251.6 129.752 2250.69 130.678 Q2249.81 131.604 2249.81 134.011 L2249.81 136.303 L2256.83 136.303 L2256.83 139.613 L2249.81 139.613 L2249.81 162.229 L2245.53 162.229 L2245.53 139.613 L2241.46 139.613 L2241.46 136.303 L2245.53 136.303 L2245.53 134.497 Q2245.53 130.169 2247.54 128.201 Q2249.56 126.21 2253.93 126.21 L2257.96 126.21 Z\" fill=\"#000000\" fill-rule=\"nonzero\" fill-opacity=\"1\" /></svg>\n"
      ],
      "text/html": [
       "<?xml version=\"1.0\" encoding=\"utf-8\"?>\n",
       "<svg xmlns=\"http://www.w3.org/2000/svg\" xmlns:xlink=\"http://www.w3.org/1999/xlink\" width=\"600\" height=\"400\" viewBox=\"0 0 2400 1600\">\n",
       "<defs>\n",
       "  <clipPath id=\"clip470\">\n",
       "    <rect x=\"0\" y=\"0\" width=\"2400\" height=\"1600\"/>\n",
       "  </clipPath>\n",
       "</defs>\n",
       "<path clip-path=\"url(#clip470)\" d=\"M0 1600 L2400 1600 L2400 0 L0 0  Z\" fill=\"#ffffff\" fill-rule=\"evenodd\" fill-opacity=\"1\"/>\n",
       "<defs>\n",
       "  <clipPath id=\"clip471\">\n",
       "    <rect x=\"480\" y=\"0\" width=\"1681\" height=\"1600\"/>\n",
       "  </clipPath>\n",
       "</defs>\n",
       "<path clip-path=\"url(#clip470)\" d=\"M219.866 1423.18 L2352.76 1423.18 L2352.76 47.2441 L219.866 47.2441  Z\" fill=\"#ffffff\" fill-rule=\"evenodd\" fill-opacity=\"1\"/>\n",
       "<defs>\n",
       "  <clipPath id=\"clip472\">\n",
       "    <rect x=\"219\" y=\"47\" width=\"2134\" height=\"1377\"/>\n",
       "  </clipPath>\n",
       "</defs>\n",
       "<polyline clip-path=\"url(#clip472)\" style=\"stroke:#000000; stroke-linecap:round; stroke-linejoin:round; stroke-width:2; stroke-opacity:0.1; fill:none\" points=\"280.231,1423.18 280.231,47.2441 \"/>\n",
       "<polyline clip-path=\"url(#clip472)\" style=\"stroke:#000000; stroke-linecap:round; stroke-linejoin:round; stroke-width:2; stroke-opacity:0.1; fill:none\" points=\"615.591,1423.18 615.591,47.2441 \"/>\n",
       "<polyline clip-path=\"url(#clip472)\" style=\"stroke:#000000; stroke-linecap:round; stroke-linejoin:round; stroke-width:2; stroke-opacity:0.1; fill:none\" points=\"950.951,1423.18 950.951,47.2441 \"/>\n",
       "<polyline clip-path=\"url(#clip472)\" style=\"stroke:#000000; stroke-linecap:round; stroke-linejoin:round; stroke-width:2; stroke-opacity:0.1; fill:none\" points=\"1286.31,1423.18 1286.31,47.2441 \"/>\n",
       "<polyline clip-path=\"url(#clip472)\" style=\"stroke:#000000; stroke-linecap:round; stroke-linejoin:round; stroke-width:2; stroke-opacity:0.1; fill:none\" points=\"1621.67,1423.18 1621.67,47.2441 \"/>\n",
       "<polyline clip-path=\"url(#clip472)\" style=\"stroke:#000000; stroke-linecap:round; stroke-linejoin:round; stroke-width:2; stroke-opacity:0.1; fill:none\" points=\"1957.03,1423.18 1957.03,47.2441 \"/>\n",
       "<polyline clip-path=\"url(#clip472)\" style=\"stroke:#000000; stroke-linecap:round; stroke-linejoin:round; stroke-width:2; stroke-opacity:0.1; fill:none\" points=\"2292.39,1423.18 2292.39,47.2441 \"/>\n",
       "<polyline clip-path=\"url(#clip472)\" style=\"stroke:#000000; stroke-linecap:round; stroke-linejoin:round; stroke-width:2; stroke-opacity:0.1; fill:none\" points=\"219.866,1384.24 2352.76,1384.24 \"/>\n",
       "<polyline clip-path=\"url(#clip472)\" style=\"stroke:#000000; stroke-linecap:round; stroke-linejoin:round; stroke-width:2; stroke-opacity:0.1; fill:none\" points=\"219.866,1058.86 2352.76,1058.86 \"/>\n",
       "<polyline clip-path=\"url(#clip472)\" style=\"stroke:#000000; stroke-linecap:round; stroke-linejoin:round; stroke-width:2; stroke-opacity:0.1; fill:none\" points=\"219.866,733.491 2352.76,733.491 \"/>\n",
       "<polyline clip-path=\"url(#clip472)\" style=\"stroke:#000000; stroke-linecap:round; stroke-linejoin:round; stroke-width:2; stroke-opacity:0.1; fill:none\" points=\"219.866,408.118 2352.76,408.118 \"/>\n",
       "<polyline clip-path=\"url(#clip472)\" style=\"stroke:#000000; stroke-linecap:round; stroke-linejoin:round; stroke-width:2; stroke-opacity:0.1; fill:none\" points=\"219.866,82.7441 2352.76,82.7441 \"/>\n",
       "<polyline clip-path=\"url(#clip470)\" style=\"stroke:#000000; stroke-linecap:round; stroke-linejoin:round; stroke-width:4; stroke-opacity:1; fill:none\" points=\"219.866,1423.18 2352.76,1423.18 \"/>\n",
       "<polyline clip-path=\"url(#clip470)\" style=\"stroke:#000000; stroke-linecap:round; stroke-linejoin:round; stroke-width:4; stroke-opacity:1; fill:none\" points=\"280.231,1423.18 280.231,1404.28 \"/>\n",
       "<polyline clip-path=\"url(#clip470)\" style=\"stroke:#000000; stroke-linecap:round; stroke-linejoin:round; stroke-width:4; stroke-opacity:1; fill:none\" points=\"615.591,1423.18 615.591,1404.28 \"/>\n",
       "<polyline clip-path=\"url(#clip470)\" style=\"stroke:#000000; stroke-linecap:round; stroke-linejoin:round; stroke-width:4; stroke-opacity:1; fill:none\" points=\"950.951,1423.18 950.951,1404.28 \"/>\n",
       "<polyline clip-path=\"url(#clip470)\" style=\"stroke:#000000; stroke-linecap:round; stroke-linejoin:round; stroke-width:4; stroke-opacity:1; fill:none\" points=\"1286.31,1423.18 1286.31,1404.28 \"/>\n",
       "<polyline clip-path=\"url(#clip470)\" style=\"stroke:#000000; stroke-linecap:round; stroke-linejoin:round; stroke-width:4; stroke-opacity:1; fill:none\" points=\"1621.67,1423.18 1621.67,1404.28 \"/>\n",
       "<polyline clip-path=\"url(#clip470)\" style=\"stroke:#000000; stroke-linecap:round; stroke-linejoin:round; stroke-width:4; stroke-opacity:1; fill:none\" points=\"1957.03,1423.18 1957.03,1404.28 \"/>\n",
       "<polyline clip-path=\"url(#clip470)\" style=\"stroke:#000000; stroke-linecap:round; stroke-linejoin:round; stroke-width:4; stroke-opacity:1; fill:none\" points=\"2292.39,1423.18 2292.39,1404.28 \"/>\n",
       "<path clip-path=\"url(#clip470)\" d=\"M249.699 1468.75 L279.375 1468.75 L279.375 1472.69 L249.699 1472.69 L249.699 1468.75 Z\" fill=\"#000000\" fill-rule=\"nonzero\" fill-opacity=\"1\" /><path clip-path=\"url(#clip470)\" d=\"M303.634 1466.95 Q306.99 1467.66 308.865 1469.93 Q310.763 1472.2 310.763 1475.53 Q310.763 1480.65 307.245 1483.45 Q303.726 1486.25 297.245 1486.25 Q295.069 1486.25 292.754 1485.81 Q290.462 1485.39 288.009 1484.54 L288.009 1480.02 Q289.953 1481.16 292.268 1481.74 Q294.583 1482.32 297.106 1482.32 Q301.504 1482.32 303.796 1480.58 Q306.111 1478.84 306.111 1475.53 Q306.111 1472.48 303.958 1470.77 Q301.828 1469.03 298.009 1469.03 L293.981 1469.03 L293.981 1465.19 L298.194 1465.19 Q301.643 1465.19 303.472 1463.82 Q305.3 1462.43 305.3 1459.84 Q305.3 1457.18 303.402 1455.77 Q301.527 1454.33 298.009 1454.33 Q296.087 1454.33 293.888 1454.75 Q291.689 1455.16 289.05 1456.04 L289.05 1451.88 Q291.712 1451.14 294.027 1450.77 Q296.365 1450.39 298.425 1450.39 Q303.749 1450.39 306.851 1452.83 Q309.953 1455.23 309.953 1459.35 Q309.953 1462.22 308.31 1464.21 Q306.666 1466.18 303.634 1466.95 Z\" fill=\"#000000\" fill-rule=\"nonzero\" fill-opacity=\"1\" /><path clip-path=\"url(#clip470)\" d=\"M585.533 1468.75 L615.209 1468.75 L615.209 1472.69 L585.533 1472.69 L585.533 1468.75 Z\" fill=\"#000000\" fill-rule=\"nonzero\" fill-opacity=\"1\" /><path clip-path=\"url(#clip470)\" d=\"M629.329 1481.64 L645.649 1481.64 L645.649 1485.58 L623.704 1485.58 L623.704 1481.64 Q626.366 1478.89 630.95 1474.26 Q635.556 1469.61 636.737 1468.27 Q638.982 1465.74 639.862 1464.01 Q640.765 1462.25 640.765 1460.56 Q640.765 1457.8 638.82 1456.07 Q636.899 1454.33 633.797 1454.33 Q631.598 1454.33 629.144 1455.09 Q626.714 1455.86 623.936 1457.41 L623.936 1452.69 Q626.76 1451.55 629.214 1450.97 Q631.667 1450.39 633.704 1450.39 Q639.075 1450.39 642.269 1453.08 Q645.464 1455.77 645.464 1460.26 Q645.464 1462.39 644.653 1464.31 Q643.866 1466.2 641.76 1468.8 Q641.181 1469.47 638.079 1472.69 Q634.978 1475.88 629.329 1481.64 Z\" fill=\"#000000\" fill-rule=\"nonzero\" fill-opacity=\"1\" /><path clip-path=\"url(#clip470)\" d=\"M920.708 1468.75 L950.384 1468.75 L950.384 1472.69 L920.708 1472.69 L920.708 1468.75 Z\" fill=\"#000000\" fill-rule=\"nonzero\" fill-opacity=\"1\" /><path clip-path=\"url(#clip470)\" d=\"M961.287 1481.64 L968.926 1481.64 L968.926 1455.28 L960.615 1456.95 L960.615 1452.69 L968.879 1451.02 L973.555 1451.02 L973.555 1481.64 L981.194 1481.64 L981.194 1485.58 L961.287 1485.58 L961.287 1481.64 Z\" fill=\"#000000\" fill-rule=\"nonzero\" fill-opacity=\"1\" /><path clip-path=\"url(#clip470)\" d=\"M1286.31 1454.1 Q1282.7 1454.1 1280.87 1457.66 Q1279.07 1461.2 1279.07 1468.33 Q1279.07 1475.44 1280.87 1479.01 Q1282.7 1482.55 1286.31 1482.55 Q1289.95 1482.55 1291.75 1479.01 Q1293.58 1475.44 1293.58 1468.33 Q1293.58 1461.2 1291.75 1457.66 Q1289.95 1454.1 1286.31 1454.1 M1286.31 1450.39 Q1292.12 1450.39 1295.18 1455 Q1298.26 1459.58 1298.26 1468.33 Q1298.26 1477.06 1295.18 1481.67 Q1292.12 1486.25 1286.31 1486.25 Q1280.5 1486.25 1277.42 1481.67 Q1274.37 1477.06 1274.37 1468.33 Q1274.37 1459.58 1277.42 1455 Q1280.5 1450.39 1286.31 1450.39 Z\" fill=\"#000000\" fill-rule=\"nonzero\" fill-opacity=\"1\" /><path clip-path=\"url(#clip470)\" d=\"M1612.05 1481.64 L1619.69 1481.64 L1619.69 1455.28 L1611.38 1456.95 L1611.38 1452.69 L1619.65 1451.02 L1624.32 1451.02 L1624.32 1481.64 L1631.96 1481.64 L1631.96 1485.58 L1612.05 1485.58 L1612.05 1481.64 Z\" fill=\"#000000\" fill-rule=\"nonzero\" fill-opacity=\"1\" /><path clip-path=\"url(#clip470)\" d=\"M1951.68 1481.64 L1968 1481.64 L1968 1485.58 L1946.06 1485.58 L1946.06 1481.64 Q1948.72 1478.89 1953.3 1474.26 Q1957.91 1469.61 1959.09 1468.27 Q1961.34 1465.74 1962.22 1464.01 Q1963.12 1462.25 1963.12 1460.56 Q1963.12 1457.8 1961.17 1456.07 Q1959.25 1454.33 1956.15 1454.33 Q1953.95 1454.33 1951.5 1455.09 Q1949.07 1455.86 1946.29 1457.41 L1946.29 1452.69 Q1949.11 1451.55 1951.57 1450.97 Q1954.02 1450.39 1956.06 1450.39 Q1961.43 1450.39 1964.62 1453.08 Q1967.82 1455.77 1967.82 1460.26 Q1967.82 1462.39 1967.01 1464.31 Q1966.22 1466.2 1964.11 1468.8 Q1963.54 1469.47 1960.43 1472.69 Q1957.33 1475.88 1951.68 1481.64 Z\" fill=\"#000000\" fill-rule=\"nonzero\" fill-opacity=\"1\" /><path clip-path=\"url(#clip470)\" d=\"M2296.64 1466.95 Q2300 1467.66 2301.87 1469.93 Q2303.77 1472.2 2303.77 1475.53 Q2303.77 1480.65 2300.25 1483.45 Q2296.73 1486.25 2290.25 1486.25 Q2288.07 1486.25 2285.76 1485.81 Q2283.47 1485.39 2281.01 1484.54 L2281.01 1480.02 Q2282.96 1481.16 2285.27 1481.74 Q2287.59 1482.32 2290.11 1482.32 Q2294.51 1482.32 2296.8 1480.58 Q2299.12 1478.84 2299.12 1475.53 Q2299.12 1472.48 2296.96 1470.77 Q2294.83 1469.03 2291.01 1469.03 L2286.99 1469.03 L2286.99 1465.19 L2291.2 1465.19 Q2294.65 1465.19 2296.48 1463.82 Q2298.31 1462.43 2298.31 1459.84 Q2298.31 1457.18 2296.41 1455.77 Q2294.53 1454.33 2291.01 1454.33 Q2289.09 1454.33 2286.89 1454.75 Q2284.69 1455.16 2282.06 1456.04 L2282.06 1451.88 Q2284.72 1451.14 2287.03 1450.77 Q2289.37 1450.39 2291.43 1450.39 Q2296.75 1450.39 2299.86 1452.83 Q2302.96 1455.23 2302.96 1459.35 Q2302.96 1462.22 2301.31 1464.21 Q2299.67 1466.18 2296.64 1466.95 Z\" fill=\"#000000\" fill-rule=\"nonzero\" fill-opacity=\"1\" /><path clip-path=\"url(#clip470)\" d=\"M1302.93 1532.4 L1290.04 1549.74 L1303.59 1568.04 L1296.69 1568.04 L1286.31 1554.04 L1275.93 1568.04 L1269.03 1568.04 L1282.87 1549.39 L1270.21 1532.4 L1277.11 1532.4 L1286.57 1545.1 L1296.02 1532.4 L1302.93 1532.4 Z\" fill=\"#000000\" fill-rule=\"nonzero\" fill-opacity=\"1\" /><polyline clip-path=\"url(#clip470)\" style=\"stroke:#000000; stroke-linecap:round; stroke-linejoin:round; stroke-width:4; stroke-opacity:1; fill:none\" points=\"219.866,1423.18 219.866,47.2441 \"/>\n",
       "<polyline clip-path=\"url(#clip470)\" style=\"stroke:#000000; stroke-linecap:round; stroke-linejoin:round; stroke-width:4; stroke-opacity:1; fill:none\" points=\"219.866,1384.24 238.764,1384.24 \"/>\n",
       "<polyline clip-path=\"url(#clip470)\" style=\"stroke:#000000; stroke-linecap:round; stroke-linejoin:round; stroke-width:4; stroke-opacity:1; fill:none\" points=\"219.866,1058.86 238.764,1058.86 \"/>\n",
       "<polyline clip-path=\"url(#clip470)\" style=\"stroke:#000000; stroke-linecap:round; stroke-linejoin:round; stroke-width:4; stroke-opacity:1; fill:none\" points=\"219.866,733.491 238.764,733.491 \"/>\n",
       "<polyline clip-path=\"url(#clip470)\" style=\"stroke:#000000; stroke-linecap:round; stroke-linejoin:round; stroke-width:4; stroke-opacity:1; fill:none\" points=\"219.866,408.118 238.764,408.118 \"/>\n",
       "<polyline clip-path=\"url(#clip470)\" style=\"stroke:#000000; stroke-linecap:round; stroke-linejoin:round; stroke-width:4; stroke-opacity:1; fill:none\" points=\"219.866,82.7441 238.764,82.7441 \"/>\n",
       "<path clip-path=\"url(#clip470)\" d=\"M126.691 1370.04 Q123.08 1370.04 121.251 1373.6 Q119.445 1377.14 119.445 1384.27 Q119.445 1391.38 121.251 1394.94 Q123.08 1398.49 126.691 1398.49 Q130.325 1398.49 132.13 1394.94 Q133.959 1391.38 133.959 1384.27 Q133.959 1377.14 132.13 1373.6 Q130.325 1370.04 126.691 1370.04 M126.691 1366.33 Q132.501 1366.33 135.556 1370.94 Q138.635 1375.52 138.635 1384.27 Q138.635 1393 135.556 1397.61 Q132.501 1402.19 126.691 1402.19 Q120.88 1402.19 117.802 1397.61 Q114.746 1393 114.746 1384.27 Q114.746 1375.52 117.802 1370.94 Q120.88 1366.33 126.691 1366.33 Z\" fill=\"#000000\" fill-rule=\"nonzero\" fill-opacity=\"1\" /><path clip-path=\"url(#clip470)\" d=\"M146.853 1395.64 L151.737 1395.64 L151.737 1401.52 L146.853 1401.52 L146.853 1395.64 Z\" fill=\"#000000\" fill-rule=\"nonzero\" fill-opacity=\"1\" /><path clip-path=\"url(#clip470)\" d=\"M171.922 1370.04 Q168.311 1370.04 166.482 1373.6 Q164.677 1377.14 164.677 1384.27 Q164.677 1391.38 166.482 1394.94 Q168.311 1398.49 171.922 1398.49 Q175.556 1398.49 177.362 1394.94 Q179.19 1391.38 179.19 1384.27 Q179.19 1377.14 177.362 1373.6 Q175.556 1370.04 171.922 1370.04 M171.922 1366.33 Q177.732 1366.33 180.788 1370.94 Q183.866 1375.52 183.866 1384.27 Q183.866 1393 180.788 1397.61 Q177.732 1402.19 171.922 1402.19 Q166.112 1402.19 163.033 1397.61 Q159.978 1393 159.978 1384.27 Q159.978 1375.52 163.033 1370.94 Q166.112 1366.33 171.922 1366.33 Z\" fill=\"#000000\" fill-rule=\"nonzero\" fill-opacity=\"1\" /><path clip-path=\"url(#clip470)\" d=\"M128.288 1044.66 Q124.677 1044.66 122.848 1048.23 Q121.043 1051.77 121.043 1058.9 Q121.043 1066.01 122.848 1069.57 Q124.677 1073.11 128.288 1073.11 Q131.922 1073.11 133.728 1069.57 Q135.556 1066.01 135.556 1058.9 Q135.556 1051.77 133.728 1048.23 Q131.922 1044.66 128.288 1044.66 M128.288 1040.96 Q134.098 1040.96 137.154 1045.57 Q140.232 1050.15 140.232 1058.9 Q140.232 1067.63 137.154 1072.23 Q134.098 1076.82 128.288 1076.82 Q122.478 1076.82 119.399 1072.23 Q116.343 1067.63 116.343 1058.9 Q116.343 1050.15 119.399 1045.57 Q122.478 1040.96 128.288 1040.96 Z\" fill=\"#000000\" fill-rule=\"nonzero\" fill-opacity=\"1\" /><path clip-path=\"url(#clip470)\" d=\"M148.45 1070.27 L153.334 1070.27 L153.334 1076.14 L148.45 1076.14 L148.45 1070.27 Z\" fill=\"#000000\" fill-rule=\"nonzero\" fill-opacity=\"1\" /><path clip-path=\"url(#clip470)\" d=\"M167.547 1072.21 L183.866 1072.21 L183.866 1076.14 L161.922 1076.14 L161.922 1072.21 Q164.584 1069.45 169.167 1064.83 Q173.774 1060.17 174.954 1058.83 Q177.2 1056.31 178.079 1054.57 Q178.982 1052.81 178.982 1051.12 Q178.982 1048.37 177.038 1046.63 Q175.116 1044.89 172.014 1044.89 Q169.815 1044.89 167.362 1045.66 Q164.931 1046.42 162.153 1047.97 L162.153 1043.25 Q164.977 1042.12 167.431 1041.54 Q169.885 1040.96 171.922 1040.96 Q177.292 1040.96 180.487 1043.64 Q183.681 1046.33 183.681 1050.82 Q183.681 1052.95 182.871 1054.87 Q182.084 1056.77 179.977 1059.36 Q179.399 1060.03 176.297 1063.25 Q173.195 1066.45 167.547 1072.21 Z\" fill=\"#000000\" fill-rule=\"nonzero\" fill-opacity=\"1\" /><path clip-path=\"url(#clip470)\" d=\"M126.205 719.29 Q122.593 719.29 120.765 722.855 Q118.959 726.396 118.959 733.526 Q118.959 740.632 120.765 744.197 Q122.593 747.739 126.205 747.739 Q129.839 747.739 131.644 744.197 Q133.473 740.632 133.473 733.526 Q133.473 726.396 131.644 722.855 Q129.839 719.29 126.205 719.29 M126.205 715.586 Q132.015 715.586 135.07 720.193 Q138.149 724.776 138.149 733.526 Q138.149 742.253 135.07 746.859 Q132.015 751.442 126.205 751.442 Q120.394 751.442 117.316 746.859 Q114.26 742.253 114.26 733.526 Q114.26 724.776 117.316 720.193 Q120.394 715.586 126.205 715.586 Z\" fill=\"#000000\" fill-rule=\"nonzero\" fill-opacity=\"1\" /><path clip-path=\"url(#clip470)\" d=\"M146.366 744.892 L151.251 744.892 L151.251 750.771 L146.366 750.771 L146.366 744.892 Z\" fill=\"#000000\" fill-rule=\"nonzero\" fill-opacity=\"1\" /><path clip-path=\"url(#clip470)\" d=\"M174.283 720.285 L162.477 738.734 L174.283 738.734 L174.283 720.285 M173.056 716.211 L178.936 716.211 L178.936 738.734 L183.866 738.734 L183.866 742.623 L178.936 742.623 L178.936 750.771 L174.283 750.771 L174.283 742.623 L158.681 742.623 L158.681 738.109 L173.056 716.211 Z\" fill=\"#000000\" fill-rule=\"nonzero\" fill-opacity=\"1\" /><path clip-path=\"url(#clip470)\" d=\"M126.529 393.916 Q122.918 393.916 121.089 397.481 Q119.283 401.023 119.283 408.152 Q119.283 415.259 121.089 418.824 Q122.918 422.365 126.529 422.365 Q130.163 422.365 131.968 418.824 Q133.797 415.259 133.797 408.152 Q133.797 401.023 131.968 397.481 Q130.163 393.916 126.529 393.916 M126.529 390.213 Q132.339 390.213 135.394 394.819 Q138.473 399.402 138.473 408.152 Q138.473 416.879 135.394 421.486 Q132.339 426.069 126.529 426.069 Q120.718 426.069 117.64 421.486 Q114.584 416.879 114.584 408.152 Q114.584 399.402 117.64 394.819 Q120.718 390.213 126.529 390.213 Z\" fill=\"#000000\" fill-rule=\"nonzero\" fill-opacity=\"1\" /><path clip-path=\"url(#clip470)\" d=\"M146.691 419.518 L151.575 419.518 L151.575 425.398 L146.691 425.398 L146.691 419.518 Z\" fill=\"#000000\" fill-rule=\"nonzero\" fill-opacity=\"1\" /><path clip-path=\"url(#clip470)\" d=\"M172.339 406.254 Q169.19 406.254 167.339 408.407 Q165.51 410.56 165.51 414.31 Q165.51 418.037 167.339 420.213 Q169.19 422.365 172.339 422.365 Q175.487 422.365 177.315 420.213 Q179.167 418.037 179.167 414.31 Q179.167 410.56 177.315 408.407 Q175.487 406.254 172.339 406.254 M181.621 391.602 L181.621 395.861 Q179.862 395.027 178.056 394.588 Q176.274 394.148 174.514 394.148 Q169.885 394.148 167.431 397.273 Q165.001 400.398 164.653 406.717 Q166.019 404.703 168.079 403.639 Q170.139 402.551 172.616 402.551 Q177.825 402.551 180.834 405.722 Q183.866 408.87 183.866 414.31 Q183.866 419.634 180.718 422.851 Q177.57 426.069 172.339 426.069 Q166.343 426.069 163.172 421.486 Q160.001 416.879 160.001 408.152 Q160.001 399.958 163.89 395.097 Q167.778 390.213 174.329 390.213 Q176.089 390.213 177.871 390.56 Q179.676 390.907 181.621 391.602 Z\" fill=\"#000000\" fill-rule=\"nonzero\" fill-opacity=\"1\" /><path clip-path=\"url(#clip470)\" d=\"M126.783 68.5428 Q123.172 68.5428 121.343 72.1076 Q119.538 75.6493 119.538 82.7789 Q119.538 89.8853 121.343 93.4501 Q123.172 96.9917 126.783 96.9917 Q130.417 96.9917 132.223 93.4501 Q134.052 89.8853 134.052 82.7789 Q134.052 75.6493 132.223 72.1076 Q130.417 68.5428 126.783 68.5428 M126.783 64.8391 Q132.593 64.8391 135.649 69.4456 Q138.728 74.0289 138.728 82.7789 Q138.728 91.5057 135.649 96.1121 Q132.593 100.695 126.783 100.695 Q120.973 100.695 117.894 96.1121 Q114.839 91.5057 114.839 82.7789 Q114.839 74.0289 117.894 69.4456 Q120.973 64.8391 126.783 64.8391 Z\" fill=\"#000000\" fill-rule=\"nonzero\" fill-opacity=\"1\" /><path clip-path=\"url(#clip470)\" d=\"M146.945 94.1445 L151.829 94.1445 L151.829 100.024 L146.945 100.024 L146.945 94.1445 Z\" fill=\"#000000\" fill-rule=\"nonzero\" fill-opacity=\"1\" /><path clip-path=\"url(#clip470)\" d=\"M172.014 83.6122 Q168.681 83.6122 166.76 85.3946 Q164.862 87.177 164.862 90.302 Q164.862 93.4269 166.76 95.2093 Q168.681 96.9917 172.014 96.9917 Q175.348 96.9917 177.269 95.2093 Q179.19 93.4038 179.19 90.302 Q179.19 87.177 177.269 85.3946 Q175.371 83.6122 172.014 83.6122 M167.339 81.6215 Q164.329 80.8807 162.64 78.8205 Q160.973 76.7604 160.973 73.7974 Q160.973 69.6539 163.913 67.2465 Q166.876 64.8391 172.014 64.8391 Q177.176 64.8391 180.116 67.2465 Q183.056 69.6539 183.056 73.7974 Q183.056 76.7604 181.366 78.8205 Q179.7 80.8807 176.714 81.6215 Q180.093 82.4085 181.968 84.7001 Q183.866 86.9918 183.866 90.302 Q183.866 95.3251 180.788 98.0103 Q177.732 100.695 172.014 100.695 Q166.297 100.695 163.218 98.0103 Q160.163 95.3251 160.163 90.302 Q160.163 86.9918 162.061 84.7001 Q163.959 82.4085 167.339 81.6215 M165.626 74.2372 Q165.626 76.9224 167.292 78.427 Q168.982 79.9316 172.014 79.9316 Q175.024 79.9316 176.714 78.427 Q178.426 76.9224 178.426 74.2372 Q178.426 71.5521 176.714 70.0474 Q175.024 68.5428 172.014 68.5428 Q168.982 68.5428 167.292 70.0474 Q165.626 71.5521 165.626 74.2372 Z\" fill=\"#000000\" fill-rule=\"nonzero\" fill-opacity=\"1\" /><path clip-path=\"url(#clip470)\" d=\"M58.657 788.97 L77.5631 788.97 L77.5631 794.859 L28.3562 794.859 L28.3562 788.97 L33.7671 788.97 Q30.5842 787.124 29.0564 784.323 Q27.4968 781.491 27.4968 777.576 Q27.4968 771.083 32.6531 767.041 Q37.8093 762.966 46.212 762.966 Q54.6147 762.966 59.771 767.041 Q64.9272 771.083 64.9272 777.576 Q64.9272 781.491 63.3994 784.323 Q61.8398 787.124 58.657 788.97 M46.212 769.046 Q39.7508 769.046 36.0905 771.719 Q32.3984 774.361 32.3984 779.008 Q32.3984 783.655 36.0905 786.329 Q39.7508 788.97 46.212 788.97 Q52.6732 788.97 56.3653 786.329 Q60.0256 783.655 60.0256 779.008 Q60.0256 774.361 56.3653 771.719 Q52.6732 769.046 46.212 769.046 Z\" fill=\"#000000\" fill-rule=\"nonzero\" fill-opacity=\"1\" /><path clip-path=\"url(#clip470)\" d=\"M14.5426 739.191 Q21.8632 743.456 29.0246 745.524 Q36.186 747.593 43.5384 747.593 Q50.8908 747.593 58.1159 745.524 Q65.3091 743.424 72.5979 739.191 L72.5979 744.283 Q65.1182 749.057 57.8931 751.445 Q50.668 753.8 43.5384 753.8 Q36.4406 753.8 29.2474 751.445 Q22.0542 749.089 14.5426 744.283 L14.5426 739.191 Z\" fill=\"#000000\" fill-rule=\"nonzero\" fill-opacity=\"1\" /><path clip-path=\"url(#clip470)\" d=\"M28.3562 698.195 L45.7028 711.086 L64.0042 697.527 L64.0042 704.434 L49.9996 714.81 L64.0042 725.186 L64.0042 732.093 L45.3526 718.247 L28.3562 730.915 L28.3562 724.008 L41.0558 714.555 L28.3562 705.102 L28.3562 698.195 Z\" fill=\"#000000\" fill-rule=\"nonzero\" fill-opacity=\"1\" /><path clip-path=\"url(#clip470)\" d=\"M14.5426 690.175 L14.5426 685.082 Q22.0542 680.308 29.2474 677.952 Q36.4406 675.565 43.5384 675.565 Q50.668 675.565 57.8931 677.952 Q65.1182 680.308 72.5979 685.082 L72.5979 690.175 Q65.3091 685.941 58.1159 683.873 Q50.8908 681.772 43.5384 681.772 Q36.186 681.772 29.0246 683.873 Q21.8632 685.941 14.5426 690.175 Z\" fill=\"#000000\" fill-rule=\"nonzero\" fill-opacity=\"1\" /><polyline clip-path=\"url(#clip472)\" style=\"stroke:#ff0000; stroke-linecap:round; stroke-linejoin:round; stroke-width:20; stroke-opacity:1; fill:none\" stroke-dasharray=\"80, 50\" points=\"280.231,1384.24 286.938,1384.24 293.645,1384.24 300.353,1384.24 307.06,1384.24 313.767,1384.24 320.474,1384.24 327.181,1384.24 333.889,1384.24 340.596,1384.24 347.303,1384.24 354.01,1384.24 360.717,1384.24 367.425,1384.24 374.132,1384.24 380.839,1384.24 387.546,1384.24 394.253,1384.24 400.961,1384.24 407.668,1384.24 414.375,1384.24 421.082,1384.24 427.789,1384.24 434.497,1384.24 441.204,1384.24 447.911,1384.24 454.618,1384.24 461.325,1384.24 468.033,1384.24 474.74,1384.24 481.447,1384.24 488.154,1384.24 494.861,1384.24 501.569,1384.24 508.276,1384.24 514.983,1384.24 521.69,1384.24 528.397,1384.24 535.105,1384.24 541.812,1384.24 548.519,1384.24 555.226,1384.24 561.933,1384.24 568.641,1384.24 575.348,1384.24 582.055,1384.24 588.762,1384.24 595.469,1384.24 602.177,1384.24 608.884,1384.24 615.591,1384.24 622.298,1384.24 629.005,1384.24 635.713,1384.24 642.42,1384.24 649.127,1384.24 655.834,1384.24 662.541,1384.24 669.249,1384.24 675.956,1384.24 682.663,1384.24 689.37,1384.24 696.077,1384.24 702.785,1384.24 709.492,1384.24 716.199,1384.24 722.906,1384.24 729.613,1384.24 736.321,1384.24 743.028,1384.24 749.735,1384.24 756.442,1384.24 763.149,1384.24 769.857,1384.24 776.564,1384.23 783.271,1384.23 789.978,1384.23 796.685,1384.23 803.393,1384.23 810.1,1384.23 816.807,1384.23 823.514,1384.22 830.221,1384.22 836.929,1384.22 843.636,1384.21 850.343,1384.21 857.05,1384.2 863.757,1384.19 870.465,1384.18 877.172,1384.17 883.879,1384.16 890.586,1384.14 897.293,1384.12 904.001,1384.1 910.708,1384.08 917.415,1384.05 924.122,1384.01 930.829,1383.97 937.537,1383.92 944.244,1383.87 950.951,1383.8 957.658,1383.73 964.365,1383.64 971.073,1383.54 977.78,1383.42 984.487,1383.29 991.194,1383.13 997.901,1382.95 1004.61,1382.75 1011.32,1382.52 1018.02,1382.25 1024.73,1381.94 1031.44,1381.59 1038.14,1381.19 1044.85,1380.74 1051.56,1380.23 1058.27,1379.65 1064.97,1378.99 1071.68,1378.25 1078.39,1377.42 1085.1,1376.48 1091.8,1375.43 1098.51,1374.25 1105.22,1372.93 1111.92,1371.46 1118.63,1369.82 1125.34,1367.99 1132.05,1365.97 1138.75,1363.72 1145.46,1361.23 1152.17,1358.48 1158.87,1355.45 1165.58,1352.12 1172.29,1348.46 1179,1344.44 1185.7,1340.04 1192.41,1335.24 1199.12,1330 1205.82,1324.29 1212.53,1318.1 1219.24,1311.37 1225.95,1304.09 1232.65,1296.23 1239.36,1287.75 1246.07,1278.62 1252.78,1268.81 1259.48,1258.3 1266.19,1247.04 1272.9,1235.02 1279.6,1222.2 1286.31,1208.57 1293.02,1194.09 1299.73,1178.74 1306.43,1162.52 1313.14,1145.39 1319.85,1127.36 1326.55,1108.4 1333.26,1088.52 1339.97,1067.71 1346.68,1045.98 1353.38,1023.33 1360.09,999.786 1366.8,975.359 1373.5,950.075 1380.21,923.965 1386.92,897.065 1393.63,869.417 1400.33,841.069 1407.04,812.077 1413.75,782.501 1420.46,752.408 1427.16,721.871 1433.87,690.968 1440.58,659.783 1447.28,628.405 1453.99,596.93 1460.7,565.454 1467.41,534.082 1474.11,502.919 1480.82,472.074 1487.53,441.659 1494.23,411.787 1500.94,382.572 1507.65,354.129 1514.36,326.572 1521.06,300.014 1527.77,274.566 1534.48,250.336 1541.18,227.43 1547.89,205.947 1554.6,185.985 1561.31,167.632 1568.01,150.973 1574.72,136.085 1581.43,123.036 1588.14,111.889 1594.84,102.695 1601.55,95.4981 1608.26,90.3328 1614.96,87.2237 1621.67,86.1857 1628.38,87.2237 1635.09,90.3328 1641.79,95.4981 1648.5,102.695 1655.21,111.889 1661.91,123.036 1668.62,136.085 1675.33,150.973 1682.04,167.632 1688.74,185.985 1695.45,205.947 1702.16,227.43 1708.86,250.336 1715.57,274.566 1722.28,300.014 1728.99,326.572 1735.69,354.129 1742.4,382.572 1749.11,411.787 1755.82,441.659 1762.52,472.074 1769.23,502.919 1775.94,534.082 1782.64,565.454 1789.35,596.93 1796.06,628.405 1802.77,659.783 1809.47,690.968 1816.18,721.871 1822.89,752.408 1829.59,782.501 1836.3,812.077 1843.01,841.069 1849.72,869.417 1856.42,897.065 1863.13,923.965 1869.84,950.075 1876.54,975.359 1883.25,999.786 1889.96,1023.33 1896.67,1045.98 1903.37,1067.71 1910.08,1088.52 1916.79,1108.4 1923.5,1127.36 1930.2,1145.39 1936.91,1162.52 1943.62,1178.74 1950.32,1194.09 1957.03,1208.57 1963.74,1222.2 1970.45,1235.02 1977.15,1247.04 1983.86,1258.3 1990.57,1268.81 1997.27,1278.62 2003.98,1287.75 2010.69,1296.23 2017.4,1304.09 2024.1,1311.37 2030.81,1318.1 2037.52,1324.29 2044.22,1330 2050.93,1335.24 2057.64,1340.04 2064.35,1344.44 2071.05,1348.46 2077.76,1352.12 2084.47,1355.45 2091.18,1358.48 2097.88,1361.23 2104.59,1363.72 2111.3,1365.97 2118,1367.99 2124.71,1369.82 2131.42,1371.46 2138.13,1372.93 2144.83,1374.25 2151.54,1375.43 2158.25,1376.48 2164.95,1377.42 2171.66,1378.25 2178.37,1378.99 2185.08,1379.65 2191.78,1380.23 2198.49,1380.74 2205.2,1381.19 2211.9,1381.59 2218.61,1381.94 2225.32,1382.25 2232.03,1382.52 2238.73,1382.75 2245.44,1382.95 2252.15,1383.13 2258.86,1383.29 2265.56,1383.42 2272.27,1383.54 2278.98,1383.64 2285.68,1383.73 2292.39,1383.8 \"/>\n",
       "<path clip-path=\"url(#clip470)\" d=\"M1994.9 196.789 L2281.66 196.789 L2281.66 93.1086 L1994.9 93.1086  Z\" fill=\"#ffffff\" fill-rule=\"evenodd\" fill-opacity=\"1\"/>\n",
       "<polyline clip-path=\"url(#clip470)\" style=\"stroke:#000000; stroke-linecap:round; stroke-linejoin:round; stroke-width:4; stroke-opacity:1; fill:none\" points=\"1994.9,196.789 2281.66,196.789 2281.66,93.1086 1994.9,93.1086 1994.9,196.789 \"/>\n",
       "<polyline clip-path=\"url(#clip470)\" style=\"stroke:#ff0000; stroke-linecap:round; stroke-linejoin:round; stroke-width:20; stroke-opacity:1; fill:none\" stroke-dasharray=\"80, 50\" points=\"2018.6,144.949 2160.79,144.949 \"/>\n",
       "<path clip-path=\"url(#clip470)\" d=\"M2188.77 158.34 L2188.77 172.09 L2184.49 172.09 L2184.49 136.303 L2188.77 136.303 L2188.77 140.238 Q2190.11 137.923 2192.15 136.812 Q2194.21 135.678 2197.06 135.678 Q2201.78 135.678 2204.72 139.428 Q2207.68 143.178 2207.68 149.289 Q2207.68 155.4 2204.72 159.15 Q2201.78 162.9 2197.06 162.9 Q2194.21 162.9 2192.15 161.789 Q2190.11 160.655 2188.77 158.34 M2203.26 149.289 Q2203.26 144.59 2201.32 141.928 Q2199.4 139.243 2196.02 139.243 Q2192.64 139.243 2190.69 141.928 Q2188.77 144.59 2188.77 149.289 Q2188.77 153.988 2190.69 156.673 Q2192.64 159.335 2196.02 159.335 Q2199.4 159.335 2201.32 156.673 Q2203.26 153.988 2203.26 149.289 Z\" fill=\"#000000\" fill-rule=\"nonzero\" fill-opacity=\"1\" /><path clip-path=\"url(#clip470)\" d=\"M2231.8 140.238 L2231.8 126.21 L2236.06 126.21 L2236.06 162.229 L2231.8 162.229 L2231.8 158.34 Q2230.46 160.655 2228.4 161.789 Q2226.36 162.9 2223.49 162.9 Q2218.79 162.9 2215.83 159.15 Q2212.89 155.4 2212.89 149.289 Q2212.89 143.178 2215.83 139.428 Q2218.79 135.678 2223.49 135.678 Q2226.36 135.678 2228.4 136.812 Q2230.46 137.923 2231.8 140.238 M2217.29 149.289 Q2217.29 153.988 2219.21 156.673 Q2221.16 159.335 2224.54 159.335 Q2227.91 159.335 2229.86 156.673 Q2231.8 153.988 2231.8 149.289 Q2231.8 144.59 2229.86 141.928 Q2227.91 139.243 2224.54 139.243 Q2221.16 139.243 2219.21 141.928 Q2217.29 144.59 2217.29 149.289 Z\" fill=\"#000000\" fill-rule=\"nonzero\" fill-opacity=\"1\" /><path clip-path=\"url(#clip470)\" d=\"M2257.96 126.21 L2257.96 129.752 L2253.89 129.752 Q2251.6 129.752 2250.69 130.678 Q2249.81 131.604 2249.81 134.011 L2249.81 136.303 L2256.83 136.303 L2256.83 139.613 L2249.81 139.613 L2249.81 162.229 L2245.53 162.229 L2245.53 139.613 L2241.46 139.613 L2241.46 136.303 L2245.53 136.303 L2245.53 134.497 Q2245.53 130.169 2247.54 128.201 Q2249.56 126.21 2253.93 126.21 L2257.96 126.21 Z\" fill=\"#000000\" fill-rule=\"nonzero\" fill-opacity=\"1\" /></svg>\n"
      ]
     },
     "metadata": {},
     "output_type": "display_data"
    }
   ],
   "source": [
    "using Plots\n",
    "\n",
    "x = range(-3, stop=3, length=301)\n",
    "plot(x, pdf.(px, x), xlabel=\"x\", ylabel=\"p(x)\", label=\"pdf\", color=\"red\", linewidth=5, linestyle=:dash)"
   ]
  },
  {
   "cell_type": "markdown",
   "metadata": {},
   "source": [
    "`plot` and `scatter` are the most useful commands. A `scatter` command will ignore properties such as `linewidth` and `linestyle` (since there are no lines) and will listen to `markersize` and `markershape` commands (see [Supported Attributes](https://docs.juliaplots.org/stable/generated/supported/) in the API)."
   ]
  },
  {
   "cell_type": "code",
   "execution_count": 32,
   "metadata": {},
   "outputs": [
    {
     "data": {
      "image/png": "[encoded data removed]",
      "image/svg+xml": [
       "<?xml version=\"1.0\" encoding=\"utf-8\"?>\n",
       "<svg xmlns=\"http://www.w3.org/2000/svg\" xmlns:xlink=\"http://www.w3.org/1999/xlink\" width=\"600\" height=\"400\" viewBox=\"0 0 2400 1600\">\n",
       "<defs>\n",
       "  <clipPath id=\"clip510\">\n",
       "    <rect x=\"0\" y=\"0\" width=\"2400\" height=\"1600\"/>\n",
       "  </clipPath>\n",
       "</defs>\n",
       "<path clip-path=\"url(#clip510)\" d=\"M0 1600 L2400 1600 L2400 0 L0 0  Z\" fill=\"#ffffff\" fill-rule=\"evenodd\" fill-opacity=\"1\"/>\n",
       "<defs>\n",
       "  <clipPath id=\"clip511\">\n",
       "    <rect x=\"480\" y=\"0\" width=\"1681\" height=\"1600\"/>\n",
       "  </clipPath>\n",
       "</defs>\n",
       "<path clip-path=\"url(#clip510)\" d=\"M210.746 1423.18 L2352.76 1423.18 L2352.76 47.2441 L210.746 47.2441  Z\" fill=\"#ffffff\" fill-rule=\"evenodd\" fill-opacity=\"1\"/>\n",
       "<defs>\n",
       "  <clipPath id=\"clip512\">\n",
       "    <rect x=\"210\" y=\"47\" width=\"2143\" height=\"1377\"/>\n",
       "  </clipPath>\n",
       "</defs>\n",
       "<polyline clip-path=\"url(#clip512)\" style=\"stroke:#000000; stroke-linecap:round; stroke-linejoin:round; stroke-width:2; stroke-opacity:0.1; fill:none\" points=\"530.156,1423.18 530.156,47.2441 \"/>\n",
       "<polyline clip-path=\"url(#clip512)\" style=\"stroke:#000000; stroke-linecap:round; stroke-linejoin:round; stroke-width:2; stroke-opacity:0.1; fill:none\" points=\"1009.65,1423.18 1009.65,47.2441 \"/>\n",
       "<polyline clip-path=\"url(#clip512)\" style=\"stroke:#000000; stroke-linecap:round; stroke-linejoin:round; stroke-width:2; stroke-opacity:0.1; fill:none\" points=\"1489.14,1423.18 1489.14,47.2441 \"/>\n",
       "<polyline clip-path=\"url(#clip512)\" style=\"stroke:#000000; stroke-linecap:round; stroke-linejoin:round; stroke-width:2; stroke-opacity:0.1; fill:none\" points=\"1968.63,1423.18 1968.63,47.2441 \"/>\n",
       "<polyline clip-path=\"url(#clip512)\" style=\"stroke:#000000; stroke-linecap:round; stroke-linejoin:round; stroke-width:2; stroke-opacity:0.1; fill:none\" points=\"210.746,1248.99 2352.76,1248.99 \"/>\n",
       "<polyline clip-path=\"url(#clip512)\" style=\"stroke:#000000; stroke-linecap:round; stroke-linejoin:round; stroke-width:2; stroke-opacity:0.1; fill:none\" points=\"210.746,884.03 2352.76,884.03 \"/>\n",
       "<polyline clip-path=\"url(#clip512)\" style=\"stroke:#000000; stroke-linecap:round; stroke-linejoin:round; stroke-width:2; stroke-opacity:0.1; fill:none\" points=\"210.746,519.068 2352.76,519.068 \"/>\n",
       "<polyline clip-path=\"url(#clip512)\" style=\"stroke:#000000; stroke-linecap:round; stroke-linejoin:round; stroke-width:2; stroke-opacity:0.1; fill:none\" points=\"210.746,154.107 2352.76,154.107 \"/>\n",
       "<polyline clip-path=\"url(#clip510)\" style=\"stroke:#000000; stroke-linecap:round; stroke-linejoin:round; stroke-width:4; stroke-opacity:1; fill:none\" points=\"210.746,1423.18 2352.76,1423.18 \"/>\n",
       "<polyline clip-path=\"url(#clip510)\" style=\"stroke:#000000; stroke-linecap:round; stroke-linejoin:round; stroke-width:4; stroke-opacity:1; fill:none\" points=\"530.156,1423.18 530.156,1404.28 \"/>\n",
       "<polyline clip-path=\"url(#clip510)\" style=\"stroke:#000000; stroke-linecap:round; stroke-linejoin:round; stroke-width:4; stroke-opacity:1; fill:none\" points=\"1009.65,1423.18 1009.65,1404.28 \"/>\n",
       "<polyline clip-path=\"url(#clip510)\" style=\"stroke:#000000; stroke-linecap:round; stroke-linejoin:round; stroke-width:4; stroke-opacity:1; fill:none\" points=\"1489.14,1423.18 1489.14,1404.28 \"/>\n",
       "<polyline clip-path=\"url(#clip510)\" style=\"stroke:#000000; stroke-linecap:round; stroke-linejoin:round; stroke-width:4; stroke-opacity:1; fill:none\" points=\"1968.63,1423.18 1968.63,1404.28 \"/>\n",
       "<path clip-path=\"url(#clip510)\" d=\"M477.182 1468.75 L506.857 1468.75 L506.857 1472.69 L477.182 1472.69 L477.182 1468.75 Z\" fill=\"#000000\" fill-rule=\"nonzero\" fill-opacity=\"1\" /><path clip-path=\"url(#clip510)\" d=\"M526.95 1454.1 Q523.339 1454.1 521.51 1457.66 Q519.704 1461.2 519.704 1468.33 Q519.704 1475.44 521.51 1479.01 Q523.339 1482.55 526.95 1482.55 Q530.584 1482.55 532.39 1479.01 Q534.218 1475.44 534.218 1468.33 Q534.218 1461.2 532.39 1457.66 Q530.584 1454.1 526.95 1454.1 M526.95 1450.39 Q532.76 1450.39 535.816 1455 Q538.894 1459.58 538.894 1468.33 Q538.894 1477.06 535.816 1481.67 Q532.76 1486.25 526.95 1486.25 Q521.14 1486.25 518.061 1481.67 Q515.005 1477.06 515.005 1468.33 Q515.005 1459.58 518.061 1455 Q521.14 1450.39 526.95 1450.39 Z\" fill=\"#000000\" fill-rule=\"nonzero\" fill-opacity=\"1\" /><path clip-path=\"url(#clip510)\" d=\"M547.112 1479.7 L551.996 1479.7 L551.996 1485.58 L547.112 1485.58 L547.112 1479.7 Z\" fill=\"#000000\" fill-rule=\"nonzero\" fill-opacity=\"1\" /><path clip-path=\"url(#clip510)\" d=\"M562.227 1451.02 L580.584 1451.02 L580.584 1454.96 L566.51 1454.96 L566.51 1463.43 Q567.528 1463.08 568.547 1462.92 Q569.565 1462.73 570.584 1462.73 Q576.371 1462.73 579.75 1465.9 Q583.13 1469.08 583.13 1474.49 Q583.13 1480.07 579.658 1483.17 Q576.186 1486.25 569.866 1486.25 Q567.69 1486.25 565.422 1485.88 Q563.176 1485.51 560.769 1484.77 L560.769 1480.07 Q562.852 1481.2 565.075 1481.76 Q567.297 1482.32 569.774 1482.32 Q573.778 1482.32 576.116 1480.21 Q578.454 1478.1 578.454 1474.49 Q578.454 1470.88 576.116 1468.77 Q573.778 1466.67 569.774 1466.67 Q567.899 1466.67 566.024 1467.08 Q564.172 1467.5 562.227 1468.38 L562.227 1451.02 Z\" fill=\"#000000\" fill-rule=\"nonzero\" fill-opacity=\"1\" /><path clip-path=\"url(#clip510)\" d=\"M987.032 1454.1 Q983.421 1454.1 981.593 1457.66 Q979.787 1461.2 979.787 1468.33 Q979.787 1475.44 981.593 1479.01 Q983.421 1482.55 987.032 1482.55 Q990.667 1482.55 992.472 1479.01 Q994.301 1475.44 994.301 1468.33 Q994.301 1461.2 992.472 1457.66 Q990.667 1454.1 987.032 1454.1 M987.032 1450.39 Q992.843 1450.39 995.898 1455 Q998.977 1459.58 998.977 1468.33 Q998.977 1477.06 995.898 1481.67 Q992.843 1486.25 987.032 1486.25 Q981.222 1486.25 978.144 1481.67 Q975.088 1477.06 975.088 1468.33 Q975.088 1459.58 978.144 1455 Q981.222 1450.39 987.032 1450.39 Z\" fill=\"#000000\" fill-rule=\"nonzero\" fill-opacity=\"1\" /><path clip-path=\"url(#clip510)\" d=\"M1007.19 1479.7 L1012.08 1479.7 L1012.08 1485.58 L1007.19 1485.58 L1007.19 1479.7 Z\" fill=\"#000000\" fill-rule=\"nonzero\" fill-opacity=\"1\" /><path clip-path=\"url(#clip510)\" d=\"M1032.26 1454.1 Q1028.65 1454.1 1026.82 1457.66 Q1025.02 1461.2 1025.02 1468.33 Q1025.02 1475.44 1026.82 1479.01 Q1028.65 1482.55 1032.26 1482.55 Q1035.9 1482.55 1037.7 1479.01 Q1039.53 1475.44 1039.53 1468.33 Q1039.53 1461.2 1037.7 1457.66 Q1035.9 1454.1 1032.26 1454.1 M1032.26 1450.39 Q1038.07 1450.39 1041.13 1455 Q1044.21 1459.58 1044.21 1468.33 Q1044.21 1477.06 1041.13 1481.67 Q1038.07 1486.25 1032.26 1486.25 Q1026.45 1486.25 1023.37 1481.67 Q1020.32 1477.06 1020.32 1468.33 Q1020.32 1459.58 1023.37 1455 Q1026.45 1450.39 1032.26 1450.39 Z\" fill=\"#000000\" fill-rule=\"nonzero\" fill-opacity=\"1\" /><path clip-path=\"url(#clip510)\" d=\"M1467.02 1454.1 Q1463.41 1454.1 1461.58 1457.66 Q1459.78 1461.2 1459.78 1468.33 Q1459.78 1475.44 1461.58 1479.01 Q1463.41 1482.55 1467.02 1482.55 Q1470.66 1482.55 1472.46 1479.01 Q1474.29 1475.44 1474.29 1468.33 Q1474.29 1461.2 1472.46 1457.66 Q1470.66 1454.1 1467.02 1454.1 M1467.02 1450.39 Q1472.83 1450.39 1475.89 1455 Q1478.97 1459.58 1478.97 1468.33 Q1478.97 1477.06 1475.89 1481.67 Q1472.83 1486.25 1467.02 1486.25 Q1461.21 1486.25 1458.13 1481.67 Q1455.08 1477.06 1455.08 1468.33 Q1455.08 1459.58 1458.13 1455 Q1461.21 1450.39 1467.02 1450.39 Z\" fill=\"#000000\" fill-rule=\"nonzero\" fill-opacity=\"1\" /><path clip-path=\"url(#clip510)\" d=\"M1487.18 1479.7 L1492.07 1479.7 L1492.07 1485.58 L1487.18 1485.58 L1487.18 1479.7 Z\" fill=\"#000000\" fill-rule=\"nonzero\" fill-opacity=\"1\" /><path clip-path=\"url(#clip510)\" d=\"M1502.3 1451.02 L1520.66 1451.02 L1520.66 1454.96 L1506.58 1454.96 L1506.58 1463.43 Q1507.6 1463.08 1508.62 1462.92 Q1509.64 1462.73 1510.66 1462.73 Q1516.44 1462.73 1519.82 1465.9 Q1523.2 1469.08 1523.2 1474.49 Q1523.2 1480.07 1519.73 1483.17 Q1516.26 1486.25 1509.94 1486.25 Q1507.76 1486.25 1505.49 1485.88 Q1503.25 1485.51 1500.84 1484.77 L1500.84 1480.07 Q1502.92 1481.2 1505.15 1481.76 Q1507.37 1482.32 1509.85 1482.32 Q1513.85 1482.32 1516.19 1480.21 Q1518.53 1478.1 1518.53 1474.49 Q1518.53 1470.88 1516.19 1468.77 Q1513.85 1466.67 1509.85 1466.67 Q1507.97 1466.67 1506.1 1467.08 Q1504.24 1467.5 1502.3 1468.38 L1502.3 1451.02 Z\" fill=\"#000000\" fill-rule=\"nonzero\" fill-opacity=\"1\" /><path clip-path=\"url(#clip510)\" d=\"M1935.79 1481.64 L1943.42 1481.64 L1943.42 1455.28 L1935.11 1456.95 L1935.11 1452.69 L1943.38 1451.02 L1948.05 1451.02 L1948.05 1481.64 L1955.69 1481.64 L1955.69 1485.58 L1935.79 1485.58 L1935.79 1481.64 Z\" fill=\"#000000\" fill-rule=\"nonzero\" fill-opacity=\"1\" /><path clip-path=\"url(#clip510)\" d=\"M1965.14 1479.7 L1970.02 1479.7 L1970.02 1485.58 L1965.14 1485.58 L1965.14 1479.7 Z\" fill=\"#000000\" fill-rule=\"nonzero\" fill-opacity=\"1\" /><path clip-path=\"url(#clip510)\" d=\"M1990.21 1454.1 Q1986.6 1454.1 1984.77 1457.66 Q1982.96 1461.2 1982.96 1468.33 Q1982.96 1475.44 1984.77 1479.01 Q1986.6 1482.55 1990.21 1482.55 Q1993.84 1482.55 1995.65 1479.01 Q1997.47 1475.44 1997.47 1468.33 Q1997.47 1461.2 1995.65 1457.66 Q1993.84 1454.1 1990.21 1454.1 M1990.21 1450.39 Q1996.02 1450.39 1999.07 1455 Q2002.15 1459.58 2002.15 1468.33 Q2002.15 1477.06 1999.07 1481.67 Q1996.02 1486.25 1990.21 1486.25 Q1984.4 1486.25 1981.32 1481.67 Q1978.26 1477.06 1978.26 1468.33 Q1978.26 1459.58 1981.32 1455 Q1984.4 1450.39 1990.21 1450.39 Z\" fill=\"#000000\" fill-rule=\"nonzero\" fill-opacity=\"1\" /><path clip-path=\"url(#clip510)\" d=\"M1228.53 1520.52 L1235.44 1520.52 L1247.25 1538.19 L1259.12 1520.52 L1266.03 1520.52 L1250.75 1543.34 L1267.05 1568.04 L1260.14 1568.04 L1246.77 1547.83 L1233.31 1568.04 L1226.37 1568.04 L1243.33 1542.68 L1228.53 1520.52 Z\" fill=\"#000000\" fill-rule=\"nonzero\" fill-opacity=\"1\" /><path clip-path=\"url(#clip510)\" d=\"M1302.31 1578.87 L1302.31 1583.42 L1268.45 1583.42 L1268.45 1578.87 L1302.31 1578.87 Z\" fill=\"#000000\" fill-rule=\"nonzero\" fill-opacity=\"1\" /><path clip-path=\"url(#clip510)\" d=\"M1309.76 1562.63 L1320.26 1562.63 L1320.26 1526.38 L1308.84 1528.67 L1308.84 1522.82 L1320.2 1520.52 L1326.63 1520.52 L1326.63 1562.63 L1337.13 1562.63 L1337.13 1568.04 L1309.76 1568.04 L1309.76 1562.63 Z\" fill=\"#000000\" fill-rule=\"nonzero\" fill-opacity=\"1\" /><polyline clip-path=\"url(#clip510)\" style=\"stroke:#000000; stroke-linecap:round; stroke-linejoin:round; stroke-width:4; stroke-opacity:1; fill:none\" points=\"210.746,1423.18 210.746,47.2441 \"/>\n",
       "<polyline clip-path=\"url(#clip510)\" style=\"stroke:#000000; stroke-linecap:round; stroke-linejoin:round; stroke-width:4; stroke-opacity:1; fill:none\" points=\"210.746,1248.99 229.644,1248.99 \"/>\n",
       "<polyline clip-path=\"url(#clip510)\" style=\"stroke:#000000; stroke-linecap:round; stroke-linejoin:round; stroke-width:4; stroke-opacity:1; fill:none\" points=\"210.746,884.03 229.644,884.03 \"/>\n",
       "<polyline clip-path=\"url(#clip510)\" style=\"stroke:#000000; stroke-linecap:round; stroke-linejoin:round; stroke-width:4; stroke-opacity:1; fill:none\" points=\"210.746,519.068 229.644,519.068 \"/>\n",
       "<polyline clip-path=\"url(#clip510)\" style=\"stroke:#000000; stroke-linecap:round; stroke-linejoin:round; stroke-width:4; stroke-opacity:1; fill:none\" points=\"210.746,154.107 229.644,154.107 \"/>\n",
       "<path clip-path=\"url(#clip510)\" d=\"M114.631 1249.44 L144.306 1249.44 L144.306 1253.38 L114.631 1253.38 L114.631 1249.44 Z\" fill=\"#000000\" fill-rule=\"nonzero\" fill-opacity=\"1\" /><path clip-path=\"url(#clip510)\" d=\"M158.427 1262.34 L174.746 1262.34 L174.746 1266.27 L152.802 1266.27 L152.802 1262.34 Q155.464 1259.58 160.047 1254.95 Q164.653 1250.3 165.834 1248.96 Q168.079 1246.43 168.959 1244.7 Q169.862 1242.94 169.862 1241.25 Q169.862 1238.49 167.917 1236.76 Q165.996 1235.02 162.894 1235.02 Q160.695 1235.02 158.241 1235.79 Q155.811 1236.55 153.033 1238.1 L153.033 1233.38 Q155.857 1232.24 158.311 1231.66 Q160.765 1231.09 162.802 1231.09 Q168.172 1231.09 171.366 1233.77 Q174.561 1236.46 174.561 1240.95 Q174.561 1243.08 173.751 1245 Q172.964 1246.9 170.857 1249.49 Q170.278 1250.16 167.177 1253.38 Q164.075 1256.57 158.427 1262.34 Z\" fill=\"#000000\" fill-rule=\"nonzero\" fill-opacity=\"1\" /><path clip-path=\"url(#clip510)\" d=\"M114.26 884.481 L143.936 884.481 L143.936 888.416 L114.26 888.416 L114.26 884.481 Z\" fill=\"#000000\" fill-rule=\"nonzero\" fill-opacity=\"1\" /><path clip-path=\"url(#clip510)\" d=\"M154.839 897.375 L162.477 897.375 L162.477 871.009 L154.167 872.676 L154.167 868.416 L162.431 866.75 L167.107 866.75 L167.107 897.375 L174.746 897.375 L174.746 901.31 L154.839 901.31 L154.839 897.375 Z\" fill=\"#000000\" fill-rule=\"nonzero\" fill-opacity=\"1\" /><path clip-path=\"url(#clip510)\" d=\"M162.802 504.867 Q159.19 504.867 157.362 508.432 Q155.556 511.973 155.556 519.103 Q155.556 526.209 157.362 529.774 Q159.19 533.316 162.802 533.316 Q166.436 533.316 168.241 529.774 Q170.07 526.209 170.07 519.103 Q170.07 511.973 168.241 508.432 Q166.436 504.867 162.802 504.867 M162.802 501.163 Q168.612 501.163 171.667 505.77 Q174.746 510.353 174.746 519.103 Q174.746 527.83 171.667 532.436 Q168.612 537.02 162.802 537.02 Q156.991 537.02 153.913 532.436 Q150.857 527.83 150.857 519.103 Q150.857 510.353 153.913 505.77 Q156.991 501.163 162.802 501.163 Z\" fill=\"#000000\" fill-rule=\"nonzero\" fill-opacity=\"1\" /><path clip-path=\"url(#clip510)\" d=\"M154.839 167.452 L162.477 167.452 L162.477 141.086 L154.167 142.753 L154.167 138.494 L162.431 136.827 L167.107 136.827 L167.107 167.452 L174.746 167.452 L174.746 171.387 L154.839 171.387 L154.839 167.452 Z\" fill=\"#000000\" fill-rule=\"nonzero\" fill-opacity=\"1\" /><path clip-path=\"url(#clip510)\" d=\"M16.4842 788.175 L16.4842 781.268 L34.149 769.459 L16.4842 757.587 L16.4842 750.681 L39.3052 765.958 L64.0042 749.662 L64.0042 756.569 L43.793 769.937 L64.0042 783.4 L64.0042 790.339 L38.6368 773.374 L16.4842 788.175 Z\" fill=\"#000000\" fill-rule=\"nonzero\" fill-opacity=\"1\" /><path clip-path=\"url(#clip510)\" d=\"M74.8259 714.396 L79.3773 714.396 L79.3773 748.262 L74.8259 748.262 L74.8259 714.396 Z\" fill=\"#000000\" fill-rule=\"nonzero\" fill-opacity=\"1\" /><path clip-path=\"url(#clip510)\" d=\"M58.5933 702.524 L58.5933 680.085 L64.0042 680.085 L64.0042 710.258 L58.5933 710.258 Q54.8057 706.598 48.44 700.296 Q42.0425 693.962 40.1964 692.339 Q36.7271 689.252 34.34 688.042 Q31.921 686.801 29.5975 686.801 Q25.8099 686.801 23.4228 689.474 Q21.0356 692.116 21.0356 696.381 Q21.0356 699.405 22.086 702.779 Q23.1363 706.121 25.2688 709.94 L18.7758 709.94 Q17.2162 706.057 16.4205 702.683 Q15.6248 699.309 15.6248 696.508 Q15.6248 689.124 19.3169 684.732 Q23.009 680.34 29.1837 680.34 Q32.112 680.34 34.7537 681.454 Q37.3637 682.536 40.9285 685.432 Q41.8515 686.228 46.2757 690.493 Q50.668 694.758 58.5933 702.524 Z\" fill=\"#000000\" fill-rule=\"nonzero\" fill-opacity=\"1\" /><line clip-path=\"url(#clip512)\" x1=\"271.369\" y1=\"416.149\" x2=\"271.369\" y2=\"376.149\" style=\"stroke:#009af9; stroke-width:3.2; stroke-opacity:1\"/>\n",
       "<line clip-path=\"url(#clip512)\" x1=\"271.369\" y1=\"416.149\" x2=\"231.369\" y2=\"416.149\" style=\"stroke:#009af9; stroke-width:3.2; stroke-opacity:1\"/>\n",
       "<line clip-path=\"url(#clip512)\" x1=\"271.369\" y1=\"416.149\" x2=\"271.369\" y2=\"456.149\" style=\"stroke:#009af9; stroke-width:3.2; stroke-opacity:1\"/>\n",
       "<line clip-path=\"url(#clip512)\" x1=\"271.369\" y1=\"416.149\" x2=\"311.369\" y2=\"416.149\" style=\"stroke:#009af9; stroke-width:3.2; stroke-opacity:1\"/>\n",
       "<line clip-path=\"url(#clip512)\" x1=\"589.886\" y1=\"86.1857\" x2=\"589.886\" y2=\"46.1857\" style=\"stroke:#009af9; stroke-width:3.2; stroke-opacity:1\"/>\n",
       "<line clip-path=\"url(#clip512)\" x1=\"589.886\" y1=\"86.1857\" x2=\"549.886\" y2=\"86.1857\" style=\"stroke:#009af9; stroke-width:3.2; stroke-opacity:1\"/>\n",
       "<line clip-path=\"url(#clip512)\" x1=\"589.886\" y1=\"86.1857\" x2=\"589.886\" y2=\"126.186\" style=\"stroke:#009af9; stroke-width:3.2; stroke-opacity:1\"/>\n",
       "<line clip-path=\"url(#clip512)\" x1=\"589.886\" y1=\"86.1857\" x2=\"629.886\" y2=\"86.1857\" style=\"stroke:#009af9; stroke-width:3.2; stroke-opacity:1\"/>\n",
       "<line clip-path=\"url(#clip512)\" x1=\"1860.3\" y1=\"834.07\" x2=\"1860.3\" y2=\"794.07\" style=\"stroke:#009af9; stroke-width:3.2; stroke-opacity:1\"/>\n",
       "<line clip-path=\"url(#clip512)\" x1=\"1860.3\" y1=\"834.07\" x2=\"1820.3\" y2=\"834.07\" style=\"stroke:#009af9; stroke-width:3.2; stroke-opacity:1\"/>\n",
       "<line clip-path=\"url(#clip512)\" x1=\"1860.3\" y1=\"834.07\" x2=\"1860.3\" y2=\"874.07\" style=\"stroke:#009af9; stroke-width:3.2; stroke-opacity:1\"/>\n",
       "<line clip-path=\"url(#clip512)\" x1=\"1860.3\" y1=\"834.07\" x2=\"1900.3\" y2=\"834.07\" style=\"stroke:#009af9; stroke-width:3.2; stroke-opacity:1\"/>\n",
       "<line clip-path=\"url(#clip512)\" x1=\"2115.6\" y1=\"500.992\" x2=\"2115.6\" y2=\"460.992\" style=\"stroke:#009af9; stroke-width:3.2; stroke-opacity:1\"/>\n",
       "<line clip-path=\"url(#clip512)\" x1=\"2115.6\" y1=\"500.992\" x2=\"2075.6\" y2=\"500.992\" style=\"stroke:#009af9; stroke-width:3.2; stroke-opacity:1\"/>\n",
       "<line clip-path=\"url(#clip512)\" x1=\"2115.6\" y1=\"500.992\" x2=\"2115.6\" y2=\"540.992\" style=\"stroke:#009af9; stroke-width:3.2; stroke-opacity:1\"/>\n",
       "<line clip-path=\"url(#clip512)\" x1=\"2115.6\" y1=\"500.992\" x2=\"2155.6\" y2=\"500.992\" style=\"stroke:#009af9; stroke-width:3.2; stroke-opacity:1\"/>\n",
       "<line clip-path=\"url(#clip512)\" x1=\"1649.71\" y1=\"294.123\" x2=\"1649.71\" y2=\"254.123\" style=\"stroke:#009af9; stroke-width:3.2; stroke-opacity:1\"/>\n",
       "<line clip-path=\"url(#clip512)\" x1=\"1649.71\" y1=\"294.123\" x2=\"1609.71\" y2=\"294.123\" style=\"stroke:#009af9; stroke-width:3.2; stroke-opacity:1\"/>\n",
       "<line clip-path=\"url(#clip512)\" x1=\"1649.71\" y1=\"294.123\" x2=\"1649.71\" y2=\"334.123\" style=\"stroke:#009af9; stroke-width:3.2; stroke-opacity:1\"/>\n",
       "<line clip-path=\"url(#clip512)\" x1=\"1649.71\" y1=\"294.123\" x2=\"1689.71\" y2=\"294.123\" style=\"stroke:#009af9; stroke-width:3.2; stroke-opacity:1\"/>\n",
       "<line clip-path=\"url(#clip512)\" x1=\"417.084\" y1=\"270.649\" x2=\"417.084\" y2=\"230.649\" style=\"stroke:#009af9; stroke-width:3.2; stroke-opacity:1\"/>\n",
       "<line clip-path=\"url(#clip512)\" x1=\"417.084\" y1=\"270.649\" x2=\"377.084\" y2=\"270.649\" style=\"stroke:#009af9; stroke-width:3.2; stroke-opacity:1\"/>\n",
       "<line clip-path=\"url(#clip512)\" x1=\"417.084\" y1=\"270.649\" x2=\"417.084\" y2=\"310.649\" style=\"stroke:#009af9; stroke-width:3.2; stroke-opacity:1\"/>\n",
       "<line clip-path=\"url(#clip512)\" x1=\"417.084\" y1=\"270.649\" x2=\"457.084\" y2=\"270.649\" style=\"stroke:#009af9; stroke-width:3.2; stroke-opacity:1\"/>\n",
       "<line clip-path=\"url(#clip512)\" x1=\"2292.13\" y1=\"334.838\" x2=\"2292.13\" y2=\"294.838\" style=\"stroke:#009af9; stroke-width:3.2; stroke-opacity:1\"/>\n",
       "<line clip-path=\"url(#clip512)\" x1=\"2292.13\" y1=\"334.838\" x2=\"2252.13\" y2=\"334.838\" style=\"stroke:#009af9; stroke-width:3.2; stroke-opacity:1\"/>\n",
       "<line clip-path=\"url(#clip512)\" x1=\"2292.13\" y1=\"334.838\" x2=\"2292.13\" y2=\"374.838\" style=\"stroke:#009af9; stroke-width:3.2; stroke-opacity:1\"/>\n",
       "<line clip-path=\"url(#clip512)\" x1=\"2292.13\" y1=\"334.838\" x2=\"2332.13\" y2=\"334.838\" style=\"stroke:#009af9; stroke-width:3.2; stroke-opacity:1\"/>\n",
       "<line clip-path=\"url(#clip512)\" x1=\"1608.77\" y1=\"226.275\" x2=\"1608.77\" y2=\"186.275\" style=\"stroke:#009af9; stroke-width:3.2; stroke-opacity:1\"/>\n",
       "<line clip-path=\"url(#clip512)\" x1=\"1608.77\" y1=\"226.275\" x2=\"1568.77\" y2=\"226.275\" style=\"stroke:#009af9; stroke-width:3.2; stroke-opacity:1\"/>\n",
       "<line clip-path=\"url(#clip512)\" x1=\"1608.77\" y1=\"226.275\" x2=\"1608.77\" y2=\"266.275\" style=\"stroke:#009af9; stroke-width:3.2; stroke-opacity:1\"/>\n",
       "<line clip-path=\"url(#clip512)\" x1=\"1608.77\" y1=\"226.275\" x2=\"1648.77\" y2=\"226.275\" style=\"stroke:#009af9; stroke-width:3.2; stroke-opacity:1\"/>\n",
       "<line clip-path=\"url(#clip512)\" x1=\"648.497\" y1=\"1384.24\" x2=\"648.497\" y2=\"1344.24\" style=\"stroke:#009af9; stroke-width:3.2; stroke-opacity:1\"/>\n",
       "<line clip-path=\"url(#clip512)\" x1=\"648.497\" y1=\"1384.24\" x2=\"608.497\" y2=\"1384.24\" style=\"stroke:#009af9; stroke-width:3.2; stroke-opacity:1\"/>\n",
       "<line clip-path=\"url(#clip512)\" x1=\"648.497\" y1=\"1384.24\" x2=\"648.497\" y2=\"1424.24\" style=\"stroke:#009af9; stroke-width:3.2; stroke-opacity:1\"/>\n",
       "<line clip-path=\"url(#clip512)\" x1=\"648.497\" y1=\"1384.24\" x2=\"688.497\" y2=\"1384.24\" style=\"stroke:#009af9; stroke-width:3.2; stroke-opacity:1\"/>\n",
       "<line clip-path=\"url(#clip512)\" x1=\"379.999\" y1=\"96.1115\" x2=\"379.999\" y2=\"56.1115\" style=\"stroke:#009af9; stroke-width:3.2; stroke-opacity:1\"/>\n",
       "<line clip-path=\"url(#clip512)\" x1=\"379.999\" y1=\"96.1115\" x2=\"339.999\" y2=\"96.1115\" style=\"stroke:#009af9; stroke-width:3.2; stroke-opacity:1\"/>\n",
       "<line clip-path=\"url(#clip512)\" x1=\"379.999\" y1=\"96.1115\" x2=\"379.999\" y2=\"136.112\" style=\"stroke:#009af9; stroke-width:3.2; stroke-opacity:1\"/>\n",
       "<line clip-path=\"url(#clip512)\" x1=\"379.999\" y1=\"96.1115\" x2=\"419.999\" y2=\"96.1115\" style=\"stroke:#009af9; stroke-width:3.2; stroke-opacity:1\"/>\n",
       "<path clip-path=\"url(#clip510)\" d=\"M2014.72 1377.32 L2281.36 1377.32 L2281.36 1273.64 L2014.72 1273.64  Z\" fill=\"#ffffff\" fill-rule=\"evenodd\" fill-opacity=\"1\"/>\n",
       "<polyline clip-path=\"url(#clip510)\" style=\"stroke:#000000; stroke-linecap:round; stroke-linejoin:round; stroke-width:4; stroke-opacity:1; fill:none\" points=\"2014.72,1377.32 2281.36,1377.32 2281.36,1273.64 2014.72,1273.64 2014.72,1377.32 \"/>\n",
       "<line clip-path=\"url(#clip510)\" x1=\"2109.92\" y1=\"1325.48\" x2=\"2109.92\" y2=\"1301.09\" style=\"stroke:#009af9; stroke-width:1.95048; stroke-opacity:1\"/>\n",
       "<line clip-path=\"url(#clip510)\" x1=\"2109.92\" y1=\"1325.48\" x2=\"2085.54\" y2=\"1325.48\" style=\"stroke:#009af9; stroke-width:1.95048; stroke-opacity:1\"/>\n",
       "<line clip-path=\"url(#clip510)\" x1=\"2109.92\" y1=\"1325.48\" x2=\"2109.92\" y2=\"1349.86\" style=\"stroke:#009af9; stroke-width:1.95048; stroke-opacity:1\"/>\n",
       "<line clip-path=\"url(#clip510)\" x1=\"2109.92\" y1=\"1325.48\" x2=\"2134.31\" y2=\"1325.48\" style=\"stroke:#009af9; stroke-width:1.95048; stroke-opacity:1\"/>\n",
       "<path clip-path=\"url(#clip510)\" d=\"M2218.97 1345.16 Q2217.16 1349.79 2215.45 1351.2 Q2213.74 1352.62 2210.87 1352.62 L2207.46 1352.62 L2207.46 1349.05 L2209.96 1349.05 Q2211.72 1349.05 2212.69 1348.22 Q2213.67 1347.38 2214.85 1344.28 L2215.61 1342.34 L2205.13 1316.83 L2209.64 1316.83 L2217.74 1337.11 L2225.84 1316.83 L2230.36 1316.83 L2218.97 1345.16 Z\" fill=\"#000000\" fill-rule=\"nonzero\" fill-opacity=\"1\" /><path clip-path=\"url(#clip510)\" d=\"M2237.65 1338.82 L2245.29 1338.82 L2245.29 1312.45 L2236.98 1314.12 L2236.98 1309.86 L2245.24 1308.2 L2249.92 1308.2 L2249.92 1338.82 L2257.56 1338.82 L2257.56 1342.76 L2237.65 1342.76 L2237.65 1338.82 Z\" fill=\"#000000\" fill-rule=\"nonzero\" fill-opacity=\"1\" /></svg>\n"
      ],
      "text/html": [
       "<?xml version=\"1.0\" encoding=\"utf-8\"?>\n",
       "<svg xmlns=\"http://www.w3.org/2000/svg\" xmlns:xlink=\"http://www.w3.org/1999/xlink\" width=\"600\" height=\"400\" viewBox=\"0 0 2400 1600\">\n",
       "<defs>\n",
       "  <clipPath id=\"clip560\">\n",
       "    <rect x=\"0\" y=\"0\" width=\"2400\" height=\"1600\"/>\n",
       "  </clipPath>\n",
       "</defs>\n",
       "<path clip-path=\"url(#clip560)\" d=\"M0 1600 L2400 1600 L2400 0 L0 0  Z\" fill=\"#ffffff\" fill-rule=\"evenodd\" fill-opacity=\"1\"/>\n",
       "<defs>\n",
       "  <clipPath id=\"clip561\">\n",
       "    <rect x=\"480\" y=\"0\" width=\"1681\" height=\"1600\"/>\n",
       "  </clipPath>\n",
       "</defs>\n",
       "<path clip-path=\"url(#clip560)\" d=\"M210.746 1423.18 L2352.76 1423.18 L2352.76 47.2441 L210.746 47.2441  Z\" fill=\"#ffffff\" fill-rule=\"evenodd\" fill-opacity=\"1\"/>\n",
       "<defs>\n",
       "  <clipPath id=\"clip562\">\n",
       "    <rect x=\"210\" y=\"47\" width=\"2143\" height=\"1377\"/>\n",
       "  </clipPath>\n",
       "</defs>\n",
       "<polyline clip-path=\"url(#clip562)\" style=\"stroke:#000000; stroke-linecap:round; stroke-linejoin:round; stroke-width:2; stroke-opacity:0.1; fill:none\" points=\"530.156,1423.18 530.156,47.2441 \"/>\n",
       "<polyline clip-path=\"url(#clip562)\" style=\"stroke:#000000; stroke-linecap:round; stroke-linejoin:round; stroke-width:2; stroke-opacity:0.1; fill:none\" points=\"1009.65,1423.18 1009.65,47.2441 \"/>\n",
       "<polyline clip-path=\"url(#clip562)\" style=\"stroke:#000000; stroke-linecap:round; stroke-linejoin:round; stroke-width:2; stroke-opacity:0.1; fill:none\" points=\"1489.14,1423.18 1489.14,47.2441 \"/>\n",
       "<polyline clip-path=\"url(#clip562)\" style=\"stroke:#000000; stroke-linecap:round; stroke-linejoin:round; stroke-width:2; stroke-opacity:0.1; fill:none\" points=\"1968.63,1423.18 1968.63,47.2441 \"/>\n",
       "<polyline clip-path=\"url(#clip562)\" style=\"stroke:#000000; stroke-linecap:round; stroke-linejoin:round; stroke-width:2; stroke-opacity:0.1; fill:none\" points=\"210.746,1248.99 2352.76,1248.99 \"/>\n",
       "<polyline clip-path=\"url(#clip562)\" style=\"stroke:#000000; stroke-linecap:round; stroke-linejoin:round; stroke-width:2; stroke-opacity:0.1; fill:none\" points=\"210.746,884.03 2352.76,884.03 \"/>\n",
       "<polyline clip-path=\"url(#clip562)\" style=\"stroke:#000000; stroke-linecap:round; stroke-linejoin:round; stroke-width:2; stroke-opacity:0.1; fill:none\" points=\"210.746,519.068 2352.76,519.068 \"/>\n",
       "<polyline clip-path=\"url(#clip562)\" style=\"stroke:#000000; stroke-linecap:round; stroke-linejoin:round; stroke-width:2; stroke-opacity:0.1; fill:none\" points=\"210.746,154.107 2352.76,154.107 \"/>\n",
       "<polyline clip-path=\"url(#clip560)\" style=\"stroke:#000000; stroke-linecap:round; stroke-linejoin:round; stroke-width:4; stroke-opacity:1; fill:none\" points=\"210.746,1423.18 2352.76,1423.18 \"/>\n",
       "<polyline clip-path=\"url(#clip560)\" style=\"stroke:#000000; stroke-linecap:round; stroke-linejoin:round; stroke-width:4; stroke-opacity:1; fill:none\" points=\"530.156,1423.18 530.156,1404.28 \"/>\n",
       "<polyline clip-path=\"url(#clip560)\" style=\"stroke:#000000; stroke-linecap:round; stroke-linejoin:round; stroke-width:4; stroke-opacity:1; fill:none\" points=\"1009.65,1423.18 1009.65,1404.28 \"/>\n",
       "<polyline clip-path=\"url(#clip560)\" style=\"stroke:#000000; stroke-linecap:round; stroke-linejoin:round; stroke-width:4; stroke-opacity:1; fill:none\" points=\"1489.14,1423.18 1489.14,1404.28 \"/>\n",
       "<polyline clip-path=\"url(#clip560)\" style=\"stroke:#000000; stroke-linecap:round; stroke-linejoin:round; stroke-width:4; stroke-opacity:1; fill:none\" points=\"1968.63,1423.18 1968.63,1404.28 \"/>\n",
       "<path clip-path=\"url(#clip560)\" d=\"M477.182 1468.75 L506.857 1468.75 L506.857 1472.69 L477.182 1472.69 L477.182 1468.75 Z\" fill=\"#000000\" fill-rule=\"nonzero\" fill-opacity=\"1\" /><path clip-path=\"url(#clip560)\" d=\"M526.95 1454.1 Q523.339 1454.1 521.51 1457.66 Q519.704 1461.2 519.704 1468.33 Q519.704 1475.44 521.51 1479.01 Q523.339 1482.55 526.95 1482.55 Q530.584 1482.55 532.39 1479.01 Q534.218 1475.44 534.218 1468.33 Q534.218 1461.2 532.39 1457.66 Q530.584 1454.1 526.95 1454.1 M526.95 1450.39 Q532.76 1450.39 535.816 1455 Q538.894 1459.58 538.894 1468.33 Q538.894 1477.06 535.816 1481.67 Q532.76 1486.25 526.95 1486.25 Q521.14 1486.25 518.061 1481.67 Q515.005 1477.06 515.005 1468.33 Q515.005 1459.58 518.061 1455 Q521.14 1450.39 526.95 1450.39 Z\" fill=\"#000000\" fill-rule=\"nonzero\" fill-opacity=\"1\" /><path clip-path=\"url(#clip560)\" d=\"M547.112 1479.7 L551.996 1479.7 L551.996 1485.58 L547.112 1485.58 L547.112 1479.7 Z\" fill=\"#000000\" fill-rule=\"nonzero\" fill-opacity=\"1\" /><path clip-path=\"url(#clip560)\" d=\"M562.227 1451.02 L580.584 1451.02 L580.584 1454.96 L566.51 1454.96 L566.51 1463.43 Q567.528 1463.08 568.547 1462.92 Q569.565 1462.73 570.584 1462.73 Q576.371 1462.73 579.75 1465.9 Q583.13 1469.08 583.13 1474.49 Q583.13 1480.07 579.658 1483.17 Q576.186 1486.25 569.866 1486.25 Q567.69 1486.25 565.422 1485.88 Q563.176 1485.51 560.769 1484.77 L560.769 1480.07 Q562.852 1481.2 565.075 1481.76 Q567.297 1482.32 569.774 1482.32 Q573.778 1482.32 576.116 1480.21 Q578.454 1478.1 578.454 1474.49 Q578.454 1470.88 576.116 1468.77 Q573.778 1466.67 569.774 1466.67 Q567.899 1466.67 566.024 1467.08 Q564.172 1467.5 562.227 1468.38 L562.227 1451.02 Z\" fill=\"#000000\" fill-rule=\"nonzero\" fill-opacity=\"1\" /><path clip-path=\"url(#clip560)\" d=\"M987.032 1454.1 Q983.421 1454.1 981.593 1457.66 Q979.787 1461.2 979.787 1468.33 Q979.787 1475.44 981.593 1479.01 Q983.421 1482.55 987.032 1482.55 Q990.667 1482.55 992.472 1479.01 Q994.301 1475.44 994.301 1468.33 Q994.301 1461.2 992.472 1457.66 Q990.667 1454.1 987.032 1454.1 M987.032 1450.39 Q992.843 1450.39 995.898 1455 Q998.977 1459.58 998.977 1468.33 Q998.977 1477.06 995.898 1481.67 Q992.843 1486.25 987.032 1486.25 Q981.222 1486.25 978.144 1481.67 Q975.088 1477.06 975.088 1468.33 Q975.088 1459.58 978.144 1455 Q981.222 1450.39 987.032 1450.39 Z\" fill=\"#000000\" fill-rule=\"nonzero\" fill-opacity=\"1\" /><path clip-path=\"url(#clip560)\" d=\"M1007.19 1479.7 L1012.08 1479.7 L1012.08 1485.58 L1007.19 1485.58 L1007.19 1479.7 Z\" fill=\"#000000\" fill-rule=\"nonzero\" fill-opacity=\"1\" /><path clip-path=\"url(#clip560)\" d=\"M1032.26 1454.1 Q1028.65 1454.1 1026.82 1457.66 Q1025.02 1461.2 1025.02 1468.33 Q1025.02 1475.44 1026.82 1479.01 Q1028.65 1482.55 1032.26 1482.55 Q1035.9 1482.55 1037.7 1479.01 Q1039.53 1475.44 1039.53 1468.33 Q1039.53 1461.2 1037.7 1457.66 Q1035.9 1454.1 1032.26 1454.1 M1032.26 1450.39 Q1038.07 1450.39 1041.13 1455 Q1044.21 1459.58 1044.21 1468.33 Q1044.21 1477.06 1041.13 1481.67 Q1038.07 1486.25 1032.26 1486.25 Q1026.45 1486.25 1023.37 1481.67 Q1020.32 1477.06 1020.32 1468.33 Q1020.32 1459.58 1023.37 1455 Q1026.45 1450.39 1032.26 1450.39 Z\" fill=\"#000000\" fill-rule=\"nonzero\" fill-opacity=\"1\" /><path clip-path=\"url(#clip560)\" d=\"M1467.02 1454.1 Q1463.41 1454.1 1461.58 1457.66 Q1459.78 1461.2 1459.78 1468.33 Q1459.78 1475.44 1461.58 1479.01 Q1463.41 1482.55 1467.02 1482.55 Q1470.66 1482.55 1472.46 1479.01 Q1474.29 1475.44 1474.29 1468.33 Q1474.29 1461.2 1472.46 1457.66 Q1470.66 1454.1 1467.02 1454.1 M1467.02 1450.39 Q1472.83 1450.39 1475.89 1455 Q1478.97 1459.58 1478.97 1468.33 Q1478.97 1477.06 1475.89 1481.67 Q1472.83 1486.25 1467.02 1486.25 Q1461.21 1486.25 1458.13 1481.67 Q1455.08 1477.06 1455.08 1468.33 Q1455.08 1459.58 1458.13 1455 Q1461.21 1450.39 1467.02 1450.39 Z\" fill=\"#000000\" fill-rule=\"nonzero\" fill-opacity=\"1\" /><path clip-path=\"url(#clip560)\" d=\"M1487.18 1479.7 L1492.07 1479.7 L1492.07 1485.58 L1487.18 1485.58 L1487.18 1479.7 Z\" fill=\"#000000\" fill-rule=\"nonzero\" fill-opacity=\"1\" /><path clip-path=\"url(#clip560)\" d=\"M1502.3 1451.02 L1520.66 1451.02 L1520.66 1454.96 L1506.58 1454.96 L1506.58 1463.43 Q1507.6 1463.08 1508.62 1462.92 Q1509.64 1462.73 1510.66 1462.73 Q1516.44 1462.73 1519.82 1465.9 Q1523.2 1469.08 1523.2 1474.49 Q1523.2 1480.07 1519.73 1483.17 Q1516.26 1486.25 1509.94 1486.25 Q1507.76 1486.25 1505.49 1485.88 Q1503.25 1485.51 1500.84 1484.77 L1500.84 1480.07 Q1502.92 1481.2 1505.15 1481.76 Q1507.37 1482.32 1509.85 1482.32 Q1513.85 1482.32 1516.19 1480.21 Q1518.53 1478.1 1518.53 1474.49 Q1518.53 1470.88 1516.19 1468.77 Q1513.85 1466.67 1509.85 1466.67 Q1507.97 1466.67 1506.1 1467.08 Q1504.24 1467.5 1502.3 1468.38 L1502.3 1451.02 Z\" fill=\"#000000\" fill-rule=\"nonzero\" fill-opacity=\"1\" /><path clip-path=\"url(#clip560)\" d=\"M1935.79 1481.64 L1943.42 1481.64 L1943.42 1455.28 L1935.11 1456.95 L1935.11 1452.69 L1943.38 1451.02 L1948.05 1451.02 L1948.05 1481.64 L1955.69 1481.64 L1955.69 1485.58 L1935.79 1485.58 L1935.79 1481.64 Z\" fill=\"#000000\" fill-rule=\"nonzero\" fill-opacity=\"1\" /><path clip-path=\"url(#clip560)\" d=\"M1965.14 1479.7 L1970.02 1479.7 L1970.02 1485.58 L1965.14 1485.58 L1965.14 1479.7 Z\" fill=\"#000000\" fill-rule=\"nonzero\" fill-opacity=\"1\" /><path clip-path=\"url(#clip560)\" d=\"M1990.21 1454.1 Q1986.6 1454.1 1984.77 1457.66 Q1982.96 1461.2 1982.96 1468.33 Q1982.96 1475.44 1984.77 1479.01 Q1986.6 1482.55 1990.21 1482.55 Q1993.84 1482.55 1995.65 1479.01 Q1997.47 1475.44 1997.47 1468.33 Q1997.47 1461.2 1995.65 1457.66 Q1993.84 1454.1 1990.21 1454.1 M1990.21 1450.39 Q1996.02 1450.39 1999.07 1455 Q2002.15 1459.58 2002.15 1468.33 Q2002.15 1477.06 1999.07 1481.67 Q1996.02 1486.25 1990.21 1486.25 Q1984.4 1486.25 1981.32 1481.67 Q1978.26 1477.06 1978.26 1468.33 Q1978.26 1459.58 1981.32 1455 Q1984.4 1450.39 1990.21 1450.39 Z\" fill=\"#000000\" fill-rule=\"nonzero\" fill-opacity=\"1\" /><path clip-path=\"url(#clip560)\" d=\"M1228.53 1520.52 L1235.44 1520.52 L1247.25 1538.19 L1259.12 1520.52 L1266.03 1520.52 L1250.75 1543.34 L1267.05 1568.04 L1260.14 1568.04 L1246.77 1547.83 L1233.31 1568.04 L1226.37 1568.04 L1243.33 1542.68 L1228.53 1520.52 Z\" fill=\"#000000\" fill-rule=\"nonzero\" fill-opacity=\"1\" /><path clip-path=\"url(#clip560)\" d=\"M1302.31 1578.87 L1302.31 1583.42 L1268.45 1583.42 L1268.45 1578.87 L1302.31 1578.87 Z\" fill=\"#000000\" fill-rule=\"nonzero\" fill-opacity=\"1\" /><path clip-path=\"url(#clip560)\" d=\"M1309.76 1562.63 L1320.26 1562.63 L1320.26 1526.38 L1308.84 1528.67 L1308.84 1522.82 L1320.2 1520.52 L1326.63 1520.52 L1326.63 1562.63 L1337.13 1562.63 L1337.13 1568.04 L1309.76 1568.04 L1309.76 1562.63 Z\" fill=\"#000000\" fill-rule=\"nonzero\" fill-opacity=\"1\" /><polyline clip-path=\"url(#clip560)\" style=\"stroke:#000000; stroke-linecap:round; stroke-linejoin:round; stroke-width:4; stroke-opacity:1; fill:none\" points=\"210.746,1423.18 210.746,47.2441 \"/>\n",
       "<polyline clip-path=\"url(#clip560)\" style=\"stroke:#000000; stroke-linecap:round; stroke-linejoin:round; stroke-width:4; stroke-opacity:1; fill:none\" points=\"210.746,1248.99 229.644,1248.99 \"/>\n",
       "<polyline clip-path=\"url(#clip560)\" style=\"stroke:#000000; stroke-linecap:round; stroke-linejoin:round; stroke-width:4; stroke-opacity:1; fill:none\" points=\"210.746,884.03 229.644,884.03 \"/>\n",
       "<polyline clip-path=\"url(#clip560)\" style=\"stroke:#000000; stroke-linecap:round; stroke-linejoin:round; stroke-width:4; stroke-opacity:1; fill:none\" points=\"210.746,519.068 229.644,519.068 \"/>\n",
       "<polyline clip-path=\"url(#clip560)\" style=\"stroke:#000000; stroke-linecap:round; stroke-linejoin:round; stroke-width:4; stroke-opacity:1; fill:none\" points=\"210.746,154.107 229.644,154.107 \"/>\n",
       "<path clip-path=\"url(#clip560)\" d=\"M114.631 1249.44 L144.306 1249.44 L144.306 1253.38 L114.631 1253.38 L114.631 1249.44 Z\" fill=\"#000000\" fill-rule=\"nonzero\" fill-opacity=\"1\" /><path clip-path=\"url(#clip560)\" d=\"M158.427 1262.34 L174.746 1262.34 L174.746 1266.27 L152.802 1266.27 L152.802 1262.34 Q155.464 1259.58 160.047 1254.95 Q164.653 1250.3 165.834 1248.96 Q168.079 1246.43 168.959 1244.7 Q169.862 1242.94 169.862 1241.25 Q169.862 1238.49 167.917 1236.76 Q165.996 1235.02 162.894 1235.02 Q160.695 1235.02 158.241 1235.79 Q155.811 1236.55 153.033 1238.1 L153.033 1233.38 Q155.857 1232.24 158.311 1231.66 Q160.765 1231.09 162.802 1231.09 Q168.172 1231.09 171.366 1233.77 Q174.561 1236.46 174.561 1240.95 Q174.561 1243.08 173.751 1245 Q172.964 1246.9 170.857 1249.49 Q170.278 1250.16 167.177 1253.38 Q164.075 1256.57 158.427 1262.34 Z\" fill=\"#000000\" fill-rule=\"nonzero\" fill-opacity=\"1\" /><path clip-path=\"url(#clip560)\" d=\"M114.26 884.481 L143.936 884.481 L143.936 888.416 L114.26 888.416 L114.26 884.481 Z\" fill=\"#000000\" fill-rule=\"nonzero\" fill-opacity=\"1\" /><path clip-path=\"url(#clip560)\" d=\"M154.839 897.375 L162.477 897.375 L162.477 871.009 L154.167 872.676 L154.167 868.416 L162.431 866.75 L167.107 866.75 L167.107 897.375 L174.746 897.375 L174.746 901.31 L154.839 901.31 L154.839 897.375 Z\" fill=\"#000000\" fill-rule=\"nonzero\" fill-opacity=\"1\" /><path clip-path=\"url(#clip560)\" d=\"M162.802 504.867 Q159.19 504.867 157.362 508.432 Q155.556 511.973 155.556 519.103 Q155.556 526.209 157.362 529.774 Q159.19 533.316 162.802 533.316 Q166.436 533.316 168.241 529.774 Q170.07 526.209 170.07 519.103 Q170.07 511.973 168.241 508.432 Q166.436 504.867 162.802 504.867 M162.802 501.163 Q168.612 501.163 171.667 505.77 Q174.746 510.353 174.746 519.103 Q174.746 527.83 171.667 532.436 Q168.612 537.02 162.802 537.02 Q156.991 537.02 153.913 532.436 Q150.857 527.83 150.857 519.103 Q150.857 510.353 153.913 505.77 Q156.991 501.163 162.802 501.163 Z\" fill=\"#000000\" fill-rule=\"nonzero\" fill-opacity=\"1\" /><path clip-path=\"url(#clip560)\" d=\"M154.839 167.452 L162.477 167.452 L162.477 141.086 L154.167 142.753 L154.167 138.494 L162.431 136.827 L167.107 136.827 L167.107 167.452 L174.746 167.452 L174.746 171.387 L154.839 171.387 L154.839 167.452 Z\" fill=\"#000000\" fill-rule=\"nonzero\" fill-opacity=\"1\" /><path clip-path=\"url(#clip560)\" d=\"M16.4842 788.175 L16.4842 781.268 L34.149 769.459 L16.4842 757.587 L16.4842 750.681 L39.3052 765.958 L64.0042 749.662 L64.0042 756.569 L43.793 769.937 L64.0042 783.4 L64.0042 790.339 L38.6368 773.374 L16.4842 788.175 Z\" fill=\"#000000\" fill-rule=\"nonzero\" fill-opacity=\"1\" /><path clip-path=\"url(#clip560)\" d=\"M74.8259 714.396 L79.3773 714.396 L79.3773 748.262 L74.8259 748.262 L74.8259 714.396 Z\" fill=\"#000000\" fill-rule=\"nonzero\" fill-opacity=\"1\" /><path clip-path=\"url(#clip560)\" d=\"M58.5933 702.524 L58.5933 680.085 L64.0042 680.085 L64.0042 710.258 L58.5933 710.258 Q54.8057 706.598 48.44 700.296 Q42.0425 693.962 40.1964 692.339 Q36.7271 689.252 34.34 688.042 Q31.921 686.801 29.5975 686.801 Q25.8099 686.801 23.4228 689.474 Q21.0356 692.116 21.0356 696.381 Q21.0356 699.405 22.086 702.779 Q23.1363 706.121 25.2688 709.94 L18.7758 709.94 Q17.2162 706.057 16.4205 702.683 Q15.6248 699.309 15.6248 696.508 Q15.6248 689.124 19.3169 684.732 Q23.009 680.34 29.1837 680.34 Q32.112 680.34 34.7537 681.454 Q37.3637 682.536 40.9285 685.432 Q41.8515 686.228 46.2757 690.493 Q50.668 694.758 58.5933 702.524 Z\" fill=\"#000000\" fill-rule=\"nonzero\" fill-opacity=\"1\" /><line clip-path=\"url(#clip562)\" x1=\"271.369\" y1=\"416.149\" x2=\"271.369\" y2=\"376.149\" style=\"stroke:#009af9; stroke-width:3.2; stroke-opacity:1\"/>\n",
       "<line clip-path=\"url(#clip562)\" x1=\"271.369\" y1=\"416.149\" x2=\"231.369\" y2=\"416.149\" style=\"stroke:#009af9; stroke-width:3.2; stroke-opacity:1\"/>\n",
       "<line clip-path=\"url(#clip562)\" x1=\"271.369\" y1=\"416.149\" x2=\"271.369\" y2=\"456.149\" style=\"stroke:#009af9; stroke-width:3.2; stroke-opacity:1\"/>\n",
       "<line clip-path=\"url(#clip562)\" x1=\"271.369\" y1=\"416.149\" x2=\"311.369\" y2=\"416.149\" style=\"stroke:#009af9; stroke-width:3.2; stroke-opacity:1\"/>\n",
       "<line clip-path=\"url(#clip562)\" x1=\"589.886\" y1=\"86.1857\" x2=\"589.886\" y2=\"46.1857\" style=\"stroke:#009af9; stroke-width:3.2; stroke-opacity:1\"/>\n",
       "<line clip-path=\"url(#clip562)\" x1=\"589.886\" y1=\"86.1857\" x2=\"549.886\" y2=\"86.1857\" style=\"stroke:#009af9; stroke-width:3.2; stroke-opacity:1\"/>\n",
       "<line clip-path=\"url(#clip562)\" x1=\"589.886\" y1=\"86.1857\" x2=\"589.886\" y2=\"126.186\" style=\"stroke:#009af9; stroke-width:3.2; stroke-opacity:1\"/>\n",
       "<line clip-path=\"url(#clip562)\" x1=\"589.886\" y1=\"86.1857\" x2=\"629.886\" y2=\"86.1857\" style=\"stroke:#009af9; stroke-width:3.2; stroke-opacity:1\"/>\n",
       "<line clip-path=\"url(#clip562)\" x1=\"1860.3\" y1=\"834.07\" x2=\"1860.3\" y2=\"794.07\" style=\"stroke:#009af9; stroke-width:3.2; stroke-opacity:1\"/>\n",
       "<line clip-path=\"url(#clip562)\" x1=\"1860.3\" y1=\"834.07\" x2=\"1820.3\" y2=\"834.07\" style=\"stroke:#009af9; stroke-width:3.2; stroke-opacity:1\"/>\n",
       "<line clip-path=\"url(#clip562)\" x1=\"1860.3\" y1=\"834.07\" x2=\"1860.3\" y2=\"874.07\" style=\"stroke:#009af9; stroke-width:3.2; stroke-opacity:1\"/>\n",
       "<line clip-path=\"url(#clip562)\" x1=\"1860.3\" y1=\"834.07\" x2=\"1900.3\" y2=\"834.07\" style=\"stroke:#009af9; stroke-width:3.2; stroke-opacity:1\"/>\n",
       "<line clip-path=\"url(#clip562)\" x1=\"2115.6\" y1=\"500.992\" x2=\"2115.6\" y2=\"460.992\" style=\"stroke:#009af9; stroke-width:3.2; stroke-opacity:1\"/>\n",
       "<line clip-path=\"url(#clip562)\" x1=\"2115.6\" y1=\"500.992\" x2=\"2075.6\" y2=\"500.992\" style=\"stroke:#009af9; stroke-width:3.2; stroke-opacity:1\"/>\n",
       "<line clip-path=\"url(#clip562)\" x1=\"2115.6\" y1=\"500.992\" x2=\"2115.6\" y2=\"540.992\" style=\"stroke:#009af9; stroke-width:3.2; stroke-opacity:1\"/>\n",
       "<line clip-path=\"url(#clip562)\" x1=\"2115.6\" y1=\"500.992\" x2=\"2155.6\" y2=\"500.992\" style=\"stroke:#009af9; stroke-width:3.2; stroke-opacity:1\"/>\n",
       "<line clip-path=\"url(#clip562)\" x1=\"1649.71\" y1=\"294.123\" x2=\"1649.71\" y2=\"254.123\" style=\"stroke:#009af9; stroke-width:3.2; stroke-opacity:1\"/>\n",
       "<line clip-path=\"url(#clip562)\" x1=\"1649.71\" y1=\"294.123\" x2=\"1609.71\" y2=\"294.123\" style=\"stroke:#009af9; stroke-width:3.2; stroke-opacity:1\"/>\n",
       "<line clip-path=\"url(#clip562)\" x1=\"1649.71\" y1=\"294.123\" x2=\"1649.71\" y2=\"334.123\" style=\"stroke:#009af9; stroke-width:3.2; stroke-opacity:1\"/>\n",
       "<line clip-path=\"url(#clip562)\" x1=\"1649.71\" y1=\"294.123\" x2=\"1689.71\" y2=\"294.123\" style=\"stroke:#009af9; stroke-width:3.2; stroke-opacity:1\"/>\n",
       "<line clip-path=\"url(#clip562)\" x1=\"417.084\" y1=\"270.649\" x2=\"417.084\" y2=\"230.649\" style=\"stroke:#009af9; stroke-width:3.2; stroke-opacity:1\"/>\n",
       "<line clip-path=\"url(#clip562)\" x1=\"417.084\" y1=\"270.649\" x2=\"377.084\" y2=\"270.649\" style=\"stroke:#009af9; stroke-width:3.2; stroke-opacity:1\"/>\n",
       "<line clip-path=\"url(#clip562)\" x1=\"417.084\" y1=\"270.649\" x2=\"417.084\" y2=\"310.649\" style=\"stroke:#009af9; stroke-width:3.2; stroke-opacity:1\"/>\n",
       "<line clip-path=\"url(#clip562)\" x1=\"417.084\" y1=\"270.649\" x2=\"457.084\" y2=\"270.649\" style=\"stroke:#009af9; stroke-width:3.2; stroke-opacity:1\"/>\n",
       "<line clip-path=\"url(#clip562)\" x1=\"2292.13\" y1=\"334.838\" x2=\"2292.13\" y2=\"294.838\" style=\"stroke:#009af9; stroke-width:3.2; stroke-opacity:1\"/>\n",
       "<line clip-path=\"url(#clip562)\" x1=\"2292.13\" y1=\"334.838\" x2=\"2252.13\" y2=\"334.838\" style=\"stroke:#009af9; stroke-width:3.2; stroke-opacity:1\"/>\n",
       "<line clip-path=\"url(#clip562)\" x1=\"2292.13\" y1=\"334.838\" x2=\"2292.13\" y2=\"374.838\" style=\"stroke:#009af9; stroke-width:3.2; stroke-opacity:1\"/>\n",
       "<line clip-path=\"url(#clip562)\" x1=\"2292.13\" y1=\"334.838\" x2=\"2332.13\" y2=\"334.838\" style=\"stroke:#009af9; stroke-width:3.2; stroke-opacity:1\"/>\n",
       "<line clip-path=\"url(#clip562)\" x1=\"1608.77\" y1=\"226.275\" x2=\"1608.77\" y2=\"186.275\" style=\"stroke:#009af9; stroke-width:3.2; stroke-opacity:1\"/>\n",
       "<line clip-path=\"url(#clip562)\" x1=\"1608.77\" y1=\"226.275\" x2=\"1568.77\" y2=\"226.275\" style=\"stroke:#009af9; stroke-width:3.2; stroke-opacity:1\"/>\n",
       "<line clip-path=\"url(#clip562)\" x1=\"1608.77\" y1=\"226.275\" x2=\"1608.77\" y2=\"266.275\" style=\"stroke:#009af9; stroke-width:3.2; stroke-opacity:1\"/>\n",
       "<line clip-path=\"url(#clip562)\" x1=\"1608.77\" y1=\"226.275\" x2=\"1648.77\" y2=\"226.275\" style=\"stroke:#009af9; stroke-width:3.2; stroke-opacity:1\"/>\n",
       "<line clip-path=\"url(#clip562)\" x1=\"648.497\" y1=\"1384.24\" x2=\"648.497\" y2=\"1344.24\" style=\"stroke:#009af9; stroke-width:3.2; stroke-opacity:1\"/>\n",
       "<line clip-path=\"url(#clip562)\" x1=\"648.497\" y1=\"1384.24\" x2=\"608.497\" y2=\"1384.24\" style=\"stroke:#009af9; stroke-width:3.2; stroke-opacity:1\"/>\n",
       "<line clip-path=\"url(#clip562)\" x1=\"648.497\" y1=\"1384.24\" x2=\"648.497\" y2=\"1424.24\" style=\"stroke:#009af9; stroke-width:3.2; stroke-opacity:1\"/>\n",
       "<line clip-path=\"url(#clip562)\" x1=\"648.497\" y1=\"1384.24\" x2=\"688.497\" y2=\"1384.24\" style=\"stroke:#009af9; stroke-width:3.2; stroke-opacity:1\"/>\n",
       "<line clip-path=\"url(#clip562)\" x1=\"379.999\" y1=\"96.1115\" x2=\"379.999\" y2=\"56.1115\" style=\"stroke:#009af9; stroke-width:3.2; stroke-opacity:1\"/>\n",
       "<line clip-path=\"url(#clip562)\" x1=\"379.999\" y1=\"96.1115\" x2=\"339.999\" y2=\"96.1115\" style=\"stroke:#009af9; stroke-width:3.2; stroke-opacity:1\"/>\n",
       "<line clip-path=\"url(#clip562)\" x1=\"379.999\" y1=\"96.1115\" x2=\"379.999\" y2=\"136.112\" style=\"stroke:#009af9; stroke-width:3.2; stroke-opacity:1\"/>\n",
       "<line clip-path=\"url(#clip562)\" x1=\"379.999\" y1=\"96.1115\" x2=\"419.999\" y2=\"96.1115\" style=\"stroke:#009af9; stroke-width:3.2; stroke-opacity:1\"/>\n",
       "<path clip-path=\"url(#clip560)\" d=\"M2014.72 1377.32 L2281.36 1377.32 L2281.36 1273.64 L2014.72 1273.64  Z\" fill=\"#ffffff\" fill-rule=\"evenodd\" fill-opacity=\"1\"/>\n",
       "<polyline clip-path=\"url(#clip560)\" style=\"stroke:#000000; stroke-linecap:round; stroke-linejoin:round; stroke-width:4; stroke-opacity:1; fill:none\" points=\"2014.72,1377.32 2281.36,1377.32 2281.36,1273.64 2014.72,1273.64 2014.72,1377.32 \"/>\n",
       "<line clip-path=\"url(#clip560)\" x1=\"2109.92\" y1=\"1325.48\" x2=\"2109.92\" y2=\"1301.09\" style=\"stroke:#009af9; stroke-width:1.95048; stroke-opacity:1\"/>\n",
       "<line clip-path=\"url(#clip560)\" x1=\"2109.92\" y1=\"1325.48\" x2=\"2085.54\" y2=\"1325.48\" style=\"stroke:#009af9; stroke-width:1.95048; stroke-opacity:1\"/>\n",
       "<line clip-path=\"url(#clip560)\" x1=\"2109.92\" y1=\"1325.48\" x2=\"2109.92\" y2=\"1349.86\" style=\"stroke:#009af9; stroke-width:1.95048; stroke-opacity:1\"/>\n",
       "<line clip-path=\"url(#clip560)\" x1=\"2109.92\" y1=\"1325.48\" x2=\"2134.31\" y2=\"1325.48\" style=\"stroke:#009af9; stroke-width:1.95048; stroke-opacity:1\"/>\n",
       "<path clip-path=\"url(#clip560)\" d=\"M2218.97 1345.16 Q2217.16 1349.79 2215.45 1351.2 Q2213.74 1352.62 2210.87 1352.62 L2207.46 1352.62 L2207.46 1349.05 L2209.96 1349.05 Q2211.72 1349.05 2212.69 1348.22 Q2213.67 1347.38 2214.85 1344.28 L2215.61 1342.34 L2205.13 1316.83 L2209.64 1316.83 L2217.74 1337.11 L2225.84 1316.83 L2230.36 1316.83 L2218.97 1345.16 Z\" fill=\"#000000\" fill-rule=\"nonzero\" fill-opacity=\"1\" /><path clip-path=\"url(#clip560)\" d=\"M2237.65 1338.82 L2245.29 1338.82 L2245.29 1312.45 L2236.98 1314.12 L2236.98 1309.86 L2245.24 1308.2 L2249.92 1308.2 L2249.92 1338.82 L2257.56 1338.82 L2257.56 1342.76 L2237.65 1342.76 L2237.65 1338.82 Z\" fill=\"#000000\" fill-rule=\"nonzero\" fill-opacity=\"1\" /></svg>\n"
      ]
     },
     "metadata": {},
     "output_type": "display_data"
    }
   ],
   "source": [
    "X = randn(10,2)\n",
    "scatter(X[:,1], X[:,2], xlabel=\"X_1\", ylabel=\"X_2\", markersize=10, markershape=:cross)"
   ]
  },
  {
   "cell_type": "markdown",
   "metadata": {},
   "source": [
    "It is possible to add plots to the same figure by using a `!` added to your plot command."
   ]
  },
  {
   "cell_type": "code",
   "execution_count": 33,
   "metadata": {},
   "outputs": [
    {
     "data": {
      "image/png": "[encoded data removed]",
      "image/svg+xml": [
       "<?xml version=\"1.0\" encoding=\"utf-8\"?>\n",
       "<svg xmlns=\"http://www.w3.org/2000/svg\" xmlns:xlink=\"http://www.w3.org/1999/xlink\" width=\"600\" height=\"400\" viewBox=\"0 0 2400 1600\">\n",
       "<defs>\n",
       "  <clipPath id=\"clip600\">\n",
       "    <rect x=\"0\" y=\"0\" width=\"2400\" height=\"1600\"/>\n",
       "  </clipPath>\n",
       "</defs>\n",
       "<path clip-path=\"url(#clip600)\" d=\"M0 1600 L2400 1600 L2400 0 L0 0  Z\" fill=\"#ffffff\" fill-rule=\"evenodd\" fill-opacity=\"1\"/>\n",
       "<defs>\n",
       "  <clipPath id=\"clip601\">\n",
       "    <rect x=\"480\" y=\"0\" width=\"1681\" height=\"1600\"/>\n",
       "  </clipPath>\n",
       "</defs>\n",
       "<path clip-path=\"url(#clip600)\" d=\"M219.866 1423.18 L2352.76 1423.18 L2352.76 47.2441 L219.866 47.2441  Z\" fill=\"#ffffff\" fill-rule=\"evenodd\" fill-opacity=\"1\"/>\n",
       "<defs>\n",
       "  <clipPath id=\"clip602\">\n",
       "    <rect x=\"219\" y=\"47\" width=\"2134\" height=\"1377\"/>\n",
       "  </clipPath>\n",
       "</defs>\n",
       "<polyline clip-path=\"url(#clip602)\" style=\"stroke:#000000; stroke-linecap:round; stroke-linejoin:round; stroke-width:2; stroke-opacity:0.1; fill:none\" points=\"280.231,1423.18 280.231,47.2441 \"/>\n",
       "<polyline clip-path=\"url(#clip602)\" style=\"stroke:#000000; stroke-linecap:round; stroke-linejoin:round; stroke-width:2; stroke-opacity:0.1; fill:none\" points=\"615.591,1423.18 615.591,47.2441 \"/>\n",
       "<polyline clip-path=\"url(#clip602)\" style=\"stroke:#000000; stroke-linecap:round; stroke-linejoin:round; stroke-width:2; stroke-opacity:0.1; fill:none\" points=\"950.951,1423.18 950.951,47.2441 \"/>\n",
       "<polyline clip-path=\"url(#clip602)\" style=\"stroke:#000000; stroke-linecap:round; stroke-linejoin:round; stroke-width:2; stroke-opacity:0.1; fill:none\" points=\"1286.31,1423.18 1286.31,47.2441 \"/>\n",
       "<polyline clip-path=\"url(#clip602)\" style=\"stroke:#000000; stroke-linecap:round; stroke-linejoin:round; stroke-width:2; stroke-opacity:0.1; fill:none\" points=\"1621.67,1423.18 1621.67,47.2441 \"/>\n",
       "<polyline clip-path=\"url(#clip602)\" style=\"stroke:#000000; stroke-linecap:round; stroke-linejoin:round; stroke-width:2; stroke-opacity:0.1; fill:none\" points=\"1957.03,1423.18 1957.03,47.2441 \"/>\n",
       "<polyline clip-path=\"url(#clip602)\" style=\"stroke:#000000; stroke-linecap:round; stroke-linejoin:round; stroke-width:2; stroke-opacity:0.1; fill:none\" points=\"2292.39,1423.18 2292.39,47.2441 \"/>\n",
       "<polyline clip-path=\"url(#clip602)\" style=\"stroke:#000000; stroke-linecap:round; stroke-linejoin:round; stroke-width:2; stroke-opacity:0.1; fill:none\" points=\"219.866,1384.24 2352.76,1384.24 \"/>\n",
       "<polyline clip-path=\"url(#clip602)\" style=\"stroke:#000000; stroke-linecap:round; stroke-linejoin:round; stroke-width:2; stroke-opacity:0.1; fill:none\" points=\"219.866,1058.86 2352.76,1058.86 \"/>\n",
       "<polyline clip-path=\"url(#clip602)\" style=\"stroke:#000000; stroke-linecap:round; stroke-linejoin:round; stroke-width:2; stroke-opacity:0.1; fill:none\" points=\"219.866,733.491 2352.76,733.491 \"/>\n",
       "<polyline clip-path=\"url(#clip602)\" style=\"stroke:#000000; stroke-linecap:round; stroke-linejoin:round; stroke-width:2; stroke-opacity:0.1; fill:none\" points=\"219.866,408.118 2352.76,408.118 \"/>\n",
       "<polyline clip-path=\"url(#clip602)\" style=\"stroke:#000000; stroke-linecap:round; stroke-linejoin:round; stroke-width:2; stroke-opacity:0.1; fill:none\" points=\"219.866,82.7441 2352.76,82.7441 \"/>\n",
       "<polyline clip-path=\"url(#clip600)\" style=\"stroke:#000000; stroke-linecap:round; stroke-linejoin:round; stroke-width:4; stroke-opacity:1; fill:none\" points=\"219.866,1423.18 2352.76,1423.18 \"/>\n",
       "<polyline clip-path=\"url(#clip600)\" style=\"stroke:#000000; stroke-linecap:round; stroke-linejoin:round; stroke-width:4; stroke-opacity:1; fill:none\" points=\"280.231,1423.18 280.231,1404.28 \"/>\n",
       "<polyline clip-path=\"url(#clip600)\" style=\"stroke:#000000; stroke-linecap:round; stroke-linejoin:round; stroke-width:4; stroke-opacity:1; fill:none\" points=\"615.591,1423.18 615.591,1404.28 \"/>\n",
       "<polyline clip-path=\"url(#clip600)\" style=\"stroke:#000000; stroke-linecap:round; stroke-linejoin:round; stroke-width:4; stroke-opacity:1; fill:none\" points=\"950.951,1423.18 950.951,1404.28 \"/>\n",
       "<polyline clip-path=\"url(#clip600)\" style=\"stroke:#000000; stroke-linecap:round; stroke-linejoin:round; stroke-width:4; stroke-opacity:1; fill:none\" points=\"1286.31,1423.18 1286.31,1404.28 \"/>\n",
       "<polyline clip-path=\"url(#clip600)\" style=\"stroke:#000000; stroke-linecap:round; stroke-linejoin:round; stroke-width:4; stroke-opacity:1; fill:none\" points=\"1621.67,1423.18 1621.67,1404.28 \"/>\n",
       "<polyline clip-path=\"url(#clip600)\" style=\"stroke:#000000; stroke-linecap:round; stroke-linejoin:round; stroke-width:4; stroke-opacity:1; fill:none\" points=\"1957.03,1423.18 1957.03,1404.28 \"/>\n",
       "<polyline clip-path=\"url(#clip600)\" style=\"stroke:#000000; stroke-linecap:round; stroke-linejoin:round; stroke-width:4; stroke-opacity:1; fill:none\" points=\"2292.39,1423.18 2292.39,1404.28 \"/>\n",
       "<path clip-path=\"url(#clip600)\" d=\"M249.699 1468.75 L279.375 1468.75 L279.375 1472.69 L249.699 1472.69 L249.699 1468.75 Z\" fill=\"#000000\" fill-rule=\"nonzero\" fill-opacity=\"1\" /><path clip-path=\"url(#clip600)\" d=\"M303.634 1466.95 Q306.99 1467.66 308.865 1469.93 Q310.763 1472.2 310.763 1475.53 Q310.763 1480.65 307.245 1483.45 Q303.726 1486.25 297.245 1486.25 Q295.069 1486.25 292.754 1485.81 Q290.462 1485.39 288.009 1484.54 L288.009 1480.02 Q289.953 1481.16 292.268 1481.74 Q294.583 1482.32 297.106 1482.32 Q301.504 1482.32 303.796 1480.58 Q306.111 1478.84 306.111 1475.53 Q306.111 1472.48 303.958 1470.77 Q301.828 1469.03 298.009 1469.03 L293.981 1469.03 L293.981 1465.19 L298.194 1465.19 Q301.643 1465.19 303.472 1463.82 Q305.3 1462.43 305.3 1459.84 Q305.3 1457.18 303.402 1455.77 Q301.527 1454.33 298.009 1454.33 Q296.087 1454.33 293.888 1454.75 Q291.689 1455.16 289.05 1456.04 L289.05 1451.88 Q291.712 1451.14 294.027 1450.77 Q296.365 1450.39 298.425 1450.39 Q303.749 1450.39 306.851 1452.83 Q309.953 1455.23 309.953 1459.35 Q309.953 1462.22 308.31 1464.21 Q306.666 1466.18 303.634 1466.95 Z\" fill=\"#000000\" fill-rule=\"nonzero\" fill-opacity=\"1\" /><path clip-path=\"url(#clip600)\" d=\"M585.533 1468.75 L615.209 1468.75 L615.209 1472.69 L585.533 1472.69 L585.533 1468.75 Z\" fill=\"#000000\" fill-rule=\"nonzero\" fill-opacity=\"1\" /><path clip-path=\"url(#clip600)\" d=\"M629.329 1481.64 L645.649 1481.64 L645.649 1485.58 L623.704 1485.58 L623.704 1481.64 Q626.366 1478.89 630.95 1474.26 Q635.556 1469.61 636.737 1468.27 Q638.982 1465.74 639.862 1464.01 Q640.765 1462.25 640.765 1460.56 Q640.765 1457.8 638.82 1456.07 Q636.899 1454.33 633.797 1454.33 Q631.598 1454.33 629.144 1455.09 Q626.714 1455.86 623.936 1457.41 L623.936 1452.69 Q626.76 1451.55 629.214 1450.97 Q631.667 1450.39 633.704 1450.39 Q639.075 1450.39 642.269 1453.08 Q645.464 1455.77 645.464 1460.26 Q645.464 1462.39 644.653 1464.31 Q643.866 1466.2 641.76 1468.8 Q641.181 1469.47 638.079 1472.69 Q634.978 1475.88 629.329 1481.64 Z\" fill=\"#000000\" fill-rule=\"nonzero\" fill-opacity=\"1\" /><path clip-path=\"url(#clip600)\" d=\"M920.708 1468.75 L950.384 1468.75 L950.384 1472.69 L920.708 1472.69 L920.708 1468.75 Z\" fill=\"#000000\" fill-rule=\"nonzero\" fill-opacity=\"1\" /><path clip-path=\"url(#clip600)\" d=\"M961.287 1481.64 L968.926 1481.64 L968.926 1455.28 L960.615 1456.95 L960.615 1452.69 L968.879 1451.02 L973.555 1451.02 L973.555 1481.64 L981.194 1481.64 L981.194 1485.58 L961.287 1485.58 L961.287 1481.64 Z\" fill=\"#000000\" fill-rule=\"nonzero\" fill-opacity=\"1\" /><path clip-path=\"url(#clip600)\" d=\"M1286.31 1454.1 Q1282.7 1454.1 1280.87 1457.66 Q1279.07 1461.2 1279.07 1468.33 Q1279.07 1475.44 1280.87 1479.01 Q1282.7 1482.55 1286.31 1482.55 Q1289.95 1482.55 1291.75 1479.01 Q1293.58 1475.44 1293.58 1468.33 Q1293.58 1461.2 1291.75 1457.66 Q1289.95 1454.1 1286.31 1454.1 M1286.31 1450.39 Q1292.12 1450.39 1295.18 1455 Q1298.26 1459.58 1298.26 1468.33 Q1298.26 1477.06 1295.18 1481.67 Q1292.12 1486.25 1286.31 1486.25 Q1280.5 1486.25 1277.42 1481.67 Q1274.37 1477.06 1274.37 1468.33 Q1274.37 1459.58 1277.42 1455 Q1280.5 1450.39 1286.31 1450.39 Z\" fill=\"#000000\" fill-rule=\"nonzero\" fill-opacity=\"1\" /><path clip-path=\"url(#clip600)\" d=\"M1612.05 1481.64 L1619.69 1481.64 L1619.69 1455.28 L1611.38 1456.95 L1611.38 1452.69 L1619.65 1451.02 L1624.32 1451.02 L1624.32 1481.64 L1631.96 1481.64 L1631.96 1485.58 L1612.05 1485.58 L1612.05 1481.64 Z\" fill=\"#000000\" fill-rule=\"nonzero\" fill-opacity=\"1\" /><path clip-path=\"url(#clip600)\" d=\"M1951.68 1481.64 L1968 1481.64 L1968 1485.58 L1946.06 1485.58 L1946.06 1481.64 Q1948.72 1478.89 1953.3 1474.26 Q1957.91 1469.61 1959.09 1468.27 Q1961.34 1465.74 1962.22 1464.01 Q1963.12 1462.25 1963.12 1460.56 Q1963.12 1457.8 1961.17 1456.07 Q1959.25 1454.33 1956.15 1454.33 Q1953.95 1454.33 1951.5 1455.09 Q1949.07 1455.86 1946.29 1457.41 L1946.29 1452.69 Q1949.11 1451.55 1951.57 1450.97 Q1954.02 1450.39 1956.06 1450.39 Q1961.43 1450.39 1964.62 1453.08 Q1967.82 1455.77 1967.82 1460.26 Q1967.82 1462.39 1967.01 1464.31 Q1966.22 1466.2 1964.11 1468.8 Q1963.54 1469.47 1960.43 1472.69 Q1957.33 1475.88 1951.68 1481.64 Z\" fill=\"#000000\" fill-rule=\"nonzero\" fill-opacity=\"1\" /><path clip-path=\"url(#clip600)\" d=\"M2296.64 1466.95 Q2300 1467.66 2301.87 1469.93 Q2303.77 1472.2 2303.77 1475.53 Q2303.77 1480.65 2300.25 1483.45 Q2296.73 1486.25 2290.25 1486.25 Q2288.07 1486.25 2285.76 1485.81 Q2283.47 1485.39 2281.01 1484.54 L2281.01 1480.02 Q2282.96 1481.16 2285.27 1481.74 Q2287.59 1482.32 2290.11 1482.32 Q2294.51 1482.32 2296.8 1480.58 Q2299.12 1478.84 2299.12 1475.53 Q2299.12 1472.48 2296.96 1470.77 Q2294.83 1469.03 2291.01 1469.03 L2286.99 1469.03 L2286.99 1465.19 L2291.2 1465.19 Q2294.65 1465.19 2296.48 1463.82 Q2298.31 1462.43 2298.31 1459.84 Q2298.31 1457.18 2296.41 1455.77 Q2294.53 1454.33 2291.01 1454.33 Q2289.09 1454.33 2286.89 1454.75 Q2284.69 1455.16 2282.06 1456.04 L2282.06 1451.88 Q2284.72 1451.14 2287.03 1450.77 Q2289.37 1450.39 2291.43 1450.39 Q2296.75 1450.39 2299.86 1452.83 Q2302.96 1455.23 2302.96 1459.35 Q2302.96 1462.22 2301.31 1464.21 Q2299.67 1466.18 2296.64 1466.95 Z\" fill=\"#000000\" fill-rule=\"nonzero\" fill-opacity=\"1\" /><path clip-path=\"url(#clip600)\" d=\"M1302.93 1532.4 L1290.04 1549.74 L1303.59 1568.04 L1296.69 1568.04 L1286.31 1554.04 L1275.93 1568.04 L1269.03 1568.04 L1282.87 1549.39 L1270.21 1532.4 L1277.11 1532.4 L1286.57 1545.1 L1296.02 1532.4 L1302.93 1532.4 Z\" fill=\"#000000\" fill-rule=\"nonzero\" fill-opacity=\"1\" /><polyline clip-path=\"url(#clip600)\" style=\"stroke:#000000; stroke-linecap:round; stroke-linejoin:round; stroke-width:4; stroke-opacity:1; fill:none\" points=\"219.866,1423.18 219.866,47.2441 \"/>\n",
       "<polyline clip-path=\"url(#clip600)\" style=\"stroke:#000000; stroke-linecap:round; stroke-linejoin:round; stroke-width:4; stroke-opacity:1; fill:none\" points=\"219.866,1384.24 238.764,1384.24 \"/>\n",
       "<polyline clip-path=\"url(#clip600)\" style=\"stroke:#000000; stroke-linecap:round; stroke-linejoin:round; stroke-width:4; stroke-opacity:1; fill:none\" points=\"219.866,1058.86 238.764,1058.86 \"/>\n",
       "<polyline clip-path=\"url(#clip600)\" style=\"stroke:#000000; stroke-linecap:round; stroke-linejoin:round; stroke-width:4; stroke-opacity:1; fill:none\" points=\"219.866,733.491 238.764,733.491 \"/>\n",
       "<polyline clip-path=\"url(#clip600)\" style=\"stroke:#000000; stroke-linecap:round; stroke-linejoin:round; stroke-width:4; stroke-opacity:1; fill:none\" points=\"219.866,408.118 238.764,408.118 \"/>\n",
       "<polyline clip-path=\"url(#clip600)\" style=\"stroke:#000000; stroke-linecap:round; stroke-linejoin:round; stroke-width:4; stroke-opacity:1; fill:none\" points=\"219.866,82.7441 238.764,82.7441 \"/>\n",
       "<path clip-path=\"url(#clip600)\" d=\"M126.691 1370.04 Q123.08 1370.04 121.251 1373.6 Q119.445 1377.14 119.445 1384.27 Q119.445 1391.38 121.251 1394.94 Q123.08 1398.49 126.691 1398.49 Q130.325 1398.49 132.13 1394.94 Q133.959 1391.38 133.959 1384.27 Q133.959 1377.14 132.13 1373.6 Q130.325 1370.04 126.691 1370.04 M126.691 1366.33 Q132.501 1366.33 135.556 1370.94 Q138.635 1375.52 138.635 1384.27 Q138.635 1393 135.556 1397.61 Q132.501 1402.19 126.691 1402.19 Q120.88 1402.19 117.802 1397.61 Q114.746 1393 114.746 1384.27 Q114.746 1375.52 117.802 1370.94 Q120.88 1366.33 126.691 1366.33 Z\" fill=\"#000000\" fill-rule=\"nonzero\" fill-opacity=\"1\" /><path clip-path=\"url(#clip600)\" d=\"M146.853 1395.64 L151.737 1395.64 L151.737 1401.52 L146.853 1401.52 L146.853 1395.64 Z\" fill=\"#000000\" fill-rule=\"nonzero\" fill-opacity=\"1\" /><path clip-path=\"url(#clip600)\" d=\"M171.922 1370.04 Q168.311 1370.04 166.482 1373.6 Q164.677 1377.14 164.677 1384.27 Q164.677 1391.38 166.482 1394.94 Q168.311 1398.49 171.922 1398.49 Q175.556 1398.49 177.362 1394.94 Q179.19 1391.38 179.19 1384.27 Q179.19 1377.14 177.362 1373.6 Q175.556 1370.04 171.922 1370.04 M171.922 1366.33 Q177.732 1366.33 180.788 1370.94 Q183.866 1375.52 183.866 1384.27 Q183.866 1393 180.788 1397.61 Q177.732 1402.19 171.922 1402.19 Q166.112 1402.19 163.033 1397.61 Q159.978 1393 159.978 1384.27 Q159.978 1375.52 163.033 1370.94 Q166.112 1366.33 171.922 1366.33 Z\" fill=\"#000000\" fill-rule=\"nonzero\" fill-opacity=\"1\" /><path clip-path=\"url(#clip600)\" d=\"M128.288 1044.66 Q124.677 1044.66 122.848 1048.23 Q121.043 1051.77 121.043 1058.9 Q121.043 1066.01 122.848 1069.57 Q124.677 1073.11 128.288 1073.11 Q131.922 1073.11 133.728 1069.57 Q135.556 1066.01 135.556 1058.9 Q135.556 1051.77 133.728 1048.23 Q131.922 1044.66 128.288 1044.66 M128.288 1040.96 Q134.098 1040.96 137.154 1045.57 Q140.232 1050.15 140.232 1058.9 Q140.232 1067.63 137.154 1072.23 Q134.098 1076.82 128.288 1076.82 Q122.478 1076.82 119.399 1072.23 Q116.343 1067.63 116.343 1058.9 Q116.343 1050.15 119.399 1045.57 Q122.478 1040.96 128.288 1040.96 Z\" fill=\"#000000\" fill-rule=\"nonzero\" fill-opacity=\"1\" /><path clip-path=\"url(#clip600)\" d=\"M148.45 1070.27 L153.334 1070.27 L153.334 1076.14 L148.45 1076.14 L148.45 1070.27 Z\" fill=\"#000000\" fill-rule=\"nonzero\" fill-opacity=\"1\" /><path clip-path=\"url(#clip600)\" d=\"M167.547 1072.21 L183.866 1072.21 L183.866 1076.14 L161.922 1076.14 L161.922 1072.21 Q164.584 1069.45 169.167 1064.83 Q173.774 1060.17 174.954 1058.83 Q177.2 1056.31 178.079 1054.57 Q178.982 1052.81 178.982 1051.12 Q178.982 1048.37 177.038 1046.63 Q175.116 1044.89 172.014 1044.89 Q169.815 1044.89 167.362 1045.66 Q164.931 1046.42 162.153 1047.97 L162.153 1043.25 Q164.977 1042.12 167.431 1041.54 Q169.885 1040.96 171.922 1040.96 Q177.292 1040.96 180.487 1043.64 Q183.681 1046.33 183.681 1050.82 Q183.681 1052.95 182.871 1054.87 Q182.084 1056.77 179.977 1059.36 Q179.399 1060.03 176.297 1063.25 Q173.195 1066.45 167.547 1072.21 Z\" fill=\"#000000\" fill-rule=\"nonzero\" fill-opacity=\"1\" /><path clip-path=\"url(#clip600)\" d=\"M126.205 719.29 Q122.593 719.29 120.765 722.855 Q118.959 726.396 118.959 733.526 Q118.959 740.632 120.765 744.197 Q122.593 747.739 126.205 747.739 Q129.839 747.739 131.644 744.197 Q133.473 740.632 133.473 733.526 Q133.473 726.396 131.644 722.855 Q129.839 719.29 126.205 719.29 M126.205 715.586 Q132.015 715.586 135.07 720.193 Q138.149 724.776 138.149 733.526 Q138.149 742.253 135.07 746.859 Q132.015 751.442 126.205 751.442 Q120.394 751.442 117.316 746.859 Q114.26 742.253 114.26 733.526 Q114.26 724.776 117.316 720.193 Q120.394 715.586 126.205 715.586 Z\" fill=\"#000000\" fill-rule=\"nonzero\" fill-opacity=\"1\" /><path clip-path=\"url(#clip600)\" d=\"M146.366 744.892 L151.251 744.892 L151.251 750.771 L146.366 750.771 L146.366 744.892 Z\" fill=\"#000000\" fill-rule=\"nonzero\" fill-opacity=\"1\" /><path clip-path=\"url(#clip600)\" d=\"M174.283 720.285 L162.477 738.734 L174.283 738.734 L174.283 720.285 M173.056 716.211 L178.936 716.211 L178.936 738.734 L183.866 738.734 L183.866 742.623 L178.936 742.623 L178.936 750.771 L174.283 750.771 L174.283 742.623 L158.681 742.623 L158.681 738.109 L173.056 716.211 Z\" fill=\"#000000\" fill-rule=\"nonzero\" fill-opacity=\"1\" /><path clip-path=\"url(#clip600)\" d=\"M126.529 393.916 Q122.918 393.916 121.089 397.481 Q119.283 401.023 119.283 408.152 Q119.283 415.259 121.089 418.824 Q122.918 422.365 126.529 422.365 Q130.163 422.365 131.968 418.824 Q133.797 415.259 133.797 408.152 Q133.797 401.023 131.968 397.481 Q130.163 393.916 126.529 393.916 M126.529 390.213 Q132.339 390.213 135.394 394.819 Q138.473 399.402 138.473 408.152 Q138.473 416.879 135.394 421.486 Q132.339 426.069 126.529 426.069 Q120.718 426.069 117.64 421.486 Q114.584 416.879 114.584 408.152 Q114.584 399.402 117.64 394.819 Q120.718 390.213 126.529 390.213 Z\" fill=\"#000000\" fill-rule=\"nonzero\" fill-opacity=\"1\" /><path clip-path=\"url(#clip600)\" d=\"M146.691 419.518 L151.575 419.518 L151.575 425.398 L146.691 425.398 L146.691 419.518 Z\" fill=\"#000000\" fill-rule=\"nonzero\" fill-opacity=\"1\" /><path clip-path=\"url(#clip600)\" d=\"M172.339 406.254 Q169.19 406.254 167.339 408.407 Q165.51 410.56 165.51 414.31 Q165.51 418.037 167.339 420.213 Q169.19 422.365 172.339 422.365 Q175.487 422.365 177.315 420.213 Q179.167 418.037 179.167 414.31 Q179.167 410.56 177.315 408.407 Q175.487 406.254 172.339 406.254 M181.621 391.602 L181.621 395.861 Q179.862 395.027 178.056 394.588 Q176.274 394.148 174.514 394.148 Q169.885 394.148 167.431 397.273 Q165.001 400.398 164.653 406.717 Q166.019 404.703 168.079 403.639 Q170.139 402.551 172.616 402.551 Q177.825 402.551 180.834 405.722 Q183.866 408.87 183.866 414.31 Q183.866 419.634 180.718 422.851 Q177.57 426.069 172.339 426.069 Q166.343 426.069 163.172 421.486 Q160.001 416.879 160.001 408.152 Q160.001 399.958 163.89 395.097 Q167.778 390.213 174.329 390.213 Q176.089 390.213 177.871 390.56 Q179.676 390.907 181.621 391.602 Z\" fill=\"#000000\" fill-rule=\"nonzero\" fill-opacity=\"1\" /><path clip-path=\"url(#clip600)\" d=\"M126.783 68.5428 Q123.172 68.5428 121.343 72.1076 Q119.538 75.6493 119.538 82.7789 Q119.538 89.8853 121.343 93.4501 Q123.172 96.9917 126.783 96.9917 Q130.417 96.9917 132.223 93.4501 Q134.052 89.8853 134.052 82.7789 Q134.052 75.6493 132.223 72.1076 Q130.417 68.5428 126.783 68.5428 M126.783 64.8391 Q132.593 64.8391 135.649 69.4456 Q138.728 74.0289 138.728 82.7789 Q138.728 91.5057 135.649 96.1121 Q132.593 100.695 126.783 100.695 Q120.973 100.695 117.894 96.1121 Q114.839 91.5057 114.839 82.7789 Q114.839 74.0289 117.894 69.4456 Q120.973 64.8391 126.783 64.8391 Z\" fill=\"#000000\" fill-rule=\"nonzero\" fill-opacity=\"1\" /><path clip-path=\"url(#clip600)\" d=\"M146.945 94.1445 L151.829 94.1445 L151.829 100.024 L146.945 100.024 L146.945 94.1445 Z\" fill=\"#000000\" fill-rule=\"nonzero\" fill-opacity=\"1\" /><path clip-path=\"url(#clip600)\" d=\"M172.014 83.6122 Q168.681 83.6122 166.76 85.3946 Q164.862 87.177 164.862 90.302 Q164.862 93.4269 166.76 95.2093 Q168.681 96.9917 172.014 96.9917 Q175.348 96.9917 177.269 95.2093 Q179.19 93.4038 179.19 90.302 Q179.19 87.177 177.269 85.3946 Q175.371 83.6122 172.014 83.6122 M167.339 81.6215 Q164.329 80.8807 162.64 78.8205 Q160.973 76.7604 160.973 73.7974 Q160.973 69.6539 163.913 67.2465 Q166.876 64.8391 172.014 64.8391 Q177.176 64.8391 180.116 67.2465 Q183.056 69.6539 183.056 73.7974 Q183.056 76.7604 181.366 78.8205 Q179.7 80.8807 176.714 81.6215 Q180.093 82.4085 181.968 84.7001 Q183.866 86.9918 183.866 90.302 Q183.866 95.3251 180.788 98.0103 Q177.732 100.695 172.014 100.695 Q166.297 100.695 163.218 98.0103 Q160.163 95.3251 160.163 90.302 Q160.163 86.9918 162.061 84.7001 Q163.959 82.4085 167.339 81.6215 M165.626 74.2372 Q165.626 76.9224 167.292 78.427 Q168.982 79.9316 172.014 79.9316 Q175.024 79.9316 176.714 78.427 Q178.426 76.9224 178.426 74.2372 Q178.426 71.5521 176.714 70.0474 Q175.024 68.5428 172.014 68.5428 Q168.982 68.5428 167.292 70.0474 Q165.626 71.5521 165.626 74.2372 Z\" fill=\"#000000\" fill-rule=\"nonzero\" fill-opacity=\"1\" /><path clip-path=\"url(#clip600)\" d=\"M58.657 788.97 L77.5631 788.97 L77.5631 794.859 L28.3562 794.859 L28.3562 788.97 L33.7671 788.97 Q30.5842 787.124 29.0564 784.323 Q27.4968 781.491 27.4968 777.576 Q27.4968 771.083 32.6531 767.041 Q37.8093 762.966 46.212 762.966 Q54.6147 762.966 59.771 767.041 Q64.9272 771.083 64.9272 777.576 Q64.9272 781.491 63.3994 784.323 Q61.8398 787.124 58.657 788.97 M46.212 769.046 Q39.7508 769.046 36.0905 771.719 Q32.3984 774.361 32.3984 779.008 Q32.3984 783.655 36.0905 786.329 Q39.7508 788.97 46.212 788.97 Q52.6732 788.97 56.3653 786.329 Q60.0256 783.655 60.0256 779.008 Q60.0256 774.361 56.3653 771.719 Q52.6732 769.046 46.212 769.046 Z\" fill=\"#000000\" fill-rule=\"nonzero\" fill-opacity=\"1\" /><path clip-path=\"url(#clip600)\" d=\"M14.5426 739.191 Q21.8632 743.456 29.0246 745.524 Q36.186 747.593 43.5384 747.593 Q50.8908 747.593 58.1159 745.524 Q65.3091 743.424 72.5979 739.191 L72.5979 744.283 Q65.1182 749.057 57.8931 751.445 Q50.668 753.8 43.5384 753.8 Q36.4406 753.8 29.2474 751.445 Q22.0542 749.089 14.5426 744.283 L14.5426 739.191 Z\" fill=\"#000000\" fill-rule=\"nonzero\" fill-opacity=\"1\" /><path clip-path=\"url(#clip600)\" d=\"M28.3562 698.195 L45.7028 711.086 L64.0042 697.527 L64.0042 704.434 L49.9996 714.81 L64.0042 725.186 L64.0042 732.093 L45.3526 718.247 L28.3562 730.915 L28.3562 724.008 L41.0558 714.555 L28.3562 705.102 L28.3562 698.195 Z\" fill=\"#000000\" fill-rule=\"nonzero\" fill-opacity=\"1\" /><path clip-path=\"url(#clip600)\" d=\"M14.5426 690.175 L14.5426 685.082 Q22.0542 680.308 29.2474 677.952 Q36.4406 675.565 43.5384 675.565 Q50.668 675.565 57.8931 677.952 Q65.1182 680.308 72.5979 685.082 L72.5979 690.175 Q65.3091 685.941 58.1159 683.873 Q50.8908 681.772 43.5384 681.772 Q36.186 681.772 29.0246 683.873 Q21.8632 685.941 14.5426 690.175 Z\" fill=\"#000000\" fill-rule=\"nonzero\" fill-opacity=\"1\" /><polyline clip-path=\"url(#clip602)\" style=\"stroke:#ff0000; stroke-linecap:round; stroke-linejoin:round; stroke-width:20; stroke-opacity:1; fill:none\" stroke-dasharray=\"80, 50\" points=\"280.231,1377.03 286.938,1376.58 293.645,1376.12 300.353,1375.62 307.06,1375.1 313.767,1374.55 320.474,1373.98 327.181,1373.37 333.889,1372.73 340.596,1372.06 347.303,1371.36 354.01,1370.62 360.717,1369.85 367.425,1369.03 374.132,1368.18 380.839,1367.28 387.546,1366.35 394.253,1365.37 400.961,1364.34 407.668,1363.26 414.375,1362.14 421.082,1360.97 427.789,1359.74 434.497,1358.46 441.204,1357.12 447.911,1355.72 454.618,1354.27 461.325,1352.75 468.033,1351.17 474.74,1349.52 481.447,1347.81 488.154,1346.02 494.861,1344.17 501.569,1342.24 508.276,1340.23 514.983,1338.15 521.69,1335.99 528.397,1333.75 535.105,1331.43 541.812,1329.02 548.519,1326.53 555.226,1323.94 561.933,1321.27 568.641,1318.5 575.348,1315.64 582.055,1312.68 588.762,1309.63 595.469,1306.47 602.177,1303.22 608.884,1299.86 615.591,1296.4 622.298,1292.84 629.005,1289.16 635.713,1285.38 642.42,1281.49 649.127,1277.49 655.834,1273.38 662.541,1269.15 669.249,1264.82 675.956,1260.36 682.663,1255.8 689.37,1251.12 696.077,1246.32 702.785,1241.41 709.492,1236.38 716.199,1231.23 722.906,1225.97 729.613,1220.6 736.321,1215.11 743.028,1209.5 749.735,1203.78 756.442,1197.95 763.149,1192.01 769.857,1185.96 776.564,1179.8 783.271,1173.53 789.978,1167.16 796.685,1160.68 803.393,1154.1 810.1,1147.42 816.807,1140.65 823.514,1133.78 830.221,1126.83 836.929,1119.78 843.636,1112.65 850.343,1105.44 857.05,1098.16 863.757,1090.8 870.465,1083.37 877.172,1075.88 883.879,1068.32 890.586,1060.71 897.293,1053.05 904.001,1045.35 910.708,1037.6 917.415,1029.82 924.122,1022.01 930.829,1014.18 937.537,1006.32 944.244,998.456 950.951,990.584 957.658,982.712 964.365,974.846 971.073,966.993 977.78,959.16 984.487,951.353 991.194,943.578 997.901,935.844 1004.61,928.156 1011.32,920.522 1018.02,912.948 1024.73,905.443 1031.44,898.012 1038.14,890.664 1044.85,883.405 1051.56,876.242 1058.27,869.184 1064.97,862.235 1071.68,855.405 1078.39,848.7 1085.1,842.126 1091.8,835.691 1098.51,829.402 1105.22,823.265 1111.92,817.287 1118.63,811.475 1125.34,805.834 1132.05,800.371 1138.75,795.093 1145.46,790.004 1152.17,785.111 1158.87,780.42 1165.58,775.935 1172.29,771.662 1179,767.606 1185.7,763.771 1192.41,760.162 1199.12,756.782 1205.82,753.637 1212.53,750.73 1219.24,748.064 1225.95,745.641 1232.65,743.467 1239.36,741.541 1246.07,739.868 1252.78,738.449 1259.48,737.286 1266.19,736.379 1272.9,735.731 1279.6,735.342 1286.31,735.212 1293.02,735.342 1299.73,735.731 1306.43,736.379 1313.14,737.286 1319.85,738.449 1326.55,739.868 1333.26,741.541 1339.97,743.467 1346.68,745.641 1353.38,748.064 1360.09,750.73 1366.8,753.637 1373.5,756.782 1380.21,760.162 1386.92,763.771 1393.63,767.606 1400.33,771.662 1407.04,775.935 1413.75,780.42 1420.46,785.111 1427.16,790.004 1433.87,795.093 1440.58,800.371 1447.28,805.834 1453.99,811.475 1460.7,817.287 1467.41,823.265 1474.11,829.402 1480.82,835.691 1487.53,842.126 1494.23,848.7 1500.94,855.405 1507.65,862.235 1514.36,869.184 1521.06,876.242 1527.77,883.405 1534.48,890.664 1541.18,898.012 1547.89,905.443 1554.6,912.948 1561.31,920.522 1568.01,928.156 1574.72,935.844 1581.43,943.578 1588.14,951.353 1594.84,959.16 1601.55,966.993 1608.26,974.846 1614.96,982.712 1621.67,990.584 1628.38,998.456 1635.09,1006.32 1641.79,1014.18 1648.5,1022.01 1655.21,1029.82 1661.91,1037.6 1668.62,1045.35 1675.33,1053.05 1682.04,1060.71 1688.74,1068.32 1695.45,1075.88 1702.16,1083.37 1708.86,1090.8 1715.57,1098.16 1722.28,1105.44 1728.99,1112.65 1735.69,1119.78 1742.4,1126.83 1749.11,1133.78 1755.82,1140.65 1762.52,1147.42 1769.23,1154.1 1775.94,1160.68 1782.64,1167.16 1789.35,1173.53 1796.06,1179.8 1802.77,1185.96 1809.47,1192.01 1816.18,1197.95 1822.89,1203.78 1829.59,1209.5 1836.3,1215.11 1843.01,1220.6 1849.72,1225.97 1856.42,1231.23 1863.13,1236.38 1869.84,1241.41 1876.54,1246.32 1883.25,1251.12 1889.96,1255.8 1896.67,1260.36 1903.37,1264.82 1910.08,1269.15 1916.79,1273.38 1923.5,1277.49 1930.2,1281.49 1936.91,1285.38 1943.62,1289.16 1950.32,1292.84 1957.03,1296.4 1963.74,1299.86 1970.45,1303.22 1977.15,1306.47 1983.86,1309.63 1990.57,1312.68 1997.27,1315.64 2003.98,1318.5 2010.69,1321.27 2017.4,1323.94 2024.1,1326.53 2030.81,1329.02 2037.52,1331.43 2044.22,1333.75 2050.93,1335.99 2057.64,1338.15 2064.35,1340.23 2071.05,1342.24 2077.76,1344.17 2084.47,1346.02 2091.18,1347.81 2097.88,1349.52 2104.59,1351.17 2111.3,1352.75 2118,1354.27 2124.71,1355.72 2131.42,1357.12 2138.13,1358.46 2144.83,1359.74 2151.54,1360.97 2158.25,1362.14 2164.95,1363.26 2171.66,1364.34 2178.37,1365.37 2185.08,1366.35 2191.78,1367.28 2198.49,1368.18 2205.2,1369.03 2211.9,1369.85 2218.61,1370.62 2225.32,1371.36 2232.03,1372.06 2238.73,1372.73 2245.44,1373.37 2252.15,1373.98 2258.86,1374.55 2265.56,1375.1 2272.27,1375.62 2278.98,1376.12 2285.68,1376.58 2292.39,1377.03 \"/>\n",
       "<polyline clip-path=\"url(#clip602)\" style=\"stroke:#0000ff; stroke-linecap:round; stroke-linejoin:round; stroke-width:4; stroke-opacity:1; fill:none\" points=\"280.231,1384.24 286.938,1384.24 293.645,1384.24 300.353,1384.24 307.06,1384.24 313.767,1384.24 320.474,1384.24 327.181,1384.24 333.889,1384.24 340.596,1384.24 347.303,1384.24 354.01,1384.24 360.717,1384.24 367.425,1384.24 374.132,1384.24 380.839,1384.24 387.546,1384.24 394.253,1384.24 400.961,1384.24 407.668,1384.24 414.375,1384.24 421.082,1384.24 427.789,1384.24 434.497,1384.24 441.204,1384.24 447.911,1384.24 454.618,1384.24 461.325,1384.24 468.033,1384.24 474.74,1384.24 481.447,1384.24 488.154,1384.24 494.861,1384.24 501.569,1384.24 508.276,1384.24 514.983,1384.24 521.69,1384.24 528.397,1384.24 535.105,1384.24 541.812,1384.24 548.519,1384.24 555.226,1384.24 561.933,1384.24 568.641,1384.24 575.348,1384.24 582.055,1384.24 588.762,1384.24 595.469,1384.24 602.177,1384.24 608.884,1384.24 615.591,1384.24 622.298,1384.24 629.005,1384.24 635.713,1384.24 642.42,1384.24 649.127,1384.24 655.834,1384.24 662.541,1384.24 669.249,1384.24 675.956,1384.24 682.663,1384.24 689.37,1384.24 696.077,1384.24 702.785,1384.24 709.492,1384.24 716.199,1384.24 722.906,1384.24 729.613,1384.24 736.321,1384.24 743.028,1384.24 749.735,1384.24 756.442,1384.24 763.149,1384.24 769.857,1384.24 776.564,1384.23 783.271,1384.23 789.978,1384.23 796.685,1384.23 803.393,1384.23 810.1,1384.23 816.807,1384.23 823.514,1384.22 830.221,1384.22 836.929,1384.22 843.636,1384.21 850.343,1384.21 857.05,1384.2 863.757,1384.19 870.465,1384.18 877.172,1384.17 883.879,1384.16 890.586,1384.14 897.293,1384.12 904.001,1384.1 910.708,1384.08 917.415,1384.05 924.122,1384.01 930.829,1383.97 937.537,1383.92 944.244,1383.87 950.951,1383.8 957.658,1383.73 964.365,1383.64 971.073,1383.54 977.78,1383.42 984.487,1383.29 991.194,1383.13 997.901,1382.95 1004.61,1382.75 1011.32,1382.52 1018.02,1382.25 1024.73,1381.94 1031.44,1381.59 1038.14,1381.19 1044.85,1380.74 1051.56,1380.23 1058.27,1379.65 1064.97,1378.99 1071.68,1378.25 1078.39,1377.42 1085.1,1376.48 1091.8,1375.43 1098.51,1374.25 1105.22,1372.93 1111.92,1371.46 1118.63,1369.82 1125.34,1367.99 1132.05,1365.97 1138.75,1363.72 1145.46,1361.23 1152.17,1358.48 1158.87,1355.45 1165.58,1352.12 1172.29,1348.46 1179,1344.44 1185.7,1340.04 1192.41,1335.24 1199.12,1330 1205.82,1324.29 1212.53,1318.1 1219.24,1311.37 1225.95,1304.09 1232.65,1296.23 1239.36,1287.75 1246.07,1278.62 1252.78,1268.81 1259.48,1258.3 1266.19,1247.04 1272.9,1235.02 1279.6,1222.2 1286.31,1208.57 1293.02,1194.09 1299.73,1178.74 1306.43,1162.52 1313.14,1145.39 1319.85,1127.36 1326.55,1108.4 1333.26,1088.52 1339.97,1067.71 1346.68,1045.98 1353.38,1023.33 1360.09,999.786 1366.8,975.359 1373.5,950.075 1380.21,923.965 1386.92,897.065 1393.63,869.417 1400.33,841.069 1407.04,812.077 1413.75,782.501 1420.46,752.408 1427.16,721.871 1433.87,690.968 1440.58,659.783 1447.28,628.405 1453.99,596.93 1460.7,565.454 1467.41,534.082 1474.11,502.919 1480.82,472.074 1487.53,441.659 1494.23,411.787 1500.94,382.572 1507.65,354.129 1514.36,326.572 1521.06,300.014 1527.77,274.566 1534.48,250.336 1541.18,227.43 1547.89,205.947 1554.6,185.985 1561.31,167.632 1568.01,150.973 1574.72,136.085 1581.43,123.036 1588.14,111.889 1594.84,102.695 1601.55,95.4981 1608.26,90.3328 1614.96,87.2237 1621.67,86.1857 1628.38,87.2237 1635.09,90.3328 1641.79,95.4981 1648.5,102.695 1655.21,111.889 1661.91,123.036 1668.62,136.085 1675.33,150.973 1682.04,167.632 1688.74,185.985 1695.45,205.947 1702.16,227.43 1708.86,250.336 1715.57,274.566 1722.28,300.014 1728.99,326.572 1735.69,354.129 1742.4,382.572 1749.11,411.787 1755.82,441.659 1762.52,472.074 1769.23,502.919 1775.94,534.082 1782.64,565.454 1789.35,596.93 1796.06,628.405 1802.77,659.783 1809.47,690.968 1816.18,721.871 1822.89,752.408 1829.59,782.501 1836.3,812.077 1843.01,841.069 1849.72,869.417 1856.42,897.065 1863.13,923.965 1869.84,950.075 1876.54,975.359 1883.25,999.786 1889.96,1023.33 1896.67,1045.98 1903.37,1067.71 1910.08,1088.52 1916.79,1108.4 1923.5,1127.36 1930.2,1145.39 1936.91,1162.52 1943.62,1178.74 1950.32,1194.09 1957.03,1208.57 1963.74,1222.2 1970.45,1235.02 1977.15,1247.04 1983.86,1258.3 1990.57,1268.81 1997.27,1278.62 2003.98,1287.75 2010.69,1296.23 2017.4,1304.09 2024.1,1311.37 2030.81,1318.1 2037.52,1324.29 2044.22,1330 2050.93,1335.24 2057.64,1340.04 2064.35,1344.44 2071.05,1348.46 2077.76,1352.12 2084.47,1355.45 2091.18,1358.48 2097.88,1361.23 2104.59,1363.72 2111.3,1365.97 2118,1367.99 2124.71,1369.82 2131.42,1371.46 2138.13,1372.93 2144.83,1374.25 2151.54,1375.43 2158.25,1376.48 2164.95,1377.42 2171.66,1378.25 2178.37,1378.99 2185.08,1379.65 2191.78,1380.23 2198.49,1380.74 2205.2,1381.19 2211.9,1381.59 2218.61,1381.94 2225.32,1382.25 2232.03,1382.52 2238.73,1382.75 2245.44,1382.95 2252.15,1383.13 2258.86,1383.29 2265.56,1383.42 2272.27,1383.54 2278.98,1383.64 2285.68,1383.73 2292.39,1383.8 \"/>\n",
       "<path clip-path=\"url(#clip600)\" d=\"M1884.02 248.629 L2281.66 248.629 L2281.66 93.1086 L1884.02 93.1086  Z\" fill=\"#ffffff\" fill-rule=\"evenodd\" fill-opacity=\"1\"/>\n",
       "<polyline clip-path=\"url(#clip600)\" style=\"stroke:#000000; stroke-linecap:round; stroke-linejoin:round; stroke-width:4; stroke-opacity:1; fill:none\" points=\"1884.02,248.629 2281.66,248.629 2281.66,93.1086 1884.02,93.1086 1884.02,248.629 \"/>\n",
       "<polyline clip-path=\"url(#clip600)\" style=\"stroke:#ff0000; stroke-linecap:round; stroke-linejoin:round; stroke-width:20; stroke-opacity:1; fill:none\" stroke-dasharray=\"80, 50\" points=\"1907.72,144.949 2049.91,144.949 \"/>\n",
       "<path clip-path=\"url(#clip600)\" d=\"M2073.61 127.669 L2079.91 127.669 L2095.23 156.581 L2095.23 127.669 L2099.77 127.669 L2099.77 162.229 L2093.47 162.229 L2078.15 133.317 L2078.15 162.229 L2073.61 162.229 L2073.61 127.669 Z\" fill=\"#000000\" fill-rule=\"nonzero\" fill-opacity=\"1\" /><path clip-path=\"url(#clip600)\" d=\"M2119.12 126.257 Q2116.02 131.581 2114.51 136.789 Q2113.01 141.997 2113.01 147.344 Q2113.01 152.692 2114.51 157.946 Q2116.04 163.178 2119.12 168.479 L2115.42 168.479 Q2111.94 163.039 2110.21 157.784 Q2108.49 152.53 2108.49 147.344 Q2108.49 142.182 2110.21 136.951 Q2111.92 131.72 2115.42 126.257 L2119.12 126.257 Z\" fill=\"#000000\" fill-rule=\"nonzero\" fill-opacity=\"1\" /><path clip-path=\"url(#clip600)\" d=\"M2137.98 130.747 Q2134.37 130.747 2132.54 134.312 Q2130.74 137.854 2130.74 144.983 Q2130.74 152.09 2132.54 155.655 Q2134.37 159.196 2137.98 159.196 Q2141.62 159.196 2143.42 155.655 Q2145.25 152.09 2145.25 144.983 Q2145.25 137.854 2143.42 134.312 Q2141.62 130.747 2137.98 130.747 M2137.98 127.044 Q2143.79 127.044 2146.85 131.65 Q2149.93 136.233 2149.93 144.983 Q2149.93 153.71 2146.85 158.317 Q2143.79 162.9 2137.98 162.9 Q2132.17 162.9 2129.1 158.317 Q2126.04 153.71 2126.04 144.983 Q2126.04 136.233 2129.1 131.65 Q2132.17 127.044 2137.98 127.044 Z\" fill=\"#000000\" fill-rule=\"nonzero\" fill-opacity=\"1\" /><path clip-path=\"url(#clip600)\" d=\"M2158.63 156.349 L2163.52 156.349 L2163.52 160.33 L2159.72 167.738 L2156.73 167.738 L2158.63 160.33 L2158.63 156.349 Z\" fill=\"#000000\" fill-rule=\"nonzero\" fill-opacity=\"1\" /><path clip-path=\"url(#clip600)\" d=\"M2174.03 158.293 L2181.66 158.293 L2181.66 131.928 L2173.35 133.595 L2173.35 129.335 L2181.62 127.669 L2186.29 127.669 L2186.29 158.293 L2193.93 158.293 L2193.93 162.229 L2174.03 162.229 L2174.03 158.293 Z\" fill=\"#000000\" fill-rule=\"nonzero\" fill-opacity=\"1\" /><path clip-path=\"url(#clip600)\" d=\"M2202.1 126.257 L2205.81 126.257 Q2209.28 131.72 2210.99 136.951 Q2212.73 142.182 2212.73 147.344 Q2212.73 152.53 2210.99 157.784 Q2209.28 163.039 2205.81 168.479 L2202.1 168.479 Q2205.18 163.178 2206.69 157.946 Q2208.22 152.692 2208.22 147.344 Q2208.22 141.997 2206.69 136.789 Q2205.18 131.581 2202.1 126.257 Z\" fill=\"#000000\" fill-rule=\"nonzero\" fill-opacity=\"1\" /><polyline clip-path=\"url(#clip600)\" style=\"stroke:#0000ff; stroke-linecap:round; stroke-linejoin:round; stroke-width:4; stroke-opacity:1; fill:none\" points=\"1907.72,196.789 2049.91,196.789 \"/>\n",
       "<path clip-path=\"url(#clip600)\" d=\"M2073.61 179.509 L2079.91 179.509 L2095.23 208.421 L2095.23 179.509 L2099.77 179.509 L2099.77 214.069 L2093.47 214.069 L2078.15 185.157 L2078.15 214.069 L2073.61 214.069 L2073.61 179.509 Z\" fill=\"#000000\" fill-rule=\"nonzero\" fill-opacity=\"1\" /><path clip-path=\"url(#clip600)\" d=\"M2119.12 178.097 Q2116.02 183.421 2114.51 188.629 Q2113.01 193.837 2113.01 199.184 Q2113.01 204.532 2114.51 209.786 Q2116.04 215.018 2119.12 220.319 L2115.42 220.319 Q2111.94 214.879 2110.21 209.624 Q2108.49 204.37 2108.49 199.184 Q2108.49 194.022 2110.21 188.791 Q2111.92 183.56 2115.42 178.097 L2119.12 178.097 Z\" fill=\"#000000\" fill-rule=\"nonzero\" fill-opacity=\"1\" /><path clip-path=\"url(#clip600)\" d=\"M2128.79 210.133 L2136.43 210.133 L2136.43 183.768 L2128.12 185.435 L2128.12 181.175 L2136.39 179.509 L2141.06 179.509 L2141.06 210.133 L2148.7 210.133 L2148.7 214.069 L2128.79 214.069 L2128.79 210.133 Z\" fill=\"#000000\" fill-rule=\"nonzero\" fill-opacity=\"1\" /><path clip-path=\"url(#clip600)\" d=\"M2158.63 208.189 L2163.52 208.189 L2163.52 212.17 L2159.72 219.578 L2156.73 219.578 L2158.63 212.17 L2158.63 208.189 Z\" fill=\"#000000\" fill-rule=\"nonzero\" fill-opacity=\"1\" /><path clip-path=\"url(#clip600)\" d=\"M2183.22 182.587 Q2179.6 182.587 2177.78 186.152 Q2175.97 189.694 2175.97 196.823 Q2175.97 203.93 2177.78 207.495 Q2179.6 211.036 2183.22 211.036 Q2186.85 211.036 2188.66 207.495 Q2190.48 203.93 2190.48 196.823 Q2190.48 189.694 2188.66 186.152 Q2186.85 182.587 2183.22 182.587 M2183.22 178.884 Q2189.03 178.884 2192.08 183.49 Q2195.16 188.073 2195.16 196.823 Q2195.16 205.55 2192.08 210.157 Q2189.03 214.74 2183.22 214.74 Q2177.41 214.74 2174.33 210.157 Q2171.27 205.55 2171.27 196.823 Q2171.27 188.073 2174.33 183.49 Q2177.41 178.884 2183.22 178.884 Z\" fill=\"#000000\" fill-rule=\"nonzero\" fill-opacity=\"1\" /><path clip-path=\"url(#clip600)\" d=\"M2203.38 208.189 L2208.26 208.189 L2208.26 214.069 L2203.38 214.069 L2203.38 208.189 Z\" fill=\"#000000\" fill-rule=\"nonzero\" fill-opacity=\"1\" /><path clip-path=\"url(#clip600)\" d=\"M2218.49 179.509 L2236.85 179.509 L2236.85 183.444 L2222.78 183.444 L2222.78 191.916 Q2223.79 191.569 2224.81 191.407 Q2225.83 191.222 2226.85 191.222 Q2232.64 191.222 2236.02 194.393 Q2239.4 197.564 2239.4 202.981 Q2239.4 208.559 2235.92 211.661 Q2232.45 214.74 2226.13 214.74 Q2223.96 214.74 2221.69 214.37 Q2219.44 213.999 2217.04 213.258 L2217.04 208.559 Q2219.12 209.694 2221.34 210.249 Q2223.56 210.805 2226.04 210.805 Q2230.04 210.805 2232.38 208.698 Q2234.72 206.592 2234.72 202.981 Q2234.72 199.37 2232.38 197.263 Q2230.04 195.157 2226.04 195.157 Q2224.16 195.157 2222.29 195.573 Q2220.44 195.99 2218.49 196.87 L2218.49 179.509 Z\" fill=\"#000000\" fill-rule=\"nonzero\" fill-opacity=\"1\" /><path clip-path=\"url(#clip600)\" d=\"M2247.34 178.097 L2251.04 178.097 Q2254.51 183.56 2256.22 188.791 Q2257.96 194.022 2257.96 199.184 Q2257.96 204.37 2256.22 209.624 Q2254.51 214.879 2251.04 220.319 L2247.34 220.319 Q2250.41 215.018 2251.92 209.786 Q2253.45 204.532 2253.45 199.184 Q2253.45 193.837 2251.92 188.629 Q2250.41 183.421 2247.34 178.097 Z\" fill=\"#000000\" fill-rule=\"nonzero\" fill-opacity=\"1\" /></svg>\n"
      ],
      "text/html": [
       "<?xml version=\"1.0\" encoding=\"utf-8\"?>\n",
       "<svg xmlns=\"http://www.w3.org/2000/svg\" xmlns:xlink=\"http://www.w3.org/1999/xlink\" width=\"600\" height=\"400\" viewBox=\"0 0 2400 1600\">\n",
       "<defs>\n",
       "  <clipPath id=\"clip650\">\n",
       "    <rect x=\"0\" y=\"0\" width=\"2400\" height=\"1600\"/>\n",
       "  </clipPath>\n",
       "</defs>\n",
       "<path clip-path=\"url(#clip650)\" d=\"M0 1600 L2400 1600 L2400 0 L0 0  Z\" fill=\"#ffffff\" fill-rule=\"evenodd\" fill-opacity=\"1\"/>\n",
       "<defs>\n",
       "  <clipPath id=\"clip651\">\n",
       "    <rect x=\"480\" y=\"0\" width=\"1681\" height=\"1600\"/>\n",
       "  </clipPath>\n",
       "</defs>\n",
       "<path clip-path=\"url(#clip650)\" d=\"M219.866 1423.18 L2352.76 1423.18 L2352.76 47.2441 L219.866 47.2441  Z\" fill=\"#ffffff\" fill-rule=\"evenodd\" fill-opacity=\"1\"/>\n",
       "<defs>\n",
       "  <clipPath id=\"clip652\">\n",
       "    <rect x=\"219\" y=\"47\" width=\"2134\" height=\"1377\"/>\n",
       "  </clipPath>\n",
       "</defs>\n",
       "<polyline clip-path=\"url(#clip652)\" style=\"stroke:#000000; stroke-linecap:round; stroke-linejoin:round; stroke-width:2; stroke-opacity:0.1; fill:none\" points=\"280.231,1423.18 280.231,47.2441 \"/>\n",
       "<polyline clip-path=\"url(#clip652)\" style=\"stroke:#000000; stroke-linecap:round; stroke-linejoin:round; stroke-width:2; stroke-opacity:0.1; fill:none\" points=\"615.591,1423.18 615.591,47.2441 \"/>\n",
       "<polyline clip-path=\"url(#clip652)\" style=\"stroke:#000000; stroke-linecap:round; stroke-linejoin:round; stroke-width:2; stroke-opacity:0.1; fill:none\" points=\"950.951,1423.18 950.951,47.2441 \"/>\n",
       "<polyline clip-path=\"url(#clip652)\" style=\"stroke:#000000; stroke-linecap:round; stroke-linejoin:round; stroke-width:2; stroke-opacity:0.1; fill:none\" points=\"1286.31,1423.18 1286.31,47.2441 \"/>\n",
       "<polyline clip-path=\"url(#clip652)\" style=\"stroke:#000000; stroke-linecap:round; stroke-linejoin:round; stroke-width:2; stroke-opacity:0.1; fill:none\" points=\"1621.67,1423.18 1621.67,47.2441 \"/>\n",
       "<polyline clip-path=\"url(#clip652)\" style=\"stroke:#000000; stroke-linecap:round; stroke-linejoin:round; stroke-width:2; stroke-opacity:0.1; fill:none\" points=\"1957.03,1423.18 1957.03,47.2441 \"/>\n",
       "<polyline clip-path=\"url(#clip652)\" style=\"stroke:#000000; stroke-linecap:round; stroke-linejoin:round; stroke-width:2; stroke-opacity:0.1; fill:none\" points=\"2292.39,1423.18 2292.39,47.2441 \"/>\n",
       "<polyline clip-path=\"url(#clip652)\" style=\"stroke:#000000; stroke-linecap:round; stroke-linejoin:round; stroke-width:2; stroke-opacity:0.1; fill:none\" points=\"219.866,1384.24 2352.76,1384.24 \"/>\n",
       "<polyline clip-path=\"url(#clip652)\" style=\"stroke:#000000; stroke-linecap:round; stroke-linejoin:round; stroke-width:2; stroke-opacity:0.1; fill:none\" points=\"219.866,1058.86 2352.76,1058.86 \"/>\n",
       "<polyline clip-path=\"url(#clip652)\" style=\"stroke:#000000; stroke-linecap:round; stroke-linejoin:round; stroke-width:2; stroke-opacity:0.1; fill:none\" points=\"219.866,733.491 2352.76,733.491 \"/>\n",
       "<polyline clip-path=\"url(#clip652)\" style=\"stroke:#000000; stroke-linecap:round; stroke-linejoin:round; stroke-width:2; stroke-opacity:0.1; fill:none\" points=\"219.866,408.118 2352.76,408.118 \"/>\n",
       "<polyline clip-path=\"url(#clip652)\" style=\"stroke:#000000; stroke-linecap:round; stroke-linejoin:round; stroke-width:2; stroke-opacity:0.1; fill:none\" points=\"219.866,82.7441 2352.76,82.7441 \"/>\n",
       "<polyline clip-path=\"url(#clip650)\" style=\"stroke:#000000; stroke-linecap:round; stroke-linejoin:round; stroke-width:4; stroke-opacity:1; fill:none\" points=\"219.866,1423.18 2352.76,1423.18 \"/>\n",
       "<polyline clip-path=\"url(#clip650)\" style=\"stroke:#000000; stroke-linecap:round; stroke-linejoin:round; stroke-width:4; stroke-opacity:1; fill:none\" points=\"280.231,1423.18 280.231,1404.28 \"/>\n",
       "<polyline clip-path=\"url(#clip650)\" style=\"stroke:#000000; stroke-linecap:round; stroke-linejoin:round; stroke-width:4; stroke-opacity:1; fill:none\" points=\"615.591,1423.18 615.591,1404.28 \"/>\n",
       "<polyline clip-path=\"url(#clip650)\" style=\"stroke:#000000; stroke-linecap:round; stroke-linejoin:round; stroke-width:4; stroke-opacity:1; fill:none\" points=\"950.951,1423.18 950.951,1404.28 \"/>\n",
       "<polyline clip-path=\"url(#clip650)\" style=\"stroke:#000000; stroke-linecap:round; stroke-linejoin:round; stroke-width:4; stroke-opacity:1; fill:none\" points=\"1286.31,1423.18 1286.31,1404.28 \"/>\n",
       "<polyline clip-path=\"url(#clip650)\" style=\"stroke:#000000; stroke-linecap:round; stroke-linejoin:round; stroke-width:4; stroke-opacity:1; fill:none\" points=\"1621.67,1423.18 1621.67,1404.28 \"/>\n",
       "<polyline clip-path=\"url(#clip650)\" style=\"stroke:#000000; stroke-linecap:round; stroke-linejoin:round; stroke-width:4; stroke-opacity:1; fill:none\" points=\"1957.03,1423.18 1957.03,1404.28 \"/>\n",
       "<polyline clip-path=\"url(#clip650)\" style=\"stroke:#000000; stroke-linecap:round; stroke-linejoin:round; stroke-width:4; stroke-opacity:1; fill:none\" points=\"2292.39,1423.18 2292.39,1404.28 \"/>\n",
       "<path clip-path=\"url(#clip650)\" d=\"M249.699 1468.75 L279.375 1468.75 L279.375 1472.69 L249.699 1472.69 L249.699 1468.75 Z\" fill=\"#000000\" fill-rule=\"nonzero\" fill-opacity=\"1\" /><path clip-path=\"url(#clip650)\" d=\"M303.634 1466.95 Q306.99 1467.66 308.865 1469.93 Q310.763 1472.2 310.763 1475.53 Q310.763 1480.65 307.245 1483.45 Q303.726 1486.25 297.245 1486.25 Q295.069 1486.25 292.754 1485.81 Q290.462 1485.39 288.009 1484.54 L288.009 1480.02 Q289.953 1481.16 292.268 1481.74 Q294.583 1482.32 297.106 1482.32 Q301.504 1482.32 303.796 1480.58 Q306.111 1478.84 306.111 1475.53 Q306.111 1472.48 303.958 1470.77 Q301.828 1469.03 298.009 1469.03 L293.981 1469.03 L293.981 1465.19 L298.194 1465.19 Q301.643 1465.19 303.472 1463.82 Q305.3 1462.43 305.3 1459.84 Q305.3 1457.18 303.402 1455.77 Q301.527 1454.33 298.009 1454.33 Q296.087 1454.33 293.888 1454.75 Q291.689 1455.16 289.05 1456.04 L289.05 1451.88 Q291.712 1451.14 294.027 1450.77 Q296.365 1450.39 298.425 1450.39 Q303.749 1450.39 306.851 1452.83 Q309.953 1455.23 309.953 1459.35 Q309.953 1462.22 308.31 1464.21 Q306.666 1466.18 303.634 1466.95 Z\" fill=\"#000000\" fill-rule=\"nonzero\" fill-opacity=\"1\" /><path clip-path=\"url(#clip650)\" d=\"M585.533 1468.75 L615.209 1468.75 L615.209 1472.69 L585.533 1472.69 L585.533 1468.75 Z\" fill=\"#000000\" fill-rule=\"nonzero\" fill-opacity=\"1\" /><path clip-path=\"url(#clip650)\" d=\"M629.329 1481.64 L645.649 1481.64 L645.649 1485.58 L623.704 1485.58 L623.704 1481.64 Q626.366 1478.89 630.95 1474.26 Q635.556 1469.61 636.737 1468.27 Q638.982 1465.74 639.862 1464.01 Q640.765 1462.25 640.765 1460.56 Q640.765 1457.8 638.82 1456.07 Q636.899 1454.33 633.797 1454.33 Q631.598 1454.33 629.144 1455.09 Q626.714 1455.86 623.936 1457.41 L623.936 1452.69 Q626.76 1451.55 629.214 1450.97 Q631.667 1450.39 633.704 1450.39 Q639.075 1450.39 642.269 1453.08 Q645.464 1455.77 645.464 1460.26 Q645.464 1462.39 644.653 1464.31 Q643.866 1466.2 641.76 1468.8 Q641.181 1469.47 638.079 1472.69 Q634.978 1475.88 629.329 1481.64 Z\" fill=\"#000000\" fill-rule=\"nonzero\" fill-opacity=\"1\" /><path clip-path=\"url(#clip650)\" d=\"M920.708 1468.75 L950.384 1468.75 L950.384 1472.69 L920.708 1472.69 L920.708 1468.75 Z\" fill=\"#000000\" fill-rule=\"nonzero\" fill-opacity=\"1\" /><path clip-path=\"url(#clip650)\" d=\"M961.287 1481.64 L968.926 1481.64 L968.926 1455.28 L960.615 1456.95 L960.615 1452.69 L968.879 1451.02 L973.555 1451.02 L973.555 1481.64 L981.194 1481.64 L981.194 1485.58 L961.287 1485.58 L961.287 1481.64 Z\" fill=\"#000000\" fill-rule=\"nonzero\" fill-opacity=\"1\" /><path clip-path=\"url(#clip650)\" d=\"M1286.31 1454.1 Q1282.7 1454.1 1280.87 1457.66 Q1279.07 1461.2 1279.07 1468.33 Q1279.07 1475.44 1280.87 1479.01 Q1282.7 1482.55 1286.31 1482.55 Q1289.95 1482.55 1291.75 1479.01 Q1293.58 1475.44 1293.58 1468.33 Q1293.58 1461.2 1291.75 1457.66 Q1289.95 1454.1 1286.31 1454.1 M1286.31 1450.39 Q1292.12 1450.39 1295.18 1455 Q1298.26 1459.58 1298.26 1468.33 Q1298.26 1477.06 1295.18 1481.67 Q1292.12 1486.25 1286.31 1486.25 Q1280.5 1486.25 1277.42 1481.67 Q1274.37 1477.06 1274.37 1468.33 Q1274.37 1459.58 1277.42 1455 Q1280.5 1450.39 1286.31 1450.39 Z\" fill=\"#000000\" fill-rule=\"nonzero\" fill-opacity=\"1\" /><path clip-path=\"url(#clip650)\" d=\"M1612.05 1481.64 L1619.69 1481.64 L1619.69 1455.28 L1611.38 1456.95 L1611.38 1452.69 L1619.65 1451.02 L1624.32 1451.02 L1624.32 1481.64 L1631.96 1481.64 L1631.96 1485.58 L1612.05 1485.58 L1612.05 1481.64 Z\" fill=\"#000000\" fill-rule=\"nonzero\" fill-opacity=\"1\" /><path clip-path=\"url(#clip650)\" d=\"M1951.68 1481.64 L1968 1481.64 L1968 1485.58 L1946.06 1485.58 L1946.06 1481.64 Q1948.72 1478.89 1953.3 1474.26 Q1957.91 1469.61 1959.09 1468.27 Q1961.34 1465.74 1962.22 1464.01 Q1963.12 1462.25 1963.12 1460.56 Q1963.12 1457.8 1961.17 1456.07 Q1959.25 1454.33 1956.15 1454.33 Q1953.95 1454.33 1951.5 1455.09 Q1949.07 1455.86 1946.29 1457.41 L1946.29 1452.69 Q1949.11 1451.55 1951.57 1450.97 Q1954.02 1450.39 1956.06 1450.39 Q1961.43 1450.39 1964.62 1453.08 Q1967.82 1455.77 1967.82 1460.26 Q1967.82 1462.39 1967.01 1464.31 Q1966.22 1466.2 1964.11 1468.8 Q1963.54 1469.47 1960.43 1472.69 Q1957.33 1475.88 1951.68 1481.64 Z\" fill=\"#000000\" fill-rule=\"nonzero\" fill-opacity=\"1\" /><path clip-path=\"url(#clip650)\" d=\"M2296.64 1466.95 Q2300 1467.66 2301.87 1469.93 Q2303.77 1472.2 2303.77 1475.53 Q2303.77 1480.65 2300.25 1483.45 Q2296.73 1486.25 2290.25 1486.25 Q2288.07 1486.25 2285.76 1485.81 Q2283.47 1485.39 2281.01 1484.54 L2281.01 1480.02 Q2282.96 1481.16 2285.27 1481.74 Q2287.59 1482.32 2290.11 1482.32 Q2294.51 1482.32 2296.8 1480.58 Q2299.12 1478.84 2299.12 1475.53 Q2299.12 1472.48 2296.96 1470.77 Q2294.83 1469.03 2291.01 1469.03 L2286.99 1469.03 L2286.99 1465.19 L2291.2 1465.19 Q2294.65 1465.19 2296.48 1463.82 Q2298.31 1462.43 2298.31 1459.84 Q2298.31 1457.18 2296.41 1455.77 Q2294.53 1454.33 2291.01 1454.33 Q2289.09 1454.33 2286.89 1454.75 Q2284.69 1455.16 2282.06 1456.04 L2282.06 1451.88 Q2284.72 1451.14 2287.03 1450.77 Q2289.37 1450.39 2291.43 1450.39 Q2296.75 1450.39 2299.86 1452.83 Q2302.96 1455.23 2302.96 1459.35 Q2302.96 1462.22 2301.31 1464.21 Q2299.67 1466.18 2296.64 1466.95 Z\" fill=\"#000000\" fill-rule=\"nonzero\" fill-opacity=\"1\" /><path clip-path=\"url(#clip650)\" d=\"M1302.93 1532.4 L1290.04 1549.74 L1303.59 1568.04 L1296.69 1568.04 L1286.31 1554.04 L1275.93 1568.04 L1269.03 1568.04 L1282.87 1549.39 L1270.21 1532.4 L1277.11 1532.4 L1286.57 1545.1 L1296.02 1532.4 L1302.93 1532.4 Z\" fill=\"#000000\" fill-rule=\"nonzero\" fill-opacity=\"1\" /><polyline clip-path=\"url(#clip650)\" style=\"stroke:#000000; stroke-linecap:round; stroke-linejoin:round; stroke-width:4; stroke-opacity:1; fill:none\" points=\"219.866,1423.18 219.866,47.2441 \"/>\n",
       "<polyline clip-path=\"url(#clip650)\" style=\"stroke:#000000; stroke-linecap:round; stroke-linejoin:round; stroke-width:4; stroke-opacity:1; fill:none\" points=\"219.866,1384.24 238.764,1384.24 \"/>\n",
       "<polyline clip-path=\"url(#clip650)\" style=\"stroke:#000000; stroke-linecap:round; stroke-linejoin:round; stroke-width:4; stroke-opacity:1; fill:none\" points=\"219.866,1058.86 238.764,1058.86 \"/>\n",
       "<polyline clip-path=\"url(#clip650)\" style=\"stroke:#000000; stroke-linecap:round; stroke-linejoin:round; stroke-width:4; stroke-opacity:1; fill:none\" points=\"219.866,733.491 238.764,733.491 \"/>\n",
       "<polyline clip-path=\"url(#clip650)\" style=\"stroke:#000000; stroke-linecap:round; stroke-linejoin:round; stroke-width:4; stroke-opacity:1; fill:none\" points=\"219.866,408.118 238.764,408.118 \"/>\n",
       "<polyline clip-path=\"url(#clip650)\" style=\"stroke:#000000; stroke-linecap:round; stroke-linejoin:round; stroke-width:4; stroke-opacity:1; fill:none\" points=\"219.866,82.7441 238.764,82.7441 \"/>\n",
       "<path clip-path=\"url(#clip650)\" d=\"M126.691 1370.04 Q123.08 1370.04 121.251 1373.6 Q119.445 1377.14 119.445 1384.27 Q119.445 1391.38 121.251 1394.94 Q123.08 1398.49 126.691 1398.49 Q130.325 1398.49 132.13 1394.94 Q133.959 1391.38 133.959 1384.27 Q133.959 1377.14 132.13 1373.6 Q130.325 1370.04 126.691 1370.04 M126.691 1366.33 Q132.501 1366.33 135.556 1370.94 Q138.635 1375.52 138.635 1384.27 Q138.635 1393 135.556 1397.61 Q132.501 1402.19 126.691 1402.19 Q120.88 1402.19 117.802 1397.61 Q114.746 1393 114.746 1384.27 Q114.746 1375.52 117.802 1370.94 Q120.88 1366.33 126.691 1366.33 Z\" fill=\"#000000\" fill-rule=\"nonzero\" fill-opacity=\"1\" /><path clip-path=\"url(#clip650)\" d=\"M146.853 1395.64 L151.737 1395.64 L151.737 1401.52 L146.853 1401.52 L146.853 1395.64 Z\" fill=\"#000000\" fill-rule=\"nonzero\" fill-opacity=\"1\" /><path clip-path=\"url(#clip650)\" d=\"M171.922 1370.04 Q168.311 1370.04 166.482 1373.6 Q164.677 1377.14 164.677 1384.27 Q164.677 1391.38 166.482 1394.94 Q168.311 1398.49 171.922 1398.49 Q175.556 1398.49 177.362 1394.94 Q179.19 1391.38 179.19 1384.27 Q179.19 1377.14 177.362 1373.6 Q175.556 1370.04 171.922 1370.04 M171.922 1366.33 Q177.732 1366.33 180.788 1370.94 Q183.866 1375.52 183.866 1384.27 Q183.866 1393 180.788 1397.61 Q177.732 1402.19 171.922 1402.19 Q166.112 1402.19 163.033 1397.61 Q159.978 1393 159.978 1384.27 Q159.978 1375.52 163.033 1370.94 Q166.112 1366.33 171.922 1366.33 Z\" fill=\"#000000\" fill-rule=\"nonzero\" fill-opacity=\"1\" /><path clip-path=\"url(#clip650)\" d=\"M128.288 1044.66 Q124.677 1044.66 122.848 1048.23 Q121.043 1051.77 121.043 1058.9 Q121.043 1066.01 122.848 1069.57 Q124.677 1073.11 128.288 1073.11 Q131.922 1073.11 133.728 1069.57 Q135.556 1066.01 135.556 1058.9 Q135.556 1051.77 133.728 1048.23 Q131.922 1044.66 128.288 1044.66 M128.288 1040.96 Q134.098 1040.96 137.154 1045.57 Q140.232 1050.15 140.232 1058.9 Q140.232 1067.63 137.154 1072.23 Q134.098 1076.82 128.288 1076.82 Q122.478 1076.82 119.399 1072.23 Q116.343 1067.63 116.343 1058.9 Q116.343 1050.15 119.399 1045.57 Q122.478 1040.96 128.288 1040.96 Z\" fill=\"#000000\" fill-rule=\"nonzero\" fill-opacity=\"1\" /><path clip-path=\"url(#clip650)\" d=\"M148.45 1070.27 L153.334 1070.27 L153.334 1076.14 L148.45 1076.14 L148.45 1070.27 Z\" fill=\"#000000\" fill-rule=\"nonzero\" fill-opacity=\"1\" /><path clip-path=\"url(#clip650)\" d=\"M167.547 1072.21 L183.866 1072.21 L183.866 1076.14 L161.922 1076.14 L161.922 1072.21 Q164.584 1069.45 169.167 1064.83 Q173.774 1060.17 174.954 1058.83 Q177.2 1056.31 178.079 1054.57 Q178.982 1052.81 178.982 1051.12 Q178.982 1048.37 177.038 1046.63 Q175.116 1044.89 172.014 1044.89 Q169.815 1044.89 167.362 1045.66 Q164.931 1046.42 162.153 1047.97 L162.153 1043.25 Q164.977 1042.12 167.431 1041.54 Q169.885 1040.96 171.922 1040.96 Q177.292 1040.96 180.487 1043.64 Q183.681 1046.33 183.681 1050.82 Q183.681 1052.95 182.871 1054.87 Q182.084 1056.77 179.977 1059.36 Q179.399 1060.03 176.297 1063.25 Q173.195 1066.45 167.547 1072.21 Z\" fill=\"#000000\" fill-rule=\"nonzero\" fill-opacity=\"1\" /><path clip-path=\"url(#clip650)\" d=\"M126.205 719.29 Q122.593 719.29 120.765 722.855 Q118.959 726.396 118.959 733.526 Q118.959 740.632 120.765 744.197 Q122.593 747.739 126.205 747.739 Q129.839 747.739 131.644 744.197 Q133.473 740.632 133.473 733.526 Q133.473 726.396 131.644 722.855 Q129.839 719.29 126.205 719.29 M126.205 715.586 Q132.015 715.586 135.07 720.193 Q138.149 724.776 138.149 733.526 Q138.149 742.253 135.07 746.859 Q132.015 751.442 126.205 751.442 Q120.394 751.442 117.316 746.859 Q114.26 742.253 114.26 733.526 Q114.26 724.776 117.316 720.193 Q120.394 715.586 126.205 715.586 Z\" fill=\"#000000\" fill-rule=\"nonzero\" fill-opacity=\"1\" /><path clip-path=\"url(#clip650)\" d=\"M146.366 744.892 L151.251 744.892 L151.251 750.771 L146.366 750.771 L146.366 744.892 Z\" fill=\"#000000\" fill-rule=\"nonzero\" fill-opacity=\"1\" /><path clip-path=\"url(#clip650)\" d=\"M174.283 720.285 L162.477 738.734 L174.283 738.734 L174.283 720.285 M173.056 716.211 L178.936 716.211 L178.936 738.734 L183.866 738.734 L183.866 742.623 L178.936 742.623 L178.936 750.771 L174.283 750.771 L174.283 742.623 L158.681 742.623 L158.681 738.109 L173.056 716.211 Z\" fill=\"#000000\" fill-rule=\"nonzero\" fill-opacity=\"1\" /><path clip-path=\"url(#clip650)\" d=\"M126.529 393.916 Q122.918 393.916 121.089 397.481 Q119.283 401.023 119.283 408.152 Q119.283 415.259 121.089 418.824 Q122.918 422.365 126.529 422.365 Q130.163 422.365 131.968 418.824 Q133.797 415.259 133.797 408.152 Q133.797 401.023 131.968 397.481 Q130.163 393.916 126.529 393.916 M126.529 390.213 Q132.339 390.213 135.394 394.819 Q138.473 399.402 138.473 408.152 Q138.473 416.879 135.394 421.486 Q132.339 426.069 126.529 426.069 Q120.718 426.069 117.64 421.486 Q114.584 416.879 114.584 408.152 Q114.584 399.402 117.64 394.819 Q120.718 390.213 126.529 390.213 Z\" fill=\"#000000\" fill-rule=\"nonzero\" fill-opacity=\"1\" /><path clip-path=\"url(#clip650)\" d=\"M146.691 419.518 L151.575 419.518 L151.575 425.398 L146.691 425.398 L146.691 419.518 Z\" fill=\"#000000\" fill-rule=\"nonzero\" fill-opacity=\"1\" /><path clip-path=\"url(#clip650)\" d=\"M172.339 406.254 Q169.19 406.254 167.339 408.407 Q165.51 410.56 165.51 414.31 Q165.51 418.037 167.339 420.213 Q169.19 422.365 172.339 422.365 Q175.487 422.365 177.315 420.213 Q179.167 418.037 179.167 414.31 Q179.167 410.56 177.315 408.407 Q175.487 406.254 172.339 406.254 M181.621 391.602 L181.621 395.861 Q179.862 395.027 178.056 394.588 Q176.274 394.148 174.514 394.148 Q169.885 394.148 167.431 397.273 Q165.001 400.398 164.653 406.717 Q166.019 404.703 168.079 403.639 Q170.139 402.551 172.616 402.551 Q177.825 402.551 180.834 405.722 Q183.866 408.87 183.866 414.31 Q183.866 419.634 180.718 422.851 Q177.57 426.069 172.339 426.069 Q166.343 426.069 163.172 421.486 Q160.001 416.879 160.001 408.152 Q160.001 399.958 163.89 395.097 Q167.778 390.213 174.329 390.213 Q176.089 390.213 177.871 390.56 Q179.676 390.907 181.621 391.602 Z\" fill=\"#000000\" fill-rule=\"nonzero\" fill-opacity=\"1\" /><path clip-path=\"url(#clip650)\" d=\"M126.783 68.5428 Q123.172 68.5428 121.343 72.1076 Q119.538 75.6493 119.538 82.7789 Q119.538 89.8853 121.343 93.4501 Q123.172 96.9917 126.783 96.9917 Q130.417 96.9917 132.223 93.4501 Q134.052 89.8853 134.052 82.7789 Q134.052 75.6493 132.223 72.1076 Q130.417 68.5428 126.783 68.5428 M126.783 64.8391 Q132.593 64.8391 135.649 69.4456 Q138.728 74.0289 138.728 82.7789 Q138.728 91.5057 135.649 96.1121 Q132.593 100.695 126.783 100.695 Q120.973 100.695 117.894 96.1121 Q114.839 91.5057 114.839 82.7789 Q114.839 74.0289 117.894 69.4456 Q120.973 64.8391 126.783 64.8391 Z\" fill=\"#000000\" fill-rule=\"nonzero\" fill-opacity=\"1\" /><path clip-path=\"url(#clip650)\" d=\"M146.945 94.1445 L151.829 94.1445 L151.829 100.024 L146.945 100.024 L146.945 94.1445 Z\" fill=\"#000000\" fill-rule=\"nonzero\" fill-opacity=\"1\" /><path clip-path=\"url(#clip650)\" d=\"M172.014 83.6122 Q168.681 83.6122 166.76 85.3946 Q164.862 87.177 164.862 90.302 Q164.862 93.4269 166.76 95.2093 Q168.681 96.9917 172.014 96.9917 Q175.348 96.9917 177.269 95.2093 Q179.19 93.4038 179.19 90.302 Q179.19 87.177 177.269 85.3946 Q175.371 83.6122 172.014 83.6122 M167.339 81.6215 Q164.329 80.8807 162.64 78.8205 Q160.973 76.7604 160.973 73.7974 Q160.973 69.6539 163.913 67.2465 Q166.876 64.8391 172.014 64.8391 Q177.176 64.8391 180.116 67.2465 Q183.056 69.6539 183.056 73.7974 Q183.056 76.7604 181.366 78.8205 Q179.7 80.8807 176.714 81.6215 Q180.093 82.4085 181.968 84.7001 Q183.866 86.9918 183.866 90.302 Q183.866 95.3251 180.788 98.0103 Q177.732 100.695 172.014 100.695 Q166.297 100.695 163.218 98.0103 Q160.163 95.3251 160.163 90.302 Q160.163 86.9918 162.061 84.7001 Q163.959 82.4085 167.339 81.6215 M165.626 74.2372 Q165.626 76.9224 167.292 78.427 Q168.982 79.9316 172.014 79.9316 Q175.024 79.9316 176.714 78.427 Q178.426 76.9224 178.426 74.2372 Q178.426 71.5521 176.714 70.0474 Q175.024 68.5428 172.014 68.5428 Q168.982 68.5428 167.292 70.0474 Q165.626 71.5521 165.626 74.2372 Z\" fill=\"#000000\" fill-rule=\"nonzero\" fill-opacity=\"1\" /><path clip-path=\"url(#clip650)\" d=\"M58.657 788.97 L77.5631 788.97 L77.5631 794.859 L28.3562 794.859 L28.3562 788.97 L33.7671 788.97 Q30.5842 787.124 29.0564 784.323 Q27.4968 781.491 27.4968 777.576 Q27.4968 771.083 32.6531 767.041 Q37.8093 762.966 46.212 762.966 Q54.6147 762.966 59.771 767.041 Q64.9272 771.083 64.9272 777.576 Q64.9272 781.491 63.3994 784.323 Q61.8398 787.124 58.657 788.97 M46.212 769.046 Q39.7508 769.046 36.0905 771.719 Q32.3984 774.361 32.3984 779.008 Q32.3984 783.655 36.0905 786.329 Q39.7508 788.97 46.212 788.97 Q52.6732 788.97 56.3653 786.329 Q60.0256 783.655 60.0256 779.008 Q60.0256 774.361 56.3653 771.719 Q52.6732 769.046 46.212 769.046 Z\" fill=\"#000000\" fill-rule=\"nonzero\" fill-opacity=\"1\" /><path clip-path=\"url(#clip650)\" d=\"M14.5426 739.191 Q21.8632 743.456 29.0246 745.524 Q36.186 747.593 43.5384 747.593 Q50.8908 747.593 58.1159 745.524 Q65.3091 743.424 72.5979 739.191 L72.5979 744.283 Q65.1182 749.057 57.8931 751.445 Q50.668 753.8 43.5384 753.8 Q36.4406 753.8 29.2474 751.445 Q22.0542 749.089 14.5426 744.283 L14.5426 739.191 Z\" fill=\"#000000\" fill-rule=\"nonzero\" fill-opacity=\"1\" /><path clip-path=\"url(#clip650)\" d=\"M28.3562 698.195 L45.7028 711.086 L64.0042 697.527 L64.0042 704.434 L49.9996 714.81 L64.0042 725.186 L64.0042 732.093 L45.3526 718.247 L28.3562 730.915 L28.3562 724.008 L41.0558 714.555 L28.3562 705.102 L28.3562 698.195 Z\" fill=\"#000000\" fill-rule=\"nonzero\" fill-opacity=\"1\" /><path clip-path=\"url(#clip650)\" d=\"M14.5426 690.175 L14.5426 685.082 Q22.0542 680.308 29.2474 677.952 Q36.4406 675.565 43.5384 675.565 Q50.668 675.565 57.8931 677.952 Q65.1182 680.308 72.5979 685.082 L72.5979 690.175 Q65.3091 685.941 58.1159 683.873 Q50.8908 681.772 43.5384 681.772 Q36.186 681.772 29.0246 683.873 Q21.8632 685.941 14.5426 690.175 Z\" fill=\"#000000\" fill-rule=\"nonzero\" fill-opacity=\"1\" /><polyline clip-path=\"url(#clip652)\" style=\"stroke:#ff0000; stroke-linecap:round; stroke-linejoin:round; stroke-width:20; stroke-opacity:1; fill:none\" stroke-dasharray=\"80, 50\" points=\"280.231,1377.03 286.938,1376.58 293.645,1376.12 300.353,1375.62 307.06,1375.1 313.767,1374.55 320.474,1373.98 327.181,1373.37 333.889,1372.73 340.596,1372.06 347.303,1371.36 354.01,1370.62 360.717,1369.85 367.425,1369.03 374.132,1368.18 380.839,1367.28 387.546,1366.35 394.253,1365.37 400.961,1364.34 407.668,1363.26 414.375,1362.14 421.082,1360.97 427.789,1359.74 434.497,1358.46 441.204,1357.12 447.911,1355.72 454.618,1354.27 461.325,1352.75 468.033,1351.17 474.74,1349.52 481.447,1347.81 488.154,1346.02 494.861,1344.17 501.569,1342.24 508.276,1340.23 514.983,1338.15 521.69,1335.99 528.397,1333.75 535.105,1331.43 541.812,1329.02 548.519,1326.53 555.226,1323.94 561.933,1321.27 568.641,1318.5 575.348,1315.64 582.055,1312.68 588.762,1309.63 595.469,1306.47 602.177,1303.22 608.884,1299.86 615.591,1296.4 622.298,1292.84 629.005,1289.16 635.713,1285.38 642.42,1281.49 649.127,1277.49 655.834,1273.38 662.541,1269.15 669.249,1264.82 675.956,1260.36 682.663,1255.8 689.37,1251.12 696.077,1246.32 702.785,1241.41 709.492,1236.38 716.199,1231.23 722.906,1225.97 729.613,1220.6 736.321,1215.11 743.028,1209.5 749.735,1203.78 756.442,1197.95 763.149,1192.01 769.857,1185.96 776.564,1179.8 783.271,1173.53 789.978,1167.16 796.685,1160.68 803.393,1154.1 810.1,1147.42 816.807,1140.65 823.514,1133.78 830.221,1126.83 836.929,1119.78 843.636,1112.65 850.343,1105.44 857.05,1098.16 863.757,1090.8 870.465,1083.37 877.172,1075.88 883.879,1068.32 890.586,1060.71 897.293,1053.05 904.001,1045.35 910.708,1037.6 917.415,1029.82 924.122,1022.01 930.829,1014.18 937.537,1006.32 944.244,998.456 950.951,990.584 957.658,982.712 964.365,974.846 971.073,966.993 977.78,959.16 984.487,951.353 991.194,943.578 997.901,935.844 1004.61,928.156 1011.32,920.522 1018.02,912.948 1024.73,905.443 1031.44,898.012 1038.14,890.664 1044.85,883.405 1051.56,876.242 1058.27,869.184 1064.97,862.235 1071.68,855.405 1078.39,848.7 1085.1,842.126 1091.8,835.691 1098.51,829.402 1105.22,823.265 1111.92,817.287 1118.63,811.475 1125.34,805.834 1132.05,800.371 1138.75,795.093 1145.46,790.004 1152.17,785.111 1158.87,780.42 1165.58,775.935 1172.29,771.662 1179,767.606 1185.7,763.771 1192.41,760.162 1199.12,756.782 1205.82,753.637 1212.53,750.73 1219.24,748.064 1225.95,745.641 1232.65,743.467 1239.36,741.541 1246.07,739.868 1252.78,738.449 1259.48,737.286 1266.19,736.379 1272.9,735.731 1279.6,735.342 1286.31,735.212 1293.02,735.342 1299.73,735.731 1306.43,736.379 1313.14,737.286 1319.85,738.449 1326.55,739.868 1333.26,741.541 1339.97,743.467 1346.68,745.641 1353.38,748.064 1360.09,750.73 1366.8,753.637 1373.5,756.782 1380.21,760.162 1386.92,763.771 1393.63,767.606 1400.33,771.662 1407.04,775.935 1413.75,780.42 1420.46,785.111 1427.16,790.004 1433.87,795.093 1440.58,800.371 1447.28,805.834 1453.99,811.475 1460.7,817.287 1467.41,823.265 1474.11,829.402 1480.82,835.691 1487.53,842.126 1494.23,848.7 1500.94,855.405 1507.65,862.235 1514.36,869.184 1521.06,876.242 1527.77,883.405 1534.48,890.664 1541.18,898.012 1547.89,905.443 1554.6,912.948 1561.31,920.522 1568.01,928.156 1574.72,935.844 1581.43,943.578 1588.14,951.353 1594.84,959.16 1601.55,966.993 1608.26,974.846 1614.96,982.712 1621.67,990.584 1628.38,998.456 1635.09,1006.32 1641.79,1014.18 1648.5,1022.01 1655.21,1029.82 1661.91,1037.6 1668.62,1045.35 1675.33,1053.05 1682.04,1060.71 1688.74,1068.32 1695.45,1075.88 1702.16,1083.37 1708.86,1090.8 1715.57,1098.16 1722.28,1105.44 1728.99,1112.65 1735.69,1119.78 1742.4,1126.83 1749.11,1133.78 1755.82,1140.65 1762.52,1147.42 1769.23,1154.1 1775.94,1160.68 1782.64,1167.16 1789.35,1173.53 1796.06,1179.8 1802.77,1185.96 1809.47,1192.01 1816.18,1197.95 1822.89,1203.78 1829.59,1209.5 1836.3,1215.11 1843.01,1220.6 1849.72,1225.97 1856.42,1231.23 1863.13,1236.38 1869.84,1241.41 1876.54,1246.32 1883.25,1251.12 1889.96,1255.8 1896.67,1260.36 1903.37,1264.82 1910.08,1269.15 1916.79,1273.38 1923.5,1277.49 1930.2,1281.49 1936.91,1285.38 1943.62,1289.16 1950.32,1292.84 1957.03,1296.4 1963.74,1299.86 1970.45,1303.22 1977.15,1306.47 1983.86,1309.63 1990.57,1312.68 1997.27,1315.64 2003.98,1318.5 2010.69,1321.27 2017.4,1323.94 2024.1,1326.53 2030.81,1329.02 2037.52,1331.43 2044.22,1333.75 2050.93,1335.99 2057.64,1338.15 2064.35,1340.23 2071.05,1342.24 2077.76,1344.17 2084.47,1346.02 2091.18,1347.81 2097.88,1349.52 2104.59,1351.17 2111.3,1352.75 2118,1354.27 2124.71,1355.72 2131.42,1357.12 2138.13,1358.46 2144.83,1359.74 2151.54,1360.97 2158.25,1362.14 2164.95,1363.26 2171.66,1364.34 2178.37,1365.37 2185.08,1366.35 2191.78,1367.28 2198.49,1368.18 2205.2,1369.03 2211.9,1369.85 2218.61,1370.62 2225.32,1371.36 2232.03,1372.06 2238.73,1372.73 2245.44,1373.37 2252.15,1373.98 2258.86,1374.55 2265.56,1375.1 2272.27,1375.62 2278.98,1376.12 2285.68,1376.58 2292.39,1377.03 \"/>\n",
       "<polyline clip-path=\"url(#clip652)\" style=\"stroke:#0000ff; stroke-linecap:round; stroke-linejoin:round; stroke-width:4; stroke-opacity:1; fill:none\" points=\"280.231,1384.24 286.938,1384.24 293.645,1384.24 300.353,1384.24 307.06,1384.24 313.767,1384.24 320.474,1384.24 327.181,1384.24 333.889,1384.24 340.596,1384.24 347.303,1384.24 354.01,1384.24 360.717,1384.24 367.425,1384.24 374.132,1384.24 380.839,1384.24 387.546,1384.24 394.253,1384.24 400.961,1384.24 407.668,1384.24 414.375,1384.24 421.082,1384.24 427.789,1384.24 434.497,1384.24 441.204,1384.24 447.911,1384.24 454.618,1384.24 461.325,1384.24 468.033,1384.24 474.74,1384.24 481.447,1384.24 488.154,1384.24 494.861,1384.24 501.569,1384.24 508.276,1384.24 514.983,1384.24 521.69,1384.24 528.397,1384.24 535.105,1384.24 541.812,1384.24 548.519,1384.24 555.226,1384.24 561.933,1384.24 568.641,1384.24 575.348,1384.24 582.055,1384.24 588.762,1384.24 595.469,1384.24 602.177,1384.24 608.884,1384.24 615.591,1384.24 622.298,1384.24 629.005,1384.24 635.713,1384.24 642.42,1384.24 649.127,1384.24 655.834,1384.24 662.541,1384.24 669.249,1384.24 675.956,1384.24 682.663,1384.24 689.37,1384.24 696.077,1384.24 702.785,1384.24 709.492,1384.24 716.199,1384.24 722.906,1384.24 729.613,1384.24 736.321,1384.24 743.028,1384.24 749.735,1384.24 756.442,1384.24 763.149,1384.24 769.857,1384.24 776.564,1384.23 783.271,1384.23 789.978,1384.23 796.685,1384.23 803.393,1384.23 810.1,1384.23 816.807,1384.23 823.514,1384.22 830.221,1384.22 836.929,1384.22 843.636,1384.21 850.343,1384.21 857.05,1384.2 863.757,1384.19 870.465,1384.18 877.172,1384.17 883.879,1384.16 890.586,1384.14 897.293,1384.12 904.001,1384.1 910.708,1384.08 917.415,1384.05 924.122,1384.01 930.829,1383.97 937.537,1383.92 944.244,1383.87 950.951,1383.8 957.658,1383.73 964.365,1383.64 971.073,1383.54 977.78,1383.42 984.487,1383.29 991.194,1383.13 997.901,1382.95 1004.61,1382.75 1011.32,1382.52 1018.02,1382.25 1024.73,1381.94 1031.44,1381.59 1038.14,1381.19 1044.85,1380.74 1051.56,1380.23 1058.27,1379.65 1064.97,1378.99 1071.68,1378.25 1078.39,1377.42 1085.1,1376.48 1091.8,1375.43 1098.51,1374.25 1105.22,1372.93 1111.92,1371.46 1118.63,1369.82 1125.34,1367.99 1132.05,1365.97 1138.75,1363.72 1145.46,1361.23 1152.17,1358.48 1158.87,1355.45 1165.58,1352.12 1172.29,1348.46 1179,1344.44 1185.7,1340.04 1192.41,1335.24 1199.12,1330 1205.82,1324.29 1212.53,1318.1 1219.24,1311.37 1225.95,1304.09 1232.65,1296.23 1239.36,1287.75 1246.07,1278.62 1252.78,1268.81 1259.48,1258.3 1266.19,1247.04 1272.9,1235.02 1279.6,1222.2 1286.31,1208.57 1293.02,1194.09 1299.73,1178.74 1306.43,1162.52 1313.14,1145.39 1319.85,1127.36 1326.55,1108.4 1333.26,1088.52 1339.97,1067.71 1346.68,1045.98 1353.38,1023.33 1360.09,999.786 1366.8,975.359 1373.5,950.075 1380.21,923.965 1386.92,897.065 1393.63,869.417 1400.33,841.069 1407.04,812.077 1413.75,782.501 1420.46,752.408 1427.16,721.871 1433.87,690.968 1440.58,659.783 1447.28,628.405 1453.99,596.93 1460.7,565.454 1467.41,534.082 1474.11,502.919 1480.82,472.074 1487.53,441.659 1494.23,411.787 1500.94,382.572 1507.65,354.129 1514.36,326.572 1521.06,300.014 1527.77,274.566 1534.48,250.336 1541.18,227.43 1547.89,205.947 1554.6,185.985 1561.31,167.632 1568.01,150.973 1574.72,136.085 1581.43,123.036 1588.14,111.889 1594.84,102.695 1601.55,95.4981 1608.26,90.3328 1614.96,87.2237 1621.67,86.1857 1628.38,87.2237 1635.09,90.3328 1641.79,95.4981 1648.5,102.695 1655.21,111.889 1661.91,123.036 1668.62,136.085 1675.33,150.973 1682.04,167.632 1688.74,185.985 1695.45,205.947 1702.16,227.43 1708.86,250.336 1715.57,274.566 1722.28,300.014 1728.99,326.572 1735.69,354.129 1742.4,382.572 1749.11,411.787 1755.82,441.659 1762.52,472.074 1769.23,502.919 1775.94,534.082 1782.64,565.454 1789.35,596.93 1796.06,628.405 1802.77,659.783 1809.47,690.968 1816.18,721.871 1822.89,752.408 1829.59,782.501 1836.3,812.077 1843.01,841.069 1849.72,869.417 1856.42,897.065 1863.13,923.965 1869.84,950.075 1876.54,975.359 1883.25,999.786 1889.96,1023.33 1896.67,1045.98 1903.37,1067.71 1910.08,1088.52 1916.79,1108.4 1923.5,1127.36 1930.2,1145.39 1936.91,1162.52 1943.62,1178.74 1950.32,1194.09 1957.03,1208.57 1963.74,1222.2 1970.45,1235.02 1977.15,1247.04 1983.86,1258.3 1990.57,1268.81 1997.27,1278.62 2003.98,1287.75 2010.69,1296.23 2017.4,1304.09 2024.1,1311.37 2030.81,1318.1 2037.52,1324.29 2044.22,1330 2050.93,1335.24 2057.64,1340.04 2064.35,1344.44 2071.05,1348.46 2077.76,1352.12 2084.47,1355.45 2091.18,1358.48 2097.88,1361.23 2104.59,1363.72 2111.3,1365.97 2118,1367.99 2124.71,1369.82 2131.42,1371.46 2138.13,1372.93 2144.83,1374.25 2151.54,1375.43 2158.25,1376.48 2164.95,1377.42 2171.66,1378.25 2178.37,1378.99 2185.08,1379.65 2191.78,1380.23 2198.49,1380.74 2205.2,1381.19 2211.9,1381.59 2218.61,1381.94 2225.32,1382.25 2232.03,1382.52 2238.73,1382.75 2245.44,1382.95 2252.15,1383.13 2258.86,1383.29 2265.56,1383.42 2272.27,1383.54 2278.98,1383.64 2285.68,1383.73 2292.39,1383.8 \"/>\n",
       "<path clip-path=\"url(#clip650)\" d=\"M1884.02 248.629 L2281.66 248.629 L2281.66 93.1086 L1884.02 93.1086  Z\" fill=\"#ffffff\" fill-rule=\"evenodd\" fill-opacity=\"1\"/>\n",
       "<polyline clip-path=\"url(#clip650)\" style=\"stroke:#000000; stroke-linecap:round; stroke-linejoin:round; stroke-width:4; stroke-opacity:1; fill:none\" points=\"1884.02,248.629 2281.66,248.629 2281.66,93.1086 1884.02,93.1086 1884.02,248.629 \"/>\n",
       "<polyline clip-path=\"url(#clip650)\" style=\"stroke:#ff0000; stroke-linecap:round; stroke-linejoin:round; stroke-width:20; stroke-opacity:1; fill:none\" stroke-dasharray=\"80, 50\" points=\"1907.72,144.949 2049.91,144.949 \"/>\n",
       "<path clip-path=\"url(#clip650)\" d=\"M2073.61 127.669 L2079.91 127.669 L2095.23 156.581 L2095.23 127.669 L2099.77 127.669 L2099.77 162.229 L2093.47 162.229 L2078.15 133.317 L2078.15 162.229 L2073.61 162.229 L2073.61 127.669 Z\" fill=\"#000000\" fill-rule=\"nonzero\" fill-opacity=\"1\" /><path clip-path=\"url(#clip650)\" d=\"M2119.12 126.257 Q2116.02 131.581 2114.51 136.789 Q2113.01 141.997 2113.01 147.344 Q2113.01 152.692 2114.51 157.946 Q2116.04 163.178 2119.12 168.479 L2115.42 168.479 Q2111.94 163.039 2110.21 157.784 Q2108.49 152.53 2108.49 147.344 Q2108.49 142.182 2110.21 136.951 Q2111.92 131.72 2115.42 126.257 L2119.12 126.257 Z\" fill=\"#000000\" fill-rule=\"nonzero\" fill-opacity=\"1\" /><path clip-path=\"url(#clip650)\" d=\"M2137.98 130.747 Q2134.37 130.747 2132.54 134.312 Q2130.74 137.854 2130.74 144.983 Q2130.74 152.09 2132.54 155.655 Q2134.37 159.196 2137.98 159.196 Q2141.62 159.196 2143.42 155.655 Q2145.25 152.09 2145.25 144.983 Q2145.25 137.854 2143.42 134.312 Q2141.62 130.747 2137.98 130.747 M2137.98 127.044 Q2143.79 127.044 2146.85 131.65 Q2149.93 136.233 2149.93 144.983 Q2149.93 153.71 2146.85 158.317 Q2143.79 162.9 2137.98 162.9 Q2132.17 162.9 2129.1 158.317 Q2126.04 153.71 2126.04 144.983 Q2126.04 136.233 2129.1 131.65 Q2132.17 127.044 2137.98 127.044 Z\" fill=\"#000000\" fill-rule=\"nonzero\" fill-opacity=\"1\" /><path clip-path=\"url(#clip650)\" d=\"M2158.63 156.349 L2163.52 156.349 L2163.52 160.33 L2159.72 167.738 L2156.73 167.738 L2158.63 160.33 L2158.63 156.349 Z\" fill=\"#000000\" fill-rule=\"nonzero\" fill-opacity=\"1\" /><path clip-path=\"url(#clip650)\" d=\"M2174.03 158.293 L2181.66 158.293 L2181.66 131.928 L2173.35 133.595 L2173.35 129.335 L2181.62 127.669 L2186.29 127.669 L2186.29 158.293 L2193.93 158.293 L2193.93 162.229 L2174.03 162.229 L2174.03 158.293 Z\" fill=\"#000000\" fill-rule=\"nonzero\" fill-opacity=\"1\" /><path clip-path=\"url(#clip650)\" d=\"M2202.1 126.257 L2205.81 126.257 Q2209.28 131.72 2210.99 136.951 Q2212.73 142.182 2212.73 147.344 Q2212.73 152.53 2210.99 157.784 Q2209.28 163.039 2205.81 168.479 L2202.1 168.479 Q2205.18 163.178 2206.69 157.946 Q2208.22 152.692 2208.22 147.344 Q2208.22 141.997 2206.69 136.789 Q2205.18 131.581 2202.1 126.257 Z\" fill=\"#000000\" fill-rule=\"nonzero\" fill-opacity=\"1\" /><polyline clip-path=\"url(#clip650)\" style=\"stroke:#0000ff; stroke-linecap:round; stroke-linejoin:round; stroke-width:4; stroke-opacity:1; fill:none\" points=\"1907.72,196.789 2049.91,196.789 \"/>\n",
       "<path clip-path=\"url(#clip650)\" d=\"M2073.61 179.509 L2079.91 179.509 L2095.23 208.421 L2095.23 179.509 L2099.77 179.509 L2099.77 214.069 L2093.47 214.069 L2078.15 185.157 L2078.15 214.069 L2073.61 214.069 L2073.61 179.509 Z\" fill=\"#000000\" fill-rule=\"nonzero\" fill-opacity=\"1\" /><path clip-path=\"url(#clip650)\" d=\"M2119.12 178.097 Q2116.02 183.421 2114.51 188.629 Q2113.01 193.837 2113.01 199.184 Q2113.01 204.532 2114.51 209.786 Q2116.04 215.018 2119.12 220.319 L2115.42 220.319 Q2111.94 214.879 2110.21 209.624 Q2108.49 204.37 2108.49 199.184 Q2108.49 194.022 2110.21 188.791 Q2111.92 183.56 2115.42 178.097 L2119.12 178.097 Z\" fill=\"#000000\" fill-rule=\"nonzero\" fill-opacity=\"1\" /><path clip-path=\"url(#clip650)\" d=\"M2128.79 210.133 L2136.43 210.133 L2136.43 183.768 L2128.12 185.435 L2128.12 181.175 L2136.39 179.509 L2141.06 179.509 L2141.06 210.133 L2148.7 210.133 L2148.7 214.069 L2128.79 214.069 L2128.79 210.133 Z\" fill=\"#000000\" fill-rule=\"nonzero\" fill-opacity=\"1\" /><path clip-path=\"url(#clip650)\" d=\"M2158.63 208.189 L2163.52 208.189 L2163.52 212.17 L2159.72 219.578 L2156.73 219.578 L2158.63 212.17 L2158.63 208.189 Z\" fill=\"#000000\" fill-rule=\"nonzero\" fill-opacity=\"1\" /><path clip-path=\"url(#clip650)\" d=\"M2183.22 182.587 Q2179.6 182.587 2177.78 186.152 Q2175.97 189.694 2175.97 196.823 Q2175.97 203.93 2177.78 207.495 Q2179.6 211.036 2183.22 211.036 Q2186.85 211.036 2188.66 207.495 Q2190.48 203.93 2190.48 196.823 Q2190.48 189.694 2188.66 186.152 Q2186.85 182.587 2183.22 182.587 M2183.22 178.884 Q2189.03 178.884 2192.08 183.49 Q2195.16 188.073 2195.16 196.823 Q2195.16 205.55 2192.08 210.157 Q2189.03 214.74 2183.22 214.74 Q2177.41 214.74 2174.33 210.157 Q2171.27 205.55 2171.27 196.823 Q2171.27 188.073 2174.33 183.49 Q2177.41 178.884 2183.22 178.884 Z\" fill=\"#000000\" fill-rule=\"nonzero\" fill-opacity=\"1\" /><path clip-path=\"url(#clip650)\" d=\"M2203.38 208.189 L2208.26 208.189 L2208.26 214.069 L2203.38 214.069 L2203.38 208.189 Z\" fill=\"#000000\" fill-rule=\"nonzero\" fill-opacity=\"1\" /><path clip-path=\"url(#clip650)\" d=\"M2218.49 179.509 L2236.85 179.509 L2236.85 183.444 L2222.78 183.444 L2222.78 191.916 Q2223.79 191.569 2224.81 191.407 Q2225.83 191.222 2226.85 191.222 Q2232.64 191.222 2236.02 194.393 Q2239.4 197.564 2239.4 202.981 Q2239.4 208.559 2235.92 211.661 Q2232.45 214.74 2226.13 214.74 Q2223.96 214.74 2221.69 214.37 Q2219.44 213.999 2217.04 213.258 L2217.04 208.559 Q2219.12 209.694 2221.34 210.249 Q2223.56 210.805 2226.04 210.805 Q2230.04 210.805 2232.38 208.698 Q2234.72 206.592 2234.72 202.981 Q2234.72 199.37 2232.38 197.263 Q2230.04 195.157 2226.04 195.157 Q2224.16 195.157 2222.29 195.573 Q2220.44 195.99 2218.49 196.87 L2218.49 179.509 Z\" fill=\"#000000\" fill-rule=\"nonzero\" fill-opacity=\"1\" /><path clip-path=\"url(#clip650)\" d=\"M2247.34 178.097 L2251.04 178.097 Q2254.51 183.56 2256.22 188.791 Q2257.96 194.022 2257.96 199.184 Q2257.96 204.37 2256.22 209.624 Q2254.51 214.879 2251.04 220.319 L2247.34 220.319 Q2250.41 215.018 2251.92 209.786 Q2253.45 204.532 2253.45 199.184 Q2253.45 193.837 2251.92 188.629 Q2250.41 183.421 2247.34 178.097 Z\" fill=\"#000000\" fill-rule=\"nonzero\" fill-opacity=\"1\" /></svg>\n"
      ]
     },
     "metadata": {},
     "output_type": "display_data"
    }
   ],
   "source": [
    "plot(x, pdf.(Normal(0.,1.), x), xlabel=\"x\", ylabel=\"p(x)\", label=\"N(0,1)\", color=\"red\", linewidth=5, linestyle=:dash)\n",
    "plot!(x, pdf.(Normal(1.,0.5), x), xlabel=\"x\", ylabel=\"p(x)\", label=\"N(1,0.5)\", color=\"blue\", linestyle=:solid)"
   ]
  },
  {
   "cell_type": "markdown",
   "metadata": {
    "nbgrader": {
     "grade": false,
     "grade_id": "cell-60386ddc6157fdbb",
     "locked": true,
     "schema_version": 3,
     "solution": false,
     "task": false
    }
   },
   "source": [
    "## Macro's\n",
    "\n",
    "- References: [Macros](https://docs.julialang.org/en/v1/manual/metaprogramming/#man-macros)\n",
    "\n",
    "Words that start with the `@` symbol are \"macro\"'s in Julia, for example `@time, @test, @model`. They represent a series of functions called on an input structure and are really handy when you have to use the same set of instructions often. \n",
    "\n",
    "For example, you could define a `ProgressMeter` bar, update it at every iteration of a for-loop and write a custom print statement every time. _Or_, you could call the `@showprogress` macro on the for-loop itself:"
   ]
  },
  {
   "cell_type": "code",
   "execution_count": 34,
   "metadata": {},
   "outputs": [
    {
     "name": "stderr",
     "output_type": "stream",
     "text": [
      "\u001b[32mProgress: 100%|█████████████████████████████████████████| Time: 0:00:02\u001b[39m\u001b[K\n"
     ]
    }
   ],
   "source": [
    "using ProgressMeter\n",
    "\n",
    "@showprogress for n in 1:10\n",
    "    sleep(0.1)\n",
    "end"
   ]
  },
  {
   "cell_type": "markdown",
   "metadata": {
    "nbgrader": {
     "grade": false,
     "grade_id": "cell-76339cb21a5934f5",
     "locked": true,
     "schema_version": 3,
     "solution": false,
     "task": false
    }
   },
   "source": [
    "Macro's are a somewhat advanced form of metaprogramming. You will not need to define any new macro's; this instruction is just here to explain what they are."
   ]
  },
  {
   "cell_type": "markdown",
   "metadata": {},
   "source": [
    "## Errors\n",
    "\n",
    "- References: [Stack traces](https://docs.julialang.org/en/v1/manual/stacktraces/)\n",
    "\n",
    "When you call a function that Julia doesn't know, it will return a list of the steps it took to execute your command and point to where its progress was blocked. This is highly useful but it typically requires a bit of practice to parse (i.e., read and filter) stack traces.\n",
    "\n",
    "Suppose we write a function that expects an `Integer` input and call that function with an `Float64` argument:"
   ]
  },
  {
   "cell_type": "code",
   "execution_count": 35,
   "metadata": {},
   "outputs": [
    {
     "ename": "MethodError",
     "evalue": "MethodError: no method matching add1(::Float64)\n\nClosest candidates are:\n  add1(!Matched::Integer)\n   @ Main ~/syndr/Wouter/Onderwijs/Vakken/tueindhoven/5SSD0 - Bayesian Machine Learning & Information Processing/2024-2025 Q2/BMLIP/lessons/notebooks/jl_notebook_cell_df34fa98e69747e1a8f8a730347b8e2f_Y123sZmlsZQ==.jl:1\n",
     "output_type": "error",
     "traceback": [
      "MethodError: no method matching add1(::Float64)\n",
      "\n",
      "Closest candidates are:\n",
      "  add1(!Matched::Integer)\n",
      "   @ Main ~/syndr/Wouter/Onderwijs/Vakken/tueindhoven/5SSD0 - Bayesian Machine Learning & Information Processing/2024-2025 Q2/BMLIP/lessons/notebooks/jl_notebook_cell_df34fa98e69747e1a8f8a730347b8e2f_Y123sZmlsZQ==.jl:1\n",
      "\n",
      "\n",
      "Stacktrace:\n",
      " [1] top-level scope\n",
      "   @ ~/syndr/Wouter/Onderwijs/Vakken/tueindhoven/5SSD0 - Bayesian Machine Learning & Information Processing/2024-2025 Q2/BMLIP/lessons/notebooks/jl_notebook_cell_df34fa98e69747e1a8f8a730347b8e2f_Y123sZmlsZQ==.jl:5"
     ]
    }
   ],
   "source": [
    "function add1(a::Integer)\n",
    "    return a + 1\n",
    "end\n",
    "\n",
    "add1(3.0)"
   ]
  },
  {
   "cell_type": "markdown",
   "metadata": {},
   "source": [
    "Note that we first of all get a `MethodError`. This points to the fact that Julia could not find the function (i.e, method) that you asked for; `add1(::Float64)` does not exist.\n",
    "\n",
    "Furthermore, Julia provides a list of \"Closest candidates\" which are functions of the same name with different input arguments. It reports:\n",
    "```\n",
    "Closest candidates are:\n",
    "  add1(!Matched::Integer)\n",
    "```\n",
    "\n",
    "You should read this as \"there exists a function called `add1` that expects an `Integer` input.\" Try that."
   ]
  },
  {
   "cell_type": "code",
   "execution_count": 36,
   "metadata": {},
   "outputs": [
    {
     "data": {
      "text/plain": [
       "4"
      ]
     },
     "metadata": {},
     "output_type": "display_data"
    }
   ],
   "source": [
    "add1(3)"
   ]
  },
  {
   "cell_type": "markdown",
   "metadata": {},
   "source": [
    "The `!Matched` is also important but requires a slightly more complicated example. Suppose we have a function with two `Integer` inputs and we call with `Float64` and `Int64` arguments."
   ]
  },
  {
   "cell_type": "code",
   "execution_count": 37,
   "metadata": {},
   "outputs": [
    {
     "ename": "MethodError",
     "evalue": "MethodError: no method matching add(::Float64, ::Int64)\n\nClosest candidates are:\n  add(!Matched::Integer, ::Integer)\n   @ Main ~/syndr/Wouter/Onderwijs/Vakken/tueindhoven/5SSD0 - Bayesian Machine Learning & Information Processing/2024-2025 Q2/BMLIP/lessons/notebooks/jl_notebook_cell_df34fa98e69747e1a8f8a730347b8e2f_Y130sZmlsZQ==.jl:1\n",
     "output_type": "error",
     "traceback": [
      "MethodError: no method matching add(::Float64, ::Int64)\n",
      "\n",
      "Closest candidates are:\n",
      "  add(!Matched::Integer, ::Integer)\n",
      "   @ Main ~/syndr/Wouter/Onderwijs/Vakken/tueindhoven/5SSD0 - Bayesian Machine Learning & Information Processing/2024-2025 Q2/BMLIP/lessons/notebooks/jl_notebook_cell_df34fa98e69747e1a8f8a730347b8e2f_Y130sZmlsZQ==.jl:1\n",
      "\n",
      "\n",
      "Stacktrace:\n",
      " [1] top-level scope\n",
      "   @ ~/syndr/Wouter/Onderwijs/Vakken/tueindhoven/5SSD0 - Bayesian Machine Learning & Information Processing/2024-2025 Q2/BMLIP/lessons/notebooks/jl_notebook_cell_df34fa98e69747e1a8f8a730347b8e2f_Y130sZmlsZQ==.jl:5"
     ]
    }
   ],
   "source": [
    "function add(a::Integer, b::Integer)\n",
    "    return a+b\n",
    "end\n",
    "\n",
    "add(3.0,4)"
   ]
  },
  {
   "cell_type": "markdown",
   "metadata": {},
   "source": [
    "We again get the `MethodError` that the function we asked for doesn't exist and a suggested alternative (i.e., \"closest candidate\"). But note that in that alternative, `add(!Matched::Integer, ::Integer)`, only one of the inputs is `!Matched`. So, in fact, Julia check your input argument types against those in the closest candidates. This tells you _what_ to change: if you change the first argument of your function call to an `Integer` type, then this closest candidate will be evaluated.\n"
   ]
  },
  {
   "cell_type": "code",
   "execution_count": 38,
   "metadata": {},
   "outputs": [
    {
     "data": {
      "text/plain": [
       "7"
      ]
     },
     "metadata": {},
     "output_type": "display_data"
    }
   ],
   "source": [
    "add(3,4)"
   ]
  },
  {
   "cell_type": "markdown",
   "metadata": {},
   "source": [
    "To summarize, when you get an error, it is important to read the stack trace. It may tell you that you need only change a small thing for your code to work."
   ]
  },
  {
   "cell_type": "markdown",
   "metadata": {},
   "source": [
    "The type of error can also be informative. The `MethodError` is probably the error you will see most often. Another important error is the `UndefVarError`, which occurs when you call a variable that was not defined. For example:"
   ]
  },
  {
   "cell_type": "code",
   "execution_count": 39,
   "metadata": {},
   "outputs": [
    {
     "ename": "UndefVarError",
     "evalue": "UndefVarError: `aa` not defined",
     "output_type": "error",
     "traceback": [
      "UndefVarError: `aa` not defined\n",
      "\n",
      "Stacktrace:\n",
      " [1] top-level scope\n",
      "   @ ~/syndr/Wouter/Onderwijs/Vakken/tueindhoven/5SSD0 - Bayesian Machine Learning & Information Processing/2024-2025 Q2/BMLIP/lessons/notebooks/jl_notebook_cell_df34fa98e69747e1a8f8a730347b8e2f_Y135sZmlsZQ==.jl:1"
     ]
    }
   ],
   "source": [
    "y = 3*aa"
   ]
  },
  {
   "cell_type": "markdown",
   "metadata": {},
   "source": [
    "The solution to this, of course, is to define the variable first. Sometimes this error occurs through a spelling mistake. You will encounter objects in the course called `MvNormalMeanCovariance`. If you misremember that name and write `MvNormalMeanVariance`, this will happen:"
   ]
  },
  {
   "cell_type": "code",
   "execution_count": 40,
   "metadata": {},
   "outputs": [
    {
     "ename": "UndefVarError",
     "evalue": "UndefVarError: `MvNormalMeanVariance` not defined",
     "output_type": "error",
     "traceback": [
      "UndefVarError: `MvNormalMeanVariance` not defined\n",
      "\n",
      "Stacktrace:\n",
      " [1] top-level scope\n",
      "   @ ~/syndr/Wouter/Onderwijs/Vakken/tueindhoven/5SSD0 - Bayesian Machine Learning & Information Processing/2024-2025 Q2/BMLIP/lessons/notebooks/jl_notebook_cell_df34fa98e69747e1a8f8a730347b8e2f_Y140sZmlsZQ==.jl:1"
     ]
    }
   ],
   "source": [
    "aa = MvNormalMeanVariance()"
   ]
  },
  {
   "cell_type": "markdown",
   "metadata": {},
   "source": [
    "Next to errors, it is also important to check line numbers in a stack trace. For example, the cell below contains a mistake and evaluating it will throw an error. But which line has the mistake?"
   ]
  },
  {
   "cell_type": "code",
   "execution_count": 41,
   "metadata": {},
   "outputs": [
    {
     "ename": "UndefVarError",
     "evalue": "UndefVarError: `xx` not defined",
     "output_type": "error",
     "traceback": [
      "UndefVarError: `xx` not defined\n",
      "\n",
      "Stacktrace:\n",
      " [1] top-level scope\n",
      "   @ ~/syndr/Wouter/Onderwijs/Vakken/tueindhoven/5SSD0 - Bayesian Machine Learning & Information Processing/2024-2025 Q2/BMLIP/lessons/notebooks/jl_notebook_cell_df34fa98e69747e1a8f8a730347b8e2f_Y142sZmlsZQ==.jl:3"
     ]
    }
   ],
   "source": [
    "yy = 3*2\n",
    "zz = 3*yy\n",
    "xx = yy*xx\n",
    "zz = yy*xx"
   ]
  },
  {
   "cell_type": "markdown",
   "metadata": {},
   "source": [
    "At the end of the line, right after the specific function call there is a `: <linenumber>`, which will tell you where to look."
   ]
  },
  {
   "cell_type": "markdown",
   "metadata": {},
   "source": [
    "## Closing\n",
    "\n",
    "That's it for now. If you encounter mysterious errors, please let us know on [Piazza](https://piazza.com/tue.nl/winter2025/5ssd0). We can add them to this primer."
   ]
  }
 ],
 "metadata": {
  "celltoolbar": "Raw Cell Format",
  "kernelspec": {
   "display_name": "Julia 1.10.6",
   "language": "julia",
   "name": "julia-1.10"
  },
  "language_info": {
   "file_extension": ".jl",
   "mimetype": "application/julia",
   "name": "julia",
   "version": "1.10.6"
  }
 },
 "nbformat": 4,
 "nbformat_minor": 4
}
