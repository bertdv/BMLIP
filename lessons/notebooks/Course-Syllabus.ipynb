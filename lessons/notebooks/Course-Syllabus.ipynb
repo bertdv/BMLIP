{
 "cells": [
  {
   "cell_type": "markdown",
   "metadata": {
    "slideshow": {
     "slide_type": "slide"
    }
   },
   "source": [
    "# 5SSD0 Course Syllabus \n",
    "\n"
   ]
  },
  {
   "cell_type": "markdown",
   "metadata": {
    "slideshow": {
     "slide_type": "slide"
    }
   },
   "source": [
    "### Learning Goals\n",
    "\n",
    "- This course provides an introduction to Bayesian machine learning and information processing systems. The Bayesian approach affords a unified and consistent treatment of many useful information processing systems. \n",
    "- Upon successful completion of the course, students should be able to:\n",
    "  - understand the essence of the Bayesian approach to information processing.\n",
    "  - specify a solution to an information processing problem as a Bayesian inference task on a probabilistic model.\n",
    "  - design a probabilistic model by a specifying a likelihood function and prior distribution; \n",
    "  - Code the solution in a probabilistic programming package.\n",
    "  - execute the Bayesian inference task either analytically or approximately.\n",
    "  - evaluate the resulting solution by examination of Bayesian evidence.\n",
    "  - be aware of the properties of commonly used probability distribitions such as the Gaussian, Gamma and multinomial distribution; models such as hidden Markov models and Gaussian mixture models; and inference methods such as the Laplace approximation, variational Bayes and message passing in a factor graph.   "
   ]
  },
  {
   "cell_type": "markdown",
   "metadata": {
    "slideshow": {
     "slide_type": "slide"
    }
   },
   "source": [
    "### Entrance Requirements (pre-knowledge)\n",
    "\n",
    "- Undergraduate courses in Linear Algebra and Probability Theory (or Statistics). \n",
    "- Some scientific programming experience, eg in MATLAB or Python. In this class, we use the [Julia](https://julialang.org/) programming language, which has a similar syntax to MATLAB, but is (close to) as fast as C. "
   ]
  },
  {
   "cell_type": "markdown",
   "metadata": {
    "slideshow": {
     "slide_type": "slide"
    }
   },
   "source": [
    "### Important Links\n",
    "\n",
    "- Please bookmark the following three websites:\n",
    "\n",
    "  1. The course homepage [http://bmlip.nl](https://biaslab.github.io/teaching/bmlip/) (or try [https://biaslab.github.io/teaching/bmlip](https://biaslab.github.io/teaching/bmlip/) ) contains links to all materials such as lecture notes and video lectures.\n",
    "  2. The [Piazza course site](https://piazza.com/tue.nl/winter2025/5ssd0/home) will be used for Q&A and communication.\n",
    "  3. The [Canvas course site](https://canvas.tue.nl/courses/30024) will be sparingly used for communication (mostly by ESA staff) \n"
   ]
  },
  {
   "cell_type": "markdown",
   "metadata": {
    "slideshow": {
     "slide_type": "slide"
    }
   },
   "source": [
    "### Materials\n",
    "\n",
    "- All materials can be accessed from the [course homepage](https://biaslab.github.io/teaching/bmlip).\n",
    "\n",
    "- Materials consist of the following resources:\n",
    "  - Mandatory\n",
    "    - Lecture notes\n",
    "    - Probabilistic Programming (PP) notes\n",
    "    - The lecture notes and probabilistic programming notes contain the mandatory materials. Some lecture notes are extended by a reading assignment, see the first cell in the lecture notes. These reading assignment are also part of the mandatory materials.\n",
    "  - Optional materials to help understand the lecture and PP notes\n",
    "    - video recordings of the Q2-2023 lecture series\n",
    "    - exercises\n",
    "    - Q&A at Piazza\n",
    "    - practice exams\n",
    "\n",
    "<!---\n",
    "- (If you really want to), you can study this course from your phone. Add a homepage for http://bmlip.nl that contains links to online lecture notes and video guides (which are hosted at YouTube). You can also follow Piazza discussions through the Piazza app (for android or iphone). \n",
    "\n",
    "\n",
    "- In previous years, we also posted a Video Guide for each lecture. These videos were created during the Corona epidemic (2020) and aim to cover the main points or (expected) sticky issues in a lecture. They are getting a bit outdated but are still available via [the 5SSD0 site in the 2022/23 year](https://biaslab.github.io/teaching/archive/bmlip-2022/). Of course, these videos are very optional but may help you focus on the main points of the class.  \n",
    "--->\n",
    "\n",
    "- Source materials are available at github repo at [https://github.com/bertdv/BMLIP](https://github.com/bertdv/BMLIP). You do not need to bother with this site. If you spot an error in the materials, please raise the issue at Piazza.  "
   ]
  },
  {
   "cell_type": "markdown",
   "metadata": {
    "slideshow": {
     "slide_type": "slide"
    }
   },
   "source": [
    "### Study Guide\n",
    "\n",
    "\n",
    "\n",
    "- Slides that are not required for the exam are moved to the end of the notes and preceded by an [OPTIONAL SLIDES](#optional) header.\n",
    "\n",
    "- <p style=\"color:red\">Please study the lecture notes before you come to class!!</p> \n",
    "\n",
    "- Optionally, you can view the video recordings of the Q2-2023 lecture series for addional explanations. \n",
    "\n",
    "- Then come to the class!\n",
    "  - During the scheduled classroom meetings, I will not teach all materials in the lecture notes.\n",
    "  - Rather, I will first discuss a summary of the lecture notes and then be available for any additional questions that you may still have. \n",
    "\n",
    "- Still got any sticky issues regarding the lecture notes?\n",
    "  - Pose you question at the **Piazza site**!\n",
    "  - Your questions will be answered at the Piazza site by fellow students and accorded (or corrected) by the teaching staff.\n",
    "\n",
    "- Each class also comes with a set of exercises. They are often a bit challenging and test more of your quantitative skills than you will need for the exam. When doing exercises, feel free to make use of Sam Roweis' cheat sheets for [Matrix identities](https://github.com/bertdv/BMLIP/blob/master/lessons/notebooks/files/Roweis-1999-matrix-identities.pdf) and [Gaussian identities](https://github.com/bertdv/BMLIP/blob/master/lessons/notebooks/files/Roweis-1999-gaussian-identities.pdf). Also accessible from the course homepage.   \n"
   ]
  },
  {
   "cell_type": "markdown",
   "metadata": {
    "slideshow": {
     "slide_type": "slide"
    }
   },
   "source": [
    "### Piazza (Q&A)\n",
    "\n",
    "- We will be using Piazza for Q&A and news. The system is highly catered to getting you help fast and efficiently from both classmates and the teaching staff. \n",
    "\n",
    "- [Sign up for Piazza](http://piazza.com/tue.nl/winter2025/5ssd0) today if you have not done so. And install the Piazza app on your phone! \n",
    "\n",
    "- The quicker you begin asking questions on Piazza (rather than via emails), the quicker you'll benefit from the collective knowledge of your classmates and instructors. We encourage you to ask questions when you're struggling to understand a concept—you can even do so anonymously.\n",
    "\n",
    "- We will also disseminate news and announcements via Piazza.\n",
    "\n",
    "- Unless it is a personal issue, pose your course-related questions at Piazza (in the right folder). \n",
    "\n",
    "- Please contribute to the class by answering questions at Piazza. \n",
    "  - If so desired, you can contribute anonymously. \n",
    "  - Answering technical questions at Piazza is a great way to learn. If you really want to understand a topic, you should try to explain it to others.\n",
    "  - Every question has just a single students' answer that students can edit collectively (and a single instructors’ answer for instructors).\n",
    "\n",
    "- You can use LaTeX in Piazza for math (and please do so!). \n",
    "\n",
    "- Piazza has a great ``search`` feature. Use search before putting in new questions.\n",
    "\n"
   ]
  },
  {
   "cell_type": "markdown",
   "metadata": {
    "slideshow": {
     "slide_type": "slide"
    }
   },
   "source": [
    "### Exam Guide\n",
    "\n",
    "- The course will be scored by two programming assignments and a final written exam. See the [course homepage](https://biaslab.github.io/teaching/bmlip/) for how the final score is computed.\n",
    "\n",
    "-  The written exam in multiple-choice format. \n",
    "\n",
    "- You are not allowed to use books nor bring printed or handwritten formula sheets to the exam. Difficult-to-remember formulas are supplied at the exam sheet.\n",
    "\n",
    "- No smartphones at the exam.\n",
    "\n",
    "- The tested material consists of the mandatory lecture + PP notes (+ mandatory reading assignments as assigned in the first cell/slide of each lecture notebook).\n",
    "\n",
    "- The class homepage contains two representative practice exams from previous terms. \n",
    "\n",
    "<!---\n",
    "- Very likely, the exam wil be administered in hybrid form, which means you can take it either at home (with proctoring software) or do the exam on campus with human proctoring staff. \n",
    "\n",
    "- (BONUS POINTS!). In principle, the written exam determines 100% of your grade. If (and only if) your final score is between 5.0 and 5.4 (which would round to a failing grade 5), then I may use your contribution statistics at Piazza to upgrade your score to 5.5 (which would round to a passing grade 6).\n",
    "  - This is meant as an incentive to become an active contributor to the Piazza Q&A.\n",
    "  - The judgement on whether your Piazza participation warrants lifting your score to 5.5 is a subjective decision that I will make.\n",
    "  - You should be a more-than-average contributor to get bonus points from your Piazza inputs.\n",
    "--->"
   ]
  },
  {
   "cell_type": "markdown",
   "metadata": {},
   "source": [
    "### Preview\n",
    "\n",
    "- Check out [a recording from last year](https://youtu.be/k9DO26O6dIg?si=b8EiK12O_s76btPn) to understand what this class will be like. "
   ]
  },
  {
   "cell_type": "markdown",
   "metadata": {
    "slideshow": {
     "slide_type": "slide"
    }
   },
   "source": [
    "## <center> <a id='optional'>OPTIONAL SLIDES</a> </center>"
   ]
  },
  {
   "cell_type": "markdown",
   "metadata": {
    "slideshow": {
     "slide_type": "slide"
    }
   },
   "source": [
    "### Title\n",
    "\n",
    "- The slides below the `OPTIONAL SLIDES` marker are optional for the exam.  "
   ]
  },
  {
   "cell_type": "code",
   "execution_count": 2,
   "metadata": {
    "slideshow": {
     "slide_type": "skip"
    }
   },
   "outputs": [
    {
     "data": {
      "text/html": [
       "<!--\n",
       "This HTML file contains custom styles and some javascript.\n",
       "Include it a Jupyter notebook for improved rendering.\n",
       "-->\n",
       "\n",
       "<!-- Fonts -->\n",
       "<link href='http://fonts.googleapis.com/css?family=Alegreya+Sans:100,300,400,500,700,800,900,100italic,300italic,400italic,500italic,700italic,800italic,900italic' rel='stylesheet' type='text/css'>\n",
       "<link href='http://fonts.googleapis.com/css?family=Arvo:400,700,400italic' rel='stylesheet' type='text/css'>\n",
       "<link href='http://fonts.googleapis.com/css?family=PT+Mono' rel='stylesheet' type='text/css'>\n",
       "<link href='http://fonts.googleapis.com/css?family=Shadows+Into+Light' rel='stylesheet' type='text/css'>\n",
       "<link href='http://fonts.googleapis.com/css?family=Nixie+One' rel='stylesheet' type='text/css'>\n",
       "\n",
       "<!-- Custom style -->\n",
       "<style>\n",
       "\n",
       "@font-face {\n",
       "    font-family: \"Computer Modern\";\n",
       "    src: url('http://mirrors.ctan.org/fonts/cm-unicode/fonts/otf/cmunss.otf');\n",
       "}\n",
       "\n",
       "#notebook_panel { /* main background */\n",
       "    background: rgb(245,245,245);\n",
       "}\n",
       "\n",
       "div.container {\n",
       "    min-width: 960px;\n",
       "}\n",
       "\n",
       "div #notebook { /* centre the content */\n",
       "    background: #fff; /* white background for content */\n",
       "    margin: auto;\n",
       "    padding-left: 0em;\n",
       "}\n",
       "\n",
       "#notebook li { /* More space between bullet points */\n",
       "    margin-top:0.8em;\n",
       "}\n",
       "\n",
       "/* draw border around running cells */\n",
       "div.cell.border-box-sizing.code_cell.running {\n",
       "    border: 1px solid #111;\n",
       "}\n",
       "\n",
       "/* Put a solid color box around each cell and its output, visually linking them*/\n",
       "div.cell.code_cell {\n",
       "    background-color: rgb(256,256,256);\n",
       "    border-radius: 0px;\n",
       "    padding: 0.5em;\n",
       "    margin-left:1em;\n",
       "    margin-top: 1em;\n",
       "}\n",
       "\n",
       "div.text_cell_render{\n",
       "    font-family: 'Alegreya Sans' sans-serif;\n",
       "    line-height: 140%;\n",
       "    font-size: 125%;\n",
       "    font-weight: 400;\n",
       "    width:800px;\n",
       "    margin-left:auto;\n",
       "    margin-right:auto;\n",
       "}\n",
       "\n",
       "\n",
       "/* Formatting for header cells */\n",
       ".text_cell_render h1 {\n",
       "    font-family: 'Nixie One', serif;\n",
       "    font-style:regular;\n",
       "    font-weight: 400;\n",
       "    font-size: 45pt;\n",
       "    line-height: 100%;\n",
       "    color: rgb(0,51,102);\n",
       "    margin-bottom: 0.5em;\n",
       "    margin-top: 0.5em;\n",
       "    display: block;\n",
       "}\n",
       "\n",
       ".text_cell_render h2 {\n",
       "    font-family: 'Nixie One', serif;\n",
       "    font-weight: 400;\n",
       "    font-size: 30pt;\n",
       "    line-height: 100%;\n",
       "    color: rgb(0,51,102);\n",
       "    margin-bottom: 0.1em;\n",
       "    margin-top: 0.3em;\n",
       "    display: block;\n",
       "}\n",
       "\n",
       ".text_cell_render h3 {\n",
       "    font-family: 'Nixie One', serif;\n",
       "    margin-top:16px;\n",
       "    font-size: 22pt;\n",
       "    font-weight: 600;\n",
       "    margin-bottom: 3px;\n",
       "    font-style: regular;\n",
       "    color: rgb(102,102,0);\n",
       "}\n",
       "\n",
       ".text_cell_render h4 {    /*Use this for captions*/\n",
       "    font-family: 'Nixie One', serif;\n",
       "    font-size: 14pt;\n",
       "    text-align: center;\n",
       "    margin-top: 0em;\n",
       "    margin-bottom: 2em;\n",
       "    font-style: regular;\n",
       "}\n",
       "\n",
       ".text_cell_render h5 {  /*Use this for small titles*/\n",
       "    font-family: 'Nixie One', sans-serif;\n",
       "    font-weight: 400;\n",
       "    font-size: 16pt;\n",
       "    color: rgb(163,0,0);\n",
       "    font-style: italic;\n",
       "    margin-bottom: .1em;\n",
       "    margin-top: 0.8em;\n",
       "    display: block;\n",
       "}\n",
       "\n",
       ".text_cell_render h6 { /*use this for copyright note*/\n",
       "    font-family: 'PT Mono', sans-serif;\n",
       "    font-weight: 300;\n",
       "    font-size: 9pt;\n",
       "    line-height: 100%;\n",
       "    color: grey;\n",
       "    margin-bottom: 1px;\n",
       "    margin-top: 1px;\n",
       "}\n",
       "\n",
       ".CodeMirror{\n",
       "    font-family: \"PT Mono\";\n",
       "    font-size: 90%;\n",
       "}\n",
       "\n",
       ".boxed { /* draw a border around a piece of text */\n",
       "  border: 1px solid blue ;\n",
       "}\n",
       "\n",
       "h4#CODE-EXAMPLE,\n",
       "h4#END-OF-CODE-EXAMPLE {\n",
       "    margin: 10px 0;\n",
       "    padding: 10px;\n",
       "    background-color: #d0f9ca !important;\n",
       "    border-top: #849f81 1px solid;\n",
       "    border-bottom: #849f81 1px solid;\n",
       "}\n",
       "\n",
       ".emphasis {\n",
       "    color: red;\n",
       "}\n",
       "\n",
       ".exercise {\n",
       "    color: green;\n",
       "}\n",
       "\n",
       ".proof {\n",
       "    color: blue;\n",
       "}\n",
       "\n",
       "code {\n",
       "  padding: 2px 4px !important;\n",
       "  font-size: 90% !important;\n",
       "  color: #222 !important;\n",
       "  background-color: #efefef !important;\n",
       "  border-radius: 2px !important;\n",
       "}\n",
       "\n",
       "/* This removes the actual style cells from the notebooks, but no in print mode\n",
       "   as they will be removed through some other method */\n",
       "@media not print {\n",
       "  .cell:nth-last-child(-n+2) {\n",
       "    display: none;\n",
       "  }\n",
       "}\n",
       "\n",
       "footer.hidden-print {\n",
       "    display: none !important;\n",
       "}\n",
       "    \n",
       "</style>\n",
       "\n",
       "<!-- MathJax styling -->\n",
       "<script>\n",
       "    MathJax.Hub.Config({\n",
       "                        CommonHTML: {\n",
       "                            scale: 200\n",
       "                        },\n",
       "                TeX: {\n",
       "                    extensions: [\"AMSmath.js\"],\n",
       "                    equationNumbers: { autoNumber: \"AMS\", useLabelIds: true}\n",
       "                },\n",
       "                tex2jax: {\n",
       "                    inlineMath: [ ['$','$'], [\"\\\\(\",\"\\\\)\"] ],\n",
       "                    displayMath: [ ['$$','$$'], [\"\\\\[\",\"\\\\]\"] ]\n",
       "                },\n",
       "                displayAlign: 'center', // Change this to 'center' to center equations.\n",
       "                \"HTML-CSS\": {\n",
       "                    styles: {'.MathJax_Display': {\"margin\": 4}}\n",
       "                }\n",
       "        });\n",
       "</script>\n"
      ]
     },
     "metadata": {},
     "output_type": "display_data"
    }
   ],
   "source": [
    "open(\"../../styles/aipstyle.html\") do f\n",
    "    display(\"text/html\", read(f,String))\n",
    "end"
   ]
  }
 ],
 "metadata": {
  "@webio": {
   "lastCommId": null,
   "lastKernelId": null
  },
  "anaconda-cloud": {},
  "celltoolbar": "Slideshow",
  "kernelspec": {
   "display_name": "Julia 1.10.4",
   "language": "julia",
   "name": "julia-1.10"
  },
  "language_info": {
   "file_extension": ".jl",
   "mimetype": "application/julia",
   "name": "julia",
   "version": "1.10.4"
  }
 },
 "nbformat": 4,
 "nbformat_minor": 4
}
