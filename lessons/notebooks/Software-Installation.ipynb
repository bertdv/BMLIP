{
 "cells": [
  {
   "cell_type": "markdown",
   "metadata": {
    "slideshow": {
     "slide_type": "slide"
    }
   },
   "source": [
    "# 5SSD0 Software Installation \n",
    "\n",
    "- Please download the course materials from [Github](https://github.com/bertdv/BMLIP) by pressing the green `Code` button and selecting `Download ZIP`. If you're familiar with git, we recommend cloning the repository.\n",
    "\n",
    "- You will need certain pieces of software (VS Code, Julia, and Jupyter) to execute the lecture notebooks and work on the programming assignments. The instructions below will help you install them."
   ]
  },
  {
   "cell_type": "markdown",
   "metadata": {
    "slideshow": {
     "slide_type": "slide"
    }
   },
   "source": [
    "### For Windows Users\n",
    "\n",
    "- We shall use `juliaup`, a program that manages versions of the Julia kernel. You can download `juliaup` from the [Windows store](https://apps.microsoft.com/detail/9njnww8pvkmn?rtc=1&hl=en-us&gl=NL). \n",
    "\n",
    "- After installation, go to your Start menu, type `cmd` and open the Command Prompt. Now run `juliaup add lts` and `juliaup default lts`. This adds the long-term stable version of the Julia kernel and sets it as the default. If you open Julia now (see Start menu), it should report `Version 1.10.5`.\n",
    "\n",
    "- Download [VS Code](https://code.visualstudio.com/Download) and follow the installation procedure.\n",
    "\n",
    "- Open VS Code and press the Extensions button in the left toolbar (the four cubes symbol; `Ctrl+Shift+X`). Search for and install the following three extensions: `Python`, `Julia`, and `Jupyter`.\n",
    "\n",
    "- In VS Code, go to `File` (top toolbar), and press `Open Folder` (`Ctrl+K+O`). Navigate to and select the `BMLIP` folder that you downloaded from Github. This will be your development environment for the course.\n",
    "\n",
    "- To test for a succesful software installation, open one of the lesson notebooks (in the folder `lessons/notebooks/`) and select kernel on the top right. It should display the option `Julia` and then `julia lts channel`. You can then press the `run all` button on the top toolbar."
   ]
  },
  {
   "cell_type": "markdown",
   "metadata": {
    "slideshow": {
     "slide_type": "slide"
    }
   },
   "source": [
    "### For Mac/Linux Users\n",
    "\n",
    "- For Julia, we shall use `juliaup`, a program that manages versions of the Julia kernel. Open a terminal and execute\n",
    "   ```sh\n",
    "   curl -fsSL https://install.julialang.org | sh\n",
    "   ```\n",
    "   After installing `juliaup`, enter the following commands in the terminal to add the `lts` (long-term stable) version of the Julia kernel.\n",
    "   ```sh\n",
    "   juliaup add lts\n",
    "   juliaup default lts\n",
    "   ```\n",
    "   To check which version of Julia you're running, execute `juliaup status` in a terminal. It should have an asterisk in front of the `lts` version.\n",
    "\n",
    "- Next, go to the [VS Code website](https://code.visualstudio.com/Download), and download the installer for your Linux distro / Apple CPU and follow the installation procedure.\n",
    "\n",
    "- Open VS Code and press the `Extensions` button in the left toolbar (the four cubes symbol; `Ctrl+Shift+X`). Search for and install the following three extensions: `Python`, `Julia` and `Jupyter`.\n",
    "\n",
    "- In VS Code, go to `File` (top toolbar), and press `Open Folder` (`Ctrl/Cmd+K+O`). Navigate to and select the `BMLIP` folder that you downloaded from Github. This will be your development environment for the course.\n",
    "\n",
    "- To test for a succesful software installation, open one of the lesson notebooks (in the folder `lessons/notebooks/`) and then press `Select kernel` on the top right. It should display the option `Julia`, and then `julia lts channel`. Finalize the test with `run all` (top toolbar).\n"
   ]
  }
 ],
 "metadata": {
  "@webio": {
   "lastCommId": null,
   "lastKernelId": null
  },
  "anaconda-cloud": {},
  "celltoolbar": "Slideshow",
  "kernelspec": {
   "display_name": "Julia 1.10.4",
   "language": "julia",
   "name": "julia-1.10"
  },
  "language_info": {
   "file_extension": ".jl",
   "mimetype": "application/julia",
   "name": "julia",
   "version": "1.10.4"
  }
 },
 "nbformat": 4,
 "nbformat_minor": 4
}
