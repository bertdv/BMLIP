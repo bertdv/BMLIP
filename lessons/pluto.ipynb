{
 "cells": [
  {
   "cell_type": "code",
   "execution_count": 3,
   "id": "c5605a40-a2cc-4d9b-8ee3-5d95e36338cd",
   "metadata": {},
   "outputs": [
    {
     "name": "stderr",
     "output_type": "stream",
     "text": [
      "\u001b[32m\u001b[1m  Activating\u001b[22m\u001b[39m project at `~/git/bertdv/BMLIP/lessons`\n"
     ]
    }
   ],
   "source": [
    "using Pkg\n",
    "Pkg.activate(\".\")\n",
    "Pkg.instantiate()"
   ]
  },
  {
   "cell_type": "code",
   "execution_count": null,
   "id": "0ffe308a-e916-4620-a905-3f8aca72ce0e",
   "metadata": {},
   "outputs": [],
   "source": [
    "Pkg.add(\"Pluto\")"
   ]
  },
  {
   "cell_type": "code",
   "execution_count": null,
   "id": "b9896745-12b7-4981-bfb3-7f8b0d335bdd",
   "metadata": {},
   "outputs": [
    {
     "name": "stderr",
     "output_type": "stream",
     "text": [
      "\u001b[36m\u001b[1m┌ \u001b[22m\u001b[39m\u001b[36m\u001b[1mInfo: \u001b[22m\u001b[39m\n",
      "\u001b[36m\u001b[1m│ \u001b[22m\u001b[39m  Welcome to Pluto v0.19.45 🎈\n",
      "\u001b[36m\u001b[1m│ \u001b[22m\u001b[39m  Start a notebook server using:\n",
      "\u001b[36m\u001b[1m│ \u001b[22m\u001b[39m\n",
      "\u001b[36m\u001b[1m│ \u001b[22m\u001b[39mjulia> Pluto.run()\n",
      "\u001b[36m\u001b[1m│ \u001b[22m\u001b[39m\n",
      "\u001b[36m\u001b[1m│ \u001b[22m\u001b[39m  Have a look at the FAQ:\n",
      "\u001b[36m\u001b[1m│ \u001b[22m\u001b[39m  https://github.com/fonsp/Pluto.jl/wiki\n",
      "\u001b[36m\u001b[1m└ \u001b[22m\u001b[39m\n",
      "\u001b[36m\u001b[1m[ \u001b[22m\u001b[39m\u001b[36m\u001b[1mInfo: \u001b[22m\u001b[39mLoading...\n",
      "\u001b[36m\u001b[1m┌ \u001b[22m\u001b[39m\u001b[36m\u001b[1mInfo: \u001b[22m\u001b[39m\n",
      "\u001b[36m\u001b[1m└ \u001b[22m\u001b[39mOpening http://localhost:1234/?secret=tJJJgnsA in your default browser... ~ have fun!\n",
      "\u001b[36m\u001b[1m┌ \u001b[22m\u001b[39m\u001b[36m\u001b[1mInfo: \u001b[22m\u001b[39m\n",
      "\u001b[36m\u001b[1m│ \u001b[22m\u001b[39mPress Ctrl+C in this terminal to stop Pluto\n",
      "\u001b[36m\u001b[1m└ \u001b[22m\u001b[39m\n"
     ]
    }
   ],
   "source": [
    "using Pluto\n",
    "Pluto.run()"
   ]
  },
  {
   "cell_type": "code",
   "execution_count": null,
   "id": "d237c695-feca-4ed4-909c-338484f8fdc9",
   "metadata": {},
   "outputs": [],
   "source": []
  }
 ],
 "metadata": {
  "kernelspec": {
   "display_name": "Julia 1.10.2",
   "language": "julia",
   "name": "julia-1.10"
  },
  "language_info": {
   "file_extension": ".jl",
   "mimetype": "application/julia",
   "name": "julia",
   "version": "1.10.2"
  }
 },
 "nbformat": 4,
 "nbformat_minor": 5
}
