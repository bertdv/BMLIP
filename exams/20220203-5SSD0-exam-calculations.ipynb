{
 "cells": [
  {
   "cell_type": "markdown",
   "id": "1bdf4342",
   "metadata": {},
   "source": [
    "### 3-Feb 2022 selected 5SSD0 exam calculations \n"
   ]
  },
  {
   "cell_type": "markdown",
   "id": "870d32ce",
   "metadata": {},
   "source": [
    "\n",
    "> (1c) \n",
    "$$\\begin{align*}\n",
    "B_{12} &\\triangleq \\frac{p(D|m_1)}{p(D|m_2)} \\\\\n",
    "&= \\frac{p(m_1|D)p(D)}{p(m_1)}\\cdot \\frac{p(m_2)}{p(m_2|D)p(D)} \\\\\n",
    "&= \\frac{p(m_1|D)}{p(m_2|D)} \\frac{p(m_2)}{p(m_1)}\n",
    "\\end{align*}$$\n"
   ]
  },
  {
   "cell_type": "markdown",
   "id": "8c242a4e",
   "metadata": {},
   "source": [
    "----------\n",
    "\n",
    "> (2b)\n",
    "$$\\begin{align*}\n",
    "p(y_{n1}=1|x_n) &= \\frac{p(x_n|y_{n1}=1)p(y_{n1}=1)}{p(x_n)} \\\\\n",
    "&= \\frac{p(x_n|y_{n1}=1)p(y_{n1}=1)}{p(x_n|y_{n1}=1)p(y_{n1}=1)+p(x_n|y_{n2}=1)p(y_{n2}=1)} \\\\\n",
    "&= \\frac{\\pi_1 \\mathcal{N}(x_n|\\mu_1,\\Sigma_1)}{\\pi_1 \\mathcal{N}(x_n|\\mu_1,\\Sigma_1) + \\pi_2 \\mathcal{N}(x_n|\\mu_2,\\Sigma_2)} \n",
    "\\end{align*}$$\n",
    "\n",
    "> (2c)\n",
    "$$\\begin{align*}\n",
    "\\log p(D|\\theta) &= \\log \\prod_{n=1}^N p(x_n,y_n|\\theta) \\\\\n",
    "&= \\sum_{n=1}^N \\log \\biggl(\\prod_{k=1}^K (\\pi_k \\mathcal{N}(x_n|\\mu_k,\\Sigma_k))^{y_{nk}} \\biggr) \\\\\n",
    "&= \\sum_{n=1}^N \\sum_{k=1}^K y_{nk} \\bigl( \\log\\pi_k + \\log\\mathcal{N}(x_n|\\mu_k,\\Sigma_k) \\bigr) \n",
    "\\end{align*}$$\n",
    "\n",
    "\n",
    "> (2d)\n",
    "\n",
    "This is a hard derivation. You should be able to select the correct answer easily because the correct answer computes the sample variance where the samples are selected by $y_{n2}$. The answer can be derived as follows. We take the derivative of $\\log p(D|\\theta)$ to the precision $\\Sigma_2^{-1}$.\n",
    "$$\\begin{align*}\n",
    "\\nabla_{\\Sigma_2^{-1}}  &\\log p(D|\\theta) = \\nabla_{\\Sigma_2^{-1}} \\biggl(\\sum_{n=1}^N \\sum_{k=1}^K y_{nk} \\bigl( \\log\\mathcal{N}(x_n|\\mu_k,\\Sigma_k) + \\log\\pi_k \\bigr) \\biggr) \\\\\n",
    "&= \\nabla_{\\Sigma_2^{-1}} \\biggl( \\sum_{n=1}^N y_{n2}\\bigl(\\log|\\Sigma_2|^{-1/2} -\\frac{1}{2}(x_n-\\hat{\\mu}_2)^T\\Sigma_2^{-1}(x_n-\\hat{\\mu}_2)\\bigr)\\biggr)\\\\\n",
    "&= \\sum_{n=1}^N y_{n2}\\bigl( \\Sigma_2 - (x_n-\\hat{\\mu}_2)(x_n-\\hat{\\mu}_2)^T\\bigr)\\,.\n",
    "\\end{align*}$$\n",
    "Set the derivative to $0$ to get\n",
    "$$\\begin{align*}\n",
    "\\hat{\\Sigma}_2 = \\frac{1}{\\sum_{n=1}^N y_{n2}} \\sum_{n=1}^N y_{n2}(x_n-\\hat{\\mu}_2)(x_n-\\hat{\\mu}_2)^T\n",
    "\\end{align*}$$"
   ]
  },
  {
   "cell_type": "markdown",
   "id": "8f5691c5",
   "metadata": {},
   "source": [
    "-------------\n",
    "\n",
    "> (3b)\n",
    "$$\\begin{align*}\n",
    "p(D|\\mu) = \\prod_n p(x_n|\\mu) = \\mu^2 (1-\\mu)^5 \n",
    "\\end{align*}$$\n",
    "\n",
    "> (3c)\n",
    "\n",
    "The posterior will be a beta distribution because the beta distribution is conjugate to the Bernoulli distribution. We only need to calculate the parameters $\\alpha$ and $\\beta$:\n",
    "$$\\begin{align*}\n",
    "p(\\mu|D) &\\propto p(D|\\mu) p(\\mu) \\\\\n",
    "&= \\mu^2 (1-\\mu)^5 \\cdot\\mathrm{Beta}(\\mu|3,2) \\\\\n",
    "&\\propto \\mu^2 (1-\\mu)^5 \\mu^2(1-\\mu)^1 \\\\\n",
    "&= \\mu^4 (1-\\mu)^6 \\\\\n",
    "&\\propto \\mathrm{Beta}(\\mu|5,7)\n",
    "\\end{align*}$$\n",
    "\n",
    "> (3d)\n",
    "$$\\begin{align*}\n",
    "p(x_{N+1}=1|D) &= \\int p(x_{N+1}=1|\\mu) p(\\mu|D) \\mathrm{d}\\mu \\\\\n",
    "&= \\int \\mu \\cdot \\mathrm{Beta}(\\mu|5,7) \\mathrm{d}\\mu \\\\\n",
    "&= \\frac{5}{5+7} = \\frac{5}{12}\n",
    "\\end{align*}$$"
   ]
  },
  {
   "cell_type": "markdown",
   "id": "25bb25cf",
   "metadata": {},
   "source": [
    "------------\n",
    "\n",
    "> (4a)\n",
    "$$\\begin{align*}\n",
    "p(x=1|m_1) &= \\int_0^1 p(x=1|\\theta,m_1) p(\\theta|m_1) \\mathrm{d}\\theta \\\\\n",
    "&= \\int_0^1 \\theta \\cdot 6 \\theta (1-\\theta) \\mathrm{d}\\theta \\\\\n",
    "&= 6 \\biggl[ \\frac{1}{3}\\theta^3 - \\frac{1}{4}\\theta^4\\biggr]_0^1 \\\\\n",
    "&= 6 \\cdot \\frac{1}{12} = 0.5\n",
    "\\end{align*}$$\n",
    "\n",
    "> (4b)\n",
    "$$\\begin{align*}\n",
    "p(\\theta|x=1,m_1) &= \\frac{p(\\theta,x=1|m_1)}{p(x=1|m_1)} \\\\\n",
    "&= \\frac{p(x=1|\\theta,m_1) p(\\theta|m_1)}{\\int p(x=1|\\theta,m_1) p(\\theta|m_1)\\mathrm{d}\\theta} \\\\\n",
    "&= \\frac{\\theta \\cdot 6\\theta (1-\\theta)}{0.5} \\\\\n",
    "&= 12 \\theta^2 (1-\\theta)\n",
    "\\end{align*}$$\n",
    "\n",
    "> (4c)\n",
    "$$\\begin{align*}\n",
    "p(x=1|m_2) &= \\int_0^1 p(x=1|\\theta,m_2) p(\\theta|m_2) \\mathrm{d}\\theta \\\\\n",
    "&= \\int_0^1 (1-\\theta) 2\\theta \\mathrm{d}\\theta \\\\\n",
    "&= 2 \\biggl[ \\frac{1}{2}\\theta^2 - \\frac{1}{3} \\theta^3\\biggr]_0^1 \\\\\n",
    "&= 2\\cdot \\frac{1}{6} = \\frac{1}{3}\n",
    "\\end{align*}$$\n",
    "\n",
    "> (4d)\n",
    "$$\\begin{align*}\n",
    "p(x=1) &= p(x=1|m_1)p(m_1) + p(x=1|m_2) p(m_2) \\\\\n",
    "&= \\frac{1}{2}\\cdot \\frac{1}{3} + \\frac{1}{3}\\cdot \\frac{2}{3} = \\frac{7}{18}\n",
    "\\end{align*}$$\n",
    "\n",
    "> (4e)\n",
    "$$\\begin{align*}\n",
    "\\frac{p(m_1|x=1)}{p(m_2|x=1)} &= \\frac{p(x=1|m_1)p(m_1)}{p(x=1|m_2)p(m_2)} \\\\\n",
    "&= \\frac{\\frac{1}{2}\\cdot \\frac{1}{3}}{\\frac{1}{3}\\cdot \\frac{2}{3}} = \\frac{3}{4}\n",
    "\\end{align*}$$\n"
   ]
  },
  {
   "cell_type": "markdown",
   "id": "9de3ffe0",
   "metadata": {},
   "source": [
    "----------\n",
    "\n",
    "> (5a)\n",
    "$$\\begin{align*}\n",
    "p(z_t | x_{1:t}) &= p(z_t | x_t, x_{1:t-1}) \\\\\n",
    "&= \\frac{p(x_t | z_t, x_{1:t-1}) p(z_t|x_{1:t-1})}{p(x_t|x_{1:t-1})} \\quad \\text{(Bayes rule)}\\\\\n",
    "&\\propto p(x_t | z_t) p(z_t|x_{1:t-1}) \\quad \\text{(denominator not a function of }z_t\\text{)} \\\\\n",
    "&= p(x_t | z_t) \\sum_{z_{t-1}}p(z_t,z_{t-1}|x_{1:t-1}) \\quad \\text{(extend conversation with }z_{t-1}\\text{)} \\\\\n",
    "&= p(x_t | z_t) \\sum_{z_{t-1}}p(z_t|z_{t-1})p(z_{t-1}|x_{1:t-1})\n",
    "\\end{align*}$$"
   ]
  },
  {
   "cell_type": "markdown",
   "id": "5d2eb873",
   "metadata": {},
   "source": []
  }
 ],
 "metadata": {
  "kernelspec": {
   "display_name": "Julia 1.10.4",
   "language": "julia",
   "name": "julia-1.10"
  },
  "language_info": {
   "file_extension": ".jl",
   "mimetype": "application/julia",
   "name": "julia",
   "version": "1.10.4"
  }
 },
 "nbformat": 4,
 "nbformat_minor": 5
}
